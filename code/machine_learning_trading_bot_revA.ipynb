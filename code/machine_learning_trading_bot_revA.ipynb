{
 "cells": [
  {
   "cell_type": "markdown",
   "metadata": {},
   "source": [
    "# Machine Learning Trading Bot\n",
    "\n",
    "In this Challenge, you’ll assume the role of a financial advisor at one of the top five financial advisory firms in the world. Your firm constantly competes with the other major firms to manage and automatically trade assets in a highly dynamic environment. In recent years, your firm has heavily profited by using computer algorithms that can buy and sell faster than human traders.\n",
    "\n",
    "The speed of these transactions gave your firm a competitive advantage early on. But, people still need to specifically program these systems, which limits their ability to adapt to new data. You’re thus planning to improve the existing algorithmic trading systems and maintain the firm’s competitive advantage in the market. To do so, you’ll enhance the existing trading signals with machine learning algorithms that can adapt to new data.\n",
    "\n",
    "## Instructions:\n",
    "\n",
    "Use the starter code file to complete the steps that the instructions outline. The steps for this Challenge are divided into the following sections:\n",
    "\n",
    "* Establish a Baseline Performance\n",
    "\n",
    "* Tune the Baseline Trading Algorithm\n",
    "\n",
    "* Evaluate a New Machine Learning Classifier\n",
    "\n",
    "* Create an Evaluation Report\n",
    "\n",
    "#### Establish a Baseline Performance\n",
    "\n",
    "In this section, you’ll run the provided starter code to establish a baseline performance for the trading algorithm. To do so, complete the following steps.\n",
    "\n",
    "Open the Jupyter notebook. Restart the kernel, run the provided cells that correspond with the first three steps, and then proceed to step four. \n",
    "\n",
    "1. Import the OHLCV dataset into a Pandas DataFrame.\n",
    "\n",
    "2. Generate trading signals using short- and long-window SMA values. \n",
    "\n",
    "3. Split the data into training and testing datasets.\n",
    "\n",
    "4. Use the `SVC` classifier model from SKLearn's support vector machine (SVM) learning method to fit the training data and make predictions based on the testing data. Review the predictions.\n",
    "\n",
    "5. Review the classification report associated with the `SVC` model predictions. \n",
    "\n",
    "6. Create a predictions DataFrame that contains columns for “Predicted” values, “Actual Returns”, and “Strategy Returns”.\n",
    "\n",
    "7. Create a cumulative return plot that shows the actual returns vs. the strategy returns. Save a PNG image of this plot. This will serve as a baseline against which to compare the effects of tuning the trading algorithm.\n",
    "\n",
    "8. Write your conclusions about the performance of the baseline trading algorithm in the `README.md` file that’s associated with your GitHub repository. Support your findings by using the PNG image that you saved in the previous step.\n",
    "\n",
    "#### Tune the Baseline Trading Algorithm\n",
    "\n",
    "In this section, you’ll tune, or adjust, the model’s input features to find the parameters that result in the best trading outcomes. (You’ll choose the best by comparing the cumulative products of the strategy returns.) To do so, complete the following steps:\n",
    "\n",
    "1. Tune the training algorithm by adjusting the size of the training dataset. To do so, slice your data into different periods. Rerun the notebook with the updated parameters, and record the results in your `README.md` file. Answer the following question: What impact resulted from increasing or decreasing the training window?\n",
    "\n",
    "> **Hint** To adjust the size of the training dataset, you can use a different `DateOffset` value&mdash;for example, six months. Be aware that changing the size of the training dataset also affects the size of the testing dataset.\n",
    "\n",
    "2. Tune the trading algorithm by adjusting the SMA input features. Adjust one or both of the windows for the algorithm. Rerun the notebook with the updated parameters, and record the results in your `README.md` file. Answer the following question: What impact resulted from increasing or decreasing either or both of the SMA windows?\n",
    "\n",
    "3. Choose the set of parameters that best improved the trading algorithm returns. Save a PNG image of the cumulative product of the actual returns vs. the strategy returns, and document your conclusion in your `README.md` file.\n",
    "\n",
    "#### Evaluate a New Machine Learning Classifier\n",
    "\n",
    "In this section, you’ll use the original parameters that the starter code provided. But, you’ll apply them to the performance of a second machine learning model. To do so, complete the following steps:\n",
    "\n",
    "1. Import a new classifier, such as `AdaBoost`, `DecisionTreeClassifier`, or `LogisticRegression`. (For the full list of classifiers, refer to the [Supervised learning page](https://scikit-learn.org/stable/supervised_learning.html) in the scikit-learn documentation.)\n",
    "\n",
    "2. Using the original training data as the baseline model, fit another model with the new classifier.\n",
    "\n",
    "3. Backtest the new model to evaluate its performance. Save a PNG image of the cumulative product of the actual returns vs. the strategy returns for this updated trading algorithm, and write your conclusions in your `README.md` file. Answer the following questions: Did this new model perform better or worse than the provided baseline model? Did this new model perform better or worse than your tuned trading algorithm?\n",
    "\n",
    "#### Create an Evaluation Report\n",
    "\n",
    "In the previous sections, you updated your `README.md` file with your conclusions. To accomplish this section, you need to add a summary evaluation report at the end of the `README.md` file. For this report, express your final conclusions and analysis. Support your findings by using the PNG images that you created.\n"
   ]
  },
  {
   "cell_type": "code",
   "execution_count": 80,
   "metadata": {},
   "outputs": [],
   "source": [
    "# Imports\n",
    "import pandas as pd\n",
    "import numpy as np\n",
    "from pathlib import Path\n",
    "import hvplot.pandas\n",
    "import matplotlib.pyplot as plt\n",
    "from sklearn import svm\n",
    "from sklearn.preprocessing import StandardScaler\n",
    "from pandas.tseries.offsets import DateOffset\n",
    "from sklearn.metrics import classification_report\n",
    "from sklearn.metrics import accuracy_score\n",
    "from sklearn.metrics import confusion_matrix\n"
   ]
  },
  {
   "cell_type": "markdown",
   "metadata": {},
   "source": [
    "---\n",
    "\n",
    "## Establish a Baseline Performance\n",
    "\n",
    "In this section, you’ll run the provided starter code to establish a baseline performance for the trading algorithm. To do so, complete the following steps.\n",
    "\n",
    "Open the Jupyter notebook. Restart the kernel, run the provided cells that correspond with the first three steps, and then proceed to step four. \n"
   ]
  },
  {
   "cell_type": "markdown",
   "metadata": {},
   "source": [
    "### Step 1: Import the OHLCV dataset into a Pandas DataFrame."
   ]
  },
  {
   "cell_type": "code",
   "execution_count": 81,
   "metadata": {},
   "outputs": [
    {
     "data": {
      "text/html": [
       "<div>\n",
       "<style scoped>\n",
       "    .dataframe tbody tr th:only-of-type {\n",
       "        vertical-align: middle;\n",
       "    }\n",
       "\n",
       "    .dataframe tbody tr th {\n",
       "        vertical-align: top;\n",
       "    }\n",
       "\n",
       "    .dataframe thead th {\n",
       "        text-align: right;\n",
       "    }\n",
       "</style>\n",
       "<table border=\"1\" class=\"dataframe\">\n",
       "  <thead>\n",
       "    <tr style=\"text-align: right;\">\n",
       "      <th></th>\n",
       "      <th>open</th>\n",
       "      <th>high</th>\n",
       "      <th>low</th>\n",
       "      <th>close</th>\n",
       "      <th>volume</th>\n",
       "    </tr>\n",
       "    <tr>\n",
       "      <th>date</th>\n",
       "      <th></th>\n",
       "      <th></th>\n",
       "      <th></th>\n",
       "      <th></th>\n",
       "      <th></th>\n",
       "    </tr>\n",
       "  </thead>\n",
       "  <tbody>\n",
       "    <tr>\n",
       "      <th>2015-01-21 09:30:00</th>\n",
       "      <td>23.83</td>\n",
       "      <td>23.83</td>\n",
       "      <td>23.83</td>\n",
       "      <td>23.83</td>\n",
       "      <td>100</td>\n",
       "    </tr>\n",
       "    <tr>\n",
       "      <th>2015-01-21 11:00:00</th>\n",
       "      <td>23.98</td>\n",
       "      <td>23.98</td>\n",
       "      <td>23.98</td>\n",
       "      <td>23.98</td>\n",
       "      <td>100</td>\n",
       "    </tr>\n",
       "    <tr>\n",
       "      <th>2015-01-22 15:00:00</th>\n",
       "      <td>24.42</td>\n",
       "      <td>24.42</td>\n",
       "      <td>24.42</td>\n",
       "      <td>24.42</td>\n",
       "      <td>100</td>\n",
       "    </tr>\n",
       "    <tr>\n",
       "      <th>2015-01-22 15:15:00</th>\n",
       "      <td>24.42</td>\n",
       "      <td>24.44</td>\n",
       "      <td>24.42</td>\n",
       "      <td>24.44</td>\n",
       "      <td>200</td>\n",
       "    </tr>\n",
       "    <tr>\n",
       "      <th>2015-01-22 15:30:00</th>\n",
       "      <td>24.46</td>\n",
       "      <td>24.46</td>\n",
       "      <td>24.46</td>\n",
       "      <td>24.46</td>\n",
       "      <td>200</td>\n",
       "    </tr>\n",
       "  </tbody>\n",
       "</table>\n",
       "</div>"
      ],
      "text/plain": [
       "                      open   high    low  close  volume\n",
       "date                                                   \n",
       "2015-01-21 09:30:00  23.83  23.83  23.83  23.83     100\n",
       "2015-01-21 11:00:00  23.98  23.98  23.98  23.98     100\n",
       "2015-01-22 15:00:00  24.42  24.42  24.42  24.42     100\n",
       "2015-01-22 15:15:00  24.42  24.44  24.42  24.44     200\n",
       "2015-01-22 15:30:00  24.46  24.46  24.46  24.46     200"
      ]
     },
     "execution_count": 81,
     "metadata": {},
     "output_type": "execute_result"
    }
   ],
   "source": [
    "# Import the OHLCV dataset into a Pandas Dataframe\n",
    "ohlcv_df = pd.read_csv(\n",
    "    Path(\"../data/emerging_markets_ohlcv.csv\"), \n",
    "    index_col='date', \n",
    "    infer_datetime_format=True, \n",
    "    parse_dates=True\n",
    ")\n",
    "\n",
    "# Review the DataFrame\n",
    "ohlcv_df.head()"
   ]
  },
  {
   "cell_type": "code",
   "execution_count": 82,
   "metadata": {},
   "outputs": [
    {
     "data": {
      "text/html": [
       "<div>\n",
       "<style scoped>\n",
       "    .dataframe tbody tr th:only-of-type {\n",
       "        vertical-align: middle;\n",
       "    }\n",
       "\n",
       "    .dataframe tbody tr th {\n",
       "        vertical-align: top;\n",
       "    }\n",
       "\n",
       "    .dataframe thead th {\n",
       "        text-align: right;\n",
       "    }\n",
       "</style>\n",
       "<table border=\"1\" class=\"dataframe\">\n",
       "  <thead>\n",
       "    <tr style=\"text-align: right;\">\n",
       "      <th></th>\n",
       "      <th>close</th>\n",
       "      <th>Actual Returns</th>\n",
       "    </tr>\n",
       "    <tr>\n",
       "      <th>date</th>\n",
       "      <th></th>\n",
       "      <th></th>\n",
       "    </tr>\n",
       "  </thead>\n",
       "  <tbody>\n",
       "    <tr>\n",
       "      <th>2015-01-21 11:00:00</th>\n",
       "      <td>23.98</td>\n",
       "      <td>0.006295</td>\n",
       "    </tr>\n",
       "    <tr>\n",
       "      <th>2015-01-22 15:00:00</th>\n",
       "      <td>24.42</td>\n",
       "      <td>0.018349</td>\n",
       "    </tr>\n",
       "    <tr>\n",
       "      <th>2015-01-22 15:15:00</th>\n",
       "      <td>24.44</td>\n",
       "      <td>0.000819</td>\n",
       "    </tr>\n",
       "    <tr>\n",
       "      <th>2015-01-22 15:30:00</th>\n",
       "      <td>24.46</td>\n",
       "      <td>0.000818</td>\n",
       "    </tr>\n",
       "    <tr>\n",
       "      <th>2015-01-26 12:30:00</th>\n",
       "      <td>24.33</td>\n",
       "      <td>-0.005315</td>\n",
       "    </tr>\n",
       "  </tbody>\n",
       "</table>\n",
       "</div>"
      ],
      "text/plain": [
       "                     close  Actual Returns\n",
       "date                                      \n",
       "2015-01-21 11:00:00  23.98        0.006295\n",
       "2015-01-22 15:00:00  24.42        0.018349\n",
       "2015-01-22 15:15:00  24.44        0.000819\n",
       "2015-01-22 15:30:00  24.46        0.000818\n",
       "2015-01-26 12:30:00  24.33       -0.005315"
      ]
     },
     "metadata": {},
     "output_type": "display_data"
    },
    {
     "data": {
      "text/html": [
       "<div>\n",
       "<style scoped>\n",
       "    .dataframe tbody tr th:only-of-type {\n",
       "        vertical-align: middle;\n",
       "    }\n",
       "\n",
       "    .dataframe tbody tr th {\n",
       "        vertical-align: top;\n",
       "    }\n",
       "\n",
       "    .dataframe thead th {\n",
       "        text-align: right;\n",
       "    }\n",
       "</style>\n",
       "<table border=\"1\" class=\"dataframe\">\n",
       "  <thead>\n",
       "    <tr style=\"text-align: right;\">\n",
       "      <th></th>\n",
       "      <th>close</th>\n",
       "      <th>Actual Returns</th>\n",
       "    </tr>\n",
       "    <tr>\n",
       "      <th>date</th>\n",
       "      <th></th>\n",
       "      <th></th>\n",
       "    </tr>\n",
       "  </thead>\n",
       "  <tbody>\n",
       "    <tr>\n",
       "      <th>2021-01-22 09:30:00</th>\n",
       "      <td>33.27</td>\n",
       "      <td>-0.006866</td>\n",
       "    </tr>\n",
       "    <tr>\n",
       "      <th>2021-01-22 11:30:00</th>\n",
       "      <td>33.35</td>\n",
       "      <td>0.002405</td>\n",
       "    </tr>\n",
       "    <tr>\n",
       "      <th>2021-01-22 13:45:00</th>\n",
       "      <td>33.42</td>\n",
       "      <td>0.002099</td>\n",
       "    </tr>\n",
       "    <tr>\n",
       "      <th>2021-01-22 14:30:00</th>\n",
       "      <td>33.47</td>\n",
       "      <td>0.001496</td>\n",
       "    </tr>\n",
       "    <tr>\n",
       "      <th>2021-01-22 15:45:00</th>\n",
       "      <td>33.44</td>\n",
       "      <td>-0.000896</td>\n",
       "    </tr>\n",
       "  </tbody>\n",
       "</table>\n",
       "</div>"
      ],
      "text/plain": [
       "                     close  Actual Returns\n",
       "date                                      \n",
       "2021-01-22 09:30:00  33.27       -0.006866\n",
       "2021-01-22 11:30:00  33.35        0.002405\n",
       "2021-01-22 13:45:00  33.42        0.002099\n",
       "2021-01-22 14:30:00  33.47        0.001496\n",
       "2021-01-22 15:45:00  33.44       -0.000896"
      ]
     },
     "metadata": {},
     "output_type": "display_data"
    }
   ],
   "source": [
    "# Filter the date index and close columns\n",
    "signals_df = ohlcv_df.loc[:, [\"close\"]]\n",
    "\n",
    "# Use the pct_change function to generate returns from close prices\n",
    "signals_df[\"Actual Returns\"] = signals_df[\"close\"].pct_change()\n",
    "\n",
    "# Drop all NaN values from the DataFrame\n",
    "signals_df = signals_df.dropna()\n",
    "\n",
    "# Review the DataFrame\n",
    "display(signals_df.head())\n",
    "display(signals_df.tail())"
   ]
  },
  {
   "cell_type": "markdown",
   "metadata": {},
   "source": [
    "## Step 2: Generate trading signals using short- and long-window SMA values. "
   ]
  },
  {
   "cell_type": "code",
   "execution_count": 83,
   "metadata": {},
   "outputs": [
    {
     "data": {
      "text/html": [
       "<div>\n",
       "<style scoped>\n",
       "    .dataframe tbody tr th:only-of-type {\n",
       "        vertical-align: middle;\n",
       "    }\n",
       "\n",
       "    .dataframe tbody tr th {\n",
       "        vertical-align: top;\n",
       "    }\n",
       "\n",
       "    .dataframe thead th {\n",
       "        text-align: right;\n",
       "    }\n",
       "</style>\n",
       "<table border=\"1\" class=\"dataframe\">\n",
       "  <thead>\n",
       "    <tr style=\"text-align: right;\">\n",
       "      <th></th>\n",
       "      <th>close</th>\n",
       "      <th>Actual Returns</th>\n",
       "      <th>SMA_Fast</th>\n",
       "      <th>SMA_Slow</th>\n",
       "    </tr>\n",
       "    <tr>\n",
       "      <th>date</th>\n",
       "      <th></th>\n",
       "      <th></th>\n",
       "      <th></th>\n",
       "      <th></th>\n",
       "    </tr>\n",
       "  </thead>\n",
       "  <tbody>\n",
       "    <tr>\n",
       "      <th>2015-06-12 10:00:00</th>\n",
       "      <td>24.38</td>\n",
       "      <td>0.001232</td>\n",
       "      <td>25.2254</td>\n",
       "      <td>24.88590</td>\n",
       "    </tr>\n",
       "    <tr>\n",
       "      <th>2015-06-12 10:15:00</th>\n",
       "      <td>24.33</td>\n",
       "      <td>-0.002051</td>\n",
       "      <td>25.1916</td>\n",
       "      <td>24.88765</td>\n",
       "    </tr>\n",
       "    <tr>\n",
       "      <th>2015-06-12 11:00:00</th>\n",
       "      <td>24.25</td>\n",
       "      <td>-0.003288</td>\n",
       "      <td>25.1574</td>\n",
       "      <td>24.88680</td>\n",
       "    </tr>\n",
       "    <tr>\n",
       "      <th>2015-06-12 11:45:00</th>\n",
       "      <td>24.36</td>\n",
       "      <td>0.004536</td>\n",
       "      <td>25.1252</td>\n",
       "      <td>24.88640</td>\n",
       "    </tr>\n",
       "    <tr>\n",
       "      <th>2015-06-15 10:15:00</th>\n",
       "      <td>24.06</td>\n",
       "      <td>-0.012315</td>\n",
       "      <td>25.0862</td>\n",
       "      <td>24.88440</td>\n",
       "    </tr>\n",
       "  </tbody>\n",
       "</table>\n",
       "</div>"
      ],
      "text/plain": [
       "                     close  Actual Returns  SMA_Fast  SMA_Slow\n",
       "date                                                          \n",
       "2015-06-12 10:00:00  24.38        0.001232   25.2254  24.88590\n",
       "2015-06-12 10:15:00  24.33       -0.002051   25.1916  24.88765\n",
       "2015-06-12 11:00:00  24.25       -0.003288   25.1574  24.88680\n",
       "2015-06-12 11:45:00  24.36        0.004536   25.1252  24.88640\n",
       "2015-06-15 10:15:00  24.06       -0.012315   25.0862  24.88440"
      ]
     },
     "metadata": {},
     "output_type": "display_data"
    },
    {
     "data": {
      "text/html": [
       "<div>\n",
       "<style scoped>\n",
       "    .dataframe tbody tr th:only-of-type {\n",
       "        vertical-align: middle;\n",
       "    }\n",
       "\n",
       "    .dataframe tbody tr th {\n",
       "        vertical-align: top;\n",
       "    }\n",
       "\n",
       "    .dataframe thead th {\n",
       "        text-align: right;\n",
       "    }\n",
       "</style>\n",
       "<table border=\"1\" class=\"dataframe\">\n",
       "  <thead>\n",
       "    <tr style=\"text-align: right;\">\n",
       "      <th></th>\n",
       "      <th>close</th>\n",
       "      <th>Actual Returns</th>\n",
       "      <th>SMA_Fast</th>\n",
       "      <th>SMA_Slow</th>\n",
       "    </tr>\n",
       "    <tr>\n",
       "      <th>date</th>\n",
       "      <th></th>\n",
       "      <th></th>\n",
       "      <th></th>\n",
       "      <th></th>\n",
       "    </tr>\n",
       "  </thead>\n",
       "  <tbody>\n",
       "    <tr>\n",
       "      <th>2021-01-22 09:30:00</th>\n",
       "      <td>33.27</td>\n",
       "      <td>-0.006866</td>\n",
       "      <td>31.2232</td>\n",
       "      <td>29.05610</td>\n",
       "    </tr>\n",
       "    <tr>\n",
       "      <th>2021-01-22 11:30:00</th>\n",
       "      <td>33.35</td>\n",
       "      <td>0.002405</td>\n",
       "      <td>31.2848</td>\n",
       "      <td>29.08625</td>\n",
       "    </tr>\n",
       "    <tr>\n",
       "      <th>2021-01-22 13:45:00</th>\n",
       "      <td>33.42</td>\n",
       "      <td>0.002099</td>\n",
       "      <td>31.3480</td>\n",
       "      <td>29.11665</td>\n",
       "    </tr>\n",
       "    <tr>\n",
       "      <th>2021-01-22 14:30:00</th>\n",
       "      <td>33.47</td>\n",
       "      <td>0.001496</td>\n",
       "      <td>31.4132</td>\n",
       "      <td>29.14690</td>\n",
       "    </tr>\n",
       "    <tr>\n",
       "      <th>2021-01-22 15:45:00</th>\n",
       "      <td>33.44</td>\n",
       "      <td>-0.000896</td>\n",
       "      <td>31.4768</td>\n",
       "      <td>29.17835</td>\n",
       "    </tr>\n",
       "  </tbody>\n",
       "</table>\n",
       "</div>"
      ],
      "text/plain": [
       "                     close  Actual Returns  SMA_Fast  SMA_Slow\n",
       "date                                                          \n",
       "2021-01-22 09:30:00  33.27       -0.006866   31.2232  29.05610\n",
       "2021-01-22 11:30:00  33.35        0.002405   31.2848  29.08625\n",
       "2021-01-22 13:45:00  33.42        0.002099   31.3480  29.11665\n",
       "2021-01-22 14:30:00  33.47        0.001496   31.4132  29.14690\n",
       "2021-01-22 15:45:00  33.44       -0.000896   31.4768  29.17835"
      ]
     },
     "metadata": {},
     "output_type": "display_data"
    }
   ],
   "source": [
    "# Set the short window and long window\n",
    "short_window = 50\n",
    "long_window = 200\n",
    "\n",
    "# Generate the fast and slow simple moving averages (4 and 100 days, respectively)\n",
    "signals_df['SMA_Fast'] = signals_df['close'].rolling(window=short_window).mean()\n",
    "signals_df['SMA_Slow'] = signals_df['close'].rolling(window=long_window).mean()\n",
    "\n",
    "signals_df = signals_df.dropna()\n",
    "\n",
    "# Review the DataFrame\n",
    "display(signals_df.head())\n",
    "display(signals_df.tail())"
   ]
  },
  {
   "cell_type": "code",
   "execution_count": 84,
   "metadata": {},
   "outputs": [
    {
     "data": {
      "text/html": [
       "<div>\n",
       "<style scoped>\n",
       "    .dataframe tbody tr th:only-of-type {\n",
       "        vertical-align: middle;\n",
       "    }\n",
       "\n",
       "    .dataframe tbody tr th {\n",
       "        vertical-align: top;\n",
       "    }\n",
       "\n",
       "    .dataframe thead th {\n",
       "        text-align: right;\n",
       "    }\n",
       "</style>\n",
       "<table border=\"1\" class=\"dataframe\">\n",
       "  <thead>\n",
       "    <tr style=\"text-align: right;\">\n",
       "      <th></th>\n",
       "      <th>close</th>\n",
       "      <th>Actual Returns</th>\n",
       "      <th>SMA_Fast</th>\n",
       "      <th>SMA_Slow</th>\n",
       "      <th>Signal</th>\n",
       "    </tr>\n",
       "    <tr>\n",
       "      <th>date</th>\n",
       "      <th></th>\n",
       "      <th></th>\n",
       "      <th></th>\n",
       "      <th></th>\n",
       "      <th></th>\n",
       "    </tr>\n",
       "  </thead>\n",
       "  <tbody>\n",
       "    <tr>\n",
       "      <th>2015-06-12 10:00:00</th>\n",
       "      <td>24.38</td>\n",
       "      <td>0.001232</td>\n",
       "      <td>25.2254</td>\n",
       "      <td>24.88590</td>\n",
       "      <td>1.0</td>\n",
       "    </tr>\n",
       "    <tr>\n",
       "      <th>2015-06-12 10:15:00</th>\n",
       "      <td>24.33</td>\n",
       "      <td>-0.002051</td>\n",
       "      <td>25.1916</td>\n",
       "      <td>24.88765</td>\n",
       "      <td>-1.0</td>\n",
       "    </tr>\n",
       "    <tr>\n",
       "      <th>2015-06-12 11:00:00</th>\n",
       "      <td>24.25</td>\n",
       "      <td>-0.003288</td>\n",
       "      <td>25.1574</td>\n",
       "      <td>24.88680</td>\n",
       "      <td>-1.0</td>\n",
       "    </tr>\n",
       "    <tr>\n",
       "      <th>2015-06-12 11:45:00</th>\n",
       "      <td>24.36</td>\n",
       "      <td>0.004536</td>\n",
       "      <td>25.1252</td>\n",
       "      <td>24.88640</td>\n",
       "      <td>1.0</td>\n",
       "    </tr>\n",
       "    <tr>\n",
       "      <th>2015-06-15 10:15:00</th>\n",
       "      <td>24.06</td>\n",
       "      <td>-0.012315</td>\n",
       "      <td>25.0862</td>\n",
       "      <td>24.88440</td>\n",
       "      <td>-1.0</td>\n",
       "    </tr>\n",
       "  </tbody>\n",
       "</table>\n",
       "</div>"
      ],
      "text/plain": [
       "                     close  Actual Returns  SMA_Fast  SMA_Slow  Signal\n",
       "date                                                                  \n",
       "2015-06-12 10:00:00  24.38        0.001232   25.2254  24.88590     1.0\n",
       "2015-06-12 10:15:00  24.33       -0.002051   25.1916  24.88765    -1.0\n",
       "2015-06-12 11:00:00  24.25       -0.003288   25.1574  24.88680    -1.0\n",
       "2015-06-12 11:45:00  24.36        0.004536   25.1252  24.88640     1.0\n",
       "2015-06-15 10:15:00  24.06       -0.012315   25.0862  24.88440    -1.0"
      ]
     },
     "metadata": {},
     "output_type": "display_data"
    },
    {
     "data": {
      "text/html": [
       "<div>\n",
       "<style scoped>\n",
       "    .dataframe tbody tr th:only-of-type {\n",
       "        vertical-align: middle;\n",
       "    }\n",
       "\n",
       "    .dataframe tbody tr th {\n",
       "        vertical-align: top;\n",
       "    }\n",
       "\n",
       "    .dataframe thead th {\n",
       "        text-align: right;\n",
       "    }\n",
       "</style>\n",
       "<table border=\"1\" class=\"dataframe\">\n",
       "  <thead>\n",
       "    <tr style=\"text-align: right;\">\n",
       "      <th></th>\n",
       "      <th>close</th>\n",
       "      <th>Actual Returns</th>\n",
       "      <th>SMA_Fast</th>\n",
       "      <th>SMA_Slow</th>\n",
       "      <th>Signal</th>\n",
       "    </tr>\n",
       "    <tr>\n",
       "      <th>date</th>\n",
       "      <th></th>\n",
       "      <th></th>\n",
       "      <th></th>\n",
       "      <th></th>\n",
       "      <th></th>\n",
       "    </tr>\n",
       "  </thead>\n",
       "  <tbody>\n",
       "    <tr>\n",
       "      <th>2021-01-22 09:30:00</th>\n",
       "      <td>33.27</td>\n",
       "      <td>-0.006866</td>\n",
       "      <td>31.2232</td>\n",
       "      <td>29.05610</td>\n",
       "      <td>-1.0</td>\n",
       "    </tr>\n",
       "    <tr>\n",
       "      <th>2021-01-22 11:30:00</th>\n",
       "      <td>33.35</td>\n",
       "      <td>0.002405</td>\n",
       "      <td>31.2848</td>\n",
       "      <td>29.08625</td>\n",
       "      <td>1.0</td>\n",
       "    </tr>\n",
       "    <tr>\n",
       "      <th>2021-01-22 13:45:00</th>\n",
       "      <td>33.42</td>\n",
       "      <td>0.002099</td>\n",
       "      <td>31.3480</td>\n",
       "      <td>29.11665</td>\n",
       "      <td>1.0</td>\n",
       "    </tr>\n",
       "    <tr>\n",
       "      <th>2021-01-22 14:30:00</th>\n",
       "      <td>33.47</td>\n",
       "      <td>0.001496</td>\n",
       "      <td>31.4132</td>\n",
       "      <td>29.14690</td>\n",
       "      <td>1.0</td>\n",
       "    </tr>\n",
       "    <tr>\n",
       "      <th>2021-01-22 15:45:00</th>\n",
       "      <td>33.44</td>\n",
       "      <td>-0.000896</td>\n",
       "      <td>31.4768</td>\n",
       "      <td>29.17835</td>\n",
       "      <td>-1.0</td>\n",
       "    </tr>\n",
       "  </tbody>\n",
       "</table>\n",
       "</div>"
      ],
      "text/plain": [
       "                     close  Actual Returns  SMA_Fast  SMA_Slow  Signal\n",
       "date                                                                  \n",
       "2021-01-22 09:30:00  33.27       -0.006866   31.2232  29.05610    -1.0\n",
       "2021-01-22 11:30:00  33.35        0.002405   31.2848  29.08625     1.0\n",
       "2021-01-22 13:45:00  33.42        0.002099   31.3480  29.11665     1.0\n",
       "2021-01-22 14:30:00  33.47        0.001496   31.4132  29.14690     1.0\n",
       "2021-01-22 15:45:00  33.44       -0.000896   31.4768  29.17835    -1.0"
      ]
     },
     "metadata": {},
     "output_type": "display_data"
    }
   ],
   "source": [
    "# Initialize the new Signal column\n",
    "signals_df['Signal'] = 0.0\n",
    "\n",
    "# When Actual Returns are greater than or equal to 0, generate signal to buy stock long\n",
    "signals_df.loc[(signals_df['Actual Returns'] >= 0), 'Signal'] = 1\n",
    "\n",
    "# When Actual Returns are less than 0, generate signal to sell stock short\n",
    "signals_df.loc[(signals_df['Actual Returns'] < 0), 'Signal'] = -1\n",
    "\n",
    "# Review the DataFrame\n",
    "display(signals_df.head())\n",
    "display(signals_df.tail())"
   ]
  },
  {
   "cell_type": "code",
   "execution_count": 85,
   "metadata": {},
   "outputs": [],
   "source": [
    "# Calculate the points in time at which a position should be taken, 1 or -1\n",
    "signals_df['Entry/Exit'] = signals_df['Signal'].diff()\n"
   ]
  },
  {
   "cell_type": "code",
   "execution_count": 86,
   "metadata": {},
   "outputs": [
    {
     "data": {},
     "metadata": {},
     "output_type": "display_data"
    },
    {
     "data": {
      "application/vnd.holoviews_exec.v0+json": "",
      "text/html": [
       "<div id='1328'>\n",
       "  <div class=\"bk-root\" id=\"88f76e55-f1ab-4093-908a-5254ab6aacab\" data-root-id=\"1328\"></div>\n",
       "</div>\n",
       "<script type=\"application/javascript\">(function(root) {\n",
       "  function embed_document(root) {\n",
       "    var docs_json = {\"850881f0-6b48-4f88-a43a-9728357a22e2\":{\"defs\":[{\"extends\":null,\"module\":null,\"name\":\"ReactiveHTML1\",\"overrides\":[],\"properties\":[]},{\"extends\":null,\"module\":null,\"name\":\"FlexBox1\",\"overrides\":[],\"properties\":[{\"default\":\"flex-start\",\"kind\":null,\"name\":\"align_content\"},{\"default\":\"flex-start\",\"kind\":null,\"name\":\"align_items\"},{\"default\":\"row\",\"kind\":null,\"name\":\"flex_direction\"},{\"default\":\"wrap\",\"kind\":null,\"name\":\"flex_wrap\"},{\"default\":\"flex-start\",\"kind\":null,\"name\":\"justify_content\"}]},{\"extends\":null,\"module\":null,\"name\":\"GridStack1\",\"overrides\":[],\"properties\":[{\"default\":\"warn\",\"kind\":null,\"name\":\"mode\"},{\"default\":null,\"kind\":null,\"name\":\"ncols\"},{\"default\":null,\"kind\":null,\"name\":\"nrows\"},{\"default\":true,\"kind\":null,\"name\":\"allow_resize\"},{\"default\":true,\"kind\":null,\"name\":\"allow_drag\"},{\"default\":[],\"kind\":null,\"name\":\"state\"}]},{\"extends\":null,\"module\":null,\"name\":\"click1\",\"overrides\":[],\"properties\":[{\"default\":\"\",\"kind\":null,\"name\":\"terminal_output\"},{\"default\":\"\",\"kind\":null,\"name\":\"debug_name\"},{\"default\":0,\"kind\":null,\"name\":\"clears\"}]},{\"extends\":null,\"module\":null,\"name\":\"NotificationAreaBase1\",\"overrides\":[],\"properties\":[{\"default\":\"bottom-right\",\"kind\":null,\"name\":\"position\"},{\"default\":0,\"kind\":null,\"name\":\"_clear\"}]},{\"extends\":null,\"module\":null,\"name\":\"NotificationArea1\",\"overrides\":[],\"properties\":[{\"default\":[],\"kind\":null,\"name\":\"notifications\"},{\"default\":\"bottom-right\",\"kind\":null,\"name\":\"position\"},{\"default\":0,\"kind\":null,\"name\":\"_clear\"},{\"default\":[{\"background\":\"#ffc107\",\"icon\":{\"className\":\"fas fa-exclamation-triangle\",\"color\":\"white\",\"tagName\":\"i\"},\"type\":\"warning\"},{\"background\":\"#007bff\",\"icon\":{\"className\":\"fas fa-info-circle\",\"color\":\"white\",\"tagName\":\"i\"},\"type\":\"info\"}],\"kind\":null,\"name\":\"types\"}]},{\"extends\":null,\"module\":null,\"name\":\"Notification\",\"overrides\":[],\"properties\":[{\"default\":null,\"kind\":null,\"name\":\"background\"},{\"default\":3000,\"kind\":null,\"name\":\"duration\"},{\"default\":null,\"kind\":null,\"name\":\"icon\"},{\"default\":\"\",\"kind\":null,\"name\":\"message\"},{\"default\":null,\"kind\":null,\"name\":\"notification_type\"},{\"default\":false,\"kind\":null,\"name\":\"_destroyed\"}]},{\"extends\":null,\"module\":null,\"name\":\"TemplateActions1\",\"overrides\":[],\"properties\":[{\"default\":0,\"kind\":null,\"name\":\"open_modal\"},{\"default\":0,\"kind\":null,\"name\":\"close_modal\"}]},{\"extends\":null,\"module\":null,\"name\":\"MaterialTemplateActions1\",\"overrides\":[],\"properties\":[{\"default\":0,\"kind\":null,\"name\":\"open_modal\"},{\"default\":0,\"kind\":null,\"name\":\"close_modal\"}]}],\"roots\":{\"references\":[{\"attributes\":{\"months\":[0,6]},\"id\":\"1413\",\"type\":\"MonthsTicker\"},{\"attributes\":{\"data\":{\"Variable\":[\"SMA_Fast\",\"SMA_Fast\",\"SMA_Fast\",\"SMA_Fast\",\"SMA_Fast\",\"SMA_Fast\",\"SMA_Fast\",\"SMA_Fast\",\"SMA_Fast\",\"SMA_Fast\",\"SMA_Fast\",\"SMA_Fast\",\"SMA_Fast\",\"SMA_Fast\",\"SMA_Fast\",\"SMA_Fast\",\"SMA_Fast\",\"SMA_Fast\",\"SMA_Fast\",\"SMA_Fast\",\"SMA_Fast\",\"SMA_Fast\",\"SMA_Fast\",\"SMA_Fast\",\"SMA_Fast\",\"SMA_Fast\",\"SMA_Fast\",\"SMA_Fast\",\"SMA_Fast\",\"SMA_Fast\",\"SMA_Fast\",\"SMA_Fast\",\"SMA_Fast\",\"SMA_Fast\",\"SMA_Fast\",\"SMA_Fast\",\"SMA_Fast\",\"SMA_Fast\",\"SMA_Fast\",\"SMA_Fast\",\"SMA_Fast\",\"SMA_Fast\",\"SMA_Fast\",\"SMA_Fast\",\"SMA_Fast\",\"SMA_Fast\",\"SMA_Fast\",\"SMA_Fast\",\"SMA_Fast\",\"SMA_Fast\",\"SMA_Fast\",\"SMA_Fast\",\"SMA_Fast\",\"SMA_Fast\",\"SMA_Fast\",\"SMA_Fast\",\"SMA_Fast\",\"SMA_Fast\",\"SMA_Fast\",\"SMA_Fast\",\"SMA_Fast\",\"SMA_Fast\",\"SMA_Fast\",\"SMA_Fast\",\"SMA_Fast\",\"SMA_Fast\",\"SMA_Fast\",\"SMA_Fast\",\"SMA_Fast\",\"SMA_Fast\",\"SMA_Fast\",\"SMA_Fast\",\"SMA_Fast\",\"SMA_Fast\",\"SMA_Fast\",\"SMA_Fast\",\"SMA_Fast\",\"SMA_Fast\",\"SMA_Fast\",\"SMA_Fast\",\"SMA_Fast\",\"SMA_Fast\",\"SMA_Fast\",\"SMA_Fast\",\"SMA_Fast\",\"SMA_Fast\",\"SMA_Fast\",\"SMA_Fast\",\"SMA_Fast\",\"SMA_Fast\",\"SMA_Fast\",\"SMA_Fast\",\"SMA_Fast\",\"SMA_Fast\",\"SMA_Fast\",\"SMA_Fast\",\"SMA_Fast\",\"SMA_Fast\",\"SMA_Fast\",\"SMA_Fast\",\"SMA_Fast\",\"SMA_Fast\",\"SMA_Fast\",\"SMA_Fast\",\"SMA_Fast\",\"SMA_Fast\",\"SMA_Fast\",\"SMA_Fast\",\"SMA_Fast\",\"SMA_Fast\",\"SMA_Fast\",\"SMA_Fast\",\"SMA_Fast\",\"SMA_Fast\",\"SMA_Fast\",\"SMA_Fast\",\"SMA_Fast\",\"SMA_Fast\",\"SMA_Fast\",\"SMA_Fast\",\"SMA_Fast\",\"SMA_Fast\",\"SMA_Fast\",\"SMA_Fast\",\"SMA_Fast\",\"SMA_Fast\",\"SMA_Fast\",\"SMA_Fast\",\"SMA_Fast\",\"SMA_Fast\",\"SMA_Fast\",\"SMA_Fast\",\"SMA_Fast\",\"SMA_Fast\",\"SMA_Fast\",\"SMA_Fast\",\"SMA_Fast\",\"SMA_Fast\",\"SMA_Fast\",\"SMA_Fast\",\"SMA_Fast\",\"SMA_Fast\",\"SMA_Fast\",\"SMA_Fast\",\"SMA_Fast\",\"SMA_Fast\",\"SMA_Fast\",\"SMA_Fast\",\"SMA_Fast\",\"SMA_Fast\",\"SMA_Fast\",\"SMA_Fast\",\"SMA_Fast\",\"SMA_Fast\",\"SMA_Fast\",\"SMA_Fast\",\"SMA_Fast\",\"SMA_Fast\",\"SMA_Fast\",\"SMA_Fast\",\"SMA_Fast\",\"SMA_Fast\",\"SMA_Fast\",\"SMA_Fast\",\"SMA_Fast\",\"SMA_Fast\",\"SMA_Fast\",\"SMA_Fast\",\"SMA_Fast\",\"SMA_Fast\",\"SMA_Fast\",\"SMA_Fast\",\"SMA_Fast\",\"SMA_Fast\",\"SMA_Fast\",\"SMA_Fast\",\"SMA_Fast\",\"SMA_Fast\",\"SMA_Fast\",\"SMA_Fast\",\"SMA_Fast\",\"SMA_Fast\",\"SMA_Fast\",\"SMA_Fast\",\"SMA_Fast\",\"SMA_Fast\",\"SMA_Fast\",\"SMA_Fast\",\"SMA_Fast\",\"SMA_Fast\",\"SMA_Fast\",\"SMA_Fast\",\"SMA_Fast\",\"SMA_Fast\",\"SMA_Fast\",\"SMA_Fast\",\"SMA_Fast\",\"SMA_Fast\",\"SMA_Fast\",\"SMA_Fast\",\"SMA_Fast\",\"SMA_Fast\",\"SMA_Fast\",\"SMA_Fast\",\"SMA_Fast\",\"SMA_Fast\",\"SMA_Fast\",\"SMA_Fast\",\"SMA_Fast\",\"SMA_Fast\",\"SMA_Fast\",\"SMA_Fast\",\"SMA_Fast\",\"SMA_Fast\",\"SMA_Fast\",\"SMA_Fast\",\"SMA_Fast\",\"SMA_Fast\",\"SMA_Fast\",\"SMA_Fast\",\"SMA_Fast\",\"SMA_Fast\",\"SMA_Fast\",\"SMA_Fast\",\"SMA_Fast\",\"SMA_Fast\",\"SMA_Fast\",\"SMA_Fast\",\"SMA_Fast\",\"SMA_Fast\",\"SMA_Fast\",\"SMA_Fast\",\"SMA_Fast\",\"SMA_Fast\",\"SMA_Fast\",\"SMA_Fast\",\"SMA_Fast\",\"SMA_Fast\",\"SMA_Fast\",\"SMA_Fast\",\"SMA_Fast\",\"SMA_Fast\",\"SMA_Fast\",\"SMA_Fast\",\"SMA_Fast\",\"SMA_Fast\",\"SMA_Fast\",\"SMA_Fast\",\"SMA_Fast\",\"SMA_Fast\",\"SMA_Fast\",\"SMA_Fast\",\"SMA_Fast\",\"SMA_Fast\",\"SMA_Fast\",\"SMA_Fast\",\"SMA_Fast\",\"SMA_Fast\",\"SMA_Fast\",\"SMA_Fast\",\"SMA_Fast\",\"SMA_Fast\",\"SMA_Fast\",\"SMA_Fast\",\"SMA_Fast\",\"SMA_Fast\",\"SMA_Fast\",\"SMA_Fast\",\"SMA_Fast\",\"SMA_Fast\",\"SMA_Fast\",\"SMA_Fast\",\"SMA_Fast\",\"SMA_Fast\",\"SMA_Fast\",\"SMA_Fast\",\"SMA_Fast\",\"SMA_Fast\",\"SMA_Fast\",\"SMA_Fast\",\"SMA_Fast\",\"SMA_Fast\",\"SMA_Fast\",\"SMA_Fast\",\"SMA_Fast\",\"SMA_Fast\",\"SMA_Fast\",\"SMA_Fast\",\"SMA_Fast\",\"SMA_Fast\",\"SMA_Fast\",\"SMA_Fast\",\"SMA_Fast\",\"SMA_Fast\",\"SMA_Fast\",\"SMA_Fast\",\"SMA_Fast\",\"SMA_Fast\",\"SMA_Fast\",\"SMA_Fast\",\"SMA_Fast\",\"SMA_Fast\",\"SMA_Fast\",\"SMA_Fast\",\"SMA_Fast\",\"SMA_Fast\",\"SMA_Fast\",\"SMA_Fast\",\"SMA_Fast\",\"SMA_Fast\",\"SMA_Fast\",\"SMA_Fast\",\"SMA_Fast\",\"SMA_Fast\",\"SMA_Fast\",\"SMA_Fast\",\"SMA_Fast\",\"SMA_Fast\",\"SMA_Fast\",\"SMA_Fast\",\"SMA_Fast\",\"SMA_Fast\",\"SMA_Fast\",\"SMA_Fast\",\"SMA_Fast\",\"SMA_Fast\",\"SMA_Fast\",\"SMA_Fast\",\"SMA_Fast\",\"SMA_Fast\",\"SMA_Fast\",\"SMA_Fast\",\"SMA_Fast\",\"SMA_Fast\",\"SMA_Fast\",\"SMA_Fast\",\"SMA_Fast\",\"SMA_Fast\",\"SMA_Fast\",\"SMA_Fast\",\"SMA_Fast\",\"SMA_Fast\",\"SMA_Fast\",\"SMA_Fast\",\"SMA_Fast\",\"SMA_Fast\",\"SMA_Fast\",\"SMA_Fast\",\"SMA_Fast\",\"SMA_Fast\",\"SMA_Fast\",\"SMA_Fast\",\"SMA_Fast\",\"SMA_Fast\",\"SMA_Fast\",\"SMA_Fast\",\"SMA_Fast\",\"SMA_Fast\",\"SMA_Fast\",\"SMA_Fast\",\"SMA_Fast\",\"SMA_Fast\",\"SMA_Fast\",\"SMA_Fast\",\"SMA_Fast\",\"SMA_Fast\",\"SMA_Fast\",\"SMA_Fast\",\"SMA_Fast\",\"SMA_Fast\",\"SMA_Fast\",\"SMA_Fast\",\"SMA_Fast\",\"SMA_Fast\",\"SMA_Fast\",\"SMA_Fast\",\"SMA_Fast\",\"SMA_Fast\",\"SMA_Fast\",\"SMA_Fast\",\"SMA_Fast\",\"SMA_Fast\",\"SMA_Fast\",\"SMA_Fast\",\"SMA_Fast\",\"SMA_Fast\",\"SMA_Fast\",\"SMA_Fast\",\"SMA_Fast\",\"SMA_Fast\",\"SMA_Fast\",\"SMA_Fast\",\"SMA_Fast\",\"SMA_Fast\",\"SMA_Fast\",\"SMA_Fast\",\"SMA_Fast\",\"SMA_Fast\",\"SMA_Fast\",\"SMA_Fast\",\"SMA_Fast\",\"SMA_Fast\",\"SMA_Fast\",\"SMA_Fast\",\"SMA_Fast\",\"SMA_Fast\",\"SMA_Fast\",\"SMA_Fast\",\"SMA_Fast\",\"SMA_Fast\",\"SMA_Fast\",\"SMA_Fast\",\"SMA_Fast\",\"SMA_Fast\",\"SMA_Fast\",\"SMA_Fast\",\"SMA_Fast\",\"SMA_Fast\",\"SMA_Fast\",\"SMA_Fast\",\"SMA_Fast\",\"SMA_Fast\",\"SMA_Fast\",\"SMA_Fast\",\"SMA_Fast\",\"SMA_Fast\",\"SMA_Fast\",\"SMA_Fast\",\"SMA_Fast\",\"SMA_Fast\",\"SMA_Fast\",\"SMA_Fast\",\"SMA_Fast\",\"SMA_Fast\",\"SMA_Fast\",\"SMA_Fast\",\"SMA_Fast\",\"SMA_Fast\",\"SMA_Fast\",\"SMA_Fast\",\"SMA_Fast\",\"SMA_Fast\",\"SMA_Fast\",\"SMA_Fast\",\"SMA_Fast\",\"SMA_Fast\",\"SMA_Fast\",\"SMA_Fast\",\"SMA_Fast\",\"SMA_Fast\",\"SMA_Fast\",\"SMA_Fast\",\"SMA_Fast\",\"SMA_Fast\",\"SMA_Fast\",\"SMA_Fast\",\"SMA_Fast\",\"SMA_Fast\",\"SMA_Fast\",\"SMA_Fast\",\"SMA_Fast\",\"SMA_Fast\",\"SMA_Fast\",\"SMA_Fast\",\"SMA_Fast\",\"SMA_Fast\",\"SMA_Fast\",\"SMA_Fast\",\"SMA_Fast\",\"SMA_Fast\",\"SMA_Fast\",\"SMA_Fast\",\"SMA_Fast\",\"SMA_Fast\",\"SMA_Fast\",\"SMA_Fast\",\"SMA_Fast\",\"SMA_Fast\",\"SMA_Fast\",\"SMA_Fast\",\"SMA_Fast\",\"SMA_Fast\",\"SMA_Fast\",\"SMA_Fast\",\"SMA_Fast\",\"SMA_Fast\",\"SMA_Fast\",\"SMA_Fast\",\"SMA_Fast\",\"SMA_Fast\",\"SMA_Fast\",\"SMA_Fast\",\"SMA_Fast\",\"SMA_Fast\",\"SMA_Fast\",\"SMA_Fast\",\"SMA_Fast\",\"SMA_Fast\",\"SMA_Fast\",\"SMA_Fast\",\"SMA_Fast\",\"SMA_Fast\",\"SMA_Fast\",\"SMA_Fast\",\"SMA_Fast\",\"SMA_Fast\",\"SMA_Fast\",\"SMA_Fast\",\"SMA_Fast\",\"SMA_Fast\",\"SMA_Fast\",\"SMA_Fast\",\"SMA_Fast\",\"SMA_Fast\",\"SMA_Fast\",\"SMA_Fast\",\"SMA_Fast\",\"SMA_Fast\",\"SMA_Fast\",\"SMA_Fast\",\"SMA_Fast\",\"SMA_Fast\",\"SMA_Fast\",\"SMA_Fast\",\"SMA_Fast\",\"SMA_Fast\",\"SMA_Fast\",\"SMA_Fast\",\"SMA_Fast\",\"SMA_Fast\",\"SMA_Fast\",\"SMA_Fast\",\"SMA_Fast\",\"SMA_Fast\",\"SMA_Fast\",\"SMA_Fast\",\"SMA_Fast\",\"SMA_Fast\",\"SMA_Fast\",\"SMA_Fast\",\"SMA_Fast\",\"SMA_Fast\",\"SMA_Fast\",\"SMA_Fast\",\"SMA_Fast\",\"SMA_Fast\",\"SMA_Fast\",\"SMA_Fast\",\"SMA_Fast\",\"SMA_Fast\",\"SMA_Fast\",\"SMA_Fast\",\"SMA_Fast\",\"SMA_Fast\",\"SMA_Fast\",\"SMA_Fast\",\"SMA_Fast\",\"SMA_Fast\",\"SMA_Fast\",\"SMA_Fast\",\"SMA_Fast\",\"SMA_Fast\",\"SMA_Fast\",\"SMA_Fast\",\"SMA_Fast\",\"SMA_Fast\",\"SMA_Fast\",\"SMA_Fast\",\"SMA_Fast\",\"SMA_Fast\",\"SMA_Fast\",\"SMA_Fast\",\"SMA_Fast\",\"SMA_Fast\",\"SMA_Fast\",\"SMA_Fast\",\"SMA_Fast\",\"SMA_Fast\",\"SMA_Fast\",\"SMA_Fast\",\"SMA_Fast\",\"SMA_Fast\",\"SMA_Fast\",\"SMA_Fast\",\"SMA_Fast\",\"SMA_Fast\",\"SMA_Fast\",\"SMA_Fast\",\"SMA_Fast\",\"SMA_Fast\",\"SMA_Fast\",\"SMA_Fast\",\"SMA_Fast\",\"SMA_Fast\",\"SMA_Fast\",\"SMA_Fast\",\"SMA_Fast\",\"SMA_Fast\",\"SMA_Fast\",\"SMA_Fast\",\"SMA_Fast\",\"SMA_Fast\",\"SMA_Fast\",\"SMA_Fast\",\"SMA_Fast\",\"SMA_Fast\",\"SMA_Fast\",\"SMA_Fast\",\"SMA_Fast\",\"SMA_Fast\",\"SMA_Fast\",\"SMA_Fast\",\"SMA_Fast\",\"SMA_Fast\",\"SMA_Fast\",\"SMA_Fast\",\"SMA_Fast\",\"SMA_Fast\",\"SMA_Fast\",\"SMA_Fast\",\"SMA_Fast\",\"SMA_Fast\",\"SMA_Fast\",\"SMA_Fast\",\"SMA_Fast\",\"SMA_Fast\",\"SMA_Fast\",\"SMA_Fast\",\"SMA_Fast\",\"SMA_Fast\",\"SMA_Fast\",\"SMA_Fast\",\"SMA_Fast\",\"SMA_Fast\",\"SMA_Fast\",\"SMA_Fast\",\"SMA_Fast\",\"SMA_Fast\",\"SMA_Fast\",\"SMA_Fast\",\"SMA_Fast\",\"SMA_Fast\",\"SMA_Fast\",\"SMA_Fast\",\"SMA_Fast\",\"SMA_Fast\",\"SMA_Fast\",\"SMA_Fast\",\"SMA_Fast\",\"SMA_Fast\",\"SMA_Fast\",\"SMA_Fast\",\"SMA_Fast\",\"SMA_Fast\",\"SMA_Fast\",\"SMA_Fast\",\"SMA_Fast\",\"SMA_Fast\",\"SMA_Fast\",\"SMA_Fast\",\"SMA_Fast\",\"SMA_Fast\",\"SMA_Fast\",\"SMA_Fast\",\"SMA_Fast\",\"SMA_Fast\",\"SMA_Fast\",\"SMA_Fast\",\"SMA_Fast\",\"SMA_Fast\",\"SMA_Fast\",\"SMA_Fast\",\"SMA_Fast\",\"SMA_Fast\",\"SMA_Fast\",\"SMA_Fast\",\"SMA_Fast\",\"SMA_Fast\",\"SMA_Fast\",\"SMA_Fast\",\"SMA_Fast\",\"SMA_Fast\",\"SMA_Fast\",\"SMA_Fast\",\"SMA_Fast\",\"SMA_Fast\",\"SMA_Fast\",\"SMA_Fast\",\"SMA_Fast\",\"SMA_Fast\",\"SMA_Fast\",\"SMA_Fast\",\"SMA_Fast\",\"SMA_Fast\",\"SMA_Fast\",\"SMA_Fast\",\"SMA_Fast\",\"SMA_Fast\",\"SMA_Fast\",\"SMA_Fast\",\"SMA_Fast\",\"SMA_Fast\",\"SMA_Fast\",\"SMA_Fast\",\"SMA_Fast\",\"SMA_Fast\",\"SMA_Fast\",\"SMA_Fast\",\"SMA_Fast\",\"SMA_Fast\",\"SMA_Fast\",\"SMA_Fast\",\"SMA_Fast\",\"SMA_Fast\",\"SMA_Fast\",\"SMA_Fast\",\"SMA_Fast\",\"SMA_Fast\",\"SMA_Fast\",\"SMA_Fast\",\"SMA_Fast\",\"SMA_Fast\",\"SMA_Fast\",\"SMA_Fast\",\"SMA_Fast\",\"SMA_Fast\",\"SMA_Fast\",\"SMA_Fast\",\"SMA_Fast\",\"SMA_Fast\",\"SMA_Fast\",\"SMA_Fast\",\"SMA_Fast\",\"SMA_Fast\",\"SMA_Fast\",\"SMA_Fast\",\"SMA_Fast\",\"SMA_Fast\",\"SMA_Fast\",\"SMA_Fast\",\"SMA_Fast\",\"SMA_Fast\",\"SMA_Fast\",\"SMA_Fast\",\"SMA_Fast\",\"SMA_Fast\",\"SMA_Fast\",\"SMA_Fast\",\"SMA_Fast\",\"SMA_Fast\",\"SMA_Fast\",\"SMA_Fast\",\"SMA_Fast\",\"SMA_Fast\",\"SMA_Fast\",\"SMA_Fast\",\"SMA_Fast\",\"SMA_Fast\",\"SMA_Fast\",\"SMA_Fast\",\"SMA_Fast\",\"SMA_Fast\",\"SMA_Fast\",\"SMA_Fast\",\"SMA_Fast\",\"SMA_Fast\",\"SMA_Fast\",\"SMA_Fast\",\"SMA_Fast\",\"SMA_Fast\",\"SMA_Fast\",\"SMA_Fast\",\"SMA_Fast\",\"SMA_Fast\",\"SMA_Fast\",\"SMA_Fast\",\"SMA_Fast\",\"SMA_Fast\",\"SMA_Fast\",\"SMA_Fast\",\"SMA_Fast\",\"SMA_Fast\",\"SMA_Fast\",\"SMA_Fast\",\"SMA_Fast\",\"SMA_Fast\",\"SMA_Fast\",\"SMA_Fast\",\"SMA_Fast\",\"SMA_Fast\",\"SMA_Fast\",\"SMA_Fast\",\"SMA_Fast\",\"SMA_Fast\",\"SMA_Fast\",\"SMA_Fast\",\"SMA_Fast\",\"SMA_Fast\",\"SMA_Fast\",\"SMA_Fast\",\"SMA_Fast\",\"SMA_Fast\",\"SMA_Fast\",\"SMA_Fast\",\"SMA_Fast\",\"SMA_Fast\",\"SMA_Fast\",\"SMA_Fast\",\"SMA_Fast\",\"SMA_Fast\",\"SMA_Fast\",\"SMA_Fast\",\"SMA_Fast\",\"SMA_Fast\",\"SMA_Fast\",\"SMA_Fast\",\"SMA_Fast\",\"SMA_Fast\",\"SMA_Fast\",\"SMA_Fast\",\"SMA_Fast\",\"SMA_Fast\",\"SMA_Fast\",\"SMA_Fast\",\"SMA_Fast\",\"SMA_Fast\",\"SMA_Fast\",\"SMA_Fast\",\"SMA_Fast\",\"SMA_Fast\",\"SMA_Fast\",\"SMA_Fast\",\"SMA_Fast\",\"SMA_Fast\",\"SMA_Fast\",\"SMA_Fast\",\"SMA_Fast\",\"SMA_Fast\",\"SMA_Fast\",\"SMA_Fast\",\"SMA_Fast\",\"SMA_Fast\",\"SMA_Fast\",\"SMA_Fast\",\"SMA_Fast\",\"SMA_Fast\",\"SMA_Fast\",\"SMA_Fast\",\"SMA_Fast\",\"SMA_Fast\",\"SMA_Fast\",\"SMA_Fast\",\"SMA_Fast\",\"SMA_Fast\",\"SMA_Fast\",\"SMA_Fast\",\"SMA_Fast\",\"SMA_Fast\",\"SMA_Fast\",\"SMA_Fast\",\"SMA_Fast\",\"SMA_Fast\",\"SMA_Fast\",\"SMA_Fast\",\"SMA_Fast\",\"SMA_Fast\",\"SMA_Fast\",\"SMA_Fast\",\"SMA_Fast\",\"SMA_Fast\",\"SMA_Fast\",\"SMA_Fast\",\"SMA_Fast\",\"SMA_Fast\",\"SMA_Fast\",\"SMA_Fast\",\"SMA_Fast\",\"SMA_Fast\",\"SMA_Fast\",\"SMA_Fast\",\"SMA_Fast\",\"SMA_Fast\",\"SMA_Fast\",\"SMA_Fast\",\"SMA_Fast\",\"SMA_Fast\",\"SMA_Fast\",\"SMA_Fast\",\"SMA_Fast\",\"SMA_Fast\",\"SMA_Fast\",\"SMA_Fast\",\"SMA_Fast\",\"SMA_Fast\",\"SMA_Fast\",\"SMA_Fast\",\"SMA_Fast\",\"SMA_Fast\",\"SMA_Fast\",\"SMA_Fast\",\"SMA_Fast\",\"SMA_Fast\",\"SMA_Fast\",\"SMA_Fast\",\"SMA_Fast\",\"SMA_Fast\",\"SMA_Fast\",\"SMA_Fast\",\"SMA_Fast\",\"SMA_Fast\",\"SMA_Fast\",\"SMA_Fast\",\"SMA_Fast\",\"SMA_Fast\",\"SMA_Fast\",\"SMA_Fast\",\"SMA_Fast\",\"SMA_Fast\",\"SMA_Fast\",\"SMA_Fast\",\"SMA_Fast\",\"SMA_Fast\",\"SMA_Fast\",\"SMA_Fast\",\"SMA_Fast\",\"SMA_Fast\",\"SMA_Fast\",\"SMA_Fast\",\"SMA_Fast\",\"SMA_Fast\",\"SMA_Fast\",\"SMA_Fast\",\"SMA_Fast\",\"SMA_Fast\",\"SMA_Fast\",\"SMA_Fast\",\"SMA_Fast\",\"SMA_Fast\",\"SMA_Fast\",\"SMA_Fast\",\"SMA_Fast\",\"SMA_Fast\",\"SMA_Fast\",\"SMA_Fast\",\"SMA_Fast\",\"SMA_Fast\",\"SMA_Fast\",\"SMA_Fast\",\"SMA_Fast\",\"SMA_Fast\",\"SMA_Fast\",\"SMA_Fast\",\"SMA_Fast\",\"SMA_Fast\",\"SMA_Fast\",\"SMA_Fast\",\"SMA_Fast\",\"SMA_Fast\",\"SMA_Fast\",\"SMA_Fast\",\"SMA_Fast\",\"SMA_Fast\",\"SMA_Fast\",\"SMA_Fast\",\"SMA_Fast\",\"SMA_Fast\",\"SMA_Fast\",\"SMA_Fast\",\"SMA_Fast\",\"SMA_Fast\",\"SMA_Fast\",\"SMA_Fast\",\"SMA_Fast\",\"SMA_Fast\",\"SMA_Fast\",\"SMA_Fast\",\"SMA_Fast\",\"SMA_Fast\",\"SMA_Fast\",\"SMA_Fast\",\"SMA_Fast\",\"SMA_Fast\",\"SMA_Fast\",\"SMA_Fast\",\"SMA_Fast\",\"SMA_Fast\",\"SMA_Fast\",\"SMA_Fast\",\"SMA_Fast\",\"SMA_Fast\",\"SMA_Fast\",\"SMA_Fast\",\"SMA_Fast\",\"SMA_Fast\",\"SMA_Fast\",\"SMA_Fast\",\"SMA_Fast\",\"SMA_Fast\",\"SMA_Fast\",\"SMA_Fast\",\"SMA_Fast\",\"SMA_Fast\",\"SMA_Fast\",\"SMA_Fast\",\"SMA_Fast\",\"SMA_Fast\",\"SMA_Fast\",\"SMA_Fast\",\"SMA_Fast\",\"SMA_Fast\",\"SMA_Fast\",\"SMA_Fast\",\"SMA_Fast\",\"SMA_Fast\",\"SMA_Fast\",\"SMA_Fast\",\"SMA_Fast\",\"SMA_Fast\",\"SMA_Fast\",\"SMA_Fast\",\"SMA_Fast\",\"SMA_Fast\",\"SMA_Fast\",\"SMA_Fast\",\"SMA_Fast\",\"SMA_Fast\",\"SMA_Fast\",\"SMA_Fast\",\"SMA_Fast\",\"SMA_Fast\",\"SMA_Fast\",\"SMA_Fast\",\"SMA_Fast\",\"SMA_Fast\",\"SMA_Fast\",\"SMA_Fast\",\"SMA_Fast\",\"SMA_Fast\",\"SMA_Fast\",\"SMA_Fast\",\"SMA_Fast\",\"SMA_Fast\",\"SMA_Fast\",\"SMA_Fast\",\"SMA_Fast\",\"SMA_Fast\",\"SMA_Fast\",\"SMA_Fast\",\"SMA_Fast\",\"SMA_Fast\",\"SMA_Fast\",\"SMA_Fast\",\"SMA_Fast\",\"SMA_Fast\",\"SMA_Fast\",\"SMA_Fast\",\"SMA_Fast\",\"SMA_Fast\",\"SMA_Fast\",\"SMA_Fast\",\"SMA_Fast\",\"SMA_Fast\",\"SMA_Fast\",\"SMA_Fast\",\"SMA_Fast\",\"SMA_Fast\",\"SMA_Fast\",\"SMA_Fast\",\"SMA_Fast\",\"SMA_Fast\",\"SMA_Fast\",\"SMA_Fast\",\"SMA_Fast\",\"SMA_Fast\",\"SMA_Fast\",\"SMA_Fast\",\"SMA_Fast\",\"SMA_Fast\",\"SMA_Fast\",\"SMA_Fast\",\"SMA_Fast\",\"SMA_Fast\",\"SMA_Fast\",\"SMA_Fast\",\"SMA_Fast\",\"SMA_Fast\",\"SMA_Fast\",\"SMA_Fast\",\"SMA_Fast\",\"SMA_Fast\",\"SMA_Fast\",\"SMA_Fast\",\"SMA_Fast\",\"SMA_Fast\",\"SMA_Fast\",\"SMA_Fast\",\"SMA_Fast\",\"SMA_Fast\",\"SMA_Fast\",\"SMA_Fast\",\"SMA_Fast\",\"SMA_Fast\",\"SMA_Fast\",\"SMA_Fast\",\"SMA_Fast\",\"SMA_Fast\",\"SMA_Fast\",\"SMA_Fast\",\"SMA_Fast\",\"SMA_Fast\",\"SMA_Fast\",\"SMA_Fast\",\"SMA_Fast\",\"SMA_Fast\",\"SMA_Fast\",\"SMA_Fast\",\"SMA_Fast\",\"SMA_Fast\",\"SMA_Fast\",\"SMA_Fast\",\"SMA_Fast\",\"SMA_Fast\",\"SMA_Fast\",\"SMA_Fast\",\"SMA_Fast\",\"SMA_Fast\",\"SMA_Fast\",\"SMA_Fast\",\"SMA_Fast\",\"SMA_Fast\",\"SMA_Fast\",\"SMA_Fast\",\"SMA_Fast\",\"SMA_Fast\",\"SMA_Fast\",\"SMA_Fast\",\"SMA_Fast\",\"SMA_Fast\",\"SMA_Fast\",\"SMA_Fast\",\"SMA_Fast\",\"SMA_Fast\",\"SMA_Fast\",\"SMA_Fast\",\"SMA_Fast\",\"SMA_Fast\",\"SMA_Fast\",\"SMA_Fast\",\"SMA_Fast\",\"SMA_Fast\",\"SMA_Fast\",\"SMA_Fast\",\"SMA_Fast\",\"SMA_Fast\",\"SMA_Fast\",\"SMA_Fast\",\"SMA_Fast\",\"SMA_Fast\",\"SMA_Fast\",\"SMA_Fast\",\"SMA_Fast\",\"SMA_Fast\",\"SMA_Fast\",\"SMA_Fast\",\"SMA_Fast\",\"SMA_Fast\",\"SMA_Fast\",\"SMA_Fast\",\"SMA_Fast\",\"SMA_Fast\",\"SMA_Fast\",\"SMA_Fast\",\"SMA_Fast\",\"SMA_Fast\",\"SMA_Fast\",\"SMA_Fast\",\"SMA_Fast\",\"SMA_Fast\",\"SMA_Fast\",\"SMA_Fast\",\"SMA_Fast\",\"SMA_Fast\",\"SMA_Fast\",\"SMA_Fast\",\"SMA_Fast\",\"SMA_Fast\",\"SMA_Fast\",\"SMA_Fast\",\"SMA_Fast\",\"SMA_Fast\",\"SMA_Fast\",\"SMA_Fast\",\"SMA_Fast\",\"SMA_Fast\",\"SMA_Fast\",\"SMA_Fast\",\"SMA_Fast\",\"SMA_Fast\",\"SMA_Fast\",\"SMA_Fast\",\"SMA_Fast\",\"SMA_Fast\",\"SMA_Fast\",\"SMA_Fast\",\"SMA_Fast\",\"SMA_Fast\",\"SMA_Fast\",\"SMA_Fast\",\"SMA_Fast\",\"SMA_Fast\",\"SMA_Fast\",\"SMA_Fast\",\"SMA_Fast\",\"SMA_Fast\",\"SMA_Fast\",\"SMA_Fast\",\"SMA_Fast\",\"SMA_Fast\",\"SMA_Fast\",\"SMA_Fast\",\"SMA_Fast\",\"SMA_Fast\",\"SMA_Fast\",\"SMA_Fast\",\"SMA_Fast\",\"SMA_Fast\",\"SMA_Fast\",\"SMA_Fast\",\"SMA_Fast\",\"SMA_Fast\",\"SMA_Fast\",\"SMA_Fast\",\"SMA_Fast\",\"SMA_Fast\",\"SMA_Fast\",\"SMA_Fast\",\"SMA_Fast\",\"SMA_Fast\",\"SMA_Fast\",\"SMA_Fast\",\"SMA_Fast\",\"SMA_Fast\",\"SMA_Fast\",\"SMA_Fast\",\"SMA_Fast\",\"SMA_Fast\",\"SMA_Fast\",\"SMA_Fast\",\"SMA_Fast\",\"SMA_Fast\",\"SMA_Fast\",\"SMA_Fast\",\"SMA_Fast\",\"SMA_Fast\",\"SMA_Fast\",\"SMA_Fast\",\"SMA_Fast\",\"SMA_Fast\",\"SMA_Fast\",\"SMA_Fast\",\"SMA_Fast\",\"SMA_Fast\",\"SMA_Fast\",\"SMA_Fast\",\"SMA_Fast\",\"SMA_Fast\",\"SMA_Fast\",\"SMA_Fast\",\"SMA_Fast\",\"SMA_Fast\",\"SMA_Fast\",\"SMA_Fast\",\"SMA_Fast\",\"SMA_Fast\",\"SMA_Fast\",\"SMA_Fast\",\"SMA_Fast\",\"SMA_Fast\",\"SMA_Fast\",\"SMA_Fast\",\"SMA_Fast\",\"SMA_Fast\",\"SMA_Fast\",\"SMA_Fast\",\"SMA_Fast\",\"SMA_Fast\",\"SMA_Fast\",\"SMA_Fast\",\"SMA_Fast\",\"SMA_Fast\",\"SMA_Fast\",\"SMA_Fast\",\"SMA_Fast\",\"SMA_Fast\",\"SMA_Fast\",\"SMA_Fast\",\"SMA_Fast\",\"SMA_Fast\",\"SMA_Fast\",\"SMA_Fast\",\"SMA_Fast\",\"SMA_Fast\",\"SMA_Fast\",\"SMA_Fast\",\"SMA_Fast\",\"SMA_Fast\",\"SMA_Fast\",\"SMA_Fast\",\"SMA_Fast\",\"SMA_Fast\",\"SMA_Fast\",\"SMA_Fast\",\"SMA_Fast\",\"SMA_Fast\",\"SMA_Fast\",\"SMA_Fast\",\"SMA_Fast\",\"SMA_Fast\",\"SMA_Fast\",\"SMA_Fast\",\"SMA_Fast\",\"SMA_Fast\",\"SMA_Fast\",\"SMA_Fast\",\"SMA_Fast\",\"SMA_Fast\",\"SMA_Fast\",\"SMA_Fast\",\"SMA_Fast\",\"SMA_Fast\",\"SMA_Fast\",\"SMA_Fast\",\"SMA_Fast\",\"SMA_Fast\",\"SMA_Fast\",\"SMA_Fast\",\"SMA_Fast\",\"SMA_Fast\",\"SMA_Fast\",\"SMA_Fast\",\"SMA_Fast\",\"SMA_Fast\",\"SMA_Fast\",\"SMA_Fast\",\"SMA_Fast\",\"SMA_Fast\",\"SMA_Fast\",\"SMA_Fast\",\"SMA_Fast\",\"SMA_Fast\",\"SMA_Fast\",\"SMA_Fast\",\"SMA_Fast\",\"SMA_Fast\",\"SMA_Fast\",\"SMA_Fast\",\"SMA_Fast\",\"SMA_Fast\",\"SMA_Fast\",\"SMA_Fast\",\"SMA_Fast\",\"SMA_Fast\",\"SMA_Fast\",\"SMA_Fast\",\"SMA_Fast\",\"SMA_Fast\",\"SMA_Fast\",\"SMA_Fast\",\"SMA_Fast\",\"SMA_Fast\",\"SMA_Fast\",\"SMA_Fast\",\"SMA_Fast\",\"SMA_Fast\",\"SMA_Fast\",\"SMA_Fast\",\"SMA_Fast\",\"SMA_Fast\",\"SMA_Fast\",\"SMA_Fast\",\"SMA_Fast\",\"SMA_Fast\",\"SMA_Fast\",\"SMA_Fast\",\"SMA_Fast\",\"SMA_Fast\",\"SMA_Fast\",\"SMA_Fast\",\"SMA_Fast\",\"SMA_Fast\",\"SMA_Fast\",\"SMA_Fast\",\"SMA_Fast\",\"SMA_Fast\",\"SMA_Fast\",\"SMA_Fast\",\"SMA_Fast\",\"SMA_Fast\",\"SMA_Fast\",\"SMA_Fast\",\"SMA_Fast\",\"SMA_Fast\",\"SMA_Fast\",\"SMA_Fast\",\"SMA_Fast\",\"SMA_Fast\",\"SMA_Fast\",\"SMA_Fast\",\"SMA_Fast\",\"SMA_Fast\",\"SMA_Fast\",\"SMA_Fast\",\"SMA_Fast\",\"SMA_Fast\",\"SMA_Fast\",\"SMA_Fast\",\"SMA_Fast\",\"SMA_Fast\",\"SMA_Fast\",\"SMA_Fast\",\"SMA_Fast\",\"SMA_Fast\",\"SMA_Fast\",\"SMA_Fast\",\"SMA_Fast\",\"SMA_Fast\",\"SMA_Fast\",\"SMA_Fast\",\"SMA_Fast\",\"SMA_Fast\",\"SMA_Fast\",\"SMA_Fast\",\"SMA_Fast\",\"SMA_Fast\",\"SMA_Fast\",\"SMA_Fast\",\"SMA_Fast\",\"SMA_Fast\",\"SMA_Fast\",\"SMA_Fast\",\"SMA_Fast\",\"SMA_Fast\",\"SMA_Fast\",\"SMA_Fast\",\"SMA_Fast\",\"SMA_Fast\",\"SMA_Fast\",\"SMA_Fast\",\"SMA_Fast\",\"SMA_Fast\",\"SMA_Fast\",\"SMA_Fast\",\"SMA_Fast\",\"SMA_Fast\",\"SMA_Fast\",\"SMA_Fast\",\"SMA_Fast\",\"SMA_Fast\",\"SMA_Fast\",\"SMA_Fast\",\"SMA_Fast\",\"SMA_Fast\",\"SMA_Fast\",\"SMA_Fast\",\"SMA_Fast\",\"SMA_Fast\",\"SMA_Fast\",\"SMA_Fast\",\"SMA_Fast\",\"SMA_Fast\",\"SMA_Fast\",\"SMA_Fast\",\"SMA_Fast\",\"SMA_Fast\",\"SMA_Fast\",\"SMA_Fast\",\"SMA_Fast\",\"SMA_Fast\",\"SMA_Fast\",\"SMA_Fast\",\"SMA_Fast\",\"SMA_Fast\",\"SMA_Fast\",\"SMA_Fast\",\"SMA_Fast\",\"SMA_Fast\",\"SMA_Fast\",\"SMA_Fast\",\"SMA_Fast\",\"SMA_Fast\",\"SMA_Fast\",\"SMA_Fast\",\"SMA_Fast\",\"SMA_Fast\",\"SMA_Fast\",\"SMA_Fast\",\"SMA_Fast\",\"SMA_Fast\",\"SMA_Fast\",\"SMA_Fast\",\"SMA_Fast\",\"SMA_Fast\",\"SMA_Fast\",\"SMA_Fast\",\"SMA_Fast\",\"SMA_Fast\",\"SMA_Fast\",\"SMA_Fast\",\"SMA_Fast\",\"SMA_Fast\",\"SMA_Fast\",\"SMA_Fast\",\"SMA_Fast\",\"SMA_Fast\",\"SMA_Fast\",\"SMA_Fast\",\"SMA_Fast\",\"SMA_Fast\",\"SMA_Fast\",\"SMA_Fast\",\"SMA_Fast\",\"SMA_Fast\",\"SMA_Fast\",\"SMA_Fast\",\"SMA_Fast\",\"SMA_Fast\",\"SMA_Fast\",\"SMA_Fast\",\"SMA_Fast\",\"SMA_Fast\",\"SMA_Fast\",\"SMA_Fast\",\"SMA_Fast\",\"SMA_Fast\",\"SMA_Fast\",\"SMA_Fast\",\"SMA_Fast\",\"SMA_Fast\",\"SMA_Fast\",\"SMA_Fast\",\"SMA_Fast\",\"SMA_Fast\",\"SMA_Fast\",\"SMA_Fast\",\"SMA_Fast\",\"SMA_Fast\",\"SMA_Fast\",\"SMA_Fast\",\"SMA_Fast\",\"SMA_Fast\",\"SMA_Fast\",\"SMA_Fast\",\"SMA_Fast\",\"SMA_Fast\",\"SMA_Fast\",\"SMA_Fast\",\"SMA_Fast\",\"SMA_Fast\",\"SMA_Fast\",\"SMA_Fast\",\"SMA_Fast\",\"SMA_Fast\",\"SMA_Fast\",\"SMA_Fast\",\"SMA_Fast\",\"SMA_Fast\",\"SMA_Fast\",\"SMA_Fast\",\"SMA_Fast\",\"SMA_Fast\",\"SMA_Fast\",\"SMA_Fast\",\"SMA_Fast\",\"SMA_Fast\",\"SMA_Fast\",\"SMA_Fast\",\"SMA_Fast\",\"SMA_Fast\",\"SMA_Fast\",\"SMA_Fast\",\"SMA_Fast\",\"SMA_Fast\",\"SMA_Fast\",\"SMA_Fast\",\"SMA_Fast\",\"SMA_Fast\",\"SMA_Fast\",\"SMA_Fast\",\"SMA_Fast\",\"SMA_Fast\",\"SMA_Fast\",\"SMA_Fast\",\"SMA_Fast\",\"SMA_Fast\",\"SMA_Fast\",\"SMA_Fast\",\"SMA_Fast\",\"SMA_Fast\",\"SMA_Fast\",\"SMA_Fast\",\"SMA_Fast\",\"SMA_Fast\",\"SMA_Fast\",\"SMA_Fast\",\"SMA_Fast\",\"SMA_Fast\",\"SMA_Fast\",\"SMA_Fast\",\"SMA_Fast\",\"SMA_Fast\",\"SMA_Fast\",\"SMA_Fast\",\"SMA_Fast\",\"SMA_Fast\",\"SMA_Fast\",\"SMA_Fast\",\"SMA_Fast\",\"SMA_Fast\",\"SMA_Fast\",\"SMA_Fast\",\"SMA_Fast\",\"SMA_Fast\",\"SMA_Fast\",\"SMA_Fast\",\"SMA_Fast\",\"SMA_Fast\",\"SMA_Fast\",\"SMA_Fast\",\"SMA_Fast\",\"SMA_Fast\",\"SMA_Fast\",\"SMA_Fast\",\"SMA_Fast\",\"SMA_Fast\",\"SMA_Fast\",\"SMA_Fast\",\"SMA_Fast\",\"SMA_Fast\",\"SMA_Fast\",\"SMA_Fast\",\"SMA_Fast\",\"SMA_Fast\",\"SMA_Fast\",\"SMA_Fast\",\"SMA_Fast\",\"SMA_Fast\",\"SMA_Fast\",\"SMA_Fast\",\"SMA_Fast\",\"SMA_Fast\",\"SMA_Fast\",\"SMA_Fast\",\"SMA_Fast\",\"SMA_Fast\",\"SMA_Fast\",\"SMA_Fast\",\"SMA_Fast\",\"SMA_Fast\",\"SMA_Fast\",\"SMA_Fast\",\"SMA_Fast\",\"SMA_Fast\",\"SMA_Fast\",\"SMA_Fast\",\"SMA_Fast\",\"SMA_Fast\",\"SMA_Fast\",\"SMA_Fast\",\"SMA_Fast\",\"SMA_Fast\",\"SMA_Fast\",\"SMA_Fast\",\"SMA_Fast\",\"SMA_Fast\",\"SMA_Fast\",\"SMA_Fast\",\"SMA_Fast\",\"SMA_Fast\",\"SMA_Fast\",\"SMA_Fast\",\"SMA_Fast\",\"SMA_Fast\",\"SMA_Fast\",\"SMA_Fast\",\"SMA_Fast\",\"SMA_Fast\",\"SMA_Fast\",\"SMA_Fast\",\"SMA_Fast\",\"SMA_Fast\",\"SMA_Fast\",\"SMA_Fast\",\"SMA_Fast\",\"SMA_Fast\",\"SMA_Fast\",\"SMA_Fast\",\"SMA_Fast\",\"SMA_Fast\",\"SMA_Fast\",\"SMA_Fast\",\"SMA_Fast\",\"SMA_Fast\",\"SMA_Fast\",\"SMA_Fast\",\"SMA_Fast\",\"SMA_Fast\",\"SMA_Fast\",\"SMA_Fast\",\"SMA_Fast\",\"SMA_Fast\",\"SMA_Fast\",\"SMA_Fast\",\"SMA_Fast\",\"SMA_Fast\",\"SMA_Fast\",\"SMA_Fast\",\"SMA_Fast\",\"SMA_Fast\",\"SMA_Fast\",\"SMA_Fast\",\"SMA_Fast\",\"SMA_Fast\",\"SMA_Fast\",\"SMA_Fast\",\"SMA_Fast\",\"SMA_Fast\",\"SMA_Fast\",\"SMA_Fast\",\"SMA_Fast\",\"SMA_Fast\",\"SMA_Fast\",\"SMA_Fast\",\"SMA_Fast\",\"SMA_Fast\",\"SMA_Fast\",\"SMA_Fast\",\"SMA_Fast\",\"SMA_Fast\",\"SMA_Fast\",\"SMA_Fast\",\"SMA_Fast\",\"SMA_Fast\",\"SMA_Fast\",\"SMA_Fast\",\"SMA_Fast\",\"SMA_Fast\",\"SMA_Fast\",\"SMA_Fast\",\"SMA_Fast\",\"SMA_Fast\",\"SMA_Fast\",\"SMA_Fast\",\"SMA_Fast\",\"SMA_Fast\",\"SMA_Fast\",\"SMA_Fast\",\"SMA_Fast\",\"SMA_Fast\",\"SMA_Fast\",\"SMA_Fast\",\"SMA_Fast\",\"SMA_Fast\",\"SMA_Fast\",\"SMA_Fast\",\"SMA_Fast\",\"SMA_Fast\",\"SMA_Fast\",\"SMA_Fast\",\"SMA_Fast\",\"SMA_Fast\",\"SMA_Fast\",\"SMA_Fast\",\"SMA_Fast\",\"SMA_Fast\",\"SMA_Fast\",\"SMA_Fast\",\"SMA_Fast\",\"SMA_Fast\",\"SMA_Fast\",\"SMA_Fast\",\"SMA_Fast\",\"SMA_Fast\",\"SMA_Fast\",\"SMA_Fast\",\"SMA_Fast\",\"SMA_Fast\",\"SMA_Fast\",\"SMA_Fast\",\"SMA_Fast\",\"SMA_Fast\",\"SMA_Fast\",\"SMA_Fast\",\"SMA_Fast\",\"SMA_Fast\",\"SMA_Fast\",\"SMA_Fast\",\"SMA_Fast\",\"SMA_Fast\",\"SMA_Fast\",\"SMA_Fast\",\"SMA_Fast\",\"SMA_Fast\",\"SMA_Fast\",\"SMA_Fast\",\"SMA_Fast\",\"SMA_Fast\",\"SMA_Fast\",\"SMA_Fast\",\"SMA_Fast\",\"SMA_Fast\",\"SMA_Fast\",\"SMA_Fast\",\"SMA_Fast\",\"SMA_Fast\",\"SMA_Fast\",\"SMA_Fast\",\"SMA_Fast\",\"SMA_Fast\",\"SMA_Fast\",\"SMA_Fast\",\"SMA_Fast\",\"SMA_Fast\",\"SMA_Fast\",\"SMA_Fast\",\"SMA_Fast\",\"SMA_Fast\",\"SMA_Fast\",\"SMA_Fast\",\"SMA_Fast\",\"SMA_Fast\",\"SMA_Fast\",\"SMA_Fast\",\"SMA_Fast\",\"SMA_Fast\",\"SMA_Fast\",\"SMA_Fast\",\"SMA_Fast\",\"SMA_Fast\",\"SMA_Fast\",\"SMA_Fast\",\"SMA_Fast\",\"SMA_Fast\",\"SMA_Fast\",\"SMA_Fast\",\"SMA_Fast\",\"SMA_Fast\",\"SMA_Fast\",\"SMA_Fast\",\"SMA_Fast\",\"SMA_Fast\",\"SMA_Fast\",\"SMA_Fast\",\"SMA_Fast\",\"SMA_Fast\",\"SMA_Fast\",\"SMA_Fast\",\"SMA_Fast\",\"SMA_Fast\",\"SMA_Fast\",\"SMA_Fast\",\"SMA_Fast\",\"SMA_Fast\",\"SMA_Fast\",\"SMA_Fast\",\"SMA_Fast\",\"SMA_Fast\",\"SMA_Fast\",\"SMA_Fast\",\"SMA_Fast\",\"SMA_Fast\",\"SMA_Fast\",\"SMA_Fast\",\"SMA_Fast\",\"SMA_Fast\",\"SMA_Fast\",\"SMA_Fast\",\"SMA_Fast\",\"SMA_Fast\",\"SMA_Fast\",\"SMA_Fast\",\"SMA_Fast\",\"SMA_Fast\",\"SMA_Fast\",\"SMA_Fast\",\"SMA_Fast\",\"SMA_Fast\",\"SMA_Fast\",\"SMA_Fast\",\"SMA_Fast\",\"SMA_Fast\",\"SMA_Fast\",\"SMA_Fast\",\"SMA_Fast\",\"SMA_Fast\",\"SMA_Fast\",\"SMA_Fast\",\"SMA_Fast\",\"SMA_Fast\",\"SMA_Fast\",\"SMA_Fast\",\"SMA_Fast\",\"SMA_Fast\",\"SMA_Fast\",\"SMA_Fast\",\"SMA_Fast\",\"SMA_Fast\",\"SMA_Fast\",\"SMA_Fast\",\"SMA_Fast\",\"SMA_Fast\",\"SMA_Fast\",\"SMA_Fast\",\"SMA_Fast\",\"SMA_Fast\",\"SMA_Fast\",\"SMA_Fast\",\"SMA_Fast\",\"SMA_Fast\",\"SMA_Fast\",\"SMA_Fast\",\"SMA_Fast\",\"SMA_Fast\",\"SMA_Fast\",\"SMA_Fast\",\"SMA_Fast\",\"SMA_Fast\",\"SMA_Fast\",\"SMA_Fast\",\"SMA_Fast\",\"SMA_Fast\",\"SMA_Fast\",\"SMA_Fast\",\"SMA_Fast\",\"SMA_Fast\",\"SMA_Fast\",\"SMA_Fast\",\"SMA_Fast\",\"SMA_Fast\",\"SMA_Fast\",\"SMA_Fast\",\"SMA_Fast\",\"SMA_Fast\",\"SMA_Fast\",\"SMA_Fast\",\"SMA_Fast\",\"SMA_Fast\",\"SMA_Fast\",\"SMA_Fast\",\"SMA_Fast\",\"SMA_Fast\",\"SMA_Fast\",\"SMA_Fast\",\"SMA_Fast\",\"SMA_Fast\",\"SMA_Fast\",\"SMA_Fast\",\"SMA_Fast\",\"SMA_Fast\",\"SMA_Fast\",\"SMA_Fast\",\"SMA_Fast\",\"SMA_Fast\",\"SMA_Fast\",\"SMA_Fast\",\"SMA_Fast\",\"SMA_Fast\",\"SMA_Fast\",\"SMA_Fast\",\"SMA_Fast\",\"SMA_Fast\",\"SMA_Fast\",\"SMA_Fast\",\"SMA_Fast\",\"SMA_Fast\",\"SMA_Fast\",\"SMA_Fast\",\"SMA_Fast\",\"SMA_Fast\",\"SMA_Fast\",\"SMA_Fast\",\"SMA_Fast\",\"SMA_Fast\",\"SMA_Fast\",\"SMA_Fast\",\"SMA_Fast\",\"SMA_Fast\",\"SMA_Fast\",\"SMA_Fast\",\"SMA_Fast\",\"SMA_Fast\",\"SMA_Fast\",\"SMA_Fast\",\"SMA_Fast\",\"SMA_Fast\",\"SMA_Fast\",\"SMA_Fast\",\"SMA_Fast\",\"SMA_Fast\",\"SMA_Fast\",\"SMA_Fast\",\"SMA_Fast\",\"SMA_Fast\",\"SMA_Fast\",\"SMA_Fast\",\"SMA_Fast\",\"SMA_Fast\",\"SMA_Fast\",\"SMA_Fast\",\"SMA_Fast\",\"SMA_Fast\",\"SMA_Fast\",\"SMA_Fast\",\"SMA_Fast\",\"SMA_Fast\",\"SMA_Fast\",\"SMA_Fast\",\"SMA_Fast\",\"SMA_Fast\",\"SMA_Fast\",\"SMA_Fast\",\"SMA_Fast\",\"SMA_Fast\",\"SMA_Fast\",\"SMA_Fast\",\"SMA_Fast\",\"SMA_Fast\",\"SMA_Fast\",\"SMA_Fast\",\"SMA_Fast\",\"SMA_Fast\",\"SMA_Fast\",\"SMA_Fast\",\"SMA_Fast\",\"SMA_Fast\",\"SMA_Fast\",\"SMA_Fast\",\"SMA_Fast\",\"SMA_Fast\",\"SMA_Fast\",\"SMA_Fast\",\"SMA_Fast\",\"SMA_Fast\",\"SMA_Fast\",\"SMA_Fast\",\"SMA_Fast\",\"SMA_Fast\",\"SMA_Fast\",\"SMA_Fast\",\"SMA_Fast\",\"SMA_Fast\",\"SMA_Fast\",\"SMA_Fast\",\"SMA_Fast\",\"SMA_Fast\",\"SMA_Fast\",\"SMA_Fast\",\"SMA_Fast\",\"SMA_Fast\",\"SMA_Fast\",\"SMA_Fast\",\"SMA_Fast\",\"SMA_Fast\",\"SMA_Fast\",\"SMA_Fast\",\"SMA_Fast\",\"SMA_Fast\",\"SMA_Fast\",\"SMA_Fast\",\"SMA_Fast\",\"SMA_Fast\",\"SMA_Fast\",\"SMA_Fast\",\"SMA_Fast\",\"SMA_Fast\",\"SMA_Fast\",\"SMA_Fast\",\"SMA_Fast\",\"SMA_Fast\",\"SMA_Fast\",\"SMA_Fast\",\"SMA_Fast\",\"SMA_Fast\",\"SMA_Fast\",\"SMA_Fast\",\"SMA_Fast\",\"SMA_Fast\",\"SMA_Fast\",\"SMA_Fast\",\"SMA_Fast\",\"SMA_Fast\",\"SMA_Fast\",\"SMA_Fast\",\"SMA_Fast\",\"SMA_Fast\",\"SMA_Fast\",\"SMA_Fast\",\"SMA_Fast\",\"SMA_Fast\",\"SMA_Fast\",\"SMA_Fast\",\"SMA_Fast\",\"SMA_Fast\",\"SMA_Fast\",\"SMA_Fast\",\"SMA_Fast\",\"SMA_Fast\",\"SMA_Fast\",\"SMA_Fast\",\"SMA_Fast\",\"SMA_Fast\",\"SMA_Fast\",\"SMA_Fast\",\"SMA_Fast\",\"SMA_Fast\",\"SMA_Fast\",\"SMA_Fast\",\"SMA_Fast\",\"SMA_Fast\",\"SMA_Fast\",\"SMA_Fast\",\"SMA_Fast\",\"SMA_Fast\",\"SMA_Fast\",\"SMA_Fast\",\"SMA_Fast\",\"SMA_Fast\",\"SMA_Fast\",\"SMA_Fast\",\"SMA_Fast\",\"SMA_Fast\",\"SMA_Fast\",\"SMA_Fast\",\"SMA_Fast\",\"SMA_Fast\",\"SMA_Fast\",\"SMA_Fast\",\"SMA_Fast\",\"SMA_Fast\",\"SMA_Fast\",\"SMA_Fast\",\"SMA_Fast\",\"SMA_Fast\",\"SMA_Fast\",\"SMA_Fast\",\"SMA_Fast\",\"SMA_Fast\",\"SMA_Fast\",\"SMA_Fast\",\"SMA_Fast\",\"SMA_Fast\",\"SMA_Fast\",\"SMA_Fast\",\"SMA_Fast\",\"SMA_Fast\",\"SMA_Fast\",\"SMA_Fast\",\"SMA_Fast\",\"SMA_Fast\",\"SMA_Fast\",\"SMA_Fast\",\"SMA_Fast\",\"SMA_Fast\",\"SMA_Fast\",\"SMA_Fast\",\"SMA_Fast\",\"SMA_Fast\",\"SMA_Fast\",\"SMA_Fast\",\"SMA_Fast\",\"SMA_Fast\",\"SMA_Fast\",\"SMA_Fast\",\"SMA_Fast\",\"SMA_Fast\",\"SMA_Fast\",\"SMA_Fast\",\"SMA_Fast\",\"SMA_Fast\",\"SMA_Fast\",\"SMA_Fast\",\"SMA_Fast\",\"SMA_Fast\",\"SMA_Fast\",\"SMA_Fast\",\"SMA_Fast\",\"SMA_Fast\",\"SMA_Fast\",\"SMA_Fast\",\"SMA_Fast\",\"SMA_Fast\",\"SMA_Fast\",\"SMA_Fast\",\"SMA_Fast\",\"SMA_Fast\",\"SMA_Fast\",\"SMA_Fast\",\"SMA_Fast\",\"SMA_Fast\",\"SMA_Fast\",\"SMA_Fast\",\"SMA_Fast\",\"SMA_Fast\",\"SMA_Fast\",\"SMA_Fast\",\"SMA_Fast\",\"SMA_Fast\",\"SMA_Fast\",\"SMA_Fast\",\"SMA_Fast\",\"SMA_Fast\",\"SMA_Fast\",\"SMA_Fast\",\"SMA_Fast\",\"SMA_Fast\",\"SMA_Fast\",\"SMA_Fast\",\"SMA_Fast\",\"SMA_Fast\",\"SMA_Fast\",\"SMA_Fast\",\"SMA_Fast\",\"SMA_Fast\",\"SMA_Fast\",\"SMA_Fast\",\"SMA_Fast\",\"SMA_Fast\",\"SMA_Fast\",\"SMA_Fast\",\"SMA_Fast\",\"SMA_Fast\",\"SMA_Fast\",\"SMA_Fast\",\"SMA_Fast\",\"SMA_Fast\",\"SMA_Fast\",\"SMA_Fast\",\"SMA_Fast\",\"SMA_Fast\",\"SMA_Fast\",\"SMA_Fast\",\"SMA_Fast\",\"SMA_Fast\",\"SMA_Fast\",\"SMA_Fast\",\"SMA_Fast\",\"SMA_Fast\",\"SMA_Fast\",\"SMA_Fast\",\"SMA_Fast\",\"SMA_Fast\",\"SMA_Fast\",\"SMA_Fast\",\"SMA_Fast\",\"SMA_Fast\",\"SMA_Fast\",\"SMA_Fast\",\"SMA_Fast\",\"SMA_Fast\",\"SMA_Fast\",\"SMA_Fast\",\"SMA_Fast\",\"SMA_Fast\",\"SMA_Fast\",\"SMA_Fast\",\"SMA_Fast\",\"SMA_Fast\",\"SMA_Fast\",\"SMA_Fast\",\"SMA_Fast\",\"SMA_Fast\",\"SMA_Fast\",\"SMA_Fast\",\"SMA_Fast\",\"SMA_Fast\",\"SMA_Fast\",\"SMA_Fast\",\"SMA_Fast\",\"SMA_Fast\",\"SMA_Fast\",\"SMA_Fast\",\"SMA_Fast\",\"SMA_Fast\",\"SMA_Fast\",\"SMA_Fast\",\"SMA_Fast\",\"SMA_Fast\",\"SMA_Fast\",\"SMA_Fast\",\"SMA_Fast\",\"SMA_Fast\",\"SMA_Fast\",\"SMA_Fast\",\"SMA_Fast\",\"SMA_Fast\",\"SMA_Fast\",\"SMA_Fast\",\"SMA_Fast\",\"SMA_Fast\",\"SMA_Fast\",\"SMA_Fast\",\"SMA_Fast\",\"SMA_Fast\",\"SMA_Fast\",\"SMA_Fast\",\"SMA_Fast\",\"SMA_Fast\",\"SMA_Fast\",\"SMA_Fast\",\"SMA_Fast\",\"SMA_Fast\",\"SMA_Fast\",\"SMA_Fast\",\"SMA_Fast\",\"SMA_Fast\",\"SMA_Fast\",\"SMA_Fast\",\"SMA_Fast\",\"SMA_Fast\",\"SMA_Fast\",\"SMA_Fast\",\"SMA_Fast\",\"SMA_Fast\",\"SMA_Fast\",\"SMA_Fast\",\"SMA_Fast\",\"SMA_Fast\",\"SMA_Fast\",\"SMA_Fast\",\"SMA_Fast\",\"SMA_Fast\",\"SMA_Fast\",\"SMA_Fast\",\"SMA_Fast\",\"SMA_Fast\",\"SMA_Fast\",\"SMA_Fast\",\"SMA_Fast\",\"SMA_Fast\",\"SMA_Fast\",\"SMA_Fast\",\"SMA_Fast\",\"SMA_Fast\",\"SMA_Fast\",\"SMA_Fast\",\"SMA_Fast\",\"SMA_Fast\",\"SMA_Fast\",\"SMA_Fast\",\"SMA_Fast\",\"SMA_Fast\",\"SMA_Fast\",\"SMA_Fast\",\"SMA_Fast\",\"SMA_Fast\",\"SMA_Fast\",\"SMA_Fast\",\"SMA_Fast\",\"SMA_Fast\",\"SMA_Fast\",\"SMA_Fast\",\"SMA_Fast\",\"SMA_Fast\",\"SMA_Fast\",\"SMA_Fast\",\"SMA_Fast\",\"SMA_Fast\",\"SMA_Fast\",\"SMA_Fast\",\"SMA_Fast\",\"SMA_Fast\",\"SMA_Fast\",\"SMA_Fast\",\"SMA_Fast\",\"SMA_Fast\",\"SMA_Fast\",\"SMA_Fast\",\"SMA_Fast\",\"SMA_Fast\",\"SMA_Fast\",\"SMA_Fast\",\"SMA_Fast\",\"SMA_Fast\",\"SMA_Fast\",\"SMA_Fast\",\"SMA_Fast\",\"SMA_Fast\",\"SMA_Fast\",\"SMA_Fast\",\"SMA_Fast\",\"SMA_Fast\",\"SMA_Fast\",\"SMA_Fast\",\"SMA_Fast\",\"SMA_Fast\",\"SMA_Fast\",\"SMA_Fast\",\"SMA_Fast\",\"SMA_Fast\",\"SMA_Fast\",\"SMA_Fast\",\"SMA_Fast\",\"SMA_Fast\",\"SMA_Fast\",\"SMA_Fast\",\"SMA_Fast\",\"SMA_Fast\",\"SMA_Fast\",\"SMA_Fast\",\"SMA_Fast\",\"SMA_Fast\",\"SMA_Fast\",\"SMA_Fast\",\"SMA_Fast\",\"SMA_Fast\",\"SMA_Fast\",\"SMA_Fast\",\"SMA_Fast\",\"SMA_Fast\",\"SMA_Fast\",\"SMA_Fast\",\"SMA_Fast\",\"SMA_Fast\",\"SMA_Fast\",\"SMA_Fast\",\"SMA_Fast\",\"SMA_Fast\",\"SMA_Fast\",\"SMA_Fast\",\"SMA_Fast\",\"SMA_Fast\",\"SMA_Fast\",\"SMA_Fast\",\"SMA_Fast\",\"SMA_Fast\",\"SMA_Fast\",\"SMA_Fast\",\"SMA_Fast\",\"SMA_Fast\",\"SMA_Fast\",\"SMA_Fast\",\"SMA_Fast\",\"SMA_Fast\",\"SMA_Fast\",\"SMA_Fast\",\"SMA_Fast\",\"SMA_Fast\",\"SMA_Fast\",\"SMA_Fast\",\"SMA_Fast\",\"SMA_Fast\",\"SMA_Fast\",\"SMA_Fast\",\"SMA_Fast\",\"SMA_Fast\",\"SMA_Fast\",\"SMA_Fast\",\"SMA_Fast\",\"SMA_Fast\",\"SMA_Fast\",\"SMA_Fast\",\"SMA_Fast\",\"SMA_Fast\",\"SMA_Fast\",\"SMA_Fast\",\"SMA_Fast\",\"SMA_Fast\",\"SMA_Fast\",\"SMA_Fast\",\"SMA_Fast\",\"SMA_Fast\",\"SMA_Fast\",\"SMA_Fast\",\"SMA_Fast\",\"SMA_Fast\",\"SMA_Fast\",\"SMA_Fast\",\"SMA_Fast\",\"SMA_Fast\",\"SMA_Fast\",\"SMA_Fast\",\"SMA_Fast\",\"SMA_Fast\",\"SMA_Fast\",\"SMA_Fast\",\"SMA_Fast\",\"SMA_Fast\",\"SMA_Fast\",\"SMA_Fast\",\"SMA_Fast\",\"SMA_Fast\",\"SMA_Fast\",\"SMA_Fast\",\"SMA_Fast\",\"SMA_Fast\",\"SMA_Fast\",\"SMA_Fast\",\"SMA_Fast\",\"SMA_Fast\",\"SMA_Fast\",\"SMA_Fast\",\"SMA_Fast\",\"SMA_Fast\",\"SMA_Fast\",\"SMA_Fast\",\"SMA_Fast\",\"SMA_Fast\",\"SMA_Fast\",\"SMA_Fast\",\"SMA_Fast\",\"SMA_Fast\",\"SMA_Fast\",\"SMA_Fast\",\"SMA_Fast\",\"SMA_Fast\",\"SMA_Fast\",\"SMA_Fast\",\"SMA_Fast\",\"SMA_Fast\",\"SMA_Fast\",\"SMA_Fast\",\"SMA_Fast\",\"SMA_Fast\",\"SMA_Fast\",\"SMA_Fast\",\"SMA_Fast\",\"SMA_Fast\",\"SMA_Fast\",\"SMA_Fast\",\"SMA_Fast\",\"SMA_Fast\",\"SMA_Fast\",\"SMA_Fast\",\"SMA_Fast\",\"SMA_Fast\",\"SMA_Fast\",\"SMA_Fast\",\"SMA_Fast\",\"SMA_Fast\",\"SMA_Fast\",\"SMA_Fast\",\"SMA_Fast\",\"SMA_Fast\",\"SMA_Fast\",\"SMA_Fast\",\"SMA_Fast\",\"SMA_Fast\",\"SMA_Fast\",\"SMA_Fast\",\"SMA_Fast\",\"SMA_Fast\",\"SMA_Fast\",\"SMA_Fast\",\"SMA_Fast\",\"SMA_Fast\",\"SMA_Fast\",\"SMA_Fast\",\"SMA_Fast\",\"SMA_Fast\",\"SMA_Fast\",\"SMA_Fast\",\"SMA_Fast\",\"SMA_Fast\",\"SMA_Fast\",\"SMA_Fast\",\"SMA_Fast\",\"SMA_Fast\",\"SMA_Fast\",\"SMA_Fast\",\"SMA_Fast\",\"SMA_Fast\",\"SMA_Fast\",\"SMA_Fast\",\"SMA_Fast\",\"SMA_Fast\",\"SMA_Fast\",\"SMA_Fast\",\"SMA_Fast\",\"SMA_Fast\",\"SMA_Fast\",\"SMA_Fast\",\"SMA_Fast\",\"SMA_Fast\",\"SMA_Fast\",\"SMA_Fast\",\"SMA_Fast\",\"SMA_Fast\",\"SMA_Fast\",\"SMA_Fast\",\"SMA_Fast\",\"SMA_Fast\",\"SMA_Fast\",\"SMA_Fast\",\"SMA_Fast\",\"SMA_Fast\",\"SMA_Fast\",\"SMA_Fast\",\"SMA_Fast\",\"SMA_Fast\",\"SMA_Fast\",\"SMA_Fast\",\"SMA_Fast\",\"SMA_Fast\",\"SMA_Fast\",\"SMA_Fast\",\"SMA_Fast\",\"SMA_Fast\",\"SMA_Fast\",\"SMA_Fast\",\"SMA_Fast\",\"SMA_Fast\",\"SMA_Fast\",\"SMA_Fast\",\"SMA_Fast\",\"SMA_Fast\",\"SMA_Fast\",\"SMA_Fast\",\"SMA_Fast\",\"SMA_Fast\",\"SMA_Fast\",\"SMA_Fast\",\"SMA_Fast\",\"SMA_Fast\",\"SMA_Fast\",\"SMA_Fast\",\"SMA_Fast\",\"SMA_Fast\",\"SMA_Fast\",\"SMA_Fast\",\"SMA_Fast\",\"SMA_Fast\",\"SMA_Fast\",\"SMA_Fast\",\"SMA_Fast\",\"SMA_Fast\",\"SMA_Fast\",\"SMA_Fast\",\"SMA_Fast\",\"SMA_Fast\",\"SMA_Fast\",\"SMA_Fast\",\"SMA_Fast\",\"SMA_Fast\",\"SMA_Fast\",\"SMA_Fast\",\"SMA_Fast\",\"SMA_Fast\",\"SMA_Fast\",\"SMA_Fast\",\"SMA_Fast\",\"SMA_Fast\",\"SMA_Fast\",\"SMA_Fast\",\"SMA_Fast\",\"SMA_Fast\",\"SMA_Fast\",\"SMA_Fast\",\"SMA_Fast\",\"SMA_Fast\",\"SMA_Fast\",\"SMA_Fast\",\"SMA_Fast\",\"SMA_Fast\",\"SMA_Fast\",\"SMA_Fast\",\"SMA_Fast\",\"SMA_Fast\",\"SMA_Fast\",\"SMA_Fast\",\"SMA_Fast\",\"SMA_Fast\",\"SMA_Fast\",\"SMA_Fast\",\"SMA_Fast\",\"SMA_Fast\",\"SMA_Fast\",\"SMA_Fast\",\"SMA_Fast\",\"SMA_Fast\",\"SMA_Fast\",\"SMA_Fast\",\"SMA_Fast\",\"SMA_Fast\",\"SMA_Fast\",\"SMA_Fast\",\"SMA_Fast\",\"SMA_Fast\",\"SMA_Fast\",\"SMA_Fast\",\"SMA_Fast\",\"SMA_Fast\",\"SMA_Fast\",\"SMA_Fast\",\"SMA_Fast\",\"SMA_Fast\",\"SMA_Fast\",\"SMA_Fast\",\"SMA_Fast\",\"SMA_Fast\",\"SMA_Fast\",\"SMA_Fast\",\"SMA_Fast\",\"SMA_Fast\",\"SMA_Fast\",\"SMA_Fast\",\"SMA_Fast\",\"SMA_Fast\",\"SMA_Fast\",\"SMA_Fast\",\"SMA_Fast\",\"SMA_Fast\",\"SMA_Fast\",\"SMA_Fast\",\"SMA_Fast\",\"SMA_Fast\",\"SMA_Fast\",\"SMA_Fast\",\"SMA_Fast\",\"SMA_Fast\",\"SMA_Fast\",\"SMA_Fast\",\"SMA_Fast\",\"SMA_Fast\",\"SMA_Fast\",\"SMA_Fast\",\"SMA_Fast\",\"SMA_Fast\",\"SMA_Fast\",\"SMA_Fast\",\"SMA_Fast\",\"SMA_Fast\",\"SMA_Fast\",\"SMA_Fast\",\"SMA_Fast\",\"SMA_Fast\",\"SMA_Fast\",\"SMA_Fast\",\"SMA_Fast\",\"SMA_Fast\",\"SMA_Fast\",\"SMA_Fast\",\"SMA_Fast\",\"SMA_Fast\",\"SMA_Fast\",\"SMA_Fast\",\"SMA_Fast\",\"SMA_Fast\",\"SMA_Fast\",\"SMA_Fast\",\"SMA_Fast\",\"SMA_Fast\",\"SMA_Fast\",\"SMA_Fast\",\"SMA_Fast\",\"SMA_Fast\",\"SMA_Fast\",\"SMA_Fast\",\"SMA_Fast\",\"SMA_Fast\",\"SMA_Fast\",\"SMA_Fast\",\"SMA_Fast\",\"SMA_Fast\",\"SMA_Fast\",\"SMA_Fast\",\"SMA_Fast\",\"SMA_Fast\",\"SMA_Fast\",\"SMA_Fast\",\"SMA_Fast\",\"SMA_Fast\",\"SMA_Fast\",\"SMA_Fast\",\"SMA_Fast\",\"SMA_Fast\",\"SMA_Fast\",\"SMA_Fast\",\"SMA_Fast\",\"SMA_Fast\",\"SMA_Fast\",\"SMA_Fast\",\"SMA_Fast\",\"SMA_Fast\",\"SMA_Fast\",\"SMA_Fast\",\"SMA_Fast\",\"SMA_Fast\",\"SMA_Fast\",\"SMA_Fast\",\"SMA_Fast\",\"SMA_Fast\",\"SMA_Fast\",\"SMA_Fast\",\"SMA_Fast\",\"SMA_Fast\",\"SMA_Fast\",\"SMA_Fast\",\"SMA_Fast\",\"SMA_Fast\",\"SMA_Fast\",\"SMA_Fast\",\"SMA_Fast\",\"SMA_Fast\",\"SMA_Fast\",\"SMA_Fast\",\"SMA_Fast\",\"SMA_Fast\",\"SMA_Fast\",\"SMA_Fast\",\"SMA_Fast\",\"SMA_Fast\",\"SMA_Fast\",\"SMA_Fast\",\"SMA_Fast\",\"SMA_Fast\",\"SMA_Fast\",\"SMA_Fast\",\"SMA_Fast\",\"SMA_Fast\",\"SMA_Fast\",\"SMA_Fast\",\"SMA_Fast\",\"SMA_Fast\",\"SMA_Fast\",\"SMA_Fast\",\"SMA_Fast\",\"SMA_Fast\",\"SMA_Fast\",\"SMA_Fast\",\"SMA_Fast\",\"SMA_Fast\",\"SMA_Fast\",\"SMA_Fast\",\"SMA_Fast\",\"SMA_Fast\",\"SMA_Fast\",\"SMA_Fast\",\"SMA_Fast\",\"SMA_Fast\",\"SMA_Fast\",\"SMA_Fast\",\"SMA_Fast\",\"SMA_Fast\",\"SMA_Fast\",\"SMA_Fast\",\"SMA_Fast\",\"SMA_Fast\",\"SMA_Fast\",\"SMA_Fast\",\"SMA_Fast\",\"SMA_Fast\",\"SMA_Fast\",\"SMA_Fast\",\"SMA_Fast\",\"SMA_Fast\",\"SMA_Fast\",\"SMA_Fast\",\"SMA_Fast\",\"SMA_Fast\",\"SMA_Fast\",\"SMA_Fast\",\"SMA_Fast\",\"SMA_Fast\",\"SMA_Fast\",\"SMA_Fast\",\"SMA_Fast\",\"SMA_Fast\",\"SMA_Fast\",\"SMA_Fast\",\"SMA_Fast\",\"SMA_Fast\",\"SMA_Fast\",\"SMA_Fast\",\"SMA_Fast\",\"SMA_Fast\",\"SMA_Fast\",\"SMA_Fast\",\"SMA_Fast\",\"SMA_Fast\",\"SMA_Fast\",\"SMA_Fast\",\"SMA_Fast\",\"SMA_Fast\",\"SMA_Fast\",\"SMA_Fast\",\"SMA_Fast\",\"SMA_Fast\",\"SMA_Fast\",\"SMA_Fast\",\"SMA_Fast\",\"SMA_Fast\",\"SMA_Fast\",\"SMA_Fast\",\"SMA_Fast\",\"SMA_Fast\",\"SMA_Fast\",\"SMA_Fast\",\"SMA_Fast\",\"SMA_Fast\",\"SMA_Fast\",\"SMA_Fast\",\"SMA_Fast\",\"SMA_Fast\",\"SMA_Fast\",\"SMA_Fast\",\"SMA_Fast\",\"SMA_Fast\",\"SMA_Fast\",\"SMA_Fast\",\"SMA_Fast\",\"SMA_Fast\",\"SMA_Fast\",\"SMA_Fast\",\"SMA_Fast\",\"SMA_Fast\",\"SMA_Fast\",\"SMA_Fast\",\"SMA_Fast\",\"SMA_Fast\",\"SMA_Fast\",\"SMA_Fast\",\"SMA_Fast\",\"SMA_Fast\",\"SMA_Fast\",\"SMA_Fast\",\"SMA_Fast\",\"SMA_Fast\",\"SMA_Fast\",\"SMA_Fast\",\"SMA_Fast\",\"SMA_Fast\",\"SMA_Fast\",\"SMA_Fast\",\"SMA_Fast\",\"SMA_Fast\",\"SMA_Fast\",\"SMA_Fast\",\"SMA_Fast\",\"SMA_Fast\",\"SMA_Fast\",\"SMA_Fast\",\"SMA_Fast\",\"SMA_Fast\",\"SMA_Fast\",\"SMA_Fast\",\"SMA_Fast\",\"SMA_Fast\",\"SMA_Fast\",\"SMA_Fast\",\"SMA_Fast\",\"SMA_Fast\",\"SMA_Fast\",\"SMA_Fast\",\"SMA_Fast\",\"SMA_Fast\",\"SMA_Fast\",\"SMA_Fast\",\"SMA_Fast\",\"SMA_Fast\",\"SMA_Fast\",\"SMA_Fast\",\"SMA_Fast\",\"SMA_Fast\",\"SMA_Fast\",\"SMA_Fast\",\"SMA_Fast\",\"SMA_Fast\",\"SMA_Fast\",\"SMA_Fast\",\"SMA_Fast\",\"SMA_Fast\",\"SMA_Fast\",\"SMA_Fast\",\"SMA_Fast\",\"SMA_Fast\",\"SMA_Fast\",\"SMA_Fast\",\"SMA_Fast\",\"SMA_Fast\",\"SMA_Fast\",\"SMA_Fast\",\"SMA_Fast\",\"SMA_Fast\",\"SMA_Fast\",\"SMA_Fast\",\"SMA_Fast\",\"SMA_Fast\",\"SMA_Fast\",\"SMA_Fast\",\"SMA_Fast\",\"SMA_Fast\",\"SMA_Fast\",\"SMA_Fast\",\"SMA_Fast\",\"SMA_Fast\",\"SMA_Fast\",\"SMA_Fast\",\"SMA_Fast\",\"SMA_Fast\",\"SMA_Fast\",\"SMA_Fast\",\"SMA_Fast\",\"SMA_Fast\",\"SMA_Fast\",\"SMA_Fast\",\"SMA_Fast\",\"SMA_Fast\",\"SMA_Fast\",\"SMA_Fast\",\"SMA_Fast\",\"SMA_Fast\",\"SMA_Fast\",\"SMA_Fast\",\"SMA_Fast\",\"SMA_Fast\",\"SMA_Fast\",\"SMA_Fast\",\"SMA_Fast\",\"SMA_Fast\",\"SMA_Fast\",\"SMA_Fast\",\"SMA_Fast\",\"SMA_Fast\",\"SMA_Fast\",\"SMA_Fast\",\"SMA_Fast\",\"SMA_Fast\",\"SMA_Fast\",\"SMA_Fast\",\"SMA_Fast\",\"SMA_Fast\",\"SMA_Fast\",\"SMA_Fast\",\"SMA_Fast\",\"SMA_Fast\",\"SMA_Fast\",\"SMA_Fast\",\"SMA_Fast\",\"SMA_Fast\",\"SMA_Fast\",\"SMA_Fast\",\"SMA_Fast\",\"SMA_Fast\",\"SMA_Fast\",\"SMA_Fast\",\"SMA_Fast\",\"SMA_Fast\",\"SMA_Fast\",\"SMA_Fast\",\"SMA_Fast\",\"SMA_Fast\",\"SMA_Fast\",\"SMA_Fast\",\"SMA_Fast\",\"SMA_Fast\",\"SMA_Fast\",\"SMA_Fast\",\"SMA_Fast\",\"SMA_Fast\",\"SMA_Fast\",\"SMA_Fast\",\"SMA_Fast\",\"SMA_Fast\",\"SMA_Fast\",\"SMA_Fast\",\"SMA_Fast\",\"SMA_Fast\",\"SMA_Fast\",\"SMA_Fast\",\"SMA_Fast\",\"SMA_Fast\",\"SMA_Fast\",\"SMA_Fast\",\"SMA_Fast\",\"SMA_Fast\",\"SMA_Fast\",\"SMA_Fast\",\"SMA_Fast\",\"SMA_Fast\",\"SMA_Fast\",\"SMA_Fast\",\"SMA_Fast\",\"SMA_Fast\",\"SMA_Fast\",\"SMA_Fast\",\"SMA_Fast\",\"SMA_Fast\",\"SMA_Fast\",\"SMA_Fast\",\"SMA_Fast\",\"SMA_Fast\",\"SMA_Fast\",\"SMA_Fast\",\"SMA_Fast\",\"SMA_Fast\",\"SMA_Fast\",\"SMA_Fast\",\"SMA_Fast\",\"SMA_Fast\",\"SMA_Fast\",\"SMA_Fast\",\"SMA_Fast\",\"SMA_Fast\",\"SMA_Fast\",\"SMA_Fast\",\"SMA_Fast\",\"SMA_Fast\",\"SMA_Fast\",\"SMA_Fast\",\"SMA_Fast\",\"SMA_Fast\",\"SMA_Fast\",\"SMA_Fast\",\"SMA_Fast\",\"SMA_Fast\",\"SMA_Fast\",\"SMA_Fast\",\"SMA_Fast\",\"SMA_Fast\",\"SMA_Fast\",\"SMA_Fast\",\"SMA_Fast\",\"SMA_Fast\",\"SMA_Fast\",\"SMA_Fast\",\"SMA_Fast\",\"SMA_Fast\",\"SMA_Fast\",\"SMA_Fast\",\"SMA_Fast\",\"SMA_Fast\",\"SMA_Fast\",\"SMA_Fast\",\"SMA_Fast\",\"SMA_Fast\",\"SMA_Fast\",\"SMA_Fast\",\"SMA_Fast\",\"SMA_Fast\",\"SMA_Fast\",\"SMA_Fast\",\"SMA_Fast\",\"SMA_Fast\",\"SMA_Fast\",\"SMA_Fast\",\"SMA_Fast\",\"SMA_Fast\",\"SMA_Fast\",\"SMA_Fast\",\"SMA_Fast\",\"SMA_Fast\",\"SMA_Fast\",\"SMA_Fast\",\"SMA_Fast\",\"SMA_Fast\",\"SMA_Fast\",\"SMA_Fast\",\"SMA_Fast\",\"SMA_Fast\",\"SMA_Fast\",\"SMA_Fast\",\"SMA_Fast\",\"SMA_Fast\",\"SMA_Fast\",\"SMA_Fast\",\"SMA_Fast\",\"SMA_Fast\",\"SMA_Fast\",\"SMA_Fast\",\"SMA_Fast\",\"SMA_Fast\",\"SMA_Fast\",\"SMA_Fast\",\"SMA_Fast\",\"SMA_Fast\",\"SMA_Fast\",\"SMA_Fast\",\"SMA_Fast\",\"SMA_Fast\",\"SMA_Fast\",\"SMA_Fast\",\"SMA_Fast\",\"SMA_Fast\",\"SMA_Fast\",\"SMA_Fast\",\"SMA_Fast\",\"SMA_Fast\",\"SMA_Fast\",\"SMA_Fast\",\"SMA_Fast\",\"SMA_Fast\",\"SMA_Fast\",\"SMA_Fast\",\"SMA_Fast\",\"SMA_Fast\",\"SMA_Fast\",\"SMA_Fast\",\"SMA_Fast\",\"SMA_Fast\",\"SMA_Fast\",\"SMA_Fast\",\"SMA_Fast\",\"SMA_Fast\",\"SMA_Fast\",\"SMA_Fast\",\"SMA_Fast\",\"SMA_Fast\",\"SMA_Fast\",\"SMA_Fast\",\"SMA_Fast\",\"SMA_Fast\",\"SMA_Fast\",\"SMA_Fast\",\"SMA_Fast\",\"SMA_Fast\",\"SMA_Fast\",\"SMA_Fast\",\"SMA_Fast\",\"SMA_Fast\",\"SMA_Fast\",\"SMA_Fast\",\"SMA_Fast\",\"SMA_Fast\",\"SMA_Fast\",\"SMA_Fast\",\"SMA_Fast\",\"SMA_Fast\",\"SMA_Fast\",\"SMA_Fast\",\"SMA_Fast\",\"SMA_Fast\",\"SMA_Fast\",\"SMA_Fast\",\"SMA_Fast\",\"SMA_Fast\",\"SMA_Fast\",\"SMA_Fast\",\"SMA_Fast\",\"SMA_Fast\",\"SMA_Fast\",\"SMA_Fast\",\"SMA_Fast\",\"SMA_Fast\",\"SMA_Fast\",\"SMA_Fast\",\"SMA_Fast\",\"SMA_Fast\",\"SMA_Fast\",\"SMA_Fast\",\"SMA_Fast\",\"SMA_Fast\",\"SMA_Fast\",\"SMA_Fast\",\"SMA_Fast\",\"SMA_Fast\",\"SMA_Fast\",\"SMA_Fast\",\"SMA_Fast\",\"SMA_Fast\",\"SMA_Fast\",\"SMA_Fast\",\"SMA_Fast\",\"SMA_Fast\",\"SMA_Fast\",\"SMA_Fast\",\"SMA_Fast\",\"SMA_Fast\",\"SMA_Fast\",\"SMA_Fast\",\"SMA_Fast\",\"SMA_Fast\",\"SMA_Fast\",\"SMA_Fast\",\"SMA_Fast\",\"SMA_Fast\",\"SMA_Fast\",\"SMA_Fast\",\"SMA_Fast\",\"SMA_Fast\",\"SMA_Fast\",\"SMA_Fast\",\"SMA_Fast\",\"SMA_Fast\",\"SMA_Fast\",\"SMA_Fast\",\"SMA_Fast\",\"SMA_Fast\",\"SMA_Fast\",\"SMA_Fast\",\"SMA_Fast\",\"SMA_Fast\",\"SMA_Fast\",\"SMA_Fast\",\"SMA_Fast\",\"SMA_Fast\",\"SMA_Fast\",\"SMA_Fast\",\"SMA_Fast\",\"SMA_Fast\",\"SMA_Fast\",\"SMA_Fast\",\"SMA_Fast\",\"SMA_Fast\",\"SMA_Fast\",\"SMA_Fast\",\"SMA_Fast\",\"SMA_Fast\",\"SMA_Fast\",\"SMA_Fast\",\"SMA_Fast\",\"SMA_Fast\",\"SMA_Fast\",\"SMA_Fast\",\"SMA_Fast\",\"SMA_Fast\",\"SMA_Fast\",\"SMA_Fast\",\"SMA_Fast\",\"SMA_Fast\",\"SMA_Fast\",\"SMA_Fast\",\"SMA_Fast\",\"SMA_Fast\",\"SMA_Fast\",\"SMA_Fast\",\"SMA_Fast\",\"SMA_Fast\",\"SMA_Fast\",\"SMA_Fast\",\"SMA_Fast\",\"SMA_Fast\",\"SMA_Fast\",\"SMA_Fast\",\"SMA_Fast\",\"SMA_Fast\",\"SMA_Fast\",\"SMA_Fast\",\"SMA_Fast\",\"SMA_Fast\",\"SMA_Fast\",\"SMA_Fast\",\"SMA_Fast\",\"SMA_Fast\",\"SMA_Fast\",\"SMA_Fast\",\"SMA_Fast\",\"SMA_Fast\",\"SMA_Fast\",\"SMA_Fast\",\"SMA_Fast\",\"SMA_Fast\",\"SMA_Fast\",\"SMA_Fast\",\"SMA_Fast\",\"SMA_Fast\",\"SMA_Fast\",\"SMA_Fast\",\"SMA_Fast\",\"SMA_Fast\",\"SMA_Fast\",\"SMA_Fast\",\"SMA_Fast\",\"SMA_Fast\",\"SMA_Fast\",\"SMA_Fast\",\"SMA_Fast\",\"SMA_Fast\",\"SMA_Fast\",\"SMA_Fast\",\"SMA_Fast\",\"SMA_Fast\",\"SMA_Fast\",\"SMA_Fast\",\"SMA_Fast\",\"SMA_Fast\",\"SMA_Fast\",\"SMA_Fast\",\"SMA_Fast\",\"SMA_Fast\",\"SMA_Fast\",\"SMA_Fast\",\"SMA_Fast\",\"SMA_Fast\",\"SMA_Fast\",\"SMA_Fast\",\"SMA_Fast\",\"SMA_Fast\",\"SMA_Fast\",\"SMA_Fast\",\"SMA_Fast\",\"SMA_Fast\",\"SMA_Fast\",\"SMA_Fast\",\"SMA_Fast\",\"SMA_Fast\",\"SMA_Fast\",\"SMA_Fast\",\"SMA_Fast\",\"SMA_Fast\",\"SMA_Fast\",\"SMA_Fast\",\"SMA_Fast\",\"SMA_Fast\",\"SMA_Fast\",\"SMA_Fast\",\"SMA_Fast\",\"SMA_Fast\",\"SMA_Fast\",\"SMA_Fast\",\"SMA_Fast\",\"SMA_Fast\",\"SMA_Fast\",\"SMA_Fast\",\"SMA_Fast\",\"SMA_Fast\",\"SMA_Fast\",\"SMA_Fast\",\"SMA_Fast\",\"SMA_Fast\",\"SMA_Fast\",\"SMA_Fast\",\"SMA_Fast\",\"SMA_Fast\",\"SMA_Fast\",\"SMA_Fast\",\"SMA_Fast\",\"SMA_Fast\",\"SMA_Fast\",\"SMA_Fast\",\"SMA_Fast\",\"SMA_Fast\",\"SMA_Fast\",\"SMA_Fast\",\"SMA_Fast\",\"SMA_Fast\",\"SMA_Fast\",\"SMA_Fast\",\"SMA_Fast\",\"SMA_Fast\",\"SMA_Fast\",\"SMA_Fast\",\"SMA_Fast\",\"SMA_Fast\",\"SMA_Fast\",\"SMA_Fast\",\"SMA_Fast\",\"SMA_Fast\",\"SMA_Fast\",\"SMA_Fast\",\"SMA_Fast\",\"SMA_Fast\",\"SMA_Fast\",\"SMA_Fast\",\"SMA_Fast\",\"SMA_Fast\",\"SMA_Fast\",\"SMA_Fast\",\"SMA_Fast\",\"SMA_Fast\",\"SMA_Fast\",\"SMA_Fast\",\"SMA_Fast\",\"SMA_Fast\",\"SMA_Fast\",\"SMA_Fast\",\"SMA_Fast\",\"SMA_Fast\",\"SMA_Fast\",\"SMA_Fast\",\"SMA_Fast\",\"SMA_Fast\",\"SMA_Fast\",\"SMA_Fast\",\"SMA_Fast\",\"SMA_Fast\",\"SMA_Fast\",\"SMA_Fast\",\"SMA_Fast\",\"SMA_Fast\",\"SMA_Fast\",\"SMA_Fast\",\"SMA_Fast\",\"SMA_Fast\",\"SMA_Fast\",\"SMA_Fast\",\"SMA_Fast\",\"SMA_Fast\",\"SMA_Fast\",\"SMA_Fast\",\"SMA_Fast\",\"SMA_Fast\",\"SMA_Fast\",\"SMA_Fast\",\"SMA_Fast\",\"SMA_Fast\",\"SMA_Fast\",\"SMA_Fast\",\"SMA_Fast\",\"SMA_Fast\",\"SMA_Fast\",\"SMA_Fast\",\"SMA_Fast\",\"SMA_Fast\",\"SMA_Fast\",\"SMA_Fast\",\"SMA_Fast\",\"SMA_Fast\",\"SMA_Fast\",\"SMA_Fast\",\"SMA_Fast\",\"SMA_Fast\",\"SMA_Fast\",\"SMA_Fast\",\"SMA_Fast\",\"SMA_Fast\",\"SMA_Fast\",\"SMA_Fast\",\"SMA_Fast\",\"SMA_Fast\",\"SMA_Fast\",\"SMA_Fast\",\"SMA_Fast\",\"SMA_Fast\",\"SMA_Fast\",\"SMA_Fast\",\"SMA_Fast\",\"SMA_Fast\",\"SMA_Fast\",\"SMA_Fast\",\"SMA_Fast\",\"SMA_Fast\",\"SMA_Fast\",\"SMA_Fast\",\"SMA_Fast\",\"SMA_Fast\",\"SMA_Fast\",\"SMA_Fast\",\"SMA_Fast\",\"SMA_Fast\",\"SMA_Fast\",\"SMA_Fast\",\"SMA_Fast\",\"SMA_Fast\",\"SMA_Fast\",\"SMA_Fast\",\"SMA_Fast\",\"SMA_Fast\",\"SMA_Fast\",\"SMA_Fast\",\"SMA_Fast\",\"SMA_Fast\",\"SMA_Fast\",\"SMA_Fast\",\"SMA_Fast\",\"SMA_Fast\",\"SMA_Fast\",\"SMA_Fast\",\"SMA_Fast\",\"SMA_Fast\",\"SMA_Fast\",\"SMA_Fast\",\"SMA_Fast\",\"SMA_Fast\",\"SMA_Fast\",\"SMA_Fast\",\"SMA_Fast\",\"SMA_Fast\",\"SMA_Fast\",\"SMA_Fast\",\"SMA_Fast\",\"SMA_Fast\",\"SMA_Fast\",\"SMA_Fast\",\"SMA_Fast\",\"SMA_Fast\",\"SMA_Fast\",\"SMA_Fast\",\"SMA_Fast\",\"SMA_Fast\",\"SMA_Fast\",\"SMA_Fast\",\"SMA_Fast\",\"SMA_Fast\",\"SMA_Fast\",\"SMA_Fast\",\"SMA_Fast\",\"SMA_Fast\",\"SMA_Fast\",\"SMA_Fast\",\"SMA_Fast\",\"SMA_Fast\",\"SMA_Fast\",\"SMA_Fast\",\"SMA_Fast\",\"SMA_Fast\",\"SMA_Fast\",\"SMA_Fast\",\"SMA_Fast\",\"SMA_Fast\",\"SMA_Fast\",\"SMA_Fast\",\"SMA_Fast\",\"SMA_Fast\",\"SMA_Fast\",\"SMA_Fast\",\"SMA_Fast\",\"SMA_Fast\",\"SMA_Fast\",\"SMA_Fast\",\"SMA_Fast\",\"SMA_Fast\",\"SMA_Fast\",\"SMA_Fast\",\"SMA_Fast\",\"SMA_Fast\",\"SMA_Fast\",\"SMA_Fast\",\"SMA_Fast\",\"SMA_Fast\",\"SMA_Fast\",\"SMA_Fast\",\"SMA_Fast\",\"SMA_Fast\",\"SMA_Fast\",\"SMA_Fast\",\"SMA_Fast\",\"SMA_Fast\",\"SMA_Fast\",\"SMA_Fast\",\"SMA_Fast\",\"SMA_Fast\",\"SMA_Fast\",\"SMA_Fast\",\"SMA_Fast\",\"SMA_Fast\",\"SMA_Fast\",\"SMA_Fast\",\"SMA_Fast\",\"SMA_Fast\",\"SMA_Fast\",\"SMA_Fast\",\"SMA_Fast\",\"SMA_Fast\",\"SMA_Fast\",\"SMA_Fast\",\"SMA_Fast\",\"SMA_Fast\",\"SMA_Fast\",\"SMA_Fast\",\"SMA_Fast\",\"SMA_Fast\",\"SMA_Fast\",\"SMA_Fast\",\"SMA_Fast\",\"SMA_Fast\",\"SMA_Fast\",\"SMA_Fast\",\"SMA_Fast\",\"SMA_Fast\",\"SMA_Fast\",\"SMA_Fast\",\"SMA_Fast\",\"SMA_Fast\",\"SMA_Fast\",\"SMA_Fast\",\"SMA_Fast\",\"SMA_Fast\",\"SMA_Fast\",\"SMA_Fast\",\"SMA_Fast\",\"SMA_Fast\",\"SMA_Fast\",\"SMA_Fast\",\"SMA_Fast\",\"SMA_Fast\",\"SMA_Fast\",\"SMA_Fast\",\"SMA_Fast\",\"SMA_Fast\",\"SMA_Fast\",\"SMA_Fast\",\"SMA_Fast\",\"SMA_Fast\",\"SMA_Fast\",\"SMA_Fast\",\"SMA_Fast\",\"SMA_Fast\",\"SMA_Fast\",\"SMA_Fast\",\"SMA_Fast\",\"SMA_Fast\",\"SMA_Fast\",\"SMA_Fast\",\"SMA_Fast\",\"SMA_Fast\",\"SMA_Fast\",\"SMA_Fast\",\"SMA_Fast\",\"SMA_Fast\",\"SMA_Fast\",\"SMA_Fast\",\"SMA_Fast\",\"SMA_Fast\",\"SMA_Fast\",\"SMA_Fast\",\"SMA_Fast\",\"SMA_Fast\",\"SMA_Fast\",\"SMA_Fast\",\"SMA_Fast\",\"SMA_Fast\",\"SMA_Fast\",\"SMA_Fast\",\"SMA_Fast\",\"SMA_Fast\",\"SMA_Fast\",\"SMA_Fast\",\"SMA_Fast\",\"SMA_Fast\",\"SMA_Fast\",\"SMA_Fast\",\"SMA_Fast\",\"SMA_Fast\",\"SMA_Fast\",\"SMA_Fast\",\"SMA_Fast\",\"SMA_Fast\",\"SMA_Fast\",\"SMA_Fast\",\"SMA_Fast\",\"SMA_Fast\",\"SMA_Fast\",\"SMA_Fast\",\"SMA_Fast\",\"SMA_Fast\",\"SMA_Fast\",\"SMA_Fast\",\"SMA_Fast\",\"SMA_Fast\",\"SMA_Fast\",\"SMA_Fast\",\"SMA_Fast\",\"SMA_Fast\",\"SMA_Fast\",\"SMA_Fast\",\"SMA_Fast\",\"SMA_Fast\",\"SMA_Fast\",\"SMA_Fast\",\"SMA_Fast\",\"SMA_Fast\",\"SMA_Fast\",\"SMA_Fast\",\"SMA_Fast\",\"SMA_Fast\",\"SMA_Fast\",\"SMA_Fast\",\"SMA_Fast\",\"SMA_Fast\",\"SMA_Fast\",\"SMA_Fast\",\"SMA_Fast\",\"SMA_Fast\",\"SMA_Fast\",\"SMA_Fast\",\"SMA_Fast\",\"SMA_Fast\",\"SMA_Fast\",\"SMA_Fast\",\"SMA_Fast\",\"SMA_Fast\",\"SMA_Fast\",\"SMA_Fast\",\"SMA_Fast\",\"SMA_Fast\",\"SMA_Fast\",\"SMA_Fast\",\"SMA_Fast\",\"SMA_Fast\",\"SMA_Fast\",\"SMA_Fast\",\"SMA_Fast\",\"SMA_Fast\",\"SMA_Fast\",\"SMA_Fast\",\"SMA_Fast\",\"SMA_Fast\",\"SMA_Fast\",\"SMA_Fast\",\"SMA_Fast\",\"SMA_Fast\",\"SMA_Fast\",\"SMA_Fast\",\"SMA_Fast\",\"SMA_Fast\",\"SMA_Fast\",\"SMA_Fast\",\"SMA_Fast\",\"SMA_Fast\",\"SMA_Fast\",\"SMA_Fast\",\"SMA_Fast\",\"SMA_Fast\",\"SMA_Fast\",\"SMA_Fast\",\"SMA_Fast\",\"SMA_Fast\",\"SMA_Fast\",\"SMA_Fast\",\"SMA_Fast\",\"SMA_Fast\",\"SMA_Fast\",\"SMA_Fast\",\"SMA_Fast\",\"SMA_Fast\",\"SMA_Fast\",\"SMA_Fast\",\"SMA_Fast\",\"SMA_Fast\",\"SMA_Fast\",\"SMA_Fast\",\"SMA_Fast\",\"SMA_Fast\",\"SMA_Fast\",\"SMA_Fast\",\"SMA_Fast\",\"SMA_Fast\",\"SMA_Fast\",\"SMA_Fast\",\"SMA_Fast\",\"SMA_Fast\",\"SMA_Fast\",\"SMA_Fast\",\"SMA_Fast\",\"SMA_Fast\",\"SMA_Fast\",\"SMA_Fast\",\"SMA_Fast\",\"SMA_Fast\",\"SMA_Fast\",\"SMA_Fast\",\"SMA_Fast\",\"SMA_Fast\",\"SMA_Fast\",\"SMA_Fast\",\"SMA_Fast\",\"SMA_Fast\",\"SMA_Fast\",\"SMA_Fast\",\"SMA_Fast\",\"SMA_Fast\",\"SMA_Fast\",\"SMA_Fast\",\"SMA_Fast\",\"SMA_Fast\",\"SMA_Fast\",\"SMA_Fast\",\"SMA_Fast\",\"SMA_Fast\",\"SMA_Fast\",\"SMA_Fast\",\"SMA_Fast\",\"SMA_Fast\",\"SMA_Fast\",\"SMA_Fast\",\"SMA_Fast\",\"SMA_Fast\",\"SMA_Fast\",\"SMA_Fast\",\"SMA_Fast\",\"SMA_Fast\",\"SMA_Fast\",\"SMA_Fast\",\"SMA_Fast\",\"SMA_Fast\",\"SMA_Fast\",\"SMA_Fast\",\"SMA_Fast\",\"SMA_Fast\",\"SMA_Fast\",\"SMA_Fast\",\"SMA_Fast\",\"SMA_Fast\",\"SMA_Fast\",\"SMA_Fast\",\"SMA_Fast\",\"SMA_Fast\",\"SMA_Fast\",\"SMA_Fast\",\"SMA_Fast\",\"SMA_Fast\",\"SMA_Fast\",\"SMA_Fast\",\"SMA_Fast\",\"SMA_Fast\",\"SMA_Fast\",\"SMA_Fast\",\"SMA_Fast\",\"SMA_Fast\",\"SMA_Fast\",\"SMA_Fast\",\"SMA_Fast\",\"SMA_Fast\",\"SMA_Fast\",\"SMA_Fast\",\"SMA_Fast\",\"SMA_Fast\",\"SMA_Fast\",\"SMA_Fast\",\"SMA_Fast\",\"SMA_Fast\",\"SMA_Fast\",\"SMA_Fast\",\"SMA_Fast\",\"SMA_Fast\",\"SMA_Fast\",\"SMA_Fast\",\"SMA_Fast\",\"SMA_Fast\",\"SMA_Fast\",\"SMA_Fast\",\"SMA_Fast\",\"SMA_Fast\",\"SMA_Fast\",\"SMA_Fast\",\"SMA_Fast\",\"SMA_Fast\",\"SMA_Fast\",\"SMA_Fast\",\"SMA_Fast\",\"SMA_Fast\",\"SMA_Fast\",\"SMA_Fast\",\"SMA_Fast\",\"SMA_Fast\",\"SMA_Fast\",\"SMA_Fast\",\"SMA_Fast\",\"SMA_Fast\",\"SMA_Fast\",\"SMA_Fast\",\"SMA_Fast\",\"SMA_Fast\",\"SMA_Fast\",\"SMA_Fast\",\"SMA_Fast\",\"SMA_Fast\",\"SMA_Fast\",\"SMA_Fast\",\"SMA_Fast\",\"SMA_Fast\",\"SMA_Fast\",\"SMA_Fast\",\"SMA_Fast\",\"SMA_Fast\",\"SMA_Fast\",\"SMA_Fast\",\"SMA_Fast\",\"SMA_Fast\",\"SMA_Fast\",\"SMA_Fast\",\"SMA_Fast\",\"SMA_Fast\",\"SMA_Fast\",\"SMA_Fast\",\"SMA_Fast\",\"SMA_Fast\",\"SMA_Fast\",\"SMA_Fast\",\"SMA_Fast\",\"SMA_Fast\",\"SMA_Fast\",\"SMA_Fast\",\"SMA_Fast\",\"SMA_Fast\",\"SMA_Fast\",\"SMA_Fast\",\"SMA_Fast\",\"SMA_Fast\",\"SMA_Fast\",\"SMA_Fast\",\"SMA_Fast\",\"SMA_Fast\",\"SMA_Fast\",\"SMA_Fast\",\"SMA_Fast\",\"SMA_Fast\",\"SMA_Fast\",\"SMA_Fast\",\"SMA_Fast\",\"SMA_Fast\",\"SMA_Fast\",\"SMA_Fast\",\"SMA_Fast\",\"SMA_Fast\",\"SMA_Fast\",\"SMA_Fast\",\"SMA_Fast\",\"SMA_Fast\",\"SMA_Fast\",\"SMA_Fast\",\"SMA_Fast\",\"SMA_Fast\",\"SMA_Fast\",\"SMA_Fast\",\"SMA_Fast\",\"SMA_Fast\",\"SMA_Fast\",\"SMA_Fast\",\"SMA_Fast\",\"SMA_Fast\",\"SMA_Fast\",\"SMA_Fast\",\"SMA_Fast\",\"SMA_Fast\",\"SMA_Fast\",\"SMA_Fast\",\"SMA_Fast\",\"SMA_Fast\",\"SMA_Fast\",\"SMA_Fast\",\"SMA_Fast\",\"SMA_Fast\",\"SMA_Fast\",\"SMA_Fast\",\"SMA_Fast\",\"SMA_Fast\",\"SMA_Fast\",\"SMA_Fast\",\"SMA_Fast\",\"SMA_Fast\",\"SMA_Fast\",\"SMA_Fast\",\"SMA_Fast\",\"SMA_Fast\",\"SMA_Fast\",\"SMA_Fast\",\"SMA_Fast\",\"SMA_Fast\",\"SMA_Fast\",\"SMA_Fast\",\"SMA_Fast\",\"SMA_Fast\",\"SMA_Fast\",\"SMA_Fast\",\"SMA_Fast\",\"SMA_Fast\",\"SMA_Fast\",\"SMA_Fast\",\"SMA_Fast\",\"SMA_Fast\",\"SMA_Fast\",\"SMA_Fast\",\"SMA_Fast\",\"SMA_Fast\",\"SMA_Fast\",\"SMA_Fast\",\"SMA_Fast\",\"SMA_Fast\",\"SMA_Fast\",\"SMA_Fast\",\"SMA_Fast\",\"SMA_Fast\",\"SMA_Fast\",\"SMA_Fast\",\"SMA_Fast\",\"SMA_Fast\",\"SMA_Fast\",\"SMA_Fast\",\"SMA_Fast\",\"SMA_Fast\",\"SMA_Fast\",\"SMA_Fast\",\"SMA_Fast\",\"SMA_Fast\",\"SMA_Fast\",\"SMA_Fast\",\"SMA_Fast\",\"SMA_Fast\",\"SMA_Fast\",\"SMA_Fast\",\"SMA_Fast\",\"SMA_Fast\",\"SMA_Fast\",\"SMA_Fast\",\"SMA_Fast\",\"SMA_Fast\",\"SMA_Fast\",\"SMA_Fast\",\"SMA_Fast\",\"SMA_Fast\",\"SMA_Fast\",\"SMA_Fast\",\"SMA_Fast\",\"SMA_Fast\",\"SMA_Fast\",\"SMA_Fast\",\"SMA_Fast\",\"SMA_Fast\",\"SMA_Fast\",\"SMA_Fast\",\"SMA_Fast\",\"SMA_Fast\",\"SMA_Fast\",\"SMA_Fast\",\"SMA_Fast\",\"SMA_Fast\",\"SMA_Fast\",\"SMA_Fast\",\"SMA_Fast\",\"SMA_Fast\",\"SMA_Fast\",\"SMA_Fast\",\"SMA_Fast\",\"SMA_Fast\",\"SMA_Fast\",\"SMA_Fast\",\"SMA_Fast\",\"SMA_Fast\",\"SMA_Fast\",\"SMA_Fast\",\"SMA_Fast\",\"SMA_Fast\",\"SMA_Fast\"],\"date\":{\"__ndarray__\":\"AACQY3PedEIAAEo/dN50QgAAeNJ23nRCAACmZXnedEIAAIpwa990QgAARrjQ33RCAABmYhXgdEIAALiat+B0QgAA5J7D4HRCAADMDcfgdEIAAMYav+F0QgAA0ML94XRCAAAs6QLidEIAAATgUeJ0QgAAGFNh4nRCAABG5mPidEIAAH4hpeJ0QgAAqiWx4nRCAACSlLTidEIAAFYY9OJ0QgAAhKv24nRCAAAkZwTjdEIAACaNROR0QgAA4GhF5HRCAACaREbkdEIAALBGTOR0QgAAaiJN5HRCAACYtU/kdEIAAL7p5eR0QgAA0lz15HRCAABGFPfkdEIAAJDtLOZ0QgAAvoAv5nRCAADqhDvmdEIAAKRgPOZ0QgAArHmE5nRCAAA2M4zmdEIAANh9kOZ0QgAABhGT5nRCAAAQudHmdEIAAOCW2OZ0QgAAyAXc5nRCAABqUODmdEIAAJjj4uZ0QgAADJvk5nRCAADGduXmdEIAANY/v+h0QgAAkBvA6HRCAAC+rsLodEIAADJmxOh0QgAA7EHF6HRCAABIaMrodEIAADDXzeh0QgAAXmrQ6HRCAAAm6WrpdEIAACxzvOl0QgAAxjvC6nRCAAC+3FXrdEIAAJK1t+t0QgAAVjn363RCAADK8PjrdEIAAGZI9ex0QgAAlNv37HRCAAA2JvzsdEIAAAYEA+10QgAAgtRM7XRCAADe+lHtdEIAAFxaku10QgAA0BGU7XRCAAC28aDtdEIAAAQv6O10QgAAvgrp7XRCAADyJz3udEIAAGbfPu50QgAAHFcu73RCAABK6jDvdEIAAATGMe90QgAAvqEy73RCAAB4fTPvdEIAAGDsNu90QgAARsxD73RCAACEkdbvdEIAAPhI2O90QgAAJtza73RCAACCAuDvdEIAAN4o5e90QgAA0D8n8HRCAABa+S7wdEIAAOzLfvB0QgAAjIeM8HRCAABgGsrxdEIAANzqE/J0QgAAlsYU8nRCAABQohXydEIAAAp+FvJ0QgAAxFkX8nRCAAA4ERnydEIAAKzIGvJ0QgAACO8f8nRCAADCyiDydEIAADaCIvJ0QgAAHvEl8nRCAABMhCjydEIAAJxQZvJ0QgAAyuNo8nRCAACyUmzydEIAADwMdPJ0QgAAsMN18nRCAAAslL/ydEIAAKBLwfJ0QgAAiLrE8nRCAABYmMvydEIAABJ0zPJ0QgAAhivO8nRCAACE7fz0dEIAAD7J/fR0QgAAbFwA9XRCAADgEwL1dEIAAGrNCfV0QgAAJKkK9XRCAAAMGA71dEIAAMbzDvV0QgAAPmBH9nRCAACC9U/2dEIAAJj3VfZ0QgAAxopY9nRCAADWvOj2dEIAAEp06vZ0QgAABFDr9nRCAAC+K+z2dEIAAHgH7fZ0QgAApprv9nRCAAAaUvH2dEIAAALB9PZ0QgAApAv59nRCAACMevz2dEIAAKwkQfd0QgAAqpVK93RCAAAeTUz3dEIAAAa8T/d0QgAA3N2D+HRCAAAKcYb4dEIAAMK9kPh0QgAAZAiV+HRCAADYv5b4dEIAAAZTmfh0QgAAMhGB+XRCAADs7IH5dEIAAHamifl0QgAA6l2L+XRCAABeFY35dEIAAFpIxft0QgAAtm7K+3RCAAAqJsz7dEIAAJ7dzft0QgAAhkzR+3RCAACEd7b8dEIAAPguuPx0QgAAgui//HRCAAD2n8H8dEIAAMZ9yPx0QgAA/rgJ/XRCAAC4lAr9dEIAAHDhFP10QgAAhuMa/XRCAAAKzaz9dEIAAKwXsf10QgAAlIa0/XRCAAAIPrb9dEIAAEzTvv10QgAABq+//XRCAABMmJsBdUIAAN5q6wF1QgAAHDB+AnVCAAAEn4ECdUIAAOwNhQJ1QgAAXjaQAnVCAADS7ZECdUIAAIzJkgJ1QgAARqWTAnVCAAAWPXYDdUIAACw/fAN1QgAAQkGCA3VCAADki4YDdUIAAJ5nhwN1QgAAhtaKA3VCAACQfskDdUIAAIxg3AN1QgAARjzdA3VCAACWCBsEdUIAAArAHAR1QgAAOFMfBHVCAABm5iEEdUIAAGRXKwR1QgAAHjMsBHVCAADYDi0EdUIAAEzGLgR1QgAABqIvBHVCAABWbm0EdUIAABBKbgR1QgAAPt1wBHVCAAD4uHEEdUIAAGxwcwR1QgAA9il7BHVCAADGB4IEdUIAAAzDygV1QgAA/EoWBnVCAAC2JhcGdUIAABJNHAZ1QgAAhgQeBnVCAADUQWUGdUIAAPJcswZ1QgAA2mIACHVCAADC0QMIdUIAAAZnDAh1QgAAFpmcCHVCAADmdqMIdUIAAIYysQh1QgAAvgQ8CnVCAACmcz8KdUIAADAtRwp1QgAA6ghICnVCAADyIZAKdUIAAKz9kAp1QgAA2pCTCnVCAAA2t5gKdUIAAJLdnQp1QgAABpWfCnVCAABsY+MKdUIAAMb68Qp1QgAAtoI9C3VCAABwXj4LdUIAACo6Pwt1QgAA5BVAC3VCAACe8UALdUIAAFjNQQt1QgAAEqlCC3VCAADMhEMLdUIAAIZgRAt1QgAApgqJC3VCAABIVY0LdUIAAEp7zQx1QgAAvjLPDHVCAACmodIMdUIAABpZ1Ax1QgAApBLcDHVCAAAYyt0MdUIAAIyB3wx1QgAARl3gDHVCAABQBR8NdUIAAMS8IA11QgAAfpghDXVCAACUmicNdUIAAGR4Lg11QgAAHlQvDXVCAADYLzANdUIAAJILMQ11QgAAEGtxDXVCAACEInMNdUIAAPjZdA11QgAAPG99DXVCAACwJn8NdUIAAAxNhA11QgAA4N/BDnVCAACau8IOdUIAAFSXww51QgAA0tNxD3VCAAA2E78PdUIAANhdww91QgAABvHFD3VCAAA+w1ARdUIAALJ6UhF1QgAAbFZTEXVCAAAmMlQRdUIAAOANVRF1QgAAmulVEXVCAACCWFkRdUIAALDrWxF1QgAAJKNdEXVCAADefl4RdUIAAMbtYRF1QgAAkPvyEXVCAAC+jvURdUIAAOwh+BF1QgAApv34EXVCAADUkPsRdUIAAEhI/RF1QgAABEo+E3VCAABgcEMTdUIAABpMRBN1QgAA1CdFE3VCAAACu0cTdUIAALyWSBN1QgAAdnJJE3VCAAAYvU0TdUIAAJoX6RN1QgAAVPPpE3VCAAAOz+oTdUIAAMYb9RN1QgAApiuMFHVCAABgB40UdUIAAAR40RV1QgAA1FXYFXVCAACOMdkVdUIAAEgN2hV1QgAAAunaFXVCAAC8xNsVdUIAADB83RV1QgAA6lfeFXVCAABeD+AVdUIAABjr4BV1QgAAhEN2FnVCAAA+H3cWdUIAAPj6dxZ1QgAAstZ4FnVCAAA8kIAWdUIAAN7ahBZ1QgAAxkmIFnVCAADQiBAYdUIAAIpkERh1QgAActMUGHVCAAAsrxUYdUIAAOaKFhh1QgAAoGYXGHVCAABaQhgYdUIAAIjVGhh1QgAAQrEbGHVCAAD8jBwYdUIAACogHxh1QgAA5PsfGHVCAACe1yAYdUIAABKPIhh1QgAAzGojGHVCAACGRiQYdUIAAJDuYhh1QgAA7BRoGHVCAACm8GgYdUIAANSDaxh1QgAASDttGHVCAAACF24YdUIAALzybhh1QgAAds5vGHVCAABePXMYdUIAABgZdBh1QgAARqx2GHVCAADIBhIZdUIAADy+Exl1QgAAalEWGXVCAAAkLRcZdUIAAJjkGBl1QgAADJwaGXVCAADGdxsZdUIAANwz/Rl1QgAATlwIGnVCAAAIOAkadUIAAHzvChp1QgAANssLGnVCAAAeOg8adUIAAAapEhp1QgAAnJlPGnVCAADKLFIadUIAACZTVxp1QgAA4C5YGnVCAABU5lkadUIAADxVXRp1QgAAsAxfGnVCAAAkxGAadUIAAMYOZRp1QgAA1kD1GnVCAABK+PYadUIAAOxC+xp1QgAAMNgDG3VCAADqswQbdUIAAIz+CBt1QgAARtoJG3VCAADcykYbdUIAAJamRxt1QgAAUIJIG3VCAADEOUobdUIAADjxSxt1QgAArKhNG3VCAADYrFkbdUIAAJKIWht1QgAATGRbG3VCAAAGQFwbdUIAAJzH4hx1QgAAPhLnHHVCAAD47eccdUIAAGyl6Rx1QgAAgqfvHHVCAAD2XvEcdUIAALA68hx1QgAAmKn1HHVCAABShfYcdUIAAFwtNR11QgAAFgk2HXVCAAD+dzkddUIAALhTOh11QgAAoMI9HXVCAABanj4ddUIAAM5VQB11QgAAXMR+HnVCAAAWoH8edUIAAEQzgh51QgAAoFmHHnVCAADO7IkedUIAALZbjR51QgAAcDeOHnVCAADk7o8edUIAAJ7KkB51QgAAhjmUHnVCAAAcKtEedUIAADIs1x51QgAApuPYHnVCAABgv9kedUIAALzl3h51QgAAMJ3gHnVCAACMw+UedUIAAEaf5h51QgAAnIy/IHVCAADKH8IgdUIAAIT7wiB1QgAA+LLEIHVCAAAmRscgdUIAAOAhyCB1QgAAmv3IIHVCAACCbMwgdUIAAMYB1SB1QgAAFs4SIXVCAAAqQSIhdUIAAOQcIyF1QgAAnvgjIXVCAABY1CQhdUIAABKwJSF1QgAAhmcnIXVCAACOgG8hdUIAAEhccCF1QgAAAjhxIXVCAAB273IhdUIAANy9tiF1QgAArJu9IXVCAAAgU78hdUIAAE7mwSF1QgAAwp3DIXVCAABMV8shdUIAAAYzzCF1QgAAnCMJInVCAABW/wkidUIAABDbCiJ1QgAAPm4NInVCAACalBIidUIAADzfFiJ1QgAAUuEcInVCAADGmB4idUIAAJYwASN1QgAAUAwCI3VCAAA4ewUjdUIAAKwyByN1QgAAIOoII3VCAAAIWQwjdUIAAMI0DSN1QgAABsoVI3VCAAAQclQjdUIAAPZRYSN1QgAAxi9oI3VCAAD827IjdUIAALa3syN1QgAAnia3I3VCAABgGwAkdUIAAKSwCCR1QgAAXowJJHVCAACMHwwkdUIAAEb7DCR1QgAAfjZOJHVCAADy7U8kdUIAAKzJUCR1QgAAfKdXJHVCAACqOlokdUIAAGQWWyR1QgAAkqldJHVCAABMhV4kdUIAAAZhXyR1QgAAll6UJXVCAABQOpUldUIAAMTxliV1QgAArGCaJXVCAAAIh58ldUIAAMJioCV1QgAAfD6hJXVCAACSQKcldUIAAEwcqCV1QgAABvioJXVCAAAQoOcldUIAAMp76CV1QgAAPjPqJXVCAAD4DusldUIAALLq6yV1QgAADhHxJXVCAADI7PEldUIAACQT9yV1QgAA3u73JXVCAACYyvgldUIAAAyC+iV1QgAAxl37JXVCAABcTjgmdUIAANAFOiZ1QgAAclA+JnVCAAAsLD8mdUIAAFq/QSZ1QgAAFJtCJnVCAAC25UYmdUIAAMznTCZ1QgAAhsNNJnVCAAActIomdUIAAAQjjiZ1QgAA7JGRJnVCAACmbZImdUIAAGBJkyZ1QgAAjtyVJnVCAAC8b5gmdUIAAKTemyZ1QgAAXrqcJnVCAAAYlp0mdUIAANJxniZ1QgAARimgJnVCAABwWJEndUIAAJ7rkyd1QgAAkALWJ3VCAABK3tYndUIAAOwo2yd1QgAAML7jJ3VCAADSCOgndUIAAEbA6Sd1QgAACkQpKHVCAACsji0odUIAAE7ZMSh1QgAABiY8KHVCAADKqXsodUIAAD5hfSh1QgAA+Dx+KHVCAACyGH8odUIAAOCrgSh1QgAAUtSMKHVCAADGi44odUIAABZYzCh1QgAA0DPNKHVCAAC4otAodUIAAKAR1Ch1QgAAzqTWKHVCAABYXt4odUIAAIbx4Ch1QgAAhBzGKXVCAABsi8kpdUIAAFT6zCl1QgAAPGnQKXVCAABEghgqdUIAAP5dGSp1QgAAGFt6KnVCAACMEnwqdUIAAKy8wCp1QgAAlCvEKnVCAAAI48UqdUIAAFYgDSt1QgAAaipmLHVCAADGUGssdUIAAP6LrCx1QgAAhra9LHVCAACmYAItdUIAABoYBC11QgAA1PMELXVCAABerQwtdUIAAEYcEC11QgAAUMROLXVCAAAeE18tdUIAAJLKYC11QgAAln+XLnVCAAAKN5kudUIAAMQSmi51QgAAOMqbLnVCAAAgOZ8udUIAAE7MoS51QgAAfF+kLnVCAADwFqYudUIAANiFqS51QgAAkmGqLnVCAABMPasudUIAAAYZrC51QgAAPlTtLnVCAAD4L+4udUIAAFLH/C51QgAAXG87L3VCAADQJj0vdUIAAIoCPi91QgAARN4+L3VCAABycUEvdUIAACxNQi91QgAA5ihDL3VCAAAUvEUvdUIAAIhzRy91QgAAtgZKL3VCAAAqvksvdUIAAJ51TS91QgAAWFFOL3VCAAASLU8vdUIAAMwIUC91QgAAhuRQL3VCAACKmYcwdUIAAM4ukDB1QgAAKlWVMHVCAADsSd4wdUIAAKSW6DB1QgAAXnLpMHVCAADSKeswdUIAAEbh7DB1QgAAUIkrMXVCAADKyn4xdUIAAGyszDJ1QgAAmj/PMnVCAADGQ9sydUIAANDrGTN1QgAAzM0sM3VCAACGqS0zdUIAAGQqzjN1QgAATr8RNXVCAAAGDBw1dUIAAFbYWTV1QgAA4JFhNXVCAADeAms1dUIAAMZxbjV1QgAAoPezNXVCAADqFg42dUIAADhUVTZ1QgAATlZbNnVCAAAGo2U2dUIAAIz4Wzd1QgAAkoKtN3VCAADKve43dUIAAGwI8zd1QgAAmpv1N3VCAABUd/Y3dUIAAPbB+jd1QgAAxp8BOHVCAADQR0A4dUIAAIojQTh1QgAARP9BOHVCAAD+2kI4dUIAALi2Qzh1QgAAcpJEOHVCAAAsbkU4dUIAAOZJRjh1QgAAoCVHOHVCAABaAUg4dUIAABTdSDh1QgAAzrhJOHVCAACIlEo4dUIAAEJwSzh1QgAAtidNOHVCAABwA044dUIAACrfTjh1QgAA5LpPOHVCAADMKVM4dUIAAIYFVDh1QgAAeByWOHVCAAAy+JY4dUIAAKavmDh1QgAARmumOHVCAADQ3ok5dUIAAIacnTl1QgAASJHmOXVCAAAYb+05dUIAAIwm7zl1QgAA2mM2OnVCAACyWoU6dUIAACYShzp1QgAAxs2UOnVCAABWy8k7dUIAAIRezDt1QgAA+BXOO3VCAAAmqdA7dUIAAJpg0jt1QgAADhjUO3VCAADI89Q7dUIAAILP1Tt1QgAA9obXO3VCAACwYtg7dUIAAN712jt1QgAAUq3cO3VCAAAMid07dUIAAMZk3jt1QgAAeOFyPHVCAAAYnYA8dUIAACC2yDx1QgAA8JPPPHVCAAAGltU8dUIAAFZiEz11QgAArJUQPnVCAAAIvBU+dUIAAFr0tz51QgAAmC0CQXVCAADGwARBdUIAABaNQkF1QgAA0GhDQXVCAABEIEVBdUIAALjXRkF1QgAAztlMQXVCAABCkU5BdUIAACoAUkF1QgAAWJNUQXVCAACGJldBdUIAAOz0mkF1QgAAjj+fQXVCAAAwiqNBdUIAAOplpEF1QgAA0tSnQXVCAACITJdCdUIAAEIomEJ1QgAAKpebQnVCAADM4Z9CdUIAAFocnl11QgAAiK+gXXVCAAAY8/lddUIAANLO+l11QgAARob8XXVCAAAsIOVedUIAAOb75V51QgAAzmrpXnVCAACGt/NedUIAAJxz1V91QgAAVk/WX3VCAAAQK9dfdUIAAMoG2F91QgAAREgrYHVCAACGTj1gdUIAAErSfGB1QgAABK59YHVCAAB4ZX9gdUIAAOwcgWB1QgAARrSPYHVCAABkz91gdUIAAMo0a2J1QgAAWnjEYnVCAAAE3BBjdUIAAEhxGWN1QgAAdgQcY3VCAABG4iJjdUIAAEZ5bGR1QgAA8muvZHVCAAAG375kdUIAAD4aAGV1QgAA0OxPZXVCAACKyFBldUIAAESkUWV1QgAAGgyqZXVCAAC8Vq5ldUIAAKTFsWV1QgAAtmOmZnVCAAAYFP1mdUIAANLv/WZ1QgAAjMv+ZnVCAADclzxndUIAAE7AR2d1QgAAypCRZ3VCAABqTJ9ndUIAAMYJ7mh1QgAAzJM/aXVCAAC8G4tpdUIAADDTjGl1QgAARtWSaXVCAABmf9dpdUIAANo22Wl1QgAACMrbaXVCAACcKyJqdUIAAGp6Mmp1QgAADMU2anVCAACSGi1rdUIAAAbSLmt1QgAA4Fd0a3VCAAAO63ZrdUIAAFKAf2t1QgAADFyAa3VCAADGN4FrdUIAAJ4u0Gt1QgAAhp3Ta3VCAAAcjhBsdUIAAAJuHWx1QgAAvEkebHVCAAAwASBsdUIAAOrcIGx1QgAApLghbHVCAADSSyRsdUIAANzzYmx1QgAAlNe2bXVCAAB8RrptdUIAAB6Rvm11QgAA2Gy/bXVCAAAMihNudUIAAMZlFG51QgAAWsdabnVCAABKT6ZudUIAAJAK7291QgAAlpRAcHVCAAAkSaNwdUIAAM6s73B1QgAAQmTxcHVCAACEJN9xdUIAAPjb4HF1QgAA4ErkcXVCAACaJuVxdUIAAA7e5nF1QgAAgpXocXVCAACwKOtxdUIAAN677XF1QgAAUnPvcXVCAAAMT/BxdUIAAMYq8XF1QgAA0NIvcnVCAABKFINydUIAALw8jnJ1QgAAMPSPcnVCAAAYY5NydUIAAH4x13J1QgAAHu3kcnVCAAAKER90dUIAAMTsH3R1QgAAynZxdHVCAACCw3t0dUIAAPZ6fXR1QgAAXEnBdHVCAAAUlst0dUIAALbgz3R1QgAAHK8TdXVCAADWihR1dUIAAJBmFXV1QgAAvAFrdnVCAABQY7F2dUIAAAo/snZ1QgAAxBqzdnVCAAB+9rN2dUIAAMqkBHd1QgAAVF4Md3VCAAAOOg13dUIAAMgVDnd1QgAAPM0Pd3VCAAD2qBB3dUIAALCEEXd1QgAAamASd3VCAADGhhd3dUIAABTEXnd1QgAABEyqd3VCAACMdrt3dUIAABD3lnl1QgAA+PzjenVCAACaR+h6dUIAAPZt7Xp1QgAAvuyHe3VCAACOyo57dUIAADAVk3t1QgAAVkkpfHVCAAAQJSp8dUIAAMoAK3x1QgAATDg0fXVCAAAc0BZ+dUIAAMSkbH51QgAAlqizf3VCAACSisZ/dUIAANBPWYB1QgAA/uJbgHVCAAByml2AdUIAAJ6eaYB1QgAAisKjgXVCAACgxKmBdUIAAFqgqoF1QgAAtsavgXVCAABworCBdUIAAFgRtIF1QgAACo5IgnVCAACGOwCDdUIAABCv44N1QgAAyPvtg3VCAACC1+6DdUIAAHJfOoR1QgAAEhtIhHVCAADM9kiEdUIAAIbSSYR1QgAA1p6HhHVCAACQeoiEdUIAAF7JmIR1QgAARjichHVCAADgun2GdUIAAN4rh4Z1QgAA5kTPhnVCAABCa9SGdUIAAHD+1oZ1QgAAhgDdhnVCAAAc8RmHdUIAAJCoG4d1QgAABGAdh3VCAADsziCHdUIAANQ9JId1QgAAdogoh3VCAADqPyqHdUIAAF73K4d1QgAAkD9liHVCAAAyimmIdUIAAHYfcoh1QgAAzOm4inVCAACk4AeLdUIAAIxPC4t1QgAAVl2ci3VCAAA+zJ+LdUIAACY7o4t1QgAAVM6li3VCAADIhaeLdUIAAIJhqIt1QgAAPD2pi3VCAAD2GKqLdUIAALD0qot1QgAAatCri3VCAAAkrKyLdUIAAN6HrYt1QgAAmGOui3VCAABSP6+LdUIAAAwbsIt1QgAAxvawi3VCAADkEf+LdUIAAJ7t/4t1QgAAVvTljHVCAACyGuuMdUIAAMwXTI11QgAAhvNMjXVCAAAc5ImNdUIAANa/io11QgAAkJuLjXVCAABKd4yNdUIAAARTjY11QgAAvi6OjXVCAAB4Co+NdUIAADLmj411QgAA6jKajXVCAACMfZ6NdUIAAJYl3Y11QgAAUAHejXVCAABOcueNdUIAAHwF6o11QgAANuHqjXVCAADYK++NdUIAAN61QI51QgAAxiREjnVCAAAKdCiPdUIAAJxGeI91QgAAViJ5j3VCAAAQ/nmPdUIAAMrZeo91QgAAhLV7j3VCAAAmAICPdUIAAODbgI91QgAAyEqEj3VCAACKP82PdUIAAEQbzo91QgAAeDgikHVCAAAyFCOQdUIAAOzvI5B1QgAA1F4nkHVCAADqYC2QdUIAABj0L5B1QgAAllNwkHVCAADw6n6QdUIAAAbthJB1QgAA1oRnkXVCAADshm2RdUIAAKZibpF1QgAAYD5vkXVCAAAaGnCRdUIAAAKJc5F1QgAAdkB1kXVCAABer3iRdUIAAIxCe5F1QgAAUMa6kXVCAAAKoruRdUIAAMR9vJF1QgAAODW+kXVCAADaf8KRdUIAAAgTxZF1QgAAfMrGkXVCAADY8MuRdUIAABAsDZJ1QgAAPr8PknVCAABc2l2SdUIAAFpLZ5J1QgAAzgJpknVCAABCumqSdUIAAHBNbZJ1QgAAMLO/knVCAADqjsCSdUIAANay+pN1QgAABEb9k3VCAABgbAKUdUIAAAK3BpR1QgAAvJIHlHVCAADcPEyUdUIAAEzWYJR1QgAABrJhlHVCAAAQWqCUdUIAAMo1oZR1QgAAJlymlHVCAABU76iUdUIAALAVrpR1QgAAJM2vlHVCAACYhLGUdUIAAMYXtJR1QgAAuC72lHVCAABY6gOVdUIAAIZ9BpV1QgAA0FY8lnVCAACKMj2WdUIAAEQOPpZ1QgAA/uk+lnVCAAC4xT+WdUIAAHKhQJZ1QgAA5MlLlnVCAACGFFCWdUIAABwFjZZ1QgAA1uCNlnVCAACQvI6WdUIAAEqYj5Z1QgAABHSQlnVCAAC+T5GWdUIAAHgrkpZ1QgAAMgeTlnVCAABICZmWdUIAAEZ6opZ1QgAA3GrflnVCAABQIuGWdUIAAAhv65Z1QgAAwkrslnVCAAA2Au6WdUIAAPDd7pZ1QgAABuD0lnVCAACc0DGXdUIAAFasMpd1QgAAEIgzl3VCAAA+GzaXdUIAAPj2Npd1QgAAbK44l3VCAAAmijmXdUIAAOBlOpd1QgAAmkE7l3VCAABUHTyXdUIAAA75PJd1QgAAyNQ9l3VCAACCsD6XdUIAAPZnQJd1QgAAJPtCl3VCAADGRUeXdUIAANwBKZh1QgAAlt0pmHVCAAAKlSuYdUIAAMRwLJh1QgAAfkwtmHVCAAA4KC6YdUIAAPIDL5h1QgAArN8vmHVCAABmuzCYdUIAACCXMZh1QgAAlE4zmHVCAABOKjSYdUIAAAgGNZh1QgAAfL02mHVCAAA2mTeYdUIAAPB0OJh1QgAAqlA5mHVCAAAeCDuYdUIAAJK/PJh1QgAADpCGmHVCAABczc2YdUIAABapzph1QgAA0ITPmHVCAACKYNCYdUIAAEQ80Zh1QgAA/hfSmHVCAAC489KYdUIAAHLP05h1QgAA5obVmHVCAACgYtaYdUIAAFo+15h1QgAAFBrYmHVCAACI0dmYdUIAAEKt2ph1QgAAtmTcmHVCAACe09+YdUIAABwzIJl1QgAAvn0kmXVCAACOWyuZdUIAANLwM5l1QgAAlnRzmXVCAAA4v3eZdUIAAKx2eZl1QgAAwnh/mXVCAACSVoaZdUIAAEwyh5l1QgAABg6ImXVCAACWC72adUIAAFDnvZp1QgAACsO+mnVCAACsDcOadUIAAAal0Zp1QgAAnJUOm3VCAABWcQ+bdUIAABBNEJt1QgAAyigRm3VCAACEBBKbdUIAAD7gEpt1QgAA+LsTm3VCAACylxSbdUIAAGxzFZt1QgAAJk8Wm3VCAADImRqbdUIAAIqOY5t1QgAARGpkm3VCAAD+RWWbdUIAAFjdc5t1QgAAhnB2m3VCAAAE0LabdUIAAL6rt5t1QgAAMmO5m3VCAADsPrqbdUIAAGD2u5t1QgAAGtK8m3VCAACOib6bdUIAAEhlv5t1QgAAAkHAm3VCAAC8HMGbdUIAAFySqpx1QgAAFm6rnHVCAAAaaQaddUIAAI4gCJ11QgAApCIOnXVCAAAY2g+ddUIAAJY5UJ11QgAAylaknXVCAACEMqWddUIAAD4Opp11QgAA+OmmnXVCAACyxaeddUIAAGyhqJ11QgAAJn2pnXVCAABqErKddUIAACTusp11QgAADF22nXVCAADGOLeddUIAAMrt7Z51QgAAhMnunnVCAAA+pe+edUIAAGw48p51QgAA4O/znnVCAACay/SedUIAAFSn9Z51QgAADoP2nnVCAADIXveedUIAAII6+J51QgAAPBb5nnVCAACwzfqedUIAAGqp+551QgAADPT/nnVCAAAWnD6fdUIAANB3P591QgAALJ5En3VCAABaMUefdUIAABQNSJ91QgAAiMRJn3VCAABYolCfdUIAABwmkJ91QgAA1gGRn3VCAACQ3ZGfdUIAAAIGnZ91QgAAdr2en3VCAAA4suefdUIAADYj8Z91QgAAHpL0n3VCAADYbfWfdUIAADhJMaF1QgAA8iQyoXVCAACsADOhdUIAAGbcM6F1QgAAqnE8oXVCAAAeKT6hdUIAAEy8QKF1QgAABphBoXVCAACa+YehdUIAAFTViKF1QgAAHFQjonVCAAAaxSyidUIAAEhYL6J1QgAAdusxonVCAACsl3yidUIAAGTkhqJ1QgAAjISBo3VCAABM6tOjdUIAACThIqR1QgAAhpF5pHVCAAAcgrakdUIAAASIA6Z1QgAA3H5SpnVCAAA4pVemdUIAAPKAWKZ1QgAAIBRbpnVCAADgea2mdUIAAMjosKZ1QgAAgsSxpnVCAABcSvemdUIAANAB+aZ1QgAAit35pnVCAABCKgSndUIAABIIC6d1QgAAPsbyp3VCAABqyv6ndUIAANCYQqh1QgAAzHpVqHVCAACGVlaodUIAAKYAm6h1QgAAYNybqHVCAAAauJyodUIAALwCoah1QgAA0gSnqHVCAADcrOWodUIAAFBk56h1QgAArIrsqHVCAAAgQu6odUIAAJT576h1QgAAfGjzqHVCAABk1/aodUIAABDKOal1QgAAxodNqXVCAACWHzCqdUIAAFD7MKp1QgAAfo4zqnVCAADyRTWqdUIAAKwhNqp1QgAAPvSFqnVCAAD4z4aqdUIAAFwP1Kp1QgAA0MbVqnVCAABEfteqdUIAAP5Z2Kp1QgAAiBPgqnVCAACGhOmqdUIAANZQJ6t1QgAASggpq3VCAAAE5CmrdUIAAHibK6t1QgAAMncsq3VCAABQknqrdUIAACBwgat1QgAAwrqFq3VCAADYvIurdUIAAEx0jat1QgAABlCOq3VCAADW53CsdUIAAOzpdqx1QgAAYKF4rHVCAACONHusdUIAAH68xqx1QgAAOJjHrHVCAABOms2sdUIAAJzXFK11QgAAVrMVrXVCAAA8kyKtdUIAAFw9Z611QgAA0PRorXVCAACK0GmtdUIAAESsaq11QgAA/odrrXVCAAByP22tdUIAAKDSb611QgAAiEFzrXVCAAAS+3qtdUIAAIayfK11QgAASKfFrXVCAABGGM+tdUIAAERDtK51QgAActa2rnVCAABYtsOudUIAAIZJxq51QgAAvoQHr3VCAAAKM1ivdUIAAJTsX691QgAAEL2pr3VCAADKmKqvdUIAAIR0q691QgAAsgeur3VCAABs466vdUIAAA4us691QgAAJDC5r3VCAAAMn7yvdUIAAMZ6va91QgAAXGv6r3VCAABWePKwdUIAAMov9LB1QgAA+ML2sHVCAACynvewdUIAAGx6+LB1QgAAmg37sHVCAACwDwGxdUIAAJh+BLF1QgAAipVGsXVCAADWQ5exdUIAAJAfmLF1QgAASvuYsXVCAAAE15mxdUIAAL6ymrF1QgAAeI6bsXVCAAAyapyxdUIAAOxFnbF1QgAAYP2esXVCAAAa2Z+xdUIAAIwBq7F1QgAA3M3osXVCAABQheqxdUIAAAph67F1QgAAfhjtsXVCAAA49O2xdUIAAPLP7rF1QgAArKvvsXVCAABmh/CxdUIAACBj8bF1QgAA2j7ysXVCAAAkXkyydUIAAN45TbJ1QgAAmBVOsnVCAADyZjizdUIAAKxCObN1QgAAfCBAs3VCAACcyoSzdUIAALA9lLN1QgAAuFbcs3VCAAByMt2zdUIAAMzJ67N1QgAAhqXss3VCAAAclim0dUIAANZxKrR1QgAABAUttHVCAAC+4C20dUIAAHy3ibR1QgAAjlV+tXVCAABIMX+1dUIAAAINgLV1QgAACJfRtXVCAADwBdW1dUIAAB6Z17V1QgAABgjbtXVCAAA+Qxy2dUIAAPgeHbZ1QgAA4I0gtnVCAACC2CS2dUIAABY6a7Z1QgAA0BVstnVCAACK8Wy2dUIAAP6obrZ1QgAAuIRvtnVCAAByYHC2dUIAAKDzcrZ1QgAAWs9ztnVCAAAUq3S2dUIAAM6GdbZ1QgAAKq16tnVCAACG03+2dUIAAHL3ubd1QgAAKkTEt3VCAADkH8W3dUIAANzAWLh1QgAAUHhauHVCAAA45124dUIAACBWYbh1QgAAHsdquHVCAADYomu4dUIAAJJ+bLh1QgAATFptuHVCAACEla64dUIAAPhMsLh1QgAAsiixuHVCAABcjP24dUIAANBD/7h1QgAAcP8MuXVCAAAQdfa5dUIAAHivnrp1QgAAYB6iunVCAAAa+qK6dUIAANTVo7p1QgAAHvX9unVCAACcVD67dUIAAA59Sbt1QgAAxslTu3VCAAAKGTi8dUIAAKrURbx1QgAAZLBGvHVCAAAejEe8dUIAAD42jLx1QgAA9oKWvHVCAAAkFpm8dUIAAJjNmrx1QgAA/pvevHVCAAAUnuS8dUIAABy3LL11QgAAMrkyvXVCAAC8cjq9dUIAADAqPL11QgAA6gU9vXVCAABevT69dUIAAGbWhr11QgAAHE52vnVCAAC+mHq+dUIAADJQfL51QgAAGDCJvnVCAADSC4q+dUIAAIznir51QgAARsOLvnVCAADcs8i+dUIAAApHy751QgAAONrNvnVCAABmbdC+dUIAAKoC2b51QgAATE3dvnVCAAA+ZB+/dUIAABZbbr91QgAA0DZvv3VCAAD+yXG/dUIAAHKBc791QgAA5jh1v3VCAACIg3m/dUIAAPw6e791QgAAthZ8v3VCAADkqX6/dUIAAJ6Ff791QgAAWGGAv3VCAAASPYG/dUIAAMwYgr91QgAAhvSCv3VCAADWwMC/dUIAAEp4wr91QgAAMufFv3VCAACmnse/dUIAAEjpy791QgAAMFjPv3VCAADqM9C/dUIAAF7r0b91QgAAGMfSv3VCAADSotO/dUIAAIx+1L91QgAARlrVv3VCAAAW8rfAdUIAANDNuMB1QgAAiqm5wHVCAABEhbrAdUIAALg8vMB1QgAALPS9wHVCAACgq7/AdUIAAIgaw8B1QgAA/NHEwHVCAAC2rcXAdUIAAORAyMB1QgAAhovMwHVCAAC+xg3BdUIAAAJcFsF1QgAA6soZwXVCAADSOR3BdUIAAEbxHsF1QgAAUJldwXVCAAB+LGDBdUIAAKy/YsF1QgAAkp9vwXVCAABUlLjBdUIAADwDvMF1QgAAhE37wnVCAABsvP7CdUIAAN7kCcN1QgAAUpwLw3VCAADGUw3DdUIAAIrXTMN1QgAARLNNw3VCAAD+jk7DdUIAABSRVMN1QgAAzmxVw3VCAADkblvDdUIAAJ5KXMN1QgAAhrlfw3VCAADWhZ3DdUIAAJBhnsN1QgAASj2fw3VCAAAEGaDDdUIAAGA/pcN1QgAA1Pamw3VCAAC8ZarDdUIAAHZBq8N1QgAA0meww3VCAABGH7LDdUIAAH5a88N1QgAAODb0w3VCAAAQLUPEdUIAAITkRMR1QgAAbFNIxHVCAAAMD1bEdUIAAMbqVsR1QgAA3hKdxXVCAAC4mOLFdUIAAEJS6sV1QgAA5JzuxXVCAACG5/LFdUIAAL4iNMZ1QgAAxKyFxnVCAAA4ZIfGdUIAAJL7lcZ1QgAATNeWxnVCAAAycX/HdUIAAAjZ18d1QgAANmzax3VCAACEqSHIdUIAAGwYJch1QgAA5MqByHVCAACGFYbIdUIAAIyf18h1QgAAeMMRynVCAACmVhTKdUIAAGAyFcp1QgAASKEYynVCAAAwEBzKdUIAANwCX8p1QgAAlt5fynVCAADEcWLKdUIAAJxoscp1QgAAECCzynVCAACyarfKdUIAAFImxcp1QgAAxt3GynVCAABczgPLdUIAAM72Dst1QgAAhkMZy3VCAADKkv3LdUIAAIRu/st1QgAA9pYJzHVCAADOjVjMdUIAAFhHYMx1QgAAlgzzzHVCAADEn/XMdUIAAMiaUM11QgAACls+znVCAADENj/OdUIAAGTyTM51QgAA2KlOznVCAABylebOdUIAACxx5851QgAA5kzoznVCAADOu+vOdUIAACri8M51QgAAzCz1znVCAACGCPbOdUIAAOzWOc91QgAAAtk/z3VCAACsPIzPdUIAAMI+ks91QgAAkhyZz3VCAAC+2oDQdUIAAI64h9B1QgAAyu4j0XVCAACEyiTRdUIAAD6mJdF1QgAA+IEm0XVCAACyXSfRdUIAAGw5KNF1QgAAJhUp0XVCAADg8CnRdUIAAJrMKtF1QgAAJIYy0XVCAACGNonRdUIAAEq6yNF1QgAA0A+/0nVCAACK67/SdUIAABSlx9J1QgAAcMvM0nVCAAAqp83SdUIAAJ5ez9J1QgAAWDrQ0nVCAAASFtHSdUIAAJB1EdN1QgAASlES03VCAABIwhvTdUIAAAKeHNN1QgAAvHkd03VCAADqDCDTdUIAAEYzJdN1QgAAlv9i03VCAABQ22PTdUIAAAq3ZNN1QgAAOEpn03VCAADyJWjTdUIAAMIDb9N1QgAAfN9v03VCAAAGmXfTdUIAABBBttN1QgAAyhy303VCAABsZ7vTdUIAACZDvNN1QgAA5qgO1HVCAADOFxLUdUIAAFjRGdR1QgAAxpUT1XVCAABchlDVdUIAABZiUdV1QgAAihlT1XVCAAD+0FTVdUIAALisVdV1QgAAcohW1XVCAABw+V/VdUIAAJ6MYtV1QgAAWGhj1XVCAACG+2XVdUIAADLuqNV1QgAAZHwG1nVCAACEJkvWdUIAAMRXQtd1QgAA8upE13VCAACSplLXdUIAABAGk9d1QgAAyuGT13VCAAA+mZXXdUIAAPh0ltd1QgAAbCyY13VCAADg45nXdUIAAA53nNd1QgAAJHmi13VCAABSDKXXdUIAACyS6td1QgAA5m3r13VCAABClPDXdUIAAFiW9td1QgAAzE3413VCAACGKfnXdUIAAKbTPdh1QgAAjkJB2HVCAABIHkLYdUIAALzVQ9h1QgAARo9L2HVCAABet5HZdUIAABiTktl1QgAAjEqU2XVCAABGJpXZdUIAAKz02Nl1QgAAXOJ22nVCAABEUXradUIAAELCg9p1QgAA5AyI2nVCAABYxInadUIAAIZXjNp1QgAA7CXQ2nVCAACkctradUIAAF5O29p1QgAAROjD23VCAACQlhTcdUIAABpQHNx1QgAA1Csd3HVCAACOBx7cdUIAAEjjHtx1QgAAAr8f3HVCAACkCSTcdUIAAMSzaNx1QgAAfo9p3HVCAAAg2m3cdUIAANq1btx1QgAAqpN13HVCAABkb3bcdUIAAJICedx1QgAAnKq33HVCAADesMncdUIAAAxEzNx1QgAAxh/N3HVCAAC4Ng/ddUIAAPzLF911QgAAcIMZ3XVCAADkOhvddUIAAJxBAd51QgAAVh0C3nVCAAAQ+QLedUIAAMrUA951QgAAPowF3nVCAAD4ZwbedUIAALJDB951QgAAsLQQ3nVCAAAkbBLedUIAAJgjFN51QgAAxrYW3nVCAAD8YmHedUIAANbopt51QgAAkMSn3nVCAABknQnfdUIAAGbDSeB1QgAAqlhS4HVCAAAyPT/hdUIAADCuSOF1QgAACjSO4XVCAADED4/hdUIAAJTtleF1QgAACKWX4XVCAAB8XJnhdUIAANiCnuF1QgAAHNKC4nVCAACQiYTidUIAAEplheJ1QgAABEGG4nVCAADsr4nidUIAANw31eJ1QgAAlhPW4nVCAABadIPjdUIAABRQhON1QgAAziuF43VCAACGeI/jdUIAANS11uN1QgAAGEvf43VCAAAcABbldUIAANbbFuV1QgAAkLcX5XVCAABKkxjldUIAAALgIuV1QgAAMHMl5XVCAACkKifldUIAAF4GKOV1QgAAlkFp5XVCAACsQ2/ldUIAAAhqdOV1QgAAwkV15XVCAAB8IXbldUIAAAbbfeV1QgAAVqe75XVCAACEOr7ldUIAAD4Wv+V1QgAA+PG/5XVCAAAmhcLldUIAAOBgw+V1QgAAVBjF5XVCAAAO9MXldUIAALA+yuV1QgAAmK3N5XVCAABSic7ldUIAAFgTIOZ1QgAAnGIE53VCAAD4iAnndUIAAFIgGOd1QgAA0H9Y53VCAACKW1nndUIAAEQ3Wud1QgAAuO5b53VCAADsC7DndUIAAEajvud1QgAAOLoA6HVCAAA+RFLodUIAAJjbYOh1QgAA8ixL6XVCAACUd0/pdUIAAJyQl+l1QgAAVmyY6XVCAACE/5rpdUIAAMYFrel1QgAABMs/6nVCAADUqEbqdUIAAEbRUep1QgAArJ+V6nVCAAAc84XrdUIAANbOhut1QgAAkKqH63VCAABKhojrdUIAAARiiet1QgAAeBmL63VCAAAy9YvrdUIAAOzQjOt1QgAApqyN63VCAABgiI7rdUIAABpkj+t1QgAA1D+Q63VCAACOG5HrdUIAAEj3ket1QgAAAtOS63VCAAC8rpPrdUIAAHaKlOt1QgAAMGaV63VCAABe+ZfrdUIAANKwmet1QgAAjIya63VCAABGaJvrdUIAAArs2ut1QgAAfqPc63VCAAA4f93rdUIAAKw23+t1QgAAZhLg63VCAAAIXeTrdUIAAMI45et1QgAAfBTm63VCAAA28ObrdUIAAPDL5+t1QgAAqqfo63VCAACcvirsdUIAAFaaK+x1QgAAPgkv7HVCAAD45C/sdUIAAGycMex1QgAADuc17HVCAADIwjbsdUIAADx6OOx1QgAAsDE67HVCAABqDTvsdUIAACTpO+x1QgAA3sQ87HVCAADGM0DsdUIAAHCXjOx1QgAAniqP7HVCAABEKsrtdUIAAP4Fy+11QgAAMiMf7nVCAABMIIDudUIAAAb8gO51QgAAPKjL7nVCAABcUhDvdUIAAFg0I+91QgAAhscl73VCAADG+BzwdUIAABbFWvB1QgAAeHWx8HVCAADytgTxdUIAANxLSPJ1QgAAlidJ8nVCAABQA0rydUIAADhyTfJ1QgAAZgVQ8nVCAAAQaZzydUIAACZrovJ1QgAAPG2o8nVCAADGJrDydUIAAFwX7fJ1QgAA/mHx8nVCAACGjALzdUIAAHYUTvN1QgAA3OKR83VCAAAgeJrzdUIAAPBVofN1QgAASqeL9HVCAADcedv0dUIAAMJZ6PR1QgAAZKTs9HVCAADYW+70dUIAAJI37/R1QgAATBPw9HVCAAAG7/D0dUIAAM5ti/V1QgAAttyO9XVCAAASA5T1dUIAAMzelPV1QgAAhrqV9XVCAADWhtP1dUIAAEo+1fV1QgAAeNHX9XVCAAAyrdj1dUIAAOyI2fV1QgAApmTa9XVCAABgQNv1dUIAABoc3PV1QgAA1Pfc9XVCAACO0931dUIAAAKL3/V1QgAAvGbg9XVCAAB2QuH1dUIAAOr54vV1QgAApNXj9XVCAAAYjeX1dUIAAEYg6PV1QgAAFrjK9nVCAADQk8v2dUIAAIpvzPZ1QgAAREvN9nVCAAD+Js72dUIAAHLez/Z1QgAALLrQ9nVCAACgcdL2dUIAAFpN0/Z1QgAAFCnU9nVCAADOBNX2dUIAAIjg1fZ1QgAAQrzW9nVCAAD8l9f2dUIAALZz2PZ1QgAAcE/Z9nVCAAAqK9r2dUIAAOQG2/Z1QgAAnuLb9nVCAABYvtz2dUIAAIZR3/Z1QgAAvowg93VCAACOaif3dUIAAEhGKPd1QgAAAiIp93VCAAC8/Sn3dUIAANynbvd1QgAAfvJy93VCAAA4znP3dUIAAKyFdfd1QgAABh2E93VCAACcDcH3dUIAAIoGFvh1QgAAcOYi+HVCAADMDCj4dUIAAFaAC/l1QgAAyjcN+XVCAACyphD5dUIAACZeEvl1QgAAmhUU+XVCAABU8RT5dUIAAIKEF/l1QgAA9jsZ+XVCAABq8xr5dUIAACTPG/l1QgAADD4f+XVCAADQwV75dUIAAIqdX/l1QgAA5sNk+XVCAABwfWz5dUIAAFjsb/l1QgAAhn9y+XVCAADc1QH6dUIAAAppBPp1QgAAZAAT+nVCAACEqlf6dUIAANxsS/t1QgAAlkhM+3VCAADE2077dUIAAGywpPt1QgAAVB+o+3VCAADGR7P7dUIAABYU8ft1QgAAisvy+3VCAABEp/P7dUIAAObx9/t1QgAAzmD7+3VCAABCGP37dUIAALbP/vt1QgAAcKv/+3VCAADkYgH8dUIAAJ4+Avx1QgAAWBoD/HVCAAAS9gP8dUIAAMzRBPx1QgAAhq0F/HVCAABKMUX8dUIAABiAVfx1QgAAHDWM/XVCAADWEI39dUIAAErIjv11QgAABKSP/XVCAAAyN5L9dUIAAIzOoP11QgAARqqh/XVCAABMNPP9dUIAAPgmNv51QgAAak9B/nVCAADGdUb+dUIAABzM1f51QgAA1qfW/nVCAAAW2c3/dUIAACzb0/91QgAAiAHZ/3VCAABC3dn/dUIAAFjf3/91QgAAErvg/3VCAAAcYx8AdkIAAEr2IQB2QgAAXmkxAHZCAAB+E3YAdkIAANo5ewB2QgAAHs+DAHZCAAD4VMkAdkIAALIwygB2QgAAJujLAHZCAADgw8wAdkIAAJqfzQB2QgAAVHvOAHZCAAAOV88AdkIAADzq0QB2QgAAsKHTAHZCAABqfdQAdkIAACRZ1QB2QgAA3jTWAHZCAACYENcAdkIAAFLs1wB2QgAAXJQWAXZCAACImCIBdkIAAJzFDQJ2QgAAhDQRAnZCAAA+EBICdkIAAPjrEgJ2QgAAbKMUAnZCAAAmfxUCdkIAAOBaFgJ2QgAAmjYXAnZCAABUEhgCdkIAAA7uGAJ2QgAAgqUaAnZCAAD2XBwCdkIAAP51ZAJ2QgAA5uRnAnZCAACeMXICdkIAADKTuAJ2QgAAjrm9AnZCAAC8TMACdkIAAHYowQJ2QgAAMATCAnZCAAAYc8UCdkIAANJOxgJ2QgAA3PYEA3ZCAADaZw4DdkIAADaOEwN2QgAA2NgXA3ZCAAAGbBoDdkIAAJxcVwN2QgAAVjhYA3ZCAAAQFFkDdkIAAMrvWQN2QgAAhMtaA3ZCAAA+p1sDdkIAAPiCXAN2QgAAsl5dA3ZCAABsOl4DdkIAACYWXwN2QgAA4PFfA3ZCAACazWADdkIAAFSpYQN2QgAAyGBjA3ZCAACCPGQDdkIAADwYZQN2QgAAaqtnA3ZCAADG0WwDdkIAAJZpTwR2QgAAUEVQBHZCAAAKIVEEdkIAAJTaWAR2QgAAwm1bBHZCAAD+o/cEdkIAAEpSSAV2QgAABC5JBXZCAAC+CUoFdkIAAEjDUQV2QgAApOlWBXZCAAAeK6oFdkIAAEy+rAV2QgAASumRBnZCAAAExZIGdkIAAL6gkwZ2QgAAeHyUBnZCAAAyWJUGdkIAAOwzlgZ2QgAApg+XBnZCAABg65cGdkIAABrHmAZ2QgAASFqbBnZCAAACNpwGdkIAALwRnQZ2QgAA6qSfBnZCAABMVfYGdkIAAFyHhgd2QgAA7MrfB3ZCAADSquwHdkIAAOxhKQl2QgAAGGY1CXZCAADEWHgJdkIAAPLregl2QgAArMd7CXZCAABmo3wJdkIAACB/fQl2QgAAnE/HCXZCAABSDdsJdkIAAAzp2wl2QgAA/HAnCnZCAADQA2ULdkIAAIrfZQt2QgAARLtmC3ZCAAD+lmcLdkIAAHJOaQt2QgAALCpqC3ZCAACg4WsLdkIAAFq9bAt2QgAAiFBvC3ZCAABwv3ILdkIAACqbcwt2QgAAEgp3C3ZCAAAcsrULdkIAANaNtgt2QgAARifLC3ZCAADcFwgMdkIAAJbzCAx2QgAAUM8JDHZCAAB+YgwMdkIAADg+DQx2QgAArPUODHZCAAAgrRAMdkIAANqIEQx2QgAA8IoXDHZCAAAeHhoMdkIAAJx9Wgx2QgAAVllbDHZCAACE7F0MdkIAAD7IXgx2QgAAsn9gDHZCAABsW2EMdkIAACY3Ygx2QgAAmu5jDHZCAABUymQMdkIAAA6mZQx2QgAAyIFmDHZCAACCXWcMdkIAADw5aAx2QgAA9hRpDHZCAACw8GkMdkIAAGrMagx2QgAAJKhrDHZCAADeg2wMdkIAANyuUQ12QgAA8rBXDXZCAAAIs10NdkIAAPAhYQ12QgAATEhmDXZCAAD4OqkNdkIAALIWqg12QgAAbPKqDXZCAAAmzqsNdkIAAA49rw12QgAAPNCxDXZCAAD2q7INdkIAALCHsw12QgAAamO0DXZCAAAMrrgNdkIAAMaJuQ12QgAAFlb3DXZCAAAqyQYOdkIAAFhcCQ52QgAAhu8LDnZCAAAc4EgOdkIAANa7SQ52QgAARlVeDnZCAACsI6IOdkIAACDbow52QgAA2rakDnZCAAA23akOdkIAAJa45Q92QgAACnDnD3ZCAADES+gPdkIAAH4n6Q92QgAArLrrD3ZCAADaTe4PdkIAAJQp7w92QgAAfJjyD3ZCAAA2dPMPdkIAAKor9Q92QgAABlL6D3ZCAAAm/D4QdkIAAN5ISRB2QgAAmCRKEHZCAAAWhIoQdkIAALjOjhB2QgAA5mGREHZCAACgPZIQdkIAAIislRB2QgAAtj+YEHZCAACkOO0QdkIAABjw7hB2QgAAitLVEXZCAAC21uERdkIAAFgh5hF2QgAAMqcrEnZCAADsgiwSdkIAALxgMxJ2QgAAXqs3EnZCAABGGjsSdkIAADgxfRJ2QgAAfMaFEnZCAACSyIsSdkIAAJxwyhJ2QgAAPrvOEnZCAAD4ls8SdkIAALJy0BJ2QgAAbE7REnZCAADgBdMSdkIAABC/FRR2QgAAyAsgFHZCAADeDSYUdkIAAJjpJhR2QgAAXG1mFHZCAADQJGgUdkIAAETcaRR2QgAA/rdqFHZCAAC4k2sUdkIAAHJvbBR2QgAALEttFHZCAADmJm4UdkIAAFrebxR2QgAAzpVxFHZCAABCTXMUdkIAAPwodBR2QgAAtgR1FHZCAABw4HUUdkIAACq8dhR2QgAA5Jd3FHZCAACec3gUdkIAAFhPeRR2QgAAEit6FHZCAADMBnsUdkIAAIbiexR2QgAAHNO4FHZCAADWrrkUdkIAAJCKuhR2QgAASma7FHZCAAAEQrwUdkIAAHj5vRR2QgAAMtW+FHZCAADssL8UdkIAAKaMwBR2QgAAYGjBFHZCAADUH8MUdkIAALyOxhR2QgAARkjOFHZCAACWFAwVdkIAADhfEBV2QgAAZvISFXZCAAAgzhMVdkIAAB4/HRV2QgAAUlxxFXZCAADcz1QWdkIAAFCHVhZ2QgAACmNXFnZCAADEPlgWdkIAAH4aWRZ2QgAA8tFaFnZCAACUHF8WdkIAAMKvYRZ2QgAA2LFnFnZCAAAGRWoWdkIAABDtqBZ2QgAAysipFnZCAAAm764WdkIAAODKrxZ2QgAAmqawFnZCAAAOXrIWdkIAAMg5sxZ2QgAAghW0FnZCAAA88bQWdkIAAPbMtRZ2QgAAsKi2FnZCAAAkYLgWdkIAAFLzuhZ2QgAADM+7FnZCAADGqrwWdkIAAFyb+RZ2QgAAFnf6FnZCAAB2mFoXdkIAAF4HXhd2QgAA0r5fF3ZCAACMmmAXdkIAANxmnhd2QgAAHm2wF3ZCAADWc5YYdkIAAJBPlxh2QgAARg2rGHZCAABQtekYdkIAAHy59Rh2QgAAPB9IGXZCAADG2E8ZdkIAAFzJjBl2QgAAFqWNGXZCAADQgI4ZdkIAAIpcjxl2QgAARDiQGXZCAAD+E5EZdkIAAHLLkhl2QgAAzvGXGXZCAACGPqIZdkIAABqg6Bl2QgAARqT0GXZCAAAcxigbdkIAANahKRt2QgAAkH0qG3ZCAABKWSsbdkIAAL4QLRt2QgAAeOwtG3ZCAAAyyC4bdkIAAOyjLxt2QgAApn8wG3ZCAABgWzEbdkIAABo3Mht2QgAA1BIzG3ZCAACO7jMbdkIAAPCeiht2QgAABqGQG3ZCAACyk9MbdkIAAOAm1ht2QgAAmgLXG3ZCAAAMK+IbdkIAAMYG4xt2QgAAuB0lHHZCAABaaCkcdkIAABK1Mxx2QgAAEOAYHXZCAADKuxkddkIAAD5zGx12QgAARmnRHXZCAAAK7RAedkIAAGYTFh52QgAACF4aHnZCAAA28RwedkIAAKqoHh52QgAAVpthHnZCAACwMnAedkIAACTqcR52QgAAmKFzHnZCAADGNHYedkIAAE4ZYx92QgAA3ly8H3ZCAAAcIk8gdkIAANb9TyB2QgAASrVRIHZCAAAEkVIgdkIAAHhIVCB2QgAA7P9VIHZCAACm21YgdkIAABqTWCB2QgAAjkpaIHZCAAB2uV0gdkIAADCVXiB2QgAApExgIHZCAAAYBGIgdkIAANLfYiB2QgAAjLtjIHZCAABGl2QgdkIAAAobpCB2QgAAftKlIHZCAACsZaggdkIAABibqyF2QgAAfmnvIXZCAADwkfohdkIAAJyEPSJ2QgAAVmA+InZCAABKei4kdkIAAARWLyR2QgAAeA0xJHZCAADsxDIkdkIAAKagMyR2QgAAGlg1JHZCAADUMzYkdkIAAI4PNyR2QgAApBE9JHZCAADSpD8kdkIAAEZcQSR2QgAAlih/JHZCAABskNckdkIAAIKS3SR2QgAADEzlJHZCAADGJ+YkdkIAAKCtKyV2QgAAnh41JXZCAABY+jUldkIAAJxJGiZ2QgAAytwcJnZCAACEuB0mdkIAAD6UHiZ2QgAAbCchJnZCAAAmAyImdkIAAODeIiZ2QgAAmrojJnZCAABUliQmdkIAAA5yJSZ2QgAAyE0mJnZCAACCKScmdkIAADwFKCZ2QgAA9uAoJnZCAACwvCkmdkIAAGqYKiZ2QgAAJHQrJnZCAADeTywmdkIAAJgrLSZ2QgAAUgcuJnZCAAAM4y4mdkIAAMa+LyZ2QgAA5mh0JnZCAAASbYAmdkIAAMxIgSZ2QgAAhiSCJnZCAABKqMEmdkIAAASEwiZ2QgAAvNDMJnZCAABeG9EmdkIAABj30SZ2QgAAjK7TJnZCAABGitQmdkIAANx6ESd2QgAAllYSJ3ZCAAB+xRUndkIAADihFid2QgAAqskhJ3ZCAABkpSIndkIAAMSAXih2QgAAfM1oKHZCAAAQL68odkIAAEK9DCl2QgAAKiwQKXZCAAASmxMpdkIAAIZSFSl2QgAAjmtdKXZCAACOAqcqdkIAAIxzsCp2QgAAnKVAK3ZCAADKOEMrdkIAAD7wRCt2QgAA+MtFK3ZCAACyp0YrdkIAAGyDRyt2QgAADs5LK3ZCAACChU0rdkIAAAw/VSt2QgAAxhpWK3ZCAABcC5MrdkIAANDClCt2QgAAip6VK3ZCAADkNaQrdkIAANS97yt2QgAAjAr6K3ZCAABG5vordkIAABZ+3Sx2QgAAcBXsLHZCAADs5TUtdkIAAI4wOi12QgAAvMM8LXZCAAAwez4tdkIAAMTchC12QgAAkiuVLXZCAACYteYtdkIAALhfKy52QgAAcjssLnZCAABaqi8udkIAAHCsNS52QgAAhq47LnZCAAA+tSEvdkIAANCHcS92QgAAimNyL3ZCAABEP3MvdkIAAP4adC92QgAALK52L3ZCAAAUHXovdkIAAEKwfC92QgAAntaBL3ZCAABYsoIvdkIAABKOgy92QgAAhkWFL3ZCAAC+gMYvdkIAAFBTFjB2QgAACi8XMHZCAADEChgwdkIAAH7mGDB2QgAA8A4kMHZCAACq6iQwdkIAALIDbTB2QgAAalB3MHZCAADeB3kwdkIAAArGYDF2QgAAxKFhMXZCAAAeOXAxdkIAAAaoczF2QgAAhAe0MXZCAAAmUrgxdkIAAJoJujF2QgAA9i+/MXZCAABc/gIydkIAAIqRBTJ2QgAARG0GMnZCAAC4JAgydkIAAKCTCzJ2QgAAngQVMnZCAACGcxgydkIAANY/VjJ2QgAAkBtXMnZCAABK91cydkIAAHiKWjJ2QgAAMmZbMnZCAADsQVwydkIAAKYdXTJ2QgAAYPldMnZCAADUsF8ydkIAALwfYzJ2QgAAdvtjMnZCAADqsmUydkIAANIhaTJ2QgAAUIGpMnZCAADaOrEydkIAAJCyoDN2QgAASo6hM3ZCAAAEaqIzdkIAAHghpDN2QgAA7NilM3ZCAACmtKYzdkIAAGCQpzN2QgAAGmyoM3ZCAADUR6kzdkIAAI4jqjN2QgAAGN2xM3ZCAABGcLQzdkIAANhCBDR2QgAAkh4FNHZCAABcLJY0dkIAABYIlzR2QgAA0OOXNHZCAAD856M0dkIAANTe8jR2QgAAAnL1NHZCAAAcKTI2dkIAAJDgMzZ2QgAASrw0NnZCAADsBjk2dkIAALzkPzZ2QgAAmNbpNnZCAAAUpzM3dkIAAIheNTd2QgAAVmchOHZCAADKHiM4dkIAAIT6Izh2QgAA+LElOHZCAAAmRSg4dkIAAFJJNDh2QgAAWNOFOHZCAACGZog4dkIAANYyxjh2QgAAkA7HOHZCAABK6sc4dkIAAHh9yjh2QgAA7DTMOHZCAAAayM44dkIAAOql1Th2QgAANlQmOXZCAABsAHE5dkIAAJy5szp2QgAAEHG1OnZCAABSd8c6dkIAAAxTyDp2QgAAlsarO3ZCAAAKfq07dkIAAGaksjt2QgAATIS/O3ZCAADE8Pc8dkIAADio+Tx2QgAA8oP6PHZCAAAIhgA9dkIAADYZAz12QgAAZKwFPXZCAAAOEFI9dkIAAN7tWD12QgAAXE2ZPXZCAABIt/c9dkIAADJMOz92QgAAvAVDP3ZCAACkdEY/dkIAAJaLiD92QgAAUGeJP3ZCAABUYuQ/dkIAAIL15j92QgAADK/uP3ZCAACaHS1BdkIAAFwSdkF2QgAA0Ml3QXZCAACKpXhBdkIAAESBeUF2QgAA/lx6QXZCAAC4OHtBdkIAAHIUfEF2QgAAoKd+QXZCAAD8zYNBdkIAALaphEF2QgAAEtCJQXZCAADMq4pBdkIAAIaHi0F2QgAA8t8gQnZCAACUKiVCdkIAAKosK0J2QgAAsLZ8QnZCAADGuIJCdkIAAFa2t0N2QgAAym25Q3ZCAAA+JbtDdkIAABSNE0R2QgAAzmgURHZCAAD8+xZEdkIAABL+HER2QgAAhrUeRHZCAACW565EdkIAAMR6sUR2QgAA8g20RHZCAADY7cBEdkIAAAaBw0R2QgAAStCnRXZCAAB21LNFdkIAANyi90V2QgAACjb6RXZCAACU7wFGdkIAABS7pkZ2QgAAzpanRnZCAACG47FGdkIAAOyx9UZ2QgAAGkX4RnZCAABY5/hHdkIAAMye+kd2QgAAVhLeSHZCAADIOulIdkIAAIIW6kh2QgAAaoXtSHZCAAAq6z9JdkIAAFh+Qkl2QgAAzDVESXZCAAD48ytKdkIAAMjRMkp2QgAADGc7SnZCAADGQjxKdkIAABYPekp2QgAAQhOGSnZCAAAqgolKdkIAAIaojkp2QgAAHJnLSnZCAADWdMxKdkIAAJBQzUp2QgAASizOSnZCAAC8VNlKdkIAAHYw2kp2QgAA3P4dS3ZCAADY4DBLdkIAAJK8MUt2QgAATJgyS3ZCAAAGdDNLdkIAAPiKdUt2QgAAxtmFS3ZCAACWcWhMdkIAAMQEa0x2QgAAfFF1THZCAABML3xMdkIAAAYLfUx2QgAAVte6THZCAAAQs7tMdkIAAMqOvEx2QgAAPka+THZCAAD4Ib9MdkIAALL9v0x2QgAAJrXBTHZCAADgkMJMdkIAAJpsw0x2QgAAVEjETHZCAAAOJMVMdkIAAFxhDE12QgAA0BgOTXZCAACK9A5NdkIAALiHEU12QgAAeO1jTXZCAABGPHRNdkIAAI6Gs052QgAA8sUAT3ZCAACsoQFPdkIAAMq8T092QgAAiiKiT3ZCAAAsbaZPdkIAAFoAqU92QgAAjh39T3ZCAACkHwNQdkIAAEZqB1B2QgAA7GlCUXZCAABELDZSdkIAALjjN1J2QgAAQp0/UnZCAACc7ilTdkIAAD45LlN2QgAAsvAvU3ZCAACaXzNTdkIAAMZjP1N2QgAAFjB9U3ZCAADQC35TdkIAAETDf1N2QgAAuHqBU3ZCAAC264pTdkIAABISkFN2QgAAhsmRU3ZCAABewOBTdkIAAMSOJFR2QgAA2pAqVHZCAADYATRUdkIAAJLdNFR2QgAAED11VHZCAABU0n1UdkIAAMb6iFR2QgAA3LZqVXZCAADyuHBVdkIAAGThe1V2QgAABiyAVXZCAABqa81VdkIAAFyCD1Z2QgAAFl4QVnZCAADQORFWdkIAAETxElZ2QgAAEkAjVnZCAACG9yRWdkIAAJA2rVd2QgAABO6uV3ZCAADsXLJXdkIAAKY4s1d2QgAAYBS0V3ZCAADUy7VXdkIAAI6ntld2QgAASIO3V3ZCAAACX7hXdkIAALw6uVd2QgAAdha6V3ZCAAAw8rpXdkIAAOrNu1d2QgAApKm8V3ZCAABehb1XdkIAABhhvld2QgAA0jy/V3ZCAACMGMBXdkIAAEb0wFd2QgAAEAJSWHZCAADK3VJYdkIAAIS5U1h2QgAAPpVUWHZCAAD4cFVYdkIAALJMVlh2QgAA4N9YWHZCAACau1lYdkIAAA5zW1h2QgAA9uFeWHZCAACwvV9YdkIAACR1YVh2QgAAxr9lWHZCAAAcrT5adkIAAJBkQFp2QgAASkBBWnZCAAC+90JadkIAAI7VSVp2QgAAAo1LWnZCAADq+05adkIAAEYiVFp2QgAACqaTWnZCAADEgZRadkIAAH5dlVp2QgAAODmWWnZCAADyFJdadkIAAITn5lp2QgAAJjLrWnZCAABUxe1adkIAAGrH81p2QgAADBL4WnZCAADG7fhadkIAACy8PFt2QgAAzgZBW3ZCAABCvkJbdkIAAFjASFt2QgAAhlNLW3ZCAACEfjBcdkIAAPg1Mlx2QgAA4KQ1XHZCAACC7zlcdkIAADzLOlx2QgAAJDo+XHZCAADeFT9cdkIAAJYcJV12QgAAUPglXXZCAADErydddkIAAGRrNV12QgAA2CI3XXZCAAAKa3BedkIAADZvfF52QgAAZAJ/XnZCAACErMNedkIAAMay1V52QgAAijYVX3ZCAABEEhZfdkIAALjJF192QgAAcqUYX3ZCAAAsgRlfdkIAAM7LHV92QgAAKvIiX3ZCAABYhSVfdkIAAIYYKF92QgAABHhoX3ZCAAC+U2lfdkIAADILa192QgAA7OZrX3ZCAADSxnhfdkIAAAoCul92QgAAOJW8X3ZCAADa38BfdkIAAPDhxl92QgAA2FDKX3ZCAABMCMxfdkIAANwFAWF2QgAAluEBYXZCAABQvQJhdkIAAAqZA2F2QgAA2OcTYXZCAAAGexZhdkIAAPYCYmF2QgAADAVoYXZCAADWEvlhdkIAAASm+2F2QgAAGqgBYnZCAABIOwRidkIAAAIXBWJ2QgAAds4GYnZCAABePQpidkIAANL0C2J2QgAAjNAMYnZCAABGrA1idkIAALiO9GJ2QgAAWEoCY3ZCAAAGqaljdkIAAIQI6mN2QgAAPuTqY3ZCAAAmU+5jdkIAAJoK8GN2QgAA3p/4Y3ZCAACEnzNldkIAAJgSQ2V2QgAAcpiIZXZCAADOvo1ldkIAAFh4lWV2QgAAhguYZXZCAADSuehldkIAAEZx6mV2QgAABtc8ZnZCAABWo3pmdkIAABB/e2Z2QgAAPhJ+ZnZCAADezYtmdkIAAFKFjWZ2QgAAxjyPZnZCAADc+HBndkIAAAqMc2d2QgAABm6GZ3ZCAAAQFsVndkIAAMrxxWd2QgAADPjXZ3ZCAAC46hpodkIAAFo1H2h2QgAAhjkraHZCAAAcKmhodkIAAASZa2h2QgAAdsF2aHZCAADqeHhodkIAANQNvGl2QgAAso5canZCAAAMJmtqdkIAAATH/mp2QgAAphEDa3ZCAADUpAVrdkIAANIVD2t2QgAAjPEPa3ZCAABGzRBrdkIAAET49Wt2QgAA5kL6a3ZCAACgHvtrdkIAAEJp/2t2QgAAno8EbHZCAADWykVsdkIAAALPUWx2QgAAdoZTbHZCAAAY0VdsdkIAAEZkWmx2QgAAfp+bbHZCAADYNqpsdkIAABBy62x2QgAAhCntbHZCAAAmdPFsdkIAAFwgPG12QgAAFvw8bXZCAADQ1z1tdkIAAESPP212QgAA/mpAbXZCAADOSEdtdkIAACpvTG12QgAAhpVRbXZCAACawjxudkIAAFIPR252QgAADOtHbnZCAAC2TpRudkIAAOThlm52QgAAnr2XbnZCAACGLJtudkIAANb42G52QgAAptbfbnZCAAB2tOZudkIAAAoWLW92QgAAZjwyb3ZCAACq0TpvdkIAANhkPW92QgAAsuqCb3ZCAABsxoNvdkIAALBbjG92QgAAxl2Sb3ZCAACs93pwdkIAAE5Cf3B2QgAANrGCcHZCAABkRIVwdkIAAEyziHB2QgAAmvDPcHZCAAAOqNFwdkIAAIJf03B2QgAAas7WcHZCAAAMGdtwdkIAAMb023B2QgAAcucecXZCAACQAm1xdkIAAH77wXF2QgAAwpDKcXZCAAAet89xdkIAAJJu0XF2QgAAVolac3ZCAAAQZVtzdkIAAIQcXXN2QgAAHHn+c3ZCAACQMAB0dkIAAIYfC3V2QgAAkMdJdXZCAAAC8FR1dkIAAFQo93V2QgAAFh1AdnZCAADQ+EB2dkIAAIrUQXZ2QgAARLBCdnZCAAD+i0N2dkIAAMoFOXd2QgAAXNiId3ZCAADQj4p3dkIAAHLajnd2QgAAzHGdd3ZCAACGTZ53dkIAAFBbL3h2QgAAxBIxeHZCAAB+7jF4dkIAAGZdNXh2QgAAIDk2eHZCAADaFDd4dkIAANiFQHh2QgAAypyCeHZCAAAmw4d4dkIAAJp6iXh2QgAAyA2MeHZCAACwfI94dkIAANw6d3l2QgAAUPJ4eXZCAAAGsIx5dkIAALKiz3l2QgAAbH7QeXZCAAAmWtF5dkIAAJoR03l2QgAAVO3TeXZCAABSXt15dkIAAPzBKXp2QgAAKlUsenZCAADkMC16dkIAABLEL3p2QgAASHB6enZCAAAI1sx6dkIAAPBE0Hp2QgAAqiDRenZCAABk/NF6dkIAAHgpvXt2QgAAYJjAe3ZCAAC8vsV7dkIAADB2x3t2QgAARnjNe3ZCAACWRAt8dkIAAFAgDHx2QgAArEYRfHZCAACUtRR8dkIAAE6RFXx2QgAAZJMbfHZCAAAG3h98dkIAAESjsnx2QgAA5u22fHZCAAAUgbl8dkIAAEIUvHx2QgAAKoO/fHZCAACQUQN9dkIAAAQJBX12QgAAvuQFfXZCAAAynAd9dkIAAOx3CH12QgAAplMJfXZCAABIng19dkIAAAJ6Dn12QgAA6ugRfXZCAACkxBJ9dkIAABh8FH12QgAA0lcVfXZCAACMMxZ9dkIAAFzL+H12QgAAuPH9fXZCAADmhAB+dkIAAKBgAX52QgAAWjwCfnZCAADO8wN+dkIAAJZynn52QgAAlOOnfnZCAAAIm6l+dkIAAB6dr352QgAAELTxfnZCAADKj/J+dkIAAJpt+X52QgAAsG//fnZCAABqSwB/dkIAAETRRX92QgAAoPdKf3ZCAABa00t/dkIAABSvTH92QgAAzopNf3ZCAABYRFV/dkIAABIgVn92QgAAhAI9gHZCAAAkvkqAdkIAAMYIT4B2QgAABM7hgHZCAAB4heOAdkIAAOw85YB2QgAAGtDngHZCAADUq+iAdkIAADDS7YB2QgAA6q3ugHZCAACkie+AdkIAABhB8YB2QgAAjPjygHZCAACWoDGBdkIAACBaOYF2QgAAHstCgXZCAABMXkWBdkIAAAY6RoF2QgAAggqQgXZCAAD2wZGBdkIAALCdkoF2QgAA3jCVgXZCAAA4gn+CdkIAAPJdgIJ2QgAArDmBgnZCAAB8F4iCdkIAAKqqioJ2QgAAylTPgnZCAADGNuKCdkIAAHCaLoN2QgAAKnYvg3ZCAAB2JICDdkIAAIwmhoN2QgAAfK7Rg3ZCAAA2itKDdkIAAPBl04N2QgAAqkHUg3ZCAABkHdWDdkIAAB751YN2QgAABmjZg3ZCAADsAcKEdkIAAKbdwoR2QgAAjkzGhHZCAABIKMeEdkIAAAIEyIR2QgAAvN/IhHZCAAAYBs6EdkIAAGZDFYV2QgAANiEchXZCAADYayCFdkIAAJJHIYV2QgAABv8ihXZCAACy8WWFdkIAAGzNZoV2QgAADhhrhXZCAACwYm+FdkIAAMZkdYV2QgAAcMjBhXZCAADkf8OFdkIAAJ5bxIV2QgAAWDfFhXZCAACGyseFdkIAAKZ0DIZ2QgAAYFANhnZCAABIvxCGdkIAALx2EoZ2QgAARjAahnZCAADUnliHdkIAAAIyW4d2QgAA0g9ih3ZCAACM62KHdkIAAEbHY4d2QgAAyLhIiXZCAAAk302JdkIAAHIclYl2QgAA5tOWiXZCAABY/KGJdkIAABLYool2QgAAzLOjiXZCAABQnTWKdkIAAHyhQYp2QgAABltJinZCAABSCZqKdkIAAMbAm4p2QgAAUDR/i3ZCAADE64CLdkIAAH7HgYt2QgAA8n6Di3ZCAAAG8pKLdkIAAFxIIox2QgAAuG4njHZCAAAsJimMdkIAAIhMLox2QgAAQigvjHZCAAC8aYKMdkIAANj12Yx2QgAATK3bjHZCAACQ/L+NdkIAANiMI452QgAAnBBjjnZCAACyEmmOdkIAANAtt452QgAAKsXFjnZCAABqjQaRdkIAACRpB5F2QgAAWhVSkXZCAAASYlyRdkIAAMw9XZF2QgAAnNU/knZCAAAkAFGSdkIAAP6FlpJ2QgAAHKHkknZCAADWfOWSdkIAAJBY5pJ2QgAABBDoknZCAAC+6+iSdkIAAKZa7JJ2QgAABnxMk3ZCAADcnYCUdkIAAJZ5gZR2QgAAUFWClHZCAAAKMYOUdkIAAH7ohJR2QgAAOMSFlHZCAACse4eUdkIAACAziZR2QgAAlOqKlHZCAABOxouUdkIAAAiijJR2QgAAwn2NlHZCAAB8WY6UdkIAADY1j5R2QgAA8BCQlHZCAACq7JCUdkIAAGTIkZR2QgAAHqSSlHZCAADYf5OUdkIAAJJblJR2QgAATDeVlHZCAAAGE5aUdkIAALiPKpV2QgAAFLYvlXZCAABYSziVdkIAAMwCOpV2QgAAht46lXZCAACQhnmVdkIAAOysfpV2QgAAYGSAlXZCAADUG4KVdkIAAHZmhpV2QgAAlhDLlXZCAABm7tGVdkIAACDK0pV2QgAATM7elXZCAACQHcOWdkIAAOxDyJZ2QgAA5lDAl3ZCAACGDM6XdkIAANbYC5h2QgAAprYSmHZCAABIAReYdkIAADBwGph2QgAARnIgmHZCAABcLgKZdkIAAIrBBJl2QgAAnjQUmXZCAACGoxeZdkIAAJbVp5l2QgAAfkSrmXZCAABkJLiZdkIAAJK3upl2QgAAFqFMmnZCAAD8gFmadkIAAIY6YZp2QgAAEEWOnHZCAABsa5OcdkIAAGrcnJx2QgAARPkrnnZCAAD+1CyedkIAALiwLZ52QgAAcowunnZCAADmQzCedkIAAIb/PZ52QgAASoN9nnZCAABI9IaedkIAAALQh552QgAAvKuInnZCAAAwY4qedkIAABjSjZ52QgAAMonKn3ZCAADq1dSfdkIAAHyoJKB2QgAATIYroHZCAABcTwWidkIAAFgxGKJ2QgAAHLVXonZCAADqA2iidkIAANJya6J2QgAAjE5sonZCAAD4PUukdkIAAPauVKR2QgAABFLupHZCAAC+Le+kdkIAADLl8KR2QgAAXun8pHZCAAAO15qldkIAAIKOnKV2QgAAPGqdpXZCAABq/Z+ldkIAACTZoKV2QgAA3rShpXZCAADGI6WldkIAAD6Q3aZ2QgAA+GvepnZCAACyR9+mdkIAAJq24qZ2QgAAVJLjpnZCAAA8AeemdkIAAPbc56Z2QgAAapTppnZCAADeS+umdkIAAJgn7KZ2QgAADN/tpnZCAADGuu6mdkIAAFocNad2QgAAKvo7p3ZCAADk1TyndkIAAALxiqd2QgAAMISNp3ZCAAAcqMeodkIAAJBfyah2QgAASjvKqHZCAAAaGdGodkIAAAKI1Kh2QgAAvGPVqHZCAABertmodkIAABiK2qh2QgAARh3dqHZCAADC7SapdkIAAEynLql2QgAABoMvqXZCAAD2CnupdkIAAErSE6p2QgAAMkEXqnZCAADUixuqdkIAAETfC6t2QgAAcnIOq3ZCAAAsTg+rdkIAAPwrFqt2QgAAtgcXq3ZCAAAqvxirdkIAAJ52Gqt2QgAAEi4cq3ZCAACG5R2rdkIAABzWWqt2QgAAXtxsq3ZCAABGS3CrdkIAAArPr6t2QgAAOGKyq3ZCAACsGbSrdkIAANgdwKt2QgAABrHCq3ZCAACEEAOsdkIAAOA2CKx2QgAAmhIJrHZCAABU7gmsdkIAAA7KCqx2QgAAyKULrHZCAACCgQysdkIAALAUD6x2QgAAavAPrHZCAAAkzBCsdkIAAN6nEax2QgAAmIMSrHZCAABSXxOsdkIAAER2Vax2QgAADmFUrXZCAAAWepytdkIAAEZ5A652QgAA2EtTrnZCAABWq5OudkIAAPj1l652QgAAPrHgr3ZCAAAkke2vdkIAAIZBRLB2QgAAHDKBsHZCAADWDYKwdkIAAErFg7B2QgAAZugksnZCAAAIMymydkIAAB41L7J2QgAAnJRvsnZCAAAQTHGydkIAAMoncrJ2QgAAhANzsnZCAAA+33OydkIAAPi6dLJ2QgAAspZ1snZCAABscnaydkIAAOApeLJ2QgAAmgV5snZCAABU4XmydkIAAMiYe7J2QgAAgnR8snZCAAA8UH2ydkIAAPYrfrJ2QgAAsAd/snZCAABq43+ydkIAACS/gLJ2QgAA3pqBsnZCAACYdoKydkIAAFJSg7J2QgAADC6EsnZCAADGCYWydkIAANCxw7J2QgAAfqe0tHZCAAA4g7W0dkIAACDyuLR2QgAAZIfBtHZCAAD2WRG1dkIAAFqZXrV2QgAA5FJmtXZCAAAsnaW2dkIAAFowqLZ2QgAAiMOqtnZCAABktVS3dkIAANgDoLh2QgAAkt+guHZCAADejfG4dkIAAExS67l2QgAAdoHcunZCAABsk3m7dkIAAOBKe7t2QgAApKsovHZCAABehym8dkIAAIyxdb12QgAARo12vXZCAABmN7u9dkIAAOB4Dr52QgAA3ukXvnZCAABSoRm+dkIAAOAPWL92QgAAJKVgv3ZCAADOCK2/dkIAAKRwBcB2QgAA+DeewHZCAAA8zabAdkIAAAyrrcB2QgAAxoauwHZCAACWHpHBdkIAAMSxk8F2QgAArCCXwXZCAABm/JfBdkIAAGRtocF2QgAA+M7nwXZCAACyqujBdkIAAOA968F2QgAAlrXawnZCAABQKCXEdkIAAPDjMsR2QgAAqr8zxHZCAABMCjjEdkIAAMZLi8R2QgAAXDzIxHZCAABCHNXEdkIAAIax3cR2QgAAuPkWxnZCAABy1RfGdkIAAEg9cMZ2QgAA6od0xnZCAABeP3bGdkIAAEauecZ2QgAAIDS/xnZCAADaD8DGdkIAAJTrwMZ2QgAAfFrExnZCAAAepcjGdkIAAFLCHMd2QgAAFLdlx3ZCAACG33DHdkIAAMYQaMh2QgAABNb6yHZCAAAyaf3IdkIAAAJHBMl2QgAAlqhKyXZCAADeOK7JdkIAAMJDoMp2QgAAqrKjynZCAADez/fKdkIAAESeO8t2QgAA1OGUy3ZCAAC8UJjLdkIAAF6bnMt2QgAAGHedy3ZCAADSUp7LdkIAAHhS2cx2QgAASDDgzHZCAAC85+HMdkIAAKrgNs12QgAAxmyOzXZCAADwMsnPdkIAANihzM92QgAABjXPz3ZCAABWAQ3QdkIAAFaYVtF2QgAA+OJa0XZCAACaLV/RdkIAAIgmtNF2QgAAdh8J0nZCAABMh2HSdkIAAFIRs9J2QgAAxsi00nZCAAASDk/UdkIAAJ4bKth2QgAARvB/2HZCAAAgdsXYdkIAAGQLzth2QgAAQoxu2XZCAADgcmHadkIAAFQqY9p2QgAADHdt2nZCAAAeFWLbdkIAAGrDstt2QgAAmFa123ZCAAC4l0PddkIAACxPRd12QgAAtghN3XZCAABw5E3ddkIAADBKoN12QgAARkym3XZCAACqi/PddkIAAGRn9N12QgAABrL43XZCAABS95LfdkIAAIYU5992QgAA1FEu4HZCAABICTDgdkIAAHacMuB2QgAA6lM04HZCAABeCzbgdkIAAEYRg+F2QgAA8HTP4XZCAAD8iHLidkIAAGpNbON2QgAAzP3C43ZCAAACqg3kdkIAANior+V2QgAAkoSw5XZCAAAGPLLldkIAAGwK9uV2QgAAJub25XZCAAAU30vmdkIAAHgemeZ2QgAAGmmd5nZCAADqRqTmdkIAAIyRqOZ2QgAARm2p5nZCAACkue7ndkIAABhx8Od2QgAARgTz53ZCAABa9rrsdkIAAHD4wOx2QgAAWGfE7HZCAADMHsbsdkIAAFApW/Z2QgAAZith9nZCAACUvmP2dkIAAIRGr/Z2QgAA4Gy09nZCAABqJrz2dkIAAN7dvfZ2QgAA8gqp93ZCAABmwqr3dkIAAAZ+uPd2QgAAECb393ZCAADKAfj3dkIAAA6XAPh2QgAA3nQH+HZCAAAssk74dkIAAASpnfh2QgAA0vet+HZCAAA4xvH4dkIAAGZZ9Ph2QgAA8BL8+HZCAADYgf/4dkIAAARA5/l2QgAAYGbs+XZCAADSjvf5dkIAAJYSN/p2QgAAfoE6+nZCAABOX0H6dkIAALKejvp2QgAAJlaQ+nZCAADgMZH6dkIAAJoNkvp2QgAAVOmS+nZCAAA8WJb6dkIAALAPmPp2QgAAauuY+nZCAAAkx5n6dkIAAN6imvp2QgAAmH6b+nZCAAAMNp36dkIAAMYRnvp2QgAALODh+nZCAAC2men6dkIAAOq2Pft2QgAAYJR//HZCAACOJ4L8dkIAAF4Fifx2QgAA0ryK/HZCAACMmIv8dkIAAEZ0jPx2QgAA2Ebc/HZCAACSIt38dkIAAEz+3fx2QgAABtre/HZCAACcyhv9dkIAACaEI/12QgAADvMm/XZCAADe0C39dkIAAMY/Mf12QgAAhqWD/XZCAAD2+HP+dkIAAGqwdf52QgAAXMe3/nZCAADQfrn+dkIAALjtvP52QgAAzGDM/nZCAAAcLQr/dkIAAErADP92QgAAXjMc/3ZCAABGoh//dkIAAAomX/92QgAA8pRi/3ZCAADaA2b/dkIAAE67Z/92QgAABghy/3ZCAAD2j73/dkIAAGpHv/92QgAAUrbC/3ZCAADCCbMAd0IAADbBtAB3QgAATMO6AHdCAAAGn7sAd0IAABKzXgF3QgAAhmpgAXdCAACqDwACd0IAAGTrAAJ3QgAA2KICAndCAABMWgQCd0IAADBl9gJ3QgAAGNT5AndCAACqpkkDd0IAAOrXQAR3QgAAMJOJBXdCAADqbooFd0IAAKRKiwV3QgAAXiaMBXdCAAAYAo0Fd0IAANLdjQV3QgAAjLmOBXdCAABGlY8Fd0IAAIrkcwZ3QgAAiFV9BndCAAAOq3MHd0IAAIJidQd3QgAAxvd9B3dCAABc6LoHd0IAANCfvAd3QgAAuA7AB3dCAABy6sAHd0IAACzGwQd3QgAA5qHCB3dCAACgfcMHd0IAABQ1xQd3QgAAQsjHB3dCAAD8o8gHd0IAALZ/yQd3QgAAcFvKB3dCAAAqN8sHd0IAAOQSzAd3QgAAnu7MB3dCAAASps4Hd0IAAMyBzwd3QgAAhl3QB3dCAAC8CRsId0IAAHblGwh3QgAAMMEcCHdCAADqnB0Id0IAAKR4Hgh3QgAAXlQfCHdCAAAYMCAId0IAANILIQh3QgAAfG9tCHdCAAA2S24Id0IAAPAmbwh3QgAAqgJwCHdCAACWJqoJd0IAAFT9BQp3QgAAPGwJCndCAAAk2wwKd0IAAFwWTgp3QgAALPRUCndCAACmNagKd0IAAI6kqwp3QgAAMO+vCndCAADqyrAKd0IAAIwVtQp3QgAA7PDwC3dCAADUX/QLd0IAAHaq+At3QgAARoj/C3dCAAB+w0AMd0IAAPDrSwx3QgAADgeaDHdCAADI4poMd0IAAIK+mwx3QgAA9nWdDHdCAAAMeKMMd0IAAIrX4wx3QgAA/o7lDHdCAAByRucMd0IAAFgm9Ax3QgAA1oU0DXdCAABKPTYNd0IAAL70Nw13QgAA7Ic6DXdCAABgPzwNd0IAABobPQ13QgAA1PY9DXdCAAC8ZUENd0IAAEYfSQ13QgAAct0wDndCAAAsuTEOd0IAAKBwMw53QgAAWkw0DndCAAAUKDUOd0IAAM4DNg53QgAAiN82DndCAABCuzcOd0IAAPyWOA53QgAAtnI5DndCAABwTjoOd0IAACoqOw53QgAA5AU8DndCAACe4TwOd0IAAFi9PQ53QgAAEpk+DndCAADMdD8Od0IAAIZQQA53QgAAStR/DndCAADcps8Od0IAAPAZ3w53QgAABhzlDndCAABW6CIPd0IAAMaBNw93QgAAXHJ0D3dCAAAWTnUPd0IAAFhUhw93QgAAEjCID3dCAACG54kPd0IAAJyjaxB3QgAAEFttEHdCAADKNm4Qd0IAAIQSbxB3QgAA+MlwEHdCAACypXEQd0IAACZdcxB3QgAADsx2EHdCAACCg3gQd0IAADxfeRB3QgAAsBZ7EHdCAABq8nsQd0IAAJiFfhB3QgAAUmF/EHdCAAAMPYAQd0IAAMYYgRB3QgAA5sLFEHdCAABY69AQd0IAABLH0RB3QgAAkCYSEXdCAABedSIRd0IAAEbkJRF3QgAA8tZoEXdCAAAI2W4Rd0IAAJw6tRF3QgAATtrbEXdCAADca6wSd0IAAB5yvhJ3QgAABuHBEndCAADe1xATd0IAAM5fXBN3QgAAEvVkE3dCAACGrGYTd0IAABoOrRN3QgAAdjSyE3dCAACkx7QTd0IAADgp+xN3QgAAZrz9E3dCAAAgmP4Td0IAAJRPABR3QgAACAcCFHdCAADC4gIUd0IAAHy+AxR3QgAA8HUFFHdCAACqUQYUd0IAANjkCBR3QgAATJwKFHdCAAAGeAsUd0IAADI28xR3QgAAGqX2FHdCAADUgPcUd0IAAI5c+BR3QgAAAhT6FHdCAACkXv4Ud0IAANLxABV3QgAARqkCFXdCAADECEMVd0IAAAYPVRV3QgAAmOGkFXdCAABSvaUVd0IAAIba+RV3QgAAQtw6F3dCAACeAkAXd0IAADDVjxd3QgAA6rCQF3dCAABeaJIXd0IAABhEkxd3QgAAjPuUF3dCAACWo9MXd0IAAMQ21hd3QgAAlBTdF3dCAAAm5ywYd0IAAN4zNxh3QgAAxqI6GHdCAACaNXgZd0IAAKS6JBp3QgAAXpYlGndCAAAYciYad0IAANJNJxp3QgAAjCkoGndCAABGBSkad0IAAMruuhp3QgAA4PDAGndCAAA4s7Qbd0IAAMZnFxx3QgAAzPFoHHdCAACGzWkcd0IAAAI1/R13QgAAsJOkHndCAAAkS6Yed0IAAN4mpx53QgAAmAKoHndCAABS3qged0IAAAy6qR53QgAAxpWqHndCAACMhU4fd0IAAEZhTx93QgAA/mc1IHdCAAD82D4gd0IAAJA6hSB3QgAA7GCKIHdCAADq0ZMgd0IAAKStlCB3QgAAGGWWIHdCAACMHJggd0IAAEb4mCB3QgAAOA/bIHdCAAB8pOMgd0IAAMbDPSF3QgAAUqOFIndCAADGWocid0IAAHJNyiJ3QgAAhsDZIndCAACk2ycjd0IAANJuKiN3QgAARiYsI3dCAAAGjH4jd0IAAA6lxiN3QgAAyIDHI3dCAACCXMgjd0IAALDvyiN3QgAAUjrPI3dCAADG8dAjd0IAAGpiFSV3QgAA5jJfJXdCAABa6mAld0IAABTGYSV3QgAAzqFiJXdCAACIfWMld0IAAEJZZCV3QgAAEjdrJXdCAADMEmwld0IAAIbubCV3QgAAMuGvJXdCAAACVgAnd0IAANzbRSd3QgAAlrdGJ3dCAAA2c1Qnd0IAAEx1Wid3QgAABlFbJ3dCAADK1Jond0IAADz9pSd3QgAAsLSnJ3dCAADGtq0nd0IAAI41SCh3QgAApDdOKHdCAACSx+wpd0IAAMxukip3QgAAKrvXK3dCAADkltgrd0IAAMwF3Ct3QgAAhuHcK3dCAAAEQR0sd0IAAI76JCx3QgAARkcvLHdCAACUhHYsd0IAAAatgSx3QgAAEFXALHdCAAB8isMtd0IAADZmxC13QgAATGjKLXdCAABECV4ud0IAABJYbi53QgAARnXCLndCAAB8IQ0vd0IAAJIjEy93QgAAEoYBMXdCAAAIL+gyd0IAAJyQLjN3QgAAWNiTM3dCAABS5Ys0d0IAABzzHDV3QgAAdoorNXdCAAAA/g42d0IAALrZDzZ3QgAAdLUQNndCAAAukRE2d0IAAOhsEjZ3QgAAokgTNndCAABcJBQ2d0IAABYAFTZ3QgAA0NsVNndCAACKtxY2d0IAAESTFzZ3QgAA/m4YNndCAAC4Shk2d0IAAHImGjZ3QgAALAIbNndCAADm3Rs2d0IAAKC5HDZ3QgAAWpUdNndCAAAUcR42d0IAAM5MHzZ3QgAA8vG+NndCAADCz8U2d0IAAPBiyDZ3QgAAPBEZN3dCAADeWx03d0IAAEQqYTd3QgAA5OVuN3dCAACSRBY4d0IAAPqhUDh3QgAAtH1ROHdCAABuWVI4d0IAACg1Uzh3QgAA4hBUOHdCAACc7FQ4d0IAAFbIVTh3QgAAEKRWOHdCAADKf1c4d0IAAEpL/Dh3QgAA7JUAOXdCAABgTQI5d0IAABopAzl3QgAA1AQEOXdCAACO4AQ5d0IAAEi8BTl3QgAAvHMHOXdCAAAIIlg5d0IAAML9WDl3QgAAfNlZOXdCAAA2tVo5d0IAAPCQWzl3QgAAqmxcOXdCAABkSF05d0IAAB4kXjl3QgAA2P9eOXdCAAAkrq85d0IAAFjLAzp3QgAAeHVIOndCAADqnVM6d0IAABgxVjp3QgAAcoJAO3dCAABe7J47d0IAAMIr7Dt3QgAAxiZHPHdCAADeTo09d0IAAJpQzj53QgAA5AZyQHdCAABYvnNAd0IAAHbZwUB3QgAAVoCiQndCAAAQXKNCd0IAAEblW0N3QgAAcqNDRHdCAABwFE1Ed0IAAIYWU0R3QgAAXg2iRHdCAAAY6aJEd0IAAEZ8pUR3QgAA5vGORXdCAAASjeRGd0IAANSBLUd3QgAADDEmSXdCAACQGrhJd0IAAEr2uEl3QgAABNK5SXdCAAC+rbpJd0IAAHiJu0l3QgAAMmW8SXdCAABg+L5Jd0IAABrUv0l3QgAA1K/ASXdCAABIZ8JJd0IAAAJDw0l3QgAAvB7ESXdCAAB2+sRJd0IAADDWxUl3QgAApI3HSXdCAABeachJd0IAABhFyUl3QgAA0iDKSXdCAACM/MpJd0IAAEbYy0l3QgAABj4eSndCAACku1pMd0IAAFBF5013QgAAxPzoTXdCAAA4tOpNd0IAAHxJ8013QgAAZLj2TXdCAACC00ROd0IAAPaKRk53QgAAJB5JTndCAADGaE1Od0IAABY1i053QgAAtvCYTndCAABMVY1Qd0IAACRM3FB3QgAA3IBVVHdCAACWXFZUd0IAAFA4V1R3QgAAChRYVHdCAADE71hUd0IAAH7LWVR3QgAAOKdaVHdCAADygltUd0IAAHw8Y1R3QgAAnOanVHdCAABWwqhUd0IAABCeqVR3QgAAhFWrVHdCAACy6K1Ud0IAAGzErlR3QgAAVDOyVHdCAAAOD7NUd0IAAILGtFR3QgAAPKK1VHdCAACwWbdUd0IAAGo1uFR3QgAA3uy5VHdCAABSpLtUd0IAABIKDlV3QgAASkVPVXdCAAAcSZZWd0IAANYkl1Z3QgAACLP0VndCAAB8avZWd0IAAB61+lZ3QgAA2JD7VndCAABCWppXd0IAAJyrhFh3QgAAVoeFWHdCAAAW7ddYd0IAAPzM5Fh3QgAAcITmWHdCAAAcdylZd0IAANI0PVl3QgAAbCDVWXdCAADcc8Vad0IAAJzZF1t3QgAAymwaW3dCAABwsnlbd0IAAEo4v1t3QgAAeMvBW3dCAAAyp8Jbd0IAAOyCw1t3QgAApl7EW3dCAABgOsVbd0IAABoWxlt3QgAAjs3HW3dCAABIqchbd0IAAAKFyVt3QgAAvGDKW3dCAAB2PMtbd0IAADAYzFt3QgAA6vPMW3dCAAAYh89bd0IAANJi0Ft3QgAAjD7RW3dCAABGGtJbd0IAAE4zGlx3QgAASs8IXXdCAADcoVhdd0IAALIJsV13QgAAbOWxXXdCAABUVLVdd0IAADzDuF13QgAA9p65XXdCAABqVrtdd0IAACQyvF13QgAAUsW+XXdCAADGfMBdd0IAADLVVV53QgAApoxXXndCAABgaFhed0IAABpEWV53QgAAvI5dXndCAAAwRl9ed0IAAOohYF53QgAA0pBjXndCAACMbGRed0IAAFwER193QgAAtptVX3dCAACczIdhd0IAAJZwyWN3QgAAklLcY3dCAADGbzBkd0IAAEY71WR3QgAAjoUUZndCAAB+DWBmd0IAAKygYmZ3QgAABjhxZndCAABcjgBnd0IAABZqAWd3QgAAhgMWZ3dCAABCBVdod0IAAByLnGh3QgAA1madaHdCAACQQp5od0IAAEoen2h3QgAABPqfaHdCAAC+1aBod0IAAHixoWh3QgAAMo2iaHdCAACqP/9od0IAAGQbAGl3QgAAHvcAaXdCAADY0gFpd0IAAEyKA2l3QgAABmYEaXdCAACc7Ypqd0IAAFbJi2p3QgAAsu+QandCAAAOFpZqd0IAAMZioGp3QgAAFi/eandCAADQCt9qd0IAAP6d4Wp3QgAAclXjandCAAAsMeRqd0IAAM576Gp3QgAAWDXwandCAAASEfFqd0IAABy5L2t3QgAAUG3NbHdCAADCldhsd0IAAKoE3Gx3QgAAENMfbXdCAAA+ZiJtd0IAACrQgG13QgAAHOfCbXdCAABKEQ9vd0IAAHYVG293QgAA3ONeb3dCAAB+LmNvd0IAADgKZG93QgAAfJ9sb3dCAAAGWXRvd0IAAJxJsW93QgAAgim+b3dCAACGJBlwd0IAABysn3F3QgAAMq6lcXdCAADU+Klxd0IAAJbt8nF3QgAAXN2WcndCAAAsu51yd0IAALZ0pXJ3QgAA5AeocndCAACGUqxyd0I=\",\"dtype\":\"float64\",\"order\":\"little\",\"shape\":[4123]},\"value\":{\"__ndarray__\":\"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\",\"dtype\":\"float64\",\"order\":\"little\",\"shape\":[4123]}},\"selected\":{\"id\":\"1384\"},\"selection_policy\":{\"id\":\"1400\"}},\"id\":\"1383\",\"type\":\"ColumnDataSource\"},{\"attributes\":{\"end\":1611330300000.0,\"reset_end\":1611330300000.0,\"reset_start\":1434103200000.0,\"start\":1434103200000.0,\"tags\":[[[\"date\",\"date\",null]]]},\"id\":\"1330\",\"type\":\"Range1d\"},{\"attributes\":{},\"id\":\"1400\",\"type\":\"UnionRenderers\"},{\"attributes\":{\"bottom_units\":\"screen\",\"coordinates\":null,\"fill_alpha\":0.5,\"fill_color\":\"lightgrey\",\"group\":null,\"left_units\":\"screen\",\"level\":\"overlay\",\"line_alpha\":1.0,\"line_color\":\"black\",\"line_dash\":[4,4],\"line_width\":2,\"right_units\":\"screen\",\"syncable\":false,\"top_units\":\"screen\"},\"id\":\"1359\",\"type\":\"BoxAnnotation\"},{\"attributes\":{\"line_color\":\"#e5ae38\",\"line_width\":2,\"x\":{\"field\":\"date\"},\"y\":{\"field\":\"value\"}},\"id\":\"1421\",\"type\":\"Line\"},{\"attributes\":{\"tools\":[{\"id\":\"1332\"},{\"id\":\"1333\"},{\"id\":\"1354\"},{\"id\":\"1355\"},{\"id\":\"1356\"},{\"id\":\"1357\"},{\"id\":\"1358\"}]},\"id\":\"1360\",\"type\":\"Toolbar\"},{\"attributes\":{},\"id\":\"1485\",\"type\":\"UnionRenderers\"},{\"attributes\":{\"days\":[1,15]},\"id\":\"1409\",\"type\":\"DaysTicker\"},{\"attributes\":{\"callback\":null,\"formatters\":{\"@{date}\":\"datetime\"},\"renderers\":[{\"id\":\"1389\"},{\"id\":\"1424\"}],\"tags\":[\"hv_created\"],\"tooltips\":[[\"Variable\",\"@{Variable}\"],[\"date\",\"@{date}{%F %T}\"],[\"value\",\"@{value}\"]]},\"id\":\"1333\",\"type\":\"HoverTool\"},{\"attributes\":{\"line_alpha\":0.1,\"line_color\":\"#fc4f30\",\"line_width\":2,\"x\":{\"field\":\"date\"},\"y\":{\"field\":\"value\"}},\"id\":\"1387\",\"type\":\"Line\"},{\"attributes\":{\"end\":35.076,\"reset_end\":35.076,\"reset_start\":16.163999999999998,\"start\":16.163999999999998,\"tags\":[[[\"close\",\"close\",null]]]},\"id\":\"1331\",\"type\":\"Range1d\"},{\"attributes\":{},\"id\":\"1487\",\"type\":\"UnionRenderers\"},{\"attributes\":{\"months\":[0,4,8]},\"id\":\"1412\",\"type\":\"MonthsTicker\"},{\"attributes\":{\"angle\":{\"value\":3.141592653589793},\"fill_alpha\":{\"value\":1.0},\"fill_color\":{\"value\":\"orange\"},\"hatch_alpha\":{\"value\":1.0},\"hatch_color\":{\"value\":\"orange\"},\"hatch_scale\":{\"value\":12.0},\"hatch_weight\":{\"value\":1.0},\"line_alpha\":{\"value\":1.0},\"line_cap\":{\"value\":\"butt\"},\"line_color\":{\"value\":\"orange\"},\"line_dash\":{\"value\":[]},\"line_dash_offset\":{\"value\":0},\"line_join\":{\"value\":\"bevel\"},\"line_width\":{\"value\":1},\"marker\":{\"value\":\"triangle\"},\"size\":{\"value\":5.477225575051661},\"x\":{\"field\":\"date\"},\"y\":{\"field\":\"close\"}},\"id\":\"1471\",\"type\":\"Scatter\"},{\"attributes\":{\"line_alpha\":0.2,\"line_color\":\"lightgray\",\"line_width\":2,\"x\":{\"field\":\"date\"},\"y\":{\"field\":\"close\"}},\"id\":\"1379\",\"type\":\"Line\"},{\"attributes\":{\"data\":{\"close\":{\"__ndarray__\":\"\",\"dtype\":\"float64\",\"order\":\"little\",\"shape\":[0]},\"date\":{\"__ndarray__\":\"\",\"dtype\":\"float64\",\"order\":\"little\",\"shape\":[0]}},\"selected\":{\"id\":\"1464\"},\"selection_policy\":{\"id\":\"1487\"}},\"id\":\"1463\",\"type\":\"ColumnDataSource\"},{\"attributes\":{\"coordinates\":null,\"data_source\":{\"id\":\"1454\"},\"glyph\":{\"id\":\"1457\"},\"group\":null,\"hover_glyph\":null,\"muted_glyph\":{\"id\":\"1459\"},\"nonselection_glyph\":{\"id\":\"1458\"},\"selection_glyph\":{\"id\":\"1462\"},\"view\":{\"id\":\"1461\"}},\"id\":\"1460\",\"type\":\"GlyphRenderer\"},{\"attributes\":{\"angle\":{\"value\":0},\"fill_alpha\":{\"value\":1.0},\"fill_color\":{\"value\":\"purple\"},\"hatch_alpha\":{\"value\":1.0},\"hatch_color\":{\"value\":\"purple\"},\"hatch_scale\":{\"value\":12.0},\"hatch_weight\":{\"value\":1.0},\"line_alpha\":{\"value\":1.0},\"line_cap\":{\"value\":\"butt\"},\"line_color\":{\"value\":\"purple\"},\"line_dash\":{\"value\":[]},\"line_dash_offset\":{\"value\":0},\"line_join\":{\"value\":\"bevel\"},\"line_width\":{\"value\":1},\"marker\":{\"value\":\"triangle\"},\"size\":{\"value\":5.477225575051661},\"x\":{\"field\":\"date\"},\"y\":{\"field\":\"close\"}},\"id\":\"1462\",\"type\":\"Scatter\"},{\"attributes\":{\"data\":{\"close\":{\"__ndarray__\":\"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\",\"dtype\":\"float64\",\"order\":\"little\",\"shape\":[4123]},\"date\":{\"__ndarray__\":\"AACQY3PedEIAAEo/dN50QgAAeNJ23nRCAACmZXnedEIAAIpwa990QgAARrjQ33RCAABmYhXgdEIAALiat+B0QgAA5J7D4HRCAADMDcfgdEIAAMYav+F0QgAA0ML94XRCAAAs6QLidEIAAATgUeJ0QgAAGFNh4nRCAABG5mPidEIAAH4hpeJ0QgAAqiWx4nRCAACSlLTidEIAAFYY9OJ0QgAAhKv24nRCAAAkZwTjdEIAACaNROR0QgAA4GhF5HRCAACaREbkdEIAALBGTOR0QgAAaiJN5HRCAACYtU/kdEIAAL7p5eR0QgAA0lz15HRCAABGFPfkdEIAAJDtLOZ0QgAAvoAv5nRCAADqhDvmdEIAAKRgPOZ0QgAArHmE5nRCAAA2M4zmdEIAANh9kOZ0QgAABhGT5nRCAAAQudHmdEIAAOCW2OZ0QgAAyAXc5nRCAABqUODmdEIAAJjj4uZ0QgAADJvk5nRCAADGduXmdEIAANY/v+h0QgAAkBvA6HRCAAC+rsLodEIAADJmxOh0QgAA7EHF6HRCAABIaMrodEIAADDXzeh0QgAAXmrQ6HRCAAAm6WrpdEIAACxzvOl0QgAAxjvC6nRCAAC+3FXrdEIAAJK1t+t0QgAAVjn363RCAADK8PjrdEIAAGZI9ex0QgAAlNv37HRCAAA2JvzsdEIAAAYEA+10QgAAgtRM7XRCAADe+lHtdEIAAFxaku10QgAA0BGU7XRCAAC28aDtdEIAAAQv6O10QgAAvgrp7XRCAADyJz3udEIAAGbfPu50QgAAHFcu73RCAABK6jDvdEIAAATGMe90QgAAvqEy73RCAAB4fTPvdEIAAGDsNu90QgAARsxD73RCAACEkdbvdEIAAPhI2O90QgAAJtza73RCAACCAuDvdEIAAN4o5e90QgAA0D8n8HRCAABa+S7wdEIAAOzLfvB0QgAAjIeM8HRCAABgGsrxdEIAANzqE/J0QgAAlsYU8nRCAABQohXydEIAAAp+FvJ0QgAAxFkX8nRCAAA4ERnydEIAAKzIGvJ0QgAACO8f8nRCAADCyiDydEIAADaCIvJ0QgAAHvEl8nRCAABMhCjydEIAAJxQZvJ0QgAAyuNo8nRCAACyUmzydEIAADwMdPJ0QgAAsMN18nRCAAAslL/ydEIAAKBLwfJ0QgAAiLrE8nRCAABYmMvydEIAABJ0zPJ0QgAAhivO8nRCAACE7fz0dEIAAD7J/fR0QgAAbFwA9XRCAADgEwL1dEIAAGrNCfV0QgAAJKkK9XRCAAAMGA71dEIAAMbzDvV0QgAAPmBH9nRCAACC9U/2dEIAAJj3VfZ0QgAAxopY9nRCAADWvOj2dEIAAEp06vZ0QgAABFDr9nRCAAC+K+z2dEIAAHgH7fZ0QgAApprv9nRCAAAaUvH2dEIAAALB9PZ0QgAApAv59nRCAACMevz2dEIAAKwkQfd0QgAAqpVK93RCAAAeTUz3dEIAAAa8T/d0QgAA3N2D+HRCAAAKcYb4dEIAAMK9kPh0QgAAZAiV+HRCAADYv5b4dEIAAAZTmfh0QgAAMhGB+XRCAADs7IH5dEIAAHamifl0QgAA6l2L+XRCAABeFY35dEIAAFpIxft0QgAAtm7K+3RCAAAqJsz7dEIAAJ7dzft0QgAAhkzR+3RCAACEd7b8dEIAAPguuPx0QgAAgui//HRCAAD2n8H8dEIAAMZ9yPx0QgAA/rgJ/XRCAAC4lAr9dEIAAHDhFP10QgAAhuMa/XRCAAAKzaz9dEIAAKwXsf10QgAAlIa0/XRCAAAIPrb9dEIAAEzTvv10QgAABq+//XRCAABMmJsBdUIAAN5q6wF1QgAAHDB+AnVCAAAEn4ECdUIAAOwNhQJ1QgAAXjaQAnVCAADS7ZECdUIAAIzJkgJ1QgAARqWTAnVCAAAWPXYDdUIAACw/fAN1QgAAQkGCA3VCAADki4YDdUIAAJ5nhwN1QgAAhtaKA3VCAACQfskDdUIAAIxg3AN1QgAARjzdA3VCAACWCBsEdUIAAArAHAR1QgAAOFMfBHVCAABm5iEEdUIAAGRXKwR1QgAAHjMsBHVCAADYDi0EdUIAAEzGLgR1QgAABqIvBHVCAABWbm0EdUIAABBKbgR1QgAAPt1wBHVCAAD4uHEEdUIAAGxwcwR1QgAA9il7BHVCAADGB4IEdUIAAAzDygV1QgAA/EoWBnVCAAC2JhcGdUIAABJNHAZ1QgAAhgQeBnVCAADUQWUGdUIAAPJcswZ1QgAA2mIACHVCAADC0QMIdUIAAAZnDAh1QgAAFpmcCHVCAADmdqMIdUIAAIYysQh1QgAAvgQ8CnVCAACmcz8KdUIAADAtRwp1QgAA6ghICnVCAADyIZAKdUIAAKz9kAp1QgAA2pCTCnVCAAA2t5gKdUIAAJLdnQp1QgAABpWfCnVCAABsY+MKdUIAAMb68Qp1QgAAtoI9C3VCAABwXj4LdUIAACo6Pwt1QgAA5BVAC3VCAACe8UALdUIAAFjNQQt1QgAAEqlCC3VCAADMhEMLdUIAAIZgRAt1QgAApgqJC3VCAABIVY0LdUIAAEp7zQx1QgAAvjLPDHVCAACmodIMdUIAABpZ1Ax1QgAApBLcDHVCAAAYyt0MdUIAAIyB3wx1QgAARl3gDHVCAABQBR8NdUIAAMS8IA11QgAAfpghDXVCAACUmicNdUIAAGR4Lg11QgAAHlQvDXVCAADYLzANdUIAAJILMQ11QgAAEGtxDXVCAACEInMNdUIAAPjZdA11QgAAPG99DXVCAACwJn8NdUIAAAxNhA11QgAA4N/BDnVCAACau8IOdUIAAFSXww51QgAA0tNxD3VCAAA2E78PdUIAANhdww91QgAABvHFD3VCAAA+w1ARdUIAALJ6UhF1QgAAbFZTEXVCAAAmMlQRdUIAAOANVRF1QgAAmulVEXVCAACCWFkRdUIAALDrWxF1QgAAJKNdEXVCAADefl4RdUIAAMbtYRF1QgAAkPvyEXVCAAC+jvURdUIAAOwh+BF1QgAApv34EXVCAADUkPsRdUIAAEhI/RF1QgAABEo+E3VCAABgcEMTdUIAABpMRBN1QgAA1CdFE3VCAAACu0cTdUIAALyWSBN1QgAAdnJJE3VCAAAYvU0TdUIAAJoX6RN1QgAAVPPpE3VCAAAOz+oTdUIAAMYb9RN1QgAApiuMFHVCAABgB40UdUIAAAR40RV1QgAA1FXYFXVCAACOMdkVdUIAAEgN2hV1QgAAAunaFXVCAAC8xNsVdUIAADB83RV1QgAA6lfeFXVCAABeD+AVdUIAABjr4BV1QgAAhEN2FnVCAAA+H3cWdUIAAPj6dxZ1QgAAstZ4FnVCAAA8kIAWdUIAAN7ahBZ1QgAAxkmIFnVCAADQiBAYdUIAAIpkERh1QgAActMUGHVCAAAsrxUYdUIAAOaKFhh1QgAAoGYXGHVCAABaQhgYdUIAAIjVGhh1QgAAQrEbGHVCAAD8jBwYdUIAACogHxh1QgAA5PsfGHVCAACe1yAYdUIAABKPIhh1QgAAzGojGHVCAACGRiQYdUIAAJDuYhh1QgAA7BRoGHVCAACm8GgYdUIAANSDaxh1QgAASDttGHVCAAACF24YdUIAALzybhh1QgAAds5vGHVCAABePXMYdUIAABgZdBh1QgAARqx2GHVCAADIBhIZdUIAADy+Exl1QgAAalEWGXVCAAAkLRcZdUIAAJjkGBl1QgAADJwaGXVCAADGdxsZdUIAANwz/Rl1QgAATlwIGnVCAAAIOAkadUIAAHzvChp1QgAANssLGnVCAAAeOg8adUIAAAapEhp1QgAAnJlPGnVCAADKLFIadUIAACZTVxp1QgAA4C5YGnVCAABU5lkadUIAADxVXRp1QgAAsAxfGnVCAAAkxGAadUIAAMYOZRp1QgAA1kD1GnVCAABK+PYadUIAAOxC+xp1QgAAMNgDG3VCAADqswQbdUIAAIz+CBt1QgAARtoJG3VCAADcykYbdUIAAJamRxt1QgAAUIJIG3VCAADEOUobdUIAADjxSxt1QgAArKhNG3VCAADYrFkbdUIAAJKIWht1QgAATGRbG3VCAAAGQFwbdUIAAJzH4hx1QgAAPhLnHHVCAAD47eccdUIAAGyl6Rx1QgAAgqfvHHVCAAD2XvEcdUIAALA68hx1QgAAmKn1HHVCAABShfYcdUIAAFwtNR11QgAAFgk2HXVCAAD+dzkddUIAALhTOh11QgAAoMI9HXVCAABanj4ddUIAAM5VQB11QgAAXMR+HnVCAAAWoH8edUIAAEQzgh51QgAAoFmHHnVCAADO7IkedUIAALZbjR51QgAAcDeOHnVCAADk7o8edUIAAJ7KkB51QgAAhjmUHnVCAAAcKtEedUIAADIs1x51QgAApuPYHnVCAABgv9kedUIAALzl3h51QgAAMJ3gHnVCAACMw+UedUIAAEaf5h51QgAAnIy/IHVCAADKH8IgdUIAAIT7wiB1QgAA+LLEIHVCAAAmRscgdUIAAOAhyCB1QgAAmv3IIHVCAACCbMwgdUIAAMYB1SB1QgAAFs4SIXVCAAAqQSIhdUIAAOQcIyF1QgAAnvgjIXVCAABY1CQhdUIAABKwJSF1QgAAhmcnIXVCAACOgG8hdUIAAEhccCF1QgAAAjhxIXVCAAB273IhdUIAANy9tiF1QgAArJu9IXVCAAAgU78hdUIAAE7mwSF1QgAAwp3DIXVCAABMV8shdUIAAAYzzCF1QgAAnCMJInVCAABW/wkidUIAABDbCiJ1QgAAPm4NInVCAACalBIidUIAADzfFiJ1QgAAUuEcInVCAADGmB4idUIAAJYwASN1QgAAUAwCI3VCAAA4ewUjdUIAAKwyByN1QgAAIOoII3VCAAAIWQwjdUIAAMI0DSN1QgAABsoVI3VCAAAQclQjdUIAAPZRYSN1QgAAxi9oI3VCAAD827IjdUIAALa3syN1QgAAnia3I3VCAABgGwAkdUIAAKSwCCR1QgAAXowJJHVCAACMHwwkdUIAAEb7DCR1QgAAfjZOJHVCAADy7U8kdUIAAKzJUCR1QgAAfKdXJHVCAACqOlokdUIAAGQWWyR1QgAAkqldJHVCAABMhV4kdUIAAAZhXyR1QgAAll6UJXVCAABQOpUldUIAAMTxliV1QgAArGCaJXVCAAAIh58ldUIAAMJioCV1QgAAfD6hJXVCAACSQKcldUIAAEwcqCV1QgAABvioJXVCAAAQoOcldUIAAMp76CV1QgAAPjPqJXVCAAD4DusldUIAALLq6yV1QgAADhHxJXVCAADI7PEldUIAACQT9yV1QgAA3u73JXVCAACYyvgldUIAAAyC+iV1QgAAxl37JXVCAABcTjgmdUIAANAFOiZ1QgAAclA+JnVCAAAsLD8mdUIAAFq/QSZ1QgAAFJtCJnVCAAC25UYmdUIAAMznTCZ1QgAAhsNNJnVCAAActIomdUIAAAQjjiZ1QgAA7JGRJnVCAACmbZImdUIAAGBJkyZ1QgAAjtyVJnVCAAC8b5gmdUIAAKTemyZ1QgAAXrqcJnVCAAAYlp0mdUIAANJxniZ1QgAARimgJnVCAABwWJEndUIAAJ7rkyd1QgAAkALWJ3VCAABK3tYndUIAAOwo2yd1QgAAML7jJ3VCAADSCOgndUIAAEbA6Sd1QgAACkQpKHVCAACsji0odUIAAE7ZMSh1QgAABiY8KHVCAADKqXsodUIAAD5hfSh1QgAA+Dx+KHVCAACyGH8odUIAAOCrgSh1QgAAUtSMKHVCAADGi44odUIAABZYzCh1QgAA0DPNKHVCAAC4otAodUIAAKAR1Ch1QgAAzqTWKHVCAABYXt4odUIAAIbx4Ch1QgAAhBzGKXVCAABsi8kpdUIAAFT6zCl1QgAAPGnQKXVCAABEghgqdUIAAP5dGSp1QgAAGFt6KnVCAACMEnwqdUIAAKy8wCp1QgAAlCvEKnVCAAAI48UqdUIAAFYgDSt1QgAAaipmLHVCAADGUGssdUIAAP6LrCx1QgAAhra9LHVCAACmYAItdUIAABoYBC11QgAA1PMELXVCAABerQwtdUIAAEYcEC11QgAAUMROLXVCAAAeE18tdUIAAJLKYC11QgAAln+XLnVCAAAKN5kudUIAAMQSmi51QgAAOMqbLnVCAAAgOZ8udUIAAE7MoS51QgAAfF+kLnVCAADwFqYudUIAANiFqS51QgAAkmGqLnVCAABMPasudUIAAAYZrC51QgAAPlTtLnVCAAD4L+4udUIAAFLH/C51QgAAXG87L3VCAADQJj0vdUIAAIoCPi91QgAARN4+L3VCAABycUEvdUIAACxNQi91QgAA5ihDL3VCAAAUvEUvdUIAAIhzRy91QgAAtgZKL3VCAAAqvksvdUIAAJ51TS91QgAAWFFOL3VCAAASLU8vdUIAAMwIUC91QgAAhuRQL3VCAACKmYcwdUIAAM4ukDB1QgAAKlWVMHVCAADsSd4wdUIAAKSW6DB1QgAAXnLpMHVCAADSKeswdUIAAEbh7DB1QgAAUIkrMXVCAADKyn4xdUIAAGyszDJ1QgAAmj/PMnVCAADGQ9sydUIAANDrGTN1QgAAzM0sM3VCAACGqS0zdUIAAGQqzjN1QgAATr8RNXVCAAAGDBw1dUIAAFbYWTV1QgAA4JFhNXVCAADeAms1dUIAAMZxbjV1QgAAoPezNXVCAADqFg42dUIAADhUVTZ1QgAATlZbNnVCAAAGo2U2dUIAAIz4Wzd1QgAAkoKtN3VCAADKve43dUIAAGwI8zd1QgAAmpv1N3VCAABUd/Y3dUIAAPbB+jd1QgAAxp8BOHVCAADQR0A4dUIAAIojQTh1QgAARP9BOHVCAAD+2kI4dUIAALi2Qzh1QgAAcpJEOHVCAAAsbkU4dUIAAOZJRjh1QgAAoCVHOHVCAABaAUg4dUIAABTdSDh1QgAAzrhJOHVCAACIlEo4dUIAAEJwSzh1QgAAtidNOHVCAABwA044dUIAACrfTjh1QgAA5LpPOHVCAADMKVM4dUIAAIYFVDh1QgAAeByWOHVCAAAy+JY4dUIAAKavmDh1QgAARmumOHVCAADQ3ok5dUIAAIacnTl1QgAASJHmOXVCAAAYb+05dUIAAIwm7zl1QgAA2mM2OnVCAACyWoU6dUIAACYShzp1QgAAxs2UOnVCAABWy8k7dUIAAIRezDt1QgAA+BXOO3VCAAAmqdA7dUIAAJpg0jt1QgAADhjUO3VCAADI89Q7dUIAAILP1Tt1QgAA9obXO3VCAACwYtg7dUIAAN712jt1QgAAUq3cO3VCAAAMid07dUIAAMZk3jt1QgAAeOFyPHVCAAAYnYA8dUIAACC2yDx1QgAA8JPPPHVCAAAGltU8dUIAAFZiEz11QgAArJUQPnVCAAAIvBU+dUIAAFr0tz51QgAAmC0CQXVCAADGwARBdUIAABaNQkF1QgAA0GhDQXVCAABEIEVBdUIAALjXRkF1QgAAztlMQXVCAABCkU5BdUIAACoAUkF1QgAAWJNUQXVCAACGJldBdUIAAOz0mkF1QgAAjj+fQXVCAAAwiqNBdUIAAOplpEF1QgAA0tSnQXVCAACITJdCdUIAAEIomEJ1QgAAKpebQnVCAADM4Z9CdUIAAFocnl11QgAAiK+gXXVCAAAY8/lddUIAANLO+l11QgAARob8XXVCAAAsIOVedUIAAOb75V51QgAAzmrpXnVCAACGt/NedUIAAJxz1V91QgAAVk/WX3VCAAAQK9dfdUIAAMoG2F91QgAAREgrYHVCAACGTj1gdUIAAErSfGB1QgAABK59YHVCAAB4ZX9gdUIAAOwcgWB1QgAARrSPYHVCAABkz91gdUIAAMo0a2J1QgAAWnjEYnVCAAAE3BBjdUIAAEhxGWN1QgAAdgQcY3VCAABG4iJjdUIAAEZ5bGR1QgAA8muvZHVCAAAG375kdUIAAD4aAGV1QgAA0OxPZXVCAACKyFBldUIAAESkUWV1QgAAGgyqZXVCAAC8Vq5ldUIAAKTFsWV1QgAAtmOmZnVCAAAYFP1mdUIAANLv/WZ1QgAAjMv+ZnVCAADclzxndUIAAE7AR2d1QgAAypCRZ3VCAABqTJ9ndUIAAMYJ7mh1QgAAzJM/aXVCAAC8G4tpdUIAADDTjGl1QgAARtWSaXVCAABmf9dpdUIAANo22Wl1QgAACMrbaXVCAACcKyJqdUIAAGp6Mmp1QgAADMU2anVCAACSGi1rdUIAAAbSLmt1QgAA4Fd0a3VCAAAO63ZrdUIAAFKAf2t1QgAADFyAa3VCAADGN4FrdUIAAJ4u0Gt1QgAAhp3Ta3VCAAAcjhBsdUIAAAJuHWx1QgAAvEkebHVCAAAwASBsdUIAAOrcIGx1QgAApLghbHVCAADSSyRsdUIAANzzYmx1QgAAlNe2bXVCAAB8RrptdUIAAB6Rvm11QgAA2Gy/bXVCAAAMihNudUIAAMZlFG51QgAAWsdabnVCAABKT6ZudUIAAJAK7291QgAAlpRAcHVCAAAkSaNwdUIAAM6s73B1QgAAQmTxcHVCAACEJN9xdUIAAPjb4HF1QgAA4ErkcXVCAACaJuVxdUIAAA7e5nF1QgAAgpXocXVCAACwKOtxdUIAAN677XF1QgAAUnPvcXVCAAAMT/BxdUIAAMYq8XF1QgAA0NIvcnVCAABKFINydUIAALw8jnJ1QgAAMPSPcnVCAAAYY5NydUIAAH4x13J1QgAAHu3kcnVCAAAKER90dUIAAMTsH3R1QgAAynZxdHVCAACCw3t0dUIAAPZ6fXR1QgAAXEnBdHVCAAAUlst0dUIAALbgz3R1QgAAHK8TdXVCAADWihR1dUIAAJBmFXV1QgAAvAFrdnVCAABQY7F2dUIAAAo/snZ1QgAAxBqzdnVCAAB+9rN2dUIAAMqkBHd1QgAAVF4Md3VCAAAOOg13dUIAAMgVDnd1QgAAPM0Pd3VCAAD2qBB3dUIAALCEEXd1QgAAamASd3VCAADGhhd3dUIAABTEXnd1QgAABEyqd3VCAACMdrt3dUIAABD3lnl1QgAA+PzjenVCAACaR+h6dUIAAPZt7Xp1QgAAvuyHe3VCAACOyo57dUIAADAVk3t1QgAAVkkpfHVCAAAQJSp8dUIAAMoAK3x1QgAATDg0fXVCAAAc0BZ+dUIAAMSkbH51QgAAlqizf3VCAACSisZ/dUIAANBPWYB1QgAA/uJbgHVCAAByml2AdUIAAJ6eaYB1QgAAisKjgXVCAACgxKmBdUIAAFqgqoF1QgAAtsavgXVCAABworCBdUIAAFgRtIF1QgAACo5IgnVCAACGOwCDdUIAABCv44N1QgAAyPvtg3VCAACC1+6DdUIAAHJfOoR1QgAAEhtIhHVCAADM9kiEdUIAAIbSSYR1QgAA1p6HhHVCAACQeoiEdUIAAF7JmIR1QgAARjichHVCAADgun2GdUIAAN4rh4Z1QgAA5kTPhnVCAABCa9SGdUIAAHD+1oZ1QgAAhgDdhnVCAAAc8RmHdUIAAJCoG4d1QgAABGAdh3VCAADsziCHdUIAANQ9JId1QgAAdogoh3VCAADqPyqHdUIAAF73K4d1QgAAkD9liHVCAAAyimmIdUIAAHYfcoh1QgAAzOm4inVCAACk4AeLdUIAAIxPC4t1QgAAVl2ci3VCAAA+zJ+LdUIAACY7o4t1QgAAVM6li3VCAADIhaeLdUIAAIJhqIt1QgAAPD2pi3VCAAD2GKqLdUIAALD0qot1QgAAatCri3VCAAAkrKyLdUIAAN6HrYt1QgAAmGOui3VCAABSP6+LdUIAAAwbsIt1QgAAxvawi3VCAADkEf+LdUIAAJ7t/4t1QgAAVvTljHVCAACyGuuMdUIAAMwXTI11QgAAhvNMjXVCAAAc5ImNdUIAANa/io11QgAAkJuLjXVCAABKd4yNdUIAAARTjY11QgAAvi6OjXVCAAB4Co+NdUIAADLmj411QgAA6jKajXVCAACMfZ6NdUIAAJYl3Y11QgAAUAHejXVCAABOcueNdUIAAHwF6o11QgAANuHqjXVCAADYK++NdUIAAN61QI51QgAAxiREjnVCAAAKdCiPdUIAAJxGeI91QgAAViJ5j3VCAAAQ/nmPdUIAAMrZeo91QgAAhLV7j3VCAAAmAICPdUIAAODbgI91QgAAyEqEj3VCAACKP82PdUIAAEQbzo91QgAAeDgikHVCAAAyFCOQdUIAAOzvI5B1QgAA1F4nkHVCAADqYC2QdUIAABj0L5B1QgAAllNwkHVCAADw6n6QdUIAAAbthJB1QgAA1oRnkXVCAADshm2RdUIAAKZibpF1QgAAYD5vkXVCAAAaGnCRdUIAAAKJc5F1QgAAdkB1kXVCAABer3iRdUIAAIxCe5F1QgAAUMa6kXVCAAAKoruRdUIAAMR9vJF1QgAAODW+kXVCAADaf8KRdUIAAAgTxZF1QgAAfMrGkXVCAADY8MuRdUIAABAsDZJ1QgAAPr8PknVCAABc2l2SdUIAAFpLZ5J1QgAAzgJpknVCAABCumqSdUIAAHBNbZJ1QgAAMLO/knVCAADqjsCSdUIAANay+pN1QgAABEb9k3VCAABgbAKUdUIAAAK3BpR1QgAAvJIHlHVCAADcPEyUdUIAAEzWYJR1QgAABrJhlHVCAAAQWqCUdUIAAMo1oZR1QgAAJlymlHVCAABU76iUdUIAALAVrpR1QgAAJM2vlHVCAACYhLGUdUIAAMYXtJR1QgAAuC72lHVCAABY6gOVdUIAAIZ9BpV1QgAA0FY8lnVCAACKMj2WdUIAAEQOPpZ1QgAA/uk+lnVCAAC4xT+WdUIAAHKhQJZ1QgAA5MlLlnVCAACGFFCWdUIAABwFjZZ1QgAA1uCNlnVCAACQvI6WdUIAAEqYj5Z1QgAABHSQlnVCAAC+T5GWdUIAAHgrkpZ1QgAAMgeTlnVCAABICZmWdUIAAEZ6opZ1QgAA3GrflnVCAABQIuGWdUIAAAhv65Z1QgAAwkrslnVCAAA2Au6WdUIAAPDd7pZ1QgAABuD0lnVCAACc0DGXdUIAAFasMpd1QgAAEIgzl3VCAAA+GzaXdUIAAPj2Npd1QgAAbK44l3VCAAAmijmXdUIAAOBlOpd1QgAAmkE7l3VCAABUHTyXdUIAAA75PJd1QgAAyNQ9l3VCAACCsD6XdUIAAPZnQJd1QgAAJPtCl3VCAADGRUeXdUIAANwBKZh1QgAAlt0pmHVCAAAKlSuYdUIAAMRwLJh1QgAAfkwtmHVCAAA4KC6YdUIAAPIDL5h1QgAArN8vmHVCAABmuzCYdUIAACCXMZh1QgAAlE4zmHVCAABOKjSYdUIAAAgGNZh1QgAAfL02mHVCAAA2mTeYdUIAAPB0OJh1QgAAqlA5mHVCAAAeCDuYdUIAAJK/PJh1QgAADpCGmHVCAABczc2YdUIAABapzph1QgAA0ITPmHVCAACKYNCYdUIAAEQ80Zh1QgAA/hfSmHVCAAC489KYdUIAAHLP05h1QgAA5obVmHVCAACgYtaYdUIAAFo+15h1QgAAFBrYmHVCAACI0dmYdUIAAEKt2ph1QgAAtmTcmHVCAACe09+YdUIAABwzIJl1QgAAvn0kmXVCAACOWyuZdUIAANLwM5l1QgAAlnRzmXVCAAA4v3eZdUIAAKx2eZl1QgAAwnh/mXVCAACSVoaZdUIAAEwyh5l1QgAABg6ImXVCAACWC72adUIAAFDnvZp1QgAACsO+mnVCAACsDcOadUIAAAal0Zp1QgAAnJUOm3VCAABWcQ+bdUIAABBNEJt1QgAAyigRm3VCAACEBBKbdUIAAD7gEpt1QgAA+LsTm3VCAACylxSbdUIAAGxzFZt1QgAAJk8Wm3VCAADImRqbdUIAAIqOY5t1QgAARGpkm3VCAAD+RWWbdUIAAFjdc5t1QgAAhnB2m3VCAAAE0LabdUIAAL6rt5t1QgAAMmO5m3VCAADsPrqbdUIAAGD2u5t1QgAAGtK8m3VCAACOib6bdUIAAEhlv5t1QgAAAkHAm3VCAAC8HMGbdUIAAFySqpx1QgAAFm6rnHVCAAAaaQaddUIAAI4gCJ11QgAApCIOnXVCAAAY2g+ddUIAAJY5UJ11QgAAylaknXVCAACEMqWddUIAAD4Opp11QgAA+OmmnXVCAACyxaeddUIAAGyhqJ11QgAAJn2pnXVCAABqErKddUIAACTusp11QgAADF22nXVCAADGOLeddUIAAMrt7Z51QgAAhMnunnVCAAA+pe+edUIAAGw48p51QgAA4O/znnVCAACay/SedUIAAFSn9Z51QgAADoP2nnVCAADIXveedUIAAII6+J51QgAAPBb5nnVCAACwzfqedUIAAGqp+551QgAADPT/nnVCAAAWnD6fdUIAANB3P591QgAALJ5En3VCAABaMUefdUIAABQNSJ91QgAAiMRJn3VCAABYolCfdUIAABwmkJ91QgAA1gGRn3VCAACQ3ZGfdUIAAAIGnZ91QgAAdr2en3VCAAA4suefdUIAADYj8Z91QgAAHpL0n3VCAADYbfWfdUIAADhJMaF1QgAA8iQyoXVCAACsADOhdUIAAGbcM6F1QgAAqnE8oXVCAAAeKT6hdUIAAEy8QKF1QgAABphBoXVCAACa+YehdUIAAFTViKF1QgAAHFQjonVCAAAaxSyidUIAAEhYL6J1QgAAdusxonVCAACsl3yidUIAAGTkhqJ1QgAAjISBo3VCAABM6tOjdUIAACThIqR1QgAAhpF5pHVCAAAcgrakdUIAAASIA6Z1QgAA3H5SpnVCAAA4pVemdUIAAPKAWKZ1QgAAIBRbpnVCAADgea2mdUIAAMjosKZ1QgAAgsSxpnVCAABcSvemdUIAANAB+aZ1QgAAit35pnVCAABCKgSndUIAABIIC6d1QgAAPsbyp3VCAABqyv6ndUIAANCYQqh1QgAAzHpVqHVCAACGVlaodUIAAKYAm6h1QgAAYNybqHVCAAAauJyodUIAALwCoah1QgAA0gSnqHVCAADcrOWodUIAAFBk56h1QgAArIrsqHVCAAAgQu6odUIAAJT576h1QgAAfGjzqHVCAABk1/aodUIAABDKOal1QgAAxodNqXVCAACWHzCqdUIAAFD7MKp1QgAAfo4zqnVCAADyRTWqdUIAAKwhNqp1QgAAPvSFqnVCAAD4z4aqdUIAAFwP1Kp1QgAA0MbVqnVCAABEfteqdUIAAP5Z2Kp1QgAAiBPgqnVCAACGhOmqdUIAANZQJ6t1QgAASggpq3VCAAAE5CmrdUIAAHibK6t1QgAAMncsq3VCAABQknqrdUIAACBwgat1QgAAwrqFq3VCAADYvIurdUIAAEx0jat1QgAABlCOq3VCAADW53CsdUIAAOzpdqx1QgAAYKF4rHVCAACONHusdUIAAH68xqx1QgAAOJjHrHVCAABOms2sdUIAAJzXFK11QgAAVrMVrXVCAAA8kyKtdUIAAFw9Z611QgAA0PRorXVCAACK0GmtdUIAAESsaq11QgAA/odrrXVCAAByP22tdUIAAKDSb611QgAAiEFzrXVCAAAS+3qtdUIAAIayfK11QgAASKfFrXVCAABGGM+tdUIAAERDtK51QgAActa2rnVCAABYtsOudUIAAIZJxq51QgAAvoQHr3VCAAAKM1ivdUIAAJTsX691QgAAEL2pr3VCAADKmKqvdUIAAIR0q691QgAAsgeur3VCAABs466vdUIAAA4us691QgAAJDC5r3VCAAAMn7yvdUIAAMZ6va91QgAAXGv6r3VCAABWePKwdUIAAMov9LB1QgAA+ML2sHVCAACynvewdUIAAGx6+LB1QgAAmg37sHVCAACwDwGxdUIAAJh+BLF1QgAAipVGsXVCAADWQ5exdUIAAJAfmLF1QgAASvuYsXVCAAAE15mxdUIAAL6ymrF1QgAAeI6bsXVCAAAyapyxdUIAAOxFnbF1QgAAYP2esXVCAAAa2Z+xdUIAAIwBq7F1QgAA3M3osXVCAABQheqxdUIAAAph67F1QgAAfhjtsXVCAAA49O2xdUIAAPLP7rF1QgAArKvvsXVCAABmh/CxdUIAACBj8bF1QgAA2j7ysXVCAAAkXkyydUIAAN45TbJ1QgAAmBVOsnVCAADyZjizdUIAAKxCObN1QgAAfCBAs3VCAACcyoSzdUIAALA9lLN1QgAAuFbcs3VCAAByMt2zdUIAAMzJ67N1QgAAhqXss3VCAAAclim0dUIAANZxKrR1QgAABAUttHVCAAC+4C20dUIAAHy3ibR1QgAAjlV+tXVCAABIMX+1dUIAAAINgLV1QgAACJfRtXVCAADwBdW1dUIAAB6Z17V1QgAABgjbtXVCAAA+Qxy2dUIAAPgeHbZ1QgAA4I0gtnVCAACC2CS2dUIAABY6a7Z1QgAA0BVstnVCAACK8Wy2dUIAAP6obrZ1QgAAuIRvtnVCAAByYHC2dUIAAKDzcrZ1QgAAWs9ztnVCAAAUq3S2dUIAAM6GdbZ1QgAAKq16tnVCAACG03+2dUIAAHL3ubd1QgAAKkTEt3VCAADkH8W3dUIAANzAWLh1QgAAUHhauHVCAAA45124dUIAACBWYbh1QgAAHsdquHVCAADYomu4dUIAAJJ+bLh1QgAATFptuHVCAACEla64dUIAAPhMsLh1QgAAsiixuHVCAABcjP24dUIAANBD/7h1QgAAcP8MuXVCAAAQdfa5dUIAAHivnrp1QgAAYB6iunVCAAAa+qK6dUIAANTVo7p1QgAAHvX9unVCAACcVD67dUIAAA59Sbt1QgAAxslTu3VCAAAKGTi8dUIAAKrURbx1QgAAZLBGvHVCAAAejEe8dUIAAD42jLx1QgAA9oKWvHVCAAAkFpm8dUIAAJjNmrx1QgAA/pvevHVCAAAUnuS8dUIAABy3LL11QgAAMrkyvXVCAAC8cjq9dUIAADAqPL11QgAA6gU9vXVCAABevT69dUIAAGbWhr11QgAAHE52vnVCAAC+mHq+dUIAADJQfL51QgAAGDCJvnVCAADSC4q+dUIAAIznir51QgAARsOLvnVCAADcs8i+dUIAAApHy751QgAAONrNvnVCAABmbdC+dUIAAKoC2b51QgAATE3dvnVCAAA+ZB+/dUIAABZbbr91QgAA0DZvv3VCAAD+yXG/dUIAAHKBc791QgAA5jh1v3VCAACIg3m/dUIAAPw6e791QgAAthZ8v3VCAADkqX6/dUIAAJ6Ff791QgAAWGGAv3VCAAASPYG/dUIAAMwYgr91QgAAhvSCv3VCAADWwMC/dUIAAEp4wr91QgAAMufFv3VCAACmnse/dUIAAEjpy791QgAAMFjPv3VCAADqM9C/dUIAAF7r0b91QgAAGMfSv3VCAADSotO/dUIAAIx+1L91QgAARlrVv3VCAAAW8rfAdUIAANDNuMB1QgAAiqm5wHVCAABEhbrAdUIAALg8vMB1QgAALPS9wHVCAACgq7/AdUIAAIgaw8B1QgAA/NHEwHVCAAC2rcXAdUIAAORAyMB1QgAAhovMwHVCAAC+xg3BdUIAAAJcFsF1QgAA6soZwXVCAADSOR3BdUIAAEbxHsF1QgAAUJldwXVCAAB+LGDBdUIAAKy/YsF1QgAAkp9vwXVCAABUlLjBdUIAADwDvMF1QgAAhE37wnVCAABsvP7CdUIAAN7kCcN1QgAAUpwLw3VCAADGUw3DdUIAAIrXTMN1QgAARLNNw3VCAAD+jk7DdUIAABSRVMN1QgAAzmxVw3VCAADkblvDdUIAAJ5KXMN1QgAAhrlfw3VCAADWhZ3DdUIAAJBhnsN1QgAASj2fw3VCAAAEGaDDdUIAAGA/pcN1QgAA1Pamw3VCAAC8ZarDdUIAAHZBq8N1QgAA0meww3VCAABGH7LDdUIAAH5a88N1QgAAODb0w3VCAAAQLUPEdUIAAITkRMR1QgAAbFNIxHVCAAAMD1bEdUIAAMbqVsR1QgAA3hKdxXVCAAC4mOLFdUIAAEJS6sV1QgAA5JzuxXVCAACG5/LFdUIAAL4iNMZ1QgAAxKyFxnVCAAA4ZIfGdUIAAJL7lcZ1QgAATNeWxnVCAAAycX/HdUIAAAjZ18d1QgAANmzax3VCAACEqSHIdUIAAGwYJch1QgAA5MqByHVCAACGFYbIdUIAAIyf18h1QgAAeMMRynVCAACmVhTKdUIAAGAyFcp1QgAASKEYynVCAAAwEBzKdUIAANwCX8p1QgAAlt5fynVCAADEcWLKdUIAAJxoscp1QgAAECCzynVCAACyarfKdUIAAFImxcp1QgAAxt3GynVCAABczgPLdUIAAM72Dst1QgAAhkMZy3VCAADKkv3LdUIAAIRu/st1QgAA9pYJzHVCAADOjVjMdUIAAFhHYMx1QgAAlgzzzHVCAADEn/XMdUIAAMiaUM11QgAACls+znVCAADENj/OdUIAAGTyTM51QgAA2KlOznVCAABylebOdUIAACxx5851QgAA5kzoznVCAADOu+vOdUIAACri8M51QgAAzCz1znVCAACGCPbOdUIAAOzWOc91QgAAAtk/z3VCAACsPIzPdUIAAMI+ks91QgAAkhyZz3VCAAC+2oDQdUIAAI64h9B1QgAAyu4j0XVCAACEyiTRdUIAAD6mJdF1QgAA+IEm0XVCAACyXSfRdUIAAGw5KNF1QgAAJhUp0XVCAADg8CnRdUIAAJrMKtF1QgAAJIYy0XVCAACGNonRdUIAAEq6yNF1QgAA0A+/0nVCAACK67/SdUIAABSlx9J1QgAAcMvM0nVCAAAqp83SdUIAAJ5ez9J1QgAAWDrQ0nVCAAASFtHSdUIAAJB1EdN1QgAASlES03VCAABIwhvTdUIAAAKeHNN1QgAAvHkd03VCAADqDCDTdUIAAEYzJdN1QgAAlv9i03VCAABQ22PTdUIAAAq3ZNN1QgAAOEpn03VCAADyJWjTdUIAAMIDb9N1QgAAfN9v03VCAAAGmXfTdUIAABBBttN1QgAAyhy303VCAABsZ7vTdUIAACZDvNN1QgAA5qgO1HVCAADOFxLUdUIAAFjRGdR1QgAAxpUT1XVCAABchlDVdUIAABZiUdV1QgAAihlT1XVCAAD+0FTVdUIAALisVdV1QgAAcohW1XVCAABw+V/VdUIAAJ6MYtV1QgAAWGhj1XVCAACG+2XVdUIAADLuqNV1QgAAZHwG1nVCAACEJkvWdUIAAMRXQtd1QgAA8upE13VCAACSplLXdUIAABAGk9d1QgAAyuGT13VCAAA+mZXXdUIAAPh0ltd1QgAAbCyY13VCAADg45nXdUIAAA53nNd1QgAAJHmi13VCAABSDKXXdUIAACyS6td1QgAA5m3r13VCAABClPDXdUIAAFiW9td1QgAAzE3413VCAACGKfnXdUIAAKbTPdh1QgAAjkJB2HVCAABIHkLYdUIAALzVQ9h1QgAARo9L2HVCAABet5HZdUIAABiTktl1QgAAjEqU2XVCAABGJpXZdUIAAKz02Nl1QgAAXOJ22nVCAABEUXradUIAAELCg9p1QgAA5AyI2nVCAABYxInadUIAAIZXjNp1QgAA7CXQ2nVCAACkctradUIAAF5O29p1QgAAROjD23VCAACQlhTcdUIAABpQHNx1QgAA1Csd3HVCAACOBx7cdUIAAEjjHtx1QgAAAr8f3HVCAACkCSTcdUIAAMSzaNx1QgAAfo9p3HVCAAAg2m3cdUIAANq1btx1QgAAqpN13HVCAABkb3bcdUIAAJICedx1QgAAnKq33HVCAADesMncdUIAAAxEzNx1QgAAxh/N3HVCAAC4Ng/ddUIAAPzLF911QgAAcIMZ3XVCAADkOhvddUIAAJxBAd51QgAAVh0C3nVCAAAQ+QLedUIAAMrUA951QgAAPowF3nVCAAD4ZwbedUIAALJDB951QgAAsLQQ3nVCAAAkbBLedUIAAJgjFN51QgAAxrYW3nVCAAD8YmHedUIAANbopt51QgAAkMSn3nVCAABknQnfdUIAAGbDSeB1QgAAqlhS4HVCAAAyPT/hdUIAADCuSOF1QgAACjSO4XVCAADED4/hdUIAAJTtleF1QgAACKWX4XVCAAB8XJnhdUIAANiCnuF1QgAAHNKC4nVCAACQiYTidUIAAEplheJ1QgAABEGG4nVCAADsr4nidUIAANw31eJ1QgAAlhPW4nVCAABadIPjdUIAABRQhON1QgAAziuF43VCAACGeI/jdUIAANS11uN1QgAAGEvf43VCAAAcABbldUIAANbbFuV1QgAAkLcX5XVCAABKkxjldUIAAALgIuV1QgAAMHMl5XVCAACkKifldUIAAF4GKOV1QgAAlkFp5XVCAACsQ2/ldUIAAAhqdOV1QgAAwkV15XVCAAB8IXbldUIAAAbbfeV1QgAAVqe75XVCAACEOr7ldUIAAD4Wv+V1QgAA+PG/5XVCAAAmhcLldUIAAOBgw+V1QgAAVBjF5XVCAAAO9MXldUIAALA+yuV1QgAAmK3N5XVCAABSic7ldUIAAFgTIOZ1QgAAnGIE53VCAAD4iAnndUIAAFIgGOd1QgAA0H9Y53VCAACKW1nndUIAAEQ3Wud1QgAAuO5b53VCAADsC7DndUIAAEajvud1QgAAOLoA6HVCAAA+RFLodUIAAJjbYOh1QgAA8ixL6XVCAACUd0/pdUIAAJyQl+l1QgAAVmyY6XVCAACE/5rpdUIAAMYFrel1QgAABMs/6nVCAADUqEbqdUIAAEbRUep1QgAArJ+V6nVCAAAc84XrdUIAANbOhut1QgAAkKqH63VCAABKhojrdUIAAARiiet1QgAAeBmL63VCAAAy9YvrdUIAAOzQjOt1QgAApqyN63VCAABgiI7rdUIAABpkj+t1QgAA1D+Q63VCAACOG5HrdUIAAEj3ket1QgAAAtOS63VCAAC8rpPrdUIAAHaKlOt1QgAAMGaV63VCAABe+ZfrdUIAANKwmet1QgAAjIya63VCAABGaJvrdUIAAArs2ut1QgAAfqPc63VCAAA4f93rdUIAAKw23+t1QgAAZhLg63VCAAAIXeTrdUIAAMI45et1QgAAfBTm63VCAAA28ObrdUIAAPDL5+t1QgAAqqfo63VCAACcvirsdUIAAFaaK+x1QgAAPgkv7HVCAAD45C/sdUIAAGycMex1QgAADuc17HVCAADIwjbsdUIAADx6OOx1QgAAsDE67HVCAABqDTvsdUIAACTpO+x1QgAA3sQ87HVCAADGM0DsdUIAAHCXjOx1QgAAniqP7HVCAABEKsrtdUIAAP4Fy+11QgAAMiMf7nVCAABMIIDudUIAAAb8gO51QgAAPKjL7nVCAABcUhDvdUIAAFg0I+91QgAAhscl73VCAADG+BzwdUIAABbFWvB1QgAAeHWx8HVCAADytgTxdUIAANxLSPJ1QgAAlidJ8nVCAABQA0rydUIAADhyTfJ1QgAAZgVQ8nVCAAAQaZzydUIAACZrovJ1QgAAPG2o8nVCAADGJrDydUIAAFwX7fJ1QgAA/mHx8nVCAACGjALzdUIAAHYUTvN1QgAA3OKR83VCAAAgeJrzdUIAAPBVofN1QgAASqeL9HVCAADcedv0dUIAAMJZ6PR1QgAAZKTs9HVCAADYW+70dUIAAJI37/R1QgAATBPw9HVCAAAG7/D0dUIAAM5ti/V1QgAAttyO9XVCAAASA5T1dUIAAMzelPV1QgAAhrqV9XVCAADWhtP1dUIAAEo+1fV1QgAAeNHX9XVCAAAyrdj1dUIAAOyI2fV1QgAApmTa9XVCAABgQNv1dUIAABoc3PV1QgAA1Pfc9XVCAACO0931dUIAAAKL3/V1QgAAvGbg9XVCAAB2QuH1dUIAAOr54vV1QgAApNXj9XVCAAAYjeX1dUIAAEYg6PV1QgAAFrjK9nVCAADQk8v2dUIAAIpvzPZ1QgAAREvN9nVCAAD+Js72dUIAAHLez/Z1QgAALLrQ9nVCAACgcdL2dUIAAFpN0/Z1QgAAFCnU9nVCAADOBNX2dUIAAIjg1fZ1QgAAQrzW9nVCAAD8l9f2dUIAALZz2PZ1QgAAcE/Z9nVCAAAqK9r2dUIAAOQG2/Z1QgAAnuLb9nVCAABYvtz2dUIAAIZR3/Z1QgAAvowg93VCAACOaif3dUIAAEhGKPd1QgAAAiIp93VCAAC8/Sn3dUIAANynbvd1QgAAfvJy93VCAAA4znP3dUIAAKyFdfd1QgAABh2E93VCAACcDcH3dUIAAIoGFvh1QgAAcOYi+HVCAADMDCj4dUIAAFaAC/l1QgAAyjcN+XVCAACyphD5dUIAACZeEvl1QgAAmhUU+XVCAABU8RT5dUIAAIKEF/l1QgAA9jsZ+XVCAABq8xr5dUIAACTPG/l1QgAADD4f+XVCAADQwV75dUIAAIqdX/l1QgAA5sNk+XVCAABwfWz5dUIAAFjsb/l1QgAAhn9y+XVCAADc1QH6dUIAAAppBPp1QgAAZAAT+nVCAACEqlf6dUIAANxsS/t1QgAAlkhM+3VCAADE2077dUIAAGywpPt1QgAAVB+o+3VCAADGR7P7dUIAABYU8ft1QgAAisvy+3VCAABEp/P7dUIAAObx9/t1QgAAzmD7+3VCAABCGP37dUIAALbP/vt1QgAAcKv/+3VCAADkYgH8dUIAAJ4+Avx1QgAAWBoD/HVCAAAS9gP8dUIAAMzRBPx1QgAAhq0F/HVCAABKMUX8dUIAABiAVfx1QgAAHDWM/XVCAADWEI39dUIAAErIjv11QgAABKSP/XVCAAAyN5L9dUIAAIzOoP11QgAARqqh/XVCAABMNPP9dUIAAPgmNv51QgAAak9B/nVCAADGdUb+dUIAABzM1f51QgAA1qfW/nVCAAAW2c3/dUIAACzb0/91QgAAiAHZ/3VCAABC3dn/dUIAAFjf3/91QgAAErvg/3VCAAAcYx8AdkIAAEr2IQB2QgAAXmkxAHZCAAB+E3YAdkIAANo5ewB2QgAAHs+DAHZCAAD4VMkAdkIAALIwygB2QgAAJujLAHZCAADgw8wAdkIAAJqfzQB2QgAAVHvOAHZCAAAOV88AdkIAADzq0QB2QgAAsKHTAHZCAABqfdQAdkIAACRZ1QB2QgAA3jTWAHZCAACYENcAdkIAAFLs1wB2QgAAXJQWAXZCAACImCIBdkIAAJzFDQJ2QgAAhDQRAnZCAAA+EBICdkIAAPjrEgJ2QgAAbKMUAnZCAAAmfxUCdkIAAOBaFgJ2QgAAmjYXAnZCAABUEhgCdkIAAA7uGAJ2QgAAgqUaAnZCAAD2XBwCdkIAAP51ZAJ2QgAA5uRnAnZCAACeMXICdkIAADKTuAJ2QgAAjrm9AnZCAAC8TMACdkIAAHYowQJ2QgAAMATCAnZCAAAYc8UCdkIAANJOxgJ2QgAA3PYEA3ZCAADaZw4DdkIAADaOEwN2QgAA2NgXA3ZCAAAGbBoDdkIAAJxcVwN2QgAAVjhYA3ZCAAAQFFkDdkIAAMrvWQN2QgAAhMtaA3ZCAAA+p1sDdkIAAPiCXAN2QgAAsl5dA3ZCAABsOl4DdkIAACYWXwN2QgAA4PFfA3ZCAACazWADdkIAAFSpYQN2QgAAyGBjA3ZCAACCPGQDdkIAADwYZQN2QgAAaqtnA3ZCAADG0WwDdkIAAJZpTwR2QgAAUEVQBHZCAAAKIVEEdkIAAJTaWAR2QgAAwm1bBHZCAAD+o/cEdkIAAEpSSAV2QgAABC5JBXZCAAC+CUoFdkIAAEjDUQV2QgAApOlWBXZCAAAeK6oFdkIAAEy+rAV2QgAASumRBnZCAAAExZIGdkIAAL6gkwZ2QgAAeHyUBnZCAAAyWJUGdkIAAOwzlgZ2QgAApg+XBnZCAABg65cGdkIAABrHmAZ2QgAASFqbBnZCAAACNpwGdkIAALwRnQZ2QgAA6qSfBnZCAABMVfYGdkIAAFyHhgd2QgAA7MrfB3ZCAADSquwHdkIAAOxhKQl2QgAAGGY1CXZCAADEWHgJdkIAAPLregl2QgAArMd7CXZCAABmo3wJdkIAACB/fQl2QgAAnE/HCXZCAABSDdsJdkIAAAzp2wl2QgAA/HAnCnZCAADQA2ULdkIAAIrfZQt2QgAARLtmC3ZCAAD+lmcLdkIAAHJOaQt2QgAALCpqC3ZCAACg4WsLdkIAAFq9bAt2QgAAiFBvC3ZCAABwv3ILdkIAACqbcwt2QgAAEgp3C3ZCAAAcsrULdkIAANaNtgt2QgAARifLC3ZCAADcFwgMdkIAAJbzCAx2QgAAUM8JDHZCAAB+YgwMdkIAADg+DQx2QgAArPUODHZCAAAgrRAMdkIAANqIEQx2QgAA8IoXDHZCAAAeHhoMdkIAAJx9Wgx2QgAAVllbDHZCAACE7F0MdkIAAD7IXgx2QgAAsn9gDHZCAABsW2EMdkIAACY3Ygx2QgAAmu5jDHZCAABUymQMdkIAAA6mZQx2QgAAyIFmDHZCAACCXWcMdkIAADw5aAx2QgAA9hRpDHZCAACw8GkMdkIAAGrMagx2QgAAJKhrDHZCAADeg2wMdkIAANyuUQ12QgAA8rBXDXZCAAAIs10NdkIAAPAhYQ12QgAATEhmDXZCAAD4OqkNdkIAALIWqg12QgAAbPKqDXZCAAAmzqsNdkIAAA49rw12QgAAPNCxDXZCAAD2q7INdkIAALCHsw12QgAAamO0DXZCAAAMrrgNdkIAAMaJuQ12QgAAFlb3DXZCAAAqyQYOdkIAAFhcCQ52QgAAhu8LDnZCAAAc4EgOdkIAANa7SQ52QgAARlVeDnZCAACsI6IOdkIAACDbow52QgAA2rakDnZCAAA23akOdkIAAJa45Q92QgAACnDnD3ZCAADES+gPdkIAAH4n6Q92QgAArLrrD3ZCAADaTe4PdkIAAJQp7w92QgAAfJjyD3ZCAAA2dPMPdkIAAKor9Q92QgAABlL6D3ZCAAAm/D4QdkIAAN5ISRB2QgAAmCRKEHZCAAAWhIoQdkIAALjOjhB2QgAA5mGREHZCAACgPZIQdkIAAIislRB2QgAAtj+YEHZCAACkOO0QdkIAABjw7hB2QgAAitLVEXZCAAC21uERdkIAAFgh5hF2QgAAMqcrEnZCAADsgiwSdkIAALxgMxJ2QgAAXqs3EnZCAABGGjsSdkIAADgxfRJ2QgAAfMaFEnZCAACSyIsSdkIAAJxwyhJ2QgAAPrvOEnZCAAD4ls8SdkIAALJy0BJ2QgAAbE7REnZCAADgBdMSdkIAABC/FRR2QgAAyAsgFHZCAADeDSYUdkIAAJjpJhR2QgAAXG1mFHZCAADQJGgUdkIAAETcaRR2QgAA/rdqFHZCAAC4k2sUdkIAAHJvbBR2QgAALEttFHZCAADmJm4UdkIAAFrebxR2QgAAzpVxFHZCAABCTXMUdkIAAPwodBR2QgAAtgR1FHZCAABw4HUUdkIAACq8dhR2QgAA5Jd3FHZCAACec3gUdkIAAFhPeRR2QgAAEit6FHZCAADMBnsUdkIAAIbiexR2QgAAHNO4FHZCAADWrrkUdkIAAJCKuhR2QgAASma7FHZCAAAEQrwUdkIAAHj5vRR2QgAAMtW+FHZCAADssL8UdkIAAKaMwBR2QgAAYGjBFHZCAADUH8MUdkIAALyOxhR2QgAARkjOFHZCAACWFAwVdkIAADhfEBV2QgAAZvISFXZCAAAgzhMVdkIAAB4/HRV2QgAAUlxxFXZCAADcz1QWdkIAAFCHVhZ2QgAACmNXFnZCAADEPlgWdkIAAH4aWRZ2QgAA8tFaFnZCAACUHF8WdkIAAMKvYRZ2QgAA2LFnFnZCAAAGRWoWdkIAABDtqBZ2QgAAysipFnZCAAAm764WdkIAAODKrxZ2QgAAmqawFnZCAAAOXrIWdkIAAMg5sxZ2QgAAghW0FnZCAAA88bQWdkIAAPbMtRZ2QgAAsKi2FnZCAAAkYLgWdkIAAFLzuhZ2QgAADM+7FnZCAADGqrwWdkIAAFyb+RZ2QgAAFnf6FnZCAAB2mFoXdkIAAF4HXhd2QgAA0r5fF3ZCAACMmmAXdkIAANxmnhd2QgAAHm2wF3ZCAADWc5YYdkIAAJBPlxh2QgAARg2rGHZCAABQtekYdkIAAHy59Rh2QgAAPB9IGXZCAADG2E8ZdkIAAFzJjBl2QgAAFqWNGXZCAADQgI4ZdkIAAIpcjxl2QgAARDiQGXZCAAD+E5EZdkIAAHLLkhl2QgAAzvGXGXZCAACGPqIZdkIAABqg6Bl2QgAARqT0GXZCAAAcxigbdkIAANahKRt2QgAAkH0qG3ZCAABKWSsbdkIAAL4QLRt2QgAAeOwtG3ZCAAAyyC4bdkIAAOyjLxt2QgAApn8wG3ZCAABgWzEbdkIAABo3Mht2QgAA1BIzG3ZCAACO7jMbdkIAAPCeiht2QgAABqGQG3ZCAACyk9MbdkIAAOAm1ht2QgAAmgLXG3ZCAAAMK+IbdkIAAMYG4xt2QgAAuB0lHHZCAABaaCkcdkIAABK1Mxx2QgAAEOAYHXZCAADKuxkddkIAAD5zGx12QgAARmnRHXZCAAAK7RAedkIAAGYTFh52QgAACF4aHnZCAAA28RwedkIAAKqoHh52QgAAVpthHnZCAACwMnAedkIAACTqcR52QgAAmKFzHnZCAADGNHYedkIAAE4ZYx92QgAA3ly8H3ZCAAAcIk8gdkIAANb9TyB2QgAASrVRIHZCAAAEkVIgdkIAAHhIVCB2QgAA7P9VIHZCAACm21YgdkIAABqTWCB2QgAAjkpaIHZCAAB2uV0gdkIAADCVXiB2QgAApExgIHZCAAAYBGIgdkIAANLfYiB2QgAAjLtjIHZCAABGl2QgdkIAAAobpCB2QgAAftKlIHZCAACsZaggdkIAABibqyF2QgAAfmnvIXZCAADwkfohdkIAAJyEPSJ2QgAAVmA+InZCAABKei4kdkIAAARWLyR2QgAAeA0xJHZCAADsxDIkdkIAAKagMyR2QgAAGlg1JHZCAADUMzYkdkIAAI4PNyR2QgAApBE9JHZCAADSpD8kdkIAAEZcQSR2QgAAlih/JHZCAABskNckdkIAAIKS3SR2QgAADEzlJHZCAADGJ+YkdkIAAKCtKyV2QgAAnh41JXZCAABY+jUldkIAAJxJGiZ2QgAAytwcJnZCAACEuB0mdkIAAD6UHiZ2QgAAbCchJnZCAAAmAyImdkIAAODeIiZ2QgAAmrojJnZCAABUliQmdkIAAA5yJSZ2QgAAyE0mJnZCAACCKScmdkIAADwFKCZ2QgAA9uAoJnZCAACwvCkmdkIAAGqYKiZ2QgAAJHQrJnZCAADeTywmdkIAAJgrLSZ2QgAAUgcuJnZCAAAM4y4mdkIAAMa+LyZ2QgAA5mh0JnZCAAASbYAmdkIAAMxIgSZ2QgAAhiSCJnZCAABKqMEmdkIAAASEwiZ2QgAAvNDMJnZCAABeG9EmdkIAABj30SZ2QgAAjK7TJnZCAABGitQmdkIAANx6ESd2QgAAllYSJ3ZCAAB+xRUndkIAADihFid2QgAAqskhJ3ZCAABkpSIndkIAAMSAXih2QgAAfM1oKHZCAAAQL68odkIAAEK9DCl2QgAAKiwQKXZCAAASmxMpdkIAAIZSFSl2QgAAjmtdKXZCAACOAqcqdkIAAIxzsCp2QgAAnKVAK3ZCAADKOEMrdkIAAD7wRCt2QgAA+MtFK3ZCAACyp0YrdkIAAGyDRyt2QgAADs5LK3ZCAACChU0rdkIAAAw/VSt2QgAAxhpWK3ZCAABcC5MrdkIAANDClCt2QgAAip6VK3ZCAADkNaQrdkIAANS97yt2QgAAjAr6K3ZCAABG5vordkIAABZ+3Sx2QgAAcBXsLHZCAADs5TUtdkIAAI4wOi12QgAAvMM8LXZCAAAwez4tdkIAAMTchC12QgAAkiuVLXZCAACYteYtdkIAALhfKy52QgAAcjssLnZCAABaqi8udkIAAHCsNS52QgAAhq47LnZCAAA+tSEvdkIAANCHcS92QgAAimNyL3ZCAABEP3MvdkIAAP4adC92QgAALK52L3ZCAAAUHXovdkIAAEKwfC92QgAAntaBL3ZCAABYsoIvdkIAABKOgy92QgAAhkWFL3ZCAAC+gMYvdkIAAFBTFjB2QgAACi8XMHZCAADEChgwdkIAAH7mGDB2QgAA8A4kMHZCAACq6iQwdkIAALIDbTB2QgAAalB3MHZCAADeB3kwdkIAAArGYDF2QgAAxKFhMXZCAAAeOXAxdkIAAAaoczF2QgAAhAe0MXZCAAAmUrgxdkIAAJoJujF2QgAA9i+/MXZCAABc/gIydkIAAIqRBTJ2QgAARG0GMnZCAAC4JAgydkIAAKCTCzJ2QgAAngQVMnZCAACGcxgydkIAANY/VjJ2QgAAkBtXMnZCAABK91cydkIAAHiKWjJ2QgAAMmZbMnZCAADsQVwydkIAAKYdXTJ2QgAAYPldMnZCAADUsF8ydkIAALwfYzJ2QgAAdvtjMnZCAADqsmUydkIAANIhaTJ2QgAAUIGpMnZCAADaOrEydkIAAJCyoDN2QgAASo6hM3ZCAAAEaqIzdkIAAHghpDN2QgAA7NilM3ZCAACmtKYzdkIAAGCQpzN2QgAAGmyoM3ZCAADUR6kzdkIAAI4jqjN2QgAAGN2xM3ZCAABGcLQzdkIAANhCBDR2QgAAkh4FNHZCAABcLJY0dkIAABYIlzR2QgAA0OOXNHZCAAD856M0dkIAANTe8jR2QgAAAnL1NHZCAAAcKTI2dkIAAJDgMzZ2QgAASrw0NnZCAADsBjk2dkIAALzkPzZ2QgAAmNbpNnZCAAAUpzM3dkIAAIheNTd2QgAAVmchOHZCAADKHiM4dkIAAIT6Izh2QgAA+LElOHZCAAAmRSg4dkIAAFJJNDh2QgAAWNOFOHZCAACGZog4dkIAANYyxjh2QgAAkA7HOHZCAABK6sc4dkIAAHh9yjh2QgAA7DTMOHZCAAAayM44dkIAAOql1Th2QgAANlQmOXZCAABsAHE5dkIAAJy5szp2QgAAEHG1OnZCAABSd8c6dkIAAAxTyDp2QgAAlsarO3ZCAAAKfq07dkIAAGaksjt2QgAATIS/O3ZCAADE8Pc8dkIAADio+Tx2QgAA8oP6PHZCAAAIhgA9dkIAADYZAz12QgAAZKwFPXZCAAAOEFI9dkIAAN7tWD12QgAAXE2ZPXZCAABIt/c9dkIAADJMOz92QgAAvAVDP3ZCAACkdEY/dkIAAJaLiD92QgAAUGeJP3ZCAABUYuQ/dkIAAIL15j92QgAADK/uP3ZCAACaHS1BdkIAAFwSdkF2QgAA0Ml3QXZCAACKpXhBdkIAAESBeUF2QgAA/lx6QXZCAAC4OHtBdkIAAHIUfEF2QgAAoKd+QXZCAAD8zYNBdkIAALaphEF2QgAAEtCJQXZCAADMq4pBdkIAAIaHi0F2QgAA8t8gQnZCAACUKiVCdkIAAKosK0J2QgAAsLZ8QnZCAADGuIJCdkIAAFa2t0N2QgAAym25Q3ZCAAA+JbtDdkIAABSNE0R2QgAAzmgURHZCAAD8+xZEdkIAABL+HER2QgAAhrUeRHZCAACW565EdkIAAMR6sUR2QgAA8g20RHZCAADY7cBEdkIAAAaBw0R2QgAAStCnRXZCAAB21LNFdkIAANyi90V2QgAACjb6RXZCAACU7wFGdkIAABS7pkZ2QgAAzpanRnZCAACG47FGdkIAAOyx9UZ2QgAAGkX4RnZCAABY5/hHdkIAAMye+kd2QgAAVhLeSHZCAADIOulIdkIAAIIW6kh2QgAAaoXtSHZCAAAq6z9JdkIAAFh+Qkl2QgAAzDVESXZCAAD48ytKdkIAAMjRMkp2QgAADGc7SnZCAADGQjxKdkIAABYPekp2QgAAQhOGSnZCAAAqgolKdkIAAIaojkp2QgAAHJnLSnZCAADWdMxKdkIAAJBQzUp2QgAASizOSnZCAAC8VNlKdkIAAHYw2kp2QgAA3P4dS3ZCAADY4DBLdkIAAJK8MUt2QgAATJgyS3ZCAAAGdDNLdkIAAPiKdUt2QgAAxtmFS3ZCAACWcWhMdkIAAMQEa0x2QgAAfFF1THZCAABML3xMdkIAAAYLfUx2QgAAVte6THZCAAAQs7tMdkIAAMqOvEx2QgAAPka+THZCAAD4Ib9MdkIAALL9v0x2QgAAJrXBTHZCAADgkMJMdkIAAJpsw0x2QgAAVEjETHZCAAAOJMVMdkIAAFxhDE12QgAA0BgOTXZCAACK9A5NdkIAALiHEU12QgAAeO1jTXZCAABGPHRNdkIAAI6Gs052QgAA8sUAT3ZCAACsoQFPdkIAAMq8T092QgAAiiKiT3ZCAAAsbaZPdkIAAFoAqU92QgAAjh39T3ZCAACkHwNQdkIAAEZqB1B2QgAA7GlCUXZCAABELDZSdkIAALjjN1J2QgAAQp0/UnZCAACc7ilTdkIAAD45LlN2QgAAsvAvU3ZCAACaXzNTdkIAAMZjP1N2QgAAFjB9U3ZCAADQC35TdkIAAETDf1N2QgAAuHqBU3ZCAAC264pTdkIAABISkFN2QgAAhsmRU3ZCAABewOBTdkIAAMSOJFR2QgAA2pAqVHZCAADYATRUdkIAAJLdNFR2QgAAED11VHZCAABU0n1UdkIAAMb6iFR2QgAA3LZqVXZCAADyuHBVdkIAAGThe1V2QgAABiyAVXZCAABqa81VdkIAAFyCD1Z2QgAAFl4QVnZCAADQORFWdkIAAETxElZ2QgAAEkAjVnZCAACG9yRWdkIAAJA2rVd2QgAABO6uV3ZCAADsXLJXdkIAAKY4s1d2QgAAYBS0V3ZCAADUy7VXdkIAAI6ntld2QgAASIO3V3ZCAAACX7hXdkIAALw6uVd2QgAAdha6V3ZCAAAw8rpXdkIAAOrNu1d2QgAApKm8V3ZCAABehb1XdkIAABhhvld2QgAA0jy/V3ZCAACMGMBXdkIAAEb0wFd2QgAAEAJSWHZCAADK3VJYdkIAAIS5U1h2QgAAPpVUWHZCAAD4cFVYdkIAALJMVlh2QgAA4N9YWHZCAACau1lYdkIAAA5zW1h2QgAA9uFeWHZCAACwvV9YdkIAACR1YVh2QgAAxr9lWHZCAAAcrT5adkIAAJBkQFp2QgAASkBBWnZCAAC+90JadkIAAI7VSVp2QgAAAo1LWnZCAADq+05adkIAAEYiVFp2QgAACqaTWnZCAADEgZRadkIAAH5dlVp2QgAAODmWWnZCAADyFJdadkIAAITn5lp2QgAAJjLrWnZCAABUxe1adkIAAGrH81p2QgAADBL4WnZCAADG7fhadkIAACy8PFt2QgAAzgZBW3ZCAABCvkJbdkIAAFjASFt2QgAAhlNLW3ZCAACEfjBcdkIAAPg1Mlx2QgAA4KQ1XHZCAACC7zlcdkIAADzLOlx2QgAAJDo+XHZCAADeFT9cdkIAAJYcJV12QgAAUPglXXZCAADErydddkIAAGRrNV12QgAA2CI3XXZCAAAKa3BedkIAADZvfF52QgAAZAJ/XnZCAACErMNedkIAAMay1V52QgAAijYVX3ZCAABEEhZfdkIAALjJF192QgAAcqUYX3ZCAAAsgRlfdkIAAM7LHV92QgAAKvIiX3ZCAABYhSVfdkIAAIYYKF92QgAABHhoX3ZCAAC+U2lfdkIAADILa192QgAA7OZrX3ZCAADSxnhfdkIAAAoCul92QgAAOJW8X3ZCAADa38BfdkIAAPDhxl92QgAA2FDKX3ZCAABMCMxfdkIAANwFAWF2QgAAluEBYXZCAABQvQJhdkIAAAqZA2F2QgAA2OcTYXZCAAAGexZhdkIAAPYCYmF2QgAADAVoYXZCAADWEvlhdkIAAASm+2F2QgAAGqgBYnZCAABIOwRidkIAAAIXBWJ2QgAAds4GYnZCAABePQpidkIAANL0C2J2QgAAjNAMYnZCAABGrA1idkIAALiO9GJ2QgAAWEoCY3ZCAAAGqaljdkIAAIQI6mN2QgAAPuTqY3ZCAAAmU+5jdkIAAJoK8GN2QgAA3p/4Y3ZCAACEnzNldkIAAJgSQ2V2QgAAcpiIZXZCAADOvo1ldkIAAFh4lWV2QgAAhguYZXZCAADSuehldkIAAEZx6mV2QgAABtc8ZnZCAABWo3pmdkIAABB/e2Z2QgAAPhJ+ZnZCAADezYtmdkIAAFKFjWZ2QgAAxjyPZnZCAADc+HBndkIAAAqMc2d2QgAABm6GZ3ZCAAAQFsVndkIAAMrxxWd2QgAADPjXZ3ZCAAC46hpodkIAAFo1H2h2QgAAhjkraHZCAAAcKmhodkIAAASZa2h2QgAAdsF2aHZCAADqeHhodkIAANQNvGl2QgAAso5canZCAAAMJmtqdkIAAATH/mp2QgAAphEDa3ZCAADUpAVrdkIAANIVD2t2QgAAjPEPa3ZCAABGzRBrdkIAAET49Wt2QgAA5kL6a3ZCAACgHvtrdkIAAEJp/2t2QgAAno8EbHZCAADWykVsdkIAAALPUWx2QgAAdoZTbHZCAAAY0VdsdkIAAEZkWmx2QgAAfp+bbHZCAADYNqpsdkIAABBy62x2QgAAhCntbHZCAAAmdPFsdkIAAFwgPG12QgAAFvw8bXZCAADQ1z1tdkIAAESPP212QgAA/mpAbXZCAADOSEdtdkIAACpvTG12QgAAhpVRbXZCAACawjxudkIAAFIPR252QgAADOtHbnZCAAC2TpRudkIAAOThlm52QgAAnr2XbnZCAACGLJtudkIAANb42G52QgAAptbfbnZCAAB2tOZudkIAAAoWLW92QgAAZjwyb3ZCAACq0TpvdkIAANhkPW92QgAAsuqCb3ZCAABsxoNvdkIAALBbjG92QgAAxl2Sb3ZCAACs93pwdkIAAE5Cf3B2QgAANrGCcHZCAABkRIVwdkIAAEyziHB2QgAAmvDPcHZCAAAOqNFwdkIAAIJf03B2QgAAas7WcHZCAAAMGdtwdkIAAMb023B2QgAAcucecXZCAACQAm1xdkIAAH77wXF2QgAAwpDKcXZCAAAet89xdkIAAJJu0XF2QgAAVolac3ZCAAAQZVtzdkIAAIQcXXN2QgAAHHn+c3ZCAACQMAB0dkIAAIYfC3V2QgAAkMdJdXZCAAAC8FR1dkIAAFQo93V2QgAAFh1AdnZCAADQ+EB2dkIAAIrUQXZ2QgAARLBCdnZCAAD+i0N2dkIAAMoFOXd2QgAAXNiId3ZCAADQj4p3dkIAAHLajnd2QgAAzHGdd3ZCAACGTZ53dkIAAFBbL3h2QgAAxBIxeHZCAAB+7jF4dkIAAGZdNXh2QgAAIDk2eHZCAADaFDd4dkIAANiFQHh2QgAAypyCeHZCAAAmw4d4dkIAAJp6iXh2QgAAyA2MeHZCAACwfI94dkIAANw6d3l2QgAAUPJ4eXZCAAAGsIx5dkIAALKiz3l2QgAAbH7QeXZCAAAmWtF5dkIAAJoR03l2QgAAVO3TeXZCAABSXt15dkIAAPzBKXp2QgAAKlUsenZCAADkMC16dkIAABLEL3p2QgAASHB6enZCAAAI1sx6dkIAAPBE0Hp2QgAAqiDRenZCAABk/NF6dkIAAHgpvXt2QgAAYJjAe3ZCAAC8vsV7dkIAADB2x3t2QgAARnjNe3ZCAACWRAt8dkIAAFAgDHx2QgAArEYRfHZCAACUtRR8dkIAAE6RFXx2QgAAZJMbfHZCAAAG3h98dkIAAESjsnx2QgAA5u22fHZCAAAUgbl8dkIAAEIUvHx2QgAAKoO/fHZCAACQUQN9dkIAAAQJBX12QgAAvuQFfXZCAAAynAd9dkIAAOx3CH12QgAAplMJfXZCAABIng19dkIAAAJ6Dn12QgAA6ugRfXZCAACkxBJ9dkIAABh8FH12QgAA0lcVfXZCAACMMxZ9dkIAAFzL+H12QgAAuPH9fXZCAADmhAB+dkIAAKBgAX52QgAAWjwCfnZCAADO8wN+dkIAAJZynn52QgAAlOOnfnZCAAAIm6l+dkIAAB6dr352QgAAELTxfnZCAADKj/J+dkIAAJpt+X52QgAAsG//fnZCAABqSwB/dkIAAETRRX92QgAAoPdKf3ZCAABa00t/dkIAABSvTH92QgAAzopNf3ZCAABYRFV/dkIAABIgVn92QgAAhAI9gHZCAAAkvkqAdkIAAMYIT4B2QgAABM7hgHZCAAB4heOAdkIAAOw85YB2QgAAGtDngHZCAADUq+iAdkIAADDS7YB2QgAA6q3ugHZCAACkie+AdkIAABhB8YB2QgAAjPjygHZCAACWoDGBdkIAACBaOYF2QgAAHstCgXZCAABMXkWBdkIAAAY6RoF2QgAAggqQgXZCAAD2wZGBdkIAALCdkoF2QgAA3jCVgXZCAAA4gn+CdkIAAPJdgIJ2QgAArDmBgnZCAAB8F4iCdkIAAKqqioJ2QgAAylTPgnZCAADGNuKCdkIAAHCaLoN2QgAAKnYvg3ZCAAB2JICDdkIAAIwmhoN2QgAAfK7Rg3ZCAAA2itKDdkIAAPBl04N2QgAAqkHUg3ZCAABkHdWDdkIAAB751YN2QgAABmjZg3ZCAADsAcKEdkIAAKbdwoR2QgAAjkzGhHZCAABIKMeEdkIAAAIEyIR2QgAAvN/IhHZCAAAYBs6EdkIAAGZDFYV2QgAANiEchXZCAADYayCFdkIAAJJHIYV2QgAABv8ihXZCAACy8WWFdkIAAGzNZoV2QgAADhhrhXZCAACwYm+FdkIAAMZkdYV2QgAAcMjBhXZCAADkf8OFdkIAAJ5bxIV2QgAAWDfFhXZCAACGyseFdkIAAKZ0DIZ2QgAAYFANhnZCAABIvxCGdkIAALx2EoZ2QgAARjAahnZCAADUnliHdkIAAAIyW4d2QgAA0g9ih3ZCAACM62KHdkIAAEbHY4d2QgAAyLhIiXZCAAAk302JdkIAAHIclYl2QgAA5tOWiXZCAABY/KGJdkIAABLYool2QgAAzLOjiXZCAABQnTWKdkIAAHyhQYp2QgAABltJinZCAABSCZqKdkIAAMbAm4p2QgAAUDR/i3ZCAADE64CLdkIAAH7HgYt2QgAA8n6Di3ZCAAAG8pKLdkIAAFxIIox2QgAAuG4njHZCAAAsJimMdkIAAIhMLox2QgAAQigvjHZCAAC8aYKMdkIAANj12Yx2QgAATK3bjHZCAACQ/L+NdkIAANiMI452QgAAnBBjjnZCAACyEmmOdkIAANAtt452QgAAKsXFjnZCAABqjQaRdkIAACRpB5F2QgAAWhVSkXZCAAASYlyRdkIAAMw9XZF2QgAAnNU/knZCAAAkAFGSdkIAAP6FlpJ2QgAAHKHkknZCAADWfOWSdkIAAJBY5pJ2QgAABBDoknZCAAC+6+iSdkIAAKZa7JJ2QgAABnxMk3ZCAADcnYCUdkIAAJZ5gZR2QgAAUFWClHZCAAAKMYOUdkIAAH7ohJR2QgAAOMSFlHZCAACse4eUdkIAACAziZR2QgAAlOqKlHZCAABOxouUdkIAAAiijJR2QgAAwn2NlHZCAAB8WY6UdkIAADY1j5R2QgAA8BCQlHZCAACq7JCUdkIAAGTIkZR2QgAAHqSSlHZCAADYf5OUdkIAAJJblJR2QgAATDeVlHZCAAAGE5aUdkIAALiPKpV2QgAAFLYvlXZCAABYSziVdkIAAMwCOpV2QgAAht46lXZCAACQhnmVdkIAAOysfpV2QgAAYGSAlXZCAADUG4KVdkIAAHZmhpV2QgAAlhDLlXZCAABm7tGVdkIAACDK0pV2QgAATM7elXZCAACQHcOWdkIAAOxDyJZ2QgAA5lDAl3ZCAACGDM6XdkIAANbYC5h2QgAAprYSmHZCAABIAReYdkIAADBwGph2QgAARnIgmHZCAABcLgKZdkIAAIrBBJl2QgAAnjQUmXZCAACGoxeZdkIAAJbVp5l2QgAAfkSrmXZCAABkJLiZdkIAAJK3upl2QgAAFqFMmnZCAAD8gFmadkIAAIY6YZp2QgAAEEWOnHZCAABsa5OcdkIAAGrcnJx2QgAARPkrnnZCAAD+1CyedkIAALiwLZ52QgAAcowunnZCAADmQzCedkIAAIb/PZ52QgAASoN9nnZCAABI9IaedkIAAALQh552QgAAvKuInnZCAAAwY4qedkIAABjSjZ52QgAAMonKn3ZCAADq1dSfdkIAAHyoJKB2QgAATIYroHZCAABcTwWidkIAAFgxGKJ2QgAAHLVXonZCAADqA2iidkIAANJya6J2QgAAjE5sonZCAAD4PUukdkIAAPauVKR2QgAABFLupHZCAAC+Le+kdkIAADLl8KR2QgAAXun8pHZCAAAO15qldkIAAIKOnKV2QgAAPGqdpXZCAABq/Z+ldkIAACTZoKV2QgAA3rShpXZCAADGI6WldkIAAD6Q3aZ2QgAA+GvepnZCAACyR9+mdkIAAJq24qZ2QgAAVJLjpnZCAAA8AeemdkIAAPbc56Z2QgAAapTppnZCAADeS+umdkIAAJgn7KZ2QgAADN/tpnZCAADGuu6mdkIAAFocNad2QgAAKvo7p3ZCAADk1TyndkIAAALxiqd2QgAAMISNp3ZCAAAcqMeodkIAAJBfyah2QgAASjvKqHZCAAAaGdGodkIAAAKI1Kh2QgAAvGPVqHZCAABertmodkIAABiK2qh2QgAARh3dqHZCAADC7SapdkIAAEynLql2QgAABoMvqXZCAAD2CnupdkIAAErSE6p2QgAAMkEXqnZCAADUixuqdkIAAETfC6t2QgAAcnIOq3ZCAAAsTg+rdkIAAPwrFqt2QgAAtgcXq3ZCAAAqvxirdkIAAJ52Gqt2QgAAEi4cq3ZCAACG5R2rdkIAABzWWqt2QgAAXtxsq3ZCAABGS3CrdkIAAArPr6t2QgAAOGKyq3ZCAACsGbSrdkIAANgdwKt2QgAABrHCq3ZCAACEEAOsdkIAAOA2CKx2QgAAmhIJrHZCAABU7gmsdkIAAA7KCqx2QgAAyKULrHZCAACCgQysdkIAALAUD6x2QgAAavAPrHZCAAAkzBCsdkIAAN6nEax2QgAAmIMSrHZCAABSXxOsdkIAAER2Vax2QgAADmFUrXZCAAAWepytdkIAAEZ5A652QgAA2EtTrnZCAABWq5OudkIAAPj1l652QgAAPrHgr3ZCAAAkke2vdkIAAIZBRLB2QgAAHDKBsHZCAADWDYKwdkIAAErFg7B2QgAAZugksnZCAAAIMymydkIAAB41L7J2QgAAnJRvsnZCAAAQTHGydkIAAMoncrJ2QgAAhANzsnZCAAA+33OydkIAAPi6dLJ2QgAAspZ1snZCAABscnaydkIAAOApeLJ2QgAAmgV5snZCAABU4XmydkIAAMiYe7J2QgAAgnR8snZCAAA8UH2ydkIAAPYrfrJ2QgAAsAd/snZCAABq43+ydkIAACS/gLJ2QgAA3pqBsnZCAACYdoKydkIAAFJSg7J2QgAADC6EsnZCAADGCYWydkIAANCxw7J2QgAAfqe0tHZCAAA4g7W0dkIAACDyuLR2QgAAZIfBtHZCAAD2WRG1dkIAAFqZXrV2QgAA5FJmtXZCAAAsnaW2dkIAAFowqLZ2QgAAiMOqtnZCAABktVS3dkIAANgDoLh2QgAAkt+guHZCAADejfG4dkIAAExS67l2QgAAdoHcunZCAABsk3m7dkIAAOBKe7t2QgAApKsovHZCAABehym8dkIAAIyxdb12QgAARo12vXZCAABmN7u9dkIAAOB4Dr52QgAA3ukXvnZCAABSoRm+dkIAAOAPWL92QgAAJKVgv3ZCAADOCK2/dkIAAKRwBcB2QgAA+DeewHZCAAA8zabAdkIAAAyrrcB2QgAAxoauwHZCAACWHpHBdkIAAMSxk8F2QgAArCCXwXZCAABm/JfBdkIAAGRtocF2QgAA+M7nwXZCAACyqujBdkIAAOA968F2QgAAlrXawnZCAABQKCXEdkIAAPDjMsR2QgAAqr8zxHZCAABMCjjEdkIAAMZLi8R2QgAAXDzIxHZCAABCHNXEdkIAAIax3cR2QgAAuPkWxnZCAABy1RfGdkIAAEg9cMZ2QgAA6od0xnZCAABeP3bGdkIAAEauecZ2QgAAIDS/xnZCAADaD8DGdkIAAJTrwMZ2QgAAfFrExnZCAAAepcjGdkIAAFLCHMd2QgAAFLdlx3ZCAACG33DHdkIAAMYQaMh2QgAABNb6yHZCAAAyaf3IdkIAAAJHBMl2QgAAlqhKyXZCAADeOK7JdkIAAMJDoMp2QgAAqrKjynZCAADez/fKdkIAAESeO8t2QgAA1OGUy3ZCAAC8UJjLdkIAAF6bnMt2QgAAGHedy3ZCAADSUp7LdkIAAHhS2cx2QgAASDDgzHZCAAC85+HMdkIAAKrgNs12QgAAxmyOzXZCAADwMsnPdkIAANihzM92QgAABjXPz3ZCAABWAQ3QdkIAAFaYVtF2QgAA+OJa0XZCAACaLV/RdkIAAIgmtNF2QgAAdh8J0nZCAABMh2HSdkIAAFIRs9J2QgAAxsi00nZCAAASDk/UdkIAAJ4bKth2QgAARvB/2HZCAAAgdsXYdkIAAGQLzth2QgAAQoxu2XZCAADgcmHadkIAAFQqY9p2QgAADHdt2nZCAAAeFWLbdkIAAGrDstt2QgAAmFa123ZCAAC4l0PddkIAACxPRd12QgAAtghN3XZCAABw5E3ddkIAADBKoN12QgAARkym3XZCAACqi/PddkIAAGRn9N12QgAABrL43XZCAABS95LfdkIAAIYU5992QgAA1FEu4HZCAABICTDgdkIAAHacMuB2QgAA6lM04HZCAABeCzbgdkIAAEYRg+F2QgAA8HTP4XZCAAD8iHLidkIAAGpNbON2QgAAzP3C43ZCAAACqg3kdkIAANior+V2QgAAkoSw5XZCAAAGPLLldkIAAGwK9uV2QgAAJub25XZCAAAU30vmdkIAAHgemeZ2QgAAGmmd5nZCAADqRqTmdkIAAIyRqOZ2QgAARm2p5nZCAACkue7ndkIAABhx8Od2QgAARgTz53ZCAABa9rrsdkIAAHD4wOx2QgAAWGfE7HZCAADMHsbsdkIAAFApW/Z2QgAAZith9nZCAACUvmP2dkIAAIRGr/Z2QgAA4Gy09nZCAABqJrz2dkIAAN7dvfZ2QgAA8gqp93ZCAABmwqr3dkIAAAZ+uPd2QgAAECb393ZCAADKAfj3dkIAAA6XAPh2QgAA3nQH+HZCAAAssk74dkIAAASpnfh2QgAA0vet+HZCAAA4xvH4dkIAAGZZ9Ph2QgAA8BL8+HZCAADYgf/4dkIAAARA5/l2QgAAYGbs+XZCAADSjvf5dkIAAJYSN/p2QgAAfoE6+nZCAABOX0H6dkIAALKejvp2QgAAJlaQ+nZCAADgMZH6dkIAAJoNkvp2QgAAVOmS+nZCAAA8WJb6dkIAALAPmPp2QgAAauuY+nZCAAAkx5n6dkIAAN6imvp2QgAAmH6b+nZCAAAMNp36dkIAAMYRnvp2QgAALODh+nZCAAC2men6dkIAAOq2Pft2QgAAYJR//HZCAACOJ4L8dkIAAF4Fifx2QgAA0ryK/HZCAACMmIv8dkIAAEZ0jPx2QgAA2Ebc/HZCAACSIt38dkIAAEz+3fx2QgAABtre/HZCAACcyhv9dkIAACaEI/12QgAADvMm/XZCAADe0C39dkIAAMY/Mf12QgAAhqWD/XZCAAD2+HP+dkIAAGqwdf52QgAAXMe3/nZCAADQfrn+dkIAALjtvP52QgAAzGDM/nZCAAAcLQr/dkIAAErADP92QgAAXjMc/3ZCAABGoh//dkIAAAomX/92QgAA8pRi/3ZCAADaA2b/dkIAAE67Z/92QgAABghy/3ZCAAD2j73/dkIAAGpHv/92QgAAUrbC/3ZCAADCCbMAd0IAADbBtAB3QgAATMO6AHdCAAAGn7sAd0IAABKzXgF3QgAAhmpgAXdCAACqDwACd0IAAGTrAAJ3QgAA2KICAndCAABMWgQCd0IAADBl9gJ3QgAAGNT5AndCAACqpkkDd0IAAOrXQAR3QgAAMJOJBXdCAADqbooFd0IAAKRKiwV3QgAAXiaMBXdCAAAYAo0Fd0IAANLdjQV3QgAAjLmOBXdCAABGlY8Fd0IAAIrkcwZ3QgAAiFV9BndCAAAOq3MHd0IAAIJidQd3QgAAxvd9B3dCAABc6LoHd0IAANCfvAd3QgAAuA7AB3dCAABy6sAHd0IAACzGwQd3QgAA5qHCB3dCAACgfcMHd0IAABQ1xQd3QgAAQsjHB3dCAAD8o8gHd0IAALZ/yQd3QgAAcFvKB3dCAAAqN8sHd0IAAOQSzAd3QgAAnu7MB3dCAAASps4Hd0IAAMyBzwd3QgAAhl3QB3dCAAC8CRsId0IAAHblGwh3QgAAMMEcCHdCAADqnB0Id0IAAKR4Hgh3QgAAXlQfCHdCAAAYMCAId0IAANILIQh3QgAAfG9tCHdCAAA2S24Id0IAAPAmbwh3QgAAqgJwCHdCAACWJqoJd0IAAFT9BQp3QgAAPGwJCndCAAAk2wwKd0IAAFwWTgp3QgAALPRUCndCAACmNagKd0IAAI6kqwp3QgAAMO+vCndCAADqyrAKd0IAAIwVtQp3QgAA7PDwC3dCAADUX/QLd0IAAHaq+At3QgAARoj/C3dCAAB+w0AMd0IAAPDrSwx3QgAADgeaDHdCAADI4poMd0IAAIK+mwx3QgAA9nWdDHdCAAAMeKMMd0IAAIrX4wx3QgAA/o7lDHdCAAByRucMd0IAAFgm9Ax3QgAA1oU0DXdCAABKPTYNd0IAAL70Nw13QgAA7Ic6DXdCAABgPzwNd0IAABobPQ13QgAA1PY9DXdCAAC8ZUENd0IAAEYfSQ13QgAAct0wDndCAAAsuTEOd0IAAKBwMw53QgAAWkw0DndCAAAUKDUOd0IAAM4DNg53QgAAiN82DndCAABCuzcOd0IAAPyWOA53QgAAtnI5DndCAABwTjoOd0IAACoqOw53QgAA5AU8DndCAACe4TwOd0IAAFi9PQ53QgAAEpk+DndCAADMdD8Od0IAAIZQQA53QgAAStR/DndCAADcps8Od0IAAPAZ3w53QgAABhzlDndCAABW6CIPd0IAAMaBNw93QgAAXHJ0D3dCAAAWTnUPd0IAAFhUhw93QgAAEjCID3dCAACG54kPd0IAAJyjaxB3QgAAEFttEHdCAADKNm4Qd0IAAIQSbxB3QgAA+MlwEHdCAACypXEQd0IAACZdcxB3QgAADsx2EHdCAACCg3gQd0IAADxfeRB3QgAAsBZ7EHdCAABq8nsQd0IAAJiFfhB3QgAAUmF/EHdCAAAMPYAQd0IAAMYYgRB3QgAA5sLFEHdCAABY69AQd0IAABLH0RB3QgAAkCYSEXdCAABedSIRd0IAAEbkJRF3QgAA8tZoEXdCAAAI2W4Rd0IAAJw6tRF3QgAATtrbEXdCAADca6wSd0IAAB5yvhJ3QgAABuHBEndCAADe1xATd0IAAM5fXBN3QgAAEvVkE3dCAACGrGYTd0IAABoOrRN3QgAAdjSyE3dCAACkx7QTd0IAADgp+xN3QgAAZrz9E3dCAAAgmP4Td0IAAJRPABR3QgAACAcCFHdCAADC4gIUd0IAAHy+AxR3QgAA8HUFFHdCAACqUQYUd0IAANjkCBR3QgAATJwKFHdCAAAGeAsUd0IAADI28xR3QgAAGqX2FHdCAADUgPcUd0IAAI5c+BR3QgAAAhT6FHdCAACkXv4Ud0IAANLxABV3QgAARqkCFXdCAADECEMVd0IAAAYPVRV3QgAAmOGkFXdCAABSvaUVd0IAAIba+RV3QgAAQtw6F3dCAACeAkAXd0IAADDVjxd3QgAA6rCQF3dCAABeaJIXd0IAABhEkxd3QgAAjPuUF3dCAACWo9MXd0IAAMQ21hd3QgAAlBTdF3dCAAAm5ywYd0IAAN4zNxh3QgAAxqI6GHdCAACaNXgZd0IAAKS6JBp3QgAAXpYlGndCAAAYciYad0IAANJNJxp3QgAAjCkoGndCAABGBSkad0IAAMruuhp3QgAA4PDAGndCAAA4s7Qbd0IAAMZnFxx3QgAAzPFoHHdCAACGzWkcd0IAAAI1/R13QgAAsJOkHndCAAAkS6Yed0IAAN4mpx53QgAAmAKoHndCAABS3qged0IAAAy6qR53QgAAxpWqHndCAACMhU4fd0IAAEZhTx93QgAA/mc1IHdCAAD82D4gd0IAAJA6hSB3QgAA7GCKIHdCAADq0ZMgd0IAAKStlCB3QgAAGGWWIHdCAACMHJggd0IAAEb4mCB3QgAAOA/bIHdCAAB8pOMgd0IAAMbDPSF3QgAAUqOFIndCAADGWocid0IAAHJNyiJ3QgAAhsDZIndCAACk2ycjd0IAANJuKiN3QgAARiYsI3dCAAAGjH4jd0IAAA6lxiN3QgAAyIDHI3dCAACCXMgjd0IAALDvyiN3QgAAUjrPI3dCAADG8dAjd0IAAGpiFSV3QgAA5jJfJXdCAABa6mAld0IAABTGYSV3QgAAzqFiJXdCAACIfWMld0IAAEJZZCV3QgAAEjdrJXdCAADMEmwld0IAAIbubCV3QgAAMuGvJXdCAAACVgAnd0IAANzbRSd3QgAAlrdGJ3dCAAA2c1Qnd0IAAEx1Wid3QgAABlFbJ3dCAADK1Jond0IAADz9pSd3QgAAsLSnJ3dCAADGtq0nd0IAAI41SCh3QgAApDdOKHdCAACSx+wpd0IAAMxukip3QgAAKrvXK3dCAADkltgrd0IAAMwF3Ct3QgAAhuHcK3dCAAAEQR0sd0IAAI76JCx3QgAARkcvLHdCAACUhHYsd0IAAAatgSx3QgAAEFXALHdCAAB8isMtd0IAADZmxC13QgAATGjKLXdCAABECV4ud0IAABJYbi53QgAARnXCLndCAAB8IQ0vd0IAAJIjEy93QgAAEoYBMXdCAAAIL+gyd0IAAJyQLjN3QgAAWNiTM3dCAABS5Ys0d0IAABzzHDV3QgAAdoorNXdCAAAA/g42d0IAALrZDzZ3QgAAdLUQNndCAAAukRE2d0IAAOhsEjZ3QgAAokgTNndCAABcJBQ2d0IAABYAFTZ3QgAA0NsVNndCAACKtxY2d0IAAESTFzZ3QgAA/m4YNndCAAC4Shk2d0IAAHImGjZ3QgAALAIbNndCAADm3Rs2d0IAAKC5HDZ3QgAAWpUdNndCAAAUcR42d0IAAM5MHzZ3QgAA8vG+NndCAADCz8U2d0IAAPBiyDZ3QgAAPBEZN3dCAADeWx03d0IAAEQqYTd3QgAA5OVuN3dCAACSRBY4d0IAAPqhUDh3QgAAtH1ROHdCAABuWVI4d0IAACg1Uzh3QgAA4hBUOHdCAACc7FQ4d0IAAFbIVTh3QgAAEKRWOHdCAADKf1c4d0IAAEpL/Dh3QgAA7JUAOXdCAABgTQI5d0IAABopAzl3QgAA1AQEOXdCAACO4AQ5d0IAAEi8BTl3QgAAvHMHOXdCAAAIIlg5d0IAAML9WDl3QgAAfNlZOXdCAAA2tVo5d0IAAPCQWzl3QgAAqmxcOXdCAABkSF05d0IAAB4kXjl3QgAA2P9eOXdCAAAkrq85d0IAAFjLAzp3QgAAeHVIOndCAADqnVM6d0IAABgxVjp3QgAAcoJAO3dCAABe7J47d0IAAMIr7Dt3QgAAxiZHPHdCAADeTo09d0IAAJpQzj53QgAA5AZyQHdCAABYvnNAd0IAAHbZwUB3QgAAVoCiQndCAAAQXKNCd0IAAEblW0N3QgAAcqNDRHdCAABwFE1Ed0IAAIYWU0R3QgAAXg2iRHdCAAAY6aJEd0IAAEZ8pUR3QgAA5vGORXdCAAASjeRGd0IAANSBLUd3QgAADDEmSXdCAACQGrhJd0IAAEr2uEl3QgAABNK5SXdCAAC+rbpJd0IAAHiJu0l3QgAAMmW8SXdCAABg+L5Jd0IAABrUv0l3QgAA1K/ASXdCAABIZ8JJd0IAAAJDw0l3QgAAvB7ESXdCAAB2+sRJd0IAADDWxUl3QgAApI3HSXdCAABeachJd0IAABhFyUl3QgAA0iDKSXdCAACM/MpJd0IAAEbYy0l3QgAABj4eSndCAACku1pMd0IAAFBF5013QgAAxPzoTXdCAAA4tOpNd0IAAHxJ8013QgAAZLj2TXdCAACC00ROd0IAAPaKRk53QgAAJB5JTndCAADGaE1Od0IAABY1i053QgAAtvCYTndCAABMVY1Qd0IAACRM3FB3QgAA3IBVVHdCAACWXFZUd0IAAFA4V1R3QgAAChRYVHdCAADE71hUd0IAAH7LWVR3QgAAOKdaVHdCAADygltUd0IAAHw8Y1R3QgAAnOanVHdCAABWwqhUd0IAABCeqVR3QgAAhFWrVHdCAACy6K1Ud0IAAGzErlR3QgAAVDOyVHdCAAAOD7NUd0IAAILGtFR3QgAAPKK1VHdCAACwWbdUd0IAAGo1uFR3QgAA3uy5VHdCAABSpLtUd0IAABIKDlV3QgAASkVPVXdCAAAcSZZWd0IAANYkl1Z3QgAACLP0VndCAAB8avZWd0IAAB61+lZ3QgAA2JD7VndCAABCWppXd0IAAJyrhFh3QgAAVoeFWHdCAAAW7ddYd0IAAPzM5Fh3QgAAcITmWHdCAAAcdylZd0IAANI0PVl3QgAAbCDVWXdCAADcc8Vad0IAAJzZF1t3QgAAymwaW3dCAABwsnlbd0IAAEo4v1t3QgAAeMvBW3dCAAAyp8Jbd0IAAOyCw1t3QgAApl7EW3dCAABgOsVbd0IAABoWxlt3QgAAjs3HW3dCAABIqchbd0IAAAKFyVt3QgAAvGDKW3dCAAB2PMtbd0IAADAYzFt3QgAA6vPMW3dCAAAYh89bd0IAANJi0Ft3QgAAjD7RW3dCAABGGtJbd0IAAE4zGlx3QgAASs8IXXdCAADcoVhdd0IAALIJsV13QgAAbOWxXXdCAABUVLVdd0IAADzDuF13QgAA9p65XXdCAABqVrtdd0IAACQyvF13QgAAUsW+XXdCAADGfMBdd0IAADLVVV53QgAApoxXXndCAABgaFhed0IAABpEWV53QgAAvI5dXndCAAAwRl9ed0IAAOohYF53QgAA0pBjXndCAACMbGRed0IAAFwER193QgAAtptVX3dCAACczIdhd0IAAJZwyWN3QgAAklLcY3dCAADGbzBkd0IAAEY71WR3QgAAjoUUZndCAAB+DWBmd0IAAKygYmZ3QgAABjhxZndCAABcjgBnd0IAABZqAWd3QgAAhgMWZ3dCAABCBVdod0IAAByLnGh3QgAA1madaHdCAACQQp5od0IAAEoen2h3QgAABPqfaHdCAAC+1aBod0IAAHixoWh3QgAAMo2iaHdCAACqP/9od0IAAGQbAGl3QgAAHvcAaXdCAADY0gFpd0IAAEyKA2l3QgAABmYEaXdCAACc7Ypqd0IAAFbJi2p3QgAAsu+QandCAAAOFpZqd0IAAMZioGp3QgAAFi/eandCAADQCt9qd0IAAP6d4Wp3QgAAclXjandCAAAsMeRqd0IAAM576Gp3QgAAWDXwandCAAASEfFqd0IAABy5L2t3QgAAUG3NbHdCAADCldhsd0IAAKoE3Gx3QgAAENMfbXdCAAA+ZiJtd0IAACrQgG13QgAAHOfCbXdCAABKEQ9vd0IAAHYVG293QgAA3ONeb3dCAAB+LmNvd0IAADgKZG93QgAAfJ9sb3dCAAAGWXRvd0IAAJxJsW93QgAAgim+b3dCAACGJBlwd0IAABysn3F3QgAAMq6lcXdCAADU+Klxd0IAAJbt8nF3QgAAXN2WcndCAAAsu51yd0IAALZ0pXJ3QgAA5AeocndCAACGUqxyd0I=\",\"dtype\":\"float64\",\"order\":\"little\",\"shape\":[4123]}},\"selected\":{\"id\":\"1375\"},\"selection_policy\":{\"id\":\"1398\"}},\"id\":\"1374\",\"type\":\"ColumnDataSource\"},{\"attributes\":{\"source\":{\"id\":\"1383\"}},\"id\":\"1390\",\"type\":\"CDSView\"},{\"attributes\":{\"coordinates\":null,\"data_source\":{\"id\":\"1383\"},\"glyph\":{\"id\":\"1386\"},\"group\":null,\"hover_glyph\":null,\"muted_glyph\":{\"id\":\"1388\"},\"nonselection_glyph\":{\"id\":\"1387\"},\"selection_glyph\":{\"id\":\"1417\"},\"view\":{\"id\":\"1390\"}},\"id\":\"1389\",\"type\":\"GlyphRenderer\"},{\"attributes\":{\"line_color\":\"lightgray\",\"line_width\":2,\"x\":{\"field\":\"date\"},\"y\":{\"field\":\"close\"}},\"id\":\"1382\",\"type\":\"Line\"},{\"attributes\":{\"months\":[0,2,4,6,8,10]},\"id\":\"1411\",\"type\":\"MonthsTicker\"},{\"attributes\":{},\"id\":\"1398\",\"type\":\"UnionRenderers\"},{\"attributes\":{\"angle\":{\"value\":3.141592653589793},\"fill_alpha\":{\"value\":0.2},\"fill_color\":{\"value\":\"orange\"},\"hatch_alpha\":{\"value\":0.2},\"hatch_color\":{\"value\":\"orange\"},\"line_alpha\":{\"value\":0.2},\"line_color\":{\"value\":\"orange\"},\"marker\":{\"value\":\"triangle\"},\"size\":{\"value\":5.477225575051661},\"x\":{\"field\":\"date\"},\"y\":{\"field\":\"close\"}},\"id\":\"1468\",\"type\":\"Scatter\"},{\"attributes\":{\"coordinates\":null,\"data_source\":{\"id\":\"1374\"},\"glyph\":{\"id\":\"1377\"},\"group\":null,\"hover_glyph\":null,\"muted_glyph\":{\"id\":\"1379\"},\"nonselection_glyph\":{\"id\":\"1378\"},\"selection_glyph\":{\"id\":\"1382\"},\"view\":{\"id\":\"1381\"}},\"id\":\"1380\",\"type\":\"GlyphRenderer\"},{\"attributes\":{\"angle\":{\"value\":3.141592653589793},\"fill_alpha\":{\"value\":0.1},\"fill_color\":{\"value\":\"orange\"},\"hatch_alpha\":{\"value\":0.1},\"hatch_color\":{\"value\":\"orange\"},\"line_alpha\":{\"value\":0.1},\"line_color\":{\"value\":\"orange\"},\"marker\":{\"value\":\"triangle\"},\"size\":{\"value\":5.477225575051661},\"x\":{\"field\":\"date\"},\"y\":{\"field\":\"close\"}},\"id\":\"1467\",\"type\":\"Scatter\"},{\"attributes\":{},\"id\":\"1437\",\"type\":\"UnionRenderers\"},{\"attributes\":{\"click_policy\":\"mute\",\"coordinates\":null,\"group\":null,\"items\":[{\"id\":\"1416\"},{\"id\":\"1452\"}],\"location\":[0,0]},\"id\":\"1415\",\"type\":\"Legend\"},{\"attributes\":{\"source\":{\"id\":\"1418\"}},\"id\":\"1425\",\"type\":\"CDSView\"},{\"attributes\":{\"mantissas\":[1,2,5],\"max_interval\":500.0,\"num_minor_ticks\":0},\"id\":\"1403\",\"type\":\"AdaptiveTicker\"},{\"attributes\":{\"label\":{\"value\":\"SMA_Fast\"},\"renderers\":[{\"id\":\"1389\"}]},\"id\":\"1416\",\"type\":\"LegendItem\"},{\"attributes\":{},\"id\":\"1414\",\"type\":\"YearsTicker\"},{\"attributes\":{\"coordinates\":null,\"group\":null,\"text\":\"VNQ - Short-Position Dual Moving Average Trading Algorithm\",\"text_color\":\"black\",\"text_font_size\":\"12pt\"},\"id\":\"1338\",\"type\":\"Title\"},{\"attributes\":{},\"id\":\"1455\",\"type\":\"Selection\"},{\"attributes\":{\"angle\":{\"value\":3.141592653589793},\"fill_color\":{\"value\":\"orange\"},\"hatch_color\":{\"value\":\"orange\"},\"line_color\":{\"value\":\"orange\"},\"marker\":{\"value\":\"triangle\"},\"size\":{\"value\":5.477225575051661},\"x\":{\"field\":\"date\"},\"y\":{\"field\":\"close\"}},\"id\":\"1466\",\"type\":\"Scatter\"},{\"attributes\":{},\"id\":\"1384\",\"type\":\"Selection\"},{\"attributes\":{\"line_alpha\":0.1,\"line_color\":\"lightgray\",\"line_width\":2,\"x\":{\"field\":\"date\"},\"y\":{\"field\":\"close\"}},\"id\":\"1378\",\"type\":\"Line\"},{\"attributes\":{\"source\":{\"id\":\"1454\"}},\"id\":\"1461\",\"type\":\"CDSView\"},{\"attributes\":{\"axis_label\":\"date\",\"coordinates\":null,\"formatter\":{\"id\":\"1369\"},\"group\":null,\"major_label_policy\":{\"id\":\"1370\"},\"ticker\":{\"id\":\"1347\"}},\"id\":\"1346\",\"type\":\"DatetimeAxis\"},{\"attributes\":{},\"id\":\"1370\",\"type\":\"AllLabels\"},{\"attributes\":{\"margin\":[5,5,5,5],\"name\":\"HSpacer01764\",\"sizing_mode\":\"stretch_width\"},\"id\":\"1502\",\"type\":\"Spacer\"},{\"attributes\":{\"num_minor_ticks\":5,\"tickers\":[{\"id\":\"1403\"},{\"id\":\"1404\"},{\"id\":\"1405\"},{\"id\":\"1406\"},{\"id\":\"1407\"},{\"id\":\"1408\"},{\"id\":\"1409\"},{\"id\":\"1410\"},{\"id\":\"1411\"},{\"id\":\"1412\"},{\"id\":\"1413\"},{\"id\":\"1414\"}]},\"id\":\"1347\",\"type\":\"DatetimeTicker\"},{\"attributes\":{},\"id\":\"1351\",\"type\":\"BasicTicker\"},{\"attributes\":{\"days\":[1,2,3,4,5,6,7,8,9,10,11,12,13,14,15,16,17,18,19,20,21,22,23,24,25,26,27,28,29,30,31]},\"id\":\"1406\",\"type\":\"DaysTicker\"},{\"attributes\":{\"line_color\":\"lightgray\",\"line_width\":2,\"x\":{\"field\":\"date\"},\"y\":{\"field\":\"close\"}},\"id\":\"1377\",\"type\":\"Line\"},{\"attributes\":{\"line_color\":\"#fc4f30\",\"line_width\":2,\"x\":{\"field\":\"date\"},\"y\":{\"field\":\"value\"}},\"id\":\"1417\",\"type\":\"Line\"},{\"attributes\":{},\"id\":\"1344\",\"type\":\"LinearScale\"},{\"attributes\":{\"coordinates\":null,\"data_source\":{\"id\":\"1418\"},\"glyph\":{\"id\":\"1421\"},\"group\":null,\"hover_glyph\":null,\"muted_glyph\":{\"id\":\"1423\"},\"nonselection_glyph\":{\"id\":\"1422\"},\"selection_glyph\":{\"id\":\"1453\"},\"view\":{\"id\":\"1425\"}},\"id\":\"1424\",\"type\":\"GlyphRenderer\"},{\"attributes\":{\"days\":[1,4,7,10,13,16,19,22,25,28]},\"id\":\"1407\",\"type\":\"DaysTicker\"},{\"attributes\":{},\"id\":\"1342\",\"type\":\"LinearScale\"},{\"attributes\":{\"axis_label\":\"Price in $\",\"coordinates\":null,\"formatter\":{\"id\":\"1372\"},\"group\":null,\"major_label_policy\":{\"id\":\"1373\"},\"ticker\":{\"id\":\"1351\"}},\"id\":\"1350\",\"type\":\"LinearAxis\"},{\"attributes\":{\"axis\":{\"id\":\"1346\"},\"coordinates\":null,\"grid_line_color\":null,\"group\":null,\"ticker\":null},\"id\":\"1349\",\"type\":\"Grid\"},{\"attributes\":{\"fill_alpha\":{\"value\":0.1},\"fill_color\":{\"value\":\"purple\"},\"hatch_alpha\":{\"value\":0.1},\"hatch_color\":{\"value\":\"purple\"},\"line_alpha\":{\"value\":0.1},\"line_color\":{\"value\":\"purple\"},\"marker\":{\"value\":\"triangle\"},\"size\":{\"value\":5.477225575051661},\"x\":{\"field\":\"date\"},\"y\":{\"field\":\"close\"}},\"id\":\"1458\",\"type\":\"Scatter\"},{\"attributes\":{\"line_alpha\":0.1,\"line_color\":\"#e5ae38\",\"line_width\":2,\"x\":{\"field\":\"date\"},\"y\":{\"field\":\"value\"}},\"id\":\"1422\",\"type\":\"Line\"},{\"attributes\":{\"axis\":{\"id\":\"1350\"},\"coordinates\":null,\"dimension\":1,\"grid_line_color\":null,\"group\":null,\"ticker\":null},\"id\":\"1353\",\"type\":\"Grid\"},{\"attributes\":{\"line_alpha\":0.2,\"line_color\":\"#e5ae38\",\"line_width\":2,\"x\":{\"field\":\"date\"},\"y\":{\"field\":\"value\"}},\"id\":\"1423\",\"type\":\"Line\"},{\"attributes\":{},\"id\":\"1372\",\"type\":\"BasicTickFormatter\"},{\"attributes\":{\"source\":{\"id\":\"1374\"}},\"id\":\"1381\",\"type\":\"CDSView\"},{\"attributes\":{\"below\":[{\"id\":\"1346\"}],\"center\":[{\"id\":\"1349\"},{\"id\":\"1353\"}],\"height\":400,\"left\":[{\"id\":\"1350\"}],\"margin\":[5,5,5,5],\"min_border_bottom\":10,\"min_border_left\":10,\"min_border_right\":10,\"min_border_top\":10,\"renderers\":[{\"id\":\"1380\"},{\"id\":\"1389\"},{\"id\":\"1424\"},{\"id\":\"1460\"},{\"id\":\"1469\"}],\"right\":[{\"id\":\"1415\"}],\"sizing_mode\":\"fixed\",\"title\":{\"id\":\"1338\"},\"toolbar\":{\"id\":\"1360\"},\"width\":1000,\"x_range\":{\"id\":\"1330\"},\"x_scale\":{\"id\":\"1342\"},\"y_range\":{\"id\":\"1331\"},\"y_scale\":{\"id\":\"1344\"}},\"id\":\"1337\",\"subtype\":\"Figure\",\"type\":\"Plot\"},{\"attributes\":{\"label\":{\"value\":\"SMA_Slow\"},\"renderers\":[{\"id\":\"1424\"}]},\"id\":\"1452\",\"type\":\"LegendItem\"},{\"attributes\":{\"data\":{\"close\":{\"__ndarray__\":\"\",\"dtype\":\"float64\",\"order\":\"little\",\"shape\":[0]},\"date\":{\"__ndarray__\":\"\",\"dtype\":\"float64\",\"order\":\"little\",\"shape\":[0]}},\"selected\":{\"id\":\"1455\"},\"selection_policy\":{\"id\":\"1485\"}},\"id\":\"1454\",\"type\":\"ColumnDataSource\"},{\"attributes\":{\"line_color\":\"#e5ae38\",\"line_width\":2,\"x\":{\"field\":\"date\"},\"y\":{\"field\":\"value\"}},\"id\":\"1453\",\"type\":\"Line\"},{\"attributes\":{},\"id\":\"1375\",\"type\":\"Selection\"},{\"attributes\":{\"coordinates\":null,\"data_source\":{\"id\":\"1463\"},\"glyph\":{\"id\":\"1466\"},\"group\":null,\"hover_glyph\":null,\"muted_glyph\":{\"id\":\"1468\"},\"nonselection_glyph\":{\"id\":\"1467\"},\"selection_glyph\":{\"id\":\"1471\"},\"view\":{\"id\":\"1470\"}},\"id\":\"1469\",\"type\":\"GlyphRenderer\"},{\"attributes\":{},\"id\":\"1464\",\"type\":\"Selection\"},{\"attributes\":{\"source\":{\"id\":\"1463\"}},\"id\":\"1470\",\"type\":\"CDSView\"},{\"attributes\":{},\"id\":\"1354\",\"type\":\"SaveTool\"},{\"attributes\":{\"base\":24,\"mantissas\":[1,2,4,6,8,12],\"max_interval\":43200000.0,\"min_interval\":3600000.0,\"num_minor_ticks\":0},\"id\":\"1405\",\"type\":\"AdaptiveTicker\"},{\"attributes\":{\"days\":[1,8,15,22]},\"id\":\"1408\",\"type\":\"DaysTicker\"},{\"attributes\":{\"months\":[0,1,2,3,4,5,6,7,8,9,10,11]},\"id\":\"1410\",\"type\":\"MonthsTicker\"},{\"attributes\":{\"line_color\":\"#fc4f30\",\"line_width\":2,\"x\":{\"field\":\"date\"},\"y\":{\"field\":\"value\"}},\"id\":\"1386\",\"type\":\"Line\"},{\"attributes\":{},\"id\":\"1355\",\"type\":\"PanTool\"},{\"attributes\":{},\"id\":\"1419\",\"type\":\"Selection\"},{\"attributes\":{\"overlay\":{\"id\":\"1359\"}},\"id\":\"1357\",\"type\":\"BoxZoomTool\"},{\"attributes\":{},\"id\":\"1356\",\"type\":\"WheelZoomTool\"},{\"attributes\":{\"line_alpha\":0.2,\"line_color\":\"#fc4f30\",\"line_width\":2,\"x\":{\"field\":\"date\"},\"y\":{\"field\":\"value\"}},\"id\":\"1388\",\"type\":\"Line\"},{\"attributes\":{\"fill_alpha\":{\"value\":0.2},\"fill_color\":{\"value\":\"purple\"},\"hatch_alpha\":{\"value\":0.2},\"hatch_color\":{\"value\":\"purple\"},\"line_alpha\":{\"value\":0.2},\"line_color\":{\"value\":\"purple\"},\"marker\":{\"value\":\"triangle\"},\"size\":{\"value\":5.477225575051661},\"x\":{\"field\":\"date\"},\"y\":{\"field\":\"close\"}},\"id\":\"1459\",\"type\":\"Scatter\"},{\"attributes\":{\"base\":60,\"mantissas\":[1,2,5,10,15,20,30],\"max_interval\":1800000.0,\"min_interval\":1000.0,\"num_minor_ticks\":0},\"id\":\"1404\",\"type\":\"AdaptiveTicker\"},{\"attributes\":{\"fill_color\":{\"value\":\"purple\"},\"hatch_color\":{\"value\":\"purple\"},\"line_color\":{\"value\":\"purple\"},\"marker\":{\"value\":\"triangle\"},\"size\":{\"value\":5.477225575051661},\"x\":{\"field\":\"date\"},\"y\":{\"field\":\"close\"}},\"id\":\"1457\",\"type\":\"Scatter\"},{\"attributes\":{\"callback\":null,\"formatters\":{\"@{date}\":\"datetime\"},\"renderers\":[{\"id\":\"1380\"},{\"id\":\"1460\"},{\"id\":\"1469\"}],\"tags\":[\"hv_created\"],\"tooltips\":[[\"date\",\"@{date}{%F %T}\"],[\"close\",\"@{close}\"]]},\"id\":\"1332\",\"type\":\"HoverTool\"},{\"attributes\":{\"children\":[{\"id\":\"1329\"},{\"id\":\"1337\"},{\"id\":\"1502\"}],\"margin\":[0,0,0,0],\"name\":\"Row01759\",\"tags\":[\"embedded\"]},\"id\":\"1328\",\"type\":\"Row\"},{\"attributes\":{},\"id\":\"1358\",\"type\":\"ResetTool\"},{\"attributes\":{},\"id\":\"1373\",\"type\":\"AllLabels\"},{\"attributes\":{\"margin\":[5,5,5,5],\"name\":\"HSpacer01763\",\"sizing_mode\":\"stretch_width\"},\"id\":\"1329\",\"type\":\"Spacer\"},{\"attributes\":{},\"id\":\"1369\",\"type\":\"DatetimeTickFormatter\"},{\"attributes\":{\"data\":{\"Variable\":[\"SMA_Slow\",\"SMA_Slow\",\"SMA_Slow\",\"SMA_Slow\",\"SMA_Slow\",\"SMA_Slow\",\"SMA_Slow\",\"SMA_Slow\",\"SMA_Slow\",\"SMA_Slow\",\"SMA_Slow\",\"SMA_Slow\",\"SMA_Slow\",\"SMA_Slow\",\"SMA_Slow\",\"SMA_Slow\",\"SMA_Slow\",\"SMA_Slow\",\"SMA_Slow\",\"SMA_Slow\",\"SMA_Slow\",\"SMA_Slow\",\"SMA_Slow\",\"SMA_Slow\",\"SMA_Slow\",\"SMA_Slow\",\"SMA_Slow\",\"SMA_Slow\",\"SMA_Slow\",\"SMA_Slow\",\"SMA_Slow\",\"SMA_Slow\",\"SMA_Slow\",\"SMA_Slow\",\"SMA_Slow\",\"SMA_Slow\",\"SMA_Slow\",\"SMA_Slow\",\"SMA_Slow\",\"SMA_Slow\",\"SMA_Slow\",\"SMA_Slow\",\"SMA_Slow\",\"SMA_Slow\",\"SMA_Slow\",\"SMA_Slow\",\"SMA_Slow\",\"SMA_Slow\",\"SMA_Slow\",\"SMA_Slow\",\"SMA_Slow\",\"SMA_Slow\",\"SMA_Slow\",\"SMA_Slow\",\"SMA_Slow\",\"SMA_Slow\",\"SMA_Slow\",\"SMA_Slow\",\"SMA_Slow\",\"SMA_Slow\",\"SMA_Slow\",\"SMA_Slow\",\"SMA_Slow\",\"SMA_Slow\",\"SMA_Slow\",\"SMA_Slow\",\"SMA_Slow\",\"SMA_Slow\",\"SMA_Slow\",\"SMA_Slow\",\"SMA_Slow\",\"SMA_Slow\",\"SMA_Slow\",\"SMA_Slow\",\"SMA_Slow\",\"SMA_Slow\",\"SMA_Slow\",\"SMA_Slow\",\"SMA_Slow\",\"SMA_Slow\",\"SMA_Slow\",\"SMA_Slow\",\"SMA_Slow\",\"SMA_Slow\",\"SMA_Slow\",\"SMA_Slow\",\"SMA_Slow\",\"SMA_Slow\",\"SMA_Slow\",\"SMA_Slow\",\"SMA_Slow\",\"SMA_Slow\",\"SMA_Slow\",\"SMA_Slow\",\"SMA_Slow\",\"SMA_Slow\",\"SMA_Slow\",\"SMA_Slow\",\"SMA_Slow\",\"SMA_Slow\",\"SMA_Slow\",\"SMA_Slow\",\"SMA_Slow\",\"SMA_Slow\",\"SMA_Slow\",\"SMA_Slow\",\"SMA_Slow\",\"SMA_Slow\",\"SMA_Slow\",\"SMA_Slow\",\"SMA_Slow\",\"SMA_Slow\",\"SMA_Slow\",\"SMA_Slow\",\"SMA_Slow\",\"SMA_Slow\",\"SMA_Slow\",\"SMA_Slow\",\"SMA_Slow\",\"SMA_Slow\",\"SMA_Slow\",\"SMA_Slow\",\"SMA_Slow\",\"SMA_Slow\",\"SMA_Slow\",\"SMA_Slow\",\"SMA_Slow\",\"SMA_Slow\",\"SMA_Slow\",\"SMA_Slow\",\"SMA_Slow\",\"SMA_Slow\",\"SMA_Slow\",\"SMA_Slow\",\"SMA_Slow\",\"SMA_Slow\",\"SMA_Slow\",\"SMA_Slow\",\"SMA_Slow\",\"SMA_Slow\",\"SMA_Slow\",\"SMA_Slow\",\"SMA_Slow\",\"SMA_Slow\",\"SMA_Slow\",\"SMA_Slow\",\"SMA_Slow\",\"SMA_Slow\",\"SMA_Slow\",\"SMA_Slow\",\"SMA_Slow\",\"SMA_Slow\",\"SMA_Slow\",\"SMA_Slow\",\"SMA_Slow\",\"SMA_Slow\",\"SMA_Slow\",\"SMA_Slow\",\"SMA_Slow\",\"SMA_Slow\",\"SMA_Slow\",\"SMA_Slow\",\"SMA_Slow\",\"SMA_Slow\",\"SMA_Slow\",\"SMA_Slow\",\"SMA_Slow\",\"SMA_Slow\",\"SMA_Slow\",\"SMA_Slow\",\"SMA_Slow\",\"SMA_Slow\",\"SMA_Slow\",\"SMA_Slow\",\"SMA_Slow\",\"SMA_Slow\",\"SMA_Slow\",\"SMA_Slow\",\"SMA_Slow\",\"SMA_Slow\",\"SMA_Slow\",\"SMA_Slow\",\"SMA_Slow\",\"SMA_Slow\",\"SMA_Slow\",\"SMA_Slow\",\"SMA_Slow\",\"SMA_Slow\",\"SMA_Slow\",\"SMA_Slow\",\"SMA_Slow\",\"SMA_Slow\",\"SMA_Slow\",\"SMA_Slow\",\"SMA_Slow\",\"SMA_Slow\",\"SMA_Slow\",\"SMA_Slow\",\"SMA_Slow\",\"SMA_Slow\",\"SMA_Slow\",\"SMA_Slow\",\"SMA_Slow\",\"SMA_Slow\",\"SMA_Slow\",\"SMA_Slow\",\"SMA_Slow\",\"SMA_Slow\",\"SMA_Slow\",\"SMA_Slow\",\"SMA_Slow\",\"SMA_Slow\",\"SMA_Slow\",\"SMA_Slow\",\"SMA_Slow\",\"SMA_Slow\",\"SMA_Slow\",\"SMA_Slow\",\"SMA_Slow\",\"SMA_Slow\",\"SMA_Slow\",\"SMA_Slow\",\"SMA_Slow\",\"SMA_Slow\",\"SMA_Slow\",\"SMA_Slow\",\"SMA_Slow\",\"SMA_Slow\",\"SMA_Slow\",\"SMA_Slow\",\"SMA_Slow\",\"SMA_Slow\",\"SMA_Slow\",\"SMA_Slow\",\"SMA_Slow\",\"SMA_Slow\",\"SMA_Slow\",\"SMA_Slow\",\"SMA_Slow\",\"SMA_Slow\",\"SMA_Slow\",\"SMA_Slow\",\"SMA_Slow\",\"SMA_Slow\",\"SMA_Slow\",\"SMA_Slow\",\"SMA_Slow\",\"SMA_Slow\",\"SMA_Slow\",\"SMA_Slow\",\"SMA_Slow\",\"SMA_Slow\",\"SMA_Slow\",\"SMA_Slow\",\"SMA_Slow\",\"SMA_Slow\",\"SMA_Slow\",\"SMA_Slow\",\"SMA_Slow\",\"SMA_Slow\",\"SMA_Slow\",\"SMA_Slow\",\"SMA_Slow\",\"SMA_Slow\",\"SMA_Slow\",\"SMA_Slow\",\"SMA_Slow\",\"SMA_Slow\",\"SMA_Slow\",\"SMA_Slow\",\"SMA_Slow\",\"SMA_Slow\",\"SMA_Slow\",\"SMA_Slow\",\"SMA_Slow\",\"SMA_Slow\",\"SMA_Slow\",\"SMA_Slow\",\"SMA_Slow\",\"SMA_Slow\",\"SMA_Slow\",\"SMA_Slow\",\"SMA_Slow\",\"SMA_Slow\",\"SMA_Slow\",\"SMA_Slow\",\"SMA_Slow\",\"SMA_Slow\",\"SMA_Slow\",\"SMA_Slow\",\"SMA_Slow\",\"SMA_Slow\",\"SMA_Slow\",\"SMA_Slow\",\"SMA_Slow\",\"SMA_Slow\",\"SMA_Slow\",\"SMA_Slow\",\"SMA_Slow\",\"SMA_Slow\",\"SMA_Slow\",\"SMA_Slow\",\"SMA_Slow\",\"SMA_Slow\",\"SMA_Slow\",\"SMA_Slow\",\"SMA_Slow\",\"SMA_Slow\",\"SMA_Slow\",\"SMA_Slow\",\"SMA_Slow\",\"SMA_Slow\",\"SMA_Slow\",\"SMA_Slow\",\"SMA_Slow\",\"SMA_Slow\",\"SMA_Slow\",\"SMA_Slow\",\"SMA_Slow\",\"SMA_Slow\",\"SMA_Slow\",\"SMA_Slow\",\"SMA_Slow\",\"SMA_Slow\",\"SMA_Slow\",\"SMA_Slow\",\"SMA_Slow\",\"SMA_Slow\",\"SMA_Slow\",\"SMA_Slow\",\"SMA_Slow\",\"SMA_Slow\",\"SMA_Slow\",\"SMA_Slow\",\"SMA_Slow\",\"SMA_Slow\",\"SMA_Slow\",\"SMA_Slow\",\"SMA_Slow\",\"SMA_Slow\",\"SMA_Slow\",\"SMA_Slow\",\"SMA_Slow\",\"SMA_Slow\",\"SMA_Slow\",\"SMA_Slow\",\"SMA_Slow\",\"SMA_Slow\",\"SMA_Slow\",\"SMA_Slow\",\"SMA_Slow\",\"SMA_Slow\",\"SMA_Slow\",\"SMA_Slow\",\"SMA_Slow\",\"SMA_Slow\",\"SMA_Slow\",\"SMA_Slow\",\"SMA_Slow\",\"SMA_Slow\",\"SMA_Slow\",\"SMA_Slow\",\"SMA_Slow\",\"SMA_Slow\",\"SMA_Slow\",\"SMA_Slow\",\"SMA_Slow\",\"SMA_Slow\",\"SMA_Slow\",\"SMA_Slow\",\"SMA_Slow\",\"SMA_Slow\",\"SMA_Slow\",\"SMA_Slow\",\"SMA_Slow\",\"SMA_Slow\",\"SMA_Slow\",\"SMA_Slow\",\"SMA_Slow\",\"SMA_Slow\",\"SMA_Slow\",\"SMA_Slow\",\"SMA_Slow\",\"SMA_Slow\",\"SMA_Slow\",\"SMA_Slow\",\"SMA_Slow\",\"SMA_Slow\",\"SMA_Slow\",\"SMA_Slow\",\"SMA_Slow\",\"SMA_Slow\",\"SMA_Slow\",\"SMA_Slow\",\"SMA_Slow\",\"SMA_Slow\",\"SMA_Slow\",\"SMA_Slow\",\"SMA_Slow\",\"SMA_Slow\",\"SMA_Slow\",\"SMA_Slow\",\"SMA_Slow\",\"SMA_Slow\",\"SMA_Slow\",\"SMA_Slow\",\"SMA_Slow\",\"SMA_Slow\",\"SMA_Slow\",\"SMA_Slow\",\"SMA_Slow\",\"SMA_Slow\",\"SMA_Slow\",\"SMA_Slow\",\"SMA_Slow\",\"SMA_Slow\",\"SMA_Slow\",\"SMA_Slow\",\"SMA_Slow\",\"SMA_Slow\",\"SMA_Slow\",\"SMA_Slow\",\"SMA_Slow\",\"SMA_Slow\",\"SMA_Slow\",\"SMA_Slow\",\"SMA_Slow\",\"SMA_Slow\",\"SMA_Slow\",\"SMA_Slow\",\"SMA_Slow\",\"SMA_Slow\",\"SMA_Slow\",\"SMA_Slow\",\"SMA_Slow\",\"SMA_Slow\",\"SMA_Slow\",\"SMA_Slow\",\"SMA_Slow\",\"SMA_Slow\",\"SMA_Slow\",\"SMA_Slow\",\"SMA_Slow\",\"SMA_Slow\",\"SMA_Slow\",\"SMA_Slow\",\"SMA_Slow\",\"SMA_Slow\",\"SMA_Slow\",\"SMA_Slow\",\"SMA_Slow\",\"SMA_Slow\",\"SMA_Slow\",\"SMA_Slow\",\"SMA_Slow\",\"SMA_Slow\",\"SMA_Slow\",\"SMA_Slow\",\"SMA_Slow\",\"SMA_Slow\",\"SMA_Slow\",\"SMA_Slow\",\"SMA_Slow\",\"SMA_Slow\",\"SMA_Slow\",\"SMA_Slow\",\"SMA_Slow\",\"SMA_Slow\",\"SMA_Slow\",\"SMA_Slow\",\"SMA_Slow\",\"SMA_Slow\",\"SMA_Slow\",\"SMA_Slow\",\"SMA_Slow\",\"SMA_Slow\",\"SMA_Slow\",\"SMA_Slow\",\"SMA_Slow\",\"SMA_Slow\",\"SMA_Slow\",\"SMA_Slow\",\"SMA_Slow\",\"SMA_Slow\",\"SMA_Slow\",\"SMA_Slow\",\"SMA_Slow\",\"SMA_Slow\",\"SMA_Slow\",\"SMA_Slow\",\"SMA_Slow\",\"SMA_Slow\",\"SMA_Slow\",\"SMA_Slow\",\"SMA_Slow\",\"SMA_Slow\",\"SMA_Slow\",\"SMA_Slow\",\"SMA_Slow\",\"SMA_Slow\",\"SMA_Slow\",\"SMA_Slow\",\"SMA_Slow\",\"SMA_Slow\",\"SMA_Slow\",\"SMA_Slow\",\"SMA_Slow\",\"SMA_Slow\",\"SMA_Slow\",\"SMA_Slow\",\"SMA_Slow\",\"SMA_Slow\",\"SMA_Slow\",\"SMA_Slow\",\"SMA_Slow\",\"SMA_Slow\",\"SMA_Slow\",\"SMA_Slow\",\"SMA_Slow\",\"SMA_Slow\",\"SMA_Slow\",\"SMA_Slow\",\"SMA_Slow\",\"SMA_Slow\",\"SMA_Slow\",\"SMA_Slow\",\"SMA_Slow\",\"SMA_Slow\",\"SMA_Slow\",\"SMA_Slow\",\"SMA_Slow\",\"SMA_Slow\",\"SMA_Slow\",\"SMA_Slow\",\"SMA_Slow\",\"SMA_Slow\",\"SMA_Slow\",\"SMA_Slow\",\"SMA_Slow\",\"SMA_Slow\",\"SMA_Slow\",\"SMA_Slow\",\"SMA_Slow\",\"SMA_Slow\",\"SMA_Slow\",\"SMA_Slow\",\"SMA_Slow\",\"SMA_Slow\",\"SMA_Slow\",\"SMA_Slow\",\"SMA_Slow\",\"SMA_Slow\",\"SMA_Slow\",\"SMA_Slow\",\"SMA_Slow\",\"SMA_Slow\",\"SMA_Slow\",\"SMA_Slow\",\"SMA_Slow\",\"SMA_Slow\",\"SMA_Slow\",\"SMA_Slow\",\"SMA_Slow\",\"SMA_Slow\",\"SMA_Slow\",\"SMA_Slow\",\"SMA_Slow\",\"SMA_Slow\",\"SMA_Slow\",\"SMA_Slow\",\"SMA_Slow\",\"SMA_Slow\",\"SMA_Slow\",\"SMA_Slow\",\"SMA_Slow\",\"SMA_Slow\",\"SMA_Slow\",\"SMA_Slow\",\"SMA_Slow\",\"SMA_Slow\",\"SMA_Slow\",\"SMA_Slow\",\"SMA_Slow\",\"SMA_Slow\",\"SMA_Slow\",\"SMA_Slow\",\"SMA_Slow\",\"SMA_Slow\",\"SMA_Slow\",\"SMA_Slow\",\"SMA_Slow\",\"SMA_Slow\",\"SMA_Slow\",\"SMA_Slow\",\"SMA_Slow\",\"SMA_Slow\",\"SMA_Slow\",\"SMA_Slow\",\"SMA_Slow\",\"SMA_Slow\",\"SMA_Slow\",\"SMA_Slow\",\"SMA_Slow\",\"SMA_Slow\",\"SMA_Slow\",\"SMA_Slow\",\"SMA_Slow\",\"SMA_Slow\",\"SMA_Slow\",\"SMA_Slow\",\"SMA_Slow\",\"SMA_Slow\",\"SMA_Slow\",\"SMA_Slow\",\"SMA_Slow\",\"SMA_Slow\",\"SMA_Slow\",\"SMA_Slow\",\"SMA_Slow\",\"SMA_Slow\",\"SMA_Slow\",\"SMA_Slow\",\"SMA_Slow\",\"SMA_Slow\",\"SMA_Slow\",\"SMA_Slow\",\"SMA_Slow\",\"SMA_Slow\",\"SMA_Slow\",\"SMA_Slow\",\"SMA_Slow\",\"SMA_Slow\",\"SMA_Slow\",\"SMA_Slow\",\"SMA_Slow\",\"SMA_Slow\",\"SMA_Slow\",\"SMA_Slow\",\"SMA_Slow\",\"SMA_Slow\",\"SMA_Slow\",\"SMA_Slow\",\"SMA_Slow\",\"SMA_Slow\",\"SMA_Slow\",\"SMA_Slow\",\"SMA_Slow\",\"SMA_Slow\",\"SMA_Slow\",\"SMA_Slow\",\"SMA_Slow\",\"SMA_Slow\",\"SMA_Slow\",\"SMA_Slow\",\"SMA_Slow\",\"SMA_Slow\",\"SMA_Slow\",\"SMA_Slow\",\"SMA_Slow\",\"SMA_Slow\",\"SMA_Slow\",\"SMA_Slow\",\"SMA_Slow\",\"SMA_Slow\",\"SMA_Slow\",\"SMA_Slow\",\"SMA_Slow\",\"SMA_Slow\",\"SMA_Slow\",\"SMA_Slow\",\"SMA_Slow\",\"SMA_Slow\",\"SMA_Slow\",\"SMA_Slow\",\"SMA_Slow\",\"SMA_Slow\",\"SMA_Slow\",\"SMA_Slow\",\"SMA_Slow\",\"SMA_Slow\",\"SMA_Slow\",\"SMA_Slow\",\"SMA_Slow\",\"SMA_Slow\",\"SMA_Slow\",\"SMA_Slow\",\"SMA_Slow\",\"SMA_Slow\",\"SMA_Slow\",\"SMA_Slow\",\"SMA_Slow\",\"SMA_Slow\",\"SMA_Slow\",\"SMA_Slow\",\"SMA_Slow\",\"SMA_Slow\",\"SMA_Slow\",\"SMA_Slow\",\"SMA_Slow\",\"SMA_Slow\",\"SMA_Slow\",\"SMA_Slow\",\"SMA_Slow\",\"SMA_Slow\",\"SMA_Slow\",\"SMA_Slow\",\"SMA_Slow\",\"SMA_Slow\",\"SMA_Slow\",\"SMA_Slow\",\"SMA_Slow\",\"SMA_Slow\",\"SMA_Slow\",\"SMA_Slow\",\"SMA_Slow\",\"SMA_Slow\",\"SMA_Slow\",\"SMA_Slow\",\"SMA_Slow\",\"SMA_Slow\",\"SMA_Slow\",\"SMA_Slow\",\"SMA_Slow\",\"SMA_Slow\",\"SMA_Slow\",\"SMA_Slow\",\"SMA_Slow\",\"SMA_Slow\",\"SMA_Slow\",\"SMA_Slow\",\"SMA_Slow\",\"SMA_Slow\",\"SMA_Slow\",\"SMA_Slow\",\"SMA_Slow\",\"SMA_Slow\",\"SMA_Slow\",\"SMA_Slow\",\"SMA_Slow\",\"SMA_Slow\",\"SMA_Slow\",\"SMA_Slow\",\"SMA_Slow\",\"SMA_Slow\",\"SMA_Slow\",\"SMA_Slow\",\"SMA_Slow\",\"SMA_Slow\",\"SMA_Slow\",\"SMA_Slow\",\"SMA_Slow\",\"SMA_Slow\",\"SMA_Slow\",\"SMA_Slow\",\"SMA_Slow\",\"SMA_Slow\",\"SMA_Slow\",\"SMA_Slow\",\"SMA_Slow\",\"SMA_Slow\",\"SMA_Slow\",\"SMA_Slow\",\"SMA_Slow\",\"SMA_Slow\",\"SMA_Slow\",\"SMA_Slow\",\"SMA_Slow\",\"SMA_Slow\",\"SMA_Slow\",\"SMA_Slow\",\"SMA_Slow\",\"SMA_Slow\",\"SMA_Slow\",\"SMA_Slow\",\"SMA_Slow\",\"SMA_Slow\",\"SMA_Slow\",\"SMA_Slow\",\"SMA_Slow\",\"SMA_Slow\",\"SMA_Slow\",\"SMA_Slow\",\"SMA_Slow\",\"SMA_Slow\",\"SMA_Slow\",\"SMA_Slow\",\"SMA_Slow\",\"SMA_Slow\",\"SMA_Slow\",\"SMA_Slow\",\"SMA_Slow\",\"SMA_Slow\",\"SMA_Slow\",\"SMA_Slow\",\"SMA_Slow\",\"SMA_Slow\",\"SMA_Slow\",\"SMA_Slow\",\"SMA_Slow\",\"SMA_Slow\",\"SMA_Slow\",\"SMA_Slow\",\"SMA_Slow\",\"SMA_Slow\",\"SMA_Slow\",\"SMA_Slow\",\"SMA_Slow\",\"SMA_Slow\",\"SMA_Slow\",\"SMA_Slow\",\"SMA_Slow\",\"SMA_Slow\",\"SMA_Slow\",\"SMA_Slow\",\"SMA_Slow\",\"SMA_Slow\",\"SMA_Slow\",\"SMA_Slow\",\"SMA_Slow\",\"SMA_Slow\",\"SMA_Slow\",\"SMA_Slow\",\"SMA_Slow\",\"SMA_Slow\",\"SMA_Slow\",\"SMA_Slow\",\"SMA_Slow\",\"SMA_Slow\",\"SMA_Slow\",\"SMA_Slow\",\"SMA_Slow\",\"SMA_Slow\",\"SMA_Slow\",\"SMA_Slow\",\"SMA_Slow\",\"SMA_Slow\",\"SMA_Slow\",\"SMA_Slow\",\"SMA_Slow\",\"SMA_Slow\",\"SMA_Slow\",\"SMA_Slow\",\"SMA_Slow\",\"SMA_Slow\",\"SMA_Slow\",\"SMA_Slow\",\"SMA_Slow\",\"SMA_Slow\",\"SMA_Slow\",\"SMA_Slow\",\"SMA_Slow\",\"SMA_Slow\",\"SMA_Slow\",\"SMA_Slow\",\"SMA_Slow\",\"SMA_Slow\",\"SMA_Slow\",\"SMA_Slow\",\"SMA_Slow\",\"SMA_Slow\",\"SMA_Slow\",\"SMA_Slow\",\"SMA_Slow\",\"SMA_Slow\",\"SMA_Slow\",\"SMA_Slow\",\"SMA_Slow\",\"SMA_Slow\",\"SMA_Slow\",\"SMA_Slow\",\"SMA_Slow\",\"SMA_Slow\",\"SMA_Slow\",\"SMA_Slow\",\"SMA_Slow\",\"SMA_Slow\",\"SMA_Slow\",\"SMA_Slow\",\"SMA_Slow\",\"SMA_Slow\",\"SMA_Slow\",\"SMA_Slow\",\"SMA_Slow\",\"SMA_Slow\",\"SMA_Slow\",\"SMA_Slow\",\"SMA_Slow\",\"SMA_Slow\",\"SMA_Slow\",\"SMA_Slow\",\"SMA_Slow\",\"SMA_Slow\",\"SMA_Slow\",\"SMA_Slow\",\"SMA_Slow\",\"SMA_Slow\",\"SMA_Slow\",\"SMA_Slow\",\"SMA_Slow\",\"SMA_Slow\",\"SMA_Slow\",\"SMA_Slow\",\"SMA_Slow\",\"SMA_Slow\",\"SMA_Slow\",\"SMA_Slow\",\"SMA_Slow\",\"SMA_Slow\",\"SMA_Slow\",\"SMA_Slow\",\"SMA_Slow\",\"SMA_Slow\",\"SMA_Slow\",\"SMA_Slow\",\"SMA_Slow\",\"SMA_Slow\",\"SMA_Slow\",\"SMA_Slow\",\"SMA_Slow\",\"SMA_Slow\",\"SMA_Slow\",\"SMA_Slow\",\"SMA_Slow\",\"SMA_Slow\",\"SMA_Slow\",\"SMA_Slow\",\"SMA_Slow\",\"SMA_Slow\",\"SMA_Slow\",\"SMA_Slow\",\"SMA_Slow\",\"SMA_Slow\",\"SMA_Slow\",\"SMA_Slow\",\"SMA_Slow\",\"SMA_Slow\",\"SMA_Slow\",\"SMA_Slow\",\"SMA_Slow\",\"SMA_Slow\",\"SMA_Slow\",\"SMA_Slow\",\"SMA_Slow\",\"SMA_Slow\",\"SMA_Slow\",\"SMA_Slow\",\"SMA_Slow\",\"SMA_Slow\",\"SMA_Slow\",\"SMA_Slow\",\"SMA_Slow\",\"SMA_Slow\",\"SMA_Slow\",\"SMA_Slow\",\"SMA_Slow\",\"SMA_Slow\",\"SMA_Slow\",\"SMA_Slow\",\"SMA_Slow\",\"SMA_Slow\",\"SMA_Slow\",\"SMA_Slow\",\"SMA_Slow\",\"SMA_Slow\",\"SMA_Slow\",\"SMA_Slow\",\"SMA_Slow\",\"SMA_Slow\",\"SMA_Slow\",\"SMA_Slow\",\"SMA_Slow\",\"SMA_Slow\",\"SMA_Slow\",\"SMA_Slow\",\"SMA_Slow\",\"SMA_Slow\",\"SMA_Slow\",\"SMA_Slow\",\"SMA_Slow\",\"SMA_Slow\",\"SMA_Slow\",\"SMA_Slow\",\"SMA_Slow\",\"SMA_Slow\",\"SMA_Slow\",\"SMA_Slow\",\"SMA_Slow\",\"SMA_Slow\",\"SMA_Slow\",\"SMA_Slow\",\"SMA_Slow\",\"SMA_Slow\",\"SMA_Slow\",\"SMA_Slow\",\"SMA_Slow\",\"SMA_Slow\",\"SMA_Slow\",\"SMA_Slow\",\"SMA_Slow\",\"SMA_Slow\",\"SMA_Slow\",\"SMA_Slow\",\"SMA_Slow\",\"SMA_Slow\",\"SMA_Slow\",\"SMA_Slow\",\"SMA_Slow\",\"SMA_Slow\",\"SMA_Slow\",\"SMA_Slow\",\"SMA_Slow\",\"SMA_Slow\",\"SMA_Slow\",\"SMA_Slow\",\"SMA_Slow\",\"SMA_Slow\",\"SMA_Slow\",\"SMA_Slow\",\"SMA_Slow\",\"SMA_Slow\",\"SMA_Slow\",\"SMA_Slow\",\"SMA_Slow\",\"SMA_Slow\",\"SMA_Slow\",\"SMA_Slow\",\"SMA_Slow\",\"SMA_Slow\",\"SMA_Slow\",\"SMA_Slow\",\"SMA_Slow\",\"SMA_Slow\",\"SMA_Slow\",\"SMA_Slow\",\"SMA_Slow\",\"SMA_Slow\",\"SMA_Slow\",\"SMA_Slow\",\"SMA_Slow\",\"SMA_Slow\",\"SMA_Slow\",\"SMA_Slow\",\"SMA_Slow\",\"SMA_Slow\",\"SMA_Slow\",\"SMA_Slow\",\"SMA_Slow\",\"SMA_Slow\",\"SMA_Slow\",\"SMA_Slow\",\"SMA_Slow\",\"SMA_Slow\",\"SMA_Slow\",\"SMA_Slow\",\"SMA_Slow\",\"SMA_Slow\",\"SMA_Slow\",\"SMA_Slow\",\"SMA_Slow\",\"SMA_Slow\",\"SMA_Slow\",\"SMA_Slow\",\"SMA_Slow\",\"SMA_Slow\",\"SMA_Slow\",\"SMA_Slow\",\"SMA_Slow\",\"SMA_Slow\",\"SMA_Slow\",\"SMA_Slow\",\"SMA_Slow\",\"SMA_Slow\",\"SMA_Slow\",\"SMA_Slow\",\"SMA_Slow\",\"SMA_Slow\",\"SMA_Slow\",\"SMA_Slow\",\"SMA_Slow\",\"SMA_Slow\",\"SMA_Slow\",\"SMA_Slow\",\"SMA_Slow\",\"SMA_Slow\",\"SMA_Slow\",\"SMA_Slow\",\"SMA_Slow\",\"SMA_Slow\",\"SMA_Slow\",\"SMA_Slow\",\"SMA_Slow\",\"SMA_Slow\",\"SMA_Slow\",\"SMA_Slow\",\"SMA_Slow\",\"SMA_Slow\",\"SMA_Slow\",\"SMA_Slow\",\"SMA_Slow\",\"SMA_Slow\",\"SMA_Slow\",\"SMA_Slow\",\"SMA_Slow\",\"SMA_Slow\",\"SMA_Slow\",\"SMA_Slow\",\"SMA_Slow\",\"SMA_Slow\",\"SMA_Slow\",\"SMA_Slow\",\"SMA_Slow\",\"SMA_Slow\",\"SMA_Slow\",\"SMA_Slow\",\"SMA_Slow\",\"SMA_Slow\",\"SMA_Slow\",\"SMA_Slow\",\"SMA_Slow\",\"SMA_Slow\",\"SMA_Slow\",\"SMA_Slow\",\"SMA_Slow\",\"SMA_Slow\",\"SMA_Slow\",\"SMA_Slow\",\"SMA_Slow\",\"SMA_Slow\",\"SMA_Slow\",\"SMA_Slow\",\"SMA_Slow\",\"SMA_Slow\",\"SMA_Slow\",\"SMA_Slow\",\"SMA_Slow\",\"SMA_Slow\",\"SMA_Slow\",\"SMA_Slow\",\"SMA_Slow\",\"SMA_Slow\",\"SMA_Slow\",\"SMA_Slow\",\"SMA_Slow\",\"SMA_Slow\",\"SMA_Slow\",\"SMA_Slow\",\"SMA_Slow\",\"SMA_Slow\",\"SMA_Slow\",\"SMA_Slow\",\"SMA_Slow\",\"SMA_Slow\",\"SMA_Slow\",\"SMA_Slow\",\"SMA_Slow\",\"SMA_Slow\",\"SMA_Slow\",\"SMA_Slow\",\"SMA_Slow\",\"SMA_Slow\",\"SMA_Slow\",\"SMA_Slow\",\"SMA_Slow\",\"SMA_Slow\",\"SMA_Slow\",\"SMA_Slow\",\"SMA_Slow\",\"SMA_Slow\",\"SMA_Slow\",\"SMA_Slow\",\"SMA_Slow\",\"SMA_Slow\",\"SMA_Slow\",\"SMA_Slow\",\"SMA_Slow\",\"SMA_Slow\",\"SMA_Slow\",\"SMA_Slow\",\"SMA_Slow\",\"SMA_Slow\",\"SMA_Slow\",\"SMA_Slow\",\"SMA_Slow\",\"SMA_Slow\",\"SMA_Slow\",\"SMA_Slow\",\"SMA_Slow\",\"SMA_Slow\",\"SMA_Slow\",\"SMA_Slow\",\"SMA_Slow\",\"SMA_Slow\",\"SMA_Slow\",\"SMA_Slow\",\"SMA_Slow\",\"SMA_Slow\",\"SMA_Slow\",\"SMA_Slow\",\"SMA_Slow\",\"SMA_Slow\",\"SMA_Slow\",\"SMA_Slow\",\"SMA_Slow\",\"SMA_Slow\",\"SMA_Slow\",\"SMA_Slow\",\"SMA_Slow\",\"SMA_Slow\",\"SMA_Slow\",\"SMA_Slow\",\"SMA_Slow\",\"SMA_Slow\",\"SMA_Slow\",\"SMA_Slow\",\"SMA_Slow\",\"SMA_Slow\",\"SMA_Slow\",\"SMA_Slow\",\"SMA_Slow\",\"SMA_Slow\",\"SMA_Slow\",\"SMA_Slow\",\"SMA_Slow\",\"SMA_Slow\",\"SMA_Slow\",\"SMA_Slow\",\"SMA_Slow\",\"SMA_Slow\",\"SMA_Slow\",\"SMA_Slow\",\"SMA_Slow\",\"SMA_Slow\",\"SMA_Slow\",\"SMA_Slow\",\"SMA_Slow\",\"SMA_Slow\",\"SMA_Slow\",\"SMA_Slow\",\"SMA_Slow\",\"SMA_Slow\",\"SMA_Slow\",\"SMA_Slow\",\"SMA_Slow\",\"SMA_Slow\",\"SMA_Slow\",\"SMA_Slow\",\"SMA_Slow\",\"SMA_Slow\",\"SMA_Slow\",\"SMA_Slow\",\"SMA_Slow\",\"SMA_Slow\",\"SMA_Slow\",\"SMA_Slow\",\"SMA_Slow\",\"SMA_Slow\",\"SMA_Slow\",\"SMA_Slow\",\"SMA_Slow\",\"SMA_Slow\",\"SMA_Slow\",\"SMA_Slow\",\"SMA_Slow\",\"SMA_Slow\",\"SMA_Slow\",\"SMA_Slow\",\"SMA_Slow\",\"SMA_Slow\",\"SMA_Slow\",\"SMA_Slow\",\"SMA_Slow\",\"SMA_Slow\",\"SMA_Slow\",\"SMA_Slow\",\"SMA_Slow\",\"SMA_Slow\",\"SMA_Slow\",\"SMA_Slow\",\"SMA_Slow\",\"SMA_Slow\",\"SMA_Slow\",\"SMA_Slow\",\"SMA_Slow\",\"SMA_Slow\",\"SMA_Slow\",\"SMA_Slow\",\"SMA_Slow\",\"SMA_Slow\",\"SMA_Slow\",\"SMA_Slow\",\"SMA_Slow\",\"SMA_Slow\",\"SMA_Slow\",\"SMA_Slow\",\"SMA_Slow\",\"SMA_Slow\",\"SMA_Slow\",\"SMA_Slow\",\"SMA_Slow\",\"SMA_Slow\",\"SMA_Slow\",\"SMA_Slow\",\"SMA_Slow\",\"SMA_Slow\",\"SMA_Slow\",\"SMA_Slow\",\"SMA_Slow\",\"SMA_Slow\",\"SMA_Slow\",\"SMA_Slow\",\"SMA_Slow\",\"SMA_Slow\",\"SMA_Slow\",\"SMA_Slow\",\"SMA_Slow\",\"SMA_Slow\",\"SMA_Slow\",\"SMA_Slow\",\"SMA_Slow\",\"SMA_Slow\",\"SMA_Slow\",\"SMA_Slow\",\"SMA_Slow\",\"SMA_Slow\",\"SMA_Slow\",\"SMA_Slow\",\"SMA_Slow\",\"SMA_Slow\",\"SMA_Slow\",\"SMA_Slow\",\"SMA_Slow\",\"SMA_Slow\",\"SMA_Slow\",\"SMA_Slow\",\"SMA_Slow\",\"SMA_Slow\",\"SMA_Slow\",\"SMA_Slow\",\"SMA_Slow\",\"SMA_Slow\",\"SMA_Slow\",\"SMA_Slow\",\"SMA_Slow\",\"SMA_Slow\",\"SMA_Slow\",\"SMA_Slow\",\"SMA_Slow\",\"SMA_Slow\",\"SMA_Slow\",\"SMA_Slow\",\"SMA_Slow\",\"SMA_Slow\",\"SMA_Slow\",\"SMA_Slow\",\"SMA_Slow\",\"SMA_Slow\",\"SMA_Slow\",\"SMA_Slow\",\"SMA_Slow\",\"SMA_Slow\",\"SMA_Slow\",\"SMA_Slow\",\"SMA_Slow\",\"SMA_Slow\",\"SMA_Slow\",\"SMA_Slow\",\"SMA_Slow\",\"SMA_Slow\",\"SMA_Slow\",\"SMA_Slow\",\"SMA_Slow\",\"SMA_Slow\",\"SMA_Slow\",\"SMA_Slow\",\"SMA_Slow\",\"SMA_Slow\",\"SMA_Slow\",\"SMA_Slow\",\"SMA_Slow\",\"SMA_Slow\",\"SMA_Slow\",\"SMA_Slow\",\"SMA_Slow\",\"SMA_Slow\",\"SMA_Slow\",\"SMA_Slow\",\"SMA_Slow\",\"SMA_Slow\",\"SMA_Slow\",\"SMA_Slow\",\"SMA_Slow\",\"SMA_Slow\",\"SMA_Slow\",\"SMA_Slow\",\"SMA_Slow\",\"SMA_Slow\",\"SMA_Slow\",\"SMA_Slow\",\"SMA_Slow\",\"SMA_Slow\",\"SMA_Slow\",\"SMA_Slow\",\"SMA_Slow\",\"SMA_Slow\",\"SMA_Slow\",\"SMA_Slow\",\"SMA_Slow\",\"SMA_Slow\",\"SMA_Slow\",\"SMA_Slow\",\"SMA_Slow\",\"SMA_Slow\",\"SMA_Slow\",\"SMA_Slow\",\"SMA_Slow\",\"SMA_Slow\",\"SMA_Slow\",\"SMA_Slow\",\"SMA_Slow\",\"SMA_Slow\",\"SMA_Slow\",\"SMA_Slow\",\"SMA_Slow\",\"SMA_Slow\",\"SMA_Slow\",\"SMA_Slow\",\"SMA_Slow\",\"SMA_Slow\",\"SMA_Slow\",\"SMA_Slow\",\"SMA_Slow\",\"SMA_Slow\",\"SMA_Slow\",\"SMA_Slow\",\"SMA_Slow\",\"SMA_Slow\",\"SMA_Slow\",\"SMA_Slow\",\"SMA_Slow\",\"SMA_Slow\",\"SMA_Slow\",\"SMA_Slow\",\"SMA_Slow\",\"SMA_Slow\",\"SMA_Slow\",\"SMA_Slow\",\"SMA_Slow\",\"SMA_Slow\",\"SMA_Slow\",\"SMA_Slow\",\"SMA_Slow\",\"SMA_Slow\",\"SMA_Slow\",\"SMA_Slow\",\"SMA_Slow\",\"SMA_Slow\",\"SMA_Slow\",\"SMA_Slow\",\"SMA_Slow\",\"SMA_Slow\",\"SMA_Slow\",\"SMA_Slow\",\"SMA_Slow\",\"SMA_Slow\",\"SMA_Slow\",\"SMA_Slow\",\"SMA_Slow\",\"SMA_Slow\",\"SMA_Slow\",\"SMA_Slow\",\"SMA_Slow\",\"SMA_Slow\",\"SMA_Slow\",\"SMA_Slow\",\"SMA_Slow\",\"SMA_Slow\",\"SMA_Slow\",\"SMA_Slow\",\"SMA_Slow\",\"SMA_Slow\",\"SMA_Slow\",\"SMA_Slow\",\"SMA_Slow\",\"SMA_Slow\",\"SMA_Slow\",\"SMA_Slow\",\"SMA_Slow\",\"SMA_Slow\",\"SMA_Slow\",\"SMA_Slow\",\"SMA_Slow\",\"SMA_Slow\",\"SMA_Slow\",\"SMA_Slow\",\"SMA_Slow\",\"SMA_Slow\",\"SMA_Slow\",\"SMA_Slow\",\"SMA_Slow\",\"SMA_Slow\",\"SMA_Slow\",\"SMA_Slow\",\"SMA_Slow\",\"SMA_Slow\",\"SMA_Slow\",\"SMA_Slow\",\"SMA_Slow\",\"SMA_Slow\",\"SMA_Slow\",\"SMA_Slow\",\"SMA_Slow\",\"SMA_Slow\",\"SMA_Slow\",\"SMA_Slow\",\"SMA_Slow\",\"SMA_Slow\",\"SMA_Slow\",\"SMA_Slow\",\"SMA_Slow\",\"SMA_Slow\",\"SMA_Slow\",\"SMA_Slow\",\"SMA_Slow\",\"SMA_Slow\",\"SMA_Slow\",\"SMA_Slow\",\"SMA_Slow\",\"SMA_Slow\",\"SMA_Slow\",\"SMA_Slow\",\"SMA_Slow\",\"SMA_Slow\",\"SMA_Slow\",\"SMA_Slow\",\"SMA_Slow\",\"SMA_Slow\",\"SMA_Slow\",\"SMA_Slow\",\"SMA_Slow\",\"SMA_Slow\",\"SMA_Slow\",\"SMA_Slow\",\"SMA_Slow\",\"SMA_Slow\",\"SMA_Slow\",\"SMA_Slow\",\"SMA_Slow\",\"SMA_Slow\",\"SMA_Slow\",\"SMA_Slow\",\"SMA_Slow\",\"SMA_Slow\",\"SMA_Slow\",\"SMA_Slow\",\"SMA_Slow\",\"SMA_Slow\",\"SMA_Slow\",\"SMA_Slow\",\"SMA_Slow\",\"SMA_Slow\",\"SMA_Slow\",\"SMA_Slow\",\"SMA_Slow\",\"SMA_Slow\",\"SMA_Slow\",\"SMA_Slow\",\"SMA_Slow\",\"SMA_Slow\",\"SMA_Slow\",\"SMA_Slow\",\"SMA_Slow\",\"SMA_Slow\",\"SMA_Slow\",\"SMA_Slow\",\"SMA_Slow\",\"SMA_Slow\",\"SMA_Slow\",\"SMA_Slow\",\"SMA_Slow\",\"SMA_Slow\",\"SMA_Slow\",\"SMA_Slow\",\"SMA_Slow\",\"SMA_Slow\",\"SMA_Slow\",\"SMA_Slow\",\"SMA_Slow\",\"SMA_Slow\",\"SMA_Slow\",\"SMA_Slow\",\"SMA_Slow\",\"SMA_Slow\",\"SMA_Slow\",\"SMA_Slow\",\"SMA_Slow\",\"SMA_Slow\",\"SMA_Slow\",\"SMA_Slow\",\"SMA_Slow\",\"SMA_Slow\",\"SMA_Slow\",\"SMA_Slow\",\"SMA_Slow\",\"SMA_Slow\",\"SMA_Slow\",\"SMA_Slow\",\"SMA_Slow\",\"SMA_Slow\",\"SMA_Slow\",\"SMA_Slow\",\"SMA_Slow\",\"SMA_Slow\",\"SMA_Slow\",\"SMA_Slow\",\"SMA_Slow\",\"SMA_Slow\",\"SMA_Slow\",\"SMA_Slow\",\"SMA_Slow\",\"SMA_Slow\",\"SMA_Slow\",\"SMA_Slow\",\"SMA_Slow\",\"SMA_Slow\",\"SMA_Slow\",\"SMA_Slow\",\"SMA_Slow\",\"SMA_Slow\",\"SMA_Slow\",\"SMA_Slow\",\"SMA_Slow\",\"SMA_Slow\",\"SMA_Slow\",\"SMA_Slow\",\"SMA_Slow\",\"SMA_Slow\",\"SMA_Slow\",\"SMA_Slow\",\"SMA_Slow\",\"SMA_Slow\",\"SMA_Slow\",\"SMA_Slow\",\"SMA_Slow\",\"SMA_Slow\",\"SMA_Slow\",\"SMA_Slow\",\"SMA_Slow\",\"SMA_Slow\",\"SMA_Slow\",\"SMA_Slow\",\"SMA_Slow\",\"SMA_Slow\",\"SMA_Slow\",\"SMA_Slow\",\"SMA_Slow\",\"SMA_Slow\",\"SMA_Slow\",\"SMA_Slow\",\"SMA_Slow\",\"SMA_Slow\",\"SMA_Slow\",\"SMA_Slow\",\"SMA_Slow\",\"SMA_Slow\",\"SMA_Slow\",\"SMA_Slow\",\"SMA_Slow\",\"SMA_Slow\",\"SMA_Slow\",\"SMA_Slow\",\"SMA_Slow\",\"SMA_Slow\",\"SMA_Slow\",\"SMA_Slow\",\"SMA_Slow\",\"SMA_Slow\",\"SMA_Slow\",\"SMA_Slow\",\"SMA_Slow\",\"SMA_Slow\",\"SMA_Slow\",\"SMA_Slow\",\"SMA_Slow\",\"SMA_Slow\",\"SMA_Slow\",\"SMA_Slow\",\"SMA_Slow\",\"SMA_Slow\",\"SMA_Slow\",\"SMA_Slow\",\"SMA_Slow\",\"SMA_Slow\",\"SMA_Slow\",\"SMA_Slow\",\"SMA_Slow\",\"SMA_Slow\",\"SMA_Slow\",\"SMA_Slow\",\"SMA_Slow\",\"SMA_Slow\",\"SMA_Slow\",\"SMA_Slow\",\"SMA_Slow\",\"SMA_Slow\",\"SMA_Slow\",\"SMA_Slow\",\"SMA_Slow\",\"SMA_Slow\",\"SMA_Slow\",\"SMA_Slow\",\"SMA_Slow\",\"SMA_Slow\",\"SMA_Slow\",\"SMA_Slow\",\"SMA_Slow\",\"SMA_Slow\",\"SMA_Slow\",\"SMA_Slow\",\"SMA_Slow\",\"SMA_Slow\",\"SMA_Slow\",\"SMA_Slow\",\"SMA_Slow\",\"SMA_Slow\",\"SMA_Slow\",\"SMA_Slow\",\"SMA_Slow\",\"SMA_Slow\",\"SMA_Slow\",\"SMA_Slow\",\"SMA_Slow\",\"SMA_Slow\",\"SMA_Slow\",\"SMA_Slow\",\"SMA_Slow\",\"SMA_Slow\",\"SMA_Slow\",\"SMA_Slow\",\"SMA_Slow\",\"SMA_Slow\",\"SMA_Slow\",\"SMA_Slow\",\"SMA_Slow\",\"SMA_Slow\",\"SMA_Slow\",\"SMA_Slow\",\"SMA_Slow\",\"SMA_Slow\",\"SMA_Slow\",\"SMA_Slow\",\"SMA_Slow\",\"SMA_Slow\",\"SMA_Slow\",\"SMA_Slow\",\"SMA_Slow\",\"SMA_Slow\",\"SMA_Slow\",\"SMA_Slow\",\"SMA_Slow\",\"SMA_Slow\",\"SMA_Slow\",\"SMA_Slow\",\"SMA_Slow\",\"SMA_Slow\",\"SMA_Slow\",\"SMA_Slow\",\"SMA_Slow\",\"SMA_Slow\",\"SMA_Slow\",\"SMA_Slow\",\"SMA_Slow\",\"SMA_Slow\",\"SMA_Slow\",\"SMA_Slow\",\"SMA_Slow\",\"SMA_Slow\",\"SMA_Slow\",\"SMA_Slow\",\"SMA_Slow\",\"SMA_Slow\",\"SMA_Slow\",\"SMA_Slow\",\"SMA_Slow\",\"SMA_Slow\",\"SMA_Slow\",\"SMA_Slow\",\"SMA_Slow\",\"SMA_Slow\",\"SMA_Slow\",\"SMA_Slow\",\"SMA_Slow\",\"SMA_Slow\",\"SMA_Slow\",\"SMA_Slow\",\"SMA_Slow\",\"SMA_Slow\",\"SMA_Slow\",\"SMA_Slow\",\"SMA_Slow\",\"SMA_Slow\",\"SMA_Slow\",\"SMA_Slow\",\"SMA_Slow\",\"SMA_Slow\",\"SMA_Slow\",\"SMA_Slow\",\"SMA_Slow\",\"SMA_Slow\",\"SMA_Slow\",\"SMA_Slow\",\"SMA_Slow\",\"SMA_Slow\",\"SMA_Slow\",\"SMA_Slow\",\"SMA_Slow\",\"SMA_Slow\",\"SMA_Slow\",\"SMA_Slow\",\"SMA_Slow\",\"SMA_Slow\",\"SMA_Slow\",\"SMA_Slow\",\"SMA_Slow\",\"SMA_Slow\",\"SMA_Slow\",\"SMA_Slow\",\"SMA_Slow\",\"SMA_Slow\",\"SMA_Slow\",\"SMA_Slow\",\"SMA_Slow\",\"SMA_Slow\",\"SMA_Slow\",\"SMA_Slow\",\"SMA_Slow\",\"SMA_Slow\",\"SMA_Slow\",\"SMA_Slow\",\"SMA_Slow\",\"SMA_Slow\",\"SMA_Slow\",\"SMA_Slow\",\"SMA_Slow\",\"SMA_Slow\",\"SMA_Slow\",\"SMA_Slow\",\"SMA_Slow\",\"SMA_Slow\",\"SMA_Slow\",\"SMA_Slow\",\"SMA_Slow\",\"SMA_Slow\",\"SMA_Slow\",\"SMA_Slow\",\"SMA_Slow\",\"SMA_Slow\",\"SMA_Slow\",\"SMA_Slow\",\"SMA_Slow\",\"SMA_Slow\",\"SMA_Slow\",\"SMA_Slow\",\"SMA_Slow\",\"SMA_Slow\",\"SMA_Slow\",\"SMA_Slow\",\"SMA_Slow\",\"SMA_Slow\",\"SMA_Slow\",\"SMA_Slow\",\"SMA_Slow\",\"SMA_Slow\",\"SMA_Slow\",\"SMA_Slow\",\"SMA_Slow\",\"SMA_Slow\",\"SMA_Slow\",\"SMA_Slow\",\"SMA_Slow\",\"SMA_Slow\",\"SMA_Slow\",\"SMA_Slow\",\"SMA_Slow\",\"SMA_Slow\",\"SMA_Slow\",\"SMA_Slow\",\"SMA_Slow\",\"SMA_Slow\",\"SMA_Slow\",\"SMA_Slow\",\"SMA_Slow\",\"SMA_Slow\",\"SMA_Slow\",\"SMA_Slow\",\"SMA_Slow\",\"SMA_Slow\",\"SMA_Slow\",\"SMA_Slow\",\"SMA_Slow\",\"SMA_Slow\",\"SMA_Slow\",\"SMA_Slow\",\"SMA_Slow\",\"SMA_Slow\",\"SMA_Slow\",\"SMA_Slow\",\"SMA_Slow\",\"SMA_Slow\",\"SMA_Slow\",\"SMA_Slow\",\"SMA_Slow\",\"SMA_Slow\",\"SMA_Slow\",\"SMA_Slow\",\"SMA_Slow\",\"SMA_Slow\",\"SMA_Slow\",\"SMA_Slow\",\"SMA_Slow\",\"SMA_Slow\",\"SMA_Slow\",\"SMA_Slow\",\"SMA_Slow\",\"SMA_Slow\",\"SMA_Slow\",\"SMA_Slow\",\"SMA_Slow\",\"SMA_Slow\",\"SMA_Slow\",\"SMA_Slow\",\"SMA_Slow\",\"SMA_Slow\",\"SMA_Slow\",\"SMA_Slow\",\"SMA_Slow\",\"SMA_Slow\",\"SMA_Slow\",\"SMA_Slow\",\"SMA_Slow\",\"SMA_Slow\",\"SMA_Slow\",\"SMA_Slow\",\"SMA_Slow\",\"SMA_Slow\",\"SMA_Slow\",\"SMA_Slow\",\"SMA_Slow\",\"SMA_Slow\",\"SMA_Slow\",\"SMA_Slow\",\"SMA_Slow\",\"SMA_Slow\",\"SMA_Slow\",\"SMA_Slow\",\"SMA_Slow\",\"SMA_Slow\",\"SMA_Slow\",\"SMA_Slow\",\"SMA_Slow\",\"SMA_Slow\",\"SMA_Slow\",\"SMA_Slow\",\"SMA_Slow\",\"SMA_Slow\",\"SMA_Slow\",\"SMA_Slow\",\"SMA_Slow\",\"SMA_Slow\",\"SMA_Slow\",\"SMA_Slow\",\"SMA_Slow\",\"SMA_Slow\",\"SMA_Slow\",\"SMA_Slow\",\"SMA_Slow\",\"SMA_Slow\",\"SMA_Slow\",\"SMA_Slow\",\"SMA_Slow\",\"SMA_Slow\",\"SMA_Slow\",\"SMA_Slow\",\"SMA_Slow\",\"SMA_Slow\",\"SMA_Slow\",\"SMA_Slow\",\"SMA_Slow\",\"SMA_Slow\",\"SMA_Slow\",\"SMA_Slow\",\"SMA_Slow\",\"SMA_Slow\",\"SMA_Slow\",\"SMA_Slow\",\"SMA_Slow\",\"SMA_Slow\",\"SMA_Slow\",\"SMA_Slow\",\"SMA_Slow\",\"SMA_Slow\",\"SMA_Slow\",\"SMA_Slow\",\"SMA_Slow\",\"SMA_Slow\",\"SMA_Slow\",\"SMA_Slow\",\"SMA_Slow\",\"SMA_Slow\",\"SMA_Slow\",\"SMA_Slow\",\"SMA_Slow\",\"SMA_Slow\",\"SMA_Slow\",\"SMA_Slow\",\"SMA_Slow\",\"SMA_Slow\",\"SMA_Slow\",\"SMA_Slow\",\"SMA_Slow\",\"SMA_Slow\",\"SMA_Slow\",\"SMA_Slow\",\"SMA_Slow\",\"SMA_Slow\",\"SMA_Slow\",\"SMA_Slow\",\"SMA_Slow\",\"SMA_Slow\",\"SMA_Slow\",\"SMA_Slow\",\"SMA_Slow\",\"SMA_Slow\",\"SMA_Slow\",\"SMA_Slow\",\"SMA_Slow\",\"SMA_Slow\",\"SMA_Slow\",\"SMA_Slow\",\"SMA_Slow\",\"SMA_Slow\",\"SMA_Slow\",\"SMA_Slow\",\"SMA_Slow\",\"SMA_Slow\",\"SMA_Slow\",\"SMA_Slow\",\"SMA_Slow\",\"SMA_Slow\",\"SMA_Slow\",\"SMA_Slow\",\"SMA_Slow\",\"SMA_Slow\",\"SMA_Slow\",\"SMA_Slow\",\"SMA_Slow\",\"SMA_Slow\",\"SMA_Slow\",\"SMA_Slow\",\"SMA_Slow\",\"SMA_Slow\",\"SMA_Slow\",\"SMA_Slow\",\"SMA_Slow\",\"SMA_Slow\",\"SMA_Slow\",\"SMA_Slow\",\"SMA_Slow\",\"SMA_Slow\",\"SMA_Slow\",\"SMA_Slow\",\"SMA_Slow\",\"SMA_Slow\",\"SMA_Slow\",\"SMA_Slow\",\"SMA_Slow\",\"SMA_Slow\",\"SMA_Slow\",\"SMA_Slow\",\"SMA_Slow\",\"SMA_Slow\",\"SMA_Slow\",\"SMA_Slow\",\"SMA_Slow\",\"SMA_Slow\",\"SMA_Slow\",\"SMA_Slow\",\"SMA_Slow\",\"SMA_Slow\",\"SMA_Slow\",\"SMA_Slow\",\"SMA_Slow\",\"SMA_Slow\",\"SMA_Slow\",\"SMA_Slow\",\"SMA_Slow\",\"SMA_Slow\",\"SMA_Slow\",\"SMA_Slow\",\"SMA_Slow\",\"SMA_Slow\",\"SMA_Slow\",\"SMA_Slow\",\"SMA_Slow\",\"SMA_Slow\",\"SMA_Slow\",\"SMA_Slow\",\"SMA_Slow\",\"SMA_Slow\",\"SMA_Slow\",\"SMA_Slow\",\"SMA_Slow\",\"SMA_Slow\",\"SMA_Slow\",\"SMA_Slow\",\"SMA_Slow\",\"SMA_Slow\",\"SMA_Slow\",\"SMA_Slow\",\"SMA_Slow\",\"SMA_Slow\",\"SMA_Slow\",\"SMA_Slow\",\"SMA_Slow\",\"SMA_Slow\",\"SMA_Slow\",\"SMA_Slow\",\"SMA_Slow\",\"SMA_Slow\",\"SMA_Slow\",\"SMA_Slow\",\"SMA_Slow\",\"SMA_Slow\",\"SMA_Slow\",\"SMA_Slow\",\"SMA_Slow\",\"SMA_Slow\",\"SMA_Slow\",\"SMA_Slow\",\"SMA_Slow\",\"SMA_Slow\",\"SMA_Slow\",\"SMA_Slow\",\"SMA_Slow\",\"SMA_Slow\",\"SMA_Slow\",\"SMA_Slow\",\"SMA_Slow\",\"SMA_Slow\",\"SMA_Slow\",\"SMA_Slow\",\"SMA_Slow\",\"SMA_Slow\",\"SMA_Slow\",\"SMA_Slow\",\"SMA_Slow\",\"SMA_Slow\",\"SMA_Slow\",\"SMA_Slow\",\"SMA_Slow\",\"SMA_Slow\",\"SMA_Slow\",\"SMA_Slow\",\"SMA_Slow\",\"SMA_Slow\",\"SMA_Slow\",\"SMA_Slow\",\"SMA_Slow\",\"SMA_Slow\",\"SMA_Slow\",\"SMA_Slow\",\"SMA_Slow\",\"SMA_Slow\",\"SMA_Slow\",\"SMA_Slow\",\"SMA_Slow\",\"SMA_Slow\",\"SMA_Slow\",\"SMA_Slow\",\"SMA_Slow\",\"SMA_Slow\",\"SMA_Slow\",\"SMA_Slow\",\"SMA_Slow\",\"SMA_Slow\",\"SMA_Slow\",\"SMA_Slow\",\"SMA_Slow\",\"SMA_Slow\",\"SMA_Slow\",\"SMA_Slow\",\"SMA_Slow\",\"SMA_Slow\",\"SMA_Slow\",\"SMA_Slow\",\"SMA_Slow\",\"SMA_Slow\",\"SMA_Slow\",\"SMA_Slow\",\"SMA_Slow\",\"SMA_Slow\",\"SMA_Slow\",\"SMA_Slow\",\"SMA_Slow\",\"SMA_Slow\",\"SMA_Slow\",\"SMA_Slow\",\"SMA_Slow\",\"SMA_Slow\",\"SMA_Slow\",\"SMA_Slow\",\"SMA_Slow\",\"SMA_Slow\",\"SMA_Slow\",\"SMA_Slow\",\"SMA_Slow\",\"SMA_Slow\",\"SMA_Slow\",\"SMA_Slow\",\"SMA_Slow\",\"SMA_Slow\",\"SMA_Slow\",\"SMA_Slow\",\"SMA_Slow\",\"SMA_Slow\",\"SMA_Slow\",\"SMA_Slow\",\"SMA_Slow\",\"SMA_Slow\",\"SMA_Slow\",\"SMA_Slow\",\"SMA_Slow\",\"SMA_Slow\",\"SMA_Slow\",\"SMA_Slow\",\"SMA_Slow\",\"SMA_Slow\",\"SMA_Slow\",\"SMA_Slow\",\"SMA_Slow\",\"SMA_Slow\",\"SMA_Slow\",\"SMA_Slow\",\"SMA_Slow\",\"SMA_Slow\",\"SMA_Slow\",\"SMA_Slow\",\"SMA_Slow\",\"SMA_Slow\",\"SMA_Slow\",\"SMA_Slow\",\"SMA_Slow\",\"SMA_Slow\",\"SMA_Slow\",\"SMA_Slow\",\"SMA_Slow\",\"SMA_Slow\",\"SMA_Slow\",\"SMA_Slow\",\"SMA_Slow\",\"SMA_Slow\",\"SMA_Slow\",\"SMA_Slow\",\"SMA_Slow\",\"SMA_Slow\",\"SMA_Slow\",\"SMA_Slow\",\"SMA_Slow\",\"SMA_Slow\",\"SMA_Slow\",\"SMA_Slow\",\"SMA_Slow\",\"SMA_Slow\",\"SMA_Slow\",\"SMA_Slow\",\"SMA_Slow\",\"SMA_Slow\",\"SMA_Slow\",\"SMA_Slow\",\"SMA_Slow\",\"SMA_Slow\",\"SMA_Slow\",\"SMA_Slow\",\"SMA_Slow\",\"SMA_Slow\",\"SMA_Slow\",\"SMA_Slow\",\"SMA_Slow\",\"SMA_Slow\",\"SMA_Slow\",\"SMA_Slow\",\"SMA_Slow\",\"SMA_Slow\",\"SMA_Slow\",\"SMA_Slow\",\"SMA_Slow\",\"SMA_Slow\",\"SMA_Slow\",\"SMA_Slow\",\"SMA_Slow\",\"SMA_Slow\",\"SMA_Slow\",\"SMA_Slow\",\"SMA_Slow\",\"SMA_Slow\",\"SMA_Slow\",\"SMA_Slow\",\"SMA_Slow\",\"SMA_Slow\",\"SMA_Slow\",\"SMA_Slow\",\"SMA_Slow\",\"SMA_Slow\",\"SMA_Slow\",\"SMA_Slow\",\"SMA_Slow\",\"SMA_Slow\",\"SMA_Slow\",\"SMA_Slow\",\"SMA_Slow\",\"SMA_Slow\",\"SMA_Slow\",\"SMA_Slow\",\"SMA_Slow\",\"SMA_Slow\",\"SMA_Slow\",\"SMA_Slow\",\"SMA_Slow\",\"SMA_Slow\",\"SMA_Slow\",\"SMA_Slow\",\"SMA_Slow\",\"SMA_Slow\",\"SMA_Slow\",\"SMA_Slow\",\"SMA_Slow\",\"SMA_Slow\",\"SMA_Slow\",\"SMA_Slow\",\"SMA_Slow\",\"SMA_Slow\",\"SMA_Slow\",\"SMA_Slow\",\"SMA_Slow\",\"SMA_Slow\",\"SMA_Slow\",\"SMA_Slow\",\"SMA_Slow\",\"SMA_Slow\",\"SMA_Slow\",\"SMA_Slow\",\"SMA_Slow\",\"SMA_Slow\",\"SMA_Slow\",\"SMA_Slow\",\"SMA_Slow\",\"SMA_Slow\",\"SMA_Slow\",\"SMA_Slow\",\"SMA_Slow\",\"SMA_Slow\",\"SMA_Slow\",\"SMA_Slow\",\"SMA_Slow\",\"SMA_Slow\",\"SMA_Slow\",\"SMA_Slow\",\"SMA_Slow\",\"SMA_Slow\",\"SMA_Slow\",\"SMA_Slow\",\"SMA_Slow\",\"SMA_Slow\",\"SMA_Slow\",\"SMA_Slow\",\"SMA_Slow\",\"SMA_Slow\",\"SMA_Slow\",\"SMA_Slow\",\"SMA_Slow\",\"SMA_Slow\",\"SMA_Slow\",\"SMA_Slow\",\"SMA_Slow\",\"SMA_Slow\",\"SMA_Slow\",\"SMA_Slow\",\"SMA_Slow\",\"SMA_Slow\",\"SMA_Slow\",\"SMA_Slow\",\"SMA_Slow\",\"SMA_Slow\",\"SMA_Slow\",\"SMA_Slow\",\"SMA_Slow\",\"SMA_Slow\",\"SMA_Slow\",\"SMA_Slow\",\"SMA_Slow\",\"SMA_Slow\",\"SMA_Slow\",\"SMA_Slow\",\"SMA_Slow\",\"SMA_Slow\",\"SMA_Slow\",\"SMA_Slow\",\"SMA_Slow\",\"SMA_Slow\",\"SMA_Slow\",\"SMA_Slow\",\"SMA_Slow\",\"SMA_Slow\",\"SMA_Slow\",\"SMA_Slow\",\"SMA_Slow\",\"SMA_Slow\",\"SMA_Slow\",\"SMA_Slow\",\"SMA_Slow\",\"SMA_Slow\",\"SMA_Slow\",\"SMA_Slow\",\"SMA_Slow\",\"SMA_Slow\",\"SMA_Slow\",\"SMA_Slow\",\"SMA_Slow\",\"SMA_Slow\",\"SMA_Slow\",\"SMA_Slow\",\"SMA_Slow\",\"SMA_Slow\",\"SMA_Slow\",\"SMA_Slow\",\"SMA_Slow\",\"SMA_Slow\",\"SMA_Slow\",\"SMA_Slow\",\"SMA_Slow\",\"SMA_Slow\",\"SMA_Slow\",\"SMA_Slow\",\"SMA_Slow\",\"SMA_Slow\",\"SMA_Slow\",\"SMA_Slow\",\"SMA_Slow\",\"SMA_Slow\",\"SMA_Slow\",\"SMA_Slow\",\"SMA_Slow\",\"SMA_Slow\",\"SMA_Slow\",\"SMA_Slow\",\"SMA_Slow\",\"SMA_Slow\",\"SMA_Slow\",\"SMA_Slow\",\"SMA_Slow\",\"SMA_Slow\",\"SMA_Slow\",\"SMA_Slow\",\"SMA_Slow\",\"SMA_Slow\",\"SMA_Slow\",\"SMA_Slow\",\"SMA_Slow\",\"SMA_Slow\",\"SMA_Slow\",\"SMA_Slow\",\"SMA_Slow\",\"SMA_Slow\",\"SMA_Slow\",\"SMA_Slow\",\"SMA_Slow\",\"SMA_Slow\",\"SMA_Slow\",\"SMA_Slow\",\"SMA_Slow\",\"SMA_Slow\",\"SMA_Slow\",\"SMA_Slow\",\"SMA_Slow\",\"SMA_Slow\",\"SMA_Slow\",\"SMA_Slow\",\"SMA_Slow\",\"SMA_Slow\",\"SMA_Slow\",\"SMA_Slow\",\"SMA_Slow\",\"SMA_Slow\",\"SMA_Slow\",\"SMA_Slow\",\"SMA_Slow\",\"SMA_Slow\",\"SMA_Slow\",\"SMA_Slow\",\"SMA_Slow\",\"SMA_Slow\",\"SMA_Slow\",\"SMA_Slow\",\"SMA_Slow\",\"SMA_Slow\",\"SMA_Slow\",\"SMA_Slow\",\"SMA_Slow\",\"SMA_Slow\",\"SMA_Slow\",\"SMA_Slow\",\"SMA_Slow\",\"SMA_Slow\",\"SMA_Slow\",\"SMA_Slow\",\"SMA_Slow\",\"SMA_Slow\",\"SMA_Slow\",\"SMA_Slow\",\"SMA_Slow\",\"SMA_Slow\",\"SMA_Slow\",\"SMA_Slow\",\"SMA_Slow\",\"SMA_Slow\",\"SMA_Slow\",\"SMA_Slow\",\"SMA_Slow\",\"SMA_Slow\",\"SMA_Slow\",\"SMA_Slow\",\"SMA_Slow\",\"SMA_Slow\",\"SMA_Slow\",\"SMA_Slow\",\"SMA_Slow\",\"SMA_Slow\",\"SMA_Slow\",\"SMA_Slow\",\"SMA_Slow\",\"SMA_Slow\",\"SMA_Slow\",\"SMA_Slow\",\"SMA_Slow\",\"SMA_Slow\",\"SMA_Slow\",\"SMA_Slow\",\"SMA_Slow\",\"SMA_Slow\",\"SMA_Slow\",\"SMA_Slow\",\"SMA_Slow\",\"SMA_Slow\",\"SMA_Slow\",\"SMA_Slow\",\"SMA_Slow\",\"SMA_Slow\",\"SMA_Slow\",\"SMA_Slow\",\"SMA_Slow\",\"SMA_Slow\",\"SMA_Slow\",\"SMA_Slow\",\"SMA_Slow\",\"SMA_Slow\",\"SMA_Slow\",\"SMA_Slow\",\"SMA_Slow\",\"SMA_Slow\",\"SMA_Slow\",\"SMA_Slow\",\"SMA_Slow\",\"SMA_Slow\",\"SMA_Slow\",\"SMA_Slow\",\"SMA_Slow\",\"SMA_Slow\",\"SMA_Slow\",\"SMA_Slow\",\"SMA_Slow\",\"SMA_Slow\",\"SMA_Slow\",\"SMA_Slow\",\"SMA_Slow\",\"SMA_Slow\",\"SMA_Slow\",\"SMA_Slow\",\"SMA_Slow\",\"SMA_Slow\",\"SMA_Slow\",\"SMA_Slow\",\"SMA_Slow\",\"SMA_Slow\",\"SMA_Slow\",\"SMA_Slow\",\"SMA_Slow\",\"SMA_Slow\",\"SMA_Slow\",\"SMA_Slow\",\"SMA_Slow\",\"SMA_Slow\",\"SMA_Slow\",\"SMA_Slow\",\"SMA_Slow\",\"SMA_Slow\",\"SMA_Slow\",\"SMA_Slow\",\"SMA_Slow\",\"SMA_Slow\",\"SMA_Slow\",\"SMA_Slow\",\"SMA_Slow\",\"SMA_Slow\",\"SMA_Slow\",\"SMA_Slow\",\"SMA_Slow\",\"SMA_Slow\",\"SMA_Slow\",\"SMA_Slow\",\"SMA_Slow\",\"SMA_Slow\",\"SMA_Slow\",\"SMA_Slow\",\"SMA_Slow\",\"SMA_Slow\",\"SMA_Slow\",\"SMA_Slow\",\"SMA_Slow\",\"SMA_Slow\",\"SMA_Slow\",\"SMA_Slow\",\"SMA_Slow\",\"SMA_Slow\",\"SMA_Slow\",\"SMA_Slow\",\"SMA_Slow\",\"SMA_Slow\",\"SMA_Slow\",\"SMA_Slow\",\"SMA_Slow\",\"SMA_Slow\",\"SMA_Slow\",\"SMA_Slow\",\"SMA_Slow\",\"SMA_Slow\",\"SMA_Slow\",\"SMA_Slow\",\"SMA_Slow\",\"SMA_Slow\",\"SMA_Slow\",\"SMA_Slow\",\"SMA_Slow\",\"SMA_Slow\",\"SMA_Slow\",\"SMA_Slow\",\"SMA_Slow\",\"SMA_Slow\",\"SMA_Slow\",\"SMA_Slow\",\"SMA_Slow\",\"SMA_Slow\",\"SMA_Slow\",\"SMA_Slow\",\"SMA_Slow\",\"SMA_Slow\",\"SMA_Slow\",\"SMA_Slow\",\"SMA_Slow\",\"SMA_Slow\",\"SMA_Slow\",\"SMA_Slow\",\"SMA_Slow\",\"SMA_Slow\",\"SMA_Slow\",\"SMA_Slow\",\"SMA_Slow\",\"SMA_Slow\",\"SMA_Slow\",\"SMA_Slow\",\"SMA_Slow\",\"SMA_Slow\",\"SMA_Slow\",\"SMA_Slow\",\"SMA_Slow\",\"SMA_Slow\",\"SMA_Slow\",\"SMA_Slow\",\"SMA_Slow\",\"SMA_Slow\",\"SMA_Slow\",\"SMA_Slow\",\"SMA_Slow\",\"SMA_Slow\",\"SMA_Slow\",\"SMA_Slow\",\"SMA_Slow\",\"SMA_Slow\",\"SMA_Slow\",\"SMA_Slow\",\"SMA_Slow\",\"SMA_Slow\",\"SMA_Slow\",\"SMA_Slow\",\"SMA_Slow\",\"SMA_Slow\",\"SMA_Slow\",\"SMA_Slow\",\"SMA_Slow\",\"SMA_Slow\",\"SMA_Slow\",\"SMA_Slow\",\"SMA_Slow\",\"SMA_Slow\",\"SMA_Slow\",\"SMA_Slow\",\"SMA_Slow\",\"SMA_Slow\",\"SMA_Slow\",\"SMA_Slow\",\"SMA_Slow\",\"SMA_Slow\",\"SMA_Slow\",\"SMA_Slow\",\"SMA_Slow\",\"SMA_Slow\",\"SMA_Slow\",\"SMA_Slow\",\"SMA_Slow\",\"SMA_Slow\",\"SMA_Slow\",\"SMA_Slow\",\"SMA_Slow\",\"SMA_Slow\",\"SMA_Slow\",\"SMA_Slow\",\"SMA_Slow\",\"SMA_Slow\",\"SMA_Slow\",\"SMA_Slow\",\"SMA_Slow\",\"SMA_Slow\",\"SMA_Slow\",\"SMA_Slow\",\"SMA_Slow\",\"SMA_Slow\",\"SMA_Slow\",\"SMA_Slow\",\"SMA_Slow\",\"SMA_Slow\",\"SMA_Slow\",\"SMA_Slow\",\"SMA_Slow\",\"SMA_Slow\",\"SMA_Slow\",\"SMA_Slow\",\"SMA_Slow\",\"SMA_Slow\",\"SMA_Slow\",\"SMA_Slow\",\"SMA_Slow\",\"SMA_Slow\",\"SMA_Slow\",\"SMA_Slow\",\"SMA_Slow\",\"SMA_Slow\",\"SMA_Slow\",\"SMA_Slow\",\"SMA_Slow\",\"SMA_Slow\",\"SMA_Slow\",\"SMA_Slow\",\"SMA_Slow\",\"SMA_Slow\",\"SMA_Slow\",\"SMA_Slow\",\"SMA_Slow\",\"SMA_Slow\",\"SMA_Slow\",\"SMA_Slow\",\"SMA_Slow\",\"SMA_Slow\",\"SMA_Slow\",\"SMA_Slow\",\"SMA_Slow\",\"SMA_Slow\",\"SMA_Slow\",\"SMA_Slow\",\"SMA_Slow\",\"SMA_Slow\",\"SMA_Slow\",\"SMA_Slow\",\"SMA_Slow\",\"SMA_Slow\",\"SMA_Slow\",\"SMA_Slow\",\"SMA_Slow\",\"SMA_Slow\",\"SMA_Slow\",\"SMA_Slow\",\"SMA_Slow\",\"SMA_Slow\",\"SMA_Slow\",\"SMA_Slow\",\"SMA_Slow\",\"SMA_Slow\",\"SMA_Slow\",\"SMA_Slow\",\"SMA_Slow\",\"SMA_Slow\",\"SMA_Slow\",\"SMA_Slow\",\"SMA_Slow\",\"SMA_Slow\",\"SMA_Slow\",\"SMA_Slow\",\"SMA_Slow\",\"SMA_Slow\",\"SMA_Slow\",\"SMA_Slow\",\"SMA_Slow\",\"SMA_Slow\",\"SMA_Slow\",\"SMA_Slow\",\"SMA_Slow\",\"SMA_Slow\",\"SMA_Slow\",\"SMA_Slow\",\"SMA_Slow\",\"SMA_Slow\",\"SMA_Slow\",\"SMA_Slow\",\"SMA_Slow\",\"SMA_Slow\",\"SMA_Slow\",\"SMA_Slow\",\"SMA_Slow\",\"SMA_Slow\",\"SMA_Slow\",\"SMA_Slow\",\"SMA_Slow\",\"SMA_Slow\",\"SMA_Slow\",\"SMA_Slow\",\"SMA_Slow\",\"SMA_Slow\",\"SMA_Slow\",\"SMA_Slow\",\"SMA_Slow\",\"SMA_Slow\",\"SMA_Slow\",\"SMA_Slow\",\"SMA_Slow\",\"SMA_Slow\",\"SMA_Slow\",\"SMA_Slow\",\"SMA_Slow\",\"SMA_Slow\",\"SMA_Slow\",\"SMA_Slow\",\"SMA_Slow\",\"SMA_Slow\",\"SMA_Slow\",\"SMA_Slow\",\"SMA_Slow\",\"SMA_Slow\",\"SMA_Slow\",\"SMA_Slow\",\"SMA_Slow\",\"SMA_Slow\",\"SMA_Slow\",\"SMA_Slow\",\"SMA_Slow\",\"SMA_Slow\",\"SMA_Slow\",\"SMA_Slow\",\"SMA_Slow\",\"SMA_Slow\",\"SMA_Slow\",\"SMA_Slow\",\"SMA_Slow\",\"SMA_Slow\",\"SMA_Slow\",\"SMA_Slow\",\"SMA_Slow\",\"SMA_Slow\",\"SMA_Slow\",\"SMA_Slow\",\"SMA_Slow\",\"SMA_Slow\",\"SMA_Slow\",\"SMA_Slow\",\"SMA_Slow\",\"SMA_Slow\",\"SMA_Slow\",\"SMA_Slow\",\"SMA_Slow\",\"SMA_Slow\",\"SMA_Slow\",\"SMA_Slow\",\"SMA_Slow\",\"SMA_Slow\",\"SMA_Slow\",\"SMA_Slow\",\"SMA_Slow\",\"SMA_Slow\",\"SMA_Slow\",\"SMA_Slow\",\"SMA_Slow\",\"SMA_Slow\",\"SMA_Slow\",\"SMA_Slow\",\"SMA_Slow\",\"SMA_Slow\",\"SMA_Slow\",\"SMA_Slow\",\"SMA_Slow\",\"SMA_Slow\",\"SMA_Slow\",\"SMA_Slow\",\"SMA_Slow\",\"SMA_Slow\",\"SMA_Slow\",\"SMA_Slow\",\"SMA_Slow\",\"SMA_Slow\",\"SMA_Slow\",\"SMA_Slow\",\"SMA_Slow\",\"SMA_Slow\",\"SMA_Slow\",\"SMA_Slow\",\"SMA_Slow\",\"SMA_Slow\",\"SMA_Slow\",\"SMA_Slow\",\"SMA_Slow\",\"SMA_Slow\",\"SMA_Slow\",\"SMA_Slow\",\"SMA_Slow\",\"SMA_Slow\",\"SMA_Slow\",\"SMA_Slow\",\"SMA_Slow\",\"SMA_Slow\",\"SMA_Slow\",\"SMA_Slow\",\"SMA_Slow\",\"SMA_Slow\",\"SMA_Slow\",\"SMA_Slow\",\"SMA_Slow\",\"SMA_Slow\",\"SMA_Slow\",\"SMA_Slow\",\"SMA_Slow\",\"SMA_Slow\",\"SMA_Slow\",\"SMA_Slow\",\"SMA_Slow\",\"SMA_Slow\",\"SMA_Slow\",\"SMA_Slow\",\"SMA_Slow\",\"SMA_Slow\",\"SMA_Slow\",\"SMA_Slow\",\"SMA_Slow\",\"SMA_Slow\",\"SMA_Slow\",\"SMA_Slow\",\"SMA_Slow\",\"SMA_Slow\",\"SMA_Slow\",\"SMA_Slow\",\"SMA_Slow\",\"SMA_Slow\",\"SMA_Slow\",\"SMA_Slow\",\"SMA_Slow\",\"SMA_Slow\",\"SMA_Slow\",\"SMA_Slow\",\"SMA_Slow\",\"SMA_Slow\",\"SMA_Slow\",\"SMA_Slow\",\"SMA_Slow\",\"SMA_Slow\",\"SMA_Slow\",\"SMA_Slow\",\"SMA_Slow\",\"SMA_Slow\",\"SMA_Slow\",\"SMA_Slow\",\"SMA_Slow\",\"SMA_Slow\",\"SMA_Slow\",\"SMA_Slow\",\"SMA_Slow\",\"SMA_Slow\",\"SMA_Slow\",\"SMA_Slow\",\"SMA_Slow\",\"SMA_Slow\",\"SMA_Slow\",\"SMA_Slow\",\"SMA_Slow\",\"SMA_Slow\",\"SMA_Slow\",\"SMA_Slow\",\"SMA_Slow\",\"SMA_Slow\",\"SMA_Slow\",\"SMA_Slow\",\"SMA_Slow\",\"SMA_Slow\",\"SMA_Slow\",\"SMA_Slow\",\"SMA_Slow\",\"SMA_Slow\",\"SMA_Slow\",\"SMA_Slow\",\"SMA_Slow\",\"SMA_Slow\",\"SMA_Slow\",\"SMA_Slow\",\"SMA_Slow\",\"SMA_Slow\",\"SMA_Slow\",\"SMA_Slow\",\"SMA_Slow\",\"SMA_Slow\",\"SMA_Slow\",\"SMA_Slow\",\"SMA_Slow\",\"SMA_Slow\",\"SMA_Slow\",\"SMA_Slow\",\"SMA_Slow\",\"SMA_Slow\",\"SMA_Slow\",\"SMA_Slow\",\"SMA_Slow\",\"SMA_Slow\",\"SMA_Slow\",\"SMA_Slow\",\"SMA_Slow\",\"SMA_Slow\",\"SMA_Slow\",\"SMA_Slow\",\"SMA_Slow\",\"SMA_Slow\",\"SMA_Slow\",\"SMA_Slow\",\"SMA_Slow\",\"SMA_Slow\",\"SMA_Slow\",\"SMA_Slow\",\"SMA_Slow\",\"SMA_Slow\",\"SMA_Slow\",\"SMA_Slow\",\"SMA_Slow\",\"SMA_Slow\",\"SMA_Slow\",\"SMA_Slow\",\"SMA_Slow\",\"SMA_Slow\",\"SMA_Slow\",\"SMA_Slow\",\"SMA_Slow\",\"SMA_Slow\",\"SMA_Slow\",\"SMA_Slow\",\"SMA_Slow\",\"SMA_Slow\",\"SMA_Slow\",\"SMA_Slow\",\"SMA_Slow\",\"SMA_Slow\",\"SMA_Slow\",\"SMA_Slow\",\"SMA_Slow\",\"SMA_Slow\",\"SMA_Slow\",\"SMA_Slow\",\"SMA_Slow\",\"SMA_Slow\",\"SMA_Slow\",\"SMA_Slow\",\"SMA_Slow\",\"SMA_Slow\",\"SMA_Slow\",\"SMA_Slow\",\"SMA_Slow\",\"SMA_Slow\",\"SMA_Slow\",\"SMA_Slow\",\"SMA_Slow\",\"SMA_Slow\",\"SMA_Slow\",\"SMA_Slow\",\"SMA_Slow\",\"SMA_Slow\",\"SMA_Slow\",\"SMA_Slow\",\"SMA_Slow\",\"SMA_Slow\",\"SMA_Slow\",\"SMA_Slow\",\"SMA_Slow\",\"SMA_Slow\",\"SMA_Slow\",\"SMA_Slow\",\"SMA_Slow\",\"SMA_Slow\",\"SMA_Slow\",\"SMA_Slow\",\"SMA_Slow\",\"SMA_Slow\",\"SMA_Slow\",\"SMA_Slow\",\"SMA_Slow\",\"SMA_Slow\",\"SMA_Slow\",\"SMA_Slow\",\"SMA_Slow\",\"SMA_Slow\",\"SMA_Slow\",\"SMA_Slow\",\"SMA_Slow\",\"SMA_Slow\",\"SMA_Slow\",\"SMA_Slow\",\"SMA_Slow\",\"SMA_Slow\",\"SMA_Slow\",\"SMA_Slow\",\"SMA_Slow\",\"SMA_Slow\",\"SMA_Slow\",\"SMA_Slow\",\"SMA_Slow\",\"SMA_Slow\",\"SMA_Slow\",\"SMA_Slow\",\"SMA_Slow\",\"SMA_Slow\",\"SMA_Slow\",\"SMA_Slow\",\"SMA_Slow\",\"SMA_Slow\",\"SMA_Slow\",\"SMA_Slow\",\"SMA_Slow\",\"SMA_Slow\",\"SMA_Slow\",\"SMA_Slow\",\"SMA_Slow\",\"SMA_Slow\",\"SMA_Slow\",\"SMA_Slow\",\"SMA_Slow\",\"SMA_Slow\",\"SMA_Slow\",\"SMA_Slow\",\"SMA_Slow\",\"SMA_Slow\",\"SMA_Slow\",\"SMA_Slow\",\"SMA_Slow\",\"SMA_Slow\",\"SMA_Slow\",\"SMA_Slow\",\"SMA_Slow\",\"SMA_Slow\",\"SMA_Slow\",\"SMA_Slow\",\"SMA_Slow\",\"SMA_Slow\",\"SMA_Slow\",\"SMA_Slow\",\"SMA_Slow\",\"SMA_Slow\",\"SMA_Slow\",\"SMA_Slow\",\"SMA_Slow\",\"SMA_Slow\",\"SMA_Slow\",\"SMA_Slow\",\"SMA_Slow\",\"SMA_Slow\",\"SMA_Slow\",\"SMA_Slow\",\"SMA_Slow\",\"SMA_Slow\",\"SMA_Slow\",\"SMA_Slow\",\"SMA_Slow\",\"SMA_Slow\",\"SMA_Slow\",\"SMA_Slow\",\"SMA_Slow\",\"SMA_Slow\",\"SMA_Slow\",\"SMA_Slow\",\"SMA_Slow\",\"SMA_Slow\",\"SMA_Slow\",\"SMA_Slow\",\"SMA_Slow\",\"SMA_Slow\",\"SMA_Slow\",\"SMA_Slow\",\"SMA_Slow\",\"SMA_Slow\",\"SMA_Slow\",\"SMA_Slow\",\"SMA_Slow\",\"SMA_Slow\",\"SMA_Slow\",\"SMA_Slow\",\"SMA_Slow\",\"SMA_Slow\",\"SMA_Slow\",\"SMA_Slow\",\"SMA_Slow\",\"SMA_Slow\",\"SMA_Slow\",\"SMA_Slow\",\"SMA_Slow\",\"SMA_Slow\",\"SMA_Slow\",\"SMA_Slow\",\"SMA_Slow\",\"SMA_Slow\",\"SMA_Slow\",\"SMA_Slow\",\"SMA_Slow\",\"SMA_Slow\",\"SMA_Slow\",\"SMA_Slow\",\"SMA_Slow\",\"SMA_Slow\",\"SMA_Slow\",\"SMA_Slow\",\"SMA_Slow\",\"SMA_Slow\",\"SMA_Slow\",\"SMA_Slow\",\"SMA_Slow\",\"SMA_Slow\",\"SMA_Slow\",\"SMA_Slow\",\"SMA_Slow\",\"SMA_Slow\",\"SMA_Slow\",\"SMA_Slow\",\"SMA_Slow\",\"SMA_Slow\",\"SMA_Slow\",\"SMA_Slow\",\"SMA_Slow\",\"SMA_Slow\",\"SMA_Slow\",\"SMA_Slow\",\"SMA_Slow\",\"SMA_Slow\",\"SMA_Slow\",\"SMA_Slow\",\"SMA_Slow\",\"SMA_Slow\",\"SMA_Slow\",\"SMA_Slow\",\"SMA_Slow\",\"SMA_Slow\",\"SMA_Slow\",\"SMA_Slow\",\"SMA_Slow\",\"SMA_Slow\",\"SMA_Slow\",\"SMA_Slow\",\"SMA_Slow\",\"SMA_Slow\",\"SMA_Slow\",\"SMA_Slow\",\"SMA_Slow\",\"SMA_Slow\",\"SMA_Slow\",\"SMA_Slow\",\"SMA_Slow\",\"SMA_Slow\",\"SMA_Slow\",\"SMA_Slow\",\"SMA_Slow\",\"SMA_Slow\",\"SMA_Slow\",\"SMA_Slow\",\"SMA_Slow\",\"SMA_Slow\",\"SMA_Slow\",\"SMA_Slow\",\"SMA_Slow\",\"SMA_Slow\",\"SMA_Slow\",\"SMA_Slow\",\"SMA_Slow\",\"SMA_Slow\",\"SMA_Slow\",\"SMA_Slow\",\"SMA_Slow\",\"SMA_Slow\",\"SMA_Slow\",\"SMA_Slow\",\"SMA_Slow\",\"SMA_Slow\",\"SMA_Slow\",\"SMA_Slow\",\"SMA_Slow\",\"SMA_Slow\",\"SMA_Slow\",\"SMA_Slow\",\"SMA_Slow\",\"SMA_Slow\",\"SMA_Slow\",\"SMA_Slow\",\"SMA_Slow\",\"SMA_Slow\",\"SMA_Slow\",\"SMA_Slow\",\"SMA_Slow\",\"SMA_Slow\",\"SMA_Slow\",\"SMA_Slow\",\"SMA_Slow\",\"SMA_Slow\",\"SMA_Slow\",\"SMA_Slow\",\"SMA_Slow\",\"SMA_Slow\",\"SMA_Slow\",\"SMA_Slow\",\"SMA_Slow\",\"SMA_Slow\",\"SMA_Slow\",\"SMA_Slow\",\"SMA_Slow\",\"SMA_Slow\",\"SMA_Slow\",\"SMA_Slow\",\"SMA_Slow\",\"SMA_Slow\",\"SMA_Slow\",\"SMA_Slow\",\"SMA_Slow\",\"SMA_Slow\",\"SMA_Slow\",\"SMA_Slow\",\"SMA_Slow\",\"SMA_Slow\",\"SMA_Slow\",\"SMA_Slow\",\"SMA_Slow\",\"SMA_Slow\",\"SMA_Slow\",\"SMA_Slow\",\"SMA_Slow\",\"SMA_Slow\",\"SMA_Slow\",\"SMA_Slow\",\"SMA_Slow\",\"SMA_Slow\",\"SMA_Slow\",\"SMA_Slow\",\"SMA_Slow\",\"SMA_Slow\",\"SMA_Slow\",\"SMA_Slow\",\"SMA_Slow\",\"SMA_Slow\",\"SMA_Slow\",\"SMA_Slow\",\"SMA_Slow\",\"SMA_Slow\",\"SMA_Slow\",\"SMA_Slow\",\"SMA_Slow\",\"SMA_Slow\",\"SMA_Slow\",\"SMA_Slow\",\"SMA_Slow\",\"SMA_Slow\",\"SMA_Slow\",\"SMA_Slow\",\"SMA_Slow\",\"SMA_Slow\",\"SMA_Slow\",\"SMA_Slow\",\"SMA_Slow\",\"SMA_Slow\",\"SMA_Slow\",\"SMA_Slow\",\"SMA_Slow\",\"SMA_Slow\",\"SMA_Slow\",\"SMA_Slow\",\"SMA_Slow\",\"SMA_Slow\",\"SMA_Slow\",\"SMA_Slow\",\"SMA_Slow\",\"SMA_Slow\",\"SMA_Slow\",\"SMA_Slow\",\"SMA_Slow\",\"SMA_Slow\",\"SMA_Slow\",\"SMA_Slow\",\"SMA_Slow\",\"SMA_Slow\",\"SMA_Slow\",\"SMA_Slow\",\"SMA_Slow\",\"SMA_Slow\",\"SMA_Slow\",\"SMA_Slow\",\"SMA_Slow\",\"SMA_Slow\",\"SMA_Slow\",\"SMA_Slow\",\"SMA_Slow\",\"SMA_Slow\",\"SMA_Slow\",\"SMA_Slow\",\"SMA_Slow\",\"SMA_Slow\",\"SMA_Slow\",\"SMA_Slow\",\"SMA_Slow\",\"SMA_Slow\",\"SMA_Slow\",\"SMA_Slow\",\"SMA_Slow\",\"SMA_Slow\",\"SMA_Slow\",\"SMA_Slow\",\"SMA_Slow\",\"SMA_Slow\",\"SMA_Slow\",\"SMA_Slow\",\"SMA_Slow\",\"SMA_Slow\",\"SMA_Slow\",\"SMA_Slow\",\"SMA_Slow\",\"SMA_Slow\",\"SMA_Slow\",\"SMA_Slow\",\"SMA_Slow\",\"SMA_Slow\",\"SMA_Slow\",\"SMA_Slow\",\"SMA_Slow\",\"SMA_Slow\",\"SMA_Slow\",\"SMA_Slow\",\"SMA_Slow\",\"SMA_Slow\",\"SMA_Slow\",\"SMA_Slow\",\"SMA_Slow\",\"SMA_Slow\",\"SMA_Slow\",\"SMA_Slow\",\"SMA_Slow\",\"SMA_Slow\",\"SMA_Slow\",\"SMA_Slow\",\"SMA_Slow\",\"SMA_Slow\",\"SMA_Slow\",\"SMA_Slow\",\"SMA_Slow\",\"SMA_Slow\",\"SMA_Slow\",\"SMA_Slow\",\"SMA_Slow\",\"SMA_Slow\",\"SMA_Slow\",\"SMA_Slow\",\"SMA_Slow\",\"SMA_Slow\",\"SMA_Slow\",\"SMA_Slow\",\"SMA_Slow\",\"SMA_Slow\",\"SMA_Slow\",\"SMA_Slow\",\"SMA_Slow\",\"SMA_Slow\",\"SMA_Slow\",\"SMA_Slow\",\"SMA_Slow\",\"SMA_Slow\",\"SMA_Slow\",\"SMA_Slow\",\"SMA_Slow\",\"SMA_Slow\",\"SMA_Slow\",\"SMA_Slow\",\"SMA_Slow\",\"SMA_Slow\",\"SMA_Slow\",\"SMA_Slow\",\"SMA_Slow\",\"SMA_Slow\",\"SMA_Slow\",\"SMA_Slow\",\"SMA_Slow\",\"SMA_Slow\",\"SMA_Slow\",\"SMA_Slow\",\"SMA_Slow\",\"SMA_Slow\",\"SMA_Slow\",\"SMA_Slow\",\"SMA_Slow\",\"SMA_Slow\",\"SMA_Slow\",\"SMA_Slow\",\"SMA_Slow\",\"SMA_Slow\",\"SMA_Slow\",\"SMA_Slow\",\"SMA_Slow\",\"SMA_Slow\",\"SMA_Slow\",\"SMA_Slow\",\"SMA_Slow\",\"SMA_Slow\",\"SMA_Slow\",\"SMA_Slow\",\"SMA_Slow\",\"SMA_Slow\",\"SMA_Slow\",\"SMA_Slow\",\"SMA_Slow\",\"SMA_Slow\",\"SMA_Slow\",\"SMA_Slow\",\"SMA_Slow\",\"SMA_Slow\",\"SMA_Slow\",\"SMA_Slow\",\"SMA_Slow\",\"SMA_Slow\",\"SMA_Slow\",\"SMA_Slow\",\"SMA_Slow\",\"SMA_Slow\",\"SMA_Slow\",\"SMA_Slow\",\"SMA_Slow\",\"SMA_Slow\",\"SMA_Slow\",\"SMA_Slow\",\"SMA_Slow\",\"SMA_Slow\",\"SMA_Slow\",\"SMA_Slow\",\"SMA_Slow\",\"SMA_Slow\",\"SMA_Slow\",\"SMA_Slow\",\"SMA_Slow\",\"SMA_Slow\",\"SMA_Slow\",\"SMA_Slow\",\"SMA_Slow\",\"SMA_Slow\",\"SMA_Slow\",\"SMA_Slow\",\"SMA_Slow\",\"SMA_Slow\",\"SMA_Slow\",\"SMA_Slow\",\"SMA_Slow\",\"SMA_Slow\",\"SMA_Slow\",\"SMA_Slow\",\"SMA_Slow\",\"SMA_Slow\",\"SMA_Slow\",\"SMA_Slow\",\"SMA_Slow\",\"SMA_Slow\",\"SMA_Slow\",\"SMA_Slow\",\"SMA_Slow\",\"SMA_Slow\",\"SMA_Slow\",\"SMA_Slow\",\"SMA_Slow\",\"SMA_Slow\",\"SMA_Slow\",\"SMA_Slow\",\"SMA_Slow\",\"SMA_Slow\",\"SMA_Slow\",\"SMA_Slow\",\"SMA_Slow\",\"SMA_Slow\",\"SMA_Slow\",\"SMA_Slow\",\"SMA_Slow\",\"SMA_Slow\",\"SMA_Slow\",\"SMA_Slow\",\"SMA_Slow\",\"SMA_Slow\",\"SMA_Slow\",\"SMA_Slow\",\"SMA_Slow\",\"SMA_Slow\",\"SMA_Slow\",\"SMA_Slow\",\"SMA_Slow\",\"SMA_Slow\",\"SMA_Slow\",\"SMA_Slow\",\"SMA_Slow\",\"SMA_Slow\",\"SMA_Slow\",\"SMA_Slow\",\"SMA_Slow\",\"SMA_Slow\",\"SMA_Slow\",\"SMA_Slow\",\"SMA_Slow\",\"SMA_Slow\",\"SMA_Slow\",\"SMA_Slow\",\"SMA_Slow\",\"SMA_Slow\",\"SMA_Slow\",\"SMA_Slow\",\"SMA_Slow\",\"SMA_Slow\",\"SMA_Slow\",\"SMA_Slow\",\"SMA_Slow\",\"SMA_Slow\",\"SMA_Slow\",\"SMA_Slow\",\"SMA_Slow\",\"SMA_Slow\",\"SMA_Slow\",\"SMA_Slow\",\"SMA_Slow\",\"SMA_Slow\",\"SMA_Slow\",\"SMA_Slow\",\"SMA_Slow\",\"SMA_Slow\",\"SMA_Slow\",\"SMA_Slow\",\"SMA_Slow\",\"SMA_Slow\",\"SMA_Slow\",\"SMA_Slow\",\"SMA_Slow\",\"SMA_Slow\",\"SMA_Slow\",\"SMA_Slow\",\"SMA_Slow\",\"SMA_Slow\",\"SMA_Slow\",\"SMA_Slow\",\"SMA_Slow\",\"SMA_Slow\",\"SMA_Slow\",\"SMA_Slow\",\"SMA_Slow\",\"SMA_Slow\",\"SMA_Slow\",\"SMA_Slow\",\"SMA_Slow\",\"SMA_Slow\",\"SMA_Slow\",\"SMA_Slow\",\"SMA_Slow\",\"SMA_Slow\",\"SMA_Slow\",\"SMA_Slow\",\"SMA_Slow\",\"SMA_Slow\",\"SMA_Slow\",\"SMA_Slow\",\"SMA_Slow\",\"SMA_Slow\",\"SMA_Slow\",\"SMA_Slow\",\"SMA_Slow\",\"SMA_Slow\",\"SMA_Slow\",\"SMA_Slow\",\"SMA_Slow\",\"SMA_Slow\",\"SMA_Slow\",\"SMA_Slow\",\"SMA_Slow\",\"SMA_Slow\",\"SMA_Slow\",\"SMA_Slow\",\"SMA_Slow\",\"SMA_Slow\",\"SMA_Slow\",\"SMA_Slow\",\"SMA_Slow\",\"SMA_Slow\",\"SMA_Slow\",\"SMA_Slow\",\"SMA_Slow\",\"SMA_Slow\",\"SMA_Slow\",\"SMA_Slow\",\"SMA_Slow\",\"SMA_Slow\",\"SMA_Slow\",\"SMA_Slow\",\"SMA_Slow\",\"SMA_Slow\",\"SMA_Slow\",\"SMA_Slow\",\"SMA_Slow\",\"SMA_Slow\",\"SMA_Slow\",\"SMA_Slow\",\"SMA_Slow\",\"SMA_Slow\",\"SMA_Slow\",\"SMA_Slow\",\"SMA_Slow\",\"SMA_Slow\",\"SMA_Slow\",\"SMA_Slow\",\"SMA_Slow\",\"SMA_Slow\",\"SMA_Slow\",\"SMA_Slow\",\"SMA_Slow\",\"SMA_Slow\",\"SMA_Slow\",\"SMA_Slow\",\"SMA_Slow\",\"SMA_Slow\",\"SMA_Slow\",\"SMA_Slow\",\"SMA_Slow\",\"SMA_Slow\",\"SMA_Slow\",\"SMA_Slow\",\"SMA_Slow\",\"SMA_Slow\",\"SMA_Slow\",\"SMA_Slow\",\"SMA_Slow\",\"SMA_Slow\",\"SMA_Slow\",\"SMA_Slow\",\"SMA_Slow\",\"SMA_Slow\",\"SMA_Slow\",\"SMA_Slow\",\"SMA_Slow\",\"SMA_Slow\",\"SMA_Slow\",\"SMA_Slow\",\"SMA_Slow\",\"SMA_Slow\",\"SMA_Slow\",\"SMA_Slow\",\"SMA_Slow\",\"SMA_Slow\",\"SMA_Slow\",\"SMA_Slow\",\"SMA_Slow\",\"SMA_Slow\",\"SMA_Slow\",\"SMA_Slow\",\"SMA_Slow\",\"SMA_Slow\",\"SMA_Slow\",\"SMA_Slow\",\"SMA_Slow\",\"SMA_Slow\",\"SMA_Slow\",\"SMA_Slow\",\"SMA_Slow\",\"SMA_Slow\",\"SMA_Slow\",\"SMA_Slow\",\"SMA_Slow\",\"SMA_Slow\",\"SMA_Slow\",\"SMA_Slow\",\"SMA_Slow\",\"SMA_Slow\",\"SMA_Slow\",\"SMA_Slow\",\"SMA_Slow\",\"SMA_Slow\",\"SMA_Slow\",\"SMA_Slow\",\"SMA_Slow\",\"SMA_Slow\",\"SMA_Slow\",\"SMA_Slow\",\"SMA_Slow\",\"SMA_Slow\",\"SMA_Slow\",\"SMA_Slow\",\"SMA_Slow\",\"SMA_Slow\",\"SMA_Slow\",\"SMA_Slow\",\"SMA_Slow\",\"SMA_Slow\",\"SMA_Slow\",\"SMA_Slow\",\"SMA_Slow\",\"SMA_Slow\",\"SMA_Slow\",\"SMA_Slow\",\"SMA_Slow\",\"SMA_Slow\",\"SMA_Slow\",\"SMA_Slow\",\"SMA_Slow\",\"SMA_Slow\",\"SMA_Slow\",\"SMA_Slow\",\"SMA_Slow\",\"SMA_Slow\",\"SMA_Slow\",\"SMA_Slow\",\"SMA_Slow\",\"SMA_Slow\",\"SMA_Slow\",\"SMA_Slow\",\"SMA_Slow\",\"SMA_Slow\",\"SMA_Slow\",\"SMA_Slow\",\"SMA_Slow\",\"SMA_Slow\",\"SMA_Slow\",\"SMA_Slow\",\"SMA_Slow\",\"SMA_Slow\",\"SMA_Slow\",\"SMA_Slow\",\"SMA_Slow\",\"SMA_Slow\",\"SMA_Slow\",\"SMA_Slow\",\"SMA_Slow\",\"SMA_Slow\",\"SMA_Slow\",\"SMA_Slow\",\"SMA_Slow\",\"SMA_Slow\",\"SMA_Slow\",\"SMA_Slow\",\"SMA_Slow\",\"SMA_Slow\",\"SMA_Slow\",\"SMA_Slow\",\"SMA_Slow\",\"SMA_Slow\",\"SMA_Slow\",\"SMA_Slow\",\"SMA_Slow\",\"SMA_Slow\",\"SMA_Slow\",\"SMA_Slow\",\"SMA_Slow\",\"SMA_Slow\",\"SMA_Slow\",\"SMA_Slow\",\"SMA_Slow\",\"SMA_Slow\",\"SMA_Slow\",\"SMA_Slow\",\"SMA_Slow\",\"SMA_Slow\",\"SMA_Slow\",\"SMA_Slow\",\"SMA_Slow\",\"SMA_Slow\",\"SMA_Slow\",\"SMA_Slow\",\"SMA_Slow\",\"SMA_Slow\",\"SMA_Slow\",\"SMA_Slow\",\"SMA_Slow\",\"SMA_Slow\",\"SMA_Slow\",\"SMA_Slow\",\"SMA_Slow\",\"SMA_Slow\",\"SMA_Slow\",\"SMA_Slow\",\"SMA_Slow\",\"SMA_Slow\",\"SMA_Slow\",\"SMA_Slow\",\"SMA_Slow\",\"SMA_Slow\",\"SMA_Slow\",\"SMA_Slow\",\"SMA_Slow\",\"SMA_Slow\",\"SMA_Slow\",\"SMA_Slow\",\"SMA_Slow\",\"SMA_Slow\",\"SMA_Slow\",\"SMA_Slow\",\"SMA_Slow\",\"SMA_Slow\",\"SMA_Slow\",\"SMA_Slow\",\"SMA_Slow\",\"SMA_Slow\",\"SMA_Slow\",\"SMA_Slow\",\"SMA_Slow\",\"SMA_Slow\",\"SMA_Slow\",\"SMA_Slow\",\"SMA_Slow\",\"SMA_Slow\",\"SMA_Slow\",\"SMA_Slow\",\"SMA_Slow\",\"SMA_Slow\",\"SMA_Slow\",\"SMA_Slow\",\"SMA_Slow\",\"SMA_Slow\",\"SMA_Slow\",\"SMA_Slow\",\"SMA_Slow\",\"SMA_Slow\",\"SMA_Slow\",\"SMA_Slow\",\"SMA_Slow\",\"SMA_Slow\",\"SMA_Slow\",\"SMA_Slow\",\"SMA_Slow\",\"SMA_Slow\",\"SMA_Slow\",\"SMA_Slow\",\"SMA_Slow\",\"SMA_Slow\",\"SMA_Slow\",\"SMA_Slow\",\"SMA_Slow\",\"SMA_Slow\",\"SMA_Slow\",\"SMA_Slow\",\"SMA_Slow\",\"SMA_Slow\",\"SMA_Slow\",\"SMA_Slow\",\"SMA_Slow\",\"SMA_Slow\",\"SMA_Slow\",\"SMA_Slow\",\"SMA_Slow\",\"SMA_Slow\",\"SMA_Slow\",\"SMA_Slow\",\"SMA_Slow\",\"SMA_Slow\",\"SMA_Slow\",\"SMA_Slow\",\"SMA_Slow\",\"SMA_Slow\",\"SMA_Slow\",\"SMA_Slow\",\"SMA_Slow\",\"SMA_Slow\",\"SMA_Slow\",\"SMA_Slow\",\"SMA_Slow\",\"SMA_Slow\",\"SMA_Slow\",\"SMA_Slow\",\"SMA_Slow\",\"SMA_Slow\",\"SMA_Slow\",\"SMA_Slow\",\"SMA_Slow\",\"SMA_Slow\",\"SMA_Slow\",\"SMA_Slow\",\"SMA_Slow\",\"SMA_Slow\",\"SMA_Slow\",\"SMA_Slow\",\"SMA_Slow\",\"SMA_Slow\",\"SMA_Slow\",\"SMA_Slow\",\"SMA_Slow\",\"SMA_Slow\",\"SMA_Slow\",\"SMA_Slow\",\"SMA_Slow\",\"SMA_Slow\",\"SMA_Slow\",\"SMA_Slow\",\"SMA_Slow\",\"SMA_Slow\",\"SMA_Slow\",\"SMA_Slow\",\"SMA_Slow\",\"SMA_Slow\",\"SMA_Slow\",\"SMA_Slow\",\"SMA_Slow\",\"SMA_Slow\",\"SMA_Slow\",\"SMA_Slow\",\"SMA_Slow\",\"SMA_Slow\",\"SMA_Slow\",\"SMA_Slow\",\"SMA_Slow\",\"SMA_Slow\",\"SMA_Slow\",\"SMA_Slow\",\"SMA_Slow\",\"SMA_Slow\",\"SMA_Slow\",\"SMA_Slow\",\"SMA_Slow\",\"SMA_Slow\",\"SMA_Slow\",\"SMA_Slow\",\"SMA_Slow\",\"SMA_Slow\",\"SMA_Slow\",\"SMA_Slow\",\"SMA_Slow\",\"SMA_Slow\",\"SMA_Slow\",\"SMA_Slow\",\"SMA_Slow\",\"SMA_Slow\",\"SMA_Slow\",\"SMA_Slow\",\"SMA_Slow\",\"SMA_Slow\",\"SMA_Slow\",\"SMA_Slow\",\"SMA_Slow\",\"SMA_Slow\",\"SMA_Slow\",\"SMA_Slow\",\"SMA_Slow\",\"SMA_Slow\",\"SMA_Slow\",\"SMA_Slow\",\"SMA_Slow\",\"SMA_Slow\",\"SMA_Slow\",\"SMA_Slow\",\"SMA_Slow\",\"SMA_Slow\",\"SMA_Slow\",\"SMA_Slow\",\"SMA_Slow\",\"SMA_Slow\",\"SMA_Slow\",\"SMA_Slow\",\"SMA_Slow\",\"SMA_Slow\",\"SMA_Slow\",\"SMA_Slow\",\"SMA_Slow\",\"SMA_Slow\",\"SMA_Slow\",\"SMA_Slow\",\"SMA_Slow\",\"SMA_Slow\",\"SMA_Slow\",\"SMA_Slow\",\"SMA_Slow\",\"SMA_Slow\",\"SMA_Slow\",\"SMA_Slow\",\"SMA_Slow\",\"SMA_Slow\",\"SMA_Slow\",\"SMA_Slow\",\"SMA_Slow\",\"SMA_Slow\",\"SMA_Slow\",\"SMA_Slow\",\"SMA_Slow\",\"SMA_Slow\",\"SMA_Slow\",\"SMA_Slow\",\"SMA_Slow\",\"SMA_Slow\",\"SMA_Slow\",\"SMA_Slow\",\"SMA_Slow\"],\"date\":{\"__ndarray__\":\"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\",\"dtype\":\"float64\",\"order\":\"little\",\"shape\":[4123]},\"value\":{\"__ndarray__\":\"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\",\"dtype\":\"float64\",\"order\":\"little\",\"shape\":[4123]}},\"selected\":{\"id\":\"1419\"},\"selection_policy\":{\"id\":\"1437\"}},\"id\":\"1418\",\"type\":\"ColumnDataSource\"}],\"root_ids\":[\"1328\"]},\"title\":\"Bokeh Application\",\"version\":\"2.4.3\"}};\n",
       "    var render_items = [{\"docid\":\"850881f0-6b48-4f88-a43a-9728357a22e2\",\"root_ids\":[\"1328\"],\"roots\":{\"1328\":\"88f76e55-f1ab-4093-908a-5254ab6aacab\"}}];\n",
       "    root.Bokeh.embed.embed_items_notebook(docs_json, render_items);\n",
       "    for (const render_item of render_items) {\n",
       "      for (const root_id of render_item.root_ids) {\n",
       "\tconst id_el = document.getElementById(root_id)\n",
       "\tif (id_el.children.length && (id_el.children[0].className === 'bk-root')) {\n",
       "\t  const root_el = id_el.children[0]\n",
       "\t  root_el.id = root_el.id + '-rendered'\n",
       "\t}\n",
       "      }\n",
       "    }\n",
       "  }\n",
       "  if (root.Bokeh !== undefined && root.Bokeh.Panel !== undefined) {\n",
       "    embed_document(root);\n",
       "  } else {\n",
       "    var attempts = 0;\n",
       "    var timer = setInterval(function(root) {\n",
       "      if (root.Bokeh !== undefined && root.Bokeh.Panel !== undefined) {\n",
       "        clearInterval(timer);\n",
       "        embed_document(root);\n",
       "      } else if (document.readyState == \"complete\") {\n",
       "        attempts++;\n",
       "        if (attempts > 200) {\n",
       "          clearInterval(timer);\n",
       "          console.log(\"Bokeh: ERROR: Unable to run BokehJS code because BokehJS library is missing\");\n",
       "        }\n",
       "      }\n",
       "    }, 25, root)\n",
       "  }\n",
       "})(window);</script>"
      ],
      "text/plain": [
       ":Overlay\n",
       "   .Curve.I          :Curve   [date]   (close)\n",
       "   .NdOverlay.I      :NdOverlay   [Variable]\n",
       "      :Curve   [date]   (value)\n",
       "   .Scatter.Close.I  :Scatter   [date]   (close)\n",
       "   .Scatter.Close.II :Scatter   [date]   (close)"
      ]
     },
     "execution_count": 86,
     "metadata": {
      "application/vnd.holoviews_exec.v0+json": {
       "id": "1328"
      }
     },
     "output_type": "execute_result"
    }
   ],
   "source": [
    "# Visualize entry positions relative to close price\n",
    "entry = signals_df[signals_df['Entry/Exit'] == 1.0]['close'].hvplot.scatter(\n",
    "    color='purple',\n",
    "    marker='^',\n",
    "    legend=False,\n",
    "    ylabel='Price in $',\n",
    "    width=1000,\n",
    "    height=400)\n",
    "\n",
    "# Visualize exit positions relative to close price\n",
    "exit = signals_df[signals_df['Entry/Exit'] == -1.0]['close'].hvplot.scatter(\n",
    "    color='orange',\n",
    "    marker='v',\n",
    "    legend=False,\n",
    "    ylabel='Price in $',\n",
    "    width=1000,\n",
    "    height=400)\n",
    "\n",
    "# Visualize the close price for the investment\n",
    "security_close = signals_df[['close']].hvplot(\n",
    "    line_color='lightgray',\n",
    "    ylabel='Price in $',\n",
    "    width=1000,\n",
    "    height=400)\n",
    "\n",
    "# Visualize the moving averages\n",
    "moving_avgs = signals_df[['SMA_Fast', 'SMA_Slow']].hvplot(\n",
    "    ylabel='Price in $',\n",
    "    width=1000,\n",
    "    height=400)\n",
    "\n",
    "# Overlay the plots\n",
    "entry_exit_plot = security_close * moving_avgs * entry * exit\n",
    "entry_exit_plot.opts(\n",
    "    title=\"VNQ - Short-Position Dual Moving Average Trading Algorithm\"\n",
    ")"
   ]
  },
  {
   "cell_type": "code",
   "execution_count": 87,
   "metadata": {},
   "outputs": [
    {
     "data": {
      "text/plain": [
       " 1.0    2304\n",
       "-1.0    1819\n",
       "Name: Signal, dtype: int64"
      ]
     },
     "execution_count": 87,
     "metadata": {},
     "output_type": "execute_result"
    }
   ],
   "source": [
    "signals_df['Signal'].value_counts()"
   ]
  },
  {
   "cell_type": "code",
   "execution_count": 88,
   "metadata": {},
   "outputs": [
    {
     "data": {
      "text/html": [
       "<div>\n",
       "<style scoped>\n",
       "    .dataframe tbody tr th:only-of-type {\n",
       "        vertical-align: middle;\n",
       "    }\n",
       "\n",
       "    .dataframe tbody tr th {\n",
       "        vertical-align: top;\n",
       "    }\n",
       "\n",
       "    .dataframe thead th {\n",
       "        text-align: right;\n",
       "    }\n",
       "</style>\n",
       "<table border=\"1\" class=\"dataframe\">\n",
       "  <thead>\n",
       "    <tr style=\"text-align: right;\">\n",
       "      <th></th>\n",
       "      <th>close</th>\n",
       "      <th>Actual Returns</th>\n",
       "      <th>SMA_Fast</th>\n",
       "      <th>SMA_Slow</th>\n",
       "      <th>Signal</th>\n",
       "      <th>Entry/Exit</th>\n",
       "      <th>Strategy Returns</th>\n",
       "    </tr>\n",
       "    <tr>\n",
       "      <th>date</th>\n",
       "      <th></th>\n",
       "      <th></th>\n",
       "      <th></th>\n",
       "      <th></th>\n",
       "      <th></th>\n",
       "      <th></th>\n",
       "      <th></th>\n",
       "    </tr>\n",
       "  </thead>\n",
       "  <tbody>\n",
       "    <tr>\n",
       "      <th>2015-06-12 10:00:00</th>\n",
       "      <td>24.38</td>\n",
       "      <td>0.001232</td>\n",
       "      <td>25.2254</td>\n",
       "      <td>24.88590</td>\n",
       "      <td>1.0</td>\n",
       "      <td>NaN</td>\n",
       "      <td>NaN</td>\n",
       "    </tr>\n",
       "    <tr>\n",
       "      <th>2015-06-12 10:15:00</th>\n",
       "      <td>24.33</td>\n",
       "      <td>-0.002051</td>\n",
       "      <td>25.1916</td>\n",
       "      <td>24.88765</td>\n",
       "      <td>-1.0</td>\n",
       "      <td>-2.0</td>\n",
       "      <td>-0.002051</td>\n",
       "    </tr>\n",
       "    <tr>\n",
       "      <th>2015-06-12 11:00:00</th>\n",
       "      <td>24.25</td>\n",
       "      <td>-0.003288</td>\n",
       "      <td>25.1574</td>\n",
       "      <td>24.88680</td>\n",
       "      <td>-1.0</td>\n",
       "      <td>0.0</td>\n",
       "      <td>0.003288</td>\n",
       "    </tr>\n",
       "    <tr>\n",
       "      <th>2015-06-12 11:45:00</th>\n",
       "      <td>24.36</td>\n",
       "      <td>0.004536</td>\n",
       "      <td>25.1252</td>\n",
       "      <td>24.88640</td>\n",
       "      <td>1.0</td>\n",
       "      <td>2.0</td>\n",
       "      <td>-0.004536</td>\n",
       "    </tr>\n",
       "    <tr>\n",
       "      <th>2015-06-15 10:15:00</th>\n",
       "      <td>24.06</td>\n",
       "      <td>-0.012315</td>\n",
       "      <td>25.0862</td>\n",
       "      <td>24.88440</td>\n",
       "      <td>-1.0</td>\n",
       "      <td>-2.0</td>\n",
       "      <td>-0.012315</td>\n",
       "    </tr>\n",
       "  </tbody>\n",
       "</table>\n",
       "</div>"
      ],
      "text/plain": [
       "                     close  Actual Returns  SMA_Fast  SMA_Slow  Signal  \\\n",
       "date                                                                     \n",
       "2015-06-12 10:00:00  24.38        0.001232   25.2254  24.88590     1.0   \n",
       "2015-06-12 10:15:00  24.33       -0.002051   25.1916  24.88765    -1.0   \n",
       "2015-06-12 11:00:00  24.25       -0.003288   25.1574  24.88680    -1.0   \n",
       "2015-06-12 11:45:00  24.36        0.004536   25.1252  24.88640     1.0   \n",
       "2015-06-15 10:15:00  24.06       -0.012315   25.0862  24.88440    -1.0   \n",
       "\n",
       "                     Entry/Exit  Strategy Returns  \n",
       "date                                               \n",
       "2015-06-12 10:00:00         NaN               NaN  \n",
       "2015-06-12 10:15:00        -2.0         -0.002051  \n",
       "2015-06-12 11:00:00         0.0          0.003288  \n",
       "2015-06-12 11:45:00         2.0         -0.004536  \n",
       "2015-06-15 10:15:00        -2.0         -0.012315  "
      ]
     },
     "metadata": {},
     "output_type": "display_data"
    },
    {
     "data": {
      "text/html": [
       "<div>\n",
       "<style scoped>\n",
       "    .dataframe tbody tr th:only-of-type {\n",
       "        vertical-align: middle;\n",
       "    }\n",
       "\n",
       "    .dataframe tbody tr th {\n",
       "        vertical-align: top;\n",
       "    }\n",
       "\n",
       "    .dataframe thead th {\n",
       "        text-align: right;\n",
       "    }\n",
       "</style>\n",
       "<table border=\"1\" class=\"dataframe\">\n",
       "  <thead>\n",
       "    <tr style=\"text-align: right;\">\n",
       "      <th></th>\n",
       "      <th>close</th>\n",
       "      <th>Actual Returns</th>\n",
       "      <th>SMA_Fast</th>\n",
       "      <th>SMA_Slow</th>\n",
       "      <th>Signal</th>\n",
       "      <th>Entry/Exit</th>\n",
       "      <th>Strategy Returns</th>\n",
       "    </tr>\n",
       "    <tr>\n",
       "      <th>date</th>\n",
       "      <th></th>\n",
       "      <th></th>\n",
       "      <th></th>\n",
       "      <th></th>\n",
       "      <th></th>\n",
       "      <th></th>\n",
       "      <th></th>\n",
       "    </tr>\n",
       "  </thead>\n",
       "  <tbody>\n",
       "    <tr>\n",
       "      <th>2021-01-22 09:30:00</th>\n",
       "      <td>33.27</td>\n",
       "      <td>-0.006866</td>\n",
       "      <td>31.2232</td>\n",
       "      <td>29.05610</td>\n",
       "      <td>-1.0</td>\n",
       "      <td>-2.0</td>\n",
       "      <td>-0.006866</td>\n",
       "    </tr>\n",
       "    <tr>\n",
       "      <th>2021-01-22 11:30:00</th>\n",
       "      <td>33.35</td>\n",
       "      <td>0.002405</td>\n",
       "      <td>31.2848</td>\n",
       "      <td>29.08625</td>\n",
       "      <td>1.0</td>\n",
       "      <td>2.0</td>\n",
       "      <td>-0.002405</td>\n",
       "    </tr>\n",
       "    <tr>\n",
       "      <th>2021-01-22 13:45:00</th>\n",
       "      <td>33.42</td>\n",
       "      <td>0.002099</td>\n",
       "      <td>31.3480</td>\n",
       "      <td>29.11665</td>\n",
       "      <td>1.0</td>\n",
       "      <td>0.0</td>\n",
       "      <td>0.002099</td>\n",
       "    </tr>\n",
       "    <tr>\n",
       "      <th>2021-01-22 14:30:00</th>\n",
       "      <td>33.47</td>\n",
       "      <td>0.001496</td>\n",
       "      <td>31.4132</td>\n",
       "      <td>29.14690</td>\n",
       "      <td>1.0</td>\n",
       "      <td>0.0</td>\n",
       "      <td>0.001496</td>\n",
       "    </tr>\n",
       "    <tr>\n",
       "      <th>2021-01-22 15:45:00</th>\n",
       "      <td>33.44</td>\n",
       "      <td>-0.000896</td>\n",
       "      <td>31.4768</td>\n",
       "      <td>29.17835</td>\n",
       "      <td>-1.0</td>\n",
       "      <td>-2.0</td>\n",
       "      <td>-0.000896</td>\n",
       "    </tr>\n",
       "  </tbody>\n",
       "</table>\n",
       "</div>"
      ],
      "text/plain": [
       "                     close  Actual Returns  SMA_Fast  SMA_Slow  Signal  \\\n",
       "date                                                                     \n",
       "2021-01-22 09:30:00  33.27       -0.006866   31.2232  29.05610    -1.0   \n",
       "2021-01-22 11:30:00  33.35        0.002405   31.2848  29.08625     1.0   \n",
       "2021-01-22 13:45:00  33.42        0.002099   31.3480  29.11665     1.0   \n",
       "2021-01-22 14:30:00  33.47        0.001496   31.4132  29.14690     1.0   \n",
       "2021-01-22 15:45:00  33.44       -0.000896   31.4768  29.17835    -1.0   \n",
       "\n",
       "                     Entry/Exit  Strategy Returns  \n",
       "date                                               \n",
       "2021-01-22 09:30:00        -2.0         -0.006866  \n",
       "2021-01-22 11:30:00         2.0         -0.002405  \n",
       "2021-01-22 13:45:00         0.0          0.002099  \n",
       "2021-01-22 14:30:00         0.0          0.001496  \n",
       "2021-01-22 15:45:00        -2.0         -0.000896  "
      ]
     },
     "metadata": {},
     "output_type": "display_data"
    }
   ],
   "source": [
    "# Calculate the strategy returns and add them to the signals_df DataFrame\n",
    "signals_df['Strategy Returns'] = signals_df['Actual Returns'] * signals_df['Signal'].shift()\n",
    "\n",
    "# Review the DataFrame\n",
    "display(signals_df.head())\n",
    "display(signals_df.tail())"
   ]
  },
  {
   "cell_type": "code",
   "execution_count": 89,
   "metadata": {},
   "outputs": [
    {
     "data": {
      "text/plain": [
       "<AxesSubplot:xlabel='date'>"
      ]
     },
     "execution_count": 89,
     "metadata": {},
     "output_type": "execute_result"
    },
    {
     "data": {
      "image/png": "[encoded data removed]",
      "text/plain": [
       "<Figure size 640x480 with 1 Axes>"
      ]
     },
     "metadata": {},
     "output_type": "display_data"
    }
   ],
   "source": [
    "# Plot Strategy Returns to examine performance\n",
    "(1 + signals_df['Strategy Returns']).cumprod().plot()"
   ]
  },
  {
   "cell_type": "markdown",
   "metadata": {},
   "source": [
    "### Step 3: Split the data into training and testing datasets."
   ]
  },
  {
   "cell_type": "code",
   "execution_count": 90,
   "metadata": {},
   "outputs": [
    {
     "data": {
      "text/html": [
       "<div>\n",
       "<style scoped>\n",
       "    .dataframe tbody tr th:only-of-type {\n",
       "        vertical-align: middle;\n",
       "    }\n",
       "\n",
       "    .dataframe tbody tr th {\n",
       "        vertical-align: top;\n",
       "    }\n",
       "\n",
       "    .dataframe thead th {\n",
       "        text-align: right;\n",
       "    }\n",
       "</style>\n",
       "<table border=\"1\" class=\"dataframe\">\n",
       "  <thead>\n",
       "    <tr style=\"text-align: right;\">\n",
       "      <th></th>\n",
       "      <th>SMA_Fast</th>\n",
       "      <th>SMA_Slow</th>\n",
       "    </tr>\n",
       "    <tr>\n",
       "      <th>date</th>\n",
       "      <th></th>\n",
       "      <th></th>\n",
       "    </tr>\n",
       "  </thead>\n",
       "  <tbody>\n",
       "    <tr>\n",
       "      <th>2015-06-12 10:15:00</th>\n",
       "      <td>25.2254</td>\n",
       "      <td>24.88590</td>\n",
       "    </tr>\n",
       "    <tr>\n",
       "      <th>2015-06-12 11:00:00</th>\n",
       "      <td>25.1916</td>\n",
       "      <td>24.88765</td>\n",
       "    </tr>\n",
       "    <tr>\n",
       "      <th>2015-06-12 11:45:00</th>\n",
       "      <td>25.1574</td>\n",
       "      <td>24.88680</td>\n",
       "    </tr>\n",
       "  </tbody>\n",
       "</table>\n",
       "</div>"
      ],
      "text/plain": [
       "                     SMA_Fast  SMA_Slow\n",
       "date                                   \n",
       "2015-06-12 10:15:00   25.2254  24.88590\n",
       "2015-06-12 11:00:00   25.1916  24.88765\n",
       "2015-06-12 11:45:00   25.1574  24.88680"
      ]
     },
     "metadata": {},
     "output_type": "display_data"
    },
    {
     "data": {
      "text/html": [
       "<div>\n",
       "<style scoped>\n",
       "    .dataframe tbody tr th:only-of-type {\n",
       "        vertical-align: middle;\n",
       "    }\n",
       "\n",
       "    .dataframe tbody tr th {\n",
       "        vertical-align: top;\n",
       "    }\n",
       "\n",
       "    .dataframe thead th {\n",
       "        text-align: right;\n",
       "    }\n",
       "</style>\n",
       "<table border=\"1\" class=\"dataframe\">\n",
       "  <thead>\n",
       "    <tr style=\"text-align: right;\">\n",
       "      <th></th>\n",
       "      <th>SMA_Fast</th>\n",
       "      <th>SMA_Slow</th>\n",
       "    </tr>\n",
       "    <tr>\n",
       "      <th>date</th>\n",
       "      <th></th>\n",
       "      <th></th>\n",
       "    </tr>\n",
       "  </thead>\n",
       "  <tbody>\n",
       "    <tr>\n",
       "      <th>2021-01-22 13:45:00</th>\n",
       "      <td>31.2848</td>\n",
       "      <td>29.08625</td>\n",
       "    </tr>\n",
       "    <tr>\n",
       "      <th>2021-01-22 14:30:00</th>\n",
       "      <td>31.3480</td>\n",
       "      <td>29.11665</td>\n",
       "    </tr>\n",
       "    <tr>\n",
       "      <th>2021-01-22 15:45:00</th>\n",
       "      <td>31.4132</td>\n",
       "      <td>29.14690</td>\n",
       "    </tr>\n",
       "  </tbody>\n",
       "</table>\n",
       "</div>"
      ],
      "text/plain": [
       "                     SMA_Fast  SMA_Slow\n",
       "date                                   \n",
       "2021-01-22 13:45:00   31.2848  29.08625\n",
       "2021-01-22 14:30:00   31.3480  29.11665\n",
       "2021-01-22 15:45:00   31.4132  29.14690"
      ]
     },
     "metadata": {},
     "output_type": "display_data"
    }
   ],
   "source": [
    "# Assign a copy of the sma_fast and sma_slow columns to a features DataFrame called X\n",
    "X = signals_df[['SMA_Fast', 'SMA_Slow']].shift().dropna()\n",
    "\n",
    "# Review the DataFrame\n",
    "rows = 3\n",
    "display(X.head(rows))\n",
    "display(X.tail(rows))\n"
   ]
  },
  {
   "cell_type": "code",
   "execution_count": 91,
   "metadata": {},
   "outputs": [
    {
     "data": {
      "text/plain": [
       " 1.0    2304\n",
       "-1.0    1819\n",
       "Name: Signal, dtype: int64"
      ]
     },
     "execution_count": 91,
     "metadata": {},
     "output_type": "execute_result"
    }
   ],
   "source": [
    "# Create the target set selecting the Signal column and assiging it to y\n",
    "y = signals_df['Signal']\n",
    "\n",
    "# Review the value counts\n",
    "y.value_counts()"
   ]
  },
  {
   "cell_type": "code",
   "execution_count": 92,
   "metadata": {},
   "outputs": [
    {
     "name": "stdout",
     "output_type": "stream",
     "text": [
      "2015-06-12 10:15:00\n"
     ]
    }
   ],
   "source": [
    "# Select the start of the training period\n",
    "training_begin = X.index.min()\n",
    "\n",
    "# Display the training begin date\n",
    "print(training_begin)"
   ]
  },
  {
   "cell_type": "code",
   "execution_count": 93,
   "metadata": {},
   "outputs": [
    {
     "name": "stdout",
     "output_type": "stream",
     "text": [
      "2015-12-12 10:15:00\n"
     ]
    }
   ],
   "source": [
    "# Select the ending period for the training data with an offset of 3 months\n",
    "training_end = X.index.min() + DateOffset(months=6)\n",
    "\n",
    "# Display the training end date\n",
    "print(training_end)"
   ]
  },
  {
   "cell_type": "code",
   "execution_count": 94,
   "metadata": {},
   "outputs": [
    {
     "data": {
      "text/html": [
       "<div>\n",
       "<style scoped>\n",
       "    .dataframe tbody tr th:only-of-type {\n",
       "        vertical-align: middle;\n",
       "    }\n",
       "\n",
       "    .dataframe tbody tr th {\n",
       "        vertical-align: top;\n",
       "    }\n",
       "\n",
       "    .dataframe thead th {\n",
       "        text-align: right;\n",
       "    }\n",
       "</style>\n",
       "<table border=\"1\" class=\"dataframe\">\n",
       "  <thead>\n",
       "    <tr style=\"text-align: right;\">\n",
       "      <th></th>\n",
       "      <th>SMA_Fast</th>\n",
       "      <th>SMA_Slow</th>\n",
       "    </tr>\n",
       "    <tr>\n",
       "      <th>date</th>\n",
       "      <th></th>\n",
       "      <th></th>\n",
       "    </tr>\n",
       "  </thead>\n",
       "  <tbody>\n",
       "    <tr>\n",
       "      <th>2015-06-12 10:15:00</th>\n",
       "      <td>25.2254</td>\n",
       "      <td>24.88590</td>\n",
       "    </tr>\n",
       "    <tr>\n",
       "      <th>2015-06-12 11:00:00</th>\n",
       "      <td>25.1916</td>\n",
       "      <td>24.88765</td>\n",
       "    </tr>\n",
       "    <tr>\n",
       "      <th>2015-06-12 11:45:00</th>\n",
       "      <td>25.1574</td>\n",
       "      <td>24.88680</td>\n",
       "    </tr>\n",
       "  </tbody>\n",
       "</table>\n",
       "</div>"
      ],
      "text/plain": [
       "                     SMA_Fast  SMA_Slow\n",
       "date                                   \n",
       "2015-06-12 10:15:00   25.2254  24.88590\n",
       "2015-06-12 11:00:00   25.1916  24.88765\n",
       "2015-06-12 11:45:00   25.1574  24.88680"
      ]
     },
     "metadata": {},
     "output_type": "display_data"
    },
    {
     "data": {
      "text/html": [
       "<div>\n",
       "<style scoped>\n",
       "    .dataframe tbody tr th:only-of-type {\n",
       "        vertical-align: middle;\n",
       "    }\n",
       "\n",
       "    .dataframe tbody tr th {\n",
       "        vertical-align: top;\n",
       "    }\n",
       "\n",
       "    .dataframe thead th {\n",
       "        text-align: right;\n",
       "    }\n",
       "</style>\n",
       "<table border=\"1\" class=\"dataframe\">\n",
       "  <thead>\n",
       "    <tr style=\"text-align: right;\">\n",
       "      <th></th>\n",
       "      <th>SMA_Fast</th>\n",
       "      <th>SMA_Slow</th>\n",
       "    </tr>\n",
       "    <tr>\n",
       "      <th>date</th>\n",
       "      <th></th>\n",
       "      <th></th>\n",
       "    </tr>\n",
       "  </thead>\n",
       "  <tbody>\n",
       "    <tr>\n",
       "      <th>2015-12-11 15:00:00</th>\n",
       "      <td>20.6378</td>\n",
       "      <td>21.65335</td>\n",
       "    </tr>\n",
       "    <tr>\n",
       "      <th>2015-12-11 15:30:00</th>\n",
       "      <td>20.6000</td>\n",
       "      <td>21.64945</td>\n",
       "    </tr>\n",
       "    <tr>\n",
       "      <th>2015-12-11 15:45:00</th>\n",
       "      <td>20.5606</td>\n",
       "      <td>21.64520</td>\n",
       "    </tr>\n",
       "  </tbody>\n",
       "</table>\n",
       "</div>"
      ],
      "text/plain": [
       "                     SMA_Fast  SMA_Slow\n",
       "date                                   \n",
       "2015-12-11 15:00:00   20.6378  21.65335\n",
       "2015-12-11 15:30:00   20.6000  21.64945\n",
       "2015-12-11 15:45:00   20.5606  21.64520"
      ]
     },
     "metadata": {},
     "output_type": "display_data"
    }
   ],
   "source": [
    "# Generate the X_train and y_train DataFrames\n",
    "X_train = X.loc[training_begin:training_end]\n",
    "y_train = y.loc[training_begin:training_end]\n",
    "\n",
    "# Review the X_train DataFrame\n",
    "rows = 3\n",
    "display(X_train.head(rows))\n",
    "display(X_train.tail(rows))\n"
   ]
  },
  {
   "cell_type": "code",
   "execution_count": 95,
   "metadata": {},
   "outputs": [
    {
     "data": {
      "text/html": [
       "<div>\n",
       "<style scoped>\n",
       "    .dataframe tbody tr th:only-of-type {\n",
       "        vertical-align: middle;\n",
       "    }\n",
       "\n",
       "    .dataframe tbody tr th {\n",
       "        vertical-align: top;\n",
       "    }\n",
       "\n",
       "    .dataframe thead th {\n",
       "        text-align: right;\n",
       "    }\n",
       "</style>\n",
       "<table border=\"1\" class=\"dataframe\">\n",
       "  <thead>\n",
       "    <tr style=\"text-align: right;\">\n",
       "      <th></th>\n",
       "      <th>SMA_Fast</th>\n",
       "      <th>SMA_Slow</th>\n",
       "    </tr>\n",
       "    <tr>\n",
       "      <th>date</th>\n",
       "      <th></th>\n",
       "      <th></th>\n",
       "    </tr>\n",
       "  </thead>\n",
       "  <tbody>\n",
       "    <tr>\n",
       "      <th>2015-06-12 10:15:00</th>\n",
       "      <td>25.2254</td>\n",
       "      <td>24.88590</td>\n",
       "    </tr>\n",
       "    <tr>\n",
       "      <th>2015-06-12 11:00:00</th>\n",
       "      <td>25.1916</td>\n",
       "      <td>24.88765</td>\n",
       "    </tr>\n",
       "    <tr>\n",
       "      <th>2015-06-12 11:45:00</th>\n",
       "      <td>25.1574</td>\n",
       "      <td>24.88680</td>\n",
       "    </tr>\n",
       "    <tr>\n",
       "      <th>2015-06-15 10:15:00</th>\n",
       "      <td>25.1252</td>\n",
       "      <td>24.88640</td>\n",
       "    </tr>\n",
       "    <tr>\n",
       "      <th>2015-06-16 15:45:00</th>\n",
       "      <td>25.0862</td>\n",
       "      <td>24.88440</td>\n",
       "    </tr>\n",
       "  </tbody>\n",
       "</table>\n",
       "</div>"
      ],
      "text/plain": [
       "                     SMA_Fast  SMA_Slow\n",
       "date                                   \n",
       "2015-06-12 10:15:00   25.2254  24.88590\n",
       "2015-06-12 11:00:00   25.1916  24.88765\n",
       "2015-06-12 11:45:00   25.1574  24.88680\n",
       "2015-06-15 10:15:00   25.1252  24.88640\n",
       "2015-06-16 15:45:00   25.0862  24.88440"
      ]
     },
     "execution_count": 95,
     "metadata": {},
     "output_type": "execute_result"
    }
   ],
   "source": [
    "# Generate the X_test and y_test DataFrames\n",
    "X_test = X.loc[training_end+DateOffset(hours=1):]\n",
    "y_test = y.loc[training_end+DateOffset(hours=1):]\n",
    "\n",
    "# Review the X_test DataFrame\n",
    "X_train.head()"
   ]
  },
  {
   "cell_type": "code",
   "execution_count": 96,
   "metadata": {},
   "outputs": [],
   "source": [
    "# Scale the features DataFrames\n",
    "\n",
    "# Create a StandardScaler instance\n",
    "scaler = StandardScaler()\n",
    "\n",
    "# Apply the scaler model to fit the X-train data\n",
    "X_scaler = scaler.fit(X_train)\n",
    "\n",
    "# Transform the X_train and X_test DataFrames using the X_scaler\n",
    "X_train_scaled = X_scaler.transform(X_train)\n",
    "X_test_scaled = X_scaler.transform(X_test)"
   ]
  },
  {
   "cell_type": "markdown",
   "metadata": {},
   "source": [
    "### Step 4: Use the `SVC` classifier model from SKLearn's support vector machine (SVM) learning method to fit the training data and make predictions based on the testing data. Review the predictions."
   ]
  },
  {
   "cell_type": "code",
   "execution_count": 97,
   "metadata": {},
   "outputs": [
    {
     "data": {
      "text/plain": [
       "array([1., 1., 1., 1., 1., 1., 1., 1., 1., 1.])"
      ]
     },
     "execution_count": 97,
     "metadata": {},
     "output_type": "execute_result"
    }
   ],
   "source": [
    "# From SVM, instantiate SVC classifier model instance\n",
    "svm_model = svm.SVC()\n",
    " \n",
    "# Fit the model to the data using the training data\n",
    "svm_model = svm_model.fit(X_train_scaled, y_train)\n",
    " \n",
    "# Use the testing data to make the model predictions\n",
    "svm_pred = svm_model.predict(X_test_scaled)\n",
    "\n",
    "# Review the model's predicted values\n",
    "svm_pred[:10]\n"
   ]
  },
  {
   "cell_type": "markdown",
   "metadata": {},
   "source": [
    "### Step 5: Review the classification report associated with the `SVC` model predictions. "
   ]
  },
  {
   "cell_type": "code",
   "execution_count": 98,
   "metadata": {},
   "outputs": [
    {
     "name": "stdout",
     "output_type": "stream",
     "text": [
      "              precision    recall  f1-score   support\n",
      "\n",
      "        -1.0       0.45      0.28      0.35      1651\n",
      "         1.0       0.57      0.73      0.64      2120\n",
      "\n",
      "    accuracy                           0.54      3771\n",
      "   macro avg       0.51      0.51      0.49      3771\n",
      "weighted avg       0.52      0.54      0.51      3771\n",
      "\n"
     ]
    }
   ],
   "source": [
    "# Use a classification report to evaluate the model using the predictions and testing data\n",
    "svm_testing_report = classification_report(y_test, svm_pred)\n",
    "\n",
    "# Print the classification report\n",
    "print(svm_testing_report)\n"
   ]
  },
  {
   "cell_type": "markdown",
   "metadata": {},
   "source": [
    "### Step 6: Create a predictions DataFrame that contains columns for “Predicted” values, “Actual Returns”, and “Strategy Returns”."
   ]
  },
  {
   "cell_type": "code",
   "execution_count": 99,
   "metadata": {},
   "outputs": [
    {
     "name": "stdout",
     "output_type": "stream",
     "text": [
      "SVM Predictions Count: \n",
      " 1.0    2739\n",
      "-1.0    1032\n",
      "Name: Predicted, dtype: int64\n"
     ]
    },
    {
     "data": {
      "text/html": [
       "<div>\n",
       "<style scoped>\n",
       "    .dataframe tbody tr th:only-of-type {\n",
       "        vertical-align: middle;\n",
       "    }\n",
       "\n",
       "    .dataframe tbody tr th {\n",
       "        vertical-align: top;\n",
       "    }\n",
       "\n",
       "    .dataframe thead th {\n",
       "        text-align: right;\n",
       "    }\n",
       "</style>\n",
       "<table border=\"1\" class=\"dataframe\">\n",
       "  <thead>\n",
       "    <tr style=\"text-align: right;\">\n",
       "      <th></th>\n",
       "      <th>Predicted</th>\n",
       "      <th>Actual_Returns</th>\n",
       "      <th>Strategy_Returns</th>\n",
       "    </tr>\n",
       "    <tr>\n",
       "      <th>date</th>\n",
       "      <th></th>\n",
       "      <th></th>\n",
       "      <th></th>\n",
       "    </tr>\n",
       "  </thead>\n",
       "  <tbody>\n",
       "    <tr>\n",
       "      <th>2015-12-14 09:30:00</th>\n",
       "      <td>1.0</td>\n",
       "      <td>0.005074</td>\n",
       "      <td>0.005074</td>\n",
       "    </tr>\n",
       "    <tr>\n",
       "      <th>2015-12-14 12:45:00</th>\n",
       "      <td>1.0</td>\n",
       "      <td>-0.003534</td>\n",
       "      <td>-0.003534</td>\n",
       "    </tr>\n",
       "    <tr>\n",
       "      <th>2015-12-14 13:00:00</th>\n",
       "      <td>1.0</td>\n",
       "      <td>0.005572</td>\n",
       "      <td>0.005572</td>\n",
       "    </tr>\n",
       "  </tbody>\n",
       "</table>\n",
       "</div>"
      ],
      "text/plain": [
       "                     Predicted  Actual_Returns  Strategy_Returns\n",
       "date                                                            \n",
       "2015-12-14 09:30:00        1.0        0.005074          0.005074\n",
       "2015-12-14 12:45:00        1.0       -0.003534         -0.003534\n",
       "2015-12-14 13:00:00        1.0        0.005572          0.005572"
      ]
     },
     "metadata": {},
     "output_type": "display_data"
    },
    {
     "data": {
      "text/html": [
       "<div>\n",
       "<style scoped>\n",
       "    .dataframe tbody tr th:only-of-type {\n",
       "        vertical-align: middle;\n",
       "    }\n",
       "\n",
       "    .dataframe tbody tr th {\n",
       "        vertical-align: top;\n",
       "    }\n",
       "\n",
       "    .dataframe thead th {\n",
       "        text-align: right;\n",
       "    }\n",
       "</style>\n",
       "<table border=\"1\" class=\"dataframe\">\n",
       "  <thead>\n",
       "    <tr style=\"text-align: right;\">\n",
       "      <th></th>\n",
       "      <th>Predicted</th>\n",
       "      <th>Actual_Returns</th>\n",
       "      <th>Strategy_Returns</th>\n",
       "    </tr>\n",
       "    <tr>\n",
       "      <th>date</th>\n",
       "      <th></th>\n",
       "      <th></th>\n",
       "      <th></th>\n",
       "    </tr>\n",
       "  </thead>\n",
       "  <tbody>\n",
       "    <tr>\n",
       "      <th>2021-01-22 13:45:00</th>\n",
       "      <td>1.0</td>\n",
       "      <td>0.002099</td>\n",
       "      <td>0.002099</td>\n",
       "    </tr>\n",
       "    <tr>\n",
       "      <th>2021-01-22 14:30:00</th>\n",
       "      <td>1.0</td>\n",
       "      <td>0.001496</td>\n",
       "      <td>0.001496</td>\n",
       "    </tr>\n",
       "    <tr>\n",
       "      <th>2021-01-22 15:45:00</th>\n",
       "      <td>1.0</td>\n",
       "      <td>-0.000896</td>\n",
       "      <td>-0.000896</td>\n",
       "    </tr>\n",
       "  </tbody>\n",
       "</table>\n",
       "</div>"
      ],
      "text/plain": [
       "                     Predicted  Actual_Returns  Strategy_Returns\n",
       "date                                                            \n",
       "2021-01-22 13:45:00        1.0        0.002099          0.002099\n",
       "2021-01-22 14:30:00        1.0        0.001496          0.001496\n",
       "2021-01-22 15:45:00        1.0       -0.000896         -0.000896"
      ]
     },
     "metadata": {},
     "output_type": "display_data"
    }
   ],
   "source": [
    "# Create a new empty predictions DataFrame:\n",
    "\n",
    "# Create a predictions DataFrame\n",
    "predictions_df = pd.DataFrame(index=X_test.index)\n",
    "\n",
    "# Add the SVM model predictions to the DataFrame\n",
    "predictions_df['Predicted'] = svm_pred\n",
    "print(f'SVM Predictions Count: \\n{predictions_df[\"Predicted\"].value_counts()}')\n",
    "\n",
    "# Add the actual returns to the DataFrame\n",
    "predictions_df['Actual_Returns'] = signals_df[\"Actual Returns\"]\n",
    "\n",
    "# Add the strategy returns to the DataFrame\n",
    "predictions_df['Strategy_Returns'] = predictions_df[\"Actual_Returns\"] * predictions_df[\"Predicted\"]\n",
    "\n",
    "# Review the DataFrame\n",
    "rows = 3\n",
    "display(predictions_df.head(rows))\n",
    "display(predictions_df.tail(rows))\n",
    "\n"
   ]
  },
  {
   "cell_type": "markdown",
   "metadata": {},
   "source": [
    "### Step 7: Create a cumulative return plot that shows the actual returns vs. the strategy returns. Save a PNG image of this plot. This will serve as a baseline against which to compare the effects of tuning the trading algorithm."
   ]
  },
  {
   "cell_type": "markdown",
   "metadata": {},
   "source": [
    "### Plot the actual returns versus the strategy returns\n",
    "(1 + predictions_df[[\"Actual_Returns\", \"Strategy_Returns\"]]).cumprod().plot()\n"
   ]
  },
  {
   "cell_type": "code",
   "execution_count": 104,
   "metadata": {},
   "outputs": [
    {
     "data": {
      "text/plain": [
       "Actual_Returns      1.696601\n",
       "Strategy_Returns    1.550366\n",
       "Name: 2021-01-22 15:45:00, dtype: float64"
      ]
     },
     "execution_count": 104,
     "metadata": {},
     "output_type": "execute_result"
    }
   ],
   "source": [
    "# Plot the actual returns versus the strategy returns\n",
    "a = (1 + predictions_df[[\"Actual_Returns\", \"Strategy_Returns\"]]).cumprod()\n",
    "a.iloc[-1]"
   ]
  },
  {
   "cell_type": "markdown",
   "metadata": {},
   "source": [
    "---\n",
    "\n",
    "## Tune the Baseline Trading Algorithm"
   ]
  },
  {
   "cell_type": "markdown",
   "metadata": {},
   "source": [
    "In this section, you’ll tune, or adjust, the model’s input features to find the parameters that result in the best trading outcomes. You’ll choose the best by comparing the cumulative products of the strategy returns."
   ]
  },
  {
   "cell_type": "markdown",
   "metadata": {
    "tags": []
   },
   "source": [
    "### Step 1: Tune the training algorithm by adjusting the size of the training dataset. \n",
    "\n",
    "To do so, slice your data into different periods. Rerun the notebook with the updated parameters, and record the results in your `README.md` file. \n",
    "\n",
    "Answer the following question: What impact resulted from increasing or decreasing the training window?"
   ]
  },
  {
   "cell_type": "code",
   "execution_count": 51,
   "metadata": {},
   "outputs": [
    {
     "data": {
      "text/html": [
       "<div>\n",
       "<style scoped>\n",
       "    .dataframe tbody tr th:only-of-type {\n",
       "        vertical-align: middle;\n",
       "    }\n",
       "\n",
       "    .dataframe tbody tr th {\n",
       "        vertical-align: top;\n",
       "    }\n",
       "\n",
       "    .dataframe thead th {\n",
       "        text-align: right;\n",
       "    }\n",
       "</style>\n",
       "<table border=\"1\" class=\"dataframe\">\n",
       "  <thead>\n",
       "    <tr style=\"text-align: right;\">\n",
       "      <th></th>\n",
       "      <th>index</th>\n",
       "      <th>training_months</th>\n",
       "      <th>training_begin</th>\n",
       "      <th>training_end</th>\n",
       "      <th>test_length</th>\n",
       "      <th>svm_testing_report</th>\n",
       "      <th>accuracy_score_test</th>\n",
       "      <th>tn</th>\n",
       "      <th>fp</th>\n",
       "      <th>fn</th>\n",
       "      <th>tp</th>\n",
       "    </tr>\n",
       "  </thead>\n",
       "  <tbody>\n",
       "    <tr>\n",
       "      <th>0</th>\n",
       "      <td>0</td>\n",
       "      <td>1</td>\n",
       "      <td>2015-04-02 15:00:00</td>\n",
       "      <td>2015-05-02 15:00:00</td>\n",
       "      <td>(4152, 2)</td>\n",
       "      <td>precision    recall  f1-score   ...</td>\n",
       "      <td>0.549855</td>\n",
       "      <td>61</td>\n",
       "      <td>1767</td>\n",
       "      <td>102</td>\n",
       "      <td>2222</td>\n",
       "    </tr>\n",
       "    <tr>\n",
       "      <th>1</th>\n",
       "      <td>1</td>\n",
       "      <td>2</td>\n",
       "      <td>2015-04-02 15:00:00</td>\n",
       "      <td>2015-06-02 15:00:00</td>\n",
       "      <td>(4143, 2)</td>\n",
       "      <td>precision    recall  f1-score   ...</td>\n",
       "      <td>0.550567</td>\n",
       "      <td>64</td>\n",
       "      <td>1761</td>\n",
       "      <td>101</td>\n",
       "      <td>2217</td>\n",
       "    </tr>\n",
       "    <tr>\n",
       "      <th>2</th>\n",
       "      <td>2</td>\n",
       "      <td>3</td>\n",
       "      <td>2015-04-02 15:00:00</td>\n",
       "      <td>2015-07-02 15:00:00</td>\n",
       "      <td>(4092, 2)</td>\n",
       "      <td>precision    recall  f1-score   ...</td>\n",
       "      <td>0.553519</td>\n",
       "      <td>69</td>\n",
       "      <td>1735</td>\n",
       "      <td>92</td>\n",
       "      <td>2196</td>\n",
       "    </tr>\n",
       "  </tbody>\n",
       "</table>\n",
       "</div>"
      ],
      "text/plain": [
       "   index  training_months      training_begin        training_end test_length  \\\n",
       "0      0                1 2015-04-02 15:00:00 2015-05-02 15:00:00   (4152, 2)   \n",
       "1      1                2 2015-04-02 15:00:00 2015-06-02 15:00:00   (4143, 2)   \n",
       "2      2                3 2015-04-02 15:00:00 2015-07-02 15:00:00   (4092, 2)   \n",
       "\n",
       "                                  svm_testing_report  accuracy_score_test  tn  \\\n",
       "0                precision    recall  f1-score   ...             0.549855  61   \n",
       "1                precision    recall  f1-score   ...             0.550567  64   \n",
       "2                precision    recall  f1-score   ...             0.553519  69   \n",
       "\n",
       "     fp   fn    tp  \n",
       "0  1767  102  2222  \n",
       "1  1761  101  2217  \n",
       "2  1735   92  2196  "
      ]
     },
     "metadata": {},
     "output_type": "display_data"
    },
    {
     "data": {
      "text/html": [
       "<div>\n",
       "<style scoped>\n",
       "    .dataframe tbody tr th:only-of-type {\n",
       "        vertical-align: middle;\n",
       "    }\n",
       "\n",
       "    .dataframe tbody tr th {\n",
       "        vertical-align: top;\n",
       "    }\n",
       "\n",
       "    .dataframe thead th {\n",
       "        text-align: right;\n",
       "    }\n",
       "</style>\n",
       "<table border=\"1\" class=\"dataframe\">\n",
       "  <thead>\n",
       "    <tr style=\"text-align: right;\">\n",
       "      <th></th>\n",
       "      <th>index</th>\n",
       "      <th>training_months</th>\n",
       "      <th>training_begin</th>\n",
       "      <th>training_end</th>\n",
       "      <th>test_length</th>\n",
       "      <th>svm_testing_report</th>\n",
       "      <th>accuracy_score_test</th>\n",
       "      <th>tn</th>\n",
       "      <th>fp</th>\n",
       "      <th>fn</th>\n",
       "      <th>tp</th>\n",
       "    </tr>\n",
       "  </thead>\n",
       "  <tbody>\n",
       "    <tr>\n",
       "      <th>21</th>\n",
       "      <td>21</td>\n",
       "      <td>22</td>\n",
       "      <td>2015-04-02 15:00:00</td>\n",
       "      <td>2017-02-02 15:00:00</td>\n",
       "      <td>(2943, 2)</td>\n",
       "      <td>precision    recall  f1-score   ...</td>\n",
       "      <td>0.560652</td>\n",
       "      <td>45</td>\n",
       "      <td>1245</td>\n",
       "      <td>48</td>\n",
       "      <td>1605</td>\n",
       "    </tr>\n",
       "    <tr>\n",
       "      <th>22</th>\n",
       "      <td>22</td>\n",
       "      <td>23</td>\n",
       "      <td>2015-04-02 15:00:00</td>\n",
       "      <td>2017-03-02 15:00:00</td>\n",
       "      <td>(2892, 2)</td>\n",
       "      <td>precision    recall  f1-score   ...</td>\n",
       "      <td>0.562932</td>\n",
       "      <td>63</td>\n",
       "      <td>1203</td>\n",
       "      <td>61</td>\n",
       "      <td>1565</td>\n",
       "    </tr>\n",
       "    <tr>\n",
       "      <th>23</th>\n",
       "      <td>23</td>\n",
       "      <td>24</td>\n",
       "      <td>2015-04-02 15:00:00</td>\n",
       "      <td>2017-04-02 15:00:00</td>\n",
       "      <td>(2794, 2)</td>\n",
       "      <td>precision    recall  f1-score   ...</td>\n",
       "      <td>0.561203</td>\n",
       "      <td>4</td>\n",
       "      <td>1225</td>\n",
       "      <td>1</td>\n",
       "      <td>1564</td>\n",
       "    </tr>\n",
       "  </tbody>\n",
       "</table>\n",
       "</div>"
      ],
      "text/plain": [
       "    index  training_months      training_begin        training_end  \\\n",
       "21     21               22 2015-04-02 15:00:00 2017-02-02 15:00:00   \n",
       "22     22               23 2015-04-02 15:00:00 2017-03-02 15:00:00   \n",
       "23     23               24 2015-04-02 15:00:00 2017-04-02 15:00:00   \n",
       "\n",
       "   test_length                                 svm_testing_report  \\\n",
       "21   (2943, 2)                precision    recall  f1-score   ...   \n",
       "22   (2892, 2)                precision    recall  f1-score   ...   \n",
       "23   (2794, 2)                precision    recall  f1-score   ...   \n",
       "\n",
       "    accuracy_score_test  tn    fp  fn    tp  \n",
       "21             0.560652  45  1245  48  1605  \n",
       "22             0.562932  63  1203  61  1565  \n",
       "23             0.561203   4  1225   1  1564  "
      ]
     },
     "metadata": {},
     "output_type": "display_data"
    }
   ],
   "source": [
    "# Tune based on Training Time Frame\n",
    "\n",
    "# Initialize lists \n",
    "list_training_months = []\n",
    "list_accuracy_test = [] \n",
    "list_training_begin = []\n",
    "list_training_end = []\n",
    "list_test_length = []\n",
    "list_svm_testing_report = []\n",
    "list_tn = [] \n",
    "list_fp = [] \n",
    "list_fn = [] \n",
    "list_tp = []\n",
    "\n",
    "  \n",
    "for training_months in range(1,25):\n",
    "    list_training_months.append(training_months)\n",
    "    \n",
    "    # Select the start of the training period\n",
    "    training_begin = X.index.min()\n",
    "    list_training_begin.append(training_begin)\n",
    "    \n",
    "    # Select the ending period for the training data with an offset of 3 months\n",
    "    training_end = X.index.min() + DateOffset(months=training_months)\n",
    "    list_training_end.append(training_end)\n",
    "    \n",
    "    # Generate the X_train and y_train DataFrames\n",
    "    X_train = X.loc[training_begin:training_end]\n",
    "    y_train = y.loc[training_begin:training_end]\n",
    "    \n",
    "    # Generate the X_test and y_test DataFrames\n",
    "    X_test = X.loc[training_end + DateOffset(hours=1) : ]\n",
    "    y_test = y.loc[training_end + DateOffset(hours=1) : ]\n",
    "    list_test_length.append(X_test.shape)\n",
    "    \n",
    "    # Apply the scaler model to fit the X-train data\n",
    "    X_scaler = scaler.fit(X_train)\n",
    "\n",
    "    # Transform the X_train and X_test DataFrames using the X_scaler\n",
    "    X_train_scaled = X_scaler.transform(X_train)\n",
    "    X_test_scaled = X_scaler.transform(X_test)\n",
    "    \n",
    "    # From SVM, instantiate SVC classifier model instance\n",
    "    svm_model = svm.SVC()\n",
    "    \n",
    "    # Fit the model to the data using the training data\n",
    "    svm_model = svm_model.fit(X_train_scaled, y_train)\n",
    " \n",
    "    # Use the testing data to make the model predictions\n",
    "    svm_pred = svm_model.predict(X_test_scaled)\n",
    "    \n",
    "    # Use a classification report to evaluate the model using the predictions and testing data\n",
    "    svm_testing_report = classification_report(y_test, svm_pred, zero_division = 1)\n",
    "    list_svm_testing_report.append(svm_testing_report)\n",
    "    \n",
    "    accuracy_score_test = accuracy_score(y_test, svm_pred)\n",
    "    list_accuracy_test.append(accuracy_score_test)\n",
    "    \n",
    "    \n",
    "    tn, fp, fn, tp = confusion_matrix(y_test, svm_pred).ravel()\n",
    "    list_tn.append(tn)\n",
    "    list_fp.append(fp)\n",
    "    list_fn.append(fn)\n",
    "    list_tp.append(tp)\n",
    "    \n",
    "    del X_train, y_train, X_scaler, X_train_scaled, X_test_scaled, svm_model, svm_pred, svm_testing_report, accuracy_score_test\n",
    "\n",
    "    # Store the model results in a data frame\n",
    "df_results = pd.DataFrame({'training_months'    : list_training_months, \n",
    "                          'training_begin'      : list_training_begin, \n",
    "                          'training_end'        : list_training_end,\n",
    "                          'test_length'         : list_test_length,\n",
    "                          'svm_testing_report'  : list_svm_testing_report,\n",
    "                          'accuracy_score_test' : list_accuracy_test,\n",
    "                          'tn' : list_tn,\n",
    "                          'fp' : list_fp,\n",
    "                          'fn' : list_fn, \n",
    "                          'tp' : list_tp \n",
    "                          })\n",
    "\n",
    "df_results = df_results.reset_index()  # make sure indexes pair with number of rows\n",
    "\n",
    "del list_training_months, list_training_begin, list_training_end, list_svm_testing_report, list_test_length, list_accuracy_test\n",
    "del list_tn, list_fp, list_fn, list_tp\n",
    "\n",
    "# Review the DataFrame\n",
    "rows = 3\n",
    "display(df_results.head(rows))\n",
    "display(df_results.tail(rows))\n"
   ]
  },
  {
   "cell_type": "code",
   "execution_count": 50,
   "metadata": {},
   "outputs": [
    {
     "name": "stdout",
     "output_type": "stream",
     "text": [
      "Months: 1  Length: 4152  Accuracy: 0.5499  TP: 2222  FP: 1767  TN: 61  FN: 102\n",
      "Months: 2  Length: 4143  Accuracy: 0.5506  TP: 2217  FP: 1761  TN: 64  FN: 101\n",
      "Months: 3  Length: 4092  Accuracy: 0.5535  TP: 2196  FP: 1735  TN: 69  FN: 92\n",
      "Months: 4  Length: 4049  Accuracy: 0.5542  TP: 2172  FP: 1707  TN: 72  FN: 98\n",
      "Months: 5  Length: 3977  Accuracy: 0.5567  TP: 2133  FP: 1664  TN: 81  FN: 99\n",
      "Months: 6  Length: 3943  Accuracy: 0.5582  TP: 2163  FP: 1694  TN: 38  FN: 48\n",
      "Months: 7  Length: 3882  Accuracy: 0.5556  TP: 2068  FP: 1618  TN: 89  FN: 107\n",
      "Months: 8  Length: 3812  Accuracy: 0.5391  TP: 1780  FP: 1395  TN: 275  FN: 362\n",
      "Months: 9  Length: 3704  Accuracy: 0.5316  TP: 1464  FP: 1111  TN: 505  FN: 624\n",
      "Months: 10  Length: 3566  Accuracy: 0.5620  TP: 1965  FP: 1510  TN: 39  FN: 52\n",
      "Months: 11  Length: 3501  Accuracy: 0.5644  TP: 1976  FP: 1525  TN: 0  FN: 0\n",
      "Months: 12  Length: 3428  Accuracy: 0.5633  TP: 1931  FP: 1497  TN: 0  FN: 0\n",
      "Months: 13  Length: 3405  Accuracy: 0.5642  TP: 1921  FP: 1484  TN: 0  FN: 0\n",
      "Months: 14  Length: 3405  Accuracy: 0.5642  TP: 1921  FP: 1484  TN: 0  FN: 0\n",
      "Months: 15  Length: 3405  Accuracy: 0.5642  TP: 1921  FP: 1484  TN: 0  FN: 0\n",
      "Months: 16  Length: 3375  Accuracy: 0.5636  TP: 1902  FP: 1473  TN: 0  FN: 0\n",
      "Months: 17  Length: 3324  Accuracy: 0.5638  TP: 1874  FP: 1450  TN: 0  FN: 0\n",
      "Months: 18  Length: 3273  Accuracy: 0.5637  TP: 1842  FP: 1427  TN: 3  FN: 1\n",
      "Months: 19  Length: 3247  Accuracy: 0.5648  TP: 1827  FP: 1409  TN: 7  FN: 4\n",
      "Months: 20  Length: 3197  Accuracy: 0.5655  TP: 1794  FP: 1376  TN: 14  FN: 13\n",
      "Months: 21  Length: 3110  Accuracy: 0.5627  TP: 1735  FP: 1342  TN: 15  FN: 18\n",
      "Months: 22  Length: 2943  Accuracy: 0.5607  TP: 1605  FP: 1245  TN: 45  FN: 48\n",
      "Months: 23  Length: 2892  Accuracy: 0.5629  TP: 1565  FP: 1203  TN: 63  FN: 61\n",
      "Months: 24  Length: 2794  Accuracy: 0.5612  TP: 1564  FP: 1225  TN: 4  FN: 1\n"
     ]
    }
   ],
   "source": [
    "# View testing reports\n",
    "\n",
    "for index, row in df_results.iterrows():\n",
    "    print(f\"Months: {row['training_months']}  Length: {row['test_length'][0]}  Accuracy: {row['accuracy_score_test']:.4f}  TP: {row['tp']}  FP: {row['fp']}  TN: {row['tn']}  FN: {row['fn']}\")\n",
    "    #print(row['accuracy_score_test'])\n",
    "    "
   ]
  },
  {
   "cell_type": "markdown",
   "metadata": {},
   "source": [
    "> Note: Time permitting I would have dove further into this determination by looking at other confusion matrix driven metrics"
   ]
  },
  {
   "cell_type": "markdown",
   "metadata": {},
   "source": [
    "> **What impact resulted from increasing or decreasing the training window?**  \n",
    "> I would choose 8 months because it is more balanced that other periods and has higher accuracy than 9 months. "
   ]
  },
  {
   "cell_type": "markdown",
   "metadata": {},
   "source": [
    "### Step 2: Tune the trading algorithm by adjusting the SMA input features. \n",
    "\n",
    "Adjust one or both of the windows for the algorithm. Rerun the notebook with the updated parameters, and record the results in your `README.md` file. \n",
    "\n",
    "Answer the following question: What impact resulted from increasing or decreasing either or both of the SMA windows?"
   ]
  },
  {
   "cell_type": "code",
   "execution_count": 59,
   "metadata": {},
   "outputs": [
    {
     "data": {
      "text/html": [
       "<div>\n",
       "<style scoped>\n",
       "    .dataframe tbody tr th:only-of-type {\n",
       "        vertical-align: middle;\n",
       "    }\n",
       "\n",
       "    .dataframe tbody tr th {\n",
       "        vertical-align: top;\n",
       "    }\n",
       "\n",
       "    .dataframe thead th {\n",
       "        text-align: right;\n",
       "    }\n",
       "</style>\n",
       "<table border=\"1\" class=\"dataframe\">\n",
       "  <thead>\n",
       "    <tr style=\"text-align: right;\">\n",
       "      <th></th>\n",
       "      <th>close</th>\n",
       "      <th>Actual Returns</th>\n",
       "    </tr>\n",
       "    <tr>\n",
       "      <th>date</th>\n",
       "      <th></th>\n",
       "      <th></th>\n",
       "    </tr>\n",
       "  </thead>\n",
       "  <tbody>\n",
       "    <tr>\n",
       "      <th>2015-01-21 11:00:00</th>\n",
       "      <td>23.98</td>\n",
       "      <td>0.006295</td>\n",
       "    </tr>\n",
       "    <tr>\n",
       "      <th>2015-01-22 15:00:00</th>\n",
       "      <td>24.42</td>\n",
       "      <td>0.018349</td>\n",
       "    </tr>\n",
       "    <tr>\n",
       "      <th>2015-01-22 15:15:00</th>\n",
       "      <td>24.44</td>\n",
       "      <td>0.000819</td>\n",
       "    </tr>\n",
       "    <tr>\n",
       "      <th>2015-01-22 15:30:00</th>\n",
       "      <td>24.46</td>\n",
       "      <td>0.000818</td>\n",
       "    </tr>\n",
       "    <tr>\n",
       "      <th>2015-01-26 12:30:00</th>\n",
       "      <td>24.33</td>\n",
       "      <td>-0.005315</td>\n",
       "    </tr>\n",
       "  </tbody>\n",
       "</table>\n",
       "</div>"
      ],
      "text/plain": [
       "                     close  Actual Returns\n",
       "date                                      \n",
       "2015-01-21 11:00:00  23.98        0.006295\n",
       "2015-01-22 15:00:00  24.42        0.018349\n",
       "2015-01-22 15:15:00  24.44        0.000819\n",
       "2015-01-22 15:30:00  24.46        0.000818\n",
       "2015-01-26 12:30:00  24.33       -0.005315"
      ]
     },
     "metadata": {},
     "output_type": "display_data"
    },
    {
     "data": {
      "text/html": [
       "<div>\n",
       "<style scoped>\n",
       "    .dataframe tbody tr th:only-of-type {\n",
       "        vertical-align: middle;\n",
       "    }\n",
       "\n",
       "    .dataframe tbody tr th {\n",
       "        vertical-align: top;\n",
       "    }\n",
       "\n",
       "    .dataframe thead th {\n",
       "        text-align: right;\n",
       "    }\n",
       "</style>\n",
       "<table border=\"1\" class=\"dataframe\">\n",
       "  <thead>\n",
       "    <tr style=\"text-align: right;\">\n",
       "      <th></th>\n",
       "      <th>close</th>\n",
       "      <th>Actual Returns</th>\n",
       "    </tr>\n",
       "    <tr>\n",
       "      <th>date</th>\n",
       "      <th></th>\n",
       "      <th></th>\n",
       "    </tr>\n",
       "  </thead>\n",
       "  <tbody>\n",
       "    <tr>\n",
       "      <th>2021-01-22 09:30:00</th>\n",
       "      <td>33.27</td>\n",
       "      <td>-0.006866</td>\n",
       "    </tr>\n",
       "    <tr>\n",
       "      <th>2021-01-22 11:30:00</th>\n",
       "      <td>33.35</td>\n",
       "      <td>0.002405</td>\n",
       "    </tr>\n",
       "    <tr>\n",
       "      <th>2021-01-22 13:45:00</th>\n",
       "      <td>33.42</td>\n",
       "      <td>0.002099</td>\n",
       "    </tr>\n",
       "    <tr>\n",
       "      <th>2021-01-22 14:30:00</th>\n",
       "      <td>33.47</td>\n",
       "      <td>0.001496</td>\n",
       "    </tr>\n",
       "    <tr>\n",
       "      <th>2021-01-22 15:45:00</th>\n",
       "      <td>33.44</td>\n",
       "      <td>-0.000896</td>\n",
       "    </tr>\n",
       "  </tbody>\n",
       "</table>\n",
       "</div>"
      ],
      "text/plain": [
       "                     close  Actual Returns\n",
       "date                                      \n",
       "2021-01-22 09:30:00  33.27       -0.006866\n",
       "2021-01-22 11:30:00  33.35        0.002405\n",
       "2021-01-22 13:45:00  33.42        0.002099\n",
       "2021-01-22 14:30:00  33.47        0.001496\n",
       "2021-01-22 15:45:00  33.44       -0.000896"
      ]
     },
     "metadata": {},
     "output_type": "display_data"
    }
   ],
   "source": [
    "# Filter the date index and close columns\n",
    "signals_df_2 = ohlcv_df.loc[:, [\"close\"]]\n",
    "\n",
    "# Use the pct_change function to generate returns from close prices\n",
    "signals_df_2[\"Actual Returns\"] = signals_df_2[\"close\"].pct_change()\n",
    "\n",
    "# Drop all NaN values from the DataFrame\n",
    "signals_df_2 = signals_df_2.dropna()\n",
    "\n",
    "# Review the DataFrame\n",
    "display(signals_df_2.head())\n",
    "display(signals_df_2.tail())"
   ]
  },
  {
   "cell_type": "code",
   "execution_count": 79,
   "metadata": {},
   "outputs": [
    {
     "name": "stdout",
     "output_type": "stream",
     "text": [
      "Short: 5; Long 100\n"
     ]
    },
    {
     "data": {
      "text/plain": [
       "date\n",
       "2016-02-29 11:30:00    1.012612\n",
       "2016-02-29 12:15:00    1.011561\n",
       "2016-02-29 15:45:00    1.018392\n",
       "2016-03-01 10:00:00    0.996554\n",
       "2016-03-01 15:30:00    1.000636\n",
       "                         ...   \n",
       "2021-01-22 09:30:00    0.868111\n",
       "2021-01-22 11:30:00    0.866023\n",
       "2021-01-22 13:45:00    0.867841\n",
       "2021-01-22 14:30:00    0.869140\n",
       "2021-01-22 15:45:00    0.868360\n",
       "Name: Strategy Returns, Length: 3507, dtype: float64"
      ]
     },
     "metadata": {},
     "output_type": "display_data"
    },
    {
     "name": "stdout",
     "output_type": "stream",
     "text": [
      "Short: 5; Long 110\n"
     ]
    },
    {
     "data": {
      "text/plain": [
       "date\n",
       "2016-02-29 11:30:00    1.012612\n",
       "2016-02-29 12:15:00    1.011561\n",
       "2016-02-29 15:45:00    1.018392\n",
       "2016-03-01 10:00:00    0.996554\n",
       "2016-03-01 15:30:00    1.000636\n",
       "                         ...   \n",
       "2021-01-22 09:30:00    0.868111\n",
       "2021-01-22 11:30:00    0.866023\n",
       "2021-01-22 13:45:00    0.867841\n",
       "2021-01-22 14:30:00    0.869140\n",
       "2021-01-22 15:45:00    0.868360\n",
       "Name: Strategy Returns, Length: 3507, dtype: float64"
      ]
     },
     "metadata": {},
     "output_type": "display_data"
    },
    {
     "name": "stdout",
     "output_type": "stream",
     "text": [
      "Short: 5; Long 120\n"
     ]
    },
    {
     "data": {
      "text/plain": [
       "date\n",
       "2016-02-29 11:30:00    1.012612\n",
       "2016-02-29 12:15:00    1.011561\n",
       "2016-02-29 15:45:00    1.018392\n",
       "2016-03-01 10:00:00    0.996554\n",
       "2016-03-01 15:30:00    1.000636\n",
       "                         ...   \n",
       "2021-01-22 09:30:00    0.868111\n",
       "2021-01-22 11:30:00    0.866023\n",
       "2021-01-22 13:45:00    0.867841\n",
       "2021-01-22 14:30:00    0.869140\n",
       "2021-01-22 15:45:00    0.868360\n",
       "Name: Strategy Returns, Length: 3507, dtype: float64"
      ]
     },
     "metadata": {},
     "output_type": "display_data"
    },
    {
     "name": "stdout",
     "output_type": "stream",
     "text": [
      "Short: 5; Long 130\n"
     ]
    },
    {
     "data": {
      "text/plain": [
       "date\n",
       "2016-02-29 11:30:00    1.012612\n",
       "2016-02-29 12:15:00    1.011561\n",
       "2016-02-29 15:45:00    1.018392\n",
       "2016-03-01 10:00:00    0.996554\n",
       "2016-03-01 15:30:00    1.000636\n",
       "                         ...   \n",
       "2021-01-22 09:30:00    0.868111\n",
       "2021-01-22 11:30:00    0.866023\n",
       "2021-01-22 13:45:00    0.867841\n",
       "2021-01-22 14:30:00    0.869140\n",
       "2021-01-22 15:45:00    0.868360\n",
       "Name: Strategy Returns, Length: 3507, dtype: float64"
      ]
     },
     "metadata": {},
     "output_type": "display_data"
    },
    {
     "name": "stdout",
     "output_type": "stream",
     "text": [
      "Short: 5; Long 140\n"
     ]
    },
    {
     "data": {
      "text/plain": [
       "date\n",
       "2016-02-29 11:30:00    1.012612\n",
       "2016-02-29 12:15:00    1.011561\n",
       "2016-02-29 15:45:00    1.018392\n",
       "2016-03-01 10:00:00    0.996554\n",
       "2016-03-01 15:30:00    1.000636\n",
       "                         ...   \n",
       "2021-01-22 09:30:00    0.868111\n",
       "2021-01-22 11:30:00    0.866023\n",
       "2021-01-22 13:45:00    0.867841\n",
       "2021-01-22 14:30:00    0.869140\n",
       "2021-01-22 15:45:00    0.868360\n",
       "Name: Strategy Returns, Length: 3507, dtype: float64"
      ]
     },
     "metadata": {},
     "output_type": "display_data"
    },
    {
     "name": "stdout",
     "output_type": "stream",
     "text": [
      "Short: 5; Long 150\n"
     ]
    },
    {
     "data": {
      "text/plain": [
       "date\n",
       "2016-02-29 11:30:00    1.012612\n",
       "2016-02-29 12:15:00    1.011561\n",
       "2016-02-29 15:45:00    1.018392\n",
       "2016-03-01 10:00:00    0.996554\n",
       "2016-03-01 15:30:00    1.000636\n",
       "                         ...   \n",
       "2021-01-22 09:30:00    0.868111\n",
       "2021-01-22 11:30:00    0.866023\n",
       "2021-01-22 13:45:00    0.867841\n",
       "2021-01-22 14:30:00    0.869140\n",
       "2021-01-22 15:45:00    0.868360\n",
       "Name: Strategy Returns, Length: 3507, dtype: float64"
      ]
     },
     "metadata": {},
     "output_type": "display_data"
    },
    {
     "name": "stdout",
     "output_type": "stream",
     "text": [
      "Short: 5; Long 160\n"
     ]
    },
    {
     "data": {
      "text/plain": [
       "date\n",
       "2016-02-29 11:30:00    1.012612\n",
       "2016-02-29 12:15:00    1.011561\n",
       "2016-02-29 15:45:00    1.018392\n",
       "2016-03-01 10:00:00    0.996554\n",
       "2016-03-01 15:30:00    1.000636\n",
       "                         ...   \n",
       "2021-01-22 09:30:00    0.868111\n",
       "2021-01-22 11:30:00    0.866023\n",
       "2021-01-22 13:45:00    0.867841\n",
       "2021-01-22 14:30:00    0.869140\n",
       "2021-01-22 15:45:00    0.868360\n",
       "Name: Strategy Returns, Length: 3507, dtype: float64"
      ]
     },
     "metadata": {},
     "output_type": "display_data"
    },
    {
     "name": "stdout",
     "output_type": "stream",
     "text": [
      "Short: 5; Long 170\n"
     ]
    },
    {
     "data": {
      "text/plain": [
       "date\n",
       "2016-02-29 11:30:00    1.012612\n",
       "2016-02-29 12:15:00    1.011561\n",
       "2016-02-29 15:45:00    1.018392\n",
       "2016-03-01 10:00:00    0.996554\n",
       "2016-03-01 15:30:00    1.000636\n",
       "                         ...   \n",
       "2021-01-22 09:30:00    0.868111\n",
       "2021-01-22 11:30:00    0.866023\n",
       "2021-01-22 13:45:00    0.867841\n",
       "2021-01-22 14:30:00    0.869140\n",
       "2021-01-22 15:45:00    0.868360\n",
       "Name: Strategy Returns, Length: 3507, dtype: float64"
      ]
     },
     "metadata": {},
     "output_type": "display_data"
    },
    {
     "name": "stdout",
     "output_type": "stream",
     "text": [
      "Short: 5; Long 180\n"
     ]
    },
    {
     "data": {
      "text/plain": [
       "date\n",
       "2016-02-29 11:30:00    1.012612\n",
       "2016-02-29 12:15:00    1.011561\n",
       "2016-02-29 15:45:00    1.018392\n",
       "2016-03-01 10:00:00    0.996554\n",
       "2016-03-01 15:30:00    1.000636\n",
       "                         ...   \n",
       "2021-01-22 09:30:00    0.868111\n",
       "2021-01-22 11:30:00    0.866023\n",
       "2021-01-22 13:45:00    0.867841\n",
       "2021-01-22 14:30:00    0.869140\n",
       "2021-01-22 15:45:00    0.868360\n",
       "Name: Strategy Returns, Length: 3507, dtype: float64"
      ]
     },
     "metadata": {},
     "output_type": "display_data"
    },
    {
     "name": "stdout",
     "output_type": "stream",
     "text": [
      "Short: 5; Long 190\n"
     ]
    },
    {
     "data": {
      "text/plain": [
       "date\n",
       "2016-02-29 11:30:00    1.012612\n",
       "2016-02-29 12:15:00    1.011561\n",
       "2016-02-29 15:45:00    1.018392\n",
       "2016-03-01 10:00:00    0.996554\n",
       "2016-03-01 15:30:00    1.000636\n",
       "                         ...   \n",
       "2021-01-22 09:30:00    0.868111\n",
       "2021-01-22 11:30:00    0.866023\n",
       "2021-01-22 13:45:00    0.867841\n",
       "2021-01-22 14:30:00    0.869140\n",
       "2021-01-22 15:45:00    0.868360\n",
       "Name: Strategy Returns, Length: 3507, dtype: float64"
      ]
     },
     "metadata": {},
     "output_type": "display_data"
    },
    {
     "name": "stdout",
     "output_type": "stream",
     "text": [
      "Short: 5; Long 200\n"
     ]
    },
    {
     "data": {
      "text/plain": [
       "date\n",
       "2016-02-29 11:30:00    1.012612\n",
       "2016-02-29 12:15:00    1.011561\n",
       "2016-02-29 15:45:00    1.018392\n",
       "2016-03-01 10:00:00    0.996554\n",
       "2016-03-01 15:30:00    1.000636\n",
       "                         ...   \n",
       "2021-01-22 09:30:00    0.868111\n",
       "2021-01-22 11:30:00    0.866023\n",
       "2021-01-22 13:45:00    0.867841\n",
       "2021-01-22 14:30:00    0.869140\n",
       "2021-01-22 15:45:00    0.868360\n",
       "Name: Strategy Returns, Length: 3507, dtype: float64"
      ]
     },
     "metadata": {},
     "output_type": "display_data"
    },
    {
     "name": "stdout",
     "output_type": "stream",
     "text": [
      "Short: 5; Long 210\n"
     ]
    },
    {
     "data": {
      "text/plain": [
       "date\n",
       "2016-02-29 11:30:00    1.012612\n",
       "2016-02-29 12:15:00    1.011561\n",
       "2016-02-29 15:45:00    1.018392\n",
       "2016-03-01 10:00:00    0.996554\n",
       "2016-03-01 15:30:00    1.000636\n",
       "                         ...   \n",
       "2021-01-22 09:30:00    0.868111\n",
       "2021-01-22 11:30:00    0.866023\n",
       "2021-01-22 13:45:00    0.867841\n",
       "2021-01-22 14:30:00    0.869140\n",
       "2021-01-22 15:45:00    0.868360\n",
       "Name: Strategy Returns, Length: 3507, dtype: float64"
      ]
     },
     "metadata": {},
     "output_type": "display_data"
    },
    {
     "name": "stdout",
     "output_type": "stream",
     "text": [
      "Short: 5; Long 220\n"
     ]
    },
    {
     "data": {
      "text/plain": [
       "date\n",
       "2016-02-29 11:30:00    1.012612\n",
       "2016-02-29 12:15:00    1.011561\n",
       "2016-02-29 15:45:00    1.018392\n",
       "2016-03-01 10:00:00    0.996554\n",
       "2016-03-01 15:30:00    1.000636\n",
       "                         ...   \n",
       "2021-01-22 09:30:00    0.868111\n",
       "2021-01-22 11:30:00    0.866023\n",
       "2021-01-22 13:45:00    0.867841\n",
       "2021-01-22 14:30:00    0.869140\n",
       "2021-01-22 15:45:00    0.868360\n",
       "Name: Strategy Returns, Length: 3507, dtype: float64"
      ]
     },
     "metadata": {},
     "output_type": "display_data"
    },
    {
     "name": "stdout",
     "output_type": "stream",
     "text": [
      "Short: 5; Long 230\n"
     ]
    },
    {
     "data": {
      "text/plain": [
       "date\n",
       "2016-02-29 11:30:00    1.012612\n",
       "2016-02-29 12:15:00    1.011561\n",
       "2016-02-29 15:45:00    1.018392\n",
       "2016-03-01 10:00:00    0.996554\n",
       "2016-03-01 15:30:00    1.000636\n",
       "                         ...   \n",
       "2021-01-22 09:30:00    0.868111\n",
       "2021-01-22 11:30:00    0.866023\n",
       "2021-01-22 13:45:00    0.867841\n",
       "2021-01-22 14:30:00    0.869140\n",
       "2021-01-22 15:45:00    0.868360\n",
       "Name: Strategy Returns, Length: 3507, dtype: float64"
      ]
     },
     "metadata": {},
     "output_type": "display_data"
    },
    {
     "name": "stdout",
     "output_type": "stream",
     "text": [
      "Short: 5; Long 240\n"
     ]
    },
    {
     "data": {
      "text/plain": [
       "date\n",
       "2016-02-29 11:30:00    1.012612\n",
       "2016-02-29 12:15:00    1.011561\n",
       "2016-02-29 15:45:00    1.018392\n",
       "2016-03-01 10:00:00    0.996554\n",
       "2016-03-01 15:30:00    1.000636\n",
       "                         ...   \n",
       "2021-01-22 09:30:00    0.868111\n",
       "2021-01-22 11:30:00    0.866023\n",
       "2021-01-22 13:45:00    0.867841\n",
       "2021-01-22 14:30:00    0.869140\n",
       "2021-01-22 15:45:00    0.868360\n",
       "Name: Strategy Returns, Length: 3507, dtype: float64"
      ]
     },
     "metadata": {},
     "output_type": "display_data"
    },
    {
     "name": "stdout",
     "output_type": "stream",
     "text": [
      "Short: 5; Long 250\n"
     ]
    },
    {
     "data": {
      "text/plain": [
       "date\n",
       "2016-02-29 11:30:00    1.012612\n",
       "2016-02-29 12:15:00    1.011561\n",
       "2016-02-29 15:45:00    1.018392\n",
       "2016-03-01 10:00:00    0.996554\n",
       "2016-03-01 15:30:00    1.000636\n",
       "                         ...   \n",
       "2021-01-22 09:30:00    0.868111\n",
       "2021-01-22 11:30:00    0.866023\n",
       "2021-01-22 13:45:00    0.867841\n",
       "2021-01-22 14:30:00    0.869140\n",
       "2021-01-22 15:45:00    0.868360\n",
       "Name: Strategy Returns, Length: 3507, dtype: float64"
      ]
     },
     "metadata": {},
     "output_type": "display_data"
    },
    {
     "name": "stdout",
     "output_type": "stream",
     "text": [
      "Short: 5; Long 260\n"
     ]
    },
    {
     "data": {
      "text/plain": [
       "date\n",
       "2016-02-29 11:30:00    1.012612\n",
       "2016-02-29 12:15:00    1.011561\n",
       "2016-02-29 15:45:00    1.018392\n",
       "2016-03-01 10:00:00    0.996554\n",
       "2016-03-01 15:30:00    1.000636\n",
       "                         ...   \n",
       "2021-01-22 09:30:00    0.868111\n",
       "2021-01-22 11:30:00    0.866023\n",
       "2021-01-22 13:45:00    0.867841\n",
       "2021-01-22 14:30:00    0.869140\n",
       "2021-01-22 15:45:00    0.868360\n",
       "Name: Strategy Returns, Length: 3507, dtype: float64"
      ]
     },
     "metadata": {},
     "output_type": "display_data"
    },
    {
     "name": "stdout",
     "output_type": "stream",
     "text": [
      "Short: 10; Long 100\n"
     ]
    },
    {
     "data": {
      "text/plain": [
       "date\n",
       "2016-02-29 11:30:00    1.012612\n",
       "2016-02-29 12:15:00    1.011561\n",
       "2016-02-29 15:45:00    1.018392\n",
       "2016-03-01 10:00:00    0.996554\n",
       "2016-03-01 15:30:00    1.000636\n",
       "                         ...   \n",
       "2021-01-22 09:30:00    0.868111\n",
       "2021-01-22 11:30:00    0.866023\n",
       "2021-01-22 13:45:00    0.867841\n",
       "2021-01-22 14:30:00    0.869140\n",
       "2021-01-22 15:45:00    0.868360\n",
       "Name: Strategy Returns, Length: 3507, dtype: float64"
      ]
     },
     "metadata": {},
     "output_type": "display_data"
    },
    {
     "name": "stdout",
     "output_type": "stream",
     "text": [
      "Short: 10; Long 110\n"
     ]
    },
    {
     "data": {
      "text/plain": [
       "date\n",
       "2016-02-29 11:30:00    1.012612\n",
       "2016-02-29 12:15:00    1.011561\n",
       "2016-02-29 15:45:00    1.018392\n",
       "2016-03-01 10:00:00    0.996554\n",
       "2016-03-01 15:30:00    1.000636\n",
       "                         ...   \n",
       "2021-01-22 09:30:00    0.868111\n",
       "2021-01-22 11:30:00    0.866023\n",
       "2021-01-22 13:45:00    0.867841\n",
       "2021-01-22 14:30:00    0.869140\n",
       "2021-01-22 15:45:00    0.868360\n",
       "Name: Strategy Returns, Length: 3507, dtype: float64"
      ]
     },
     "metadata": {},
     "output_type": "display_data"
    },
    {
     "name": "stdout",
     "output_type": "stream",
     "text": [
      "Short: 10; Long 120\n"
     ]
    },
    {
     "data": {
      "text/plain": [
       "date\n",
       "2016-02-29 11:30:00    1.012612\n",
       "2016-02-29 12:15:00    1.011561\n",
       "2016-02-29 15:45:00    1.018392\n",
       "2016-03-01 10:00:00    0.996554\n",
       "2016-03-01 15:30:00    1.000636\n",
       "                         ...   \n",
       "2021-01-22 09:30:00    0.868111\n",
       "2021-01-22 11:30:00    0.866023\n",
       "2021-01-22 13:45:00    0.867841\n",
       "2021-01-22 14:30:00    0.869140\n",
       "2021-01-22 15:45:00    0.868360\n",
       "Name: Strategy Returns, Length: 3507, dtype: float64"
      ]
     },
     "metadata": {},
     "output_type": "display_data"
    },
    {
     "name": "stdout",
     "output_type": "stream",
     "text": [
      "Short: 10; Long 130\n"
     ]
    },
    {
     "data": {
      "text/plain": [
       "date\n",
       "2016-02-29 11:30:00    1.012612\n",
       "2016-02-29 12:15:00    1.011561\n",
       "2016-02-29 15:45:00    1.018392\n",
       "2016-03-01 10:00:00    0.996554\n",
       "2016-03-01 15:30:00    1.000636\n",
       "                         ...   \n",
       "2021-01-22 09:30:00    0.868111\n",
       "2021-01-22 11:30:00    0.866023\n",
       "2021-01-22 13:45:00    0.867841\n",
       "2021-01-22 14:30:00    0.869140\n",
       "2021-01-22 15:45:00    0.868360\n",
       "Name: Strategy Returns, Length: 3507, dtype: float64"
      ]
     },
     "metadata": {},
     "output_type": "display_data"
    },
    {
     "name": "stdout",
     "output_type": "stream",
     "text": [
      "Short: 10; Long 140\n"
     ]
    },
    {
     "data": {
      "text/plain": [
       "date\n",
       "2016-02-29 11:30:00    1.012612\n",
       "2016-02-29 12:15:00    1.011561\n",
       "2016-02-29 15:45:00    1.018392\n",
       "2016-03-01 10:00:00    0.996554\n",
       "2016-03-01 15:30:00    1.000636\n",
       "                         ...   \n",
       "2021-01-22 09:30:00    0.868111\n",
       "2021-01-22 11:30:00    0.866023\n",
       "2021-01-22 13:45:00    0.867841\n",
       "2021-01-22 14:30:00    0.869140\n",
       "2021-01-22 15:45:00    0.868360\n",
       "Name: Strategy Returns, Length: 3507, dtype: float64"
      ]
     },
     "metadata": {},
     "output_type": "display_data"
    },
    {
     "name": "stdout",
     "output_type": "stream",
     "text": [
      "Short: 10; Long 150\n"
     ]
    },
    {
     "data": {
      "text/plain": [
       "date\n",
       "2016-02-29 11:30:00    1.012612\n",
       "2016-02-29 12:15:00    1.011561\n",
       "2016-02-29 15:45:00    1.018392\n",
       "2016-03-01 10:00:00    0.996554\n",
       "2016-03-01 15:30:00    1.000636\n",
       "                         ...   \n",
       "2021-01-22 09:30:00    0.868111\n",
       "2021-01-22 11:30:00    0.866023\n",
       "2021-01-22 13:45:00    0.867841\n",
       "2021-01-22 14:30:00    0.869140\n",
       "2021-01-22 15:45:00    0.868360\n",
       "Name: Strategy Returns, Length: 3507, dtype: float64"
      ]
     },
     "metadata": {},
     "output_type": "display_data"
    },
    {
     "name": "stdout",
     "output_type": "stream",
     "text": [
      "Short: 10; Long 160\n"
     ]
    },
    {
     "data": {
      "text/plain": [
       "date\n",
       "2016-02-29 11:30:00    1.012612\n",
       "2016-02-29 12:15:00    1.011561\n",
       "2016-02-29 15:45:00    1.018392\n",
       "2016-03-01 10:00:00    0.996554\n",
       "2016-03-01 15:30:00    1.000636\n",
       "                         ...   \n",
       "2021-01-22 09:30:00    0.868111\n",
       "2021-01-22 11:30:00    0.866023\n",
       "2021-01-22 13:45:00    0.867841\n",
       "2021-01-22 14:30:00    0.869140\n",
       "2021-01-22 15:45:00    0.868360\n",
       "Name: Strategy Returns, Length: 3507, dtype: float64"
      ]
     },
     "metadata": {},
     "output_type": "display_data"
    },
    {
     "name": "stdout",
     "output_type": "stream",
     "text": [
      "Short: 10; Long 170\n"
     ]
    },
    {
     "data": {
      "text/plain": [
       "date\n",
       "2016-02-29 11:30:00    1.012612\n",
       "2016-02-29 12:15:00    1.011561\n",
       "2016-02-29 15:45:00    1.018392\n",
       "2016-03-01 10:00:00    0.996554\n",
       "2016-03-01 15:30:00    1.000636\n",
       "                         ...   \n",
       "2021-01-22 09:30:00    0.868111\n",
       "2021-01-22 11:30:00    0.866023\n",
       "2021-01-22 13:45:00    0.867841\n",
       "2021-01-22 14:30:00    0.869140\n",
       "2021-01-22 15:45:00    0.868360\n",
       "Name: Strategy Returns, Length: 3507, dtype: float64"
      ]
     },
     "metadata": {},
     "output_type": "display_data"
    },
    {
     "name": "stdout",
     "output_type": "stream",
     "text": [
      "Short: 10; Long 180\n"
     ]
    },
    {
     "data": {
      "text/plain": [
       "date\n",
       "2016-02-29 11:30:00    1.012612\n",
       "2016-02-29 12:15:00    1.011561\n",
       "2016-02-29 15:45:00    1.018392\n",
       "2016-03-01 10:00:00    0.996554\n",
       "2016-03-01 15:30:00    1.000636\n",
       "                         ...   \n",
       "2021-01-22 09:30:00    0.868111\n",
       "2021-01-22 11:30:00    0.866023\n",
       "2021-01-22 13:45:00    0.867841\n",
       "2021-01-22 14:30:00    0.869140\n",
       "2021-01-22 15:45:00    0.868360\n",
       "Name: Strategy Returns, Length: 3507, dtype: float64"
      ]
     },
     "metadata": {},
     "output_type": "display_data"
    },
    {
     "name": "stdout",
     "output_type": "stream",
     "text": [
      "Short: 10; Long 190\n"
     ]
    },
    {
     "data": {
      "text/plain": [
       "date\n",
       "2016-02-29 11:30:00    1.012612\n",
       "2016-02-29 12:15:00    1.011561\n",
       "2016-02-29 15:45:00    1.018392\n",
       "2016-03-01 10:00:00    0.996554\n",
       "2016-03-01 15:30:00    1.000636\n",
       "                         ...   \n",
       "2021-01-22 09:30:00    0.868111\n",
       "2021-01-22 11:30:00    0.866023\n",
       "2021-01-22 13:45:00    0.867841\n",
       "2021-01-22 14:30:00    0.869140\n",
       "2021-01-22 15:45:00    0.868360\n",
       "Name: Strategy Returns, Length: 3507, dtype: float64"
      ]
     },
     "metadata": {},
     "output_type": "display_data"
    },
    {
     "name": "stdout",
     "output_type": "stream",
     "text": [
      "Short: 10; Long 200\n"
     ]
    },
    {
     "data": {
      "text/plain": [
       "date\n",
       "2016-02-29 11:30:00    1.012612\n",
       "2016-02-29 12:15:00    1.011561\n",
       "2016-02-29 15:45:00    1.018392\n",
       "2016-03-01 10:00:00    0.996554\n",
       "2016-03-01 15:30:00    1.000636\n",
       "                         ...   \n",
       "2021-01-22 09:30:00    0.868111\n",
       "2021-01-22 11:30:00    0.866023\n",
       "2021-01-22 13:45:00    0.867841\n",
       "2021-01-22 14:30:00    0.869140\n",
       "2021-01-22 15:45:00    0.868360\n",
       "Name: Strategy Returns, Length: 3507, dtype: float64"
      ]
     },
     "metadata": {},
     "output_type": "display_data"
    },
    {
     "name": "stdout",
     "output_type": "stream",
     "text": [
      "Short: 10; Long 210\n"
     ]
    },
    {
     "data": {
      "text/plain": [
       "date\n",
       "2016-02-29 11:30:00    1.012612\n",
       "2016-02-29 12:15:00    1.011561\n",
       "2016-02-29 15:45:00    1.018392\n",
       "2016-03-01 10:00:00    0.996554\n",
       "2016-03-01 15:30:00    1.000636\n",
       "                         ...   \n",
       "2021-01-22 09:30:00    0.868111\n",
       "2021-01-22 11:30:00    0.866023\n",
       "2021-01-22 13:45:00    0.867841\n",
       "2021-01-22 14:30:00    0.869140\n",
       "2021-01-22 15:45:00    0.868360\n",
       "Name: Strategy Returns, Length: 3507, dtype: float64"
      ]
     },
     "metadata": {},
     "output_type": "display_data"
    },
    {
     "name": "stdout",
     "output_type": "stream",
     "text": [
      "Short: 10; Long 220\n"
     ]
    },
    {
     "data": {
      "text/plain": [
       "date\n",
       "2016-02-29 11:30:00    1.012612\n",
       "2016-02-29 12:15:00    1.011561\n",
       "2016-02-29 15:45:00    1.018392\n",
       "2016-03-01 10:00:00    0.996554\n",
       "2016-03-01 15:30:00    1.000636\n",
       "                         ...   \n",
       "2021-01-22 09:30:00    0.868111\n",
       "2021-01-22 11:30:00    0.866023\n",
       "2021-01-22 13:45:00    0.867841\n",
       "2021-01-22 14:30:00    0.869140\n",
       "2021-01-22 15:45:00    0.868360\n",
       "Name: Strategy Returns, Length: 3507, dtype: float64"
      ]
     },
     "metadata": {},
     "output_type": "display_data"
    },
    {
     "name": "stdout",
     "output_type": "stream",
     "text": [
      "Short: 10; Long 230\n"
     ]
    },
    {
     "data": {
      "text/plain": [
       "date\n",
       "2016-02-29 11:30:00    1.012612\n",
       "2016-02-29 12:15:00    1.011561\n",
       "2016-02-29 15:45:00    1.018392\n",
       "2016-03-01 10:00:00    0.996554\n",
       "2016-03-01 15:30:00    1.000636\n",
       "                         ...   \n",
       "2021-01-22 09:30:00    0.868111\n",
       "2021-01-22 11:30:00    0.866023\n",
       "2021-01-22 13:45:00    0.867841\n",
       "2021-01-22 14:30:00    0.869140\n",
       "2021-01-22 15:45:00    0.868360\n",
       "Name: Strategy Returns, Length: 3507, dtype: float64"
      ]
     },
     "metadata": {},
     "output_type": "display_data"
    },
    {
     "name": "stdout",
     "output_type": "stream",
     "text": [
      "Short: 10; Long 240\n"
     ]
    },
    {
     "data": {
      "text/plain": [
       "date\n",
       "2016-02-29 11:30:00    1.012612\n",
       "2016-02-29 12:15:00    1.011561\n",
       "2016-02-29 15:45:00    1.018392\n",
       "2016-03-01 10:00:00    0.996554\n",
       "2016-03-01 15:30:00    1.000636\n",
       "                         ...   \n",
       "2021-01-22 09:30:00    0.868111\n",
       "2021-01-22 11:30:00    0.866023\n",
       "2021-01-22 13:45:00    0.867841\n",
       "2021-01-22 14:30:00    0.869140\n",
       "2021-01-22 15:45:00    0.868360\n",
       "Name: Strategy Returns, Length: 3507, dtype: float64"
      ]
     },
     "metadata": {},
     "output_type": "display_data"
    },
    {
     "name": "stdout",
     "output_type": "stream",
     "text": [
      "Short: 10; Long 250\n"
     ]
    },
    {
     "data": {
      "text/plain": [
       "date\n",
       "2016-02-29 11:30:00    1.012612\n",
       "2016-02-29 12:15:00    1.011561\n",
       "2016-02-29 15:45:00    1.018392\n",
       "2016-03-01 10:00:00    0.996554\n",
       "2016-03-01 15:30:00    1.000636\n",
       "                         ...   \n",
       "2021-01-22 09:30:00    0.868111\n",
       "2021-01-22 11:30:00    0.866023\n",
       "2021-01-22 13:45:00    0.867841\n",
       "2021-01-22 14:30:00    0.869140\n",
       "2021-01-22 15:45:00    0.868360\n",
       "Name: Strategy Returns, Length: 3507, dtype: float64"
      ]
     },
     "metadata": {},
     "output_type": "display_data"
    },
    {
     "name": "stdout",
     "output_type": "stream",
     "text": [
      "Short: 10; Long 260\n"
     ]
    },
    {
     "data": {
      "text/plain": [
       "date\n",
       "2016-02-29 11:30:00    1.012612\n",
       "2016-02-29 12:15:00    1.011561\n",
       "2016-02-29 15:45:00    1.018392\n",
       "2016-03-01 10:00:00    0.996554\n",
       "2016-03-01 15:30:00    1.000636\n",
       "                         ...   \n",
       "2021-01-22 09:30:00    0.868111\n",
       "2021-01-22 11:30:00    0.866023\n",
       "2021-01-22 13:45:00    0.867841\n",
       "2021-01-22 14:30:00    0.869140\n",
       "2021-01-22 15:45:00    0.868360\n",
       "Name: Strategy Returns, Length: 3507, dtype: float64"
      ]
     },
     "metadata": {},
     "output_type": "display_data"
    },
    {
     "name": "stdout",
     "output_type": "stream",
     "text": [
      "Short: 15; Long 100\n"
     ]
    },
    {
     "data": {
      "text/plain": [
       "date\n",
       "2016-02-29 11:30:00    1.012612\n",
       "2016-02-29 12:15:00    1.011561\n",
       "2016-02-29 15:45:00    1.018392\n",
       "2016-03-01 10:00:00    0.996554\n",
       "2016-03-01 15:30:00    1.000636\n",
       "                         ...   \n",
       "2021-01-22 09:30:00    0.868111\n",
       "2021-01-22 11:30:00    0.866023\n",
       "2021-01-22 13:45:00    0.867841\n",
       "2021-01-22 14:30:00    0.869140\n",
       "2021-01-22 15:45:00    0.868360\n",
       "Name: Strategy Returns, Length: 3507, dtype: float64"
      ]
     },
     "metadata": {},
     "output_type": "display_data"
    },
    {
     "name": "stdout",
     "output_type": "stream",
     "text": [
      "Short: 15; Long 110\n"
     ]
    },
    {
     "data": {
      "text/plain": [
       "date\n",
       "2016-02-29 11:30:00    1.012612\n",
       "2016-02-29 12:15:00    1.011561\n",
       "2016-02-29 15:45:00    1.018392\n",
       "2016-03-01 10:00:00    0.996554\n",
       "2016-03-01 15:30:00    1.000636\n",
       "                         ...   \n",
       "2021-01-22 09:30:00    0.868111\n",
       "2021-01-22 11:30:00    0.866023\n",
       "2021-01-22 13:45:00    0.867841\n",
       "2021-01-22 14:30:00    0.869140\n",
       "2021-01-22 15:45:00    0.868360\n",
       "Name: Strategy Returns, Length: 3507, dtype: float64"
      ]
     },
     "metadata": {},
     "output_type": "display_data"
    },
    {
     "name": "stdout",
     "output_type": "stream",
     "text": [
      "Short: 15; Long 120\n"
     ]
    },
    {
     "data": {
      "text/plain": [
       "date\n",
       "2016-02-29 11:30:00    1.012612\n",
       "2016-02-29 12:15:00    1.011561\n",
       "2016-02-29 15:45:00    1.018392\n",
       "2016-03-01 10:00:00    0.996554\n",
       "2016-03-01 15:30:00    1.000636\n",
       "                         ...   \n",
       "2021-01-22 09:30:00    0.868111\n",
       "2021-01-22 11:30:00    0.866023\n",
       "2021-01-22 13:45:00    0.867841\n",
       "2021-01-22 14:30:00    0.869140\n",
       "2021-01-22 15:45:00    0.868360\n",
       "Name: Strategy Returns, Length: 3507, dtype: float64"
      ]
     },
     "metadata": {},
     "output_type": "display_data"
    },
    {
     "name": "stdout",
     "output_type": "stream",
     "text": [
      "Short: 15; Long 130\n"
     ]
    },
    {
     "data": {
      "text/plain": [
       "date\n",
       "2016-02-29 11:30:00    1.012612\n",
       "2016-02-29 12:15:00    1.011561\n",
       "2016-02-29 15:45:00    1.018392\n",
       "2016-03-01 10:00:00    0.996554\n",
       "2016-03-01 15:30:00    1.000636\n",
       "                         ...   \n",
       "2021-01-22 09:30:00    0.868111\n",
       "2021-01-22 11:30:00    0.866023\n",
       "2021-01-22 13:45:00    0.867841\n",
       "2021-01-22 14:30:00    0.869140\n",
       "2021-01-22 15:45:00    0.868360\n",
       "Name: Strategy Returns, Length: 3507, dtype: float64"
      ]
     },
     "metadata": {},
     "output_type": "display_data"
    },
    {
     "name": "stdout",
     "output_type": "stream",
     "text": [
      "Short: 15; Long 140\n"
     ]
    },
    {
     "data": {
      "text/plain": [
       "date\n",
       "2016-02-29 11:30:00    1.012612\n",
       "2016-02-29 12:15:00    1.011561\n",
       "2016-02-29 15:45:00    1.018392\n",
       "2016-03-01 10:00:00    0.996554\n",
       "2016-03-01 15:30:00    1.000636\n",
       "                         ...   \n",
       "2021-01-22 09:30:00    0.868111\n",
       "2021-01-22 11:30:00    0.866023\n",
       "2021-01-22 13:45:00    0.867841\n",
       "2021-01-22 14:30:00    0.869140\n",
       "2021-01-22 15:45:00    0.868360\n",
       "Name: Strategy Returns, Length: 3507, dtype: float64"
      ]
     },
     "metadata": {},
     "output_type": "display_data"
    },
    {
     "name": "stdout",
     "output_type": "stream",
     "text": [
      "Short: 15; Long 150\n"
     ]
    },
    {
     "data": {
      "text/plain": [
       "date\n",
       "2016-02-29 11:30:00    1.012612\n",
       "2016-02-29 12:15:00    1.011561\n",
       "2016-02-29 15:45:00    1.018392\n",
       "2016-03-01 10:00:00    0.996554\n",
       "2016-03-01 15:30:00    1.000636\n",
       "                         ...   \n",
       "2021-01-22 09:30:00    0.868111\n",
       "2021-01-22 11:30:00    0.866023\n",
       "2021-01-22 13:45:00    0.867841\n",
       "2021-01-22 14:30:00    0.869140\n",
       "2021-01-22 15:45:00    0.868360\n",
       "Name: Strategy Returns, Length: 3507, dtype: float64"
      ]
     },
     "metadata": {},
     "output_type": "display_data"
    },
    {
     "name": "stdout",
     "output_type": "stream",
     "text": [
      "Short: 15; Long 160\n"
     ]
    },
    {
     "data": {
      "text/plain": [
       "date\n",
       "2016-02-29 11:30:00    1.012612\n",
       "2016-02-29 12:15:00    1.011561\n",
       "2016-02-29 15:45:00    1.018392\n",
       "2016-03-01 10:00:00    0.996554\n",
       "2016-03-01 15:30:00    1.000636\n",
       "                         ...   \n",
       "2021-01-22 09:30:00    0.868111\n",
       "2021-01-22 11:30:00    0.866023\n",
       "2021-01-22 13:45:00    0.867841\n",
       "2021-01-22 14:30:00    0.869140\n",
       "2021-01-22 15:45:00    0.868360\n",
       "Name: Strategy Returns, Length: 3507, dtype: float64"
      ]
     },
     "metadata": {},
     "output_type": "display_data"
    },
    {
     "name": "stdout",
     "output_type": "stream",
     "text": [
      "Short: 15; Long 170\n"
     ]
    },
    {
     "data": {
      "text/plain": [
       "date\n",
       "2016-02-29 11:30:00    1.012612\n",
       "2016-02-29 12:15:00    1.011561\n",
       "2016-02-29 15:45:00    1.018392\n",
       "2016-03-01 10:00:00    0.996554\n",
       "2016-03-01 15:30:00    1.000636\n",
       "                         ...   \n",
       "2021-01-22 09:30:00    0.868111\n",
       "2021-01-22 11:30:00    0.866023\n",
       "2021-01-22 13:45:00    0.867841\n",
       "2021-01-22 14:30:00    0.869140\n",
       "2021-01-22 15:45:00    0.868360\n",
       "Name: Strategy Returns, Length: 3507, dtype: float64"
      ]
     },
     "metadata": {},
     "output_type": "display_data"
    },
    {
     "name": "stdout",
     "output_type": "stream",
     "text": [
      "Short: 15; Long 180\n"
     ]
    },
    {
     "data": {
      "text/plain": [
       "date\n",
       "2016-02-29 11:30:00    1.012612\n",
       "2016-02-29 12:15:00    1.011561\n",
       "2016-02-29 15:45:00    1.018392\n",
       "2016-03-01 10:00:00    0.996554\n",
       "2016-03-01 15:30:00    1.000636\n",
       "                         ...   \n",
       "2021-01-22 09:30:00    0.868111\n",
       "2021-01-22 11:30:00    0.866023\n",
       "2021-01-22 13:45:00    0.867841\n",
       "2021-01-22 14:30:00    0.869140\n",
       "2021-01-22 15:45:00    0.868360\n",
       "Name: Strategy Returns, Length: 3507, dtype: float64"
      ]
     },
     "metadata": {},
     "output_type": "display_data"
    },
    {
     "name": "stdout",
     "output_type": "stream",
     "text": [
      "Short: 15; Long 190\n"
     ]
    },
    {
     "data": {
      "text/plain": [
       "date\n",
       "2016-02-29 11:30:00    1.012612\n",
       "2016-02-29 12:15:00    1.011561\n",
       "2016-02-29 15:45:00    1.018392\n",
       "2016-03-01 10:00:00    0.996554\n",
       "2016-03-01 15:30:00    1.000636\n",
       "                         ...   \n",
       "2021-01-22 09:30:00    0.868111\n",
       "2021-01-22 11:30:00    0.866023\n",
       "2021-01-22 13:45:00    0.867841\n",
       "2021-01-22 14:30:00    0.869140\n",
       "2021-01-22 15:45:00    0.868360\n",
       "Name: Strategy Returns, Length: 3507, dtype: float64"
      ]
     },
     "metadata": {},
     "output_type": "display_data"
    },
    {
     "name": "stdout",
     "output_type": "stream",
     "text": [
      "Short: 15; Long 200\n"
     ]
    },
    {
     "data": {
      "text/plain": [
       "date\n",
       "2016-02-29 11:30:00    1.012612\n",
       "2016-02-29 12:15:00    1.011561\n",
       "2016-02-29 15:45:00    1.018392\n",
       "2016-03-01 10:00:00    0.996554\n",
       "2016-03-01 15:30:00    1.000636\n",
       "                         ...   \n",
       "2021-01-22 09:30:00    0.868111\n",
       "2021-01-22 11:30:00    0.866023\n",
       "2021-01-22 13:45:00    0.867841\n",
       "2021-01-22 14:30:00    0.869140\n",
       "2021-01-22 15:45:00    0.868360\n",
       "Name: Strategy Returns, Length: 3507, dtype: float64"
      ]
     },
     "metadata": {},
     "output_type": "display_data"
    },
    {
     "name": "stdout",
     "output_type": "stream",
     "text": [
      "Short: 15; Long 210\n"
     ]
    },
    {
     "data": {
      "text/plain": [
       "date\n",
       "2016-02-29 11:30:00    1.012612\n",
       "2016-02-29 12:15:00    1.011561\n",
       "2016-02-29 15:45:00    1.018392\n",
       "2016-03-01 10:00:00    0.996554\n",
       "2016-03-01 15:30:00    1.000636\n",
       "                         ...   \n",
       "2021-01-22 09:30:00    0.868111\n",
       "2021-01-22 11:30:00    0.866023\n",
       "2021-01-22 13:45:00    0.867841\n",
       "2021-01-22 14:30:00    0.869140\n",
       "2021-01-22 15:45:00    0.868360\n",
       "Name: Strategy Returns, Length: 3507, dtype: float64"
      ]
     },
     "metadata": {},
     "output_type": "display_data"
    },
    {
     "name": "stdout",
     "output_type": "stream",
     "text": [
      "Short: 15; Long 220\n"
     ]
    },
    {
     "data": {
      "text/plain": [
       "date\n",
       "2016-02-29 11:30:00    1.012612\n",
       "2016-02-29 12:15:00    1.011561\n",
       "2016-02-29 15:45:00    1.018392\n",
       "2016-03-01 10:00:00    0.996554\n",
       "2016-03-01 15:30:00    1.000636\n",
       "                         ...   \n",
       "2021-01-22 09:30:00    0.868111\n",
       "2021-01-22 11:30:00    0.866023\n",
       "2021-01-22 13:45:00    0.867841\n",
       "2021-01-22 14:30:00    0.869140\n",
       "2021-01-22 15:45:00    0.868360\n",
       "Name: Strategy Returns, Length: 3507, dtype: float64"
      ]
     },
     "metadata": {},
     "output_type": "display_data"
    },
    {
     "name": "stdout",
     "output_type": "stream",
     "text": [
      "Short: 15; Long 230\n"
     ]
    },
    {
     "data": {
      "text/plain": [
       "date\n",
       "2016-02-29 11:30:00    1.012612\n",
       "2016-02-29 12:15:00    1.011561\n",
       "2016-02-29 15:45:00    1.018392\n",
       "2016-03-01 10:00:00    0.996554\n",
       "2016-03-01 15:30:00    1.000636\n",
       "                         ...   \n",
       "2021-01-22 09:30:00    0.868111\n",
       "2021-01-22 11:30:00    0.866023\n",
       "2021-01-22 13:45:00    0.867841\n",
       "2021-01-22 14:30:00    0.869140\n",
       "2021-01-22 15:45:00    0.868360\n",
       "Name: Strategy Returns, Length: 3507, dtype: float64"
      ]
     },
     "metadata": {},
     "output_type": "display_data"
    },
    {
     "name": "stdout",
     "output_type": "stream",
     "text": [
      "Short: 15; Long 240\n"
     ]
    },
    {
     "data": {
      "text/plain": [
       "date\n",
       "2016-02-29 11:30:00    1.012612\n",
       "2016-02-29 12:15:00    1.011561\n",
       "2016-02-29 15:45:00    1.018392\n",
       "2016-03-01 10:00:00    0.996554\n",
       "2016-03-01 15:30:00    1.000636\n",
       "                         ...   \n",
       "2021-01-22 09:30:00    0.868111\n",
       "2021-01-22 11:30:00    0.866023\n",
       "2021-01-22 13:45:00    0.867841\n",
       "2021-01-22 14:30:00    0.869140\n",
       "2021-01-22 15:45:00    0.868360\n",
       "Name: Strategy Returns, Length: 3507, dtype: float64"
      ]
     },
     "metadata": {},
     "output_type": "display_data"
    },
    {
     "name": "stdout",
     "output_type": "stream",
     "text": [
      "Short: 15; Long 250\n"
     ]
    },
    {
     "data": {
      "text/plain": [
       "date\n",
       "2016-02-29 11:30:00    1.012612\n",
       "2016-02-29 12:15:00    1.011561\n",
       "2016-02-29 15:45:00    1.018392\n",
       "2016-03-01 10:00:00    0.996554\n",
       "2016-03-01 15:30:00    1.000636\n",
       "                         ...   \n",
       "2021-01-22 09:30:00    0.868111\n",
       "2021-01-22 11:30:00    0.866023\n",
       "2021-01-22 13:45:00    0.867841\n",
       "2021-01-22 14:30:00    0.869140\n",
       "2021-01-22 15:45:00    0.868360\n",
       "Name: Strategy Returns, Length: 3507, dtype: float64"
      ]
     },
     "metadata": {},
     "output_type": "display_data"
    },
    {
     "name": "stdout",
     "output_type": "stream",
     "text": [
      "Short: 15; Long 260\n"
     ]
    },
    {
     "data": {
      "text/plain": [
       "date\n",
       "2016-02-29 11:30:00    1.012612\n",
       "2016-02-29 12:15:00    1.011561\n",
       "2016-02-29 15:45:00    1.018392\n",
       "2016-03-01 10:00:00    0.996554\n",
       "2016-03-01 15:30:00    1.000636\n",
       "                         ...   \n",
       "2021-01-22 09:30:00    0.868111\n",
       "2021-01-22 11:30:00    0.866023\n",
       "2021-01-22 13:45:00    0.867841\n",
       "2021-01-22 14:30:00    0.869140\n",
       "2021-01-22 15:45:00    0.868360\n",
       "Name: Strategy Returns, Length: 3507, dtype: float64"
      ]
     },
     "metadata": {},
     "output_type": "display_data"
    },
    {
     "name": "stdout",
     "output_type": "stream",
     "text": [
      "Short: 20; Long 100\n"
     ]
    },
    {
     "data": {
      "text/plain": [
       "date\n",
       "2016-02-29 11:30:00    1.012612\n",
       "2016-02-29 12:15:00    1.011561\n",
       "2016-02-29 15:45:00    1.018392\n",
       "2016-03-01 10:00:00    0.996554\n",
       "2016-03-01 15:30:00    1.000636\n",
       "                         ...   \n",
       "2021-01-22 09:30:00    0.868111\n",
       "2021-01-22 11:30:00    0.866023\n",
       "2021-01-22 13:45:00    0.867841\n",
       "2021-01-22 14:30:00    0.869140\n",
       "2021-01-22 15:45:00    0.868360\n",
       "Name: Strategy Returns, Length: 3507, dtype: float64"
      ]
     },
     "metadata": {},
     "output_type": "display_data"
    },
    {
     "name": "stdout",
     "output_type": "stream",
     "text": [
      "Short: 20; Long 110\n"
     ]
    },
    {
     "data": {
      "text/plain": [
       "date\n",
       "2016-02-29 11:30:00    1.012612\n",
       "2016-02-29 12:15:00    1.011561\n",
       "2016-02-29 15:45:00    1.018392\n",
       "2016-03-01 10:00:00    0.996554\n",
       "2016-03-01 15:30:00    1.000636\n",
       "                         ...   \n",
       "2021-01-22 09:30:00    0.868111\n",
       "2021-01-22 11:30:00    0.866023\n",
       "2021-01-22 13:45:00    0.867841\n",
       "2021-01-22 14:30:00    0.869140\n",
       "2021-01-22 15:45:00    0.868360\n",
       "Name: Strategy Returns, Length: 3507, dtype: float64"
      ]
     },
     "metadata": {},
     "output_type": "display_data"
    },
    {
     "name": "stdout",
     "output_type": "stream",
     "text": [
      "Short: 20; Long 120\n"
     ]
    },
    {
     "data": {
      "text/plain": [
       "date\n",
       "2016-02-29 11:30:00    1.012612\n",
       "2016-02-29 12:15:00    1.011561\n",
       "2016-02-29 15:45:00    1.018392\n",
       "2016-03-01 10:00:00    0.996554\n",
       "2016-03-01 15:30:00    1.000636\n",
       "                         ...   \n",
       "2021-01-22 09:30:00    0.868111\n",
       "2021-01-22 11:30:00    0.866023\n",
       "2021-01-22 13:45:00    0.867841\n",
       "2021-01-22 14:30:00    0.869140\n",
       "2021-01-22 15:45:00    0.868360\n",
       "Name: Strategy Returns, Length: 3507, dtype: float64"
      ]
     },
     "metadata": {},
     "output_type": "display_data"
    },
    {
     "name": "stdout",
     "output_type": "stream",
     "text": [
      "Short: 20; Long 130\n"
     ]
    },
    {
     "data": {
      "text/plain": [
       "date\n",
       "2016-02-29 11:30:00    1.012612\n",
       "2016-02-29 12:15:00    1.011561\n",
       "2016-02-29 15:45:00    1.018392\n",
       "2016-03-01 10:00:00    0.996554\n",
       "2016-03-01 15:30:00    1.000636\n",
       "                         ...   \n",
       "2021-01-22 09:30:00    0.868111\n",
       "2021-01-22 11:30:00    0.866023\n",
       "2021-01-22 13:45:00    0.867841\n",
       "2021-01-22 14:30:00    0.869140\n",
       "2021-01-22 15:45:00    0.868360\n",
       "Name: Strategy Returns, Length: 3507, dtype: float64"
      ]
     },
     "metadata": {},
     "output_type": "display_data"
    },
    {
     "name": "stdout",
     "output_type": "stream",
     "text": [
      "Short: 20; Long 140\n"
     ]
    },
    {
     "data": {
      "text/plain": [
       "date\n",
       "2016-02-29 11:30:00    1.012612\n",
       "2016-02-29 12:15:00    1.011561\n",
       "2016-02-29 15:45:00    1.018392\n",
       "2016-03-01 10:00:00    0.996554\n",
       "2016-03-01 15:30:00    1.000636\n",
       "                         ...   \n",
       "2021-01-22 09:30:00    0.868111\n",
       "2021-01-22 11:30:00    0.866023\n",
       "2021-01-22 13:45:00    0.867841\n",
       "2021-01-22 14:30:00    0.869140\n",
       "2021-01-22 15:45:00    0.868360\n",
       "Name: Strategy Returns, Length: 3507, dtype: float64"
      ]
     },
     "metadata": {},
     "output_type": "display_data"
    },
    {
     "name": "stdout",
     "output_type": "stream",
     "text": [
      "Short: 20; Long 150\n"
     ]
    },
    {
     "data": {
      "text/plain": [
       "date\n",
       "2016-02-29 11:30:00    1.012612\n",
       "2016-02-29 12:15:00    1.011561\n",
       "2016-02-29 15:45:00    1.018392\n",
       "2016-03-01 10:00:00    0.996554\n",
       "2016-03-01 15:30:00    1.000636\n",
       "                         ...   \n",
       "2021-01-22 09:30:00    0.868111\n",
       "2021-01-22 11:30:00    0.866023\n",
       "2021-01-22 13:45:00    0.867841\n",
       "2021-01-22 14:30:00    0.869140\n",
       "2021-01-22 15:45:00    0.868360\n",
       "Name: Strategy Returns, Length: 3507, dtype: float64"
      ]
     },
     "metadata": {},
     "output_type": "display_data"
    },
    {
     "name": "stdout",
     "output_type": "stream",
     "text": [
      "Short: 20; Long 160\n"
     ]
    },
    {
     "data": {
      "text/plain": [
       "date\n",
       "2016-02-29 11:30:00    1.012612\n",
       "2016-02-29 12:15:00    1.011561\n",
       "2016-02-29 15:45:00    1.018392\n",
       "2016-03-01 10:00:00    0.996554\n",
       "2016-03-01 15:30:00    1.000636\n",
       "                         ...   \n",
       "2021-01-22 09:30:00    0.868111\n",
       "2021-01-22 11:30:00    0.866023\n",
       "2021-01-22 13:45:00    0.867841\n",
       "2021-01-22 14:30:00    0.869140\n",
       "2021-01-22 15:45:00    0.868360\n",
       "Name: Strategy Returns, Length: 3507, dtype: float64"
      ]
     },
     "metadata": {},
     "output_type": "display_data"
    },
    {
     "name": "stdout",
     "output_type": "stream",
     "text": [
      "Short: 20; Long 170\n"
     ]
    },
    {
     "data": {
      "text/plain": [
       "date\n",
       "2016-02-29 11:30:00    1.012612\n",
       "2016-02-29 12:15:00    1.011561\n",
       "2016-02-29 15:45:00    1.018392\n",
       "2016-03-01 10:00:00    0.996554\n",
       "2016-03-01 15:30:00    1.000636\n",
       "                         ...   \n",
       "2021-01-22 09:30:00    0.868111\n",
       "2021-01-22 11:30:00    0.866023\n",
       "2021-01-22 13:45:00    0.867841\n",
       "2021-01-22 14:30:00    0.869140\n",
       "2021-01-22 15:45:00    0.868360\n",
       "Name: Strategy Returns, Length: 3507, dtype: float64"
      ]
     },
     "metadata": {},
     "output_type": "display_data"
    },
    {
     "name": "stdout",
     "output_type": "stream",
     "text": [
      "Short: 20; Long 180\n"
     ]
    },
    {
     "data": {
      "text/plain": [
       "date\n",
       "2016-02-29 11:30:00    1.012612\n",
       "2016-02-29 12:15:00    1.011561\n",
       "2016-02-29 15:45:00    1.018392\n",
       "2016-03-01 10:00:00    0.996554\n",
       "2016-03-01 15:30:00    1.000636\n",
       "                         ...   \n",
       "2021-01-22 09:30:00    0.868111\n",
       "2021-01-22 11:30:00    0.866023\n",
       "2021-01-22 13:45:00    0.867841\n",
       "2021-01-22 14:30:00    0.869140\n",
       "2021-01-22 15:45:00    0.868360\n",
       "Name: Strategy Returns, Length: 3507, dtype: float64"
      ]
     },
     "metadata": {},
     "output_type": "display_data"
    },
    {
     "name": "stdout",
     "output_type": "stream",
     "text": [
      "Short: 20; Long 190\n"
     ]
    },
    {
     "data": {
      "text/plain": [
       "date\n",
       "2016-02-29 11:30:00    1.012612\n",
       "2016-02-29 12:15:00    1.011561\n",
       "2016-02-29 15:45:00    1.018392\n",
       "2016-03-01 10:00:00    0.996554\n",
       "2016-03-01 15:30:00    1.000636\n",
       "                         ...   \n",
       "2021-01-22 09:30:00    0.868111\n",
       "2021-01-22 11:30:00    0.866023\n",
       "2021-01-22 13:45:00    0.867841\n",
       "2021-01-22 14:30:00    0.869140\n",
       "2021-01-22 15:45:00    0.868360\n",
       "Name: Strategy Returns, Length: 3507, dtype: float64"
      ]
     },
     "metadata": {},
     "output_type": "display_data"
    },
    {
     "name": "stdout",
     "output_type": "stream",
     "text": [
      "Short: 20; Long 200\n"
     ]
    },
    {
     "data": {
      "text/plain": [
       "date\n",
       "2016-02-29 11:30:00    1.012612\n",
       "2016-02-29 12:15:00    1.011561\n",
       "2016-02-29 15:45:00    1.018392\n",
       "2016-03-01 10:00:00    0.996554\n",
       "2016-03-01 15:30:00    1.000636\n",
       "                         ...   \n",
       "2021-01-22 09:30:00    0.868111\n",
       "2021-01-22 11:30:00    0.866023\n",
       "2021-01-22 13:45:00    0.867841\n",
       "2021-01-22 14:30:00    0.869140\n",
       "2021-01-22 15:45:00    0.868360\n",
       "Name: Strategy Returns, Length: 3507, dtype: float64"
      ]
     },
     "metadata": {},
     "output_type": "display_data"
    },
    {
     "name": "stdout",
     "output_type": "stream",
     "text": [
      "Short: 20; Long 210\n"
     ]
    },
    {
     "data": {
      "text/plain": [
       "date\n",
       "2016-02-29 11:30:00    1.012612\n",
       "2016-02-29 12:15:00    1.011561\n",
       "2016-02-29 15:45:00    1.018392\n",
       "2016-03-01 10:00:00    0.996554\n",
       "2016-03-01 15:30:00    1.000636\n",
       "                         ...   \n",
       "2021-01-22 09:30:00    0.868111\n",
       "2021-01-22 11:30:00    0.866023\n",
       "2021-01-22 13:45:00    0.867841\n",
       "2021-01-22 14:30:00    0.869140\n",
       "2021-01-22 15:45:00    0.868360\n",
       "Name: Strategy Returns, Length: 3507, dtype: float64"
      ]
     },
     "metadata": {},
     "output_type": "display_data"
    },
    {
     "name": "stdout",
     "output_type": "stream",
     "text": [
      "Short: 20; Long 220\n"
     ]
    },
    {
     "data": {
      "text/plain": [
       "date\n",
       "2016-02-29 11:30:00    1.012612\n",
       "2016-02-29 12:15:00    1.011561\n",
       "2016-02-29 15:45:00    1.018392\n",
       "2016-03-01 10:00:00    0.996554\n",
       "2016-03-01 15:30:00    1.000636\n",
       "                         ...   \n",
       "2021-01-22 09:30:00    0.868111\n",
       "2021-01-22 11:30:00    0.866023\n",
       "2021-01-22 13:45:00    0.867841\n",
       "2021-01-22 14:30:00    0.869140\n",
       "2021-01-22 15:45:00    0.868360\n",
       "Name: Strategy Returns, Length: 3507, dtype: float64"
      ]
     },
     "metadata": {},
     "output_type": "display_data"
    },
    {
     "name": "stdout",
     "output_type": "stream",
     "text": [
      "Short: 20; Long 230\n"
     ]
    },
    {
     "data": {
      "text/plain": [
       "date\n",
       "2016-02-29 11:30:00    1.012612\n",
       "2016-02-29 12:15:00    1.011561\n",
       "2016-02-29 15:45:00    1.018392\n",
       "2016-03-01 10:00:00    0.996554\n",
       "2016-03-01 15:30:00    1.000636\n",
       "                         ...   \n",
       "2021-01-22 09:30:00    0.868111\n",
       "2021-01-22 11:30:00    0.866023\n",
       "2021-01-22 13:45:00    0.867841\n",
       "2021-01-22 14:30:00    0.869140\n",
       "2021-01-22 15:45:00    0.868360\n",
       "Name: Strategy Returns, Length: 3507, dtype: float64"
      ]
     },
     "metadata": {},
     "output_type": "display_data"
    },
    {
     "name": "stdout",
     "output_type": "stream",
     "text": [
      "Short: 20; Long 240\n"
     ]
    },
    {
     "data": {
      "text/plain": [
       "date\n",
       "2016-02-29 11:30:00    1.012612\n",
       "2016-02-29 12:15:00    1.011561\n",
       "2016-02-29 15:45:00    1.018392\n",
       "2016-03-01 10:00:00    0.996554\n",
       "2016-03-01 15:30:00    1.000636\n",
       "                         ...   \n",
       "2021-01-22 09:30:00    0.868111\n",
       "2021-01-22 11:30:00    0.866023\n",
       "2021-01-22 13:45:00    0.867841\n",
       "2021-01-22 14:30:00    0.869140\n",
       "2021-01-22 15:45:00    0.868360\n",
       "Name: Strategy Returns, Length: 3507, dtype: float64"
      ]
     },
     "metadata": {},
     "output_type": "display_data"
    },
    {
     "name": "stdout",
     "output_type": "stream",
     "text": [
      "Short: 20; Long 250\n"
     ]
    },
    {
     "data": {
      "text/plain": [
       "date\n",
       "2016-02-29 11:30:00    1.012612\n",
       "2016-02-29 12:15:00    1.011561\n",
       "2016-02-29 15:45:00    1.018392\n",
       "2016-03-01 10:00:00    0.996554\n",
       "2016-03-01 15:30:00    1.000636\n",
       "                         ...   \n",
       "2021-01-22 09:30:00    0.868111\n",
       "2021-01-22 11:30:00    0.866023\n",
       "2021-01-22 13:45:00    0.867841\n",
       "2021-01-22 14:30:00    0.869140\n",
       "2021-01-22 15:45:00    0.868360\n",
       "Name: Strategy Returns, Length: 3507, dtype: float64"
      ]
     },
     "metadata": {},
     "output_type": "display_data"
    },
    {
     "name": "stdout",
     "output_type": "stream",
     "text": [
      "Short: 20; Long 260\n"
     ]
    },
    {
     "data": {
      "text/plain": [
       "date\n",
       "2016-02-29 11:30:00    1.012612\n",
       "2016-02-29 12:15:00    1.011561\n",
       "2016-02-29 15:45:00    1.018392\n",
       "2016-03-01 10:00:00    0.996554\n",
       "2016-03-01 15:30:00    1.000636\n",
       "                         ...   \n",
       "2021-01-22 09:30:00    0.868111\n",
       "2021-01-22 11:30:00    0.866023\n",
       "2021-01-22 13:45:00    0.867841\n",
       "2021-01-22 14:30:00    0.869140\n",
       "2021-01-22 15:45:00    0.868360\n",
       "Name: Strategy Returns, Length: 3507, dtype: float64"
      ]
     },
     "metadata": {},
     "output_type": "display_data"
    },
    {
     "name": "stdout",
     "output_type": "stream",
     "text": [
      "Short: 25; Long 100\n"
     ]
    },
    {
     "data": {
      "text/plain": [
       "date\n",
       "2016-02-29 11:30:00    1.012612\n",
       "2016-02-29 12:15:00    1.011561\n",
       "2016-02-29 15:45:00    1.018392\n",
       "2016-03-01 10:00:00    0.996554\n",
       "2016-03-01 15:30:00    1.000636\n",
       "                         ...   \n",
       "2021-01-22 09:30:00    0.868111\n",
       "2021-01-22 11:30:00    0.866023\n",
       "2021-01-22 13:45:00    0.867841\n",
       "2021-01-22 14:30:00    0.869140\n",
       "2021-01-22 15:45:00    0.868360\n",
       "Name: Strategy Returns, Length: 3507, dtype: float64"
      ]
     },
     "metadata": {},
     "output_type": "display_data"
    },
    {
     "name": "stdout",
     "output_type": "stream",
     "text": [
      "Short: 25; Long 110\n"
     ]
    },
    {
     "data": {
      "text/plain": [
       "date\n",
       "2016-02-29 11:30:00    1.012612\n",
       "2016-02-29 12:15:00    1.011561\n",
       "2016-02-29 15:45:00    1.018392\n",
       "2016-03-01 10:00:00    0.996554\n",
       "2016-03-01 15:30:00    1.000636\n",
       "                         ...   \n",
       "2021-01-22 09:30:00    0.868111\n",
       "2021-01-22 11:30:00    0.866023\n",
       "2021-01-22 13:45:00    0.867841\n",
       "2021-01-22 14:30:00    0.869140\n",
       "2021-01-22 15:45:00    0.868360\n",
       "Name: Strategy Returns, Length: 3507, dtype: float64"
      ]
     },
     "metadata": {},
     "output_type": "display_data"
    },
    {
     "name": "stdout",
     "output_type": "stream",
     "text": [
      "Short: 25; Long 120\n"
     ]
    },
    {
     "data": {
      "text/plain": [
       "date\n",
       "2016-02-29 11:30:00    1.012612\n",
       "2016-02-29 12:15:00    1.011561\n",
       "2016-02-29 15:45:00    1.018392\n",
       "2016-03-01 10:00:00    0.996554\n",
       "2016-03-01 15:30:00    1.000636\n",
       "                         ...   \n",
       "2021-01-22 09:30:00    0.868111\n",
       "2021-01-22 11:30:00    0.866023\n",
       "2021-01-22 13:45:00    0.867841\n",
       "2021-01-22 14:30:00    0.869140\n",
       "2021-01-22 15:45:00    0.868360\n",
       "Name: Strategy Returns, Length: 3507, dtype: float64"
      ]
     },
     "metadata": {},
     "output_type": "display_data"
    },
    {
     "name": "stdout",
     "output_type": "stream",
     "text": [
      "Short: 25; Long 130\n"
     ]
    },
    {
     "data": {
      "text/plain": [
       "date\n",
       "2016-02-29 11:30:00    1.012612\n",
       "2016-02-29 12:15:00    1.011561\n",
       "2016-02-29 15:45:00    1.018392\n",
       "2016-03-01 10:00:00    0.996554\n",
       "2016-03-01 15:30:00    1.000636\n",
       "                         ...   \n",
       "2021-01-22 09:30:00    0.868111\n",
       "2021-01-22 11:30:00    0.866023\n",
       "2021-01-22 13:45:00    0.867841\n",
       "2021-01-22 14:30:00    0.869140\n",
       "2021-01-22 15:45:00    0.868360\n",
       "Name: Strategy Returns, Length: 3507, dtype: float64"
      ]
     },
     "metadata": {},
     "output_type": "display_data"
    },
    {
     "name": "stdout",
     "output_type": "stream",
     "text": [
      "Short: 25; Long 140\n"
     ]
    },
    {
     "data": {
      "text/plain": [
       "date\n",
       "2016-02-29 11:30:00    1.012612\n",
       "2016-02-29 12:15:00    1.011561\n",
       "2016-02-29 15:45:00    1.018392\n",
       "2016-03-01 10:00:00    0.996554\n",
       "2016-03-01 15:30:00    1.000636\n",
       "                         ...   \n",
       "2021-01-22 09:30:00    0.868111\n",
       "2021-01-22 11:30:00    0.866023\n",
       "2021-01-22 13:45:00    0.867841\n",
       "2021-01-22 14:30:00    0.869140\n",
       "2021-01-22 15:45:00    0.868360\n",
       "Name: Strategy Returns, Length: 3507, dtype: float64"
      ]
     },
     "metadata": {},
     "output_type": "display_data"
    },
    {
     "name": "stdout",
     "output_type": "stream",
     "text": [
      "Short: 25; Long 150\n"
     ]
    },
    {
     "data": {
      "text/plain": [
       "date\n",
       "2016-02-29 11:30:00    1.012612\n",
       "2016-02-29 12:15:00    1.011561\n",
       "2016-02-29 15:45:00    1.018392\n",
       "2016-03-01 10:00:00    0.996554\n",
       "2016-03-01 15:30:00    1.000636\n",
       "                         ...   \n",
       "2021-01-22 09:30:00    0.868111\n",
       "2021-01-22 11:30:00    0.866023\n",
       "2021-01-22 13:45:00    0.867841\n",
       "2021-01-22 14:30:00    0.869140\n",
       "2021-01-22 15:45:00    0.868360\n",
       "Name: Strategy Returns, Length: 3507, dtype: float64"
      ]
     },
     "metadata": {},
     "output_type": "display_data"
    },
    {
     "name": "stdout",
     "output_type": "stream",
     "text": [
      "Short: 25; Long 160\n"
     ]
    },
    {
     "data": {
      "text/plain": [
       "date\n",
       "2016-02-29 11:30:00    1.012612\n",
       "2016-02-29 12:15:00    1.011561\n",
       "2016-02-29 15:45:00    1.018392\n",
       "2016-03-01 10:00:00    0.996554\n",
       "2016-03-01 15:30:00    1.000636\n",
       "                         ...   \n",
       "2021-01-22 09:30:00    0.868111\n",
       "2021-01-22 11:30:00    0.866023\n",
       "2021-01-22 13:45:00    0.867841\n",
       "2021-01-22 14:30:00    0.869140\n",
       "2021-01-22 15:45:00    0.868360\n",
       "Name: Strategy Returns, Length: 3507, dtype: float64"
      ]
     },
     "metadata": {},
     "output_type": "display_data"
    },
    {
     "name": "stdout",
     "output_type": "stream",
     "text": [
      "Short: 25; Long 170\n"
     ]
    },
    {
     "data": {
      "text/plain": [
       "date\n",
       "2016-02-29 11:30:00    1.012612\n",
       "2016-02-29 12:15:00    1.011561\n",
       "2016-02-29 15:45:00    1.018392\n",
       "2016-03-01 10:00:00    0.996554\n",
       "2016-03-01 15:30:00    1.000636\n",
       "                         ...   \n",
       "2021-01-22 09:30:00    0.868111\n",
       "2021-01-22 11:30:00    0.866023\n",
       "2021-01-22 13:45:00    0.867841\n",
       "2021-01-22 14:30:00    0.869140\n",
       "2021-01-22 15:45:00    0.868360\n",
       "Name: Strategy Returns, Length: 3507, dtype: float64"
      ]
     },
     "metadata": {},
     "output_type": "display_data"
    },
    {
     "name": "stdout",
     "output_type": "stream",
     "text": [
      "Short: 25; Long 180\n"
     ]
    },
    {
     "data": {
      "text/plain": [
       "date\n",
       "2016-02-29 11:30:00    1.012612\n",
       "2016-02-29 12:15:00    1.011561\n",
       "2016-02-29 15:45:00    1.018392\n",
       "2016-03-01 10:00:00    0.996554\n",
       "2016-03-01 15:30:00    1.000636\n",
       "                         ...   \n",
       "2021-01-22 09:30:00    0.868111\n",
       "2021-01-22 11:30:00    0.866023\n",
       "2021-01-22 13:45:00    0.867841\n",
       "2021-01-22 14:30:00    0.869140\n",
       "2021-01-22 15:45:00    0.868360\n",
       "Name: Strategy Returns, Length: 3507, dtype: float64"
      ]
     },
     "metadata": {},
     "output_type": "display_data"
    },
    {
     "name": "stdout",
     "output_type": "stream",
     "text": [
      "Short: 25; Long 190\n"
     ]
    },
    {
     "data": {
      "text/plain": [
       "date\n",
       "2016-02-29 11:30:00    1.012612\n",
       "2016-02-29 12:15:00    1.011561\n",
       "2016-02-29 15:45:00    1.018392\n",
       "2016-03-01 10:00:00    0.996554\n",
       "2016-03-01 15:30:00    1.000636\n",
       "                         ...   \n",
       "2021-01-22 09:30:00    0.868111\n",
       "2021-01-22 11:30:00    0.866023\n",
       "2021-01-22 13:45:00    0.867841\n",
       "2021-01-22 14:30:00    0.869140\n",
       "2021-01-22 15:45:00    0.868360\n",
       "Name: Strategy Returns, Length: 3507, dtype: float64"
      ]
     },
     "metadata": {},
     "output_type": "display_data"
    },
    {
     "name": "stdout",
     "output_type": "stream",
     "text": [
      "Short: 25; Long 200\n"
     ]
    },
    {
     "data": {
      "text/plain": [
       "date\n",
       "2016-02-29 11:30:00    1.012612\n",
       "2016-02-29 12:15:00    1.011561\n",
       "2016-02-29 15:45:00    1.018392\n",
       "2016-03-01 10:00:00    0.996554\n",
       "2016-03-01 15:30:00    1.000636\n",
       "                         ...   \n",
       "2021-01-22 09:30:00    0.868111\n",
       "2021-01-22 11:30:00    0.866023\n",
       "2021-01-22 13:45:00    0.867841\n",
       "2021-01-22 14:30:00    0.869140\n",
       "2021-01-22 15:45:00    0.868360\n",
       "Name: Strategy Returns, Length: 3507, dtype: float64"
      ]
     },
     "metadata": {},
     "output_type": "display_data"
    },
    {
     "name": "stdout",
     "output_type": "stream",
     "text": [
      "Short: 25; Long 210\n"
     ]
    },
    {
     "data": {
      "text/plain": [
       "date\n",
       "2016-02-29 11:30:00    1.012612\n",
       "2016-02-29 12:15:00    1.011561\n",
       "2016-02-29 15:45:00    1.018392\n",
       "2016-03-01 10:00:00    0.996554\n",
       "2016-03-01 15:30:00    1.000636\n",
       "                         ...   \n",
       "2021-01-22 09:30:00    0.868111\n",
       "2021-01-22 11:30:00    0.866023\n",
       "2021-01-22 13:45:00    0.867841\n",
       "2021-01-22 14:30:00    0.869140\n",
       "2021-01-22 15:45:00    0.868360\n",
       "Name: Strategy Returns, Length: 3507, dtype: float64"
      ]
     },
     "metadata": {},
     "output_type": "display_data"
    },
    {
     "name": "stdout",
     "output_type": "stream",
     "text": [
      "Short: 25; Long 220\n"
     ]
    },
    {
     "data": {
      "text/plain": [
       "date\n",
       "2016-02-29 11:30:00    1.012612\n",
       "2016-02-29 12:15:00    1.011561\n",
       "2016-02-29 15:45:00    1.018392\n",
       "2016-03-01 10:00:00    0.996554\n",
       "2016-03-01 15:30:00    1.000636\n",
       "                         ...   \n",
       "2021-01-22 09:30:00    0.868111\n",
       "2021-01-22 11:30:00    0.866023\n",
       "2021-01-22 13:45:00    0.867841\n",
       "2021-01-22 14:30:00    0.869140\n",
       "2021-01-22 15:45:00    0.868360\n",
       "Name: Strategy Returns, Length: 3507, dtype: float64"
      ]
     },
     "metadata": {},
     "output_type": "display_data"
    },
    {
     "name": "stdout",
     "output_type": "stream",
     "text": [
      "Short: 25; Long 230\n"
     ]
    },
    {
     "data": {
      "text/plain": [
       "date\n",
       "2016-02-29 11:30:00    1.012612\n",
       "2016-02-29 12:15:00    1.011561\n",
       "2016-02-29 15:45:00    1.018392\n",
       "2016-03-01 10:00:00    0.996554\n",
       "2016-03-01 15:30:00    1.000636\n",
       "                         ...   \n",
       "2021-01-22 09:30:00    0.868111\n",
       "2021-01-22 11:30:00    0.866023\n",
       "2021-01-22 13:45:00    0.867841\n",
       "2021-01-22 14:30:00    0.869140\n",
       "2021-01-22 15:45:00    0.868360\n",
       "Name: Strategy Returns, Length: 3507, dtype: float64"
      ]
     },
     "metadata": {},
     "output_type": "display_data"
    },
    {
     "name": "stdout",
     "output_type": "stream",
     "text": [
      "Short: 25; Long 240\n"
     ]
    },
    {
     "data": {
      "text/plain": [
       "date\n",
       "2016-02-29 11:30:00    1.012612\n",
       "2016-02-29 12:15:00    1.011561\n",
       "2016-02-29 15:45:00    1.018392\n",
       "2016-03-01 10:00:00    0.996554\n",
       "2016-03-01 15:30:00    1.000636\n",
       "                         ...   \n",
       "2021-01-22 09:30:00    0.868111\n",
       "2021-01-22 11:30:00    0.866023\n",
       "2021-01-22 13:45:00    0.867841\n",
       "2021-01-22 14:30:00    0.869140\n",
       "2021-01-22 15:45:00    0.868360\n",
       "Name: Strategy Returns, Length: 3507, dtype: float64"
      ]
     },
     "metadata": {},
     "output_type": "display_data"
    },
    {
     "name": "stdout",
     "output_type": "stream",
     "text": [
      "Short: 25; Long 250\n"
     ]
    },
    {
     "data": {
      "text/plain": [
       "date\n",
       "2016-02-29 11:30:00    1.012612\n",
       "2016-02-29 12:15:00    1.011561\n",
       "2016-02-29 15:45:00    1.018392\n",
       "2016-03-01 10:00:00    0.996554\n",
       "2016-03-01 15:30:00    1.000636\n",
       "                         ...   \n",
       "2021-01-22 09:30:00    0.868111\n",
       "2021-01-22 11:30:00    0.866023\n",
       "2021-01-22 13:45:00    0.867841\n",
       "2021-01-22 14:30:00    0.869140\n",
       "2021-01-22 15:45:00    0.868360\n",
       "Name: Strategy Returns, Length: 3507, dtype: float64"
      ]
     },
     "metadata": {},
     "output_type": "display_data"
    },
    {
     "name": "stdout",
     "output_type": "stream",
     "text": [
      "Short: 25; Long 260\n"
     ]
    },
    {
     "data": {
      "text/plain": [
       "date\n",
       "2016-02-29 11:30:00    1.012612\n",
       "2016-02-29 12:15:00    1.011561\n",
       "2016-02-29 15:45:00    1.018392\n",
       "2016-03-01 10:00:00    0.996554\n",
       "2016-03-01 15:30:00    1.000636\n",
       "                         ...   \n",
       "2021-01-22 09:30:00    0.868111\n",
       "2021-01-22 11:30:00    0.866023\n",
       "2021-01-22 13:45:00    0.867841\n",
       "2021-01-22 14:30:00    0.869140\n",
       "2021-01-22 15:45:00    0.868360\n",
       "Name: Strategy Returns, Length: 3507, dtype: float64"
      ]
     },
     "metadata": {},
     "output_type": "display_data"
    },
    {
     "name": "stdout",
     "output_type": "stream",
     "text": [
      "Short: 30; Long 100\n"
     ]
    },
    {
     "data": {
      "text/plain": [
       "date\n",
       "2016-02-29 11:30:00    1.012612\n",
       "2016-02-29 12:15:00    1.011561\n",
       "2016-02-29 15:45:00    1.018392\n",
       "2016-03-01 10:00:00    0.996554\n",
       "2016-03-01 15:30:00    1.000636\n",
       "                         ...   \n",
       "2021-01-22 09:30:00    0.868111\n",
       "2021-01-22 11:30:00    0.866023\n",
       "2021-01-22 13:45:00    0.867841\n",
       "2021-01-22 14:30:00    0.869140\n",
       "2021-01-22 15:45:00    0.868360\n",
       "Name: Strategy Returns, Length: 3507, dtype: float64"
      ]
     },
     "metadata": {},
     "output_type": "display_data"
    },
    {
     "name": "stdout",
     "output_type": "stream",
     "text": [
      "Short: 30; Long 110\n"
     ]
    },
    {
     "data": {
      "text/plain": [
       "date\n",
       "2016-02-29 11:30:00    1.012612\n",
       "2016-02-29 12:15:00    1.011561\n",
       "2016-02-29 15:45:00    1.018392\n",
       "2016-03-01 10:00:00    0.996554\n",
       "2016-03-01 15:30:00    1.000636\n",
       "                         ...   \n",
       "2021-01-22 09:30:00    0.868111\n",
       "2021-01-22 11:30:00    0.866023\n",
       "2021-01-22 13:45:00    0.867841\n",
       "2021-01-22 14:30:00    0.869140\n",
       "2021-01-22 15:45:00    0.868360\n",
       "Name: Strategy Returns, Length: 3507, dtype: float64"
      ]
     },
     "metadata": {},
     "output_type": "display_data"
    },
    {
     "name": "stdout",
     "output_type": "stream",
     "text": [
      "Short: 30; Long 120\n"
     ]
    },
    {
     "data": {
      "text/plain": [
       "date\n",
       "2016-02-29 11:30:00    1.012612\n",
       "2016-02-29 12:15:00    1.011561\n",
       "2016-02-29 15:45:00    1.018392\n",
       "2016-03-01 10:00:00    0.996554\n",
       "2016-03-01 15:30:00    1.000636\n",
       "                         ...   \n",
       "2021-01-22 09:30:00    0.868111\n",
       "2021-01-22 11:30:00    0.866023\n",
       "2021-01-22 13:45:00    0.867841\n",
       "2021-01-22 14:30:00    0.869140\n",
       "2021-01-22 15:45:00    0.868360\n",
       "Name: Strategy Returns, Length: 3507, dtype: float64"
      ]
     },
     "metadata": {},
     "output_type": "display_data"
    },
    {
     "name": "stdout",
     "output_type": "stream",
     "text": [
      "Short: 30; Long 130\n"
     ]
    },
    {
     "data": {
      "text/plain": [
       "date\n",
       "2016-02-29 11:30:00    1.012612\n",
       "2016-02-29 12:15:00    1.011561\n",
       "2016-02-29 15:45:00    1.018392\n",
       "2016-03-01 10:00:00    0.996554\n",
       "2016-03-01 15:30:00    1.000636\n",
       "                         ...   \n",
       "2021-01-22 09:30:00    0.868111\n",
       "2021-01-22 11:30:00    0.866023\n",
       "2021-01-22 13:45:00    0.867841\n",
       "2021-01-22 14:30:00    0.869140\n",
       "2021-01-22 15:45:00    0.868360\n",
       "Name: Strategy Returns, Length: 3507, dtype: float64"
      ]
     },
     "metadata": {},
     "output_type": "display_data"
    },
    {
     "name": "stdout",
     "output_type": "stream",
     "text": [
      "Short: 30; Long 140\n"
     ]
    },
    {
     "data": {
      "text/plain": [
       "date\n",
       "2016-02-29 11:30:00    1.012612\n",
       "2016-02-29 12:15:00    1.011561\n",
       "2016-02-29 15:45:00    1.018392\n",
       "2016-03-01 10:00:00    0.996554\n",
       "2016-03-01 15:30:00    1.000636\n",
       "                         ...   \n",
       "2021-01-22 09:30:00    0.868111\n",
       "2021-01-22 11:30:00    0.866023\n",
       "2021-01-22 13:45:00    0.867841\n",
       "2021-01-22 14:30:00    0.869140\n",
       "2021-01-22 15:45:00    0.868360\n",
       "Name: Strategy Returns, Length: 3507, dtype: float64"
      ]
     },
     "metadata": {},
     "output_type": "display_data"
    },
    {
     "name": "stdout",
     "output_type": "stream",
     "text": [
      "Short: 30; Long 150\n"
     ]
    },
    {
     "data": {
      "text/plain": [
       "date\n",
       "2016-02-29 11:30:00    1.012612\n",
       "2016-02-29 12:15:00    1.011561\n",
       "2016-02-29 15:45:00    1.018392\n",
       "2016-03-01 10:00:00    0.996554\n",
       "2016-03-01 15:30:00    1.000636\n",
       "                         ...   \n",
       "2021-01-22 09:30:00    0.868111\n",
       "2021-01-22 11:30:00    0.866023\n",
       "2021-01-22 13:45:00    0.867841\n",
       "2021-01-22 14:30:00    0.869140\n",
       "2021-01-22 15:45:00    0.868360\n",
       "Name: Strategy Returns, Length: 3507, dtype: float64"
      ]
     },
     "metadata": {},
     "output_type": "display_data"
    },
    {
     "name": "stdout",
     "output_type": "stream",
     "text": [
      "Short: 30; Long 160\n"
     ]
    },
    {
     "data": {
      "text/plain": [
       "date\n",
       "2016-02-29 11:30:00    1.012612\n",
       "2016-02-29 12:15:00    1.011561\n",
       "2016-02-29 15:45:00    1.018392\n",
       "2016-03-01 10:00:00    0.996554\n",
       "2016-03-01 15:30:00    1.000636\n",
       "                         ...   \n",
       "2021-01-22 09:30:00    0.868111\n",
       "2021-01-22 11:30:00    0.866023\n",
       "2021-01-22 13:45:00    0.867841\n",
       "2021-01-22 14:30:00    0.869140\n",
       "2021-01-22 15:45:00    0.868360\n",
       "Name: Strategy Returns, Length: 3507, dtype: float64"
      ]
     },
     "metadata": {},
     "output_type": "display_data"
    },
    {
     "name": "stdout",
     "output_type": "stream",
     "text": [
      "Short: 30; Long 170\n"
     ]
    },
    {
     "data": {
      "text/plain": [
       "date\n",
       "2016-02-29 11:30:00    1.012612\n",
       "2016-02-29 12:15:00    1.011561\n",
       "2016-02-29 15:45:00    1.018392\n",
       "2016-03-01 10:00:00    0.996554\n",
       "2016-03-01 15:30:00    1.000636\n",
       "                         ...   \n",
       "2021-01-22 09:30:00    0.868111\n",
       "2021-01-22 11:30:00    0.866023\n",
       "2021-01-22 13:45:00    0.867841\n",
       "2021-01-22 14:30:00    0.869140\n",
       "2021-01-22 15:45:00    0.868360\n",
       "Name: Strategy Returns, Length: 3507, dtype: float64"
      ]
     },
     "metadata": {},
     "output_type": "display_data"
    },
    {
     "name": "stdout",
     "output_type": "stream",
     "text": [
      "Short: 30; Long 180\n"
     ]
    },
    {
     "data": {
      "text/plain": [
       "date\n",
       "2016-02-29 11:30:00    1.012612\n",
       "2016-02-29 12:15:00    1.011561\n",
       "2016-02-29 15:45:00    1.018392\n",
       "2016-03-01 10:00:00    0.996554\n",
       "2016-03-01 15:30:00    1.000636\n",
       "                         ...   \n",
       "2021-01-22 09:30:00    0.868111\n",
       "2021-01-22 11:30:00    0.866023\n",
       "2021-01-22 13:45:00    0.867841\n",
       "2021-01-22 14:30:00    0.869140\n",
       "2021-01-22 15:45:00    0.868360\n",
       "Name: Strategy Returns, Length: 3507, dtype: float64"
      ]
     },
     "metadata": {},
     "output_type": "display_data"
    },
    {
     "name": "stdout",
     "output_type": "stream",
     "text": [
      "Short: 30; Long 190\n"
     ]
    },
    {
     "data": {
      "text/plain": [
       "date\n",
       "2016-02-29 11:30:00    1.012612\n",
       "2016-02-29 12:15:00    1.011561\n",
       "2016-02-29 15:45:00    1.018392\n",
       "2016-03-01 10:00:00    0.996554\n",
       "2016-03-01 15:30:00    1.000636\n",
       "                         ...   \n",
       "2021-01-22 09:30:00    0.868111\n",
       "2021-01-22 11:30:00    0.866023\n",
       "2021-01-22 13:45:00    0.867841\n",
       "2021-01-22 14:30:00    0.869140\n",
       "2021-01-22 15:45:00    0.868360\n",
       "Name: Strategy Returns, Length: 3507, dtype: float64"
      ]
     },
     "metadata": {},
     "output_type": "display_data"
    },
    {
     "name": "stdout",
     "output_type": "stream",
     "text": [
      "Short: 30; Long 200\n"
     ]
    },
    {
     "data": {
      "text/plain": [
       "date\n",
       "2016-02-29 11:30:00    1.012612\n",
       "2016-02-29 12:15:00    1.011561\n",
       "2016-02-29 15:45:00    1.018392\n",
       "2016-03-01 10:00:00    0.996554\n",
       "2016-03-01 15:30:00    1.000636\n",
       "                         ...   \n",
       "2021-01-22 09:30:00    0.868111\n",
       "2021-01-22 11:30:00    0.866023\n",
       "2021-01-22 13:45:00    0.867841\n",
       "2021-01-22 14:30:00    0.869140\n",
       "2021-01-22 15:45:00    0.868360\n",
       "Name: Strategy Returns, Length: 3507, dtype: float64"
      ]
     },
     "metadata": {},
     "output_type": "display_data"
    },
    {
     "name": "stdout",
     "output_type": "stream",
     "text": [
      "Short: 30; Long 210\n"
     ]
    },
    {
     "data": {
      "text/plain": [
       "date\n",
       "2016-02-29 11:30:00    1.012612\n",
       "2016-02-29 12:15:00    1.011561\n",
       "2016-02-29 15:45:00    1.018392\n",
       "2016-03-01 10:00:00    0.996554\n",
       "2016-03-01 15:30:00    1.000636\n",
       "                         ...   \n",
       "2021-01-22 09:30:00    0.868111\n",
       "2021-01-22 11:30:00    0.866023\n",
       "2021-01-22 13:45:00    0.867841\n",
       "2021-01-22 14:30:00    0.869140\n",
       "2021-01-22 15:45:00    0.868360\n",
       "Name: Strategy Returns, Length: 3507, dtype: float64"
      ]
     },
     "metadata": {},
     "output_type": "display_data"
    },
    {
     "name": "stdout",
     "output_type": "stream",
     "text": [
      "Short: 30; Long 220\n"
     ]
    },
    {
     "data": {
      "text/plain": [
       "date\n",
       "2016-02-29 11:30:00    1.012612\n",
       "2016-02-29 12:15:00    1.011561\n",
       "2016-02-29 15:45:00    1.018392\n",
       "2016-03-01 10:00:00    0.996554\n",
       "2016-03-01 15:30:00    1.000636\n",
       "                         ...   \n",
       "2021-01-22 09:30:00    0.868111\n",
       "2021-01-22 11:30:00    0.866023\n",
       "2021-01-22 13:45:00    0.867841\n",
       "2021-01-22 14:30:00    0.869140\n",
       "2021-01-22 15:45:00    0.868360\n",
       "Name: Strategy Returns, Length: 3507, dtype: float64"
      ]
     },
     "metadata": {},
     "output_type": "display_data"
    },
    {
     "name": "stdout",
     "output_type": "stream",
     "text": [
      "Short: 30; Long 230\n"
     ]
    },
    {
     "data": {
      "text/plain": [
       "date\n",
       "2016-02-29 11:30:00    1.012612\n",
       "2016-02-29 12:15:00    1.011561\n",
       "2016-02-29 15:45:00    1.018392\n",
       "2016-03-01 10:00:00    0.996554\n",
       "2016-03-01 15:30:00    1.000636\n",
       "                         ...   \n",
       "2021-01-22 09:30:00    0.868111\n",
       "2021-01-22 11:30:00    0.866023\n",
       "2021-01-22 13:45:00    0.867841\n",
       "2021-01-22 14:30:00    0.869140\n",
       "2021-01-22 15:45:00    0.868360\n",
       "Name: Strategy Returns, Length: 3507, dtype: float64"
      ]
     },
     "metadata": {},
     "output_type": "display_data"
    },
    {
     "name": "stdout",
     "output_type": "stream",
     "text": [
      "Short: 30; Long 240\n"
     ]
    },
    {
     "data": {
      "text/plain": [
       "date\n",
       "2016-02-29 11:30:00    1.012612\n",
       "2016-02-29 12:15:00    1.011561\n",
       "2016-02-29 15:45:00    1.018392\n",
       "2016-03-01 10:00:00    0.996554\n",
       "2016-03-01 15:30:00    1.000636\n",
       "                         ...   \n",
       "2021-01-22 09:30:00    0.868111\n",
       "2021-01-22 11:30:00    0.866023\n",
       "2021-01-22 13:45:00    0.867841\n",
       "2021-01-22 14:30:00    0.869140\n",
       "2021-01-22 15:45:00    0.868360\n",
       "Name: Strategy Returns, Length: 3507, dtype: float64"
      ]
     },
     "metadata": {},
     "output_type": "display_data"
    },
    {
     "name": "stdout",
     "output_type": "stream",
     "text": [
      "Short: 30; Long 250\n"
     ]
    },
    {
     "data": {
      "text/plain": [
       "date\n",
       "2016-02-29 11:30:00    1.012612\n",
       "2016-02-29 12:15:00    1.011561\n",
       "2016-02-29 15:45:00    1.018392\n",
       "2016-03-01 10:00:00    0.996554\n",
       "2016-03-01 15:30:00    1.000636\n",
       "                         ...   \n",
       "2021-01-22 09:30:00    0.868111\n",
       "2021-01-22 11:30:00    0.866023\n",
       "2021-01-22 13:45:00    0.867841\n",
       "2021-01-22 14:30:00    0.869140\n",
       "2021-01-22 15:45:00    0.868360\n",
       "Name: Strategy Returns, Length: 3507, dtype: float64"
      ]
     },
     "metadata": {},
     "output_type": "display_data"
    },
    {
     "name": "stdout",
     "output_type": "stream",
     "text": [
      "Short: 30; Long 260\n"
     ]
    },
    {
     "data": {
      "text/plain": [
       "date\n",
       "2016-02-29 11:30:00    1.012612\n",
       "2016-02-29 12:15:00    1.011561\n",
       "2016-02-29 15:45:00    1.018392\n",
       "2016-03-01 10:00:00    0.996554\n",
       "2016-03-01 15:30:00    1.000636\n",
       "                         ...   \n",
       "2021-01-22 09:30:00    0.868111\n",
       "2021-01-22 11:30:00    0.866023\n",
       "2021-01-22 13:45:00    0.867841\n",
       "2021-01-22 14:30:00    0.869140\n",
       "2021-01-22 15:45:00    0.868360\n",
       "Name: Strategy Returns, Length: 3507, dtype: float64"
      ]
     },
     "metadata": {},
     "output_type": "display_data"
    },
    {
     "name": "stdout",
     "output_type": "stream",
     "text": [
      "Short: 35; Long 100\n"
     ]
    },
    {
     "data": {
      "text/plain": [
       "date\n",
       "2016-02-29 11:30:00    1.012612\n",
       "2016-02-29 12:15:00    1.011561\n",
       "2016-02-29 15:45:00    1.018392\n",
       "2016-03-01 10:00:00    0.996554\n",
       "2016-03-01 15:30:00    1.000636\n",
       "                         ...   \n",
       "2021-01-22 09:30:00    0.868111\n",
       "2021-01-22 11:30:00    0.866023\n",
       "2021-01-22 13:45:00    0.867841\n",
       "2021-01-22 14:30:00    0.869140\n",
       "2021-01-22 15:45:00    0.868360\n",
       "Name: Strategy Returns, Length: 3507, dtype: float64"
      ]
     },
     "metadata": {},
     "output_type": "display_data"
    },
    {
     "name": "stdout",
     "output_type": "stream",
     "text": [
      "Short: 35; Long 110\n"
     ]
    },
    {
     "data": {
      "text/plain": [
       "date\n",
       "2016-02-29 11:30:00    1.012612\n",
       "2016-02-29 12:15:00    1.011561\n",
       "2016-02-29 15:45:00    1.018392\n",
       "2016-03-01 10:00:00    0.996554\n",
       "2016-03-01 15:30:00    1.000636\n",
       "                         ...   \n",
       "2021-01-22 09:30:00    0.868111\n",
       "2021-01-22 11:30:00    0.866023\n",
       "2021-01-22 13:45:00    0.867841\n",
       "2021-01-22 14:30:00    0.869140\n",
       "2021-01-22 15:45:00    0.868360\n",
       "Name: Strategy Returns, Length: 3507, dtype: float64"
      ]
     },
     "metadata": {},
     "output_type": "display_data"
    },
    {
     "name": "stdout",
     "output_type": "stream",
     "text": [
      "Short: 35; Long 120\n"
     ]
    },
    {
     "data": {
      "text/plain": [
       "date\n",
       "2016-02-29 11:30:00    1.012612\n",
       "2016-02-29 12:15:00    1.011561\n",
       "2016-02-29 15:45:00    1.018392\n",
       "2016-03-01 10:00:00    0.996554\n",
       "2016-03-01 15:30:00    1.000636\n",
       "                         ...   \n",
       "2021-01-22 09:30:00    0.868111\n",
       "2021-01-22 11:30:00    0.866023\n",
       "2021-01-22 13:45:00    0.867841\n",
       "2021-01-22 14:30:00    0.869140\n",
       "2021-01-22 15:45:00    0.868360\n",
       "Name: Strategy Returns, Length: 3507, dtype: float64"
      ]
     },
     "metadata": {},
     "output_type": "display_data"
    },
    {
     "name": "stdout",
     "output_type": "stream",
     "text": [
      "Short: 35; Long 130\n"
     ]
    },
    {
     "data": {
      "text/plain": [
       "date\n",
       "2016-02-29 11:30:00    1.012612\n",
       "2016-02-29 12:15:00    1.011561\n",
       "2016-02-29 15:45:00    1.018392\n",
       "2016-03-01 10:00:00    0.996554\n",
       "2016-03-01 15:30:00    1.000636\n",
       "                         ...   \n",
       "2021-01-22 09:30:00    0.868111\n",
       "2021-01-22 11:30:00    0.866023\n",
       "2021-01-22 13:45:00    0.867841\n",
       "2021-01-22 14:30:00    0.869140\n",
       "2021-01-22 15:45:00    0.868360\n",
       "Name: Strategy Returns, Length: 3507, dtype: float64"
      ]
     },
     "metadata": {},
     "output_type": "display_data"
    },
    {
     "name": "stdout",
     "output_type": "stream",
     "text": [
      "Short: 35; Long 140\n"
     ]
    },
    {
     "data": {
      "text/plain": [
       "date\n",
       "2016-02-29 11:30:00    1.012612\n",
       "2016-02-29 12:15:00    1.011561\n",
       "2016-02-29 15:45:00    1.018392\n",
       "2016-03-01 10:00:00    0.996554\n",
       "2016-03-01 15:30:00    1.000636\n",
       "                         ...   \n",
       "2021-01-22 09:30:00    0.868111\n",
       "2021-01-22 11:30:00    0.866023\n",
       "2021-01-22 13:45:00    0.867841\n",
       "2021-01-22 14:30:00    0.869140\n",
       "2021-01-22 15:45:00    0.868360\n",
       "Name: Strategy Returns, Length: 3507, dtype: float64"
      ]
     },
     "metadata": {},
     "output_type": "display_data"
    },
    {
     "name": "stdout",
     "output_type": "stream",
     "text": [
      "Short: 35; Long 150\n"
     ]
    },
    {
     "data": {
      "text/plain": [
       "date\n",
       "2016-02-29 11:30:00    1.012612\n",
       "2016-02-29 12:15:00    1.011561\n",
       "2016-02-29 15:45:00    1.018392\n",
       "2016-03-01 10:00:00    0.996554\n",
       "2016-03-01 15:30:00    1.000636\n",
       "                         ...   \n",
       "2021-01-22 09:30:00    0.868111\n",
       "2021-01-22 11:30:00    0.866023\n",
       "2021-01-22 13:45:00    0.867841\n",
       "2021-01-22 14:30:00    0.869140\n",
       "2021-01-22 15:45:00    0.868360\n",
       "Name: Strategy Returns, Length: 3507, dtype: float64"
      ]
     },
     "metadata": {},
     "output_type": "display_data"
    },
    {
     "name": "stdout",
     "output_type": "stream",
     "text": [
      "Short: 35; Long 160\n"
     ]
    },
    {
     "data": {
      "text/plain": [
       "date\n",
       "2016-02-29 11:30:00    1.012612\n",
       "2016-02-29 12:15:00    1.011561\n",
       "2016-02-29 15:45:00    1.018392\n",
       "2016-03-01 10:00:00    0.996554\n",
       "2016-03-01 15:30:00    1.000636\n",
       "                         ...   \n",
       "2021-01-22 09:30:00    0.868111\n",
       "2021-01-22 11:30:00    0.866023\n",
       "2021-01-22 13:45:00    0.867841\n",
       "2021-01-22 14:30:00    0.869140\n",
       "2021-01-22 15:45:00    0.868360\n",
       "Name: Strategy Returns, Length: 3507, dtype: float64"
      ]
     },
     "metadata": {},
     "output_type": "display_data"
    },
    {
     "name": "stdout",
     "output_type": "stream",
     "text": [
      "Short: 35; Long 170\n"
     ]
    },
    {
     "data": {
      "text/plain": [
       "date\n",
       "2016-02-29 11:30:00    1.012612\n",
       "2016-02-29 12:15:00    1.011561\n",
       "2016-02-29 15:45:00    1.018392\n",
       "2016-03-01 10:00:00    0.996554\n",
       "2016-03-01 15:30:00    1.000636\n",
       "                         ...   \n",
       "2021-01-22 09:30:00    0.868111\n",
       "2021-01-22 11:30:00    0.866023\n",
       "2021-01-22 13:45:00    0.867841\n",
       "2021-01-22 14:30:00    0.869140\n",
       "2021-01-22 15:45:00    0.868360\n",
       "Name: Strategy Returns, Length: 3507, dtype: float64"
      ]
     },
     "metadata": {},
     "output_type": "display_data"
    },
    {
     "name": "stdout",
     "output_type": "stream",
     "text": [
      "Short: 35; Long 180\n"
     ]
    },
    {
     "data": {
      "text/plain": [
       "date\n",
       "2016-02-29 11:30:00    1.012612\n",
       "2016-02-29 12:15:00    1.011561\n",
       "2016-02-29 15:45:00    1.018392\n",
       "2016-03-01 10:00:00    0.996554\n",
       "2016-03-01 15:30:00    1.000636\n",
       "                         ...   \n",
       "2021-01-22 09:30:00    0.868111\n",
       "2021-01-22 11:30:00    0.866023\n",
       "2021-01-22 13:45:00    0.867841\n",
       "2021-01-22 14:30:00    0.869140\n",
       "2021-01-22 15:45:00    0.868360\n",
       "Name: Strategy Returns, Length: 3507, dtype: float64"
      ]
     },
     "metadata": {},
     "output_type": "display_data"
    },
    {
     "name": "stdout",
     "output_type": "stream",
     "text": [
      "Short: 35; Long 190\n"
     ]
    },
    {
     "data": {
      "text/plain": [
       "date\n",
       "2016-02-29 11:30:00    1.012612\n",
       "2016-02-29 12:15:00    1.011561\n",
       "2016-02-29 15:45:00    1.018392\n",
       "2016-03-01 10:00:00    0.996554\n",
       "2016-03-01 15:30:00    1.000636\n",
       "                         ...   \n",
       "2021-01-22 09:30:00    0.868111\n",
       "2021-01-22 11:30:00    0.866023\n",
       "2021-01-22 13:45:00    0.867841\n",
       "2021-01-22 14:30:00    0.869140\n",
       "2021-01-22 15:45:00    0.868360\n",
       "Name: Strategy Returns, Length: 3507, dtype: float64"
      ]
     },
     "metadata": {},
     "output_type": "display_data"
    },
    {
     "name": "stdout",
     "output_type": "stream",
     "text": [
      "Short: 35; Long 200\n"
     ]
    },
    {
     "data": {
      "text/plain": [
       "date\n",
       "2016-02-29 11:30:00    1.012612\n",
       "2016-02-29 12:15:00    1.011561\n",
       "2016-02-29 15:45:00    1.018392\n",
       "2016-03-01 10:00:00    0.996554\n",
       "2016-03-01 15:30:00    1.000636\n",
       "                         ...   \n",
       "2021-01-22 09:30:00    0.868111\n",
       "2021-01-22 11:30:00    0.866023\n",
       "2021-01-22 13:45:00    0.867841\n",
       "2021-01-22 14:30:00    0.869140\n",
       "2021-01-22 15:45:00    0.868360\n",
       "Name: Strategy Returns, Length: 3507, dtype: float64"
      ]
     },
     "metadata": {},
     "output_type": "display_data"
    },
    {
     "name": "stdout",
     "output_type": "stream",
     "text": [
      "Short: 35; Long 210\n"
     ]
    },
    {
     "data": {
      "text/plain": [
       "date\n",
       "2016-02-29 11:30:00    1.012612\n",
       "2016-02-29 12:15:00    1.011561\n",
       "2016-02-29 15:45:00    1.018392\n",
       "2016-03-01 10:00:00    0.996554\n",
       "2016-03-01 15:30:00    1.000636\n",
       "                         ...   \n",
       "2021-01-22 09:30:00    0.868111\n",
       "2021-01-22 11:30:00    0.866023\n",
       "2021-01-22 13:45:00    0.867841\n",
       "2021-01-22 14:30:00    0.869140\n",
       "2021-01-22 15:45:00    0.868360\n",
       "Name: Strategy Returns, Length: 3507, dtype: float64"
      ]
     },
     "metadata": {},
     "output_type": "display_data"
    },
    {
     "name": "stdout",
     "output_type": "stream",
     "text": [
      "Short: 35; Long 220\n"
     ]
    },
    {
     "data": {
      "text/plain": [
       "date\n",
       "2016-02-29 11:30:00    1.012612\n",
       "2016-02-29 12:15:00    1.011561\n",
       "2016-02-29 15:45:00    1.018392\n",
       "2016-03-01 10:00:00    0.996554\n",
       "2016-03-01 15:30:00    1.000636\n",
       "                         ...   \n",
       "2021-01-22 09:30:00    0.868111\n",
       "2021-01-22 11:30:00    0.866023\n",
       "2021-01-22 13:45:00    0.867841\n",
       "2021-01-22 14:30:00    0.869140\n",
       "2021-01-22 15:45:00    0.868360\n",
       "Name: Strategy Returns, Length: 3507, dtype: float64"
      ]
     },
     "metadata": {},
     "output_type": "display_data"
    },
    {
     "name": "stdout",
     "output_type": "stream",
     "text": [
      "Short: 35; Long 230\n"
     ]
    },
    {
     "data": {
      "text/plain": [
       "date\n",
       "2016-02-29 11:30:00    1.012612\n",
       "2016-02-29 12:15:00    1.011561\n",
       "2016-02-29 15:45:00    1.018392\n",
       "2016-03-01 10:00:00    0.996554\n",
       "2016-03-01 15:30:00    1.000636\n",
       "                         ...   \n",
       "2021-01-22 09:30:00    0.868111\n",
       "2021-01-22 11:30:00    0.866023\n",
       "2021-01-22 13:45:00    0.867841\n",
       "2021-01-22 14:30:00    0.869140\n",
       "2021-01-22 15:45:00    0.868360\n",
       "Name: Strategy Returns, Length: 3507, dtype: float64"
      ]
     },
     "metadata": {},
     "output_type": "display_data"
    },
    {
     "name": "stdout",
     "output_type": "stream",
     "text": [
      "Short: 35; Long 240\n"
     ]
    },
    {
     "data": {
      "text/plain": [
       "date\n",
       "2016-02-29 11:30:00    1.012612\n",
       "2016-02-29 12:15:00    1.011561\n",
       "2016-02-29 15:45:00    1.018392\n",
       "2016-03-01 10:00:00    0.996554\n",
       "2016-03-01 15:30:00    1.000636\n",
       "                         ...   \n",
       "2021-01-22 09:30:00    0.868111\n",
       "2021-01-22 11:30:00    0.866023\n",
       "2021-01-22 13:45:00    0.867841\n",
       "2021-01-22 14:30:00    0.869140\n",
       "2021-01-22 15:45:00    0.868360\n",
       "Name: Strategy Returns, Length: 3507, dtype: float64"
      ]
     },
     "metadata": {},
     "output_type": "display_data"
    },
    {
     "name": "stdout",
     "output_type": "stream",
     "text": [
      "Short: 35; Long 250\n"
     ]
    },
    {
     "data": {
      "text/plain": [
       "date\n",
       "2016-02-29 11:30:00    1.012612\n",
       "2016-02-29 12:15:00    1.011561\n",
       "2016-02-29 15:45:00    1.018392\n",
       "2016-03-01 10:00:00    0.996554\n",
       "2016-03-01 15:30:00    1.000636\n",
       "                         ...   \n",
       "2021-01-22 09:30:00    0.868111\n",
       "2021-01-22 11:30:00    0.866023\n",
       "2021-01-22 13:45:00    0.867841\n",
       "2021-01-22 14:30:00    0.869140\n",
       "2021-01-22 15:45:00    0.868360\n",
       "Name: Strategy Returns, Length: 3507, dtype: float64"
      ]
     },
     "metadata": {},
     "output_type": "display_data"
    },
    {
     "name": "stdout",
     "output_type": "stream",
     "text": [
      "Short: 35; Long 260\n"
     ]
    },
    {
     "data": {
      "text/plain": [
       "date\n",
       "2016-02-29 11:30:00    1.012612\n",
       "2016-02-29 12:15:00    1.011561\n",
       "2016-02-29 15:45:00    1.018392\n",
       "2016-03-01 10:00:00    0.996554\n",
       "2016-03-01 15:30:00    1.000636\n",
       "                         ...   \n",
       "2021-01-22 09:30:00    0.868111\n",
       "2021-01-22 11:30:00    0.866023\n",
       "2021-01-22 13:45:00    0.867841\n",
       "2021-01-22 14:30:00    0.869140\n",
       "2021-01-22 15:45:00    0.868360\n",
       "Name: Strategy Returns, Length: 3507, dtype: float64"
      ]
     },
     "metadata": {},
     "output_type": "display_data"
    },
    {
     "name": "stdout",
     "output_type": "stream",
     "text": [
      "Short: 40; Long 100\n"
     ]
    },
    {
     "data": {
      "text/plain": [
       "date\n",
       "2016-02-29 11:30:00    1.012612\n",
       "2016-02-29 12:15:00    1.011561\n",
       "2016-02-29 15:45:00    1.018392\n",
       "2016-03-01 10:00:00    0.996554\n",
       "2016-03-01 15:30:00    1.000636\n",
       "                         ...   \n",
       "2021-01-22 09:30:00    0.868111\n",
       "2021-01-22 11:30:00    0.866023\n",
       "2021-01-22 13:45:00    0.867841\n",
       "2021-01-22 14:30:00    0.869140\n",
       "2021-01-22 15:45:00    0.868360\n",
       "Name: Strategy Returns, Length: 3507, dtype: float64"
      ]
     },
     "metadata": {},
     "output_type": "display_data"
    },
    {
     "name": "stdout",
     "output_type": "stream",
     "text": [
      "Short: 40; Long 110\n"
     ]
    },
    {
     "data": {
      "text/plain": [
       "date\n",
       "2016-02-29 11:30:00    1.012612\n",
       "2016-02-29 12:15:00    1.011561\n",
       "2016-02-29 15:45:00    1.018392\n",
       "2016-03-01 10:00:00    0.996554\n",
       "2016-03-01 15:30:00    1.000636\n",
       "                         ...   \n",
       "2021-01-22 09:30:00    0.868111\n",
       "2021-01-22 11:30:00    0.866023\n",
       "2021-01-22 13:45:00    0.867841\n",
       "2021-01-22 14:30:00    0.869140\n",
       "2021-01-22 15:45:00    0.868360\n",
       "Name: Strategy Returns, Length: 3507, dtype: float64"
      ]
     },
     "metadata": {},
     "output_type": "display_data"
    },
    {
     "name": "stdout",
     "output_type": "stream",
     "text": [
      "Short: 40; Long 120\n"
     ]
    },
    {
     "data": {
      "text/plain": [
       "date\n",
       "2016-02-29 11:30:00    1.012612\n",
       "2016-02-29 12:15:00    1.011561\n",
       "2016-02-29 15:45:00    1.018392\n",
       "2016-03-01 10:00:00    0.996554\n",
       "2016-03-01 15:30:00    1.000636\n",
       "                         ...   \n",
       "2021-01-22 09:30:00    0.868111\n",
       "2021-01-22 11:30:00    0.866023\n",
       "2021-01-22 13:45:00    0.867841\n",
       "2021-01-22 14:30:00    0.869140\n",
       "2021-01-22 15:45:00    0.868360\n",
       "Name: Strategy Returns, Length: 3507, dtype: float64"
      ]
     },
     "metadata": {},
     "output_type": "display_data"
    },
    {
     "name": "stdout",
     "output_type": "stream",
     "text": [
      "Short: 40; Long 130\n"
     ]
    },
    {
     "data": {
      "text/plain": [
       "date\n",
       "2016-02-29 11:30:00    1.012612\n",
       "2016-02-29 12:15:00    1.011561\n",
       "2016-02-29 15:45:00    1.018392\n",
       "2016-03-01 10:00:00    0.996554\n",
       "2016-03-01 15:30:00    1.000636\n",
       "                         ...   \n",
       "2021-01-22 09:30:00    0.868111\n",
       "2021-01-22 11:30:00    0.866023\n",
       "2021-01-22 13:45:00    0.867841\n",
       "2021-01-22 14:30:00    0.869140\n",
       "2021-01-22 15:45:00    0.868360\n",
       "Name: Strategy Returns, Length: 3507, dtype: float64"
      ]
     },
     "metadata": {},
     "output_type": "display_data"
    },
    {
     "name": "stdout",
     "output_type": "stream",
     "text": [
      "Short: 40; Long 140\n"
     ]
    },
    {
     "data": {
      "text/plain": [
       "date\n",
       "2016-02-29 11:30:00    1.012612\n",
       "2016-02-29 12:15:00    1.011561\n",
       "2016-02-29 15:45:00    1.018392\n",
       "2016-03-01 10:00:00    0.996554\n",
       "2016-03-01 15:30:00    1.000636\n",
       "                         ...   \n",
       "2021-01-22 09:30:00    0.868111\n",
       "2021-01-22 11:30:00    0.866023\n",
       "2021-01-22 13:45:00    0.867841\n",
       "2021-01-22 14:30:00    0.869140\n",
       "2021-01-22 15:45:00    0.868360\n",
       "Name: Strategy Returns, Length: 3507, dtype: float64"
      ]
     },
     "metadata": {},
     "output_type": "display_data"
    },
    {
     "name": "stdout",
     "output_type": "stream",
     "text": [
      "Short: 40; Long 150\n"
     ]
    },
    {
     "data": {
      "text/plain": [
       "date\n",
       "2016-02-29 11:30:00    1.012612\n",
       "2016-02-29 12:15:00    1.011561\n",
       "2016-02-29 15:45:00    1.018392\n",
       "2016-03-01 10:00:00    0.996554\n",
       "2016-03-01 15:30:00    1.000636\n",
       "                         ...   \n",
       "2021-01-22 09:30:00    0.868111\n",
       "2021-01-22 11:30:00    0.866023\n",
       "2021-01-22 13:45:00    0.867841\n",
       "2021-01-22 14:30:00    0.869140\n",
       "2021-01-22 15:45:00    0.868360\n",
       "Name: Strategy Returns, Length: 3507, dtype: float64"
      ]
     },
     "metadata": {},
     "output_type": "display_data"
    },
    {
     "name": "stdout",
     "output_type": "stream",
     "text": [
      "Short: 40; Long 160\n"
     ]
    },
    {
     "data": {
      "text/plain": [
       "date\n",
       "2016-02-29 11:30:00    1.012612\n",
       "2016-02-29 12:15:00    1.011561\n",
       "2016-02-29 15:45:00    1.018392\n",
       "2016-03-01 10:00:00    0.996554\n",
       "2016-03-01 15:30:00    1.000636\n",
       "                         ...   \n",
       "2021-01-22 09:30:00    0.868111\n",
       "2021-01-22 11:30:00    0.866023\n",
       "2021-01-22 13:45:00    0.867841\n",
       "2021-01-22 14:30:00    0.869140\n",
       "2021-01-22 15:45:00    0.868360\n",
       "Name: Strategy Returns, Length: 3507, dtype: float64"
      ]
     },
     "metadata": {},
     "output_type": "display_data"
    },
    {
     "name": "stdout",
     "output_type": "stream",
     "text": [
      "Short: 40; Long 170\n"
     ]
    },
    {
     "data": {
      "text/plain": [
       "date\n",
       "2016-02-29 11:30:00    1.012612\n",
       "2016-02-29 12:15:00    1.011561\n",
       "2016-02-29 15:45:00    1.018392\n",
       "2016-03-01 10:00:00    0.996554\n",
       "2016-03-01 15:30:00    1.000636\n",
       "                         ...   \n",
       "2021-01-22 09:30:00    0.868111\n",
       "2021-01-22 11:30:00    0.866023\n",
       "2021-01-22 13:45:00    0.867841\n",
       "2021-01-22 14:30:00    0.869140\n",
       "2021-01-22 15:45:00    0.868360\n",
       "Name: Strategy Returns, Length: 3507, dtype: float64"
      ]
     },
     "metadata": {},
     "output_type": "display_data"
    },
    {
     "name": "stdout",
     "output_type": "stream",
     "text": [
      "Short: 40; Long 180\n"
     ]
    },
    {
     "data": {
      "text/plain": [
       "date\n",
       "2016-02-29 11:30:00    1.012612\n",
       "2016-02-29 12:15:00    1.011561\n",
       "2016-02-29 15:45:00    1.018392\n",
       "2016-03-01 10:00:00    0.996554\n",
       "2016-03-01 15:30:00    1.000636\n",
       "                         ...   \n",
       "2021-01-22 09:30:00    0.868111\n",
       "2021-01-22 11:30:00    0.866023\n",
       "2021-01-22 13:45:00    0.867841\n",
       "2021-01-22 14:30:00    0.869140\n",
       "2021-01-22 15:45:00    0.868360\n",
       "Name: Strategy Returns, Length: 3507, dtype: float64"
      ]
     },
     "metadata": {},
     "output_type": "display_data"
    },
    {
     "name": "stdout",
     "output_type": "stream",
     "text": [
      "Short: 40; Long 190\n"
     ]
    },
    {
     "data": {
      "text/plain": [
       "date\n",
       "2016-02-29 11:30:00    1.012612\n",
       "2016-02-29 12:15:00    1.011561\n",
       "2016-02-29 15:45:00    1.018392\n",
       "2016-03-01 10:00:00    0.996554\n",
       "2016-03-01 15:30:00    1.000636\n",
       "                         ...   \n",
       "2021-01-22 09:30:00    0.868111\n",
       "2021-01-22 11:30:00    0.866023\n",
       "2021-01-22 13:45:00    0.867841\n",
       "2021-01-22 14:30:00    0.869140\n",
       "2021-01-22 15:45:00    0.868360\n",
       "Name: Strategy Returns, Length: 3507, dtype: float64"
      ]
     },
     "metadata": {},
     "output_type": "display_data"
    },
    {
     "name": "stdout",
     "output_type": "stream",
     "text": [
      "Short: 40; Long 200\n"
     ]
    },
    {
     "data": {
      "text/plain": [
       "date\n",
       "2016-02-29 11:30:00    1.012612\n",
       "2016-02-29 12:15:00    1.011561\n",
       "2016-02-29 15:45:00    1.018392\n",
       "2016-03-01 10:00:00    0.996554\n",
       "2016-03-01 15:30:00    1.000636\n",
       "                         ...   \n",
       "2021-01-22 09:30:00    0.868111\n",
       "2021-01-22 11:30:00    0.866023\n",
       "2021-01-22 13:45:00    0.867841\n",
       "2021-01-22 14:30:00    0.869140\n",
       "2021-01-22 15:45:00    0.868360\n",
       "Name: Strategy Returns, Length: 3507, dtype: float64"
      ]
     },
     "metadata": {},
     "output_type": "display_data"
    },
    {
     "name": "stdout",
     "output_type": "stream",
     "text": [
      "Short: 40; Long 210\n"
     ]
    },
    {
     "data": {
      "text/plain": [
       "date\n",
       "2016-02-29 11:30:00    1.012612\n",
       "2016-02-29 12:15:00    1.011561\n",
       "2016-02-29 15:45:00    1.018392\n",
       "2016-03-01 10:00:00    0.996554\n",
       "2016-03-01 15:30:00    1.000636\n",
       "                         ...   \n",
       "2021-01-22 09:30:00    0.868111\n",
       "2021-01-22 11:30:00    0.866023\n",
       "2021-01-22 13:45:00    0.867841\n",
       "2021-01-22 14:30:00    0.869140\n",
       "2021-01-22 15:45:00    0.868360\n",
       "Name: Strategy Returns, Length: 3507, dtype: float64"
      ]
     },
     "metadata": {},
     "output_type": "display_data"
    },
    {
     "name": "stdout",
     "output_type": "stream",
     "text": [
      "Short: 40; Long 220\n"
     ]
    },
    {
     "data": {
      "text/plain": [
       "date\n",
       "2016-02-29 11:30:00    1.012612\n",
       "2016-02-29 12:15:00    1.011561\n",
       "2016-02-29 15:45:00    1.018392\n",
       "2016-03-01 10:00:00    0.996554\n",
       "2016-03-01 15:30:00    1.000636\n",
       "                         ...   \n",
       "2021-01-22 09:30:00    0.868111\n",
       "2021-01-22 11:30:00    0.866023\n",
       "2021-01-22 13:45:00    0.867841\n",
       "2021-01-22 14:30:00    0.869140\n",
       "2021-01-22 15:45:00    0.868360\n",
       "Name: Strategy Returns, Length: 3507, dtype: float64"
      ]
     },
     "metadata": {},
     "output_type": "display_data"
    },
    {
     "name": "stdout",
     "output_type": "stream",
     "text": [
      "Short: 40; Long 230\n"
     ]
    },
    {
     "data": {
      "text/plain": [
       "date\n",
       "2016-02-29 11:30:00    1.012612\n",
       "2016-02-29 12:15:00    1.011561\n",
       "2016-02-29 15:45:00    1.018392\n",
       "2016-03-01 10:00:00    0.996554\n",
       "2016-03-01 15:30:00    1.000636\n",
       "                         ...   \n",
       "2021-01-22 09:30:00    0.868111\n",
       "2021-01-22 11:30:00    0.866023\n",
       "2021-01-22 13:45:00    0.867841\n",
       "2021-01-22 14:30:00    0.869140\n",
       "2021-01-22 15:45:00    0.868360\n",
       "Name: Strategy Returns, Length: 3507, dtype: float64"
      ]
     },
     "metadata": {},
     "output_type": "display_data"
    },
    {
     "name": "stdout",
     "output_type": "stream",
     "text": [
      "Short: 40; Long 240\n"
     ]
    },
    {
     "data": {
      "text/plain": [
       "date\n",
       "2016-02-29 11:30:00    1.012612\n",
       "2016-02-29 12:15:00    1.011561\n",
       "2016-02-29 15:45:00    1.018392\n",
       "2016-03-01 10:00:00    0.996554\n",
       "2016-03-01 15:30:00    1.000636\n",
       "                         ...   \n",
       "2021-01-22 09:30:00    0.868111\n",
       "2021-01-22 11:30:00    0.866023\n",
       "2021-01-22 13:45:00    0.867841\n",
       "2021-01-22 14:30:00    0.869140\n",
       "2021-01-22 15:45:00    0.868360\n",
       "Name: Strategy Returns, Length: 3507, dtype: float64"
      ]
     },
     "metadata": {},
     "output_type": "display_data"
    },
    {
     "name": "stdout",
     "output_type": "stream",
     "text": [
      "Short: 40; Long 250\n"
     ]
    },
    {
     "data": {
      "text/plain": [
       "date\n",
       "2016-02-29 11:30:00    1.012612\n",
       "2016-02-29 12:15:00    1.011561\n",
       "2016-02-29 15:45:00    1.018392\n",
       "2016-03-01 10:00:00    0.996554\n",
       "2016-03-01 15:30:00    1.000636\n",
       "                         ...   \n",
       "2021-01-22 09:30:00    0.868111\n",
       "2021-01-22 11:30:00    0.866023\n",
       "2021-01-22 13:45:00    0.867841\n",
       "2021-01-22 14:30:00    0.869140\n",
       "2021-01-22 15:45:00    0.868360\n",
       "Name: Strategy Returns, Length: 3507, dtype: float64"
      ]
     },
     "metadata": {},
     "output_type": "display_data"
    },
    {
     "name": "stdout",
     "output_type": "stream",
     "text": [
      "Short: 40; Long 260\n"
     ]
    },
    {
     "data": {
      "text/plain": [
       "date\n",
       "2016-02-29 11:30:00    1.012612\n",
       "2016-02-29 12:15:00    1.011561\n",
       "2016-02-29 15:45:00    1.018392\n",
       "2016-03-01 10:00:00    0.996554\n",
       "2016-03-01 15:30:00    1.000636\n",
       "                         ...   \n",
       "2021-01-22 09:30:00    0.868111\n",
       "2021-01-22 11:30:00    0.866023\n",
       "2021-01-22 13:45:00    0.867841\n",
       "2021-01-22 14:30:00    0.869140\n",
       "2021-01-22 15:45:00    0.868360\n",
       "Name: Strategy Returns, Length: 3507, dtype: float64"
      ]
     },
     "metadata": {},
     "output_type": "display_data"
    },
    {
     "name": "stdout",
     "output_type": "stream",
     "text": [
      "Short: 45; Long 100\n"
     ]
    },
    {
     "data": {
      "text/plain": [
       "date\n",
       "2016-02-29 11:30:00    1.012612\n",
       "2016-02-29 12:15:00    1.011561\n",
       "2016-02-29 15:45:00    1.018392\n",
       "2016-03-01 10:00:00    0.996554\n",
       "2016-03-01 15:30:00    1.000636\n",
       "                         ...   \n",
       "2021-01-22 09:30:00    0.868111\n",
       "2021-01-22 11:30:00    0.866023\n",
       "2021-01-22 13:45:00    0.867841\n",
       "2021-01-22 14:30:00    0.869140\n",
       "2021-01-22 15:45:00    0.868360\n",
       "Name: Strategy Returns, Length: 3507, dtype: float64"
      ]
     },
     "metadata": {},
     "output_type": "display_data"
    },
    {
     "name": "stdout",
     "output_type": "stream",
     "text": [
      "Short: 45; Long 110\n"
     ]
    },
    {
     "data": {
      "text/plain": [
       "date\n",
       "2016-02-29 11:30:00    1.012612\n",
       "2016-02-29 12:15:00    1.011561\n",
       "2016-02-29 15:45:00    1.018392\n",
       "2016-03-01 10:00:00    0.996554\n",
       "2016-03-01 15:30:00    1.000636\n",
       "                         ...   \n",
       "2021-01-22 09:30:00    0.868111\n",
       "2021-01-22 11:30:00    0.866023\n",
       "2021-01-22 13:45:00    0.867841\n",
       "2021-01-22 14:30:00    0.869140\n",
       "2021-01-22 15:45:00    0.868360\n",
       "Name: Strategy Returns, Length: 3507, dtype: float64"
      ]
     },
     "metadata": {},
     "output_type": "display_data"
    },
    {
     "name": "stdout",
     "output_type": "stream",
     "text": [
      "Short: 45; Long 120\n"
     ]
    },
    {
     "data": {
      "text/plain": [
       "date\n",
       "2016-02-29 11:30:00    1.012612\n",
       "2016-02-29 12:15:00    1.011561\n",
       "2016-02-29 15:45:00    1.018392\n",
       "2016-03-01 10:00:00    0.996554\n",
       "2016-03-01 15:30:00    1.000636\n",
       "                         ...   \n",
       "2021-01-22 09:30:00    0.868111\n",
       "2021-01-22 11:30:00    0.866023\n",
       "2021-01-22 13:45:00    0.867841\n",
       "2021-01-22 14:30:00    0.869140\n",
       "2021-01-22 15:45:00    0.868360\n",
       "Name: Strategy Returns, Length: 3507, dtype: float64"
      ]
     },
     "metadata": {},
     "output_type": "display_data"
    },
    {
     "name": "stdout",
     "output_type": "stream",
     "text": [
      "Short: 45; Long 130\n"
     ]
    },
    {
     "data": {
      "text/plain": [
       "date\n",
       "2016-02-29 11:30:00    1.012612\n",
       "2016-02-29 12:15:00    1.011561\n",
       "2016-02-29 15:45:00    1.018392\n",
       "2016-03-01 10:00:00    0.996554\n",
       "2016-03-01 15:30:00    1.000636\n",
       "                         ...   \n",
       "2021-01-22 09:30:00    0.868111\n",
       "2021-01-22 11:30:00    0.866023\n",
       "2021-01-22 13:45:00    0.867841\n",
       "2021-01-22 14:30:00    0.869140\n",
       "2021-01-22 15:45:00    0.868360\n",
       "Name: Strategy Returns, Length: 3507, dtype: float64"
      ]
     },
     "metadata": {},
     "output_type": "display_data"
    },
    {
     "name": "stdout",
     "output_type": "stream",
     "text": [
      "Short: 45; Long 140\n"
     ]
    },
    {
     "data": {
      "text/plain": [
       "date\n",
       "2016-02-29 11:30:00    1.012612\n",
       "2016-02-29 12:15:00    1.011561\n",
       "2016-02-29 15:45:00    1.018392\n",
       "2016-03-01 10:00:00    0.996554\n",
       "2016-03-01 15:30:00    1.000636\n",
       "                         ...   \n",
       "2021-01-22 09:30:00    0.868111\n",
       "2021-01-22 11:30:00    0.866023\n",
       "2021-01-22 13:45:00    0.867841\n",
       "2021-01-22 14:30:00    0.869140\n",
       "2021-01-22 15:45:00    0.868360\n",
       "Name: Strategy Returns, Length: 3507, dtype: float64"
      ]
     },
     "metadata": {},
     "output_type": "display_data"
    },
    {
     "name": "stdout",
     "output_type": "stream",
     "text": [
      "Short: 45; Long 150\n"
     ]
    },
    {
     "data": {
      "text/plain": [
       "date\n",
       "2016-02-29 11:30:00    1.012612\n",
       "2016-02-29 12:15:00    1.011561\n",
       "2016-02-29 15:45:00    1.018392\n",
       "2016-03-01 10:00:00    0.996554\n",
       "2016-03-01 15:30:00    1.000636\n",
       "                         ...   \n",
       "2021-01-22 09:30:00    0.868111\n",
       "2021-01-22 11:30:00    0.866023\n",
       "2021-01-22 13:45:00    0.867841\n",
       "2021-01-22 14:30:00    0.869140\n",
       "2021-01-22 15:45:00    0.868360\n",
       "Name: Strategy Returns, Length: 3507, dtype: float64"
      ]
     },
     "metadata": {},
     "output_type": "display_data"
    },
    {
     "name": "stdout",
     "output_type": "stream",
     "text": [
      "Short: 45; Long 160\n"
     ]
    },
    {
     "data": {
      "text/plain": [
       "date\n",
       "2016-02-29 11:30:00    1.012612\n",
       "2016-02-29 12:15:00    1.011561\n",
       "2016-02-29 15:45:00    1.018392\n",
       "2016-03-01 10:00:00    0.996554\n",
       "2016-03-01 15:30:00    1.000636\n",
       "                         ...   \n",
       "2021-01-22 09:30:00    0.868111\n",
       "2021-01-22 11:30:00    0.866023\n",
       "2021-01-22 13:45:00    0.867841\n",
       "2021-01-22 14:30:00    0.869140\n",
       "2021-01-22 15:45:00    0.868360\n",
       "Name: Strategy Returns, Length: 3507, dtype: float64"
      ]
     },
     "metadata": {},
     "output_type": "display_data"
    },
    {
     "name": "stdout",
     "output_type": "stream",
     "text": [
      "Short: 45; Long 170\n"
     ]
    },
    {
     "data": {
      "text/plain": [
       "date\n",
       "2016-02-29 11:30:00    1.012612\n",
       "2016-02-29 12:15:00    1.011561\n",
       "2016-02-29 15:45:00    1.018392\n",
       "2016-03-01 10:00:00    0.996554\n",
       "2016-03-01 15:30:00    1.000636\n",
       "                         ...   \n",
       "2021-01-22 09:30:00    0.868111\n",
       "2021-01-22 11:30:00    0.866023\n",
       "2021-01-22 13:45:00    0.867841\n",
       "2021-01-22 14:30:00    0.869140\n",
       "2021-01-22 15:45:00    0.868360\n",
       "Name: Strategy Returns, Length: 3507, dtype: float64"
      ]
     },
     "metadata": {},
     "output_type": "display_data"
    },
    {
     "name": "stdout",
     "output_type": "stream",
     "text": [
      "Short: 45; Long 180\n"
     ]
    },
    {
     "data": {
      "text/plain": [
       "date\n",
       "2016-02-29 11:30:00    1.012612\n",
       "2016-02-29 12:15:00    1.011561\n",
       "2016-02-29 15:45:00    1.018392\n",
       "2016-03-01 10:00:00    0.996554\n",
       "2016-03-01 15:30:00    1.000636\n",
       "                         ...   \n",
       "2021-01-22 09:30:00    0.868111\n",
       "2021-01-22 11:30:00    0.866023\n",
       "2021-01-22 13:45:00    0.867841\n",
       "2021-01-22 14:30:00    0.869140\n",
       "2021-01-22 15:45:00    0.868360\n",
       "Name: Strategy Returns, Length: 3507, dtype: float64"
      ]
     },
     "metadata": {},
     "output_type": "display_data"
    },
    {
     "name": "stdout",
     "output_type": "stream",
     "text": [
      "Short: 45; Long 190\n"
     ]
    },
    {
     "data": {
      "text/plain": [
       "date\n",
       "2016-02-29 11:30:00    1.012612\n",
       "2016-02-29 12:15:00    1.011561\n",
       "2016-02-29 15:45:00    1.018392\n",
       "2016-03-01 10:00:00    0.996554\n",
       "2016-03-01 15:30:00    1.000636\n",
       "                         ...   \n",
       "2021-01-22 09:30:00    0.868111\n",
       "2021-01-22 11:30:00    0.866023\n",
       "2021-01-22 13:45:00    0.867841\n",
       "2021-01-22 14:30:00    0.869140\n",
       "2021-01-22 15:45:00    0.868360\n",
       "Name: Strategy Returns, Length: 3507, dtype: float64"
      ]
     },
     "metadata": {},
     "output_type": "display_data"
    },
    {
     "name": "stdout",
     "output_type": "stream",
     "text": [
      "Short: 45; Long 200\n"
     ]
    },
    {
     "data": {
      "text/plain": [
       "date\n",
       "2016-02-29 11:30:00    1.012612\n",
       "2016-02-29 12:15:00    1.011561\n",
       "2016-02-29 15:45:00    1.018392\n",
       "2016-03-01 10:00:00    0.996554\n",
       "2016-03-01 15:30:00    1.000636\n",
       "                         ...   \n",
       "2021-01-22 09:30:00    0.868111\n",
       "2021-01-22 11:30:00    0.866023\n",
       "2021-01-22 13:45:00    0.867841\n",
       "2021-01-22 14:30:00    0.869140\n",
       "2021-01-22 15:45:00    0.868360\n",
       "Name: Strategy Returns, Length: 3507, dtype: float64"
      ]
     },
     "metadata": {},
     "output_type": "display_data"
    },
    {
     "name": "stdout",
     "output_type": "stream",
     "text": [
      "Short: 45; Long 210\n"
     ]
    },
    {
     "data": {
      "text/plain": [
       "date\n",
       "2016-02-29 11:30:00    1.012612\n",
       "2016-02-29 12:15:00    1.011561\n",
       "2016-02-29 15:45:00    1.018392\n",
       "2016-03-01 10:00:00    0.996554\n",
       "2016-03-01 15:30:00    1.000636\n",
       "                         ...   \n",
       "2021-01-22 09:30:00    0.868111\n",
       "2021-01-22 11:30:00    0.866023\n",
       "2021-01-22 13:45:00    0.867841\n",
       "2021-01-22 14:30:00    0.869140\n",
       "2021-01-22 15:45:00    0.868360\n",
       "Name: Strategy Returns, Length: 3507, dtype: float64"
      ]
     },
     "metadata": {},
     "output_type": "display_data"
    },
    {
     "name": "stdout",
     "output_type": "stream",
     "text": [
      "Short: 45; Long 220\n"
     ]
    },
    {
     "data": {
      "text/plain": [
       "date\n",
       "2016-02-29 11:30:00    1.012612\n",
       "2016-02-29 12:15:00    1.011561\n",
       "2016-02-29 15:45:00    1.018392\n",
       "2016-03-01 10:00:00    0.996554\n",
       "2016-03-01 15:30:00    1.000636\n",
       "                         ...   \n",
       "2021-01-22 09:30:00    0.868111\n",
       "2021-01-22 11:30:00    0.866023\n",
       "2021-01-22 13:45:00    0.867841\n",
       "2021-01-22 14:30:00    0.869140\n",
       "2021-01-22 15:45:00    0.868360\n",
       "Name: Strategy Returns, Length: 3507, dtype: float64"
      ]
     },
     "metadata": {},
     "output_type": "display_data"
    },
    {
     "name": "stdout",
     "output_type": "stream",
     "text": [
      "Short: 45; Long 230\n"
     ]
    },
    {
     "data": {
      "text/plain": [
       "date\n",
       "2016-02-29 11:30:00    1.012612\n",
       "2016-02-29 12:15:00    1.011561\n",
       "2016-02-29 15:45:00    1.018392\n",
       "2016-03-01 10:00:00    0.996554\n",
       "2016-03-01 15:30:00    1.000636\n",
       "                         ...   \n",
       "2021-01-22 09:30:00    0.868111\n",
       "2021-01-22 11:30:00    0.866023\n",
       "2021-01-22 13:45:00    0.867841\n",
       "2021-01-22 14:30:00    0.869140\n",
       "2021-01-22 15:45:00    0.868360\n",
       "Name: Strategy Returns, Length: 3507, dtype: float64"
      ]
     },
     "metadata": {},
     "output_type": "display_data"
    },
    {
     "name": "stdout",
     "output_type": "stream",
     "text": [
      "Short: 45; Long 240\n"
     ]
    },
    {
     "data": {
      "text/plain": [
       "date\n",
       "2016-02-29 11:30:00    1.012612\n",
       "2016-02-29 12:15:00    1.011561\n",
       "2016-02-29 15:45:00    1.018392\n",
       "2016-03-01 10:00:00    0.996554\n",
       "2016-03-01 15:30:00    1.000636\n",
       "                         ...   \n",
       "2021-01-22 09:30:00    0.868111\n",
       "2021-01-22 11:30:00    0.866023\n",
       "2021-01-22 13:45:00    0.867841\n",
       "2021-01-22 14:30:00    0.869140\n",
       "2021-01-22 15:45:00    0.868360\n",
       "Name: Strategy Returns, Length: 3507, dtype: float64"
      ]
     },
     "metadata": {},
     "output_type": "display_data"
    },
    {
     "name": "stdout",
     "output_type": "stream",
     "text": [
      "Short: 45; Long 250\n"
     ]
    },
    {
     "data": {
      "text/plain": [
       "date\n",
       "2016-02-29 11:30:00    1.012612\n",
       "2016-02-29 12:15:00    1.011561\n",
       "2016-02-29 15:45:00    1.018392\n",
       "2016-03-01 10:00:00    0.996554\n",
       "2016-03-01 15:30:00    1.000636\n",
       "                         ...   \n",
       "2021-01-22 09:30:00    0.868111\n",
       "2021-01-22 11:30:00    0.866023\n",
       "2021-01-22 13:45:00    0.867841\n",
       "2021-01-22 14:30:00    0.869140\n",
       "2021-01-22 15:45:00    0.868360\n",
       "Name: Strategy Returns, Length: 3507, dtype: float64"
      ]
     },
     "metadata": {},
     "output_type": "display_data"
    },
    {
     "name": "stdout",
     "output_type": "stream",
     "text": [
      "Short: 45; Long 260\n"
     ]
    },
    {
     "data": {
      "text/plain": [
       "date\n",
       "2016-02-29 11:30:00    1.012612\n",
       "2016-02-29 12:15:00    1.011561\n",
       "2016-02-29 15:45:00    1.018392\n",
       "2016-03-01 10:00:00    0.996554\n",
       "2016-03-01 15:30:00    1.000636\n",
       "                         ...   \n",
       "2021-01-22 09:30:00    0.868111\n",
       "2021-01-22 11:30:00    0.866023\n",
       "2021-01-22 13:45:00    0.867841\n",
       "2021-01-22 14:30:00    0.869140\n",
       "2021-01-22 15:45:00    0.868360\n",
       "Name: Strategy Returns, Length: 3507, dtype: float64"
      ]
     },
     "metadata": {},
     "output_type": "display_data"
    },
    {
     "name": "stdout",
     "output_type": "stream",
     "text": [
      "Short: 50; Long 100\n"
     ]
    },
    {
     "data": {
      "text/plain": [
       "date\n",
       "2016-02-29 11:30:00    1.012612\n",
       "2016-02-29 12:15:00    1.011561\n",
       "2016-02-29 15:45:00    1.018392\n",
       "2016-03-01 10:00:00    0.996554\n",
       "2016-03-01 15:30:00    1.000636\n",
       "                         ...   \n",
       "2021-01-22 09:30:00    0.868111\n",
       "2021-01-22 11:30:00    0.866023\n",
       "2021-01-22 13:45:00    0.867841\n",
       "2021-01-22 14:30:00    0.869140\n",
       "2021-01-22 15:45:00    0.868360\n",
       "Name: Strategy Returns, Length: 3507, dtype: float64"
      ]
     },
     "metadata": {},
     "output_type": "display_data"
    },
    {
     "name": "stdout",
     "output_type": "stream",
     "text": [
      "Short: 50; Long 110\n"
     ]
    },
    {
     "data": {
      "text/plain": [
       "date\n",
       "2016-02-29 11:30:00    1.012612\n",
       "2016-02-29 12:15:00    1.011561\n",
       "2016-02-29 15:45:00    1.018392\n",
       "2016-03-01 10:00:00    0.996554\n",
       "2016-03-01 15:30:00    1.000636\n",
       "                         ...   \n",
       "2021-01-22 09:30:00    0.868111\n",
       "2021-01-22 11:30:00    0.866023\n",
       "2021-01-22 13:45:00    0.867841\n",
       "2021-01-22 14:30:00    0.869140\n",
       "2021-01-22 15:45:00    0.868360\n",
       "Name: Strategy Returns, Length: 3507, dtype: float64"
      ]
     },
     "metadata": {},
     "output_type": "display_data"
    },
    {
     "name": "stdout",
     "output_type": "stream",
     "text": [
      "Short: 50; Long 120\n"
     ]
    },
    {
     "data": {
      "text/plain": [
       "date\n",
       "2016-02-29 11:30:00    1.012612\n",
       "2016-02-29 12:15:00    1.011561\n",
       "2016-02-29 15:45:00    1.018392\n",
       "2016-03-01 10:00:00    0.996554\n",
       "2016-03-01 15:30:00    1.000636\n",
       "                         ...   \n",
       "2021-01-22 09:30:00    0.868111\n",
       "2021-01-22 11:30:00    0.866023\n",
       "2021-01-22 13:45:00    0.867841\n",
       "2021-01-22 14:30:00    0.869140\n",
       "2021-01-22 15:45:00    0.868360\n",
       "Name: Strategy Returns, Length: 3507, dtype: float64"
      ]
     },
     "metadata": {},
     "output_type": "display_data"
    },
    {
     "name": "stdout",
     "output_type": "stream",
     "text": [
      "Short: 50; Long 130\n"
     ]
    },
    {
     "data": {
      "text/plain": [
       "date\n",
       "2016-02-29 11:30:00    1.012612\n",
       "2016-02-29 12:15:00    1.011561\n",
       "2016-02-29 15:45:00    1.018392\n",
       "2016-03-01 10:00:00    0.996554\n",
       "2016-03-01 15:30:00    1.000636\n",
       "                         ...   \n",
       "2021-01-22 09:30:00    0.868111\n",
       "2021-01-22 11:30:00    0.866023\n",
       "2021-01-22 13:45:00    0.867841\n",
       "2021-01-22 14:30:00    0.869140\n",
       "2021-01-22 15:45:00    0.868360\n",
       "Name: Strategy Returns, Length: 3507, dtype: float64"
      ]
     },
     "metadata": {},
     "output_type": "display_data"
    },
    {
     "name": "stdout",
     "output_type": "stream",
     "text": [
      "Short: 50; Long 140\n"
     ]
    },
    {
     "data": {
      "text/plain": [
       "date\n",
       "2016-02-29 11:30:00    1.012612\n",
       "2016-02-29 12:15:00    1.011561\n",
       "2016-02-29 15:45:00    1.018392\n",
       "2016-03-01 10:00:00    0.996554\n",
       "2016-03-01 15:30:00    1.000636\n",
       "                         ...   \n",
       "2021-01-22 09:30:00    0.868111\n",
       "2021-01-22 11:30:00    0.866023\n",
       "2021-01-22 13:45:00    0.867841\n",
       "2021-01-22 14:30:00    0.869140\n",
       "2021-01-22 15:45:00    0.868360\n",
       "Name: Strategy Returns, Length: 3507, dtype: float64"
      ]
     },
     "metadata": {},
     "output_type": "display_data"
    },
    {
     "name": "stdout",
     "output_type": "stream",
     "text": [
      "Short: 50; Long 150\n"
     ]
    },
    {
     "data": {
      "text/plain": [
       "date\n",
       "2016-02-29 11:30:00    1.012612\n",
       "2016-02-29 12:15:00    1.011561\n",
       "2016-02-29 15:45:00    1.018392\n",
       "2016-03-01 10:00:00    0.996554\n",
       "2016-03-01 15:30:00    1.000636\n",
       "                         ...   \n",
       "2021-01-22 09:30:00    0.868111\n",
       "2021-01-22 11:30:00    0.866023\n",
       "2021-01-22 13:45:00    0.867841\n",
       "2021-01-22 14:30:00    0.869140\n",
       "2021-01-22 15:45:00    0.868360\n",
       "Name: Strategy Returns, Length: 3507, dtype: float64"
      ]
     },
     "metadata": {},
     "output_type": "display_data"
    },
    {
     "name": "stdout",
     "output_type": "stream",
     "text": [
      "Short: 50; Long 160\n"
     ]
    },
    {
     "data": {
      "text/plain": [
       "date\n",
       "2016-02-29 11:30:00    1.012612\n",
       "2016-02-29 12:15:00    1.011561\n",
       "2016-02-29 15:45:00    1.018392\n",
       "2016-03-01 10:00:00    0.996554\n",
       "2016-03-01 15:30:00    1.000636\n",
       "                         ...   \n",
       "2021-01-22 09:30:00    0.868111\n",
       "2021-01-22 11:30:00    0.866023\n",
       "2021-01-22 13:45:00    0.867841\n",
       "2021-01-22 14:30:00    0.869140\n",
       "2021-01-22 15:45:00    0.868360\n",
       "Name: Strategy Returns, Length: 3507, dtype: float64"
      ]
     },
     "metadata": {},
     "output_type": "display_data"
    },
    {
     "name": "stdout",
     "output_type": "stream",
     "text": [
      "Short: 50; Long 170\n"
     ]
    },
    {
     "data": {
      "text/plain": [
       "date\n",
       "2016-02-29 11:30:00    1.012612\n",
       "2016-02-29 12:15:00    1.011561\n",
       "2016-02-29 15:45:00    1.018392\n",
       "2016-03-01 10:00:00    0.996554\n",
       "2016-03-01 15:30:00    1.000636\n",
       "                         ...   \n",
       "2021-01-22 09:30:00    0.868111\n",
       "2021-01-22 11:30:00    0.866023\n",
       "2021-01-22 13:45:00    0.867841\n",
       "2021-01-22 14:30:00    0.869140\n",
       "2021-01-22 15:45:00    0.868360\n",
       "Name: Strategy Returns, Length: 3507, dtype: float64"
      ]
     },
     "metadata": {},
     "output_type": "display_data"
    },
    {
     "name": "stdout",
     "output_type": "stream",
     "text": [
      "Short: 50; Long 180\n"
     ]
    },
    {
     "data": {
      "text/plain": [
       "date\n",
       "2016-02-29 11:30:00    1.012612\n",
       "2016-02-29 12:15:00    1.011561\n",
       "2016-02-29 15:45:00    1.018392\n",
       "2016-03-01 10:00:00    0.996554\n",
       "2016-03-01 15:30:00    1.000636\n",
       "                         ...   \n",
       "2021-01-22 09:30:00    0.868111\n",
       "2021-01-22 11:30:00    0.866023\n",
       "2021-01-22 13:45:00    0.867841\n",
       "2021-01-22 14:30:00    0.869140\n",
       "2021-01-22 15:45:00    0.868360\n",
       "Name: Strategy Returns, Length: 3507, dtype: float64"
      ]
     },
     "metadata": {},
     "output_type": "display_data"
    },
    {
     "name": "stdout",
     "output_type": "stream",
     "text": [
      "Short: 50; Long 190\n"
     ]
    },
    {
     "data": {
      "text/plain": [
       "date\n",
       "2016-02-29 11:30:00    1.012612\n",
       "2016-02-29 12:15:00    1.011561\n",
       "2016-02-29 15:45:00    1.018392\n",
       "2016-03-01 10:00:00    0.996554\n",
       "2016-03-01 15:30:00    1.000636\n",
       "                         ...   \n",
       "2021-01-22 09:30:00    0.868111\n",
       "2021-01-22 11:30:00    0.866023\n",
       "2021-01-22 13:45:00    0.867841\n",
       "2021-01-22 14:30:00    0.869140\n",
       "2021-01-22 15:45:00    0.868360\n",
       "Name: Strategy Returns, Length: 3507, dtype: float64"
      ]
     },
     "metadata": {},
     "output_type": "display_data"
    },
    {
     "name": "stdout",
     "output_type": "stream",
     "text": [
      "Short: 50; Long 200\n"
     ]
    },
    {
     "data": {
      "text/plain": [
       "date\n",
       "2016-02-29 11:30:00    1.012612\n",
       "2016-02-29 12:15:00    1.011561\n",
       "2016-02-29 15:45:00    1.018392\n",
       "2016-03-01 10:00:00    0.996554\n",
       "2016-03-01 15:30:00    1.000636\n",
       "                         ...   \n",
       "2021-01-22 09:30:00    0.868111\n",
       "2021-01-22 11:30:00    0.866023\n",
       "2021-01-22 13:45:00    0.867841\n",
       "2021-01-22 14:30:00    0.869140\n",
       "2021-01-22 15:45:00    0.868360\n",
       "Name: Strategy Returns, Length: 3507, dtype: float64"
      ]
     },
     "metadata": {},
     "output_type": "display_data"
    },
    {
     "name": "stdout",
     "output_type": "stream",
     "text": [
      "Short: 50; Long 210\n"
     ]
    },
    {
     "data": {
      "text/plain": [
       "date\n",
       "2016-02-29 11:30:00    1.012612\n",
       "2016-02-29 12:15:00    1.011561\n",
       "2016-02-29 15:45:00    1.018392\n",
       "2016-03-01 10:00:00    0.996554\n",
       "2016-03-01 15:30:00    1.000636\n",
       "                         ...   \n",
       "2021-01-22 09:30:00    0.868111\n",
       "2021-01-22 11:30:00    0.866023\n",
       "2021-01-22 13:45:00    0.867841\n",
       "2021-01-22 14:30:00    0.869140\n",
       "2021-01-22 15:45:00    0.868360\n",
       "Name: Strategy Returns, Length: 3507, dtype: float64"
      ]
     },
     "metadata": {},
     "output_type": "display_data"
    },
    {
     "name": "stdout",
     "output_type": "stream",
     "text": [
      "Short: 50; Long 220\n"
     ]
    },
    {
     "data": {
      "text/plain": [
       "date\n",
       "2016-02-29 11:30:00    1.012612\n",
       "2016-02-29 12:15:00    1.011561\n",
       "2016-02-29 15:45:00    1.018392\n",
       "2016-03-01 10:00:00    0.996554\n",
       "2016-03-01 15:30:00    1.000636\n",
       "                         ...   \n",
       "2021-01-22 09:30:00    0.868111\n",
       "2021-01-22 11:30:00    0.866023\n",
       "2021-01-22 13:45:00    0.867841\n",
       "2021-01-22 14:30:00    0.869140\n",
       "2021-01-22 15:45:00    0.868360\n",
       "Name: Strategy Returns, Length: 3507, dtype: float64"
      ]
     },
     "metadata": {},
     "output_type": "display_data"
    },
    {
     "name": "stdout",
     "output_type": "stream",
     "text": [
      "Short: 50; Long 230\n"
     ]
    },
    {
     "data": {
      "text/plain": [
       "date\n",
       "2016-02-29 11:30:00    1.012612\n",
       "2016-02-29 12:15:00    1.011561\n",
       "2016-02-29 15:45:00    1.018392\n",
       "2016-03-01 10:00:00    0.996554\n",
       "2016-03-01 15:30:00    1.000636\n",
       "                         ...   \n",
       "2021-01-22 09:30:00    0.868111\n",
       "2021-01-22 11:30:00    0.866023\n",
       "2021-01-22 13:45:00    0.867841\n",
       "2021-01-22 14:30:00    0.869140\n",
       "2021-01-22 15:45:00    0.868360\n",
       "Name: Strategy Returns, Length: 3507, dtype: float64"
      ]
     },
     "metadata": {},
     "output_type": "display_data"
    },
    {
     "name": "stdout",
     "output_type": "stream",
     "text": [
      "Short: 50; Long 240\n"
     ]
    },
    {
     "data": {
      "text/plain": [
       "date\n",
       "2016-02-29 11:30:00    1.012612\n",
       "2016-02-29 12:15:00    1.011561\n",
       "2016-02-29 15:45:00    1.018392\n",
       "2016-03-01 10:00:00    0.996554\n",
       "2016-03-01 15:30:00    1.000636\n",
       "                         ...   \n",
       "2021-01-22 09:30:00    0.868111\n",
       "2021-01-22 11:30:00    0.866023\n",
       "2021-01-22 13:45:00    0.867841\n",
       "2021-01-22 14:30:00    0.869140\n",
       "2021-01-22 15:45:00    0.868360\n",
       "Name: Strategy Returns, Length: 3507, dtype: float64"
      ]
     },
     "metadata": {},
     "output_type": "display_data"
    },
    {
     "name": "stdout",
     "output_type": "stream",
     "text": [
      "Short: 50; Long 250\n"
     ]
    },
    {
     "data": {
      "text/plain": [
       "date\n",
       "2016-02-29 11:30:00    1.012612\n",
       "2016-02-29 12:15:00    1.011561\n",
       "2016-02-29 15:45:00    1.018392\n",
       "2016-03-01 10:00:00    0.996554\n",
       "2016-03-01 15:30:00    1.000636\n",
       "                         ...   \n",
       "2021-01-22 09:30:00    0.868111\n",
       "2021-01-22 11:30:00    0.866023\n",
       "2021-01-22 13:45:00    0.867841\n",
       "2021-01-22 14:30:00    0.869140\n",
       "2021-01-22 15:45:00    0.868360\n",
       "Name: Strategy Returns, Length: 3507, dtype: float64"
      ]
     },
     "metadata": {},
     "output_type": "display_data"
    },
    {
     "name": "stdout",
     "output_type": "stream",
     "text": [
      "Short: 50; Long 260\n"
     ]
    },
    {
     "data": {
      "text/plain": [
       "date\n",
       "2016-02-29 11:30:00    1.012612\n",
       "2016-02-29 12:15:00    1.011561\n",
       "2016-02-29 15:45:00    1.018392\n",
       "2016-03-01 10:00:00    0.996554\n",
       "2016-03-01 15:30:00    1.000636\n",
       "                         ...   \n",
       "2021-01-22 09:30:00    0.868111\n",
       "2021-01-22 11:30:00    0.866023\n",
       "2021-01-22 13:45:00    0.867841\n",
       "2021-01-22 14:30:00    0.869140\n",
       "2021-01-22 15:45:00    0.868360\n",
       "Name: Strategy Returns, Length: 3507, dtype: float64"
      ]
     },
     "metadata": {},
     "output_type": "display_data"
    },
    {
     "name": "stdout",
     "output_type": "stream",
     "text": [
      "Short: 55; Long 105\n"
     ]
    },
    {
     "data": {
      "text/plain": [
       "date\n",
       "2016-02-29 11:30:00    1.012612\n",
       "2016-02-29 12:15:00    1.011561\n",
       "2016-02-29 15:45:00    1.018392\n",
       "2016-03-01 10:00:00    0.996554\n",
       "2016-03-01 15:30:00    1.000636\n",
       "                         ...   \n",
       "2021-01-22 09:30:00    0.868111\n",
       "2021-01-22 11:30:00    0.866023\n",
       "2021-01-22 13:45:00    0.867841\n",
       "2021-01-22 14:30:00    0.869140\n",
       "2021-01-22 15:45:00    0.868360\n",
       "Name: Strategy Returns, Length: 3507, dtype: float64"
      ]
     },
     "metadata": {},
     "output_type": "display_data"
    },
    {
     "name": "stdout",
     "output_type": "stream",
     "text": [
      "Short: 55; Long 115\n"
     ]
    },
    {
     "data": {
      "text/plain": [
       "date\n",
       "2016-02-29 11:30:00    1.012612\n",
       "2016-02-29 12:15:00    1.011561\n",
       "2016-02-29 15:45:00    1.018392\n",
       "2016-03-01 10:00:00    0.996554\n",
       "2016-03-01 15:30:00    1.000636\n",
       "                         ...   \n",
       "2021-01-22 09:30:00    0.868111\n",
       "2021-01-22 11:30:00    0.866023\n",
       "2021-01-22 13:45:00    0.867841\n",
       "2021-01-22 14:30:00    0.869140\n",
       "2021-01-22 15:45:00    0.868360\n",
       "Name: Strategy Returns, Length: 3507, dtype: float64"
      ]
     },
     "metadata": {},
     "output_type": "display_data"
    },
    {
     "name": "stdout",
     "output_type": "stream",
     "text": [
      "Short: 55; Long 125\n"
     ]
    },
    {
     "data": {
      "text/plain": [
       "date\n",
       "2016-02-29 11:30:00    1.012612\n",
       "2016-02-29 12:15:00    1.011561\n",
       "2016-02-29 15:45:00    1.018392\n",
       "2016-03-01 10:00:00    0.996554\n",
       "2016-03-01 15:30:00    1.000636\n",
       "                         ...   \n",
       "2021-01-22 09:30:00    0.868111\n",
       "2021-01-22 11:30:00    0.866023\n",
       "2021-01-22 13:45:00    0.867841\n",
       "2021-01-22 14:30:00    0.869140\n",
       "2021-01-22 15:45:00    0.868360\n",
       "Name: Strategy Returns, Length: 3507, dtype: float64"
      ]
     },
     "metadata": {},
     "output_type": "display_data"
    },
    {
     "name": "stdout",
     "output_type": "stream",
     "text": [
      "Short: 55; Long 135\n"
     ]
    },
    {
     "data": {
      "text/plain": [
       "date\n",
       "2016-02-29 11:30:00    1.012612\n",
       "2016-02-29 12:15:00    1.011561\n",
       "2016-02-29 15:45:00    1.018392\n",
       "2016-03-01 10:00:00    0.996554\n",
       "2016-03-01 15:30:00    1.000636\n",
       "                         ...   \n",
       "2021-01-22 09:30:00    0.868111\n",
       "2021-01-22 11:30:00    0.866023\n",
       "2021-01-22 13:45:00    0.867841\n",
       "2021-01-22 14:30:00    0.869140\n",
       "2021-01-22 15:45:00    0.868360\n",
       "Name: Strategy Returns, Length: 3507, dtype: float64"
      ]
     },
     "metadata": {},
     "output_type": "display_data"
    },
    {
     "name": "stdout",
     "output_type": "stream",
     "text": [
      "Short: 55; Long 145\n"
     ]
    },
    {
     "data": {
      "text/plain": [
       "date\n",
       "2016-02-29 11:30:00    1.012612\n",
       "2016-02-29 12:15:00    1.011561\n",
       "2016-02-29 15:45:00    1.018392\n",
       "2016-03-01 10:00:00    0.996554\n",
       "2016-03-01 15:30:00    1.000636\n",
       "                         ...   \n",
       "2021-01-22 09:30:00    0.868111\n",
       "2021-01-22 11:30:00    0.866023\n",
       "2021-01-22 13:45:00    0.867841\n",
       "2021-01-22 14:30:00    0.869140\n",
       "2021-01-22 15:45:00    0.868360\n",
       "Name: Strategy Returns, Length: 3507, dtype: float64"
      ]
     },
     "metadata": {},
     "output_type": "display_data"
    },
    {
     "name": "stdout",
     "output_type": "stream",
     "text": [
      "Short: 55; Long 155\n"
     ]
    },
    {
     "data": {
      "text/plain": [
       "date\n",
       "2016-02-29 11:30:00    1.012612\n",
       "2016-02-29 12:15:00    1.011561\n",
       "2016-02-29 15:45:00    1.018392\n",
       "2016-03-01 10:00:00    0.996554\n",
       "2016-03-01 15:30:00    1.000636\n",
       "                         ...   \n",
       "2021-01-22 09:30:00    0.868111\n",
       "2021-01-22 11:30:00    0.866023\n",
       "2021-01-22 13:45:00    0.867841\n",
       "2021-01-22 14:30:00    0.869140\n",
       "2021-01-22 15:45:00    0.868360\n",
       "Name: Strategy Returns, Length: 3507, dtype: float64"
      ]
     },
     "metadata": {},
     "output_type": "display_data"
    },
    {
     "name": "stdout",
     "output_type": "stream",
     "text": [
      "Short: 55; Long 165\n"
     ]
    },
    {
     "data": {
      "text/plain": [
       "date\n",
       "2016-02-29 11:30:00    1.012612\n",
       "2016-02-29 12:15:00    1.011561\n",
       "2016-02-29 15:45:00    1.018392\n",
       "2016-03-01 10:00:00    0.996554\n",
       "2016-03-01 15:30:00    1.000636\n",
       "                         ...   \n",
       "2021-01-22 09:30:00    0.868111\n",
       "2021-01-22 11:30:00    0.866023\n",
       "2021-01-22 13:45:00    0.867841\n",
       "2021-01-22 14:30:00    0.869140\n",
       "2021-01-22 15:45:00    0.868360\n",
       "Name: Strategy Returns, Length: 3507, dtype: float64"
      ]
     },
     "metadata": {},
     "output_type": "display_data"
    },
    {
     "name": "stdout",
     "output_type": "stream",
     "text": [
      "Short: 55; Long 175\n"
     ]
    },
    {
     "data": {
      "text/plain": [
       "date\n",
       "2016-02-29 11:30:00    1.012612\n",
       "2016-02-29 12:15:00    1.011561\n",
       "2016-02-29 15:45:00    1.018392\n",
       "2016-03-01 10:00:00    0.996554\n",
       "2016-03-01 15:30:00    1.000636\n",
       "                         ...   \n",
       "2021-01-22 09:30:00    0.868111\n",
       "2021-01-22 11:30:00    0.866023\n",
       "2021-01-22 13:45:00    0.867841\n",
       "2021-01-22 14:30:00    0.869140\n",
       "2021-01-22 15:45:00    0.868360\n",
       "Name: Strategy Returns, Length: 3507, dtype: float64"
      ]
     },
     "metadata": {},
     "output_type": "display_data"
    },
    {
     "name": "stdout",
     "output_type": "stream",
     "text": [
      "Short: 55; Long 185\n"
     ]
    },
    {
     "data": {
      "text/plain": [
       "date\n",
       "2016-02-29 11:30:00    1.012612\n",
       "2016-02-29 12:15:00    1.011561\n",
       "2016-02-29 15:45:00    1.018392\n",
       "2016-03-01 10:00:00    0.996554\n",
       "2016-03-01 15:30:00    1.000636\n",
       "                         ...   \n",
       "2021-01-22 09:30:00    0.868111\n",
       "2021-01-22 11:30:00    0.866023\n",
       "2021-01-22 13:45:00    0.867841\n",
       "2021-01-22 14:30:00    0.869140\n",
       "2021-01-22 15:45:00    0.868360\n",
       "Name: Strategy Returns, Length: 3507, dtype: float64"
      ]
     },
     "metadata": {},
     "output_type": "display_data"
    },
    {
     "name": "stdout",
     "output_type": "stream",
     "text": [
      "Short: 55; Long 195\n"
     ]
    },
    {
     "data": {
      "text/plain": [
       "date\n",
       "2016-02-29 11:30:00    1.012612\n",
       "2016-02-29 12:15:00    1.011561\n",
       "2016-02-29 15:45:00    1.018392\n",
       "2016-03-01 10:00:00    0.996554\n",
       "2016-03-01 15:30:00    1.000636\n",
       "                         ...   \n",
       "2021-01-22 09:30:00    0.868111\n",
       "2021-01-22 11:30:00    0.866023\n",
       "2021-01-22 13:45:00    0.867841\n",
       "2021-01-22 14:30:00    0.869140\n",
       "2021-01-22 15:45:00    0.868360\n",
       "Name: Strategy Returns, Length: 3507, dtype: float64"
      ]
     },
     "metadata": {},
     "output_type": "display_data"
    },
    {
     "name": "stdout",
     "output_type": "stream",
     "text": [
      "Short: 55; Long 205\n"
     ]
    },
    {
     "data": {
      "text/plain": [
       "date\n",
       "2016-02-29 11:30:00    1.012612\n",
       "2016-02-29 12:15:00    1.011561\n",
       "2016-02-29 15:45:00    1.018392\n",
       "2016-03-01 10:00:00    0.996554\n",
       "2016-03-01 15:30:00    1.000636\n",
       "                         ...   \n",
       "2021-01-22 09:30:00    0.868111\n",
       "2021-01-22 11:30:00    0.866023\n",
       "2021-01-22 13:45:00    0.867841\n",
       "2021-01-22 14:30:00    0.869140\n",
       "2021-01-22 15:45:00    0.868360\n",
       "Name: Strategy Returns, Length: 3507, dtype: float64"
      ]
     },
     "metadata": {},
     "output_type": "display_data"
    },
    {
     "name": "stdout",
     "output_type": "stream",
     "text": [
      "Short: 55; Long 215\n"
     ]
    },
    {
     "data": {
      "text/plain": [
       "date\n",
       "2016-02-29 11:30:00    1.012612\n",
       "2016-02-29 12:15:00    1.011561\n",
       "2016-02-29 15:45:00    1.018392\n",
       "2016-03-01 10:00:00    0.996554\n",
       "2016-03-01 15:30:00    1.000636\n",
       "                         ...   \n",
       "2021-01-22 09:30:00    0.868111\n",
       "2021-01-22 11:30:00    0.866023\n",
       "2021-01-22 13:45:00    0.867841\n",
       "2021-01-22 14:30:00    0.869140\n",
       "2021-01-22 15:45:00    0.868360\n",
       "Name: Strategy Returns, Length: 3507, dtype: float64"
      ]
     },
     "metadata": {},
     "output_type": "display_data"
    },
    {
     "name": "stdout",
     "output_type": "stream",
     "text": [
      "Short: 55; Long 225\n"
     ]
    },
    {
     "data": {
      "text/plain": [
       "date\n",
       "2016-02-29 11:30:00    1.012612\n",
       "2016-02-29 12:15:00    1.011561\n",
       "2016-02-29 15:45:00    1.018392\n",
       "2016-03-01 10:00:00    0.996554\n",
       "2016-03-01 15:30:00    1.000636\n",
       "                         ...   \n",
       "2021-01-22 09:30:00    0.868111\n",
       "2021-01-22 11:30:00    0.866023\n",
       "2021-01-22 13:45:00    0.867841\n",
       "2021-01-22 14:30:00    0.869140\n",
       "2021-01-22 15:45:00    0.868360\n",
       "Name: Strategy Returns, Length: 3507, dtype: float64"
      ]
     },
     "metadata": {},
     "output_type": "display_data"
    },
    {
     "name": "stdout",
     "output_type": "stream",
     "text": [
      "Short: 55; Long 235\n"
     ]
    },
    {
     "data": {
      "text/plain": [
       "date\n",
       "2016-02-29 11:30:00    1.012612\n",
       "2016-02-29 12:15:00    1.011561\n",
       "2016-02-29 15:45:00    1.018392\n",
       "2016-03-01 10:00:00    0.996554\n",
       "2016-03-01 15:30:00    1.000636\n",
       "                         ...   \n",
       "2021-01-22 09:30:00    0.868111\n",
       "2021-01-22 11:30:00    0.866023\n",
       "2021-01-22 13:45:00    0.867841\n",
       "2021-01-22 14:30:00    0.869140\n",
       "2021-01-22 15:45:00    0.868360\n",
       "Name: Strategy Returns, Length: 3507, dtype: float64"
      ]
     },
     "metadata": {},
     "output_type": "display_data"
    },
    {
     "name": "stdout",
     "output_type": "stream",
     "text": [
      "Short: 55; Long 245\n"
     ]
    },
    {
     "data": {
      "text/plain": [
       "date\n",
       "2016-02-29 11:30:00    1.012612\n",
       "2016-02-29 12:15:00    1.011561\n",
       "2016-02-29 15:45:00    1.018392\n",
       "2016-03-01 10:00:00    0.996554\n",
       "2016-03-01 15:30:00    1.000636\n",
       "                         ...   \n",
       "2021-01-22 09:30:00    0.868111\n",
       "2021-01-22 11:30:00    0.866023\n",
       "2021-01-22 13:45:00    0.867841\n",
       "2021-01-22 14:30:00    0.869140\n",
       "2021-01-22 15:45:00    0.868360\n",
       "Name: Strategy Returns, Length: 3507, dtype: float64"
      ]
     },
     "metadata": {},
     "output_type": "display_data"
    },
    {
     "name": "stdout",
     "output_type": "stream",
     "text": [
      "Short: 55; Long 255\n"
     ]
    },
    {
     "data": {
      "text/plain": [
       "date\n",
       "2016-02-29 11:30:00    1.012612\n",
       "2016-02-29 12:15:00    1.011561\n",
       "2016-02-29 15:45:00    1.018392\n",
       "2016-03-01 10:00:00    0.996554\n",
       "2016-03-01 15:30:00    1.000636\n",
       "                         ...   \n",
       "2021-01-22 09:30:00    0.868111\n",
       "2021-01-22 11:30:00    0.866023\n",
       "2021-01-22 13:45:00    0.867841\n",
       "2021-01-22 14:30:00    0.869140\n",
       "2021-01-22 15:45:00    0.868360\n",
       "Name: Strategy Returns, Length: 3507, dtype: float64"
      ]
     },
     "metadata": {},
     "output_type": "display_data"
    },
    {
     "name": "stdout",
     "output_type": "stream",
     "text": [
      "Short: 60; Long 110\n"
     ]
    },
    {
     "data": {
      "text/plain": [
       "date\n",
       "2016-02-29 11:30:00    1.012612\n",
       "2016-02-29 12:15:00    1.011561\n",
       "2016-02-29 15:45:00    1.018392\n",
       "2016-03-01 10:00:00    0.996554\n",
       "2016-03-01 15:30:00    1.000636\n",
       "                         ...   \n",
       "2021-01-22 09:30:00    0.868111\n",
       "2021-01-22 11:30:00    0.866023\n",
       "2021-01-22 13:45:00    0.867841\n",
       "2021-01-22 14:30:00    0.869140\n",
       "2021-01-22 15:45:00    0.868360\n",
       "Name: Strategy Returns, Length: 3507, dtype: float64"
      ]
     },
     "metadata": {},
     "output_type": "display_data"
    },
    {
     "name": "stdout",
     "output_type": "stream",
     "text": [
      "Short: 60; Long 120\n"
     ]
    },
    {
     "data": {
      "text/plain": [
       "date\n",
       "2016-02-29 11:30:00    1.012612\n",
       "2016-02-29 12:15:00    1.011561\n",
       "2016-02-29 15:45:00    1.018392\n",
       "2016-03-01 10:00:00    0.996554\n",
       "2016-03-01 15:30:00    1.000636\n",
       "                         ...   \n",
       "2021-01-22 09:30:00    0.868111\n",
       "2021-01-22 11:30:00    0.866023\n",
       "2021-01-22 13:45:00    0.867841\n",
       "2021-01-22 14:30:00    0.869140\n",
       "2021-01-22 15:45:00    0.868360\n",
       "Name: Strategy Returns, Length: 3507, dtype: float64"
      ]
     },
     "metadata": {},
     "output_type": "display_data"
    },
    {
     "name": "stdout",
     "output_type": "stream",
     "text": [
      "Short: 60; Long 130\n"
     ]
    },
    {
     "data": {
      "text/plain": [
       "date\n",
       "2016-02-29 11:30:00    1.012612\n",
       "2016-02-29 12:15:00    1.011561\n",
       "2016-02-29 15:45:00    1.018392\n",
       "2016-03-01 10:00:00    0.996554\n",
       "2016-03-01 15:30:00    1.000636\n",
       "                         ...   \n",
       "2021-01-22 09:30:00    0.868111\n",
       "2021-01-22 11:30:00    0.866023\n",
       "2021-01-22 13:45:00    0.867841\n",
       "2021-01-22 14:30:00    0.869140\n",
       "2021-01-22 15:45:00    0.868360\n",
       "Name: Strategy Returns, Length: 3507, dtype: float64"
      ]
     },
     "metadata": {},
     "output_type": "display_data"
    },
    {
     "name": "stdout",
     "output_type": "stream",
     "text": [
      "Short: 60; Long 140\n"
     ]
    },
    {
     "data": {
      "text/plain": [
       "date\n",
       "2016-02-29 11:30:00    1.012612\n",
       "2016-02-29 12:15:00    1.011561\n",
       "2016-02-29 15:45:00    1.018392\n",
       "2016-03-01 10:00:00    0.996554\n",
       "2016-03-01 15:30:00    1.000636\n",
       "                         ...   \n",
       "2021-01-22 09:30:00    0.868111\n",
       "2021-01-22 11:30:00    0.866023\n",
       "2021-01-22 13:45:00    0.867841\n",
       "2021-01-22 14:30:00    0.869140\n",
       "2021-01-22 15:45:00    0.868360\n",
       "Name: Strategy Returns, Length: 3507, dtype: float64"
      ]
     },
     "metadata": {},
     "output_type": "display_data"
    },
    {
     "name": "stdout",
     "output_type": "stream",
     "text": [
      "Short: 60; Long 150\n"
     ]
    },
    {
     "data": {
      "text/plain": [
       "date\n",
       "2016-02-29 11:30:00    1.012612\n",
       "2016-02-29 12:15:00    1.011561\n",
       "2016-02-29 15:45:00    1.018392\n",
       "2016-03-01 10:00:00    0.996554\n",
       "2016-03-01 15:30:00    1.000636\n",
       "                         ...   \n",
       "2021-01-22 09:30:00    0.868111\n",
       "2021-01-22 11:30:00    0.866023\n",
       "2021-01-22 13:45:00    0.867841\n",
       "2021-01-22 14:30:00    0.869140\n",
       "2021-01-22 15:45:00    0.868360\n",
       "Name: Strategy Returns, Length: 3507, dtype: float64"
      ]
     },
     "metadata": {},
     "output_type": "display_data"
    },
    {
     "name": "stdout",
     "output_type": "stream",
     "text": [
      "Short: 60; Long 160\n"
     ]
    },
    {
     "data": {
      "text/plain": [
       "date\n",
       "2016-02-29 11:30:00    1.012612\n",
       "2016-02-29 12:15:00    1.011561\n",
       "2016-02-29 15:45:00    1.018392\n",
       "2016-03-01 10:00:00    0.996554\n",
       "2016-03-01 15:30:00    1.000636\n",
       "                         ...   \n",
       "2021-01-22 09:30:00    0.868111\n",
       "2021-01-22 11:30:00    0.866023\n",
       "2021-01-22 13:45:00    0.867841\n",
       "2021-01-22 14:30:00    0.869140\n",
       "2021-01-22 15:45:00    0.868360\n",
       "Name: Strategy Returns, Length: 3507, dtype: float64"
      ]
     },
     "metadata": {},
     "output_type": "display_data"
    },
    {
     "name": "stdout",
     "output_type": "stream",
     "text": [
      "Short: 60; Long 170\n"
     ]
    },
    {
     "data": {
      "text/plain": [
       "date\n",
       "2016-02-29 11:30:00    1.012612\n",
       "2016-02-29 12:15:00    1.011561\n",
       "2016-02-29 15:45:00    1.018392\n",
       "2016-03-01 10:00:00    0.996554\n",
       "2016-03-01 15:30:00    1.000636\n",
       "                         ...   \n",
       "2021-01-22 09:30:00    0.868111\n",
       "2021-01-22 11:30:00    0.866023\n",
       "2021-01-22 13:45:00    0.867841\n",
       "2021-01-22 14:30:00    0.869140\n",
       "2021-01-22 15:45:00    0.868360\n",
       "Name: Strategy Returns, Length: 3507, dtype: float64"
      ]
     },
     "metadata": {},
     "output_type": "display_data"
    },
    {
     "name": "stdout",
     "output_type": "stream",
     "text": [
      "Short: 60; Long 180\n"
     ]
    },
    {
     "data": {
      "text/plain": [
       "date\n",
       "2016-02-29 11:30:00    1.012612\n",
       "2016-02-29 12:15:00    1.011561\n",
       "2016-02-29 15:45:00    1.018392\n",
       "2016-03-01 10:00:00    0.996554\n",
       "2016-03-01 15:30:00    1.000636\n",
       "                         ...   \n",
       "2021-01-22 09:30:00    0.868111\n",
       "2021-01-22 11:30:00    0.866023\n",
       "2021-01-22 13:45:00    0.867841\n",
       "2021-01-22 14:30:00    0.869140\n",
       "2021-01-22 15:45:00    0.868360\n",
       "Name: Strategy Returns, Length: 3507, dtype: float64"
      ]
     },
     "metadata": {},
     "output_type": "display_data"
    },
    {
     "name": "stdout",
     "output_type": "stream",
     "text": [
      "Short: 60; Long 190\n"
     ]
    },
    {
     "data": {
      "text/plain": [
       "date\n",
       "2016-02-29 11:30:00    1.012612\n",
       "2016-02-29 12:15:00    1.011561\n",
       "2016-02-29 15:45:00    1.018392\n",
       "2016-03-01 10:00:00    0.996554\n",
       "2016-03-01 15:30:00    1.000636\n",
       "                         ...   \n",
       "2021-01-22 09:30:00    0.868111\n",
       "2021-01-22 11:30:00    0.866023\n",
       "2021-01-22 13:45:00    0.867841\n",
       "2021-01-22 14:30:00    0.869140\n",
       "2021-01-22 15:45:00    0.868360\n",
       "Name: Strategy Returns, Length: 3507, dtype: float64"
      ]
     },
     "metadata": {},
     "output_type": "display_data"
    },
    {
     "name": "stdout",
     "output_type": "stream",
     "text": [
      "Short: 60; Long 200\n"
     ]
    },
    {
     "data": {
      "text/plain": [
       "date\n",
       "2016-02-29 11:30:00    1.012612\n",
       "2016-02-29 12:15:00    1.011561\n",
       "2016-02-29 15:45:00    1.018392\n",
       "2016-03-01 10:00:00    0.996554\n",
       "2016-03-01 15:30:00    1.000636\n",
       "                         ...   \n",
       "2021-01-22 09:30:00    0.868111\n",
       "2021-01-22 11:30:00    0.866023\n",
       "2021-01-22 13:45:00    0.867841\n",
       "2021-01-22 14:30:00    0.869140\n",
       "2021-01-22 15:45:00    0.868360\n",
       "Name: Strategy Returns, Length: 3507, dtype: float64"
      ]
     },
     "metadata": {},
     "output_type": "display_data"
    },
    {
     "name": "stdout",
     "output_type": "stream",
     "text": [
      "Short: 60; Long 210\n"
     ]
    },
    {
     "data": {
      "text/plain": [
       "date\n",
       "2016-02-29 11:30:00    1.012612\n",
       "2016-02-29 12:15:00    1.011561\n",
       "2016-02-29 15:45:00    1.018392\n",
       "2016-03-01 10:00:00    0.996554\n",
       "2016-03-01 15:30:00    1.000636\n",
       "                         ...   \n",
       "2021-01-22 09:30:00    0.868111\n",
       "2021-01-22 11:30:00    0.866023\n",
       "2021-01-22 13:45:00    0.867841\n",
       "2021-01-22 14:30:00    0.869140\n",
       "2021-01-22 15:45:00    0.868360\n",
       "Name: Strategy Returns, Length: 3507, dtype: float64"
      ]
     },
     "metadata": {},
     "output_type": "display_data"
    },
    {
     "name": "stdout",
     "output_type": "stream",
     "text": [
      "Short: 60; Long 220\n"
     ]
    },
    {
     "data": {
      "text/plain": [
       "date\n",
       "2016-02-29 11:30:00    1.012612\n",
       "2016-02-29 12:15:00    1.011561\n",
       "2016-02-29 15:45:00    1.018392\n",
       "2016-03-01 10:00:00    0.996554\n",
       "2016-03-01 15:30:00    1.000636\n",
       "                         ...   \n",
       "2021-01-22 09:30:00    0.868111\n",
       "2021-01-22 11:30:00    0.866023\n",
       "2021-01-22 13:45:00    0.867841\n",
       "2021-01-22 14:30:00    0.869140\n",
       "2021-01-22 15:45:00    0.868360\n",
       "Name: Strategy Returns, Length: 3507, dtype: float64"
      ]
     },
     "metadata": {},
     "output_type": "display_data"
    },
    {
     "name": "stdout",
     "output_type": "stream",
     "text": [
      "Short: 60; Long 230\n"
     ]
    },
    {
     "data": {
      "text/plain": [
       "date\n",
       "2016-02-29 11:30:00    1.012612\n",
       "2016-02-29 12:15:00    1.011561\n",
       "2016-02-29 15:45:00    1.018392\n",
       "2016-03-01 10:00:00    0.996554\n",
       "2016-03-01 15:30:00    1.000636\n",
       "                         ...   \n",
       "2021-01-22 09:30:00    0.868111\n",
       "2021-01-22 11:30:00    0.866023\n",
       "2021-01-22 13:45:00    0.867841\n",
       "2021-01-22 14:30:00    0.869140\n",
       "2021-01-22 15:45:00    0.868360\n",
       "Name: Strategy Returns, Length: 3507, dtype: float64"
      ]
     },
     "metadata": {},
     "output_type": "display_data"
    },
    {
     "name": "stdout",
     "output_type": "stream",
     "text": [
      "Short: 60; Long 240\n"
     ]
    },
    {
     "data": {
      "text/plain": [
       "date\n",
       "2016-02-29 11:30:00    1.012612\n",
       "2016-02-29 12:15:00    1.011561\n",
       "2016-02-29 15:45:00    1.018392\n",
       "2016-03-01 10:00:00    0.996554\n",
       "2016-03-01 15:30:00    1.000636\n",
       "                         ...   \n",
       "2021-01-22 09:30:00    0.868111\n",
       "2021-01-22 11:30:00    0.866023\n",
       "2021-01-22 13:45:00    0.867841\n",
       "2021-01-22 14:30:00    0.869140\n",
       "2021-01-22 15:45:00    0.868360\n",
       "Name: Strategy Returns, Length: 3507, dtype: float64"
      ]
     },
     "metadata": {},
     "output_type": "display_data"
    },
    {
     "name": "stdout",
     "output_type": "stream",
     "text": [
      "Short: 60; Long 250\n"
     ]
    },
    {
     "data": {
      "text/plain": [
       "date\n",
       "2016-02-29 11:30:00    1.012612\n",
       "2016-02-29 12:15:00    1.011561\n",
       "2016-02-29 15:45:00    1.018392\n",
       "2016-03-01 10:00:00    0.996554\n",
       "2016-03-01 15:30:00    1.000636\n",
       "                         ...   \n",
       "2021-01-22 09:30:00    0.868111\n",
       "2021-01-22 11:30:00    0.866023\n",
       "2021-01-22 13:45:00    0.867841\n",
       "2021-01-22 14:30:00    0.869140\n",
       "2021-01-22 15:45:00    0.868360\n",
       "Name: Strategy Returns, Length: 3507, dtype: float64"
      ]
     },
     "metadata": {},
     "output_type": "display_data"
    },
    {
     "name": "stdout",
     "output_type": "stream",
     "text": [
      "Short: 60; Long 260\n"
     ]
    },
    {
     "data": {
      "text/plain": [
       "date\n",
       "2016-02-29 11:30:00    1.012612\n",
       "2016-02-29 12:15:00    1.011561\n",
       "2016-02-29 15:45:00    1.018392\n",
       "2016-03-01 10:00:00    0.996554\n",
       "2016-03-01 15:30:00    1.000636\n",
       "                         ...   \n",
       "2021-01-22 09:30:00    0.868111\n",
       "2021-01-22 11:30:00    0.866023\n",
       "2021-01-22 13:45:00    0.867841\n",
       "2021-01-22 14:30:00    0.869140\n",
       "2021-01-22 15:45:00    0.868360\n",
       "Name: Strategy Returns, Length: 3507, dtype: float64"
      ]
     },
     "metadata": {},
     "output_type": "display_data"
    },
    {
     "name": "stdout",
     "output_type": "stream",
     "text": [
      "Short: 65; Long 115\n"
     ]
    },
    {
     "data": {
      "text/plain": [
       "date\n",
       "2016-02-29 11:30:00    1.012612\n",
       "2016-02-29 12:15:00    1.011561\n",
       "2016-02-29 15:45:00    1.018392\n",
       "2016-03-01 10:00:00    0.996554\n",
       "2016-03-01 15:30:00    1.000636\n",
       "                         ...   \n",
       "2021-01-22 09:30:00    0.868111\n",
       "2021-01-22 11:30:00    0.866023\n",
       "2021-01-22 13:45:00    0.867841\n",
       "2021-01-22 14:30:00    0.869140\n",
       "2021-01-22 15:45:00    0.868360\n",
       "Name: Strategy Returns, Length: 3507, dtype: float64"
      ]
     },
     "metadata": {},
     "output_type": "display_data"
    },
    {
     "name": "stdout",
     "output_type": "stream",
     "text": [
      "Short: 65; Long 125\n"
     ]
    },
    {
     "data": {
      "text/plain": [
       "date\n",
       "2016-02-29 11:30:00    1.012612\n",
       "2016-02-29 12:15:00    1.011561\n",
       "2016-02-29 15:45:00    1.018392\n",
       "2016-03-01 10:00:00    0.996554\n",
       "2016-03-01 15:30:00    1.000636\n",
       "                         ...   \n",
       "2021-01-22 09:30:00    0.868111\n",
       "2021-01-22 11:30:00    0.866023\n",
       "2021-01-22 13:45:00    0.867841\n",
       "2021-01-22 14:30:00    0.869140\n",
       "2021-01-22 15:45:00    0.868360\n",
       "Name: Strategy Returns, Length: 3507, dtype: float64"
      ]
     },
     "metadata": {},
     "output_type": "display_data"
    },
    {
     "name": "stdout",
     "output_type": "stream",
     "text": [
      "Short: 65; Long 135\n"
     ]
    },
    {
     "data": {
      "text/plain": [
       "date\n",
       "2016-02-29 11:30:00    1.012612\n",
       "2016-02-29 12:15:00    1.011561\n",
       "2016-02-29 15:45:00    1.018392\n",
       "2016-03-01 10:00:00    0.996554\n",
       "2016-03-01 15:30:00    1.000636\n",
       "                         ...   \n",
       "2021-01-22 09:30:00    0.868111\n",
       "2021-01-22 11:30:00    0.866023\n",
       "2021-01-22 13:45:00    0.867841\n",
       "2021-01-22 14:30:00    0.869140\n",
       "2021-01-22 15:45:00    0.868360\n",
       "Name: Strategy Returns, Length: 3507, dtype: float64"
      ]
     },
     "metadata": {},
     "output_type": "display_data"
    },
    {
     "name": "stdout",
     "output_type": "stream",
     "text": [
      "Short: 65; Long 145\n"
     ]
    },
    {
     "data": {
      "text/plain": [
       "date\n",
       "2016-02-29 11:30:00    1.012612\n",
       "2016-02-29 12:15:00    1.011561\n",
       "2016-02-29 15:45:00    1.018392\n",
       "2016-03-01 10:00:00    0.996554\n",
       "2016-03-01 15:30:00    1.000636\n",
       "                         ...   \n",
       "2021-01-22 09:30:00    0.868111\n",
       "2021-01-22 11:30:00    0.866023\n",
       "2021-01-22 13:45:00    0.867841\n",
       "2021-01-22 14:30:00    0.869140\n",
       "2021-01-22 15:45:00    0.868360\n",
       "Name: Strategy Returns, Length: 3507, dtype: float64"
      ]
     },
     "metadata": {},
     "output_type": "display_data"
    },
    {
     "name": "stdout",
     "output_type": "stream",
     "text": [
      "Short: 65; Long 155\n"
     ]
    },
    {
     "data": {
      "text/plain": [
       "date\n",
       "2016-02-29 11:30:00    1.012612\n",
       "2016-02-29 12:15:00    1.011561\n",
       "2016-02-29 15:45:00    1.018392\n",
       "2016-03-01 10:00:00    0.996554\n",
       "2016-03-01 15:30:00    1.000636\n",
       "                         ...   \n",
       "2021-01-22 09:30:00    0.868111\n",
       "2021-01-22 11:30:00    0.866023\n",
       "2021-01-22 13:45:00    0.867841\n",
       "2021-01-22 14:30:00    0.869140\n",
       "2021-01-22 15:45:00    0.868360\n",
       "Name: Strategy Returns, Length: 3507, dtype: float64"
      ]
     },
     "metadata": {},
     "output_type": "display_data"
    },
    {
     "name": "stdout",
     "output_type": "stream",
     "text": [
      "Short: 65; Long 165\n"
     ]
    },
    {
     "data": {
      "text/plain": [
       "date\n",
       "2016-02-29 11:30:00    1.012612\n",
       "2016-02-29 12:15:00    1.011561\n",
       "2016-02-29 15:45:00    1.018392\n",
       "2016-03-01 10:00:00    0.996554\n",
       "2016-03-01 15:30:00    1.000636\n",
       "                         ...   \n",
       "2021-01-22 09:30:00    0.868111\n",
       "2021-01-22 11:30:00    0.866023\n",
       "2021-01-22 13:45:00    0.867841\n",
       "2021-01-22 14:30:00    0.869140\n",
       "2021-01-22 15:45:00    0.868360\n",
       "Name: Strategy Returns, Length: 3507, dtype: float64"
      ]
     },
     "metadata": {},
     "output_type": "display_data"
    },
    {
     "name": "stdout",
     "output_type": "stream",
     "text": [
      "Short: 65; Long 175\n"
     ]
    },
    {
     "data": {
      "text/plain": [
       "date\n",
       "2016-02-29 11:30:00    1.012612\n",
       "2016-02-29 12:15:00    1.011561\n",
       "2016-02-29 15:45:00    1.018392\n",
       "2016-03-01 10:00:00    0.996554\n",
       "2016-03-01 15:30:00    1.000636\n",
       "                         ...   \n",
       "2021-01-22 09:30:00    0.868111\n",
       "2021-01-22 11:30:00    0.866023\n",
       "2021-01-22 13:45:00    0.867841\n",
       "2021-01-22 14:30:00    0.869140\n",
       "2021-01-22 15:45:00    0.868360\n",
       "Name: Strategy Returns, Length: 3507, dtype: float64"
      ]
     },
     "metadata": {},
     "output_type": "display_data"
    },
    {
     "name": "stdout",
     "output_type": "stream",
     "text": [
      "Short: 65; Long 185\n"
     ]
    },
    {
     "data": {
      "text/plain": [
       "date\n",
       "2016-02-29 11:30:00    1.012612\n",
       "2016-02-29 12:15:00    1.011561\n",
       "2016-02-29 15:45:00    1.018392\n",
       "2016-03-01 10:00:00    0.996554\n",
       "2016-03-01 15:30:00    1.000636\n",
       "                         ...   \n",
       "2021-01-22 09:30:00    0.868111\n",
       "2021-01-22 11:30:00    0.866023\n",
       "2021-01-22 13:45:00    0.867841\n",
       "2021-01-22 14:30:00    0.869140\n",
       "2021-01-22 15:45:00    0.868360\n",
       "Name: Strategy Returns, Length: 3507, dtype: float64"
      ]
     },
     "metadata": {},
     "output_type": "display_data"
    },
    {
     "name": "stdout",
     "output_type": "stream",
     "text": [
      "Short: 65; Long 195\n"
     ]
    },
    {
     "data": {
      "text/plain": [
       "date\n",
       "2016-02-29 11:30:00    1.012612\n",
       "2016-02-29 12:15:00    1.011561\n",
       "2016-02-29 15:45:00    1.018392\n",
       "2016-03-01 10:00:00    0.996554\n",
       "2016-03-01 15:30:00    1.000636\n",
       "                         ...   \n",
       "2021-01-22 09:30:00    0.868111\n",
       "2021-01-22 11:30:00    0.866023\n",
       "2021-01-22 13:45:00    0.867841\n",
       "2021-01-22 14:30:00    0.869140\n",
       "2021-01-22 15:45:00    0.868360\n",
       "Name: Strategy Returns, Length: 3507, dtype: float64"
      ]
     },
     "metadata": {},
     "output_type": "display_data"
    },
    {
     "name": "stdout",
     "output_type": "stream",
     "text": [
      "Short: 65; Long 205\n"
     ]
    },
    {
     "data": {
      "text/plain": [
       "date\n",
       "2016-02-29 11:30:00    1.012612\n",
       "2016-02-29 12:15:00    1.011561\n",
       "2016-02-29 15:45:00    1.018392\n",
       "2016-03-01 10:00:00    0.996554\n",
       "2016-03-01 15:30:00    1.000636\n",
       "                         ...   \n",
       "2021-01-22 09:30:00    0.868111\n",
       "2021-01-22 11:30:00    0.866023\n",
       "2021-01-22 13:45:00    0.867841\n",
       "2021-01-22 14:30:00    0.869140\n",
       "2021-01-22 15:45:00    0.868360\n",
       "Name: Strategy Returns, Length: 3507, dtype: float64"
      ]
     },
     "metadata": {},
     "output_type": "display_data"
    },
    {
     "name": "stdout",
     "output_type": "stream",
     "text": [
      "Short: 65; Long 215\n"
     ]
    },
    {
     "data": {
      "text/plain": [
       "date\n",
       "2016-02-29 11:30:00    1.012612\n",
       "2016-02-29 12:15:00    1.011561\n",
       "2016-02-29 15:45:00    1.018392\n",
       "2016-03-01 10:00:00    0.996554\n",
       "2016-03-01 15:30:00    1.000636\n",
       "                         ...   \n",
       "2021-01-22 09:30:00    0.868111\n",
       "2021-01-22 11:30:00    0.866023\n",
       "2021-01-22 13:45:00    0.867841\n",
       "2021-01-22 14:30:00    0.869140\n",
       "2021-01-22 15:45:00    0.868360\n",
       "Name: Strategy Returns, Length: 3507, dtype: float64"
      ]
     },
     "metadata": {},
     "output_type": "display_data"
    },
    {
     "name": "stdout",
     "output_type": "stream",
     "text": [
      "Short: 65; Long 225\n"
     ]
    },
    {
     "data": {
      "text/plain": [
       "date\n",
       "2016-02-29 11:30:00    1.012612\n",
       "2016-02-29 12:15:00    1.011561\n",
       "2016-02-29 15:45:00    1.018392\n",
       "2016-03-01 10:00:00    0.996554\n",
       "2016-03-01 15:30:00    1.000636\n",
       "                         ...   \n",
       "2021-01-22 09:30:00    0.868111\n",
       "2021-01-22 11:30:00    0.866023\n",
       "2021-01-22 13:45:00    0.867841\n",
       "2021-01-22 14:30:00    0.869140\n",
       "2021-01-22 15:45:00    0.868360\n",
       "Name: Strategy Returns, Length: 3507, dtype: float64"
      ]
     },
     "metadata": {},
     "output_type": "display_data"
    },
    {
     "name": "stdout",
     "output_type": "stream",
     "text": [
      "Short: 65; Long 235\n"
     ]
    },
    {
     "data": {
      "text/plain": [
       "date\n",
       "2016-02-29 11:30:00    1.012612\n",
       "2016-02-29 12:15:00    1.011561\n",
       "2016-02-29 15:45:00    1.018392\n",
       "2016-03-01 10:00:00    0.996554\n",
       "2016-03-01 15:30:00    1.000636\n",
       "                         ...   \n",
       "2021-01-22 09:30:00    0.868111\n",
       "2021-01-22 11:30:00    0.866023\n",
       "2021-01-22 13:45:00    0.867841\n",
       "2021-01-22 14:30:00    0.869140\n",
       "2021-01-22 15:45:00    0.868360\n",
       "Name: Strategy Returns, Length: 3507, dtype: float64"
      ]
     },
     "metadata": {},
     "output_type": "display_data"
    },
    {
     "name": "stdout",
     "output_type": "stream",
     "text": [
      "Short: 65; Long 245\n"
     ]
    },
    {
     "data": {
      "text/plain": [
       "date\n",
       "2016-02-29 11:30:00    1.012612\n",
       "2016-02-29 12:15:00    1.011561\n",
       "2016-02-29 15:45:00    1.018392\n",
       "2016-03-01 10:00:00    0.996554\n",
       "2016-03-01 15:30:00    1.000636\n",
       "                         ...   \n",
       "2021-01-22 09:30:00    0.868111\n",
       "2021-01-22 11:30:00    0.866023\n",
       "2021-01-22 13:45:00    0.867841\n",
       "2021-01-22 14:30:00    0.869140\n",
       "2021-01-22 15:45:00    0.868360\n",
       "Name: Strategy Returns, Length: 3507, dtype: float64"
      ]
     },
     "metadata": {},
     "output_type": "display_data"
    },
    {
     "name": "stdout",
     "output_type": "stream",
     "text": [
      "Short: 65; Long 255\n"
     ]
    },
    {
     "data": {
      "text/plain": [
       "date\n",
       "2016-02-29 11:30:00    1.012612\n",
       "2016-02-29 12:15:00    1.011561\n",
       "2016-02-29 15:45:00    1.018392\n",
       "2016-03-01 10:00:00    0.996554\n",
       "2016-03-01 15:30:00    1.000636\n",
       "                         ...   \n",
       "2021-01-22 09:30:00    0.868111\n",
       "2021-01-22 11:30:00    0.866023\n",
       "2021-01-22 13:45:00    0.867841\n",
       "2021-01-22 14:30:00    0.869140\n",
       "2021-01-22 15:45:00    0.868360\n",
       "Name: Strategy Returns, Length: 3507, dtype: float64"
      ]
     },
     "metadata": {},
     "output_type": "display_data"
    },
    {
     "name": "stdout",
     "output_type": "stream",
     "text": [
      "Short: 70; Long 120\n"
     ]
    },
    {
     "data": {
      "text/plain": [
       "date\n",
       "2016-02-29 11:30:00    1.012612\n",
       "2016-02-29 12:15:00    1.011561\n",
       "2016-02-29 15:45:00    1.018392\n",
       "2016-03-01 10:00:00    0.996554\n",
       "2016-03-01 15:30:00    1.000636\n",
       "                         ...   \n",
       "2021-01-22 09:30:00    0.868111\n",
       "2021-01-22 11:30:00    0.866023\n",
       "2021-01-22 13:45:00    0.867841\n",
       "2021-01-22 14:30:00    0.869140\n",
       "2021-01-22 15:45:00    0.868360\n",
       "Name: Strategy Returns, Length: 3507, dtype: float64"
      ]
     },
     "metadata": {},
     "output_type": "display_data"
    },
    {
     "name": "stdout",
     "output_type": "stream",
     "text": [
      "Short: 70; Long 130\n"
     ]
    },
    {
     "data": {
      "text/plain": [
       "date\n",
       "2016-02-29 11:30:00    1.012612\n",
       "2016-02-29 12:15:00    1.011561\n",
       "2016-02-29 15:45:00    1.018392\n",
       "2016-03-01 10:00:00    0.996554\n",
       "2016-03-01 15:30:00    1.000636\n",
       "                         ...   \n",
       "2021-01-22 09:30:00    0.868111\n",
       "2021-01-22 11:30:00    0.866023\n",
       "2021-01-22 13:45:00    0.867841\n",
       "2021-01-22 14:30:00    0.869140\n",
       "2021-01-22 15:45:00    0.868360\n",
       "Name: Strategy Returns, Length: 3507, dtype: float64"
      ]
     },
     "metadata": {},
     "output_type": "display_data"
    },
    {
     "name": "stdout",
     "output_type": "stream",
     "text": [
      "Short: 70; Long 140\n"
     ]
    },
    {
     "data": {
      "text/plain": [
       "date\n",
       "2016-02-29 11:30:00    1.012612\n",
       "2016-02-29 12:15:00    1.011561\n",
       "2016-02-29 15:45:00    1.018392\n",
       "2016-03-01 10:00:00    0.996554\n",
       "2016-03-01 15:30:00    1.000636\n",
       "                         ...   \n",
       "2021-01-22 09:30:00    0.868111\n",
       "2021-01-22 11:30:00    0.866023\n",
       "2021-01-22 13:45:00    0.867841\n",
       "2021-01-22 14:30:00    0.869140\n",
       "2021-01-22 15:45:00    0.868360\n",
       "Name: Strategy Returns, Length: 3507, dtype: float64"
      ]
     },
     "metadata": {},
     "output_type": "display_data"
    },
    {
     "name": "stdout",
     "output_type": "stream",
     "text": [
      "Short: 70; Long 150\n"
     ]
    },
    {
     "data": {
      "text/plain": [
       "date\n",
       "2016-02-29 11:30:00    1.012612\n",
       "2016-02-29 12:15:00    1.011561\n",
       "2016-02-29 15:45:00    1.018392\n",
       "2016-03-01 10:00:00    0.996554\n",
       "2016-03-01 15:30:00    1.000636\n",
       "                         ...   \n",
       "2021-01-22 09:30:00    0.868111\n",
       "2021-01-22 11:30:00    0.866023\n",
       "2021-01-22 13:45:00    0.867841\n",
       "2021-01-22 14:30:00    0.869140\n",
       "2021-01-22 15:45:00    0.868360\n",
       "Name: Strategy Returns, Length: 3507, dtype: float64"
      ]
     },
     "metadata": {},
     "output_type": "display_data"
    },
    {
     "name": "stdout",
     "output_type": "stream",
     "text": [
      "Short: 70; Long 160\n"
     ]
    },
    {
     "data": {
      "text/plain": [
       "date\n",
       "2016-02-29 11:30:00    1.012612\n",
       "2016-02-29 12:15:00    1.011561\n",
       "2016-02-29 15:45:00    1.018392\n",
       "2016-03-01 10:00:00    0.996554\n",
       "2016-03-01 15:30:00    1.000636\n",
       "                         ...   \n",
       "2021-01-22 09:30:00    0.868111\n",
       "2021-01-22 11:30:00    0.866023\n",
       "2021-01-22 13:45:00    0.867841\n",
       "2021-01-22 14:30:00    0.869140\n",
       "2021-01-22 15:45:00    0.868360\n",
       "Name: Strategy Returns, Length: 3507, dtype: float64"
      ]
     },
     "metadata": {},
     "output_type": "display_data"
    },
    {
     "name": "stdout",
     "output_type": "stream",
     "text": [
      "Short: 70; Long 170\n"
     ]
    },
    {
     "data": {
      "text/plain": [
       "date\n",
       "2016-02-29 11:30:00    1.012612\n",
       "2016-02-29 12:15:00    1.011561\n",
       "2016-02-29 15:45:00    1.018392\n",
       "2016-03-01 10:00:00    0.996554\n",
       "2016-03-01 15:30:00    1.000636\n",
       "                         ...   \n",
       "2021-01-22 09:30:00    0.868111\n",
       "2021-01-22 11:30:00    0.866023\n",
       "2021-01-22 13:45:00    0.867841\n",
       "2021-01-22 14:30:00    0.869140\n",
       "2021-01-22 15:45:00    0.868360\n",
       "Name: Strategy Returns, Length: 3507, dtype: float64"
      ]
     },
     "metadata": {},
     "output_type": "display_data"
    },
    {
     "name": "stdout",
     "output_type": "stream",
     "text": [
      "Short: 70; Long 180\n"
     ]
    },
    {
     "data": {
      "text/plain": [
       "date\n",
       "2016-02-29 11:30:00    1.012612\n",
       "2016-02-29 12:15:00    1.011561\n",
       "2016-02-29 15:45:00    1.018392\n",
       "2016-03-01 10:00:00    0.996554\n",
       "2016-03-01 15:30:00    1.000636\n",
       "                         ...   \n",
       "2021-01-22 09:30:00    0.868111\n",
       "2021-01-22 11:30:00    0.866023\n",
       "2021-01-22 13:45:00    0.867841\n",
       "2021-01-22 14:30:00    0.869140\n",
       "2021-01-22 15:45:00    0.868360\n",
       "Name: Strategy Returns, Length: 3507, dtype: float64"
      ]
     },
     "metadata": {},
     "output_type": "display_data"
    },
    {
     "name": "stdout",
     "output_type": "stream",
     "text": [
      "Short: 70; Long 190\n"
     ]
    },
    {
     "data": {
      "text/plain": [
       "date\n",
       "2016-02-29 11:30:00    1.012612\n",
       "2016-02-29 12:15:00    1.011561\n",
       "2016-02-29 15:45:00    1.018392\n",
       "2016-03-01 10:00:00    0.996554\n",
       "2016-03-01 15:30:00    1.000636\n",
       "                         ...   \n",
       "2021-01-22 09:30:00    0.868111\n",
       "2021-01-22 11:30:00    0.866023\n",
       "2021-01-22 13:45:00    0.867841\n",
       "2021-01-22 14:30:00    0.869140\n",
       "2021-01-22 15:45:00    0.868360\n",
       "Name: Strategy Returns, Length: 3507, dtype: float64"
      ]
     },
     "metadata": {},
     "output_type": "display_data"
    },
    {
     "name": "stdout",
     "output_type": "stream",
     "text": [
      "Short: 70; Long 200\n"
     ]
    },
    {
     "data": {
      "text/plain": [
       "date\n",
       "2016-02-29 11:30:00    1.012612\n",
       "2016-02-29 12:15:00    1.011561\n",
       "2016-02-29 15:45:00    1.018392\n",
       "2016-03-01 10:00:00    0.996554\n",
       "2016-03-01 15:30:00    1.000636\n",
       "                         ...   \n",
       "2021-01-22 09:30:00    0.868111\n",
       "2021-01-22 11:30:00    0.866023\n",
       "2021-01-22 13:45:00    0.867841\n",
       "2021-01-22 14:30:00    0.869140\n",
       "2021-01-22 15:45:00    0.868360\n",
       "Name: Strategy Returns, Length: 3507, dtype: float64"
      ]
     },
     "metadata": {},
     "output_type": "display_data"
    },
    {
     "name": "stdout",
     "output_type": "stream",
     "text": [
      "Short: 70; Long 210\n"
     ]
    },
    {
     "data": {
      "text/plain": [
       "date\n",
       "2016-02-29 11:30:00    1.012612\n",
       "2016-02-29 12:15:00    1.011561\n",
       "2016-02-29 15:45:00    1.018392\n",
       "2016-03-01 10:00:00    0.996554\n",
       "2016-03-01 15:30:00    1.000636\n",
       "                         ...   \n",
       "2021-01-22 09:30:00    0.868111\n",
       "2021-01-22 11:30:00    0.866023\n",
       "2021-01-22 13:45:00    0.867841\n",
       "2021-01-22 14:30:00    0.869140\n",
       "2021-01-22 15:45:00    0.868360\n",
       "Name: Strategy Returns, Length: 3507, dtype: float64"
      ]
     },
     "metadata": {},
     "output_type": "display_data"
    },
    {
     "name": "stdout",
     "output_type": "stream",
     "text": [
      "Short: 70; Long 220\n"
     ]
    },
    {
     "data": {
      "text/plain": [
       "date\n",
       "2016-02-29 11:30:00    1.012612\n",
       "2016-02-29 12:15:00    1.011561\n",
       "2016-02-29 15:45:00    1.018392\n",
       "2016-03-01 10:00:00    0.996554\n",
       "2016-03-01 15:30:00    1.000636\n",
       "                         ...   \n",
       "2021-01-22 09:30:00    0.868111\n",
       "2021-01-22 11:30:00    0.866023\n",
       "2021-01-22 13:45:00    0.867841\n",
       "2021-01-22 14:30:00    0.869140\n",
       "2021-01-22 15:45:00    0.868360\n",
       "Name: Strategy Returns, Length: 3507, dtype: float64"
      ]
     },
     "metadata": {},
     "output_type": "display_data"
    },
    {
     "name": "stdout",
     "output_type": "stream",
     "text": [
      "Short: 70; Long 230\n"
     ]
    },
    {
     "data": {
      "text/plain": [
       "date\n",
       "2016-02-29 11:30:00    1.012612\n",
       "2016-02-29 12:15:00    1.011561\n",
       "2016-02-29 15:45:00    1.018392\n",
       "2016-03-01 10:00:00    0.996554\n",
       "2016-03-01 15:30:00    1.000636\n",
       "                         ...   \n",
       "2021-01-22 09:30:00    0.868111\n",
       "2021-01-22 11:30:00    0.866023\n",
       "2021-01-22 13:45:00    0.867841\n",
       "2021-01-22 14:30:00    0.869140\n",
       "2021-01-22 15:45:00    0.868360\n",
       "Name: Strategy Returns, Length: 3507, dtype: float64"
      ]
     },
     "metadata": {},
     "output_type": "display_data"
    },
    {
     "name": "stdout",
     "output_type": "stream",
     "text": [
      "Short: 70; Long 240\n"
     ]
    },
    {
     "data": {
      "text/plain": [
       "date\n",
       "2016-02-29 11:30:00    1.012612\n",
       "2016-02-29 12:15:00    1.011561\n",
       "2016-02-29 15:45:00    1.018392\n",
       "2016-03-01 10:00:00    0.996554\n",
       "2016-03-01 15:30:00    1.000636\n",
       "                         ...   \n",
       "2021-01-22 09:30:00    0.868111\n",
       "2021-01-22 11:30:00    0.866023\n",
       "2021-01-22 13:45:00    0.867841\n",
       "2021-01-22 14:30:00    0.869140\n",
       "2021-01-22 15:45:00    0.868360\n",
       "Name: Strategy Returns, Length: 3507, dtype: float64"
      ]
     },
     "metadata": {},
     "output_type": "display_data"
    },
    {
     "name": "stdout",
     "output_type": "stream",
     "text": [
      "Short: 70; Long 250\n"
     ]
    },
    {
     "data": {
      "text/plain": [
       "date\n",
       "2016-02-29 11:30:00    1.012612\n",
       "2016-02-29 12:15:00    1.011561\n",
       "2016-02-29 15:45:00    1.018392\n",
       "2016-03-01 10:00:00    0.996554\n",
       "2016-03-01 15:30:00    1.000636\n",
       "                         ...   \n",
       "2021-01-22 09:30:00    0.868111\n",
       "2021-01-22 11:30:00    0.866023\n",
       "2021-01-22 13:45:00    0.867841\n",
       "2021-01-22 14:30:00    0.869140\n",
       "2021-01-22 15:45:00    0.868360\n",
       "Name: Strategy Returns, Length: 3507, dtype: float64"
      ]
     },
     "metadata": {},
     "output_type": "display_data"
    },
    {
     "name": "stdout",
     "output_type": "stream",
     "text": [
      "Short: 70; Long 260\n"
     ]
    },
    {
     "data": {
      "text/plain": [
       "date\n",
       "2016-02-29 11:30:00    1.012612\n",
       "2016-02-29 12:15:00    1.011561\n",
       "2016-02-29 15:45:00    1.018392\n",
       "2016-03-01 10:00:00    0.996554\n",
       "2016-03-01 15:30:00    1.000636\n",
       "                         ...   \n",
       "2021-01-22 09:30:00    0.868111\n",
       "2021-01-22 11:30:00    0.866023\n",
       "2021-01-22 13:45:00    0.867841\n",
       "2021-01-22 14:30:00    0.869140\n",
       "2021-01-22 15:45:00    0.868360\n",
       "Name: Strategy Returns, Length: 3507, dtype: float64"
      ]
     },
     "metadata": {},
     "output_type": "display_data"
    },
    {
     "name": "stdout",
     "output_type": "stream",
     "text": [
      "Short: 75; Long 125\n"
     ]
    },
    {
     "data": {
      "text/plain": [
       "date\n",
       "2016-02-29 11:30:00    1.012612\n",
       "2016-02-29 12:15:00    1.011561\n",
       "2016-02-29 15:45:00    1.018392\n",
       "2016-03-01 10:00:00    0.996554\n",
       "2016-03-01 15:30:00    1.000636\n",
       "                         ...   \n",
       "2021-01-22 09:30:00    0.868111\n",
       "2021-01-22 11:30:00    0.866023\n",
       "2021-01-22 13:45:00    0.867841\n",
       "2021-01-22 14:30:00    0.869140\n",
       "2021-01-22 15:45:00    0.868360\n",
       "Name: Strategy Returns, Length: 3507, dtype: float64"
      ]
     },
     "metadata": {},
     "output_type": "display_data"
    },
    {
     "name": "stdout",
     "output_type": "stream",
     "text": [
      "Short: 75; Long 135\n"
     ]
    },
    {
     "data": {
      "text/plain": [
       "date\n",
       "2016-02-29 11:30:00    1.012612\n",
       "2016-02-29 12:15:00    1.011561\n",
       "2016-02-29 15:45:00    1.018392\n",
       "2016-03-01 10:00:00    0.996554\n",
       "2016-03-01 15:30:00    1.000636\n",
       "                         ...   \n",
       "2021-01-22 09:30:00    0.868111\n",
       "2021-01-22 11:30:00    0.866023\n",
       "2021-01-22 13:45:00    0.867841\n",
       "2021-01-22 14:30:00    0.869140\n",
       "2021-01-22 15:45:00    0.868360\n",
       "Name: Strategy Returns, Length: 3507, dtype: float64"
      ]
     },
     "metadata": {},
     "output_type": "display_data"
    },
    {
     "name": "stdout",
     "output_type": "stream",
     "text": [
      "Short: 75; Long 145\n"
     ]
    },
    {
     "data": {
      "text/plain": [
       "date\n",
       "2016-02-29 11:30:00    1.012612\n",
       "2016-02-29 12:15:00    1.011561\n",
       "2016-02-29 15:45:00    1.018392\n",
       "2016-03-01 10:00:00    0.996554\n",
       "2016-03-01 15:30:00    1.000636\n",
       "                         ...   \n",
       "2021-01-22 09:30:00    0.868111\n",
       "2021-01-22 11:30:00    0.866023\n",
       "2021-01-22 13:45:00    0.867841\n",
       "2021-01-22 14:30:00    0.869140\n",
       "2021-01-22 15:45:00    0.868360\n",
       "Name: Strategy Returns, Length: 3507, dtype: float64"
      ]
     },
     "metadata": {},
     "output_type": "display_data"
    },
    {
     "name": "stdout",
     "output_type": "stream",
     "text": [
      "Short: 75; Long 155\n"
     ]
    },
    {
     "data": {
      "text/plain": [
       "date\n",
       "2016-02-29 11:30:00    1.012612\n",
       "2016-02-29 12:15:00    1.011561\n",
       "2016-02-29 15:45:00    1.018392\n",
       "2016-03-01 10:00:00    0.996554\n",
       "2016-03-01 15:30:00    1.000636\n",
       "                         ...   \n",
       "2021-01-22 09:30:00    0.868111\n",
       "2021-01-22 11:30:00    0.866023\n",
       "2021-01-22 13:45:00    0.867841\n",
       "2021-01-22 14:30:00    0.869140\n",
       "2021-01-22 15:45:00    0.868360\n",
       "Name: Strategy Returns, Length: 3507, dtype: float64"
      ]
     },
     "metadata": {},
     "output_type": "display_data"
    },
    {
     "name": "stdout",
     "output_type": "stream",
     "text": [
      "Short: 75; Long 165\n"
     ]
    },
    {
     "data": {
      "text/plain": [
       "date\n",
       "2016-02-29 11:30:00    1.012612\n",
       "2016-02-29 12:15:00    1.011561\n",
       "2016-02-29 15:45:00    1.018392\n",
       "2016-03-01 10:00:00    0.996554\n",
       "2016-03-01 15:30:00    1.000636\n",
       "                         ...   \n",
       "2021-01-22 09:30:00    0.868111\n",
       "2021-01-22 11:30:00    0.866023\n",
       "2021-01-22 13:45:00    0.867841\n",
       "2021-01-22 14:30:00    0.869140\n",
       "2021-01-22 15:45:00    0.868360\n",
       "Name: Strategy Returns, Length: 3507, dtype: float64"
      ]
     },
     "metadata": {},
     "output_type": "display_data"
    },
    {
     "name": "stdout",
     "output_type": "stream",
     "text": [
      "Short: 75; Long 175\n"
     ]
    },
    {
     "data": {
      "text/plain": [
       "date\n",
       "2016-02-29 11:30:00    1.012612\n",
       "2016-02-29 12:15:00    1.011561\n",
       "2016-02-29 15:45:00    1.018392\n",
       "2016-03-01 10:00:00    0.996554\n",
       "2016-03-01 15:30:00    1.000636\n",
       "                         ...   \n",
       "2021-01-22 09:30:00    0.868111\n",
       "2021-01-22 11:30:00    0.866023\n",
       "2021-01-22 13:45:00    0.867841\n",
       "2021-01-22 14:30:00    0.869140\n",
       "2021-01-22 15:45:00    0.868360\n",
       "Name: Strategy Returns, Length: 3507, dtype: float64"
      ]
     },
     "metadata": {},
     "output_type": "display_data"
    },
    {
     "name": "stdout",
     "output_type": "stream",
     "text": [
      "Short: 75; Long 185\n"
     ]
    },
    {
     "data": {
      "text/plain": [
       "date\n",
       "2016-02-29 11:30:00    1.012612\n",
       "2016-02-29 12:15:00    1.011561\n",
       "2016-02-29 15:45:00    1.018392\n",
       "2016-03-01 10:00:00    0.996554\n",
       "2016-03-01 15:30:00    1.000636\n",
       "                         ...   \n",
       "2021-01-22 09:30:00    0.868111\n",
       "2021-01-22 11:30:00    0.866023\n",
       "2021-01-22 13:45:00    0.867841\n",
       "2021-01-22 14:30:00    0.869140\n",
       "2021-01-22 15:45:00    0.868360\n",
       "Name: Strategy Returns, Length: 3507, dtype: float64"
      ]
     },
     "metadata": {},
     "output_type": "display_data"
    },
    {
     "name": "stdout",
     "output_type": "stream",
     "text": [
      "Short: 75; Long 195\n"
     ]
    },
    {
     "data": {
      "text/plain": [
       "date\n",
       "2016-02-29 11:30:00    1.012612\n",
       "2016-02-29 12:15:00    1.011561\n",
       "2016-02-29 15:45:00    1.018392\n",
       "2016-03-01 10:00:00    0.996554\n",
       "2016-03-01 15:30:00    1.000636\n",
       "                         ...   \n",
       "2021-01-22 09:30:00    0.868111\n",
       "2021-01-22 11:30:00    0.866023\n",
       "2021-01-22 13:45:00    0.867841\n",
       "2021-01-22 14:30:00    0.869140\n",
       "2021-01-22 15:45:00    0.868360\n",
       "Name: Strategy Returns, Length: 3507, dtype: float64"
      ]
     },
     "metadata": {},
     "output_type": "display_data"
    },
    {
     "name": "stdout",
     "output_type": "stream",
     "text": [
      "Short: 75; Long 205\n"
     ]
    },
    {
     "data": {
      "text/plain": [
       "date\n",
       "2016-02-29 11:30:00    1.012612\n",
       "2016-02-29 12:15:00    1.011561\n",
       "2016-02-29 15:45:00    1.018392\n",
       "2016-03-01 10:00:00    0.996554\n",
       "2016-03-01 15:30:00    1.000636\n",
       "                         ...   \n",
       "2021-01-22 09:30:00    0.868111\n",
       "2021-01-22 11:30:00    0.866023\n",
       "2021-01-22 13:45:00    0.867841\n",
       "2021-01-22 14:30:00    0.869140\n",
       "2021-01-22 15:45:00    0.868360\n",
       "Name: Strategy Returns, Length: 3507, dtype: float64"
      ]
     },
     "metadata": {},
     "output_type": "display_data"
    },
    {
     "name": "stdout",
     "output_type": "stream",
     "text": [
      "Short: 75; Long 215\n"
     ]
    },
    {
     "data": {
      "text/plain": [
       "date\n",
       "2016-02-29 11:30:00    1.012612\n",
       "2016-02-29 12:15:00    1.011561\n",
       "2016-02-29 15:45:00    1.018392\n",
       "2016-03-01 10:00:00    0.996554\n",
       "2016-03-01 15:30:00    1.000636\n",
       "                         ...   \n",
       "2021-01-22 09:30:00    0.868111\n",
       "2021-01-22 11:30:00    0.866023\n",
       "2021-01-22 13:45:00    0.867841\n",
       "2021-01-22 14:30:00    0.869140\n",
       "2021-01-22 15:45:00    0.868360\n",
       "Name: Strategy Returns, Length: 3507, dtype: float64"
      ]
     },
     "metadata": {},
     "output_type": "display_data"
    },
    {
     "name": "stdout",
     "output_type": "stream",
     "text": [
      "Short: 75; Long 225\n"
     ]
    },
    {
     "data": {
      "text/plain": [
       "date\n",
       "2016-02-29 11:30:00    1.012612\n",
       "2016-02-29 12:15:00    1.011561\n",
       "2016-02-29 15:45:00    1.018392\n",
       "2016-03-01 10:00:00    0.996554\n",
       "2016-03-01 15:30:00    1.000636\n",
       "                         ...   \n",
       "2021-01-22 09:30:00    0.868111\n",
       "2021-01-22 11:30:00    0.866023\n",
       "2021-01-22 13:45:00    0.867841\n",
       "2021-01-22 14:30:00    0.869140\n",
       "2021-01-22 15:45:00    0.868360\n",
       "Name: Strategy Returns, Length: 3507, dtype: float64"
      ]
     },
     "metadata": {},
     "output_type": "display_data"
    },
    {
     "name": "stdout",
     "output_type": "stream",
     "text": [
      "Short: 75; Long 235\n"
     ]
    },
    {
     "data": {
      "text/plain": [
       "date\n",
       "2016-02-29 11:30:00    1.012612\n",
       "2016-02-29 12:15:00    1.011561\n",
       "2016-02-29 15:45:00    1.018392\n",
       "2016-03-01 10:00:00    0.996554\n",
       "2016-03-01 15:30:00    1.000636\n",
       "                         ...   \n",
       "2021-01-22 09:30:00    0.868111\n",
       "2021-01-22 11:30:00    0.866023\n",
       "2021-01-22 13:45:00    0.867841\n",
       "2021-01-22 14:30:00    0.869140\n",
       "2021-01-22 15:45:00    0.868360\n",
       "Name: Strategy Returns, Length: 3507, dtype: float64"
      ]
     },
     "metadata": {},
     "output_type": "display_data"
    },
    {
     "name": "stdout",
     "output_type": "stream",
     "text": [
      "Short: 75; Long 245\n"
     ]
    },
    {
     "data": {
      "text/plain": [
       "date\n",
       "2016-02-29 11:30:00    1.012612\n",
       "2016-02-29 12:15:00    1.011561\n",
       "2016-02-29 15:45:00    1.018392\n",
       "2016-03-01 10:00:00    0.996554\n",
       "2016-03-01 15:30:00    1.000636\n",
       "                         ...   \n",
       "2021-01-22 09:30:00    0.868111\n",
       "2021-01-22 11:30:00    0.866023\n",
       "2021-01-22 13:45:00    0.867841\n",
       "2021-01-22 14:30:00    0.869140\n",
       "2021-01-22 15:45:00    0.868360\n",
       "Name: Strategy Returns, Length: 3507, dtype: float64"
      ]
     },
     "metadata": {},
     "output_type": "display_data"
    },
    {
     "name": "stdout",
     "output_type": "stream",
     "text": [
      "Short: 75; Long 255\n"
     ]
    },
    {
     "data": {
      "text/plain": [
       "date\n",
       "2016-02-29 11:30:00    1.012612\n",
       "2016-02-29 12:15:00    1.011561\n",
       "2016-02-29 15:45:00    1.018392\n",
       "2016-03-01 10:00:00    0.996554\n",
       "2016-03-01 15:30:00    1.000636\n",
       "                         ...   \n",
       "2021-01-22 09:30:00    0.868111\n",
       "2021-01-22 11:30:00    0.866023\n",
       "2021-01-22 13:45:00    0.867841\n",
       "2021-01-22 14:30:00    0.869140\n",
       "2021-01-22 15:45:00    0.868360\n",
       "Name: Strategy Returns, Length: 3507, dtype: float64"
      ]
     },
     "metadata": {},
     "output_type": "display_data"
    },
    {
     "name": "stdout",
     "output_type": "stream",
     "text": [
      "Short: 80; Long 130\n"
     ]
    },
    {
     "data": {
      "text/plain": [
       "date\n",
       "2016-02-29 11:30:00    1.012612\n",
       "2016-02-29 12:15:00    1.011561\n",
       "2016-02-29 15:45:00    1.018392\n",
       "2016-03-01 10:00:00    0.996554\n",
       "2016-03-01 15:30:00    1.000636\n",
       "                         ...   \n",
       "2021-01-22 09:30:00    0.868111\n",
       "2021-01-22 11:30:00    0.866023\n",
       "2021-01-22 13:45:00    0.867841\n",
       "2021-01-22 14:30:00    0.869140\n",
       "2021-01-22 15:45:00    0.868360\n",
       "Name: Strategy Returns, Length: 3507, dtype: float64"
      ]
     },
     "metadata": {},
     "output_type": "display_data"
    },
    {
     "name": "stdout",
     "output_type": "stream",
     "text": [
      "Short: 80; Long 140\n"
     ]
    },
    {
     "data": {
      "text/plain": [
       "date\n",
       "2016-02-29 11:30:00    1.012612\n",
       "2016-02-29 12:15:00    1.011561\n",
       "2016-02-29 15:45:00    1.018392\n",
       "2016-03-01 10:00:00    0.996554\n",
       "2016-03-01 15:30:00    1.000636\n",
       "                         ...   \n",
       "2021-01-22 09:30:00    0.868111\n",
       "2021-01-22 11:30:00    0.866023\n",
       "2021-01-22 13:45:00    0.867841\n",
       "2021-01-22 14:30:00    0.869140\n",
       "2021-01-22 15:45:00    0.868360\n",
       "Name: Strategy Returns, Length: 3507, dtype: float64"
      ]
     },
     "metadata": {},
     "output_type": "display_data"
    },
    {
     "name": "stdout",
     "output_type": "stream",
     "text": [
      "Short: 80; Long 150\n"
     ]
    },
    {
     "data": {
      "text/plain": [
       "date\n",
       "2016-02-29 11:30:00    1.012612\n",
       "2016-02-29 12:15:00    1.011561\n",
       "2016-02-29 15:45:00    1.018392\n",
       "2016-03-01 10:00:00    0.996554\n",
       "2016-03-01 15:30:00    1.000636\n",
       "                         ...   \n",
       "2021-01-22 09:30:00    0.868111\n",
       "2021-01-22 11:30:00    0.866023\n",
       "2021-01-22 13:45:00    0.867841\n",
       "2021-01-22 14:30:00    0.869140\n",
       "2021-01-22 15:45:00    0.868360\n",
       "Name: Strategy Returns, Length: 3507, dtype: float64"
      ]
     },
     "metadata": {},
     "output_type": "display_data"
    },
    {
     "name": "stdout",
     "output_type": "stream",
     "text": [
      "Short: 80; Long 160\n"
     ]
    },
    {
     "data": {
      "text/plain": [
       "date\n",
       "2016-02-29 11:30:00    1.012612\n",
       "2016-02-29 12:15:00    1.011561\n",
       "2016-02-29 15:45:00    1.018392\n",
       "2016-03-01 10:00:00    0.996554\n",
       "2016-03-01 15:30:00    1.000636\n",
       "                         ...   \n",
       "2021-01-22 09:30:00    0.868111\n",
       "2021-01-22 11:30:00    0.866023\n",
       "2021-01-22 13:45:00    0.867841\n",
       "2021-01-22 14:30:00    0.869140\n",
       "2021-01-22 15:45:00    0.868360\n",
       "Name: Strategy Returns, Length: 3507, dtype: float64"
      ]
     },
     "metadata": {},
     "output_type": "display_data"
    },
    {
     "name": "stdout",
     "output_type": "stream",
     "text": [
      "Short: 80; Long 170\n"
     ]
    },
    {
     "data": {
      "text/plain": [
       "date\n",
       "2016-02-29 11:30:00    1.012612\n",
       "2016-02-29 12:15:00    1.011561\n",
       "2016-02-29 15:45:00    1.018392\n",
       "2016-03-01 10:00:00    0.996554\n",
       "2016-03-01 15:30:00    1.000636\n",
       "                         ...   \n",
       "2021-01-22 09:30:00    0.868111\n",
       "2021-01-22 11:30:00    0.866023\n",
       "2021-01-22 13:45:00    0.867841\n",
       "2021-01-22 14:30:00    0.869140\n",
       "2021-01-22 15:45:00    0.868360\n",
       "Name: Strategy Returns, Length: 3507, dtype: float64"
      ]
     },
     "metadata": {},
     "output_type": "display_data"
    },
    {
     "name": "stdout",
     "output_type": "stream",
     "text": [
      "Short: 80; Long 180\n"
     ]
    },
    {
     "data": {
      "text/plain": [
       "date\n",
       "2016-02-29 11:30:00    1.012612\n",
       "2016-02-29 12:15:00    1.011561\n",
       "2016-02-29 15:45:00    1.018392\n",
       "2016-03-01 10:00:00    0.996554\n",
       "2016-03-01 15:30:00    1.000636\n",
       "                         ...   \n",
       "2021-01-22 09:30:00    0.868111\n",
       "2021-01-22 11:30:00    0.866023\n",
       "2021-01-22 13:45:00    0.867841\n",
       "2021-01-22 14:30:00    0.869140\n",
       "2021-01-22 15:45:00    0.868360\n",
       "Name: Strategy Returns, Length: 3507, dtype: float64"
      ]
     },
     "metadata": {},
     "output_type": "display_data"
    },
    {
     "name": "stdout",
     "output_type": "stream",
     "text": [
      "Short: 80; Long 190\n"
     ]
    },
    {
     "data": {
      "text/plain": [
       "date\n",
       "2016-02-29 11:30:00    1.012612\n",
       "2016-02-29 12:15:00    1.011561\n",
       "2016-02-29 15:45:00    1.018392\n",
       "2016-03-01 10:00:00    0.996554\n",
       "2016-03-01 15:30:00    1.000636\n",
       "                         ...   \n",
       "2021-01-22 09:30:00    0.868111\n",
       "2021-01-22 11:30:00    0.866023\n",
       "2021-01-22 13:45:00    0.867841\n",
       "2021-01-22 14:30:00    0.869140\n",
       "2021-01-22 15:45:00    0.868360\n",
       "Name: Strategy Returns, Length: 3507, dtype: float64"
      ]
     },
     "metadata": {},
     "output_type": "display_data"
    },
    {
     "name": "stdout",
     "output_type": "stream",
     "text": [
      "Short: 80; Long 200\n"
     ]
    },
    {
     "data": {
      "text/plain": [
       "date\n",
       "2016-02-29 11:30:00    1.012612\n",
       "2016-02-29 12:15:00    1.011561\n",
       "2016-02-29 15:45:00    1.018392\n",
       "2016-03-01 10:00:00    0.996554\n",
       "2016-03-01 15:30:00    1.000636\n",
       "                         ...   \n",
       "2021-01-22 09:30:00    0.868111\n",
       "2021-01-22 11:30:00    0.866023\n",
       "2021-01-22 13:45:00    0.867841\n",
       "2021-01-22 14:30:00    0.869140\n",
       "2021-01-22 15:45:00    0.868360\n",
       "Name: Strategy Returns, Length: 3507, dtype: float64"
      ]
     },
     "metadata": {},
     "output_type": "display_data"
    },
    {
     "name": "stdout",
     "output_type": "stream",
     "text": [
      "Short: 80; Long 210\n"
     ]
    },
    {
     "data": {
      "text/plain": [
       "date\n",
       "2016-02-29 11:30:00    1.012612\n",
       "2016-02-29 12:15:00    1.011561\n",
       "2016-02-29 15:45:00    1.018392\n",
       "2016-03-01 10:00:00    0.996554\n",
       "2016-03-01 15:30:00    1.000636\n",
       "                         ...   \n",
       "2021-01-22 09:30:00    0.868111\n",
       "2021-01-22 11:30:00    0.866023\n",
       "2021-01-22 13:45:00    0.867841\n",
       "2021-01-22 14:30:00    0.869140\n",
       "2021-01-22 15:45:00    0.868360\n",
       "Name: Strategy Returns, Length: 3507, dtype: float64"
      ]
     },
     "metadata": {},
     "output_type": "display_data"
    },
    {
     "name": "stdout",
     "output_type": "stream",
     "text": [
      "Short: 80; Long 220\n"
     ]
    },
    {
     "data": {
      "text/plain": [
       "date\n",
       "2016-02-29 11:30:00    1.012612\n",
       "2016-02-29 12:15:00    1.011561\n",
       "2016-02-29 15:45:00    1.018392\n",
       "2016-03-01 10:00:00    0.996554\n",
       "2016-03-01 15:30:00    1.000636\n",
       "                         ...   \n",
       "2021-01-22 09:30:00    0.868111\n",
       "2021-01-22 11:30:00    0.866023\n",
       "2021-01-22 13:45:00    0.867841\n",
       "2021-01-22 14:30:00    0.869140\n",
       "2021-01-22 15:45:00    0.868360\n",
       "Name: Strategy Returns, Length: 3507, dtype: float64"
      ]
     },
     "metadata": {},
     "output_type": "display_data"
    },
    {
     "name": "stdout",
     "output_type": "stream",
     "text": [
      "Short: 80; Long 230\n"
     ]
    },
    {
     "data": {
      "text/plain": [
       "date\n",
       "2016-02-29 11:30:00    1.012612\n",
       "2016-02-29 12:15:00    1.011561\n",
       "2016-02-29 15:45:00    1.018392\n",
       "2016-03-01 10:00:00    0.996554\n",
       "2016-03-01 15:30:00    1.000636\n",
       "                         ...   \n",
       "2021-01-22 09:30:00    0.868111\n",
       "2021-01-22 11:30:00    0.866023\n",
       "2021-01-22 13:45:00    0.867841\n",
       "2021-01-22 14:30:00    0.869140\n",
       "2021-01-22 15:45:00    0.868360\n",
       "Name: Strategy Returns, Length: 3507, dtype: float64"
      ]
     },
     "metadata": {},
     "output_type": "display_data"
    },
    {
     "name": "stdout",
     "output_type": "stream",
     "text": [
      "Short: 80; Long 240\n"
     ]
    },
    {
     "data": {
      "text/plain": [
       "date\n",
       "2016-02-29 11:30:00    1.012612\n",
       "2016-02-29 12:15:00    1.011561\n",
       "2016-02-29 15:45:00    1.018392\n",
       "2016-03-01 10:00:00    0.996554\n",
       "2016-03-01 15:30:00    1.000636\n",
       "                         ...   \n",
       "2021-01-22 09:30:00    0.868111\n",
       "2021-01-22 11:30:00    0.866023\n",
       "2021-01-22 13:45:00    0.867841\n",
       "2021-01-22 14:30:00    0.869140\n",
       "2021-01-22 15:45:00    0.868360\n",
       "Name: Strategy Returns, Length: 3507, dtype: float64"
      ]
     },
     "metadata": {},
     "output_type": "display_data"
    },
    {
     "name": "stdout",
     "output_type": "stream",
     "text": [
      "Short: 80; Long 250\n"
     ]
    },
    {
     "data": {
      "text/plain": [
       "date\n",
       "2016-02-29 11:30:00    1.012612\n",
       "2016-02-29 12:15:00    1.011561\n",
       "2016-02-29 15:45:00    1.018392\n",
       "2016-03-01 10:00:00    0.996554\n",
       "2016-03-01 15:30:00    1.000636\n",
       "                         ...   \n",
       "2021-01-22 09:30:00    0.868111\n",
       "2021-01-22 11:30:00    0.866023\n",
       "2021-01-22 13:45:00    0.867841\n",
       "2021-01-22 14:30:00    0.869140\n",
       "2021-01-22 15:45:00    0.868360\n",
       "Name: Strategy Returns, Length: 3507, dtype: float64"
      ]
     },
     "metadata": {},
     "output_type": "display_data"
    },
    {
     "name": "stdout",
     "output_type": "stream",
     "text": [
      "Short: 80; Long 260\n"
     ]
    },
    {
     "data": {
      "text/plain": [
       "date\n",
       "2016-02-29 11:30:00    1.012612\n",
       "2016-02-29 12:15:00    1.011561\n",
       "2016-02-29 15:45:00    1.018392\n",
       "2016-03-01 10:00:00    0.996554\n",
       "2016-03-01 15:30:00    1.000636\n",
       "                         ...   \n",
       "2021-01-22 09:30:00    0.868111\n",
       "2021-01-22 11:30:00    0.866023\n",
       "2021-01-22 13:45:00    0.867841\n",
       "2021-01-22 14:30:00    0.869140\n",
       "2021-01-22 15:45:00    0.868360\n",
       "Name: Strategy Returns, Length: 3507, dtype: float64"
      ]
     },
     "metadata": {},
     "output_type": "display_data"
    },
    {
     "name": "stdout",
     "output_type": "stream",
     "text": [
      "Short: 85; Long 135\n"
     ]
    },
    {
     "data": {
      "text/plain": [
       "date\n",
       "2016-02-29 11:30:00    1.012612\n",
       "2016-02-29 12:15:00    1.011561\n",
       "2016-02-29 15:45:00    1.018392\n",
       "2016-03-01 10:00:00    0.996554\n",
       "2016-03-01 15:30:00    1.000636\n",
       "                         ...   \n",
       "2021-01-22 09:30:00    0.868111\n",
       "2021-01-22 11:30:00    0.866023\n",
       "2021-01-22 13:45:00    0.867841\n",
       "2021-01-22 14:30:00    0.869140\n",
       "2021-01-22 15:45:00    0.868360\n",
       "Name: Strategy Returns, Length: 3507, dtype: float64"
      ]
     },
     "metadata": {},
     "output_type": "display_data"
    },
    {
     "name": "stdout",
     "output_type": "stream",
     "text": [
      "Short: 85; Long 145\n"
     ]
    },
    {
     "data": {
      "text/plain": [
       "date\n",
       "2016-02-29 11:30:00    1.012612\n",
       "2016-02-29 12:15:00    1.011561\n",
       "2016-02-29 15:45:00    1.018392\n",
       "2016-03-01 10:00:00    0.996554\n",
       "2016-03-01 15:30:00    1.000636\n",
       "                         ...   \n",
       "2021-01-22 09:30:00    0.868111\n",
       "2021-01-22 11:30:00    0.866023\n",
       "2021-01-22 13:45:00    0.867841\n",
       "2021-01-22 14:30:00    0.869140\n",
       "2021-01-22 15:45:00    0.868360\n",
       "Name: Strategy Returns, Length: 3507, dtype: float64"
      ]
     },
     "metadata": {},
     "output_type": "display_data"
    },
    {
     "name": "stdout",
     "output_type": "stream",
     "text": [
      "Short: 85; Long 155\n"
     ]
    },
    {
     "data": {
      "text/plain": [
       "date\n",
       "2016-02-29 11:30:00    1.012612\n",
       "2016-02-29 12:15:00    1.011561\n",
       "2016-02-29 15:45:00    1.018392\n",
       "2016-03-01 10:00:00    0.996554\n",
       "2016-03-01 15:30:00    1.000636\n",
       "                         ...   \n",
       "2021-01-22 09:30:00    0.868111\n",
       "2021-01-22 11:30:00    0.866023\n",
       "2021-01-22 13:45:00    0.867841\n",
       "2021-01-22 14:30:00    0.869140\n",
       "2021-01-22 15:45:00    0.868360\n",
       "Name: Strategy Returns, Length: 3507, dtype: float64"
      ]
     },
     "metadata": {},
     "output_type": "display_data"
    },
    {
     "name": "stdout",
     "output_type": "stream",
     "text": [
      "Short: 85; Long 165\n"
     ]
    },
    {
     "data": {
      "text/plain": [
       "date\n",
       "2016-02-29 11:30:00    1.012612\n",
       "2016-02-29 12:15:00    1.011561\n",
       "2016-02-29 15:45:00    1.018392\n",
       "2016-03-01 10:00:00    0.996554\n",
       "2016-03-01 15:30:00    1.000636\n",
       "                         ...   \n",
       "2021-01-22 09:30:00    0.868111\n",
       "2021-01-22 11:30:00    0.866023\n",
       "2021-01-22 13:45:00    0.867841\n",
       "2021-01-22 14:30:00    0.869140\n",
       "2021-01-22 15:45:00    0.868360\n",
       "Name: Strategy Returns, Length: 3507, dtype: float64"
      ]
     },
     "metadata": {},
     "output_type": "display_data"
    },
    {
     "name": "stdout",
     "output_type": "stream",
     "text": [
      "Short: 85; Long 175\n"
     ]
    },
    {
     "data": {
      "text/plain": [
       "date\n",
       "2016-02-29 11:30:00    1.012612\n",
       "2016-02-29 12:15:00    1.011561\n",
       "2016-02-29 15:45:00    1.018392\n",
       "2016-03-01 10:00:00    0.996554\n",
       "2016-03-01 15:30:00    1.000636\n",
       "                         ...   \n",
       "2021-01-22 09:30:00    0.868111\n",
       "2021-01-22 11:30:00    0.866023\n",
       "2021-01-22 13:45:00    0.867841\n",
       "2021-01-22 14:30:00    0.869140\n",
       "2021-01-22 15:45:00    0.868360\n",
       "Name: Strategy Returns, Length: 3507, dtype: float64"
      ]
     },
     "metadata": {},
     "output_type": "display_data"
    },
    {
     "name": "stdout",
     "output_type": "stream",
     "text": [
      "Short: 85; Long 185\n"
     ]
    },
    {
     "data": {
      "text/plain": [
       "date\n",
       "2016-02-29 11:30:00    1.012612\n",
       "2016-02-29 12:15:00    1.011561\n",
       "2016-02-29 15:45:00    1.018392\n",
       "2016-03-01 10:00:00    0.996554\n",
       "2016-03-01 15:30:00    1.000636\n",
       "                         ...   \n",
       "2021-01-22 09:30:00    0.868111\n",
       "2021-01-22 11:30:00    0.866023\n",
       "2021-01-22 13:45:00    0.867841\n",
       "2021-01-22 14:30:00    0.869140\n",
       "2021-01-22 15:45:00    0.868360\n",
       "Name: Strategy Returns, Length: 3507, dtype: float64"
      ]
     },
     "metadata": {},
     "output_type": "display_data"
    },
    {
     "name": "stdout",
     "output_type": "stream",
     "text": [
      "Short: 85; Long 195\n"
     ]
    },
    {
     "data": {
      "text/plain": [
       "date\n",
       "2016-02-29 11:30:00    1.012612\n",
       "2016-02-29 12:15:00    1.011561\n",
       "2016-02-29 15:45:00    1.018392\n",
       "2016-03-01 10:00:00    0.996554\n",
       "2016-03-01 15:30:00    1.000636\n",
       "                         ...   \n",
       "2021-01-22 09:30:00    0.868111\n",
       "2021-01-22 11:30:00    0.866023\n",
       "2021-01-22 13:45:00    0.867841\n",
       "2021-01-22 14:30:00    0.869140\n",
       "2021-01-22 15:45:00    0.868360\n",
       "Name: Strategy Returns, Length: 3507, dtype: float64"
      ]
     },
     "metadata": {},
     "output_type": "display_data"
    },
    {
     "name": "stdout",
     "output_type": "stream",
     "text": [
      "Short: 85; Long 205\n"
     ]
    },
    {
     "data": {
      "text/plain": [
       "date\n",
       "2016-02-29 11:30:00    1.012612\n",
       "2016-02-29 12:15:00    1.011561\n",
       "2016-02-29 15:45:00    1.018392\n",
       "2016-03-01 10:00:00    0.996554\n",
       "2016-03-01 15:30:00    1.000636\n",
       "                         ...   \n",
       "2021-01-22 09:30:00    0.868111\n",
       "2021-01-22 11:30:00    0.866023\n",
       "2021-01-22 13:45:00    0.867841\n",
       "2021-01-22 14:30:00    0.869140\n",
       "2021-01-22 15:45:00    0.868360\n",
       "Name: Strategy Returns, Length: 3507, dtype: float64"
      ]
     },
     "metadata": {},
     "output_type": "display_data"
    },
    {
     "name": "stdout",
     "output_type": "stream",
     "text": [
      "Short: 85; Long 215\n"
     ]
    },
    {
     "data": {
      "text/plain": [
       "date\n",
       "2016-02-29 11:30:00    1.012612\n",
       "2016-02-29 12:15:00    1.011561\n",
       "2016-02-29 15:45:00    1.018392\n",
       "2016-03-01 10:00:00    0.996554\n",
       "2016-03-01 15:30:00    1.000636\n",
       "                         ...   \n",
       "2021-01-22 09:30:00    0.868111\n",
       "2021-01-22 11:30:00    0.866023\n",
       "2021-01-22 13:45:00    0.867841\n",
       "2021-01-22 14:30:00    0.869140\n",
       "2021-01-22 15:45:00    0.868360\n",
       "Name: Strategy Returns, Length: 3507, dtype: float64"
      ]
     },
     "metadata": {},
     "output_type": "display_data"
    },
    {
     "name": "stdout",
     "output_type": "stream",
     "text": [
      "Short: 85; Long 225\n"
     ]
    },
    {
     "data": {
      "text/plain": [
       "date\n",
       "2016-02-29 11:30:00    1.012612\n",
       "2016-02-29 12:15:00    1.011561\n",
       "2016-02-29 15:45:00    1.018392\n",
       "2016-03-01 10:00:00    0.996554\n",
       "2016-03-01 15:30:00    1.000636\n",
       "                         ...   \n",
       "2021-01-22 09:30:00    0.868111\n",
       "2021-01-22 11:30:00    0.866023\n",
       "2021-01-22 13:45:00    0.867841\n",
       "2021-01-22 14:30:00    0.869140\n",
       "2021-01-22 15:45:00    0.868360\n",
       "Name: Strategy Returns, Length: 3507, dtype: float64"
      ]
     },
     "metadata": {},
     "output_type": "display_data"
    },
    {
     "name": "stdout",
     "output_type": "stream",
     "text": [
      "Short: 85; Long 235\n"
     ]
    },
    {
     "data": {
      "text/plain": [
       "date\n",
       "2016-02-29 11:30:00    1.012612\n",
       "2016-02-29 12:15:00    1.011561\n",
       "2016-02-29 15:45:00    1.018392\n",
       "2016-03-01 10:00:00    0.996554\n",
       "2016-03-01 15:30:00    1.000636\n",
       "                         ...   \n",
       "2021-01-22 09:30:00    0.868111\n",
       "2021-01-22 11:30:00    0.866023\n",
       "2021-01-22 13:45:00    0.867841\n",
       "2021-01-22 14:30:00    0.869140\n",
       "2021-01-22 15:45:00    0.868360\n",
       "Name: Strategy Returns, Length: 3507, dtype: float64"
      ]
     },
     "metadata": {},
     "output_type": "display_data"
    },
    {
     "name": "stdout",
     "output_type": "stream",
     "text": [
      "Short: 85; Long 245\n"
     ]
    },
    {
     "data": {
      "text/plain": [
       "date\n",
       "2016-02-29 11:30:00    1.012612\n",
       "2016-02-29 12:15:00    1.011561\n",
       "2016-02-29 15:45:00    1.018392\n",
       "2016-03-01 10:00:00    0.996554\n",
       "2016-03-01 15:30:00    1.000636\n",
       "                         ...   \n",
       "2021-01-22 09:30:00    0.868111\n",
       "2021-01-22 11:30:00    0.866023\n",
       "2021-01-22 13:45:00    0.867841\n",
       "2021-01-22 14:30:00    0.869140\n",
       "2021-01-22 15:45:00    0.868360\n",
       "Name: Strategy Returns, Length: 3507, dtype: float64"
      ]
     },
     "metadata": {},
     "output_type": "display_data"
    },
    {
     "name": "stdout",
     "output_type": "stream",
     "text": [
      "Short: 85; Long 255\n"
     ]
    },
    {
     "data": {
      "text/plain": [
       "date\n",
       "2016-02-29 11:30:00    1.012612\n",
       "2016-02-29 12:15:00    1.011561\n",
       "2016-02-29 15:45:00    1.018392\n",
       "2016-03-01 10:00:00    0.996554\n",
       "2016-03-01 15:30:00    1.000636\n",
       "                         ...   \n",
       "2021-01-22 09:30:00    0.868111\n",
       "2021-01-22 11:30:00    0.866023\n",
       "2021-01-22 13:45:00    0.867841\n",
       "2021-01-22 14:30:00    0.869140\n",
       "2021-01-22 15:45:00    0.868360\n",
       "Name: Strategy Returns, Length: 3507, dtype: float64"
      ]
     },
     "metadata": {},
     "output_type": "display_data"
    },
    {
     "name": "stdout",
     "output_type": "stream",
     "text": [
      "Short: 90; Long 140\n"
     ]
    },
    {
     "data": {
      "text/plain": [
       "date\n",
       "2016-02-29 11:30:00    1.012612\n",
       "2016-02-29 12:15:00    1.011561\n",
       "2016-02-29 15:45:00    1.018392\n",
       "2016-03-01 10:00:00    0.996554\n",
       "2016-03-01 15:30:00    1.000636\n",
       "                         ...   \n",
       "2021-01-22 09:30:00    0.868111\n",
       "2021-01-22 11:30:00    0.866023\n",
       "2021-01-22 13:45:00    0.867841\n",
       "2021-01-22 14:30:00    0.869140\n",
       "2021-01-22 15:45:00    0.868360\n",
       "Name: Strategy Returns, Length: 3507, dtype: float64"
      ]
     },
     "metadata": {},
     "output_type": "display_data"
    },
    {
     "name": "stdout",
     "output_type": "stream",
     "text": [
      "Short: 90; Long 150\n"
     ]
    },
    {
     "data": {
      "text/plain": [
       "date\n",
       "2016-02-29 11:30:00    1.012612\n",
       "2016-02-29 12:15:00    1.011561\n",
       "2016-02-29 15:45:00    1.018392\n",
       "2016-03-01 10:00:00    0.996554\n",
       "2016-03-01 15:30:00    1.000636\n",
       "                         ...   \n",
       "2021-01-22 09:30:00    0.868111\n",
       "2021-01-22 11:30:00    0.866023\n",
       "2021-01-22 13:45:00    0.867841\n",
       "2021-01-22 14:30:00    0.869140\n",
       "2021-01-22 15:45:00    0.868360\n",
       "Name: Strategy Returns, Length: 3507, dtype: float64"
      ]
     },
     "metadata": {},
     "output_type": "display_data"
    },
    {
     "name": "stdout",
     "output_type": "stream",
     "text": [
      "Short: 90; Long 160\n"
     ]
    },
    {
     "data": {
      "text/plain": [
       "date\n",
       "2016-02-29 11:30:00    1.012612\n",
       "2016-02-29 12:15:00    1.011561\n",
       "2016-02-29 15:45:00    1.018392\n",
       "2016-03-01 10:00:00    0.996554\n",
       "2016-03-01 15:30:00    1.000636\n",
       "                         ...   \n",
       "2021-01-22 09:30:00    0.868111\n",
       "2021-01-22 11:30:00    0.866023\n",
       "2021-01-22 13:45:00    0.867841\n",
       "2021-01-22 14:30:00    0.869140\n",
       "2021-01-22 15:45:00    0.868360\n",
       "Name: Strategy Returns, Length: 3507, dtype: float64"
      ]
     },
     "metadata": {},
     "output_type": "display_data"
    },
    {
     "name": "stdout",
     "output_type": "stream",
     "text": [
      "Short: 90; Long 170\n"
     ]
    },
    {
     "data": {
      "text/plain": [
       "date\n",
       "2016-02-29 11:30:00    1.012612\n",
       "2016-02-29 12:15:00    1.011561\n",
       "2016-02-29 15:45:00    1.018392\n",
       "2016-03-01 10:00:00    0.996554\n",
       "2016-03-01 15:30:00    1.000636\n",
       "                         ...   \n",
       "2021-01-22 09:30:00    0.868111\n",
       "2021-01-22 11:30:00    0.866023\n",
       "2021-01-22 13:45:00    0.867841\n",
       "2021-01-22 14:30:00    0.869140\n",
       "2021-01-22 15:45:00    0.868360\n",
       "Name: Strategy Returns, Length: 3507, dtype: float64"
      ]
     },
     "metadata": {},
     "output_type": "display_data"
    },
    {
     "name": "stdout",
     "output_type": "stream",
     "text": [
      "Short: 90; Long 180\n"
     ]
    },
    {
     "data": {
      "text/plain": [
       "date\n",
       "2016-02-29 11:30:00    1.012612\n",
       "2016-02-29 12:15:00    1.011561\n",
       "2016-02-29 15:45:00    1.018392\n",
       "2016-03-01 10:00:00    0.996554\n",
       "2016-03-01 15:30:00    1.000636\n",
       "                         ...   \n",
       "2021-01-22 09:30:00    0.868111\n",
       "2021-01-22 11:30:00    0.866023\n",
       "2021-01-22 13:45:00    0.867841\n",
       "2021-01-22 14:30:00    0.869140\n",
       "2021-01-22 15:45:00    0.868360\n",
       "Name: Strategy Returns, Length: 3507, dtype: float64"
      ]
     },
     "metadata": {},
     "output_type": "display_data"
    },
    {
     "name": "stdout",
     "output_type": "stream",
     "text": [
      "Short: 90; Long 190\n"
     ]
    },
    {
     "data": {
      "text/plain": [
       "date\n",
       "2016-02-29 11:30:00    1.012612\n",
       "2016-02-29 12:15:00    1.011561\n",
       "2016-02-29 15:45:00    1.018392\n",
       "2016-03-01 10:00:00    0.996554\n",
       "2016-03-01 15:30:00    1.000636\n",
       "                         ...   \n",
       "2021-01-22 09:30:00    0.868111\n",
       "2021-01-22 11:30:00    0.866023\n",
       "2021-01-22 13:45:00    0.867841\n",
       "2021-01-22 14:30:00    0.869140\n",
       "2021-01-22 15:45:00    0.868360\n",
       "Name: Strategy Returns, Length: 3507, dtype: float64"
      ]
     },
     "metadata": {},
     "output_type": "display_data"
    },
    {
     "name": "stdout",
     "output_type": "stream",
     "text": [
      "Short: 90; Long 200\n"
     ]
    },
    {
     "data": {
      "text/plain": [
       "date\n",
       "2016-02-29 11:30:00    1.012612\n",
       "2016-02-29 12:15:00    1.011561\n",
       "2016-02-29 15:45:00    1.018392\n",
       "2016-03-01 10:00:00    0.996554\n",
       "2016-03-01 15:30:00    1.000636\n",
       "                         ...   \n",
       "2021-01-22 09:30:00    0.868111\n",
       "2021-01-22 11:30:00    0.866023\n",
       "2021-01-22 13:45:00    0.867841\n",
       "2021-01-22 14:30:00    0.869140\n",
       "2021-01-22 15:45:00    0.868360\n",
       "Name: Strategy Returns, Length: 3507, dtype: float64"
      ]
     },
     "metadata": {},
     "output_type": "display_data"
    },
    {
     "name": "stdout",
     "output_type": "stream",
     "text": [
      "Short: 90; Long 210\n"
     ]
    },
    {
     "data": {
      "text/plain": [
       "date\n",
       "2016-02-29 11:30:00    1.012612\n",
       "2016-02-29 12:15:00    1.011561\n",
       "2016-02-29 15:45:00    1.018392\n",
       "2016-03-01 10:00:00    0.996554\n",
       "2016-03-01 15:30:00    1.000636\n",
       "                         ...   \n",
       "2021-01-22 09:30:00    0.868111\n",
       "2021-01-22 11:30:00    0.866023\n",
       "2021-01-22 13:45:00    0.867841\n",
       "2021-01-22 14:30:00    0.869140\n",
       "2021-01-22 15:45:00    0.868360\n",
       "Name: Strategy Returns, Length: 3507, dtype: float64"
      ]
     },
     "metadata": {},
     "output_type": "display_data"
    },
    {
     "name": "stdout",
     "output_type": "stream",
     "text": [
      "Short: 90; Long 220\n"
     ]
    },
    {
     "data": {
      "text/plain": [
       "date\n",
       "2016-02-29 11:30:00    1.012612\n",
       "2016-02-29 12:15:00    1.011561\n",
       "2016-02-29 15:45:00    1.018392\n",
       "2016-03-01 10:00:00    0.996554\n",
       "2016-03-01 15:30:00    1.000636\n",
       "                         ...   \n",
       "2021-01-22 09:30:00    0.868111\n",
       "2021-01-22 11:30:00    0.866023\n",
       "2021-01-22 13:45:00    0.867841\n",
       "2021-01-22 14:30:00    0.869140\n",
       "2021-01-22 15:45:00    0.868360\n",
       "Name: Strategy Returns, Length: 3507, dtype: float64"
      ]
     },
     "metadata": {},
     "output_type": "display_data"
    },
    {
     "name": "stdout",
     "output_type": "stream",
     "text": [
      "Short: 90; Long 230\n"
     ]
    },
    {
     "data": {
      "text/plain": [
       "date\n",
       "2016-02-29 11:30:00    1.012612\n",
       "2016-02-29 12:15:00    1.011561\n",
       "2016-02-29 15:45:00    1.018392\n",
       "2016-03-01 10:00:00    0.996554\n",
       "2016-03-01 15:30:00    1.000636\n",
       "                         ...   \n",
       "2021-01-22 09:30:00    0.868111\n",
       "2021-01-22 11:30:00    0.866023\n",
       "2021-01-22 13:45:00    0.867841\n",
       "2021-01-22 14:30:00    0.869140\n",
       "2021-01-22 15:45:00    0.868360\n",
       "Name: Strategy Returns, Length: 3507, dtype: float64"
      ]
     },
     "metadata": {},
     "output_type": "display_data"
    },
    {
     "name": "stdout",
     "output_type": "stream",
     "text": [
      "Short: 90; Long 240\n"
     ]
    },
    {
     "data": {
      "text/plain": [
       "date\n",
       "2016-02-29 11:30:00    1.012612\n",
       "2016-02-29 12:15:00    1.011561\n",
       "2016-02-29 15:45:00    1.018392\n",
       "2016-03-01 10:00:00    0.996554\n",
       "2016-03-01 15:30:00    1.000636\n",
       "                         ...   \n",
       "2021-01-22 09:30:00    0.868111\n",
       "2021-01-22 11:30:00    0.866023\n",
       "2021-01-22 13:45:00    0.867841\n",
       "2021-01-22 14:30:00    0.869140\n",
       "2021-01-22 15:45:00    0.868360\n",
       "Name: Strategy Returns, Length: 3507, dtype: float64"
      ]
     },
     "metadata": {},
     "output_type": "display_data"
    },
    {
     "name": "stdout",
     "output_type": "stream",
     "text": [
      "Short: 90; Long 250\n"
     ]
    },
    {
     "data": {
      "text/plain": [
       "date\n",
       "2016-02-29 11:30:00    1.012612\n",
       "2016-02-29 12:15:00    1.011561\n",
       "2016-02-29 15:45:00    1.018392\n",
       "2016-03-01 10:00:00    0.996554\n",
       "2016-03-01 15:30:00    1.000636\n",
       "                         ...   \n",
       "2021-01-22 09:30:00    0.868111\n",
       "2021-01-22 11:30:00    0.866023\n",
       "2021-01-22 13:45:00    0.867841\n",
       "2021-01-22 14:30:00    0.869140\n",
       "2021-01-22 15:45:00    0.868360\n",
       "Name: Strategy Returns, Length: 3507, dtype: float64"
      ]
     },
     "metadata": {},
     "output_type": "display_data"
    },
    {
     "name": "stdout",
     "output_type": "stream",
     "text": [
      "Short: 90; Long 260\n"
     ]
    },
    {
     "data": {
      "text/plain": [
       "date\n",
       "2016-02-29 11:30:00    1.012612\n",
       "2016-02-29 12:15:00    1.011561\n",
       "2016-02-29 15:45:00    1.018392\n",
       "2016-03-01 10:00:00    0.996554\n",
       "2016-03-01 15:30:00    1.000636\n",
       "                         ...   \n",
       "2021-01-22 09:30:00    0.868111\n",
       "2021-01-22 11:30:00    0.866023\n",
       "2021-01-22 13:45:00    0.867841\n",
       "2021-01-22 14:30:00    0.869140\n",
       "2021-01-22 15:45:00    0.868360\n",
       "Name: Strategy Returns, Length: 3507, dtype: float64"
      ]
     },
     "metadata": {},
     "output_type": "display_data"
    },
    {
     "name": "stdout",
     "output_type": "stream",
     "text": [
      "Short: 95; Long 145\n"
     ]
    },
    {
     "data": {
      "text/plain": [
       "date\n",
       "2016-02-29 11:30:00    1.012612\n",
       "2016-02-29 12:15:00    1.011561\n",
       "2016-02-29 15:45:00    1.018392\n",
       "2016-03-01 10:00:00    0.996554\n",
       "2016-03-01 15:30:00    1.000636\n",
       "                         ...   \n",
       "2021-01-22 09:30:00    0.868111\n",
       "2021-01-22 11:30:00    0.866023\n",
       "2021-01-22 13:45:00    0.867841\n",
       "2021-01-22 14:30:00    0.869140\n",
       "2021-01-22 15:45:00    0.868360\n",
       "Name: Strategy Returns, Length: 3507, dtype: float64"
      ]
     },
     "metadata": {},
     "output_type": "display_data"
    },
    {
     "name": "stdout",
     "output_type": "stream",
     "text": [
      "Short: 95; Long 155\n"
     ]
    },
    {
     "data": {
      "text/plain": [
       "date\n",
       "2016-02-29 11:30:00    1.012612\n",
       "2016-02-29 12:15:00    1.011561\n",
       "2016-02-29 15:45:00    1.018392\n",
       "2016-03-01 10:00:00    0.996554\n",
       "2016-03-01 15:30:00    1.000636\n",
       "                         ...   \n",
       "2021-01-22 09:30:00    0.868111\n",
       "2021-01-22 11:30:00    0.866023\n",
       "2021-01-22 13:45:00    0.867841\n",
       "2021-01-22 14:30:00    0.869140\n",
       "2021-01-22 15:45:00    0.868360\n",
       "Name: Strategy Returns, Length: 3507, dtype: float64"
      ]
     },
     "metadata": {},
     "output_type": "display_data"
    },
    {
     "name": "stdout",
     "output_type": "stream",
     "text": [
      "Short: 95; Long 165\n"
     ]
    },
    {
     "data": {
      "text/plain": [
       "date\n",
       "2016-02-29 11:30:00    1.012612\n",
       "2016-02-29 12:15:00    1.011561\n",
       "2016-02-29 15:45:00    1.018392\n",
       "2016-03-01 10:00:00    0.996554\n",
       "2016-03-01 15:30:00    1.000636\n",
       "                         ...   \n",
       "2021-01-22 09:30:00    0.868111\n",
       "2021-01-22 11:30:00    0.866023\n",
       "2021-01-22 13:45:00    0.867841\n",
       "2021-01-22 14:30:00    0.869140\n",
       "2021-01-22 15:45:00    0.868360\n",
       "Name: Strategy Returns, Length: 3507, dtype: float64"
      ]
     },
     "metadata": {},
     "output_type": "display_data"
    },
    {
     "name": "stdout",
     "output_type": "stream",
     "text": [
      "Short: 95; Long 175\n"
     ]
    },
    {
     "data": {
      "text/plain": [
       "date\n",
       "2016-02-29 11:30:00    1.012612\n",
       "2016-02-29 12:15:00    1.011561\n",
       "2016-02-29 15:45:00    1.018392\n",
       "2016-03-01 10:00:00    0.996554\n",
       "2016-03-01 15:30:00    1.000636\n",
       "                         ...   \n",
       "2021-01-22 09:30:00    0.868111\n",
       "2021-01-22 11:30:00    0.866023\n",
       "2021-01-22 13:45:00    0.867841\n",
       "2021-01-22 14:30:00    0.869140\n",
       "2021-01-22 15:45:00    0.868360\n",
       "Name: Strategy Returns, Length: 3507, dtype: float64"
      ]
     },
     "metadata": {},
     "output_type": "display_data"
    },
    {
     "name": "stdout",
     "output_type": "stream",
     "text": [
      "Short: 95; Long 185\n"
     ]
    },
    {
     "data": {
      "text/plain": [
       "date\n",
       "2016-02-29 11:30:00    1.012612\n",
       "2016-02-29 12:15:00    1.011561\n",
       "2016-02-29 15:45:00    1.018392\n",
       "2016-03-01 10:00:00    0.996554\n",
       "2016-03-01 15:30:00    1.000636\n",
       "                         ...   \n",
       "2021-01-22 09:30:00    0.868111\n",
       "2021-01-22 11:30:00    0.866023\n",
       "2021-01-22 13:45:00    0.867841\n",
       "2021-01-22 14:30:00    0.869140\n",
       "2021-01-22 15:45:00    0.868360\n",
       "Name: Strategy Returns, Length: 3507, dtype: float64"
      ]
     },
     "metadata": {},
     "output_type": "display_data"
    },
    {
     "name": "stdout",
     "output_type": "stream",
     "text": [
      "Short: 95; Long 195\n"
     ]
    },
    {
     "data": {
      "text/plain": [
       "date\n",
       "2016-02-29 11:30:00    1.012612\n",
       "2016-02-29 12:15:00    1.011561\n",
       "2016-02-29 15:45:00    1.018392\n",
       "2016-03-01 10:00:00    0.996554\n",
       "2016-03-01 15:30:00    1.000636\n",
       "                         ...   \n",
       "2021-01-22 09:30:00    0.868111\n",
       "2021-01-22 11:30:00    0.866023\n",
       "2021-01-22 13:45:00    0.867841\n",
       "2021-01-22 14:30:00    0.869140\n",
       "2021-01-22 15:45:00    0.868360\n",
       "Name: Strategy Returns, Length: 3507, dtype: float64"
      ]
     },
     "metadata": {},
     "output_type": "display_data"
    },
    {
     "name": "stdout",
     "output_type": "stream",
     "text": [
      "Short: 95; Long 205\n"
     ]
    },
    {
     "data": {
      "text/plain": [
       "date\n",
       "2016-02-29 11:30:00    1.012612\n",
       "2016-02-29 12:15:00    1.011561\n",
       "2016-02-29 15:45:00    1.018392\n",
       "2016-03-01 10:00:00    0.996554\n",
       "2016-03-01 15:30:00    1.000636\n",
       "                         ...   \n",
       "2021-01-22 09:30:00    0.868111\n",
       "2021-01-22 11:30:00    0.866023\n",
       "2021-01-22 13:45:00    0.867841\n",
       "2021-01-22 14:30:00    0.869140\n",
       "2021-01-22 15:45:00    0.868360\n",
       "Name: Strategy Returns, Length: 3507, dtype: float64"
      ]
     },
     "metadata": {},
     "output_type": "display_data"
    },
    {
     "name": "stdout",
     "output_type": "stream",
     "text": [
      "Short: 95; Long 215\n"
     ]
    },
    {
     "data": {
      "text/plain": [
       "date\n",
       "2016-02-29 11:30:00    1.012612\n",
       "2016-02-29 12:15:00    1.011561\n",
       "2016-02-29 15:45:00    1.018392\n",
       "2016-03-01 10:00:00    0.996554\n",
       "2016-03-01 15:30:00    1.000636\n",
       "                         ...   \n",
       "2021-01-22 09:30:00    0.868111\n",
       "2021-01-22 11:30:00    0.866023\n",
       "2021-01-22 13:45:00    0.867841\n",
       "2021-01-22 14:30:00    0.869140\n",
       "2021-01-22 15:45:00    0.868360\n",
       "Name: Strategy Returns, Length: 3507, dtype: float64"
      ]
     },
     "metadata": {},
     "output_type": "display_data"
    },
    {
     "name": "stdout",
     "output_type": "stream",
     "text": [
      "Short: 95; Long 225\n"
     ]
    },
    {
     "data": {
      "text/plain": [
       "date\n",
       "2016-02-29 11:30:00    1.012612\n",
       "2016-02-29 12:15:00    1.011561\n",
       "2016-02-29 15:45:00    1.018392\n",
       "2016-03-01 10:00:00    0.996554\n",
       "2016-03-01 15:30:00    1.000636\n",
       "                         ...   \n",
       "2021-01-22 09:30:00    0.868111\n",
       "2021-01-22 11:30:00    0.866023\n",
       "2021-01-22 13:45:00    0.867841\n",
       "2021-01-22 14:30:00    0.869140\n",
       "2021-01-22 15:45:00    0.868360\n",
       "Name: Strategy Returns, Length: 3507, dtype: float64"
      ]
     },
     "metadata": {},
     "output_type": "display_data"
    },
    {
     "name": "stdout",
     "output_type": "stream",
     "text": [
      "Short: 95; Long 235\n"
     ]
    },
    {
     "data": {
      "text/plain": [
       "date\n",
       "2016-02-29 11:30:00    1.012612\n",
       "2016-02-29 12:15:00    1.011561\n",
       "2016-02-29 15:45:00    1.018392\n",
       "2016-03-01 10:00:00    0.996554\n",
       "2016-03-01 15:30:00    1.000636\n",
       "                         ...   \n",
       "2021-01-22 09:30:00    0.868111\n",
       "2021-01-22 11:30:00    0.866023\n",
       "2021-01-22 13:45:00    0.867841\n",
       "2021-01-22 14:30:00    0.869140\n",
       "2021-01-22 15:45:00    0.868360\n",
       "Name: Strategy Returns, Length: 3507, dtype: float64"
      ]
     },
     "metadata": {},
     "output_type": "display_data"
    },
    {
     "name": "stdout",
     "output_type": "stream",
     "text": [
      "Short: 95; Long 245\n"
     ]
    },
    {
     "data": {
      "text/plain": [
       "date\n",
       "2016-02-29 11:30:00    1.012612\n",
       "2016-02-29 12:15:00    1.011561\n",
       "2016-02-29 15:45:00    1.018392\n",
       "2016-03-01 10:00:00    0.996554\n",
       "2016-03-01 15:30:00    1.000636\n",
       "                         ...   \n",
       "2021-01-22 09:30:00    0.868111\n",
       "2021-01-22 11:30:00    0.866023\n",
       "2021-01-22 13:45:00    0.867841\n",
       "2021-01-22 14:30:00    0.869140\n",
       "2021-01-22 15:45:00    0.868360\n",
       "Name: Strategy Returns, Length: 3507, dtype: float64"
      ]
     },
     "metadata": {},
     "output_type": "display_data"
    },
    {
     "name": "stdout",
     "output_type": "stream",
     "text": [
      "Short: 95; Long 255\n"
     ]
    },
    {
     "data": {
      "text/plain": [
       "date\n",
       "2016-02-29 11:30:00    1.012612\n",
       "2016-02-29 12:15:00    1.011561\n",
       "2016-02-29 15:45:00    1.018392\n",
       "2016-03-01 10:00:00    0.996554\n",
       "2016-03-01 15:30:00    1.000636\n",
       "                         ...   \n",
       "2021-01-22 09:30:00    0.868111\n",
       "2021-01-22 11:30:00    0.866023\n",
       "2021-01-22 13:45:00    0.867841\n",
       "2021-01-22 14:30:00    0.869140\n",
       "2021-01-22 15:45:00    0.868360\n",
       "Name: Strategy Returns, Length: 3507, dtype: float64"
      ]
     },
     "metadata": {},
     "output_type": "display_data"
    },
    {
     "name": "stdout",
     "output_type": "stream",
     "text": [
      "Short: 100; Long 150\n"
     ]
    },
    {
     "data": {
      "text/plain": [
       "date\n",
       "2016-02-29 11:30:00    1.012612\n",
       "2016-02-29 12:15:00    1.011561\n",
       "2016-02-29 15:45:00    1.018392\n",
       "2016-03-01 10:00:00    0.996554\n",
       "2016-03-01 15:30:00    1.000636\n",
       "                         ...   \n",
       "2021-01-22 09:30:00    0.868111\n",
       "2021-01-22 11:30:00    0.866023\n",
       "2021-01-22 13:45:00    0.867841\n",
       "2021-01-22 14:30:00    0.869140\n",
       "2021-01-22 15:45:00    0.868360\n",
       "Name: Strategy Returns, Length: 3507, dtype: float64"
      ]
     },
     "metadata": {},
     "output_type": "display_data"
    },
    {
     "name": "stdout",
     "output_type": "stream",
     "text": [
      "Short: 100; Long 160\n"
     ]
    },
    {
     "data": {
      "text/plain": [
       "date\n",
       "2016-02-29 11:30:00    1.012612\n",
       "2016-02-29 12:15:00    1.011561\n",
       "2016-02-29 15:45:00    1.018392\n",
       "2016-03-01 10:00:00    0.996554\n",
       "2016-03-01 15:30:00    1.000636\n",
       "                         ...   \n",
       "2021-01-22 09:30:00    0.868111\n",
       "2021-01-22 11:30:00    0.866023\n",
       "2021-01-22 13:45:00    0.867841\n",
       "2021-01-22 14:30:00    0.869140\n",
       "2021-01-22 15:45:00    0.868360\n",
       "Name: Strategy Returns, Length: 3507, dtype: float64"
      ]
     },
     "metadata": {},
     "output_type": "display_data"
    },
    {
     "name": "stdout",
     "output_type": "stream",
     "text": [
      "Short: 100; Long 170\n"
     ]
    },
    {
     "data": {
      "text/plain": [
       "date\n",
       "2016-02-29 11:30:00    1.012612\n",
       "2016-02-29 12:15:00    1.011561\n",
       "2016-02-29 15:45:00    1.018392\n",
       "2016-03-01 10:00:00    0.996554\n",
       "2016-03-01 15:30:00    1.000636\n",
       "                         ...   \n",
       "2021-01-22 09:30:00    0.868111\n",
       "2021-01-22 11:30:00    0.866023\n",
       "2021-01-22 13:45:00    0.867841\n",
       "2021-01-22 14:30:00    0.869140\n",
       "2021-01-22 15:45:00    0.868360\n",
       "Name: Strategy Returns, Length: 3507, dtype: float64"
      ]
     },
     "metadata": {},
     "output_type": "display_data"
    },
    {
     "name": "stdout",
     "output_type": "stream",
     "text": [
      "Short: 100; Long 180\n"
     ]
    },
    {
     "data": {
      "text/plain": [
       "date\n",
       "2016-02-29 11:30:00    1.012612\n",
       "2016-02-29 12:15:00    1.011561\n",
       "2016-02-29 15:45:00    1.018392\n",
       "2016-03-01 10:00:00    0.996554\n",
       "2016-03-01 15:30:00    1.000636\n",
       "                         ...   \n",
       "2021-01-22 09:30:00    0.868111\n",
       "2021-01-22 11:30:00    0.866023\n",
       "2021-01-22 13:45:00    0.867841\n",
       "2021-01-22 14:30:00    0.869140\n",
       "2021-01-22 15:45:00    0.868360\n",
       "Name: Strategy Returns, Length: 3507, dtype: float64"
      ]
     },
     "metadata": {},
     "output_type": "display_data"
    },
    {
     "name": "stdout",
     "output_type": "stream",
     "text": [
      "Short: 100; Long 190\n"
     ]
    },
    {
     "data": {
      "text/plain": [
       "date\n",
       "2016-02-29 11:30:00    1.012612\n",
       "2016-02-29 12:15:00    1.011561\n",
       "2016-02-29 15:45:00    1.018392\n",
       "2016-03-01 10:00:00    0.996554\n",
       "2016-03-01 15:30:00    1.000636\n",
       "                         ...   \n",
       "2021-01-22 09:30:00    0.868111\n",
       "2021-01-22 11:30:00    0.866023\n",
       "2021-01-22 13:45:00    0.867841\n",
       "2021-01-22 14:30:00    0.869140\n",
       "2021-01-22 15:45:00    0.868360\n",
       "Name: Strategy Returns, Length: 3507, dtype: float64"
      ]
     },
     "metadata": {},
     "output_type": "display_data"
    },
    {
     "name": "stdout",
     "output_type": "stream",
     "text": [
      "Short: 100; Long 200\n"
     ]
    },
    {
     "data": {
      "text/plain": [
       "date\n",
       "2016-02-29 11:30:00    1.012612\n",
       "2016-02-29 12:15:00    1.011561\n",
       "2016-02-29 15:45:00    1.018392\n",
       "2016-03-01 10:00:00    0.996554\n",
       "2016-03-01 15:30:00    1.000636\n",
       "                         ...   \n",
       "2021-01-22 09:30:00    0.868111\n",
       "2021-01-22 11:30:00    0.866023\n",
       "2021-01-22 13:45:00    0.867841\n",
       "2021-01-22 14:30:00    0.869140\n",
       "2021-01-22 15:45:00    0.868360\n",
       "Name: Strategy Returns, Length: 3507, dtype: float64"
      ]
     },
     "metadata": {},
     "output_type": "display_data"
    },
    {
     "name": "stdout",
     "output_type": "stream",
     "text": [
      "Short: 100; Long 210\n"
     ]
    },
    {
     "data": {
      "text/plain": [
       "date\n",
       "2016-02-29 11:30:00    1.012612\n",
       "2016-02-29 12:15:00    1.011561\n",
       "2016-02-29 15:45:00    1.018392\n",
       "2016-03-01 10:00:00    0.996554\n",
       "2016-03-01 15:30:00    1.000636\n",
       "                         ...   \n",
       "2021-01-22 09:30:00    0.868111\n",
       "2021-01-22 11:30:00    0.866023\n",
       "2021-01-22 13:45:00    0.867841\n",
       "2021-01-22 14:30:00    0.869140\n",
       "2021-01-22 15:45:00    0.868360\n",
       "Name: Strategy Returns, Length: 3507, dtype: float64"
      ]
     },
     "metadata": {},
     "output_type": "display_data"
    },
    {
     "name": "stdout",
     "output_type": "stream",
     "text": [
      "Short: 100; Long 220\n"
     ]
    },
    {
     "data": {
      "text/plain": [
       "date\n",
       "2016-02-29 11:30:00    1.012612\n",
       "2016-02-29 12:15:00    1.011561\n",
       "2016-02-29 15:45:00    1.018392\n",
       "2016-03-01 10:00:00    0.996554\n",
       "2016-03-01 15:30:00    1.000636\n",
       "                         ...   \n",
       "2021-01-22 09:30:00    0.868111\n",
       "2021-01-22 11:30:00    0.866023\n",
       "2021-01-22 13:45:00    0.867841\n",
       "2021-01-22 14:30:00    0.869140\n",
       "2021-01-22 15:45:00    0.868360\n",
       "Name: Strategy Returns, Length: 3507, dtype: float64"
      ]
     },
     "metadata": {},
     "output_type": "display_data"
    },
    {
     "name": "stdout",
     "output_type": "stream",
     "text": [
      "Short: 100; Long 230\n"
     ]
    },
    {
     "data": {
      "text/plain": [
       "date\n",
       "2016-02-29 11:30:00    1.012612\n",
       "2016-02-29 12:15:00    1.011561\n",
       "2016-02-29 15:45:00    1.018392\n",
       "2016-03-01 10:00:00    0.996554\n",
       "2016-03-01 15:30:00    1.000636\n",
       "                         ...   \n",
       "2021-01-22 09:30:00    0.868111\n",
       "2021-01-22 11:30:00    0.866023\n",
       "2021-01-22 13:45:00    0.867841\n",
       "2021-01-22 14:30:00    0.869140\n",
       "2021-01-22 15:45:00    0.868360\n",
       "Name: Strategy Returns, Length: 3507, dtype: float64"
      ]
     },
     "metadata": {},
     "output_type": "display_data"
    },
    {
     "name": "stdout",
     "output_type": "stream",
     "text": [
      "Short: 100; Long 240\n"
     ]
    },
    {
     "data": {
      "text/plain": [
       "date\n",
       "2016-02-29 11:30:00    1.012612\n",
       "2016-02-29 12:15:00    1.011561\n",
       "2016-02-29 15:45:00    1.018392\n",
       "2016-03-01 10:00:00    0.996554\n",
       "2016-03-01 15:30:00    1.000636\n",
       "                         ...   \n",
       "2021-01-22 09:30:00    0.868111\n",
       "2021-01-22 11:30:00    0.866023\n",
       "2021-01-22 13:45:00    0.867841\n",
       "2021-01-22 14:30:00    0.869140\n",
       "2021-01-22 15:45:00    0.868360\n",
       "Name: Strategy Returns, Length: 3507, dtype: float64"
      ]
     },
     "metadata": {},
     "output_type": "display_data"
    },
    {
     "name": "stdout",
     "output_type": "stream",
     "text": [
      "Short: 100; Long 250\n"
     ]
    },
    {
     "data": {
      "text/plain": [
       "date\n",
       "2016-02-29 11:30:00    1.012612\n",
       "2016-02-29 12:15:00    1.011561\n",
       "2016-02-29 15:45:00    1.018392\n",
       "2016-03-01 10:00:00    0.996554\n",
       "2016-03-01 15:30:00    1.000636\n",
       "                         ...   \n",
       "2021-01-22 09:30:00    0.868111\n",
       "2021-01-22 11:30:00    0.866023\n",
       "2021-01-22 13:45:00    0.867841\n",
       "2021-01-22 14:30:00    0.869140\n",
       "2021-01-22 15:45:00    0.868360\n",
       "Name: Strategy Returns, Length: 3507, dtype: float64"
      ]
     },
     "metadata": {},
     "output_type": "display_data"
    },
    {
     "name": "stdout",
     "output_type": "stream",
     "text": [
      "Short: 100; Long 260\n"
     ]
    },
    {
     "data": {
      "text/plain": [
       "date\n",
       "2016-02-29 11:30:00    1.012612\n",
       "2016-02-29 12:15:00    1.011561\n",
       "2016-02-29 15:45:00    1.018392\n",
       "2016-03-01 10:00:00    0.996554\n",
       "2016-03-01 15:30:00    1.000636\n",
       "                         ...   \n",
       "2021-01-22 09:30:00    0.868111\n",
       "2021-01-22 11:30:00    0.866023\n",
       "2021-01-22 13:45:00    0.867841\n",
       "2021-01-22 14:30:00    0.869140\n",
       "2021-01-22 15:45:00    0.868360\n",
       "Name: Strategy Returns, Length: 3507, dtype: float64"
      ]
     },
     "metadata": {},
     "output_type": "display_data"
    },
    {
     "data": {
      "text/html": [
       "<div>\n",
       "<style scoped>\n",
       "    .dataframe tbody tr th:only-of-type {\n",
       "        vertical-align: middle;\n",
       "    }\n",
       "\n",
       "    .dataframe tbody tr th {\n",
       "        vertical-align: top;\n",
       "    }\n",
       "\n",
       "    .dataframe thead th {\n",
       "        text-align: right;\n",
       "    }\n",
       "</style>\n",
       "<table border=\"1\" class=\"dataframe\">\n",
       "  <thead>\n",
       "    <tr style=\"text-align: right;\">\n",
       "      <th></th>\n",
       "      <th>short_window</th>\n",
       "      <th>long_window</th>\n",
       "      <th>strategy_return</th>\n",
       "      <th>tp</th>\n",
       "    </tr>\n",
       "  </thead>\n",
       "  <tbody>\n",
       "    <tr>\n",
       "      <th>0</th>\n",
       "      <td>5</td>\n",
       "      <td>100</td>\n",
       "      <td>0.86836</td>\n",
       "      <td>1</td>\n",
       "    </tr>\n",
       "    <tr>\n",
       "      <th>1</th>\n",
       "      <td>5</td>\n",
       "      <td>110</td>\n",
       "      <td>0.86836</td>\n",
       "      <td>2</td>\n",
       "    </tr>\n",
       "    <tr>\n",
       "      <th>2</th>\n",
       "      <td>5</td>\n",
       "      <td>120</td>\n",
       "      <td>0.86836</td>\n",
       "      <td>3</td>\n",
       "    </tr>\n",
       "    <tr>\n",
       "      <th>3</th>\n",
       "      <td>5</td>\n",
       "      <td>130</td>\n",
       "      <td>0.86836</td>\n",
       "      <td>4</td>\n",
       "    </tr>\n",
       "    <tr>\n",
       "      <th>4</th>\n",
       "      <td>5</td>\n",
       "      <td>140</td>\n",
       "      <td>0.86836</td>\n",
       "      <td>5</td>\n",
       "    </tr>\n",
       "    <tr>\n",
       "      <th>...</th>\n",
       "      <td>...</td>\n",
       "      <td>...</td>\n",
       "      <td>...</td>\n",
       "      <td>...</td>\n",
       "    </tr>\n",
       "    <tr>\n",
       "      <th>305</th>\n",
       "      <td>100</td>\n",
       "      <td>220</td>\n",
       "      <td>0.86836</td>\n",
       "      <td>306</td>\n",
       "    </tr>\n",
       "    <tr>\n",
       "      <th>306</th>\n",
       "      <td>100</td>\n",
       "      <td>230</td>\n",
       "      <td>0.86836</td>\n",
       "      <td>307</td>\n",
       "    </tr>\n",
       "    <tr>\n",
       "      <th>307</th>\n",
       "      <td>100</td>\n",
       "      <td>240</td>\n",
       "      <td>0.86836</td>\n",
       "      <td>308</td>\n",
       "    </tr>\n",
       "    <tr>\n",
       "      <th>308</th>\n",
       "      <td>100</td>\n",
       "      <td>250</td>\n",
       "      <td>0.86836</td>\n",
       "      <td>309</td>\n",
       "    </tr>\n",
       "    <tr>\n",
       "      <th>309</th>\n",
       "      <td>100</td>\n",
       "      <td>260</td>\n",
       "      <td>0.86836</td>\n",
       "      <td>310</td>\n",
       "    </tr>\n",
       "  </tbody>\n",
       "</table>\n",
       "<p>310 rows × 4 columns</p>\n",
       "</div>"
      ],
      "text/plain": [
       "     short_window  long_window  strategy_return   tp\n",
       "0               5          100          0.86836    1\n",
       "1               5          110          0.86836    2\n",
       "2               5          120          0.86836    3\n",
       "3               5          130          0.86836    4\n",
       "4               5          140          0.86836    5\n",
       "..            ...          ...              ...  ...\n",
       "305           100          220          0.86836  306\n",
       "306           100          230          0.86836  307\n",
       "307           100          240          0.86836  308\n",
       "308           100          250          0.86836  309\n",
       "309           100          260          0.86836  310\n",
       "\n",
       "[310 rows x 4 columns]"
      ]
     },
     "execution_count": 79,
     "metadata": {},
     "output_type": "execute_result"
    }
   ],
   "source": [
    "# Set the short window and long window\n",
    "#short_window = 4\n",
    "#long_window = 100\n",
    "\n",
    "# Initialize lists \n",
    "list_loop_index = []\n",
    "list_short_window = []\n",
    "list_long_window = [] \n",
    "list_strategy_return = []\n",
    "list_training_end = []\n",
    "list_test_length = []\n",
    "list_svm_testing_report = []\n",
    "\n",
    "loop_index = 0\n",
    "\n",
    "for short_window in range (5, 101, 5):                        # Vary short_window from 5 to 100 by 5\n",
    "    # Filter the date index and close columns\n",
    "    signals_df_2 = ohlcv_df.loc[:, [\"close\"]]\n",
    "\n",
    "    # Use the pct_change function to generate returns from close prices\n",
    "    signals_df_2[\"Actual Returns\"] = signals_df_2[\"close\"].pct_change()\n",
    "\n",
    "    # Drop all NaN values from the DataFrame\n",
    "    signals_df_2 = signals_df_2.dropna()\n",
    "        \n",
    "    long_start = max(short_window + 50, 100)                  # Ensure a minimum gap of 50 between short_window and long_window\n",
    "    \n",
    "    for long_window in range (long_start, 261, 10):           # Vary long_window from 100 to 260 (aprox 1 year)\n",
    "        print(f'Short: {short_window}; Long {long_window}')\n",
    "        \n",
    "        loop_index += 1\n",
    "        list_loop_index.append(loop_index)\n",
    "        \n",
    "        list_short_window.append(short_window)\n",
    "        list_long_window.append(long_window)\n",
    "\n",
    "        # Generate the fast and slow simple moving averages (4 and 100 days, respectively)\n",
    "        signals_df_2['SMA_Fast'] = signals_df_2['close'].rolling(window=short_window).mean()\n",
    "        signals_df_2['SMA_Slow'] = signals_df_2['close'].rolling(window=long_window).mean()\n",
    "\n",
    "        signals_df_2 = signals_df_2.dropna()\n",
    "        \n",
    "        # Review the DataFrame\n",
    "        #display(signals_df.head())\n",
    "        #display(signals_df.tail())\n",
    "\n",
    "        # Initialize the new Signal column\n",
    "        signals_df_2['Signal'] = 0.0\n",
    "\n",
    "        # When Actual Returns are greater than or equal to 0, generate signal to buy stock long\n",
    "        signals_df_2.loc[(signals_df_2['Actual Returns'] >= 0), 'Signal'] = 1\n",
    "\n",
    "        # When Actual Returns are less than 0, generate signal to sell stock short\n",
    "        signals_df_2.loc[(signals_df_2['Actual Returns'] < 0), 'Signal'] = -1\n",
    "\n",
    "        # Review the DataFrame\n",
    "        #display(signals_df_2.head())\n",
    "        #display(signals_df_2.tail())\n",
    "        \n",
    "        # Calculate the points in time at which a position should be taken, 1 or -1\n",
    "        signals_df_2['Entry/Exit'] = signals_df_2['Signal'].diff()\n",
    "        \n",
    "        # Calculate the strategy returns and add them to the signals_df DataFrame\n",
    "        signals_df_2['Strategy Returns'] = signals_df_2['Actual Returns'] * signals_df_2['Signal'].shift()\n",
    "\n",
    "        # Review the DataFrame\n",
    "        #display(signals_df_2.head())\n",
    "        #display(signals_df_2.tail())\n",
    "        #display(signals_df_2[-1:])\n",
    "        \n",
    "        # Plot Strategy Returns to examine performance\n",
    "        strategy_return = ((1 + signals_df['Strategy Returns']).cumprod())\n",
    "        display(strategy_return)\n",
    "        list_strategy_return.append(strategy_return[-1])\n",
    "        \n",
    "        #del X_train, y_train, X_scaler, X_train_scaled, X_test_scaled, svm_model, svm_pred, svm_testing_report, accuracy_score_test\n",
    "\n",
    "        # Store the model results in a data frame\n",
    "df_results_2 = pd.DataFrame({'short_window'        : list_short_window, \n",
    "                                     'long_window'         : list_long_window, \n",
    "                                     'strategy_return'     : list_strategy_return[-1],\n",
    "                                     #'test_length'         : list_test_length,\n",
    "                                     #'svm_testing_report'  : list_svm_testing_report,\n",
    "                                     #'accuracy_score_test' : list_accuracy_test,\n",
    "                                     #'tn'                  : list_tn,\n",
    "                                     #'fp'                  : list_fp,\n",
    "                                     #'fn'                  : list_fn, \n",
    "                                     'tp'                  : list_loop_index \n",
    "                                     })\n",
    "        \n",
    "        \n",
    "df_results_2        \n",
    "        \n",
    "\n"
   ]
  },
  {
   "cell_type": "code",
   "execution_count": null,
   "metadata": {},
   "outputs": [],
   "source": [
    "# Tune based on Training Time Frame\n",
    "\n",
    "# Initialize lists \n",
    "list_training_months = []\n",
    "list_accuracy_test = [] \n",
    "list_training_begin = []\n",
    "list_training_end = []\n",
    "list_test_length = []\n",
    "list_svm_testing_report = []\n",
    "list_tn = [] \n",
    "list_fp = [] \n",
    "list_fn = [] \n",
    "list_tp = []\n",
    "\n",
    "  \n",
    "for training_months in range(1,25):\n",
    "    list_training_months.append(training_months)\n",
    "    \n",
    "    # Select the start of the training period\n",
    "    training_begin = X.index.min()\n",
    "    list_training_begin.append(training_begin)\n",
    "    \n",
    "    # Select the ending period for the training data with an offset of 3 months\n",
    "    training_end = X.index.min() + DateOffset(months=training_months)\n",
    "    list_training_end.append(training_end)\n",
    "    \n",
    "    # Generate the X_train and y_train DataFrames\n",
    "    X_train = X.loc[training_begin:training_end]\n",
    "    y_train = y.loc[training_begin:training_end]\n",
    "    \n",
    "    # Generate the X_test and y_test DataFrames\n",
    "    X_test = X.loc[training_end + DateOffset(hours=1) : ]\n",
    "    y_test = y.loc[training_end + DateOffset(hours=1) : ]\n",
    "    list_test_length.append(X_test.shape)\n",
    "    \n",
    "    # Apply the scaler model to fit the X-train data\n",
    "    X_scaler = scaler.fit(X_train)\n",
    "\n",
    "    # Transform the X_train and X_test DataFrames using the X_scaler\n",
    "    X_train_scaled = X_scaler.transform(X_train)\n",
    "    X_test_scaled = X_scaler.transform(X_test)\n",
    "    \n",
    "    # From SVM, instantiate SVC classifier model instance\n",
    "    svm_model = svm.SVC()\n",
    "    \n",
    "    # Fit the model to the data using the training data\n",
    "    svm_model = svm_model.fit(X_train_scaled, y_train)\n",
    " \n",
    "    # Use the testing data to make the model predictions\n",
    "    svm_pred = svm_model.predict(X_test_scaled)\n",
    "    \n",
    "    # Use a classification report to evaluate the model using the predictions and testing data\n",
    "    svm_testing_report = classification_report(y_test, svm_pred, zero_division = 1)\n",
    "    list_svm_testing_report.append(svm_testing_report)\n",
    "    \n",
    "    accuracy_score_test = accuracy_score(y_test, svm_pred)\n",
    "    list_accuracy_test.append(accuracy_score_test)\n",
    "    \n",
    "    \n",
    "    tn, fp, fn, tp = confusion_matrix(y_test, svm_pred).ravel()\n",
    "    list_tn.append(tn)\n",
    "    list_fp.append(fp)\n",
    "    list_fn.append(fn)\n",
    "    list_tp.append(tp)\n",
    "    \n",
    "    del X_train, y_train, X_scaler, X_train_scaled, X_test_scaled, svm_model, svm_pred, svm_testing_report, accuracy_score_test\n",
    "\n",
    "    # Store the model results in a data frame\n",
    "df_results = pd.DataFrame({'training_months'    : list_training_months, \n",
    "                          'training_begin'      : list_training_begin, \n",
    "                          'training_end'        : list_training_end,\n",
    "                          'test_length'         : list_test_length,\n",
    "                          'svm_testing_report'  : list_svm_testing_report,\n",
    "                          'accuracy_score_test' : list_accuracy_test,\n",
    "                          'tn' : list_tn,\n",
    "                          'fp' : list_fp,\n",
    "                          'fn' : list_fn, \n",
    "                          'tp' : list_tp \n",
    "                          })\n",
    "\n",
    "df_results = df_results.reset_index()  # make sure indexes pair with number of rows\n",
    "\n",
    "del list_training_months, list_training_begin, list_training_end, list_svm_testing_report, list_test_length, list_accuracy_test\n",
    "del list_tn, list_fp, list_fn, list_tp\n",
    "\n",
    "# Review the DataFrame\n",
    "rows = 3\n",
    "display(df_results.head(rows))\n",
    "display(df_results.tail(rows))"
   ]
  },
  {
   "cell_type": "markdown",
   "metadata": {},
   "source": [
    "### Step 3: Choose the set of parameters that best improved the trading algorithm returns. \n",
    "\n",
    "Save a PNG image of the cumulative product of the actual returns vs. the strategy returns, and document your conclusion in your `README.md` file."
   ]
  },
  {
   "cell_type": "code",
   "execution_count": null,
   "metadata": {},
   "outputs": [],
   "source": []
  },
  {
   "cell_type": "markdown",
   "metadata": {},
   "source": [
    "---\n",
    "\n",
    "## Evaluate a New Machine Learning Classifier\n",
    "\n",
    "In this section, you’ll use the original parameters that the starter code provided. But, you’ll apply them to the performance of a second machine learning model. "
   ]
  },
  {
   "cell_type": "markdown",
   "metadata": {},
   "source": [
    "### Step 1:  Import a new classifier, such as `AdaBoost`, `DecisionTreeClassifier`, or `LogisticRegression`. (For the full list of classifiers, refer to the [Supervised learning page](https://scikit-learn.org/stable/supervised_learning.html) in the scikit-learn documentation.)"
   ]
  },
  {
   "cell_type": "code",
   "execution_count": 20,
   "metadata": {},
   "outputs": [],
   "source": [
    "# Import a new classifier from SKLearn\n",
    "from sklearn import tree\n",
    "\n",
    "# Initiate the model instance\n",
    "dtc_model = tree.DecisionTreeClassifier()\n"
   ]
  },
  {
   "cell_type": "markdown",
   "metadata": {},
   "source": [
    "### Step 2: Using the original training data as the baseline model, fit another model with the new classifier."
   ]
  },
  {
   "cell_type": "code",
   "execution_count": 21,
   "metadata": {},
   "outputs": [
    {
     "data": {
      "text/plain": [
       "array([ 1., -1., -1., -1., -1., -1., -1., -1., -1., -1.])"
      ]
     },
     "execution_count": 21,
     "metadata": {},
     "output_type": "execute_result"
    }
   ],
   "source": [
    "# Fit the model using the training data\n",
    "dtc_model = dtc_model.fit(X_train_scaled, y_train)\n",
    "\n",
    "# Use the testing dataset to generate the predictions for the new model\n",
    "dtc_model_pred = dtc_model.predict(X_test_scaled)\n",
    "#dtc_model_pred[dtc_model_pred == -1] = 0\n",
    "\n",
    "# Review the model's predicted values\n",
    "dtc_model_pred[:10]\n"
   ]
  },
  {
   "cell_type": "markdown",
   "metadata": {},
   "source": [
    "### Step 3: Backtest the new model to evaluate its performance. \n",
    "\n",
    "Save a PNG image of the cumulative product of the actual returns vs. the strategy returns for this updated trading algorithm, and write your conclusions in your `README.md` file. \n",
    "\n",
    "Answer the following questions: \n",
    "Did this new model perform better or worse than the provided baseline model? \n",
    "Did this new model perform better or worse than your tuned trading algorithm?"
   ]
  },
  {
   "cell_type": "code",
   "execution_count": 22,
   "metadata": {},
   "outputs": [
    {
     "name": "stdout",
     "output_type": "stream",
     "text": [
      "              precision    recall  f1-score   support\n",
      "\n",
      "        -1.0       0.44      0.89      0.59      1804\n",
      "         1.0       0.55      0.10      0.17      2288\n",
      "\n",
      "    accuracy                           0.45      4092\n",
      "   macro avg       0.49      0.50      0.38      4092\n",
      "weighted avg       0.50      0.45      0.36      4092\n",
      "\n"
     ]
    }
   ],
   "source": [
    "# Use a classification report to evaluate the model using the predictions and testing data\n",
    "training_report_dtc = classification_report(y_test, dtc_model_pred)\n",
    "\n",
    "# Print the classification report\n",
    "print(training_report_dtc)\n"
   ]
  },
  {
   "cell_type": "code",
   "execution_count": 54,
   "metadata": {},
   "outputs": [
    {
     "name": "stdout",
     "output_type": "stream",
     "text": [
      "Decision Tree Classifier Predictions Count: \n",
      "-1.0    3666\n",
      " 1.0     426\n",
      "Name: dtc_predictions, dtype: int64\n"
     ]
    },
    {
     "data": {
      "text/html": [
       "<div>\n",
       "<style scoped>\n",
       "    .dataframe tbody tr th:only-of-type {\n",
       "        vertical-align: middle;\n",
       "    }\n",
       "\n",
       "    .dataframe tbody tr th {\n",
       "        vertical-align: top;\n",
       "    }\n",
       "\n",
       "    .dataframe thead th {\n",
       "        text-align: right;\n",
       "    }\n",
       "</style>\n",
       "<table border=\"1\" class=\"dataframe\">\n",
       "  <thead>\n",
       "    <tr style=\"text-align: right;\">\n",
       "      <th></th>\n",
       "      <th>svm_Returns</th>\n",
       "      <th>Actual_Returns</th>\n",
       "      <th>dtc_predictions</th>\n",
       "      <th>dtc_Returns</th>\n",
       "    </tr>\n",
       "    <tr>\n",
       "      <th>date</th>\n",
       "      <th></th>\n",
       "      <th></th>\n",
       "      <th></th>\n",
       "      <th></th>\n",
       "    </tr>\n",
       "  </thead>\n",
       "  <tbody>\n",
       "    <tr>\n",
       "      <th>2015-07-06 10:00:00</th>\n",
       "      <td>-0.025715</td>\n",
       "      <td>-0.025715</td>\n",
       "      <td>1.0</td>\n",
       "      <td>-0.025715</td>\n",
       "    </tr>\n",
       "    <tr>\n",
       "      <th>2015-07-06 10:45:00</th>\n",
       "      <td>0.007237</td>\n",
       "      <td>0.007237</td>\n",
       "      <td>-1.0</td>\n",
       "      <td>-0.007237</td>\n",
       "    </tr>\n",
       "    <tr>\n",
       "      <th>2015-07-06 14:15:00</th>\n",
       "      <td>-0.009721</td>\n",
       "      <td>-0.009721</td>\n",
       "      <td>-1.0</td>\n",
       "      <td>0.009721</td>\n",
       "    </tr>\n",
       "    <tr>\n",
       "      <th>2015-07-06 14:30:00</th>\n",
       "      <td>-0.003841</td>\n",
       "      <td>-0.003841</td>\n",
       "      <td>-1.0</td>\n",
       "      <td>0.003841</td>\n",
       "    </tr>\n",
       "    <tr>\n",
       "      <th>2015-07-07 11:30:00</th>\n",
       "      <td>-0.018423</td>\n",
       "      <td>-0.018423</td>\n",
       "      <td>-1.0</td>\n",
       "      <td>0.018423</td>\n",
       "    </tr>\n",
       "  </tbody>\n",
       "</table>\n",
       "</div>"
      ],
      "text/plain": [
       "                     svm_Returns  Actual_Returns  dtc_predictions  dtc_Returns\n",
       "date                                                                          \n",
       "2015-07-06 10:00:00    -0.025715       -0.025715              1.0    -0.025715\n",
       "2015-07-06 10:45:00     0.007237        0.007237             -1.0    -0.007237\n",
       "2015-07-06 14:15:00    -0.009721       -0.009721             -1.0     0.009721\n",
       "2015-07-06 14:30:00    -0.003841       -0.003841             -1.0     0.003841\n",
       "2015-07-07 11:30:00    -0.018423       -0.018423             -1.0     0.018423"
      ]
     },
     "metadata": {},
     "output_type": "display_data"
    },
    {
     "data": {
      "text/html": [
       "<div>\n",
       "<style scoped>\n",
       "    .dataframe tbody tr th:only-of-type {\n",
       "        vertical-align: middle;\n",
       "    }\n",
       "\n",
       "    .dataframe tbody tr th {\n",
       "        vertical-align: top;\n",
       "    }\n",
       "\n",
       "    .dataframe thead th {\n",
       "        text-align: right;\n",
       "    }\n",
       "</style>\n",
       "<table border=\"1\" class=\"dataframe\">\n",
       "  <thead>\n",
       "    <tr style=\"text-align: right;\">\n",
       "      <th></th>\n",
       "      <th>svm_Returns</th>\n",
       "      <th>Actual_Returns</th>\n",
       "      <th>dtc_predictions</th>\n",
       "      <th>dtc_Returns</th>\n",
       "    </tr>\n",
       "    <tr>\n",
       "      <th>date</th>\n",
       "      <th></th>\n",
       "      <th></th>\n",
       "      <th></th>\n",
       "      <th></th>\n",
       "    </tr>\n",
       "  </thead>\n",
       "  <tbody>\n",
       "    <tr>\n",
       "      <th>2021-01-22 09:30:00</th>\n",
       "      <td>-0.006866</td>\n",
       "      <td>-0.006866</td>\n",
       "      <td>-1.0</td>\n",
       "      <td>0.006866</td>\n",
       "    </tr>\n",
       "    <tr>\n",
       "      <th>2021-01-22 11:30:00</th>\n",
       "      <td>0.002405</td>\n",
       "      <td>0.002405</td>\n",
       "      <td>-1.0</td>\n",
       "      <td>-0.002405</td>\n",
       "    </tr>\n",
       "    <tr>\n",
       "      <th>2021-01-22 13:45:00</th>\n",
       "      <td>0.002099</td>\n",
       "      <td>0.002099</td>\n",
       "      <td>-1.0</td>\n",
       "      <td>-0.002099</td>\n",
       "    </tr>\n",
       "    <tr>\n",
       "      <th>2021-01-22 14:30:00</th>\n",
       "      <td>0.001496</td>\n",
       "      <td>0.001496</td>\n",
       "      <td>-1.0</td>\n",
       "      <td>-0.001496</td>\n",
       "    </tr>\n",
       "    <tr>\n",
       "      <th>2021-01-22 15:45:00</th>\n",
       "      <td>-0.000896</td>\n",
       "      <td>-0.000896</td>\n",
       "      <td>-1.0</td>\n",
       "      <td>0.000896</td>\n",
       "    </tr>\n",
       "  </tbody>\n",
       "</table>\n",
       "</div>"
      ],
      "text/plain": [
       "                     svm_Returns  Actual_Returns  dtc_predictions  dtc_Returns\n",
       "date                                                                          \n",
       "2021-01-22 09:30:00    -0.006866       -0.006866             -1.0     0.006866\n",
       "2021-01-22 11:30:00     0.002405        0.002405             -1.0    -0.002405\n",
       "2021-01-22 13:45:00     0.002099        0.002099             -1.0    -0.002099\n",
       "2021-01-22 14:30:00     0.001496        0.001496             -1.0    -0.001496\n",
       "2021-01-22 15:45:00    -0.000896       -0.000896             -1.0     0.000896"
      ]
     },
     "metadata": {},
     "output_type": "display_data"
    }
   ],
   "source": [
    "# Create a new empty predictions DataFrame:\n",
    "\n",
    "# Create a predictions DataFrame\n",
    "predictions_df_2 = pd.DataFrame(index=X_test.index)\n",
    "\n",
    "# Add the SVM model predictions to the DataFrame\n",
    "predictions_df_2['svm_Returns'] = predictions_df['Strategy_Returns']\n",
    "\n",
    "# Add the actual returns to the DataFrame\n",
    "predictions_df_2['Actual_Returns'] = predictions_df[\"Actual_Returns\"]\n",
    "\n",
    "# Add the strategy returns to the DataFrame\n",
    "predictions_df_2['dtc_predictions'] = dtc_model_pred\n",
    "print(f'Decision Tree Classifier Predictions Count: \\n{predictions_df_2[\"dtc_predictions\"].value_counts()}')\n",
    "predictions_df_2['dtc_Returns'] = predictions_df_2[\"Actual_Returns\"] * predictions_df_2[\"dtc_predictions\"] \n",
    "\n",
    "# Review the DataFrame\n",
    "display(predictions_df_2.head())\n",
    "display(predictions_df_2.tail())\n"
   ]
  },
  {
   "cell_type": "code",
   "execution_count": 55,
   "metadata": {},
   "outputs": [
    {
     "data": {
      "text/plain": [
       "<AxesSubplot:xlabel='date'>"
      ]
     },
     "execution_count": 55,
     "metadata": {},
     "output_type": "execute_result"
    },
    {
     "data": {
      "image/png": "[encoded data removed]",
      "text/plain": [
       "<Figure size 640x480 with 1 Axes>"
      ]
     },
     "metadata": {},
     "output_type": "display_data"
    }
   ],
   "source": [
    "# Plot the actual returns versus the strategy returns\n",
    "(1 + predictions_df_2[[\"Actual_Returns\", \"svm_Returns\",\"dtc_Returns\"]]).cumprod().plot()"
   ]
  },
  {
   "cell_type": "code",
   "execution_count": null,
   "metadata": {},
   "outputs": [],
   "source": []
  }
 ],
 "metadata": {
  "kernelspec": {
   "display_name": "Python 3 (ipykernel)",
   "language": "python",
   "name": "python3"
  },
  "language_info": {
   "codemirror_mode": {
    "name": "ipython",
    "version": 3
   },
   "file_extension": ".py",
   "mimetype": "text/x-python",
   "name": "python",
   "nbconvert_exporter": "python",
   "pygments_lexer": "ipython3",
   "version": "3.8.3"
  }
 },
 "nbformat": 4,
 "nbformat_minor": 4
}
